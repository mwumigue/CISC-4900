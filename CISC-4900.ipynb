{
 "cells": [
  {
   "cell_type": "markdown",
   "metadata": {},
   "source": [
    "# CISC 4900 Project"
   ]
  },
  {
   "cell_type": "code",
   "execution_count": 173,
   "metadata": {},
   "outputs": [],
   "source": [
    "import pandas as pd\n",
    "import numpy as np\n",
    "from matplotlib import pyplot as plt\n",
    "import math"
   ]
  },
  {
   "cell_type": "code",
   "execution_count": 2,
   "metadata": {},
   "outputs": [],
   "source": [
    "import plotly.express as px\n",
    "import plotly.graph_objects as go\n",
    "import plotly.io as pio\n",
    "from plotly.subplots import make_subplots"
   ]
  },
  {
   "cell_type": "code",
   "execution_count": 3,
   "metadata": {},
   "outputs": [],
   "source": [
    "graph_template = go.layout.Template()\n",
    "graph_template.layout.plot_bgcolor = 'white'\n",
    "graph_template.layout.xaxis = dict(\n",
    "    gridcolor='lightgray'\n",
    ")\n",
    "graph_template.layout.yaxis = dict(\n",
    "    gridcolor='lightgray'\n",
    ")\n",
    "pio.templates[\"graph_template\"] = graph_template\n",
    "pio.templates.default = \"graph_template\"\n",
    "colors = ['#1f77b4', '#ff7f0e', '#2ca02c']\n",
    "colors2 = ['#636EFA', '#EF553B', '#00CC96', '#AB63FA', '#FFA15A', '#19D3F3']"
   ]
  },
  {
   "cell_type": "code",
   "execution_count": 4,
   "metadata": {},
   "outputs": [],
   "source": [
    "def set_line_fig_labels(fig, fig_title, x_ticks, x_title, y_title, legend=True):\n",
    "    fig.update_layout(\n",
    "        title=fig_title,\n",
    "        xaxis_title=x_title,\n",
    "        yaxis_title=y_title,\n",
    "        showlegend=legend,\n",
    "        xaxis=dict(\n",
    "            tickvals=x_ticks, \n",
    "            ticktext=x_ticks\n",
    "        )\n",
    "    )"
   ]
  },
  {
   "cell_type": "code",
   "execution_count": 5,
   "metadata": {},
   "outputs": [],
   "source": [
    "def set_bar_fig_labels(fig, fig_title, x_title, y_title, legend=True):\n",
    "    fig.update_layout(\n",
    "        title=fig_title,\n",
    "        xaxis_title=x_title,\n",
    "        yaxis_title=y_title,\n",
    "        showlegend=legend,\n",
    "    )"
   ]
  },
  {
   "cell_type": "code",
   "execution_count": 6,
   "metadata": {},
   "outputs": [],
   "source": [
    "def make_pattern(color, shape=\"/\"):\n",
    "    pattern=dict(\n",
    "            shape=shape,\n",
    "            fillmode=\"overlay\",\n",
    "            size=12,\n",
    "            fgcolor=\"black\",  \n",
    "            bgcolor=color\n",
    "        )\n",
    "    return pattern\n",
    "\n",
    "def make_border():\n",
    "    line=dict(\n",
    "        color=\"black\",\n",
    "        width=2\n",
    "    )\n",
    "    return line"
   ]
  },
  {
   "cell_type": "code",
   "execution_count": 7,
   "metadata": {},
   "outputs": [
    {
     "data": {
      "text/plain": [
       "dict_keys(['NOTES', 'All', 'ELL', 'Ever ELL', 'SWD', 'Ethnicity', 'Gender', 'Poverty'])"
      ]
     },
     "execution_count": 7,
     "metadata": {},
     "output_type": "execute_result"
    }
   ],
   "source": [
    "graduation_data = pd.read_excel(\"https://infohub.nyced.org/docs/default-source/default-document-library/2024-graduation-rates-public-school.xlsx\", sheet_name=None, engine=\"openpyxl\")\n",
    "graduation_data.keys()"
   ]
  },
  {
   "cell_type": "code",
   "execution_count": 8,
   "metadata": {},
   "outputs": [],
   "source": [
    "general_graduation = graduation_data['All']\n",
    "ell_graduation = graduation_data['Ever ELL']\n",
    "swd_graduation = graduation_data['SWD']\n",
    "ethnicity_graduation = graduation_data['Ethnicity']\n",
    "poverty_graduation = graduation_data['Poverty']"
   ]
  },
  {
   "cell_type": "code",
   "execution_count": 9,
   "metadata": {},
   "outputs": [
    {
     "name": "stdout",
     "output_type": "stream",
     "text": [
      "<class 'pandas.core.frame.DataFrame'>\n",
      "RangeIndex: 19901 entries, 0 to 19900\n",
      "Data columns (total 24 columns):\n",
      " #   Column                                Non-Null Count  Dtype \n",
      "---  ------                                --------------  ----- \n",
      " 0   DBN                                   19901 non-null  object\n",
      " 1   School Name                           19901 non-null  object\n",
      " 2   Category                              19901 non-null  object\n",
      " 3   Cohort Year                           19901 non-null  int64 \n",
      " 4   Cohort                                19901 non-null  object\n",
      " 5   # Total Cohort                        19901 non-null  int64 \n",
      " 6   # Grads                               19901 non-null  object\n",
      " 7   % Grads                               19901 non-null  object\n",
      " 8   # Total Regents                       19901 non-null  object\n",
      " 9   % Total Regents of Cohort             19901 non-null  object\n",
      " 10  % Total Regents of Grads              19865 non-null  object\n",
      " 11  # Advanced Regents                    19901 non-null  object\n",
      " 12  % Advanced Regents of Cohort          19901 non-null  object\n",
      " 13  % Advanced Regents of Grads           19865 non-null  object\n",
      " 14  # Regents without Advanced            19901 non-null  object\n",
      " 15  % Regents without Advanced of Cohort  19901 non-null  object\n",
      " 16  % Regents without Advanced of Grads   19865 non-null  object\n",
      " 17  # Local                               19901 non-null  object\n",
      " 18  % Local of Cohort                     19901 non-null  object\n",
      " 19  % Local of Grads                      19865 non-null  object\n",
      " 20  # Still Enrolled                      19901 non-null  object\n",
      " 21  % Still Enrolled                      19901 non-null  object\n",
      " 22  # Dropout                             19901 non-null  object\n",
      " 23  % Dropout                             19901 non-null  object\n",
      "dtypes: int64(2), object(22)\n",
      "memory usage: 3.6+ MB\n"
     ]
    }
   ],
   "source": [
    "general_graduation.info()"
   ]
  },
  {
   "cell_type": "code",
   "execution_count": 10,
   "metadata": {},
   "outputs": [],
   "source": [
    "def clean_df(df):\n",
    "    df['Graduation Year'] = df['Cohort Year'] + df['Cohort'].str[0].astype(int)\n",
    "    df['Graduation Month'] = df['Cohort'].str[7:]\n",
    "    df['Duration'] = df['Cohort'].str[0].astype(int)\n",
    "\n",
    "    num_columns = ['Cohort Year', '# Total Cohort', '# Grads', '% Grads', '# Total Regents', '% Total Regents of Cohort', '% Total Regents of Grads', '# Advanced Regents', '% Advanced Regents of Cohort', '% Advanced Regents of Grads', '# Regents without Advanced', '% Regents without Advanced of Cohort', '% Regents without Advanced of Grads', '# Local', '% Local of Cohort', '% Local of Grads', '# Still Enrolled', '% Still Enrolled', '# Dropout', '% Dropout']\n",
    "\n",
    "    for column in num_columns:\n",
    "        if column[0] == '%':\n",
    "            df = df.drop(column, axis=1)\n",
    "        else:\n",
    "            df[column] = df[column].replace('s', np.nan)\n",
    "            df[column] = pd.to_numeric(df[column], errors=\"coerce\")\n",
    "    \n",
    "    return df"
   ]
  },
  {
   "cell_type": "code",
   "execution_count": 11,
   "metadata": {},
   "outputs": [],
   "source": [
    "general_graduation = clean_df(general_graduation)\n",
    "ell_graduation = clean_df(ell_graduation)\n",
    "swd_graduation = clean_df(swd_graduation)\n",
    "poverty_graduation = clean_df(poverty_graduation)\n",
    "ethnicity_graduation = clean_df(ethnicity_graduation)"
   ]
  },
  {
   "cell_type": "code",
   "execution_count": 12,
   "metadata": {},
   "outputs": [],
   "source": [
    "general_graduation = general_graduation[general_graduation['Graduation Year'] > 2017]\n",
    "swd_graduation = swd_graduation[swd_graduation['Graduation Year'] > 2017]\n",
    "ethnicity_graduation = ethnicity_graduation[ethnicity_graduation['Graduation Year'] > 2017]\n",
    "ell_graduation = ell_graduation[ell_graduation['Graduation Year'] > 2017]\n",
    "poverty_graduation = poverty_graduation[poverty_graduation['Graduation Year'] > 2017]"
   ]
  },
  {
   "cell_type": "code",
   "execution_count": 13,
   "metadata": {},
   "outputs": [],
   "source": [
    "def filter_data(df, columns, cluster=False):\n",
    "    agg_dict = {}\n",
    "    for column in columns:\n",
    "        agg_dict[column] = 'max'\n",
    "    agg_dict.update({\n",
    "        '# Total Cohort' : 'first',\n",
    "        'Graduation Month' : 'first'\n",
    "    })\n",
    "    if cluster:\n",
    "        filtered_data = df.groupby(['School Name', 'Category', 'Graduation Year', 'Duration', 'Cluster']).agg(agg_dict).reset_index()\n",
    "    else:\n",
    "        filtered_data = df.groupby(['School Name', 'Category', 'Graduation Year', 'Duration']).agg(agg_dict).reset_index()\n",
    "\n",
    "    return filtered_data"
   ]
  },
  {
   "cell_type": "code",
   "execution_count": 14,
   "metadata": {},
   "outputs": [
    {
     "name": "stderr",
     "output_type": "stream",
     "text": [
      "/Users/mwumigue/.pyenv/versions/3.10.0/lib/python3.10/site-packages/openpyxl/worksheet/_reader.py:329: UserWarning: Data Validation extension is not supported and will be removed\n",
      "  warn(msg)\n"
     ]
    },
    {
     "data": {
      "text/plain": [
       "dict_keys(['Notes', 'All Students', 'By Gender', 'By Ethnicity', 'By ELL Status', 'By SWD Status', 'School Profile', 'school list'])"
      ]
     },
     "execution_count": 14,
     "metadata": {},
     "output_type": "execute_result"
    }
   ],
   "source": [
    "test_results = pd.read_excel(\"https://infohub.nyced.org/docs/default-source/default-document-library/2014-15-to-2022-23-nyc-regents-overall-and-by-category---public.xlsx\", sheet_name=None, engine=\"openpyxl\")\n",
    "test_results.keys()"
   ]
  },
  {
   "cell_type": "code",
   "execution_count": 194,
   "metadata": {},
   "outputs": [],
   "source": [
    "general_test_results = test_results['All Students']\n",
    "ell_test_results = test_results['By ELL Status']\n",
    "swd_test_results = test_results['By SWD Status']\n",
    "ethnicity_test_results = test_results['By Ethnicity']"
   ]
  },
  {
   "cell_type": "code",
   "execution_count": 16,
   "metadata": {},
   "outputs": [],
   "source": [
    "def classify_subject(row):\n",
    "    regents = row['Regents Exam']\n",
    "\n",
    "    English = ['Common Core English', 'English']\n",
    "    Mathematics = ['Algebra2/Trigonometry', 'Common Core Algebra', 'Common Core Geometry', 'Geometry', 'Integrated Algebra', 'Common Core Algebra2']\n",
    "    Science = ['Living Environment', 'Physical Settings/Chemistry', 'Physical Settings/Earth Science', 'Physical Settings/Physics']\n",
    "    Social_Studies = ['Global History and Geography', 'US History and Government']\n",
    "    Languages_Other_Than_English = ['Chinese', 'Spanish', 'Italian', 'French']\n",
    "\n",
    "    if regents in English:\n",
    "        return \"English\"\n",
    "    if regents in Mathematics:\n",
    "        return \"Mathematics\"\n",
    "    if regents in Science:\n",
    "        return \"Science\"\n",
    "    if regents in Social_Studies:\n",
    "        return \"Social Studies\"\n",
    "    if regents in Languages_Other_Than_English:\n",
    "        return \"Languages Other Than English\""
   ]
  },
  {
   "cell_type": "code",
   "execution_count": 17,
   "metadata": {},
   "outputs": [],
   "source": [
    "school_list = general_graduation['School Name'].unique().tolist()"
   ]
  },
  {
   "cell_type": "code",
   "execution_count": 18,
   "metadata": {},
   "outputs": [],
   "source": [
    "def filter_regent_scores(df):\n",
    "    new_df = df[df['School Name'].str.upper().isin(school_list)].reset_index()\n",
    "    new_df = new_df[['School Name', 'Year', 'Category', 'Regents Exam', 'Total Tested', 'Number Scoring 65 or Above']]\n",
    "    new_df = new_df[~new_df['Year'].isin([2020, 2021])]\n",
    "    new_df['Regents Subject'] = new_df.apply(classify_subject, axis=1)\n",
    "    num_columns = ['Total Tested', 'Number Scoring 65 or Above']\n",
    "    for column in num_columns:\n",
    "        new_df[column] = new_df[column].replace('s', np.nan)\n",
    "        new_df[column] = pd.to_numeric(new_df[column], errors=\"coerce\")\n",
    "    return new_df"
   ]
  },
  {
   "cell_type": "code",
   "execution_count": 195,
   "metadata": {},
   "outputs": [],
   "source": [
    "general_test_results = filter_regent_scores(general_test_results)\n",
    "ell_test_results = filter_regent_scores(ell_test_results)\n",
    "swd_test_results = filter_regent_scores(swd_test_results)\n",
    "ethnicity_test_results = filter_regent_scores(ethnicity_test_results)"
   ]
  },
  {
   "cell_type": "markdown",
   "metadata": {},
   "source": [
    "## Graduation Summary"
   ]
  },
  {
   "cell_type": "code",
   "execution_count": 20,
   "metadata": {},
   "outputs": [
    {
     "data": {
      "text/html": [
       "<div>\n",
       "<style scoped>\n",
       "    .dataframe tbody tr th:only-of-type {\n",
       "        vertical-align: middle;\n",
       "    }\n",
       "\n",
       "    .dataframe tbody tr th {\n",
       "        vertical-align: top;\n",
       "    }\n",
       "\n",
       "    .dataframe thead th {\n",
       "        text-align: right;\n",
       "    }\n",
       "</style>\n",
       "<table border=\"1\" class=\"dataframe\">\n",
       "  <thead>\n",
       "    <tr style=\"text-align: right;\">\n",
       "      <th></th>\n",
       "      <th>School Name</th>\n",
       "      <th>Category</th>\n",
       "      <th>Graduation Year</th>\n",
       "      <th>Duration</th>\n",
       "      <th># Grads</th>\n",
       "      <th># Advanced Regents</th>\n",
       "      <th># Regents without Advanced</th>\n",
       "      <th># Local</th>\n",
       "      <th># Still Enrolled</th>\n",
       "      <th># Dropout</th>\n",
       "      <th># Total Cohort</th>\n",
       "      <th>Graduation Month</th>\n",
       "    </tr>\n",
       "  </thead>\n",
       "  <tbody>\n",
       "    <tr>\n",
       "      <th>0</th>\n",
       "      <td>47 THE AMERICAN SIGN LANGUAGE AND ENGLISH SECO...</td>\n",
       "      <td>All Students</td>\n",
       "      <td>2018</td>\n",
       "      <td>4</td>\n",
       "      <td>30.0</td>\n",
       "      <td>7.0</td>\n",
       "      <td>20.0</td>\n",
       "      <td>3.0</td>\n",
       "      <td>3.0</td>\n",
       "      <td>2.0</td>\n",
       "      <td>35</td>\n",
       "      <td>August</td>\n",
       "    </tr>\n",
       "    <tr>\n",
       "      <th>1</th>\n",
       "      <td>47 THE AMERICAN SIGN LANGUAGE AND ENGLISH SECO...</td>\n",
       "      <td>All Students</td>\n",
       "      <td>2018</td>\n",
       "      <td>5</td>\n",
       "      <td>33.0</td>\n",
       "      <td>4.0</td>\n",
       "      <td>25.0</td>\n",
       "      <td>4.0</td>\n",
       "      <td>0.0</td>\n",
       "      <td>1.0</td>\n",
       "      <td>35</td>\n",
       "      <td>August</td>\n",
       "    </tr>\n",
       "    <tr>\n",
       "      <th>2</th>\n",
       "      <td>47 THE AMERICAN SIGN LANGUAGE AND ENGLISH SECO...</td>\n",
       "      <td>All Students</td>\n",
       "      <td>2018</td>\n",
       "      <td>6</td>\n",
       "      <td>54.0</td>\n",
       "      <td>8.0</td>\n",
       "      <td>37.0</td>\n",
       "      <td>9.0</td>\n",
       "      <td>0.0</td>\n",
       "      <td>2.0</td>\n",
       "      <td>58</td>\n",
       "      <td>June</td>\n",
       "    </tr>\n",
       "    <tr>\n",
       "      <th>3</th>\n",
       "      <td>47 THE AMERICAN SIGN LANGUAGE AND ENGLISH SECO...</td>\n",
       "      <td>All Students</td>\n",
       "      <td>2019</td>\n",
       "      <td>4</td>\n",
       "      <td>37.0</td>\n",
       "      <td>6.0</td>\n",
       "      <td>23.0</td>\n",
       "      <td>8.0</td>\n",
       "      <td>0.0</td>\n",
       "      <td>3.0</td>\n",
       "      <td>40</td>\n",
       "      <td>August</td>\n",
       "    </tr>\n",
       "    <tr>\n",
       "      <th>4</th>\n",
       "      <td>47 THE AMERICAN SIGN LANGUAGE AND ENGLISH SECO...</td>\n",
       "      <td>All Students</td>\n",
       "      <td>2019</td>\n",
       "      <td>5</td>\n",
       "      <td>32.0</td>\n",
       "      <td>7.0</td>\n",
       "      <td>21.0</td>\n",
       "      <td>4.0</td>\n",
       "      <td>1.0</td>\n",
       "      <td>2.0</td>\n",
       "      <td>35</td>\n",
       "      <td>August</td>\n",
       "    </tr>\n",
       "    <tr>\n",
       "      <th>...</th>\n",
       "      <td>...</td>\n",
       "      <td>...</td>\n",
       "      <td>...</td>\n",
       "      <td>...</td>\n",
       "      <td>...</td>\n",
       "      <td>...</td>\n",
       "      <td>...</td>\n",
       "      <td>...</td>\n",
       "      <td>...</td>\n",
       "      <td>...</td>\n",
       "      <td>...</td>\n",
       "      <td>...</td>\n",
       "    </tr>\n",
       "    <tr>\n",
       "      <th>9948</th>\n",
       "      <td>YOUNG WOMEN'S LEADERSHIP SCHOOL, QUEENS</td>\n",
       "      <td>All Students</td>\n",
       "      <td>2023</td>\n",
       "      <td>5</td>\n",
       "      <td>76.0</td>\n",
       "      <td>63.0</td>\n",
       "      <td>13.0</td>\n",
       "      <td>0.0</td>\n",
       "      <td>0.0</td>\n",
       "      <td>1.0</td>\n",
       "      <td>77</td>\n",
       "      <td>August</td>\n",
       "    </tr>\n",
       "    <tr>\n",
       "      <th>9949</th>\n",
       "      <td>YOUNG WOMEN'S LEADERSHIP SCHOOL, QUEENS</td>\n",
       "      <td>All Students</td>\n",
       "      <td>2023</td>\n",
       "      <td>6</td>\n",
       "      <td>62.0</td>\n",
       "      <td>53.0</td>\n",
       "      <td>9.0</td>\n",
       "      <td>0.0</td>\n",
       "      <td>2.0</td>\n",
       "      <td>2.0</td>\n",
       "      <td>66</td>\n",
       "      <td>June</td>\n",
       "    </tr>\n",
       "    <tr>\n",
       "      <th>9950</th>\n",
       "      <td>YOUNG WOMEN'S LEADERSHIP SCHOOL, QUEENS</td>\n",
       "      <td>All Students</td>\n",
       "      <td>2024</td>\n",
       "      <td>4</td>\n",
       "      <td>71.0</td>\n",
       "      <td>51.0</td>\n",
       "      <td>20.0</td>\n",
       "      <td>0.0</td>\n",
       "      <td>2.0</td>\n",
       "      <td>0.0</td>\n",
       "      <td>73</td>\n",
       "      <td>August</td>\n",
       "    </tr>\n",
       "    <tr>\n",
       "      <th>9951</th>\n",
       "      <td>YOUNG WOMEN'S LEADERSHIP SCHOOL, QUEENS</td>\n",
       "      <td>All Students</td>\n",
       "      <td>2024</td>\n",
       "      <td>5</td>\n",
       "      <td>75.0</td>\n",
       "      <td>27.0</td>\n",
       "      <td>48.0</td>\n",
       "      <td>0.0</td>\n",
       "      <td>0.0</td>\n",
       "      <td>0.0</td>\n",
       "      <td>75</td>\n",
       "      <td>August</td>\n",
       "    </tr>\n",
       "    <tr>\n",
       "      <th>9952</th>\n",
       "      <td>YOUNG WOMEN'S LEADERSHIP SCHOOL, QUEENS</td>\n",
       "      <td>All Students</td>\n",
       "      <td>2024</td>\n",
       "      <td>6</td>\n",
       "      <td>77.0</td>\n",
       "      <td>64.0</td>\n",
       "      <td>13.0</td>\n",
       "      <td>0.0</td>\n",
       "      <td>0.0</td>\n",
       "      <td>0.0</td>\n",
       "      <td>77</td>\n",
       "      <td>August</td>\n",
       "    </tr>\n",
       "  </tbody>\n",
       "</table>\n",
       "<p>9953 rows × 12 columns</p>\n",
       "</div>"
      ],
      "text/plain": [
       "                                            School Name      Category  \\\n",
       "0     47 THE AMERICAN SIGN LANGUAGE AND ENGLISH SECO...  All Students   \n",
       "1     47 THE AMERICAN SIGN LANGUAGE AND ENGLISH SECO...  All Students   \n",
       "2     47 THE AMERICAN SIGN LANGUAGE AND ENGLISH SECO...  All Students   \n",
       "3     47 THE AMERICAN SIGN LANGUAGE AND ENGLISH SECO...  All Students   \n",
       "4     47 THE AMERICAN SIGN LANGUAGE AND ENGLISH SECO...  All Students   \n",
       "...                                                 ...           ...   \n",
       "9948            YOUNG WOMEN'S LEADERSHIP SCHOOL, QUEENS  All Students   \n",
       "9949            YOUNG WOMEN'S LEADERSHIP SCHOOL, QUEENS  All Students   \n",
       "9950            YOUNG WOMEN'S LEADERSHIP SCHOOL, QUEENS  All Students   \n",
       "9951            YOUNG WOMEN'S LEADERSHIP SCHOOL, QUEENS  All Students   \n",
       "9952            YOUNG WOMEN'S LEADERSHIP SCHOOL, QUEENS  All Students   \n",
       "\n",
       "      Graduation Year  Duration  # Grads  # Advanced Regents  \\\n",
       "0                2018         4     30.0                 7.0   \n",
       "1                2018         5     33.0                 4.0   \n",
       "2                2018         6     54.0                 8.0   \n",
       "3                2019         4     37.0                 6.0   \n",
       "4                2019         5     32.0                 7.0   \n",
       "...               ...       ...      ...                 ...   \n",
       "9948             2023         5     76.0                63.0   \n",
       "9949             2023         6     62.0                53.0   \n",
       "9950             2024         4     71.0                51.0   \n",
       "9951             2024         5     75.0                27.0   \n",
       "9952             2024         6     77.0                64.0   \n",
       "\n",
       "      # Regents without Advanced  # Local  # Still Enrolled  # Dropout  \\\n",
       "0                           20.0      3.0               3.0        2.0   \n",
       "1                           25.0      4.0               0.0        1.0   \n",
       "2                           37.0      9.0               0.0        2.0   \n",
       "3                           23.0      8.0               0.0        3.0   \n",
       "4                           21.0      4.0               1.0        2.0   \n",
       "...                          ...      ...               ...        ...   \n",
       "9948                        13.0      0.0               0.0        1.0   \n",
       "9949                         9.0      0.0               2.0        2.0   \n",
       "9950                        20.0      0.0               2.0        0.0   \n",
       "9951                        48.0      0.0               0.0        0.0   \n",
       "9952                        13.0      0.0               0.0        0.0   \n",
       "\n",
       "      # Total Cohort Graduation Month  \n",
       "0                 35           August  \n",
       "1                 35           August  \n",
       "2                 58             June  \n",
       "3                 40           August  \n",
       "4                 35           August  \n",
       "...              ...              ...  \n",
       "9948              77           August  \n",
       "9949              66             June  \n",
       "9950              73           August  \n",
       "9951              75           August  \n",
       "9952              77           August  \n",
       "\n",
       "[9953 rows x 12 columns]"
      ]
     },
     "execution_count": 20,
     "metadata": {},
     "output_type": "execute_result"
    }
   ],
   "source": [
    "all_graduates_general = filter_data(general_graduation, ['# Grads','# Advanced Regents', '# Regents without Advanced', '# Local', '# Still Enrolled', '# Dropout'])\n",
    "all_graduates_general"
   ]
  },
  {
   "cell_type": "markdown",
   "metadata": {},
   "source": [
    "### Population"
   ]
  },
  {
   "cell_type": "code",
   "execution_count": 21,
   "metadata": {},
   "outputs": [],
   "source": [
    "def filter_graduation_data(df, columns, cluster=False):\n",
    "    agg_dict = {}\n",
    "    for column in ['# Total Cohort', '# Grads', '# Advanced Regents', '# Regents without Advanced', '# Local', '# Still Enrolled', '# Dropout']:\n",
    "        agg_dict[column] = 'sum'\n",
    "    if cluster == True:\n",
    "        columns.append('Cluster')\n",
    "    filtered_df = df.groupby(columns).agg(agg_dict).reset_index()\n",
    "    return filtered_df"
   ]
  },
  {
   "cell_type": "code",
   "execution_count": 22,
   "metadata": {},
   "outputs": [
    {
     "data": {
      "text/html": [
       "<div>\n",
       "<style scoped>\n",
       "    .dataframe tbody tr th:only-of-type {\n",
       "        vertical-align: middle;\n",
       "    }\n",
       "\n",
       "    .dataframe tbody tr th {\n",
       "        vertical-align: top;\n",
       "    }\n",
       "\n",
       "    .dataframe thead th {\n",
       "        text-align: right;\n",
       "    }\n",
       "</style>\n",
       "<table border=\"1\" class=\"dataframe\">\n",
       "  <thead>\n",
       "    <tr style=\"text-align: right;\">\n",
       "      <th></th>\n",
       "      <th>Graduation Year</th>\n",
       "      <th># Total Cohort</th>\n",
       "      <th># Grads</th>\n",
       "      <th># Advanced Regents</th>\n",
       "      <th># Regents without Advanced</th>\n",
       "      <th># Local</th>\n",
       "      <th># Still Enrolled</th>\n",
       "      <th># Dropout</th>\n",
       "    </tr>\n",
       "  </thead>\n",
       "  <tbody>\n",
       "    <tr>\n",
       "      <th>0</th>\n",
       "      <td>2018</td>\n",
       "      <td>213338</td>\n",
       "      <td>172686.0</td>\n",
       "      <td>44135.0</td>\n",
       "      <td>113986.0</td>\n",
       "      <td>14566.0</td>\n",
       "      <td>18562.0</td>\n",
       "      <td>21841.0</td>\n",
       "    </tr>\n",
       "    <tr>\n",
       "      <th>1</th>\n",
       "      <td>2019</td>\n",
       "      <td>213275</td>\n",
       "      <td>175297.0</td>\n",
       "      <td>45937.0</td>\n",
       "      <td>113030.0</td>\n",
       "      <td>16332.0</td>\n",
       "      <td>15493.0</td>\n",
       "      <td>22491.0</td>\n",
       "    </tr>\n",
       "    <tr>\n",
       "      <th>2</th>\n",
       "      <td>2020</td>\n",
       "      <td>214042</td>\n",
       "      <td>180304.0</td>\n",
       "      <td>53991.0</td>\n",
       "      <td>113656.0</td>\n",
       "      <td>12660.0</td>\n",
       "      <td>13120.0</td>\n",
       "      <td>19148.0</td>\n",
       "    </tr>\n",
       "    <tr>\n",
       "      <th>3</th>\n",
       "      <td>2021</td>\n",
       "      <td>211698</td>\n",
       "      <td>182263.0</td>\n",
       "      <td>65114.0</td>\n",
       "      <td>110306.0</td>\n",
       "      <td>6955.0</td>\n",
       "      <td>12820.0</td>\n",
       "      <td>15854.0</td>\n",
       "    </tr>\n",
       "    <tr>\n",
       "      <th>4</th>\n",
       "      <td>2022</td>\n",
       "      <td>208741</td>\n",
       "      <td>182956.0</td>\n",
       "      <td>74240.0</td>\n",
       "      <td>107180.0</td>\n",
       "      <td>1543.0</td>\n",
       "      <td>9625.0</td>\n",
       "      <td>15197.0</td>\n",
       "    </tr>\n",
       "    <tr>\n",
       "      <th>5</th>\n",
       "      <td>2023</td>\n",
       "      <td>204843</td>\n",
       "      <td>181402.0</td>\n",
       "      <td>70198.0</td>\n",
       "      <td>110469.0</td>\n",
       "      <td>782.0</td>\n",
       "      <td>9032.0</td>\n",
       "      <td>13941.0</td>\n",
       "    </tr>\n",
       "    <tr>\n",
       "      <th>6</th>\n",
       "      <td>2024</td>\n",
       "      <td>201475</td>\n",
       "      <td>178675.0</td>\n",
       "      <td>59297.0</td>\n",
       "      <td>117140.0</td>\n",
       "      <td>2261.0</td>\n",
       "      <td>9645.0</td>\n",
       "      <td>13129.0</td>\n",
       "    </tr>\n",
       "  </tbody>\n",
       "</table>\n",
       "</div>"
      ],
      "text/plain": [
       "   Graduation Year  # Total Cohort   # Grads  # Advanced Regents  \\\n",
       "0             2018          213338  172686.0             44135.0   \n",
       "1             2019          213275  175297.0             45937.0   \n",
       "2             2020          214042  180304.0             53991.0   \n",
       "3             2021          211698  182263.0             65114.0   \n",
       "4             2022          208741  182956.0             74240.0   \n",
       "5             2023          204843  181402.0             70198.0   \n",
       "6             2024          201475  178675.0             59297.0   \n",
       "\n",
       "   # Regents without Advanced  # Local  # Still Enrolled  # Dropout  \n",
       "0                    113986.0  14566.0           18562.0    21841.0  \n",
       "1                    113030.0  16332.0           15493.0    22491.0  \n",
       "2                    113656.0  12660.0           13120.0    19148.0  \n",
       "3                    110306.0   6955.0           12820.0    15854.0  \n",
       "4                    107180.0   1543.0            9625.0    15197.0  \n",
       "5                    110469.0    782.0            9032.0    13941.0  \n",
       "6                    117140.0   2261.0            9645.0    13129.0  "
      ]
     },
     "execution_count": 22,
     "metadata": {},
     "output_type": "execute_result"
    }
   ],
   "source": [
    "general_data = filter_graduation_data(all_graduates_general,columns=['Graduation Year'])\n",
    "general_data"
   ]
  },
  {
   "cell_type": "code",
   "execution_count": 23,
   "metadata": {},
   "outputs": [
    {
     "data": {
      "text/html": [
       "<div>\n",
       "<style scoped>\n",
       "    .dataframe tbody tr th:only-of-type {\n",
       "        vertical-align: middle;\n",
       "    }\n",
       "\n",
       "    .dataframe tbody tr th {\n",
       "        vertical-align: top;\n",
       "    }\n",
       "\n",
       "    .dataframe thead th {\n",
       "        text-align: right;\n",
       "    }\n",
       "</style>\n",
       "<table border=\"1\" class=\"dataframe\">\n",
       "  <thead>\n",
       "    <tr style=\"text-align: right;\">\n",
       "      <th></th>\n",
       "      <th>Graduation Year</th>\n",
       "      <th># Total Cohort</th>\n",
       "      <th># Grads</th>\n",
       "      <th>Grad %</th>\n",
       "    </tr>\n",
       "  </thead>\n",
       "  <tbody>\n",
       "    <tr>\n",
       "      <th>0</th>\n",
       "      <td>2018</td>\n",
       "      <td>213338</td>\n",
       "      <td>172686.0</td>\n",
       "      <td>80.944792</td>\n",
       "    </tr>\n",
       "    <tr>\n",
       "      <th>1</th>\n",
       "      <td>2019</td>\n",
       "      <td>213275</td>\n",
       "      <td>175297.0</td>\n",
       "      <td>82.192943</td>\n",
       "    </tr>\n",
       "    <tr>\n",
       "      <th>2</th>\n",
       "      <td>2020</td>\n",
       "      <td>214042</td>\n",
       "      <td>180304.0</td>\n",
       "      <td>84.237673</td>\n",
       "    </tr>\n",
       "    <tr>\n",
       "      <th>3</th>\n",
       "      <td>2021</td>\n",
       "      <td>211698</td>\n",
       "      <td>182263.0</td>\n",
       "      <td>86.095759</td>\n",
       "    </tr>\n",
       "    <tr>\n",
       "      <th>4</th>\n",
       "      <td>2022</td>\n",
       "      <td>208741</td>\n",
       "      <td>182956.0</td>\n",
       "      <td>87.647372</td>\n",
       "    </tr>\n",
       "    <tr>\n",
       "      <th>5</th>\n",
       "      <td>2023</td>\n",
       "      <td>204843</td>\n",
       "      <td>181402.0</td>\n",
       "      <td>88.556602</td>\n",
       "    </tr>\n",
       "    <tr>\n",
       "      <th>6</th>\n",
       "      <td>2024</td>\n",
       "      <td>201475</td>\n",
       "      <td>178675.0</td>\n",
       "      <td>88.683459</td>\n",
       "    </tr>\n",
       "  </tbody>\n",
       "</table>\n",
       "</div>"
      ],
      "text/plain": [
       "   Graduation Year  # Total Cohort   # Grads     Grad %\n",
       "0             2018          213338  172686.0  80.944792\n",
       "1             2019          213275  175297.0  82.192943\n",
       "2             2020          214042  180304.0  84.237673\n",
       "3             2021          211698  182263.0  86.095759\n",
       "4             2022          208741  182956.0  87.647372\n",
       "5             2023          204843  181402.0  88.556602\n",
       "6             2024          201475  178675.0  88.683459"
      ]
     },
     "execution_count": 23,
     "metadata": {},
     "output_type": "execute_result"
    }
   ],
   "source": [
    "general_data_population = general_data[['Graduation Year', '# Total Cohort', '# Grads']].copy()\n",
    "general_data_population['Grad %'] = general_data_population['# Grads'] / general_data_population['# Total Cohort'] * 100\n",
    "general_data_population"
   ]
  },
  {
   "cell_type": "code",
   "execution_count": 24,
   "metadata": {},
   "outputs": [
    {
     "data": {
      "application/vnd.plotly.v1+json": {
       "config": {
        "plotlyServerURL": "https://plot.ly"
       },
       "data": [
        {
         "marker": {
          "color": "#1f77b4"
         },
         "name": "Total Population",
         "type": "bar",
         "x": [
          2018,
          2019,
          2020,
          2021,
          2022,
          2023,
          2024
         ],
         "y": [
          213338,
          213275,
          214042,
          211698,
          208741,
          204843,
          201475
         ]
        },
        {
         "marker": {
          "color": "#1f77b4",
          "line": {
           "color": "black",
           "width": 2
          },
          "pattern": {
           "bgcolor": "#1f77b4",
           "fgcolor": "black",
           "fillmode": "overlay",
           "shape": "/",
           "size": 12
          }
         },
         "name": "Graduate Population",
         "type": "bar",
         "x": [
          2018,
          2019,
          2020,
          2021,
          2022,
          2023,
          2024
         ],
         "y": [
          172686,
          175297,
          180304,
          182263,
          182956,
          181402,
          178675
         ]
        }
       ],
       "layout": {
        "barmode": "overlay",
        "showlegend": true,
        "template": {
         "layout": {
          "plot_bgcolor": "white",
          "xaxis": {
           "gridcolor": "lightgray"
          },
          "yaxis": {
           "gridcolor": "lightgray"
          }
         }
        },
        "title": {
         "text": "Graduate Population from 2018 to 2024"
        },
        "xaxis": {
         "ticktext": [
          2018,
          2019,
          2020,
          2021,
          2022,
          2023,
          2024
         ],
         "tickvals": [
          2018,
          2019,
          2020,
          2021,
          2022,
          2023,
          2024
         ],
         "title": {
          "text": "Year"
         }
        },
        "yaxis": {
         "title": {
          "text": "Population"
         }
        }
       }
      }
     },
     "metadata": {},
     "output_type": "display_data"
    }
   ],
   "source": [
    "fig = go.Figure()\n",
    "fig.add_trace(go.Bar(x=general_data_population['Graduation Year'], y=general_data_population['# Total Cohort'], marker=dict(color=colors[0]), name='Total Population'))\n",
    "fig.add_trace(go.Bar(x=general_data_population['Graduation Year'], y=general_data_population['# Grads'], name='Graduate Population', marker=dict(color=colors[0], pattern=make_pattern(colors[0]), line=make_border())))\n",
    "\n",
    "fig.update_layout(\n",
    "    xaxis=dict(\n",
    "        tickvals=general_data_population['Graduation Year'],\n",
    "        ticktext=general_data_population['Graduation Year']\n",
    "    ),\n",
    "    barmode='overlay'\n",
    ")\n",
    "\n",
    "set_bar_fig_labels(fig=fig, fig_title='Graduate Population from 2018 to 2024', x_title='Year', y_title='Population')\n",
    "fig.show()"
   ]
  },
  {
   "cell_type": "markdown",
   "metadata": {},
   "source": [
    "### Rates"
   ]
  },
  {
   "cell_type": "code",
   "execution_count": null,
   "metadata": {},
   "outputs": [
    {
     "data": {
      "application/vnd.plotly.v1+json": {
       "config": {
        "plotlyServerURL": "https://plot.ly"
       },
       "data": [
        {
         "type": "scatter",
         "x": [
          2018,
          2019,
          2020,
          2021,
          2022,
          2023,
          2024
         ],
         "y": [
          80.94479183267866,
          82.19294338295627,
          84.23767298006933,
          86.09575905299059,
          87.6473716232077,
          88.55660188534634,
          88.68345948628861
         ]
        }
       ],
       "layout": {
        "showlegend": false,
        "template": {
         "layout": {
          "plot_bgcolor": "white",
          "xaxis": {
           "gridcolor": "lightgray"
          },
          "yaxis": {
           "gridcolor": "lightgray"
          }
         }
        },
        "title": {
         "text": "Graduation Rate from 2018 to 2024"
        },
        "xaxis": {
         "ticktext": [
          2018,
          2019,
          2020,
          2021,
          2022,
          2023,
          2024
         ],
         "tickvals": [
          2018,
          2019,
          2020,
          2021,
          2022,
          2023,
          2024
         ],
         "title": {
          "text": "Year"
         }
        },
        "yaxis": {
         "title": {
          "text": "Graduation %"
         }
        }
       }
      }
     },
     "metadata": {},
     "output_type": "display_data"
    }
   ],
   "source": [
    "fig = go.Figure()\n",
    "fig.add_trace(go.Scatter(x=general_data_population['Graduation Year'], y=general_data_population['Grad %']))\n",
    "set_line_fig_labels(fig, fig_title=\"Graduation Rate from 2018 to 2024\", x_title=\"Year\", y_title=\"Graduation %\", x_ticks=general_data_population['Graduation Year'], legend=False)\n",
    "fig.sh"
   ]
  },
  {
   "cell_type": "markdown",
   "metadata": {},
   "source": [
    "### Diploma Type"
   ]
  },
  {
   "cell_type": "code",
   "execution_count": 26,
   "metadata": {},
   "outputs": [
    {
     "data": {
      "text/html": [
       "<div>\n",
       "<style scoped>\n",
       "    .dataframe tbody tr th:only-of-type {\n",
       "        vertical-align: middle;\n",
       "    }\n",
       "\n",
       "    .dataframe tbody tr th {\n",
       "        vertical-align: top;\n",
       "    }\n",
       "\n",
       "    .dataframe thead th {\n",
       "        text-align: right;\n",
       "    }\n",
       "</style>\n",
       "<table border=\"1\" class=\"dataframe\">\n",
       "  <thead>\n",
       "    <tr style=\"text-align: right;\">\n",
       "      <th></th>\n",
       "      <th>Graduation Year</th>\n",
       "      <th># Advanced Regents</th>\n",
       "      <th># Regents without Advanced</th>\n",
       "      <th># Local</th>\n",
       "    </tr>\n",
       "  </thead>\n",
       "  <tbody>\n",
       "    <tr>\n",
       "      <th>0</th>\n",
       "      <td>2018</td>\n",
       "      <td>44135.0</td>\n",
       "      <td>113986.0</td>\n",
       "      <td>14566.0</td>\n",
       "    </tr>\n",
       "    <tr>\n",
       "      <th>1</th>\n",
       "      <td>2019</td>\n",
       "      <td>45937.0</td>\n",
       "      <td>113030.0</td>\n",
       "      <td>16332.0</td>\n",
       "    </tr>\n",
       "    <tr>\n",
       "      <th>2</th>\n",
       "      <td>2020</td>\n",
       "      <td>53991.0</td>\n",
       "      <td>113656.0</td>\n",
       "      <td>12660.0</td>\n",
       "    </tr>\n",
       "    <tr>\n",
       "      <th>3</th>\n",
       "      <td>2021</td>\n",
       "      <td>65114.0</td>\n",
       "      <td>110306.0</td>\n",
       "      <td>6955.0</td>\n",
       "    </tr>\n",
       "    <tr>\n",
       "      <th>4</th>\n",
       "      <td>2022</td>\n",
       "      <td>74240.0</td>\n",
       "      <td>107180.0</td>\n",
       "      <td>1543.0</td>\n",
       "    </tr>\n",
       "    <tr>\n",
       "      <th>5</th>\n",
       "      <td>2023</td>\n",
       "      <td>70198.0</td>\n",
       "      <td>110469.0</td>\n",
       "      <td>782.0</td>\n",
       "    </tr>\n",
       "    <tr>\n",
       "      <th>6</th>\n",
       "      <td>2024</td>\n",
       "      <td>59297.0</td>\n",
       "      <td>117140.0</td>\n",
       "      <td>2261.0</td>\n",
       "    </tr>\n",
       "  </tbody>\n",
       "</table>\n",
       "</div>"
      ],
      "text/plain": [
       "   Graduation Year  # Advanced Regents  # Regents without Advanced  # Local\n",
       "0             2018             44135.0                    113986.0  14566.0\n",
       "1             2019             45937.0                    113030.0  16332.0\n",
       "2             2020             53991.0                    113656.0  12660.0\n",
       "3             2021             65114.0                    110306.0   6955.0\n",
       "4             2022             74240.0                    107180.0   1543.0\n",
       "5             2023             70198.0                    110469.0    782.0\n",
       "6             2024             59297.0                    117140.0   2261.0"
      ]
     },
     "execution_count": 26,
     "metadata": {},
     "output_type": "execute_result"
    }
   ],
   "source": [
    "general_data_diploma_type = general_data[['Graduation Year', '# Advanced Regents', '# Regents without Advanced', '# Local']].copy()\n",
    "general_data_diploma_type"
   ]
  },
  {
   "cell_type": "code",
   "execution_count": 27,
   "metadata": {},
   "outputs": [
    {
     "data": {
      "application/vnd.plotly.v1+json": {
       "config": {
        "plotlyServerURL": "https://plot.ly"
       },
       "data": [
        {
         "name": "Advanced Regents Diploma",
         "type": "bar",
         "x": [
          2018,
          2019,
          2020,
          2021,
          2022,
          2023,
          2024
         ],
         "y": [
          44135,
          45937,
          53991,
          65114,
          74240,
          70198,
          59297
         ]
        },
        {
         "name": "Regular Diploma",
         "type": "bar",
         "x": [
          2018,
          2019,
          2020,
          2021,
          2022,
          2023,
          2024
         ],
         "y": [
          113986,
          113030,
          113656,
          110306,
          107180,
          110469,
          117140
         ]
        },
        {
         "name": "Local Diploma",
         "type": "bar",
         "x": [
          2018,
          2019,
          2020,
          2021,
          2022,
          2023,
          2024
         ],
         "y": [
          14566,
          16332,
          12660,
          6955,
          1543,
          782,
          2261
         ]
        }
       ],
       "layout": {
        "showlegend": true,
        "template": {
         "layout": {
          "plot_bgcolor": "white",
          "xaxis": {
           "gridcolor": "lightgray"
          },
          "yaxis": {
           "gridcolor": "lightgray"
          }
         }
        },
        "title": {
         "text": "Distribution of Graduates Based on Diploma Type"
        },
        "xaxis": {
         "ticktext": [
          2018,
          2019,
          2020,
          2021,
          2022,
          2023,
          2024
         ],
         "tickvals": [
          2018,
          2019,
          2020,
          2021,
          2022,
          2023,
          2024
         ],
         "title": {
          "text": "Year"
         }
        },
        "yaxis": {
         "title": {
          "text": "Population"
         }
        }
       }
      }
     },
     "metadata": {},
     "output_type": "display_data"
    }
   ],
   "source": [
    "fig = go.Figure()\n",
    "\n",
    "fig.add_trace(go.Bar(x=general_data_diploma_type['Graduation Year'], y=general_data_diploma_type['# Advanced Regents'], name='Advanced Regents Diploma'))\n",
    "fig.add_trace(go.Bar(x=general_data_diploma_type['Graduation Year'], y=general_data_diploma_type['# Regents without Advanced'], name='Regular Diploma'))\n",
    "fig.add_trace(go.Bar(x=general_data_diploma_type['Graduation Year'], y=general_data_diploma_type['# Local'], name='Local Diploma'))\n",
    "\n",
    "fig.update_layout(\n",
    "    xaxis=dict(\n",
    "        tickvals=general_data_diploma_type['Graduation Year'].unique(), \n",
    "        ticktext=general_data_diploma_type['Graduation Year'].unique()\n",
    "    )\n",
    ")\n",
    "set_bar_fig_labels(fig=fig, fig_title='Distribution of Graduates Based on Diploma Type', y_title='Population', x_title='Year')\n",
    "\n",
    "fig.show()"
   ]
  },
  {
   "cell_type": "markdown",
   "metadata": {},
   "source": [
    "### Dropouts"
   ]
  },
  {
   "cell_type": "code",
   "execution_count": 28,
   "metadata": {},
   "outputs": [
    {
     "data": {
      "text/html": [
       "<div>\n",
       "<style scoped>\n",
       "    .dataframe tbody tr th:only-of-type {\n",
       "        vertical-align: middle;\n",
       "    }\n",
       "\n",
       "    .dataframe tbody tr th {\n",
       "        vertical-align: top;\n",
       "    }\n",
       "\n",
       "    .dataframe thead th {\n",
       "        text-align: right;\n",
       "    }\n",
       "</style>\n",
       "<table border=\"1\" class=\"dataframe\">\n",
       "  <thead>\n",
       "    <tr style=\"text-align: right;\">\n",
       "      <th></th>\n",
       "      <th>Graduation Year</th>\n",
       "      <th># Total Cohort</th>\n",
       "      <th># Grads</th>\n",
       "      <th># Dropout</th>\n",
       "      <th># Still Enrolled</th>\n",
       "      <th># No Grads</th>\n",
       "      <th>Dropout %</th>\n",
       "    </tr>\n",
       "  </thead>\n",
       "  <tbody>\n",
       "    <tr>\n",
       "      <th>0</th>\n",
       "      <td>2018</td>\n",
       "      <td>213338</td>\n",
       "      <td>172686.0</td>\n",
       "      <td>21841.0</td>\n",
       "      <td>18562.0</td>\n",
       "      <td>40652.0</td>\n",
       "      <td>53.726754</td>\n",
       "    </tr>\n",
       "    <tr>\n",
       "      <th>1</th>\n",
       "      <td>2019</td>\n",
       "      <td>213275</td>\n",
       "      <td>175297.0</td>\n",
       "      <td>22491.0</td>\n",
       "      <td>15493.0</td>\n",
       "      <td>37978.0</td>\n",
       "      <td>59.221128</td>\n",
       "    </tr>\n",
       "    <tr>\n",
       "      <th>2</th>\n",
       "      <td>2020</td>\n",
       "      <td>214042</td>\n",
       "      <td>180304.0</td>\n",
       "      <td>19148.0</td>\n",
       "      <td>13120.0</td>\n",
       "      <td>33738.0</td>\n",
       "      <td>56.754994</td>\n",
       "    </tr>\n",
       "    <tr>\n",
       "      <th>3</th>\n",
       "      <td>2021</td>\n",
       "      <td>211698</td>\n",
       "      <td>182263.0</td>\n",
       "      <td>15854.0</td>\n",
       "      <td>12820.0</td>\n",
       "      <td>29435.0</td>\n",
       "      <td>53.861050</td>\n",
       "    </tr>\n",
       "    <tr>\n",
       "      <th>4</th>\n",
       "      <td>2022</td>\n",
       "      <td>208741</td>\n",
       "      <td>182956.0</td>\n",
       "      <td>15197.0</td>\n",
       "      <td>9625.0</td>\n",
       "      <td>25785.0</td>\n",
       "      <td>58.937367</td>\n",
       "    </tr>\n",
       "    <tr>\n",
       "      <th>5</th>\n",
       "      <td>2023</td>\n",
       "      <td>204843</td>\n",
       "      <td>181402.0</td>\n",
       "      <td>13941.0</td>\n",
       "      <td>9032.0</td>\n",
       "      <td>23441.0</td>\n",
       "      <td>59.472719</td>\n",
       "    </tr>\n",
       "    <tr>\n",
       "      <th>6</th>\n",
       "      <td>2024</td>\n",
       "      <td>201475</td>\n",
       "      <td>178675.0</td>\n",
       "      <td>13129.0</td>\n",
       "      <td>9645.0</td>\n",
       "      <td>22800.0</td>\n",
       "      <td>57.583333</td>\n",
       "    </tr>\n",
       "  </tbody>\n",
       "</table>\n",
       "</div>"
      ],
      "text/plain": [
       "   Graduation Year  # Total Cohort   # Grads  # Dropout  # Still Enrolled  \\\n",
       "0             2018          213338  172686.0    21841.0           18562.0   \n",
       "1             2019          213275  175297.0    22491.0           15493.0   \n",
       "2             2020          214042  180304.0    19148.0           13120.0   \n",
       "3             2021          211698  182263.0    15854.0           12820.0   \n",
       "4             2022          208741  182956.0    15197.0            9625.0   \n",
       "5             2023          204843  181402.0    13941.0            9032.0   \n",
       "6             2024          201475  178675.0    13129.0            9645.0   \n",
       "\n",
       "   # No Grads  Dropout %  \n",
       "0     40652.0  53.726754  \n",
       "1     37978.0  59.221128  \n",
       "2     33738.0  56.754994  \n",
       "3     29435.0  53.861050  \n",
       "4     25785.0  58.937367  \n",
       "5     23441.0  59.472719  \n",
       "6     22800.0  57.583333  "
      ]
     },
     "execution_count": 28,
     "metadata": {},
     "output_type": "execute_result"
    }
   ],
   "source": [
    "general_data_dropout = general_data[['Graduation Year', '# Total Cohort', '# Grads', '# Dropout', '# Still Enrolled']].copy()\n",
    "general_data_dropout['# No Grads'] = general_data_dropout['# Total Cohort'] - general_data_dropout['# Grads']\n",
    "general_data_dropout['Dropout %'] = general_data_dropout['# Dropout'] / general_data_dropout['# No Grads'] * 100\n",
    "general_data_dropout"
   ]
  },
  {
   "cell_type": "code",
   "execution_count": 29,
   "metadata": {},
   "outputs": [
    {
     "data": {
      "application/vnd.plotly.v1+json": {
       "config": {
        "plotlyServerURL": "https://plot.ly"
       },
       "data": [
        {
         "name": "Still Enrolled",
         "type": "bar",
         "x": [
          2018,
          2019,
          2020,
          2021,
          2022,
          2023,
          2024
         ],
         "y": [
          18562,
          15493,
          13120,
          12820,
          9625,
          9032,
          9645
         ]
        },
        {
         "name": "Dropout",
         "type": "bar",
         "x": [
          2018,
          2019,
          2020,
          2021,
          2022,
          2023,
          2024
         ],
         "y": [
          21841,
          22491,
          19148,
          15854,
          15197,
          13941,
          13129
         ]
        }
       ],
       "layout": {
        "showlegend": true,
        "template": {
         "layout": {
          "plot_bgcolor": "white",
          "xaxis": {
           "gridcolor": "lightgray"
          },
          "yaxis": {
           "gridcolor": "lightgray"
          }
         }
        },
        "title": {
         "text": "Distribution of Non-Graduates from 2018 to 2024"
        },
        "xaxis": {
         "ticktext": [
          2018,
          2019,
          2020,
          2021,
          2022,
          2023,
          2024
         ],
         "tickvals": [
          2018,
          2019,
          2020,
          2021,
          2022,
          2023,
          2024
         ],
         "title": {
          "text": "Year"
         }
        },
        "yaxis": {
         "title": {
          "text": "Population"
         }
        }
       }
      }
     },
     "metadata": {},
     "output_type": "display_data"
    }
   ],
   "source": [
    "fig = go.Figure()\n",
    "\n",
    "fig.add_trace(go.Bar(x=general_data_dropout['Graduation Year'], y=general_data_dropout['# Still Enrolled'], name='Still Enrolled'))\n",
    "fig.add_trace(go.Bar(x=general_data_dropout['Graduation Year'], y=general_data_dropout['# Dropout'], name='Dropout'))\n",
    "fig.update_layout(\n",
    "    xaxis=dict(\n",
    "        tickvals=general_data_dropout['Graduation Year'].unique(), \n",
    "        ticktext=general_data_dropout['Graduation Year'].unique()\n",
    "    )\n",
    ")\n",
    "set_bar_fig_labels(fig=fig, fig_title='Distribution of Non-Graduates from 2018 to 2024', y_title='Population', x_title='Year')\n",
    "\n",
    "fig.show()"
   ]
  },
  {
   "cell_type": "markdown",
   "metadata": {},
   "source": [
    "### Test Results"
   ]
  },
  {
   "cell_type": "code",
   "execution_count": 30,
   "metadata": {},
   "outputs": [
    {
     "data": {
      "text/html": [
       "<div>\n",
       "<style scoped>\n",
       "    .dataframe tbody tr th:only-of-type {\n",
       "        vertical-align: middle;\n",
       "    }\n",
       "\n",
       "    .dataframe tbody tr th {\n",
       "        vertical-align: top;\n",
       "    }\n",
       "\n",
       "    .dataframe thead th {\n",
       "        text-align: right;\n",
       "    }\n",
       "</style>\n",
       "<table border=\"1\" class=\"dataframe\">\n",
       "  <thead>\n",
       "    <tr style=\"text-align: right;\">\n",
       "      <th></th>\n",
       "      <th>School Name</th>\n",
       "      <th>Year</th>\n",
       "      <th>Category</th>\n",
       "      <th>Regents Exam</th>\n",
       "      <th>Total Tested</th>\n",
       "      <th>Number Scoring 65 or Above</th>\n",
       "      <th>Regents Subject</th>\n",
       "    </tr>\n",
       "  </thead>\n",
       "  <tbody>\n",
       "    <tr>\n",
       "      <th>0</th>\n",
       "      <td>Orchard Collegiate Academy</td>\n",
       "      <td>2015</td>\n",
       "      <td>All Students</td>\n",
       "      <td>Algebra2/Trigonometry</td>\n",
       "      <td>5</td>\n",
       "      <td>NaN</td>\n",
       "      <td>Mathematics</td>\n",
       "    </tr>\n",
       "    <tr>\n",
       "      <th>1</th>\n",
       "      <td>Orchard Collegiate Academy</td>\n",
       "      <td>2015</td>\n",
       "      <td>All Students</td>\n",
       "      <td>Chinese</td>\n",
       "      <td>1</td>\n",
       "      <td>NaN</td>\n",
       "      <td>Languages Other Than English</td>\n",
       "    </tr>\n",
       "    <tr>\n",
       "      <th>2</th>\n",
       "      <td>Orchard Collegiate Academy</td>\n",
       "      <td>2015</td>\n",
       "      <td>All Students</td>\n",
       "      <td>Common Core Algebra</td>\n",
       "      <td>12</td>\n",
       "      <td>1.0</td>\n",
       "      <td>Mathematics</td>\n",
       "    </tr>\n",
       "    <tr>\n",
       "      <th>3</th>\n",
       "      <td>Orchard Collegiate Academy</td>\n",
       "      <td>2015</td>\n",
       "      <td>All Students</td>\n",
       "      <td>Common Core English</td>\n",
       "      <td>34</td>\n",
       "      <td>19.0</td>\n",
       "      <td>English</td>\n",
       "    </tr>\n",
       "    <tr>\n",
       "      <th>4</th>\n",
       "      <td>Orchard Collegiate Academy</td>\n",
       "      <td>2015</td>\n",
       "      <td>All Students</td>\n",
       "      <td>Common Core Geometry</td>\n",
       "      <td>10</td>\n",
       "      <td>1.0</td>\n",
       "      <td>Mathematics</td>\n",
       "    </tr>\n",
       "    <tr>\n",
       "      <th>...</th>\n",
       "      <td>...</td>\n",
       "      <td>...</td>\n",
       "      <td>...</td>\n",
       "      <td>...</td>\n",
       "      <td>...</td>\n",
       "      <td>...</td>\n",
       "      <td>...</td>\n",
       "    </tr>\n",
       "    <tr>\n",
       "      <th>31069</th>\n",
       "      <td>Bushwick Community High School</td>\n",
       "      <td>2023</td>\n",
       "      <td>All Students</td>\n",
       "      <td>Common Core Algebra</td>\n",
       "      <td>27</td>\n",
       "      <td>12.0</td>\n",
       "      <td>Mathematics</td>\n",
       "    </tr>\n",
       "    <tr>\n",
       "      <th>31070</th>\n",
       "      <td>Bushwick Community High School</td>\n",
       "      <td>2023</td>\n",
       "      <td>All Students</td>\n",
       "      <td>Common Core English</td>\n",
       "      <td>42</td>\n",
       "      <td>21.0</td>\n",
       "      <td>English</td>\n",
       "    </tr>\n",
       "    <tr>\n",
       "      <th>31071</th>\n",
       "      <td>Bushwick Community High School</td>\n",
       "      <td>2023</td>\n",
       "      <td>All Students</td>\n",
       "      <td>Global History and Geography</td>\n",
       "      <td>29</td>\n",
       "      <td>12.0</td>\n",
       "      <td>Social Studies</td>\n",
       "    </tr>\n",
       "    <tr>\n",
       "      <th>31072</th>\n",
       "      <td>Bushwick Community High School</td>\n",
       "      <td>2023</td>\n",
       "      <td>All Students</td>\n",
       "      <td>Living Environment</td>\n",
       "      <td>12</td>\n",
       "      <td>5.0</td>\n",
       "      <td>Science</td>\n",
       "    </tr>\n",
       "    <tr>\n",
       "      <th>31073</th>\n",
       "      <td>Bushwick Community High School</td>\n",
       "      <td>2023</td>\n",
       "      <td>All Students</td>\n",
       "      <td>US History and Government</td>\n",
       "      <td>9</td>\n",
       "      <td>5.0</td>\n",
       "      <td>Social Studies</td>\n",
       "    </tr>\n",
       "  </tbody>\n",
       "</table>\n",
       "<p>27553 rows × 7 columns</p>\n",
       "</div>"
      ],
      "text/plain": [
       "                          School Name  Year      Category  \\\n",
       "0          Orchard Collegiate Academy  2015  All Students   \n",
       "1          Orchard Collegiate Academy  2015  All Students   \n",
       "2          Orchard Collegiate Academy  2015  All Students   \n",
       "3          Orchard Collegiate Academy  2015  All Students   \n",
       "4          Orchard Collegiate Academy  2015  All Students   \n",
       "...                               ...   ...           ...   \n",
       "31069  Bushwick Community High School  2023  All Students   \n",
       "31070  Bushwick Community High School  2023  All Students   \n",
       "31071  Bushwick Community High School  2023  All Students   \n",
       "31072  Bushwick Community High School  2023  All Students   \n",
       "31073  Bushwick Community High School  2023  All Students   \n",
       "\n",
       "                       Regents Exam  Total Tested  Number Scoring 65 or Above  \\\n",
       "0             Algebra2/Trigonometry             5                         NaN   \n",
       "1                           Chinese             1                         NaN   \n",
       "2               Common Core Algebra            12                         1.0   \n",
       "3               Common Core English            34                        19.0   \n",
       "4              Common Core Geometry            10                         1.0   \n",
       "...                             ...           ...                         ...   \n",
       "31069           Common Core Algebra            27                        12.0   \n",
       "31070           Common Core English            42                        21.0   \n",
       "31071  Global History and Geography            29                        12.0   \n",
       "31072            Living Environment            12                         5.0   \n",
       "31073     US History and Government             9                         5.0   \n",
       "\n",
       "                    Regents Subject  \n",
       "0                       Mathematics  \n",
       "1      Languages Other Than English  \n",
       "2                       Mathematics  \n",
       "3                           English  \n",
       "4                       Mathematics  \n",
       "...                             ...  \n",
       "31069                   Mathematics  \n",
       "31070                       English  \n",
       "31071                Social Studies  \n",
       "31072                       Science  \n",
       "31073                Social Studies  \n",
       "\n",
       "[27553 rows x 7 columns]"
      ]
     },
     "execution_count": 30,
     "metadata": {},
     "output_type": "execute_result"
    }
   ],
   "source": [
    "general_test_results"
   ]
  },
  {
   "cell_type": "code",
   "execution_count": 31,
   "metadata": {},
   "outputs": [
    {
     "data": {
      "text/html": [
       "<div>\n",
       "<style scoped>\n",
       "    .dataframe tbody tr th:only-of-type {\n",
       "        vertical-align: middle;\n",
       "    }\n",
       "\n",
       "    .dataframe tbody tr th {\n",
       "        vertical-align: top;\n",
       "    }\n",
       "\n",
       "    .dataframe thead th {\n",
       "        text-align: right;\n",
       "    }\n",
       "</style>\n",
       "<table border=\"1\" class=\"dataframe\">\n",
       "  <thead>\n",
       "    <tr style=\"text-align: right;\">\n",
       "      <th></th>\n",
       "      <th>Regents Subject</th>\n",
       "      <th>Total Tested</th>\n",
       "      <th>Number Scoring 65 or Above</th>\n",
       "      <th>% Passed</th>\n",
       "    </tr>\n",
       "  </thead>\n",
       "  <tbody>\n",
       "    <tr>\n",
       "      <th>0</th>\n",
       "      <td>English</td>\n",
       "      <td>508598</td>\n",
       "      <td>387540.0</td>\n",
       "      <td>76.197704</td>\n",
       "    </tr>\n",
       "    <tr>\n",
       "      <th>1</th>\n",
       "      <td>Languages Other Than English</td>\n",
       "      <td>156096</td>\n",
       "      <td>141239.0</td>\n",
       "      <td>90.482139</td>\n",
       "    </tr>\n",
       "    <tr>\n",
       "      <th>2</th>\n",
       "      <td>Mathematics</td>\n",
       "      <td>1096353</td>\n",
       "      <td>612471.0</td>\n",
       "      <td>55.864398</td>\n",
       "    </tr>\n",
       "    <tr>\n",
       "      <th>3</th>\n",
       "      <td>Science</td>\n",
       "      <td>868837</td>\n",
       "      <td>524015.0</td>\n",
       "      <td>60.312233</td>\n",
       "    </tr>\n",
       "    <tr>\n",
       "      <th>4</th>\n",
       "      <td>Social Studies</td>\n",
       "      <td>831037</td>\n",
       "      <td>571437.0</td>\n",
       "      <td>68.761920</td>\n",
       "    </tr>\n",
       "  </tbody>\n",
       "</table>\n",
       "</div>"
      ],
      "text/plain": [
       "                Regents Subject  Total Tested  Number Scoring 65 or Above  \\\n",
       "0                       English        508598                    387540.0   \n",
       "1  Languages Other Than English        156096                    141239.0   \n",
       "2                   Mathematics       1096353                    612471.0   \n",
       "3                       Science        868837                    524015.0   \n",
       "4                Social Studies        831037                    571437.0   \n",
       "\n",
       "    % Passed  \n",
       "0  76.197704  \n",
       "1  90.482139  \n",
       "2  55.864398  \n",
       "3  60.312233  \n",
       "4  68.761920  "
      ]
     },
     "execution_count": 31,
     "metadata": {},
     "output_type": "execute_result"
    }
   ],
   "source": [
    "all_graduates_general_test_results = general_test_results.groupby(['Regents Subject'])[['Total Tested', 'Number Scoring 65 or Above']].sum().reset_index()\n",
    "all_graduates_general_test_results['% Passed'] = all_graduates_general_test_results['Number Scoring 65 or Above'] / all_graduates_general_test_results['Total Tested'] * 100\n",
    "all_graduates_general_test_results"
   ]
  },
  {
   "cell_type": "code",
   "execution_count": 224,
   "metadata": {},
   "outputs": [
    {
     "data": {
      "application/vnd.plotly.v1+json": {
       "config": {
        "plotlyServerURL": "https://plot.ly"
       },
       "data": [
        {
         "marker": {
          "color": "#636EFA"
         },
         "showlegend": false,
         "type": "bar",
         "x": [
          "English"
         ],
         "y": [
          76.19770427724843
         ]
        },
        {
         "marker": {
          "color": "#EF553B"
         },
         "showlegend": false,
         "type": "bar",
         "x": [
          "Languages Other Than English"
         ],
         "y": [
          90.48213919639197
         ]
        },
        {
         "marker": {
          "color": "#00CC96"
         },
         "showlegend": false,
         "type": "bar",
         "x": [
          "Mathematics"
         ],
         "y": [
          55.86439768943032
         ]
        },
        {
         "marker": {
          "color": "#AB63FA"
         },
         "showlegend": false,
         "type": "bar",
         "x": [
          "Science"
         ],
         "y": [
          60.31223347992777
         ]
        },
        {
         "marker": {
          "color": "#FFA15A"
         },
         "showlegend": false,
         "type": "bar",
         "x": [
          "Social Studies"
         ],
         "y": [
          68.76192034771015
         ]
        }
       ],
       "layout": {
        "template": {
         "layout": {
          "plot_bgcolor": "white",
          "xaxis": {
           "gridcolor": "lightgray"
          },
          "yaxis": {
           "gridcolor": "lightgray"
          }
         }
        },
        "title": {
         "text": "Rate of Students Who Approved Each Regents Subject"
        },
        "yaxis": {
         "title": {
          "text": "% of Approved Students"
         }
        }
       }
      }
     },
     "metadata": {},
     "output_type": "display_data"
    }
   ],
   "source": [
    "fig = go.Figure()\n",
    "\n",
    "for subject in all_graduates_general_test_results['Regents Subject'].unique():\n",
    "    subject_row = all_graduates_general_test_results[all_graduates_general_test_results['Regents Subject'] == subject]\n",
    "    subject_index = all_graduates_general_test_results['Regents Subject'].unique().tolist().index(subject)\n",
    "    fig.add_trace(go.Bar(x=subject_row['Regents Subject'], y=subject_row['% Passed'], showlegend=False, marker=dict(color=colors2[subject_index])))\n",
    "    fig.update_yaxes(title_text='% of Approved Students')\n",
    "\n",
    "fig.update_layout(\n",
    "    title_text='Rate of Students Who Approved Each Regents Subject'\n",
    ")\n",
    "fig.show()"
   ]
  },
  {
   "cell_type": "code",
   "execution_count": 33,
   "metadata": {},
   "outputs": [
    {
     "data": {
      "text/html": [
       "<div>\n",
       "<style scoped>\n",
       "    .dataframe tbody tr th:only-of-type {\n",
       "        vertical-align: middle;\n",
       "    }\n",
       "\n",
       "    .dataframe tbody tr th {\n",
       "        vertical-align: top;\n",
       "    }\n",
       "\n",
       "    .dataframe thead th {\n",
       "        text-align: right;\n",
       "    }\n",
       "</style>\n",
       "<table border=\"1\" class=\"dataframe\">\n",
       "  <thead>\n",
       "    <tr style=\"text-align: right;\">\n",
       "      <th></th>\n",
       "      <th>Year</th>\n",
       "      <th>Regents Subject</th>\n",
       "      <th>Total Tested</th>\n",
       "      <th>Number Scoring 65 or Above</th>\n",
       "      <th>% Passed</th>\n",
       "    </tr>\n",
       "  </thead>\n",
       "  <tbody>\n",
       "    <tr>\n",
       "      <th>0</th>\n",
       "      <td>2015</td>\n",
       "      <td>English</td>\n",
       "      <td>91014</td>\n",
       "      <td>69097.0</td>\n",
       "      <td>75.919089</td>\n",
       "    </tr>\n",
       "    <tr>\n",
       "      <th>1</th>\n",
       "      <td>2015</td>\n",
       "      <td>Languages Other Than English</td>\n",
       "      <td>21783</td>\n",
       "      <td>20956.0</td>\n",
       "      <td>96.203461</td>\n",
       "    </tr>\n",
       "    <tr>\n",
       "      <th>2</th>\n",
       "      <td>2015</td>\n",
       "      <td>Mathematics</td>\n",
       "      <td>205267</td>\n",
       "      <td>111683.0</td>\n",
       "      <td>54.408648</td>\n",
       "    </tr>\n",
       "    <tr>\n",
       "      <th>3</th>\n",
       "      <td>2015</td>\n",
       "      <td>Science</td>\n",
       "      <td>132758</td>\n",
       "      <td>85344.0</td>\n",
       "      <td>64.285391</td>\n",
       "    </tr>\n",
       "    <tr>\n",
       "      <th>4</th>\n",
       "      <td>2015</td>\n",
       "      <td>Social Studies</td>\n",
       "      <td>141201</td>\n",
       "      <td>96315.0</td>\n",
       "      <td>68.211273</td>\n",
       "    </tr>\n",
       "    <tr>\n",
       "      <th>5</th>\n",
       "      <td>2016</td>\n",
       "      <td>English</td>\n",
       "      <td>76770</td>\n",
       "      <td>58136.0</td>\n",
       "      <td>75.727498</td>\n",
       "    </tr>\n",
       "    <tr>\n",
       "      <th>6</th>\n",
       "      <td>2016</td>\n",
       "      <td>Languages Other Than English</td>\n",
       "      <td>21274</td>\n",
       "      <td>19624.0</td>\n",
       "      <td>92.244054</td>\n",
       "    </tr>\n",
       "    <tr>\n",
       "      <th>7</th>\n",
       "      <td>2016</td>\n",
       "      <td>Mathematics</td>\n",
       "      <td>183412</td>\n",
       "      <td>101998.0</td>\n",
       "      <td>55.611410</td>\n",
       "    </tr>\n",
       "    <tr>\n",
       "      <th>8</th>\n",
       "      <td>2016</td>\n",
       "      <td>Science</td>\n",
       "      <td>133520</td>\n",
       "      <td>85403.0</td>\n",
       "      <td>63.962702</td>\n",
       "    </tr>\n",
       "    <tr>\n",
       "      <th>9</th>\n",
       "      <td>2016</td>\n",
       "      <td>Social Studies</td>\n",
       "      <td>139544</td>\n",
       "      <td>93135.0</td>\n",
       "      <td>66.742389</td>\n",
       "    </tr>\n",
       "    <tr>\n",
       "      <th>10</th>\n",
       "      <td>2017</td>\n",
       "      <td>English</td>\n",
       "      <td>74319</td>\n",
       "      <td>58648.0</td>\n",
       "      <td>78.913871</td>\n",
       "    </tr>\n",
       "    <tr>\n",
       "      <th>11</th>\n",
       "      <td>2017</td>\n",
       "      <td>Languages Other Than English</td>\n",
       "      <td>21429</td>\n",
       "      <td>19412.0</td>\n",
       "      <td>90.587522</td>\n",
       "    </tr>\n",
       "    <tr>\n",
       "      <th>12</th>\n",
       "      <td>2017</td>\n",
       "      <td>Mathematics</td>\n",
       "      <td>157723</td>\n",
       "      <td>96045.0</td>\n",
       "      <td>60.894733</td>\n",
       "    </tr>\n",
       "    <tr>\n",
       "      <th>13</th>\n",
       "      <td>2017</td>\n",
       "      <td>Science</td>\n",
       "      <td>133490</td>\n",
       "      <td>82073.0</td>\n",
       "      <td>61.482508</td>\n",
       "    </tr>\n",
       "    <tr>\n",
       "      <th>14</th>\n",
       "      <td>2017</td>\n",
       "      <td>Social Studies</td>\n",
       "      <td>134711</td>\n",
       "      <td>89884.0</td>\n",
       "      <td>66.723579</td>\n",
       "    </tr>\n",
       "    <tr>\n",
       "      <th>15</th>\n",
       "      <td>2018</td>\n",
       "      <td>English</td>\n",
       "      <td>75153</td>\n",
       "      <td>55941.0</td>\n",
       "      <td>74.436150</td>\n",
       "    </tr>\n",
       "    <tr>\n",
       "      <th>16</th>\n",
       "      <td>2018</td>\n",
       "      <td>Languages Other Than English</td>\n",
       "      <td>21739</td>\n",
       "      <td>19557.0</td>\n",
       "      <td>89.962740</td>\n",
       "    </tr>\n",
       "    <tr>\n",
       "      <th>17</th>\n",
       "      <td>2018</td>\n",
       "      <td>Mathematics</td>\n",
       "      <td>153350</td>\n",
       "      <td>92439.0</td>\n",
       "      <td>60.279752</td>\n",
       "    </tr>\n",
       "    <tr>\n",
       "      <th>18</th>\n",
       "      <td>2018</td>\n",
       "      <td>Science</td>\n",
       "      <td>132767</td>\n",
       "      <td>83268.0</td>\n",
       "      <td>62.717392</td>\n",
       "    </tr>\n",
       "    <tr>\n",
       "      <th>19</th>\n",
       "      <td>2018</td>\n",
       "      <td>Social Studies</td>\n",
       "      <td>135989</td>\n",
       "      <td>93484.0</td>\n",
       "      <td>68.743795</td>\n",
       "    </tr>\n",
       "    <tr>\n",
       "      <th>20</th>\n",
       "      <td>2019</td>\n",
       "      <td>English</td>\n",
       "      <td>77173</td>\n",
       "      <td>62136.0</td>\n",
       "      <td>80.515206</td>\n",
       "    </tr>\n",
       "    <tr>\n",
       "      <th>21</th>\n",
       "      <td>2019</td>\n",
       "      <td>Languages Other Than English</td>\n",
       "      <td>26757</td>\n",
       "      <td>24309.0</td>\n",
       "      <td>90.850992</td>\n",
       "    </tr>\n",
       "    <tr>\n",
       "      <th>22</th>\n",
       "      <td>2019</td>\n",
       "      <td>Mathematics</td>\n",
       "      <td>150906</td>\n",
       "      <td>93472.0</td>\n",
       "      <td>61.940546</td>\n",
       "    </tr>\n",
       "    <tr>\n",
       "      <th>23</th>\n",
       "      <td>2019</td>\n",
       "      <td>Science</td>\n",
       "      <td>130464</td>\n",
       "      <td>79459.0</td>\n",
       "      <td>60.904924</td>\n",
       "    </tr>\n",
       "    <tr>\n",
       "      <th>24</th>\n",
       "      <td>2019</td>\n",
       "      <td>Social Studies</td>\n",
       "      <td>130462</td>\n",
       "      <td>91305.0</td>\n",
       "      <td>69.985896</td>\n",
       "    </tr>\n",
       "    <tr>\n",
       "      <th>25</th>\n",
       "      <td>2022</td>\n",
       "      <td>English</td>\n",
       "      <td>42803</td>\n",
       "      <td>31418.0</td>\n",
       "      <td>73.401397</td>\n",
       "    </tr>\n",
       "    <tr>\n",
       "      <th>26</th>\n",
       "      <td>2022</td>\n",
       "      <td>Languages Other Than English</td>\n",
       "      <td>21355</td>\n",
       "      <td>17968.0</td>\n",
       "      <td>84.139546</td>\n",
       "    </tr>\n",
       "    <tr>\n",
       "      <th>27</th>\n",
       "      <td>2022</td>\n",
       "      <td>Mathematics</td>\n",
       "      <td>111930</td>\n",
       "      <td>51659.0</td>\n",
       "      <td>46.152953</td>\n",
       "    </tr>\n",
       "    <tr>\n",
       "      <th>28</th>\n",
       "      <td>2022</td>\n",
       "      <td>Science</td>\n",
       "      <td>98091</td>\n",
       "      <td>51205.0</td>\n",
       "      <td>52.201527</td>\n",
       "    </tr>\n",
       "    <tr>\n",
       "      <th>29</th>\n",
       "      <td>2022</td>\n",
       "      <td>Social Studies</td>\n",
       "      <td>50195</td>\n",
       "      <td>37752.0</td>\n",
       "      <td>75.210678</td>\n",
       "    </tr>\n",
       "    <tr>\n",
       "      <th>30</th>\n",
       "      <td>2023</td>\n",
       "      <td>English</td>\n",
       "      <td>71366</td>\n",
       "      <td>52164.0</td>\n",
       "      <td>73.093630</td>\n",
       "    </tr>\n",
       "    <tr>\n",
       "      <th>31</th>\n",
       "      <td>2023</td>\n",
       "      <td>Languages Other Than English</td>\n",
       "      <td>21759</td>\n",
       "      <td>19413.0</td>\n",
       "      <td>89.218255</td>\n",
       "    </tr>\n",
       "    <tr>\n",
       "      <th>32</th>\n",
       "      <td>2023</td>\n",
       "      <td>Mathematics</td>\n",
       "      <td>133765</td>\n",
       "      <td>65175.0</td>\n",
       "      <td>48.723508</td>\n",
       "    </tr>\n",
       "    <tr>\n",
       "      <th>33</th>\n",
       "      <td>2023</td>\n",
       "      <td>Science</td>\n",
       "      <td>107747</td>\n",
       "      <td>57263.0</td>\n",
       "      <td>53.145795</td>\n",
       "    </tr>\n",
       "    <tr>\n",
       "      <th>34</th>\n",
       "      <td>2023</td>\n",
       "      <td>Social Studies</td>\n",
       "      <td>98935</td>\n",
       "      <td>69562.0</td>\n",
       "      <td>70.310810</td>\n",
       "    </tr>\n",
       "  </tbody>\n",
       "</table>\n",
       "</div>"
      ],
      "text/plain": [
       "    Year               Regents Subject  Total Tested  \\\n",
       "0   2015                       English         91014   \n",
       "1   2015  Languages Other Than English         21783   \n",
       "2   2015                   Mathematics        205267   \n",
       "3   2015                       Science        132758   \n",
       "4   2015                Social Studies        141201   \n",
       "5   2016                       English         76770   \n",
       "6   2016  Languages Other Than English         21274   \n",
       "7   2016                   Mathematics        183412   \n",
       "8   2016                       Science        133520   \n",
       "9   2016                Social Studies        139544   \n",
       "10  2017                       English         74319   \n",
       "11  2017  Languages Other Than English         21429   \n",
       "12  2017                   Mathematics        157723   \n",
       "13  2017                       Science        133490   \n",
       "14  2017                Social Studies        134711   \n",
       "15  2018                       English         75153   \n",
       "16  2018  Languages Other Than English         21739   \n",
       "17  2018                   Mathematics        153350   \n",
       "18  2018                       Science        132767   \n",
       "19  2018                Social Studies        135989   \n",
       "20  2019                       English         77173   \n",
       "21  2019  Languages Other Than English         26757   \n",
       "22  2019                   Mathematics        150906   \n",
       "23  2019                       Science        130464   \n",
       "24  2019                Social Studies        130462   \n",
       "25  2022                       English         42803   \n",
       "26  2022  Languages Other Than English         21355   \n",
       "27  2022                   Mathematics        111930   \n",
       "28  2022                       Science         98091   \n",
       "29  2022                Social Studies         50195   \n",
       "30  2023                       English         71366   \n",
       "31  2023  Languages Other Than English         21759   \n",
       "32  2023                   Mathematics        133765   \n",
       "33  2023                       Science        107747   \n",
       "34  2023                Social Studies         98935   \n",
       "\n",
       "    Number Scoring 65 or Above   % Passed  \n",
       "0                      69097.0  75.919089  \n",
       "1                      20956.0  96.203461  \n",
       "2                     111683.0  54.408648  \n",
       "3                      85344.0  64.285391  \n",
       "4                      96315.0  68.211273  \n",
       "5                      58136.0  75.727498  \n",
       "6                      19624.0  92.244054  \n",
       "7                     101998.0  55.611410  \n",
       "8                      85403.0  63.962702  \n",
       "9                      93135.0  66.742389  \n",
       "10                     58648.0  78.913871  \n",
       "11                     19412.0  90.587522  \n",
       "12                     96045.0  60.894733  \n",
       "13                     82073.0  61.482508  \n",
       "14                     89884.0  66.723579  \n",
       "15                     55941.0  74.436150  \n",
       "16                     19557.0  89.962740  \n",
       "17                     92439.0  60.279752  \n",
       "18                     83268.0  62.717392  \n",
       "19                     93484.0  68.743795  \n",
       "20                     62136.0  80.515206  \n",
       "21                     24309.0  90.850992  \n",
       "22                     93472.0  61.940546  \n",
       "23                     79459.0  60.904924  \n",
       "24                     91305.0  69.985896  \n",
       "25                     31418.0  73.401397  \n",
       "26                     17968.0  84.139546  \n",
       "27                     51659.0  46.152953  \n",
       "28                     51205.0  52.201527  \n",
       "29                     37752.0  75.210678  \n",
       "30                     52164.0  73.093630  \n",
       "31                     19413.0  89.218255  \n",
       "32                     65175.0  48.723508  \n",
       "33                     57263.0  53.145795  \n",
       "34                     69562.0  70.310810  "
      ]
     },
     "execution_count": 33,
     "metadata": {},
     "output_type": "execute_result"
    }
   ],
   "source": [
    "all_graduates_general_test_results_per_year = general_test_results.groupby(['Year','Regents Subject'])[['Total Tested', 'Number Scoring 65 or Above']].sum().reset_index()\n",
    "all_graduates_general_test_results_per_year['% Passed'] = all_graduates_general_test_results_per_year['Number Scoring 65 or Above'] / all_graduates_general_test_results_per_year['Total Tested'] * 100\n",
    "all_graduates_general_test_results_per_year"
   ]
  },
  {
   "cell_type": "code",
   "execution_count": 226,
   "metadata": {},
   "outputs": [
    {
     "data": {
      "application/vnd.plotly.v1+json": {
       "config": {
        "plotlyServerURL": "https://plot.ly"
       },
       "data": [
        {
         "marker": {
          "color": "#636EFA"
         },
         "name": "English",
         "type": "scatter",
         "x": [
          2015,
          2016,
          2017,
          2018,
          2019,
          2022,
          2023
         ],
         "y": [
          75.91908937086602,
          75.72749772046372,
          78.91387128459748,
          74.4361502534829,
          80.51520609539607,
          73.40139709833423,
          73.09363001989743
         ]
        },
        {
         "marker": {
          "color": "#EF553B"
         },
         "name": "Languages Other Than English",
         "type": "scatter",
         "x": [
          2015,
          2016,
          2017,
          2018,
          2019,
          2022,
          2023
         ],
         "y": [
          96.2034614148648,
          92.2440537745605,
          90.58752158290167,
          89.96273977643867,
          90.8509922637067,
          84.13954577382347,
          89.21825451537295
         ]
        },
        {
         "marker": {
          "color": "#00CC96"
         },
         "name": "Mathematics",
         "type": "scatter",
         "x": [
          2015,
          2016,
          2017,
          2018,
          2019,
          2022,
          2023
         ],
         "y": [
          54.408648248378945,
          55.61141037663839,
          60.89473317144615,
          60.27975220084774,
          61.94054577021457,
          46.15295273831859,
          48.72350764400254
         ]
        },
        {
         "marker": {
          "color": "#AB63FA"
         },
         "name": "Science",
         "type": "scatter",
         "x": [
          2015,
          2016,
          2017,
          2018,
          2019,
          2022,
          2023
         ],
         "y": [
          64.28539146416789,
          63.962702216896346,
          61.48250805303768,
          62.71739212304263,
          60.9049239636988,
          52.201527153357596,
          53.14579524255896
         ]
        },
        {
         "marker": {
          "color": "#FFA15A"
         },
         "name": "Social Studies",
         "type": "scatter",
         "x": [
          2015,
          2016,
          2017,
          2018,
          2019,
          2022,
          2023
         ],
         "y": [
          68.21127329126564,
          66.7423894972195,
          66.72357862386887,
          68.74379545404408,
          69.98589627631034,
          75.21067835441777,
          70.31081012786173
         ]
        }
       ],
       "layout": {
        "template": {
         "layout": {
          "plot_bgcolor": "white",
          "xaxis": {
           "gridcolor": "lightgray"
          },
          "yaxis": {
           "gridcolor": "lightgray"
          }
         }
        },
        "title": {
         "text": "Rate of Students Who Approved Each Regents Subject from 2015 to 2023"
        },
        "yaxis": {
         "title": {
          "text": "% of Approved Students"
         }
        }
       }
      }
     },
     "metadata": {},
     "output_type": "display_data"
    }
   ],
   "source": [
    "fig = go.Figure()\n",
    "\n",
    "for subject in all_graduates_general_test_results_per_year['Regents Subject'].unique():\n",
    "    subject_row = all_graduates_general_test_results_per_year[all_graduates_general_test_results_per_year['Regents Subject'] == subject]\n",
    "    subject_index = all_graduates_general_test_results_per_year['Regents Subject'].unique().tolist().index(subject)\n",
    "    fig.add_trace(go.Scatter(x=subject_row['Year'], y=subject_row['% Passed'], name=subject, marker=dict(color=colors2[subject_index])))\n",
    "    fig.update_yaxes(title_text='% of Approved Students')\n",
    "\n",
    "fig.update_layout(title_text='Rate of Students Who Approved Each Regents Subject from 2015 to 2023')\n",
    "fig.show()"
   ]
  },
  {
   "cell_type": "markdown",
   "metadata": {},
   "source": [
    "## Impact of Duration"
   ]
  },
  {
   "cell_type": "code",
   "execution_count": 35,
   "metadata": {},
   "outputs": [
    {
     "data": {
      "text/html": [
       "<div>\n",
       "<style scoped>\n",
       "    .dataframe tbody tr th:only-of-type {\n",
       "        vertical-align: middle;\n",
       "    }\n",
       "\n",
       "    .dataframe tbody tr th {\n",
       "        vertical-align: top;\n",
       "    }\n",
       "\n",
       "    .dataframe thead th {\n",
       "        text-align: right;\n",
       "    }\n",
       "</style>\n",
       "<table border=\"1\" class=\"dataframe\">\n",
       "  <thead>\n",
       "    <tr style=\"text-align: right;\">\n",
       "      <th></th>\n",
       "      <th>Graduation Year</th>\n",
       "      <th>Duration</th>\n",
       "      <th># Total Cohort</th>\n",
       "      <th># Grads</th>\n",
       "      <th># Advanced Regents</th>\n",
       "      <th># Regents without Advanced</th>\n",
       "      <th># Local</th>\n",
       "      <th># Still Enrolled</th>\n",
       "      <th># Dropout</th>\n",
       "    </tr>\n",
       "  </thead>\n",
       "  <tbody>\n",
       "    <tr>\n",
       "      <th>0</th>\n",
       "      <td>2018</td>\n",
       "      <td>4</td>\n",
       "      <td>72096</td>\n",
       "      <td>56788.0</td>\n",
       "      <td>15653.0</td>\n",
       "      <td>36436.0</td>\n",
       "      <td>4700.0</td>\n",
       "      <td>11779.0</td>\n",
       "      <td>5119.0</td>\n",
       "    </tr>\n",
       "    <tr>\n",
       "      <th>1</th>\n",
       "      <td>2018</td>\n",
       "      <td>5</td>\n",
       "      <td>70207</td>\n",
       "      <td>57281.0</td>\n",
       "      <td>14653.0</td>\n",
       "      <td>37597.0</td>\n",
       "      <td>5031.0</td>\n",
       "      <td>4497.0</td>\n",
       "      <td>7712.0</td>\n",
       "    </tr>\n",
       "    <tr>\n",
       "      <th>2</th>\n",
       "      <td>2018</td>\n",
       "      <td>6</td>\n",
       "      <td>71035</td>\n",
       "      <td>58617.0</td>\n",
       "      <td>13829.0</td>\n",
       "      <td>39953.0</td>\n",
       "      <td>4835.0</td>\n",
       "      <td>2286.0</td>\n",
       "      <td>9010.0</td>\n",
       "    </tr>\n",
       "    <tr>\n",
       "      <th>3</th>\n",
       "      <td>2019</td>\n",
       "      <td>4</td>\n",
       "      <td>71107</td>\n",
       "      <td>56901.0</td>\n",
       "      <td>15595.0</td>\n",
       "      <td>36177.0</td>\n",
       "      <td>5131.0</td>\n",
       "      <td>10577.0</td>\n",
       "      <td>5319.0</td>\n",
       "    </tr>\n",
       "    <tr>\n",
       "      <th>4</th>\n",
       "      <td>2019</td>\n",
       "      <td>5</td>\n",
       "      <td>71984</td>\n",
       "      <td>59937.0</td>\n",
       "      <td>15682.0</td>\n",
       "      <td>38508.0</td>\n",
       "      <td>5747.0</td>\n",
       "      <td>3050.0</td>\n",
       "      <td>8485.0</td>\n",
       "    </tr>\n",
       "    <tr>\n",
       "      <th>5</th>\n",
       "      <td>2019</td>\n",
       "      <td>6</td>\n",
       "      <td>70184</td>\n",
       "      <td>58459.0</td>\n",
       "      <td>14660.0</td>\n",
       "      <td>38345.0</td>\n",
       "      <td>5454.0</td>\n",
       "      <td>1866.0</td>\n",
       "      <td>8687.0</td>\n",
       "    </tr>\n",
       "    <tr>\n",
       "      <th>6</th>\n",
       "      <td>2020</td>\n",
       "      <td>4</td>\n",
       "      <td>71155</td>\n",
       "      <td>58581.0</td>\n",
       "      <td>22655.0</td>\n",
       "      <td>34976.0</td>\n",
       "      <td>952.0</td>\n",
       "      <td>8944.0</td>\n",
       "      <td>4010.0</td>\n",
       "    </tr>\n",
       "    <tr>\n",
       "      <th>7</th>\n",
       "      <td>2020</td>\n",
       "      <td>5</td>\n",
       "      <td>70956</td>\n",
       "      <td>60494.0</td>\n",
       "      <td>15649.0</td>\n",
       "      <td>39162.0</td>\n",
       "      <td>5684.0</td>\n",
       "      <td>2907.0</td>\n",
       "      <td>6795.0</td>\n",
       "    </tr>\n",
       "    <tr>\n",
       "      <th>8</th>\n",
       "      <td>2020</td>\n",
       "      <td>6</td>\n",
       "      <td>71931</td>\n",
       "      <td>61229.0</td>\n",
       "      <td>15687.0</td>\n",
       "      <td>39518.0</td>\n",
       "      <td>6024.0</td>\n",
       "      <td>1269.0</td>\n",
       "      <td>8343.0</td>\n",
       "    </tr>\n",
       "    <tr>\n",
       "      <th>9</th>\n",
       "      <td>2021</td>\n",
       "      <td>4</td>\n",
       "      <td>69646</td>\n",
       "      <td>59468.0</td>\n",
       "      <td>26725.0</td>\n",
       "      <td>32677.0</td>\n",
       "      <td>178.0</td>\n",
       "      <td>8173.0</td>\n",
       "      <td>3207.0</td>\n",
       "    </tr>\n",
       "    <tr>\n",
       "      <th>10</th>\n",
       "      <td>2021</td>\n",
       "      <td>5</td>\n",
       "      <td>71089</td>\n",
       "      <td>61360.0</td>\n",
       "      <td>22733.0</td>\n",
       "      <td>37582.0</td>\n",
       "      <td>1045.0</td>\n",
       "      <td>3275.0</td>\n",
       "      <td>5654.0</td>\n",
       "    </tr>\n",
       "    <tr>\n",
       "      <th>11</th>\n",
       "      <td>2021</td>\n",
       "      <td>6</td>\n",
       "      <td>70963</td>\n",
       "      <td>61435.0</td>\n",
       "      <td>15656.0</td>\n",
       "      <td>40047.0</td>\n",
       "      <td>5732.0</td>\n",
       "      <td>1372.0</td>\n",
       "      <td>6993.0</td>\n",
       "    </tr>\n",
       "    <tr>\n",
       "      <th>12</th>\n",
       "      <td>2022</td>\n",
       "      <td>4</td>\n",
       "      <td>68096</td>\n",
       "      <td>59174.0</td>\n",
       "      <td>24713.0</td>\n",
       "      <td>34225.0</td>\n",
       "      <td>240.0</td>\n",
       "      <td>6485.0</td>\n",
       "      <td>3382.0</td>\n",
       "    </tr>\n",
       "    <tr>\n",
       "      <th>13</th>\n",
       "      <td>2022</td>\n",
       "      <td>5</td>\n",
       "      <td>69586</td>\n",
       "      <td>61649.0</td>\n",
       "      <td>26783.0</td>\n",
       "      <td>34641.0</td>\n",
       "      <td>228.0</td>\n",
       "      <td>2040.0</td>\n",
       "      <td>5204.0</td>\n",
       "    </tr>\n",
       "    <tr>\n",
       "      <th>14</th>\n",
       "      <td>2022</td>\n",
       "      <td>6</td>\n",
       "      <td>71059</td>\n",
       "      <td>62133.0</td>\n",
       "      <td>22744.0</td>\n",
       "      <td>38314.0</td>\n",
       "      <td>1075.0</td>\n",
       "      <td>1100.0</td>\n",
       "      <td>6611.0</td>\n",
       "    </tr>\n",
       "    <tr>\n",
       "      <th>15</th>\n",
       "      <td>2023</td>\n",
       "      <td>4</td>\n",
       "      <td>67329</td>\n",
       "      <td>58335.0</td>\n",
       "      <td>18661.0</td>\n",
       "      <td>39492.0</td>\n",
       "      <td>229.0</td>\n",
       "      <td>6686.0</td>\n",
       "      <td>3414.0</td>\n",
       "    </tr>\n",
       "    <tr>\n",
       "      <th>16</th>\n",
       "      <td>2023</td>\n",
       "      <td>5</td>\n",
       "      <td>67998</td>\n",
       "      <td>60947.0</td>\n",
       "      <td>24752.0</td>\n",
       "      <td>35898.0</td>\n",
       "      <td>297.0</td>\n",
       "      <td>1611.0</td>\n",
       "      <td>4840.0</td>\n",
       "    </tr>\n",
       "    <tr>\n",
       "      <th>17</th>\n",
       "      <td>2023</td>\n",
       "      <td>6</td>\n",
       "      <td>69516</td>\n",
       "      <td>62120.0</td>\n",
       "      <td>26785.0</td>\n",
       "      <td>35079.0</td>\n",
       "      <td>256.0</td>\n",
       "      <td>735.0</td>\n",
       "      <td>5687.0</td>\n",
       "    </tr>\n",
       "    <tr>\n",
       "      <th>18</th>\n",
       "      <td>2024</td>\n",
       "      <td>4</td>\n",
       "      <td>66298</td>\n",
       "      <td>57131.0</td>\n",
       "      <td>15864.0</td>\n",
       "      <td>39774.0</td>\n",
       "      <td>1514.0</td>\n",
       "      <td>7428.0</td>\n",
       "      <td>3022.0</td>\n",
       "    </tr>\n",
       "    <tr>\n",
       "      <th>19</th>\n",
       "      <td>2024</td>\n",
       "      <td>5</td>\n",
       "      <td>67241</td>\n",
       "      <td>60091.0</td>\n",
       "      <td>18675.0</td>\n",
       "      <td>41041.0</td>\n",
       "      <td>377.0</td>\n",
       "      <td>1619.0</td>\n",
       "      <td>4956.0</td>\n",
       "    </tr>\n",
       "    <tr>\n",
       "      <th>20</th>\n",
       "      <td>2024</td>\n",
       "      <td>6</td>\n",
       "      <td>67936</td>\n",
       "      <td>61453.0</td>\n",
       "      <td>24758.0</td>\n",
       "      <td>36325.0</td>\n",
       "      <td>370.0</td>\n",
       "      <td>598.0</td>\n",
       "      <td>5151.0</td>\n",
       "    </tr>\n",
       "  </tbody>\n",
       "</table>\n",
       "</div>"
      ],
      "text/plain": [
       "    Graduation Year  Duration  # Total Cohort  # Grads  # Advanced Regents  \\\n",
       "0              2018         4           72096  56788.0             15653.0   \n",
       "1              2018         5           70207  57281.0             14653.0   \n",
       "2              2018         6           71035  58617.0             13829.0   \n",
       "3              2019         4           71107  56901.0             15595.0   \n",
       "4              2019         5           71984  59937.0             15682.0   \n",
       "5              2019         6           70184  58459.0             14660.0   \n",
       "6              2020         4           71155  58581.0             22655.0   \n",
       "7              2020         5           70956  60494.0             15649.0   \n",
       "8              2020         6           71931  61229.0             15687.0   \n",
       "9              2021         4           69646  59468.0             26725.0   \n",
       "10             2021         5           71089  61360.0             22733.0   \n",
       "11             2021         6           70963  61435.0             15656.0   \n",
       "12             2022         4           68096  59174.0             24713.0   \n",
       "13             2022         5           69586  61649.0             26783.0   \n",
       "14             2022         6           71059  62133.0             22744.0   \n",
       "15             2023         4           67329  58335.0             18661.0   \n",
       "16             2023         5           67998  60947.0             24752.0   \n",
       "17             2023         6           69516  62120.0             26785.0   \n",
       "18             2024         4           66298  57131.0             15864.0   \n",
       "19             2024         5           67241  60091.0             18675.0   \n",
       "20             2024         6           67936  61453.0             24758.0   \n",
       "\n",
       "    # Regents without Advanced  # Local  # Still Enrolled  # Dropout  \n",
       "0                      36436.0   4700.0           11779.0     5119.0  \n",
       "1                      37597.0   5031.0            4497.0     7712.0  \n",
       "2                      39953.0   4835.0            2286.0     9010.0  \n",
       "3                      36177.0   5131.0           10577.0     5319.0  \n",
       "4                      38508.0   5747.0            3050.0     8485.0  \n",
       "5                      38345.0   5454.0            1866.0     8687.0  \n",
       "6                      34976.0    952.0            8944.0     4010.0  \n",
       "7                      39162.0   5684.0            2907.0     6795.0  \n",
       "8                      39518.0   6024.0            1269.0     8343.0  \n",
       "9                      32677.0    178.0            8173.0     3207.0  \n",
       "10                     37582.0   1045.0            3275.0     5654.0  \n",
       "11                     40047.0   5732.0            1372.0     6993.0  \n",
       "12                     34225.0    240.0            6485.0     3382.0  \n",
       "13                     34641.0    228.0            2040.0     5204.0  \n",
       "14                     38314.0   1075.0            1100.0     6611.0  \n",
       "15                     39492.0    229.0            6686.0     3414.0  \n",
       "16                     35898.0    297.0            1611.0     4840.0  \n",
       "17                     35079.0    256.0             735.0     5687.0  \n",
       "18                     39774.0   1514.0            7428.0     3022.0  \n",
       "19                     41041.0    377.0            1619.0     4956.0  \n",
       "20                     36325.0    370.0             598.0     5151.0  "
      ]
     },
     "execution_count": 35,
     "metadata": {},
     "output_type": "execute_result"
    }
   ],
   "source": [
    "general_duration_data = filter_graduation_data(all_graduates_general, ['Graduation Year', 'Duration'])\n",
    "general_duration_data"
   ]
  },
  {
   "cell_type": "markdown",
   "metadata": {},
   "source": [
    "### Correlation"
   ]
  },
  {
   "cell_type": "code",
   "execution_count": 137,
   "metadata": {},
   "outputs": [],
   "source": [
    "def correlation_matrix(df):\n",
    "    fig = px.imshow(\n",
    "        df.corr(),\n",
    "        text_auto=True,\n",
    "        color_continuous_scale='RdBu_r',\n",
    "        width=1000,\n",
    "        height=800,\n",
    "    )\n",
    "    fig.update_traces(textfont=dict(size=10))\n",
    "    fig.update_layout(margin=dict(l=125, b=125))\n",
    "    fig.show()"
   ]
  },
  {
   "cell_type": "code",
   "execution_count": 138,
   "metadata": {},
   "outputs": [
    {
     "data": {
      "application/vnd.plotly.v1+json": {
       "config": {
        "plotlyServerURL": "https://plot.ly"
       },
       "data": [
        {
         "coloraxis": "coloraxis",
         "hovertemplate": "x: %{x}<br>y: %{y}<br>color: %{z}<extra></extra>",
         "name": "0",
         "textfont": {
          "size": 10
         },
         "texttemplate": "%{z}",
         "type": "heatmap",
         "x": [
          "Graduation Year",
          "Duration",
          "# Total Cohort",
          "# Grads",
          "# Advanced Regents",
          "# Regents without Advanced",
          "# Local",
          "# Still Enrolled",
          "# Dropout"
         ],
         "xaxis": "x",
         "y": [
          "Graduation Year",
          "Duration",
          "# Total Cohort",
          "# Grads",
          "# Advanced Regents",
          "# Regents without Advanced",
          "# Local",
          "# Still Enrolled",
          "# Dropout"
         ],
         "yaxis": "y",
         "z": [
          [
           1,
           -8.857734567325771e-15,
           -0.8103441828394049,
           0.44749987241288963,
           0.5853700334031894,
           -0.022797837727472032,
           -0.7790164966074107,
           -0.303728613951832,
           -0.6094566209612432
          ],
          [
           -8.857734567325771e-15,
           1,
           0.23704090768142677,
           0.6366724101158259,
           -0.07212145696549285,
           0.3614113273092549,
           0.26047995626474624,
           -0.8763068339634921,
           0.7279370118706372
          ],
          [
           -0.8103441828394049,
           0.23704090768142677,
           1,
           0.047335208188514465,
           -0.32524510010025093,
           -0.010030274975567006,
           0.6657862421095363,
           0.06517079261429734,
           0.6287743196245347
          ],
          [
           0.44749987241288963,
           0.6366724101158259,
           0.047335208188514465,
           1,
           0.5433792843798586,
           -0.03626482448212568,
           -0.29013966517242845,
           -0.787091644408779,
           0.16163315052308377
          ],
          [
           0.5853700334031894,
           -0.07212145696549285,
           -0.32524510010025093,
           0.5433792843798586,
           1,
           -0.7328614556726852,
           -0.850195340192761,
           -0.13508731213527123,
           -0.5609881421015168
          ],
          [
           -0.022797837727472032,
           0.3614113273092549,
           -0.010030274975567006,
           -0.03626482448212568,
           -0.7328614556726852,
           1,
           0.4560909395362911,
           -0.3449117668864721,
           0.46532033767348724
          ],
          [
           -0.7790164966074107,
           0.26047995626474624,
           0.6657862421095363,
           -0.29013966517242845,
           -0.850195340192761,
           0.4560909395362911,
           1,
           0.013077686397902726,
           0.76040370237215
          ],
          [
           -0.303728613951832,
           -0.8763068339634921,
           0.06517079261429734,
           -0.787091644408779,
           -0.13508731213527123,
           -0.3449117668864721,
           0.013077686397902726,
           1,
           -0.5241171894256464
          ],
          [
           -0.6094566209612432,
           0.7279370118706372,
           0.6287743196245347,
           0.16163315052308377,
           -0.5609881421015168,
           0.46532033767348724,
           0.76040370237215,
           -0.5241171894256464,
           1
          ]
         ]
        }
       ],
       "layout": {
        "coloraxis": {
         "colorscale": [
          [
           0,
           "rgb(5,48,97)"
          ],
          [
           0.1,
           "rgb(33,102,172)"
          ],
          [
           0.2,
           "rgb(67,147,195)"
          ],
          [
           0.3,
           "rgb(146,197,222)"
          ],
          [
           0.4,
           "rgb(209,229,240)"
          ],
          [
           0.5,
           "rgb(247,247,247)"
          ],
          [
           0.6,
           "rgb(253,219,199)"
          ],
          [
           0.7,
           "rgb(244,165,130)"
          ],
          [
           0.8,
           "rgb(214,96,77)"
          ],
          [
           0.9,
           "rgb(178,24,43)"
          ],
          [
           1,
           "rgb(103,0,31)"
          ]
         ]
        },
        "height": 800,
        "margin": {
         "b": 125,
         "l": 125,
         "t": 60
        },
        "template": {
         "layout": {
          "plot_bgcolor": "white",
          "xaxis": {
           "gridcolor": "lightgray"
          },
          "yaxis": {
           "gridcolor": "lightgray"
          }
         }
        },
        "width": 1000,
        "xaxis": {
         "anchor": "y",
         "constrain": "domain",
         "domain": [
          0,
          1
         ],
         "scaleanchor": "y"
        },
        "yaxis": {
         "anchor": "x",
         "autorange": "reversed",
         "constrain": "domain",
         "domain": [
          0,
          1
         ]
        }
       }
      }
     },
     "metadata": {},
     "output_type": "display_data"
    }
   ],
   "source": [
    "correlation_matrix(general_duration_data)"
   ]
  },
  {
   "cell_type": "markdown",
   "metadata": {},
   "source": [
    "### Graduation Rates"
   ]
  },
  {
   "cell_type": "code",
   "execution_count": 38,
   "metadata": {},
   "outputs": [
    {
     "data": {
      "text/html": [
       "<div>\n",
       "<style scoped>\n",
       "    .dataframe tbody tr th:only-of-type {\n",
       "        vertical-align: middle;\n",
       "    }\n",
       "\n",
       "    .dataframe tbody tr th {\n",
       "        vertical-align: top;\n",
       "    }\n",
       "\n",
       "    .dataframe thead th {\n",
       "        text-align: right;\n",
       "    }\n",
       "</style>\n",
       "<table border=\"1\" class=\"dataframe\">\n",
       "  <thead>\n",
       "    <tr style=\"text-align: right;\">\n",
       "      <th></th>\n",
       "      <th>Graduation Year</th>\n",
       "      <th>Duration</th>\n",
       "      <th># Total Cohort</th>\n",
       "      <th># Grads</th>\n",
       "      <th>Grad %</th>\n",
       "    </tr>\n",
       "  </thead>\n",
       "  <tbody>\n",
       "    <tr>\n",
       "      <th>0</th>\n",
       "      <td>2018</td>\n",
       "      <td>4</td>\n",
       "      <td>72096</td>\n",
       "      <td>56788.0</td>\n",
       "      <td>78.767199</td>\n",
       "    </tr>\n",
       "    <tr>\n",
       "      <th>1</th>\n",
       "      <td>2018</td>\n",
       "      <td>5</td>\n",
       "      <td>70207</td>\n",
       "      <td>57281.0</td>\n",
       "      <td>81.588730</td>\n",
       "    </tr>\n",
       "    <tr>\n",
       "      <th>2</th>\n",
       "      <td>2018</td>\n",
       "      <td>6</td>\n",
       "      <td>71035</td>\n",
       "      <td>58617.0</td>\n",
       "      <td>82.518477</td>\n",
       "    </tr>\n",
       "    <tr>\n",
       "      <th>3</th>\n",
       "      <td>2019</td>\n",
       "      <td>4</td>\n",
       "      <td>71107</td>\n",
       "      <td>56901.0</td>\n",
       "      <td>80.021658</td>\n",
       "    </tr>\n",
       "    <tr>\n",
       "      <th>4</th>\n",
       "      <td>2019</td>\n",
       "      <td>5</td>\n",
       "      <td>71984</td>\n",
       "      <td>59937.0</td>\n",
       "      <td>83.264337</td>\n",
       "    </tr>\n",
       "    <tr>\n",
       "      <th>5</th>\n",
       "      <td>2019</td>\n",
       "      <td>6</td>\n",
       "      <td>70184</td>\n",
       "      <td>58459.0</td>\n",
       "      <td>83.293913</td>\n",
       "    </tr>\n",
       "    <tr>\n",
       "      <th>6</th>\n",
       "      <td>2020</td>\n",
       "      <td>4</td>\n",
       "      <td>71155</td>\n",
       "      <td>58581.0</td>\n",
       "      <td>82.328719</td>\n",
       "    </tr>\n",
       "    <tr>\n",
       "      <th>7</th>\n",
       "      <td>2020</td>\n",
       "      <td>5</td>\n",
       "      <td>70956</td>\n",
       "      <td>60494.0</td>\n",
       "      <td>85.255651</td>\n",
       "    </tr>\n",
       "    <tr>\n",
       "      <th>8</th>\n",
       "      <td>2020</td>\n",
       "      <td>6</td>\n",
       "      <td>71931</td>\n",
       "      <td>61229.0</td>\n",
       "      <td>85.121853</td>\n",
       "    </tr>\n",
       "    <tr>\n",
       "      <th>9</th>\n",
       "      <td>2021</td>\n",
       "      <td>4</td>\n",
       "      <td>69646</td>\n",
       "      <td>59468.0</td>\n",
       "      <td>85.386095</td>\n",
       "    </tr>\n",
       "    <tr>\n",
       "      <th>10</th>\n",
       "      <td>2021</td>\n",
       "      <td>5</td>\n",
       "      <td>71089</td>\n",
       "      <td>61360.0</td>\n",
       "      <td>86.314338</td>\n",
       "    </tr>\n",
       "    <tr>\n",
       "      <th>11</th>\n",
       "      <td>2021</td>\n",
       "      <td>6</td>\n",
       "      <td>70963</td>\n",
       "      <td>61435.0</td>\n",
       "      <td>86.573285</td>\n",
       "    </tr>\n",
       "    <tr>\n",
       "      <th>12</th>\n",
       "      <td>2022</td>\n",
       "      <td>4</td>\n",
       "      <td>68096</td>\n",
       "      <td>59174.0</td>\n",
       "      <td>86.897909</td>\n",
       "    </tr>\n",
       "    <tr>\n",
       "      <th>13</th>\n",
       "      <td>2022</td>\n",
       "      <td>5</td>\n",
       "      <td>69586</td>\n",
       "      <td>61649.0</td>\n",
       "      <td>88.593970</td>\n",
       "    </tr>\n",
       "    <tr>\n",
       "      <th>14</th>\n",
       "      <td>2022</td>\n",
       "      <td>6</td>\n",
       "      <td>71059</td>\n",
       "      <td>62133.0</td>\n",
       "      <td>87.438607</td>\n",
       "    </tr>\n",
       "    <tr>\n",
       "      <th>15</th>\n",
       "      <td>2023</td>\n",
       "      <td>4</td>\n",
       "      <td>67329</td>\n",
       "      <td>58335.0</td>\n",
       "      <td>86.641715</td>\n",
       "    </tr>\n",
       "    <tr>\n",
       "      <th>16</th>\n",
       "      <td>2023</td>\n",
       "      <td>5</td>\n",
       "      <td>67998</td>\n",
       "      <td>60947.0</td>\n",
       "      <td>89.630577</td>\n",
       "    </tr>\n",
       "    <tr>\n",
       "      <th>17</th>\n",
       "      <td>2023</td>\n",
       "      <td>6</td>\n",
       "      <td>69516</td>\n",
       "      <td>62120.0</td>\n",
       "      <td>89.360723</td>\n",
       "    </tr>\n",
       "    <tr>\n",
       "      <th>18</th>\n",
       "      <td>2024</td>\n",
       "      <td>4</td>\n",
       "      <td>66298</td>\n",
       "      <td>57131.0</td>\n",
       "      <td>86.173037</td>\n",
       "    </tr>\n",
       "    <tr>\n",
       "      <th>19</th>\n",
       "      <td>2024</td>\n",
       "      <td>5</td>\n",
       "      <td>67241</td>\n",
       "      <td>60091.0</td>\n",
       "      <td>89.366607</td>\n",
       "    </tr>\n",
       "    <tr>\n",
       "      <th>20</th>\n",
       "      <td>2024</td>\n",
       "      <td>6</td>\n",
       "      <td>67936</td>\n",
       "      <td>61453.0</td>\n",
       "      <td>90.457195</td>\n",
       "    </tr>\n",
       "  </tbody>\n",
       "</table>\n",
       "</div>"
      ],
      "text/plain": [
       "    Graduation Year  Duration  # Total Cohort  # Grads     Grad %\n",
       "0              2018         4           72096  56788.0  78.767199\n",
       "1              2018         5           70207  57281.0  81.588730\n",
       "2              2018         6           71035  58617.0  82.518477\n",
       "3              2019         4           71107  56901.0  80.021658\n",
       "4              2019         5           71984  59937.0  83.264337\n",
       "5              2019         6           70184  58459.0  83.293913\n",
       "6              2020         4           71155  58581.0  82.328719\n",
       "7              2020         5           70956  60494.0  85.255651\n",
       "8              2020         6           71931  61229.0  85.121853\n",
       "9              2021         4           69646  59468.0  85.386095\n",
       "10             2021         5           71089  61360.0  86.314338\n",
       "11             2021         6           70963  61435.0  86.573285\n",
       "12             2022         4           68096  59174.0  86.897909\n",
       "13             2022         5           69586  61649.0  88.593970\n",
       "14             2022         6           71059  62133.0  87.438607\n",
       "15             2023         4           67329  58335.0  86.641715\n",
       "16             2023         5           67998  60947.0  89.630577\n",
       "17             2023         6           69516  62120.0  89.360723\n",
       "18             2024         4           66298  57131.0  86.173037\n",
       "19             2024         5           67241  60091.0  89.366607\n",
       "20             2024         6           67936  61453.0  90.457195"
      ]
     },
     "execution_count": 38,
     "metadata": {},
     "output_type": "execute_result"
    }
   ],
   "source": [
    "general_duration_data_rates = general_duration_data[['Graduation Year', 'Duration', '# Total Cohort', '# Grads']].copy()\n",
    "general_duration_data_rates['Grad %'] = general_duration_data_rates['# Grads'] / general_duration_data_rates['# Total Cohort'] * 100\n",
    "general_duration_data_rates"
   ]
  },
  {
   "cell_type": "code",
   "execution_count": 39,
   "metadata": {},
   "outputs": [
    {
     "data": {
      "application/vnd.plotly.v1+json": {
       "config": {
        "plotlyServerURL": "https://plot.ly"
       },
       "data": [
        {
         "name": "4 Years",
         "type": "scatter",
         "x": [
          2018,
          2019,
          2020,
          2021,
          2022,
          2023,
          2024
         ],
         "y": [
          78.76719928983577,
          80.02165750207433,
          82.32871899374605,
          85.38609539672056,
          86.89790883458647,
          86.64171456578889,
          86.17303689402395
         ]
        },
        {
         "name": "5 Years",
         "type": "scatter",
         "x": [
          2018,
          2019,
          2020,
          2021,
          2022,
          2023,
          2024
         ],
         "y": [
          81.58873046847181,
          83.26433651922649,
          85.25565138959355,
          86.31433836458524,
          88.59397005144713,
          89.63057736992265,
          89.3666066834223
         ]
        },
        {
         "name": "6 Years",
         "type": "scatter",
         "x": [
          2018,
          2019,
          2020,
          2021,
          2022,
          2023,
          2024
         ],
         "y": [
          82.51847680720772,
          83.2939131425966,
          85.12185288679429,
          86.57328466947564,
          87.43860735445193,
          89.36072271131825,
          90.45719500706547
         ]
        }
       ],
       "layout": {
        "showlegend": true,
        "template": {
         "layout": {
          "plot_bgcolor": "white",
          "xaxis": {
           "gridcolor": "lightgray"
          },
          "yaxis": {
           "gridcolor": "lightgray"
          }
         }
        },
        "title": {
         "text": "Graduation Rate Based on Duration"
        },
        "xaxis": {
         "ticktext": [
          2018,
          2018,
          2018,
          2019,
          2019,
          2019,
          2020,
          2020,
          2020,
          2021,
          2021,
          2021,
          2022,
          2022,
          2022,
          2023,
          2023,
          2023,
          2024,
          2024,
          2024
         ],
         "tickvals": [
          2018,
          2018,
          2018,
          2019,
          2019,
          2019,
          2020,
          2020,
          2020,
          2021,
          2021,
          2021,
          2022,
          2022,
          2022,
          2023,
          2023,
          2023,
          2024,
          2024,
          2024
         ],
         "title": {
          "text": "Year"
         }
        },
        "yaxis": {
         "title": {
          "text": "Graduation %"
         }
        }
       }
      }
     },
     "metadata": {},
     "output_type": "display_data"
    }
   ],
   "source": [
    "fig = go.Figure()\n",
    "\n",
    "for duration in general_duration_data_rates['Duration'].unique():\n",
    "    duration_row = general_duration_data_rates[general_duration_data_rates['Duration'] == duration]\n",
    "    fig.add_trace(go.Scatter(x=duration_row['Graduation Year'], y=duration_row['Grad %'], name=f'{duration} Years'))\n",
    "\n",
    "set_line_fig_labels(fig=fig, fig_title=\"Graduation Rate Based on Duration\", x_ticks=general_duration_data_rates['Graduation Year'], x_title='Year', y_title='Graduation %')\n",
    "fig.show()"
   ]
  },
  {
   "cell_type": "markdown",
   "metadata": {},
   "source": [
    "### Dropouts"
   ]
  },
  {
   "cell_type": "code",
   "execution_count": 40,
   "metadata": {},
   "outputs": [
    {
     "data": {
      "text/html": [
       "<div>\n",
       "<style scoped>\n",
       "    .dataframe tbody tr th:only-of-type {\n",
       "        vertical-align: middle;\n",
       "    }\n",
       "\n",
       "    .dataframe tbody tr th {\n",
       "        vertical-align: top;\n",
       "    }\n",
       "\n",
       "    .dataframe thead th {\n",
       "        text-align: right;\n",
       "    }\n",
       "</style>\n",
       "<table border=\"1\" class=\"dataframe\">\n",
       "  <thead>\n",
       "    <tr style=\"text-align: right;\">\n",
       "      <th></th>\n",
       "      <th>Graduation Year</th>\n",
       "      <th>Duration</th>\n",
       "      <th># Total Cohort</th>\n",
       "      <th># Grads</th>\n",
       "      <th># Dropout</th>\n",
       "      <th># No Grads</th>\n",
       "      <th>Dropout %</th>\n",
       "    </tr>\n",
       "  </thead>\n",
       "  <tbody>\n",
       "    <tr>\n",
       "      <th>0</th>\n",
       "      <td>2018</td>\n",
       "      <td>4</td>\n",
       "      <td>72096</td>\n",
       "      <td>56788.0</td>\n",
       "      <td>5119.0</td>\n",
       "      <td>15308.0</td>\n",
       "      <td>33.440031</td>\n",
       "    </tr>\n",
       "    <tr>\n",
       "      <th>1</th>\n",
       "      <td>2018</td>\n",
       "      <td>5</td>\n",
       "      <td>70207</td>\n",
       "      <td>57281.0</td>\n",
       "      <td>7712.0</td>\n",
       "      <td>12926.0</td>\n",
       "      <td>59.662695</td>\n",
       "    </tr>\n",
       "    <tr>\n",
       "      <th>2</th>\n",
       "      <td>2018</td>\n",
       "      <td>6</td>\n",
       "      <td>71035</td>\n",
       "      <td>58617.0</td>\n",
       "      <td>9010.0</td>\n",
       "      <td>12418.0</td>\n",
       "      <td>72.555967</td>\n",
       "    </tr>\n",
       "    <tr>\n",
       "      <th>3</th>\n",
       "      <td>2019</td>\n",
       "      <td>4</td>\n",
       "      <td>71107</td>\n",
       "      <td>56901.0</td>\n",
       "      <td>5319.0</td>\n",
       "      <td>14206.0</td>\n",
       "      <td>37.441926</td>\n",
       "    </tr>\n",
       "    <tr>\n",
       "      <th>4</th>\n",
       "      <td>2019</td>\n",
       "      <td>5</td>\n",
       "      <td>71984</td>\n",
       "      <td>59937.0</td>\n",
       "      <td>8485.0</td>\n",
       "      <td>12047.0</td>\n",
       "      <td>70.432473</td>\n",
       "    </tr>\n",
       "    <tr>\n",
       "      <th>5</th>\n",
       "      <td>2019</td>\n",
       "      <td>6</td>\n",
       "      <td>70184</td>\n",
       "      <td>58459.0</td>\n",
       "      <td>8687.0</td>\n",
       "      <td>11725.0</td>\n",
       "      <td>74.089552</td>\n",
       "    </tr>\n",
       "    <tr>\n",
       "      <th>6</th>\n",
       "      <td>2020</td>\n",
       "      <td>4</td>\n",
       "      <td>71155</td>\n",
       "      <td>58581.0</td>\n",
       "      <td>4010.0</td>\n",
       "      <td>12574.0</td>\n",
       "      <td>31.891204</td>\n",
       "    </tr>\n",
       "    <tr>\n",
       "      <th>7</th>\n",
       "      <td>2020</td>\n",
       "      <td>5</td>\n",
       "      <td>70956</td>\n",
       "      <td>60494.0</td>\n",
       "      <td>6795.0</td>\n",
       "      <td>10462.0</td>\n",
       "      <td>64.949340</td>\n",
       "    </tr>\n",
       "    <tr>\n",
       "      <th>8</th>\n",
       "      <td>2020</td>\n",
       "      <td>6</td>\n",
       "      <td>71931</td>\n",
       "      <td>61229.0</td>\n",
       "      <td>8343.0</td>\n",
       "      <td>10702.0</td>\n",
       "      <td>77.957391</td>\n",
       "    </tr>\n",
       "    <tr>\n",
       "      <th>9</th>\n",
       "      <td>2021</td>\n",
       "      <td>4</td>\n",
       "      <td>69646</td>\n",
       "      <td>59468.0</td>\n",
       "      <td>3207.0</td>\n",
       "      <td>10178.0</td>\n",
       "      <td>31.509137</td>\n",
       "    </tr>\n",
       "    <tr>\n",
       "      <th>10</th>\n",
       "      <td>2021</td>\n",
       "      <td>5</td>\n",
       "      <td>71089</td>\n",
       "      <td>61360.0</td>\n",
       "      <td>5654.0</td>\n",
       "      <td>9729.0</td>\n",
       "      <td>58.114914</td>\n",
       "    </tr>\n",
       "    <tr>\n",
       "      <th>11</th>\n",
       "      <td>2021</td>\n",
       "      <td>6</td>\n",
       "      <td>70963</td>\n",
       "      <td>61435.0</td>\n",
       "      <td>6993.0</td>\n",
       "      <td>9528.0</td>\n",
       "      <td>73.394207</td>\n",
       "    </tr>\n",
       "    <tr>\n",
       "      <th>12</th>\n",
       "      <td>2022</td>\n",
       "      <td>4</td>\n",
       "      <td>68096</td>\n",
       "      <td>59174.0</td>\n",
       "      <td>3382.0</td>\n",
       "      <td>8922.0</td>\n",
       "      <td>37.906299</td>\n",
       "    </tr>\n",
       "    <tr>\n",
       "      <th>13</th>\n",
       "      <td>2022</td>\n",
       "      <td>5</td>\n",
       "      <td>69586</td>\n",
       "      <td>61649.0</td>\n",
       "      <td>5204.0</td>\n",
       "      <td>7937.0</td>\n",
       "      <td>65.566335</td>\n",
       "    </tr>\n",
       "    <tr>\n",
       "      <th>14</th>\n",
       "      <td>2022</td>\n",
       "      <td>6</td>\n",
       "      <td>71059</td>\n",
       "      <td>62133.0</td>\n",
       "      <td>6611.0</td>\n",
       "      <td>8926.0</td>\n",
       "      <td>74.064531</td>\n",
       "    </tr>\n",
       "    <tr>\n",
       "      <th>15</th>\n",
       "      <td>2023</td>\n",
       "      <td>4</td>\n",
       "      <td>67329</td>\n",
       "      <td>58335.0</td>\n",
       "      <td>3414.0</td>\n",
       "      <td>8994.0</td>\n",
       "      <td>37.958639</td>\n",
       "    </tr>\n",
       "    <tr>\n",
       "      <th>16</th>\n",
       "      <td>2023</td>\n",
       "      <td>5</td>\n",
       "      <td>67998</td>\n",
       "      <td>60947.0</td>\n",
       "      <td>4840.0</td>\n",
       "      <td>7051.0</td>\n",
       "      <td>68.642746</td>\n",
       "    </tr>\n",
       "    <tr>\n",
       "      <th>17</th>\n",
       "      <td>2023</td>\n",
       "      <td>6</td>\n",
       "      <td>69516</td>\n",
       "      <td>62120.0</td>\n",
       "      <td>5687.0</td>\n",
       "      <td>7396.0</td>\n",
       "      <td>76.892915</td>\n",
       "    </tr>\n",
       "    <tr>\n",
       "      <th>18</th>\n",
       "      <td>2024</td>\n",
       "      <td>4</td>\n",
       "      <td>66298</td>\n",
       "      <td>57131.0</td>\n",
       "      <td>3022.0</td>\n",
       "      <td>9167.0</td>\n",
       "      <td>32.966074</td>\n",
       "    </tr>\n",
       "    <tr>\n",
       "      <th>19</th>\n",
       "      <td>2024</td>\n",
       "      <td>5</td>\n",
       "      <td>67241</td>\n",
       "      <td>60091.0</td>\n",
       "      <td>4956.0</td>\n",
       "      <td>7150.0</td>\n",
       "      <td>69.314685</td>\n",
       "    </tr>\n",
       "    <tr>\n",
       "      <th>20</th>\n",
       "      <td>2024</td>\n",
       "      <td>6</td>\n",
       "      <td>67936</td>\n",
       "      <td>61453.0</td>\n",
       "      <td>5151.0</td>\n",
       "      <td>6483.0</td>\n",
       "      <td>79.453957</td>\n",
       "    </tr>\n",
       "  </tbody>\n",
       "</table>\n",
       "</div>"
      ],
      "text/plain": [
       "    Graduation Year  Duration  # Total Cohort  # Grads  # Dropout  # No Grads  \\\n",
       "0              2018         4           72096  56788.0     5119.0     15308.0   \n",
       "1              2018         5           70207  57281.0     7712.0     12926.0   \n",
       "2              2018         6           71035  58617.0     9010.0     12418.0   \n",
       "3              2019         4           71107  56901.0     5319.0     14206.0   \n",
       "4              2019         5           71984  59937.0     8485.0     12047.0   \n",
       "5              2019         6           70184  58459.0     8687.0     11725.0   \n",
       "6              2020         4           71155  58581.0     4010.0     12574.0   \n",
       "7              2020         5           70956  60494.0     6795.0     10462.0   \n",
       "8              2020         6           71931  61229.0     8343.0     10702.0   \n",
       "9              2021         4           69646  59468.0     3207.0     10178.0   \n",
       "10             2021         5           71089  61360.0     5654.0      9729.0   \n",
       "11             2021         6           70963  61435.0     6993.0      9528.0   \n",
       "12             2022         4           68096  59174.0     3382.0      8922.0   \n",
       "13             2022         5           69586  61649.0     5204.0      7937.0   \n",
       "14             2022         6           71059  62133.0     6611.0      8926.0   \n",
       "15             2023         4           67329  58335.0     3414.0      8994.0   \n",
       "16             2023         5           67998  60947.0     4840.0      7051.0   \n",
       "17             2023         6           69516  62120.0     5687.0      7396.0   \n",
       "18             2024         4           66298  57131.0     3022.0      9167.0   \n",
       "19             2024         5           67241  60091.0     4956.0      7150.0   \n",
       "20             2024         6           67936  61453.0     5151.0      6483.0   \n",
       "\n",
       "    Dropout %  \n",
       "0   33.440031  \n",
       "1   59.662695  \n",
       "2   72.555967  \n",
       "3   37.441926  \n",
       "4   70.432473  \n",
       "5   74.089552  \n",
       "6   31.891204  \n",
       "7   64.949340  \n",
       "8   77.957391  \n",
       "9   31.509137  \n",
       "10  58.114914  \n",
       "11  73.394207  \n",
       "12  37.906299  \n",
       "13  65.566335  \n",
       "14  74.064531  \n",
       "15  37.958639  \n",
       "16  68.642746  \n",
       "17  76.892915  \n",
       "18  32.966074  \n",
       "19  69.314685  \n",
       "20  79.453957  "
      ]
     },
     "execution_count": 40,
     "metadata": {},
     "output_type": "execute_result"
    }
   ],
   "source": [
    "general_duration_data_dropout = general_duration_data[['Graduation Year', 'Duration', '# Total Cohort', '# Grads', '# Dropout']].copy()\n",
    "general_duration_data_dropout['# No Grads'] = general_duration_data_dropout['# Total Cohort'] - general_duration_data_dropout['# Grads']\n",
    "general_duration_data_dropout['Dropout %'] = general_duration_data_dropout['# Dropout'] / general_duration_data_dropout['# No Grads'] * 100\n",
    "general_duration_data_dropout"
   ]
  },
  {
   "cell_type": "code",
   "execution_count": 41,
   "metadata": {},
   "outputs": [
    {
     "data": {
      "application/vnd.plotly.v1+json": {
       "config": {
        "plotlyServerURL": "https://plot.ly"
       },
       "data": [
        {
         "name": "4 Years",
         "type": "scatter",
         "x": [
          2018,
          2019,
          2020,
          2021,
          2022,
          2023,
          2024
         ],
         "y": [
          33.440031356153646,
          37.44192594678305,
          31.891204071894386,
          31.509137355079588,
          37.906299036090566,
          37.95863909272848,
          32.96607396094687
         ]
        },
        {
         "name": "5 Years",
         "type": "scatter",
         "x": [
          2018,
          2019,
          2020,
          2021,
          2022,
          2023,
          2024
         ],
         "y": [
          59.6626953427201,
          70.43247281480866,
          64.94934047027337,
          58.11491417411862,
          65.56633488723699,
          68.64274570982839,
          69.3146853146853
         ]
        },
        {
         "name": "6 Years",
         "type": "scatter",
         "x": [
          2018,
          2019,
          2020,
          2021,
          2022,
          2023,
          2024
         ],
         "y": [
          72.5559671444677,
          74.08955223880596,
          77.95739114184265,
          73.3942065491184,
          74.06453058480842,
          76.89291508923742,
          79.45395650161961
         ]
        }
       ],
       "layout": {
        "showlegend": true,
        "template": {
         "layout": {
          "plot_bgcolor": "white",
          "xaxis": {
           "gridcolor": "lightgray"
          },
          "yaxis": {
           "gridcolor": "lightgray"
          }
         }
        },
        "title": {
         "text": "Dropout Rates Based on Duration"
        },
        "xaxis": {
         "ticktext": [
          2018,
          2018,
          2018,
          2019,
          2019,
          2019,
          2020,
          2020,
          2020,
          2021,
          2021,
          2021,
          2022,
          2022,
          2022,
          2023,
          2023,
          2023,
          2024,
          2024,
          2024
         ],
         "tickvals": [
          2018,
          2018,
          2018,
          2019,
          2019,
          2019,
          2020,
          2020,
          2020,
          2021,
          2021,
          2021,
          2022,
          2022,
          2022,
          2023,
          2023,
          2023,
          2024,
          2024,
          2024
         ],
         "title": {
          "text": "Year"
         }
        },
        "yaxis": {
         "title": {
          "text": "Dropout %"
         }
        }
       }
      }
     },
     "metadata": {},
     "output_type": "display_data"
    }
   ],
   "source": [
    "fig = go.Figure()\n",
    "for duration in general_duration_data_dropout['Duration'].unique():\n",
    "    duration_row = general_duration_data_dropout[general_duration_data_dropout['Duration'] == duration]\n",
    "    fig.add_trace(go.Scatter(x=duration_row['Graduation Year'], y=duration_row['Dropout %'], name=f'{duration} Years'))\n",
    "\n",
    "set_line_fig_labels(fig=fig, fig_title='Dropout Rates Based on Duration', x_ticks=general_duration_data_dropout['Graduation Year'], x_title='Year', y_title='Dropout %')\n",
    "\n",
    "fig.show()"
   ]
  },
  {
   "cell_type": "markdown",
   "metadata": {},
   "source": [
    "## Clusters"
   ]
  },
  {
   "cell_type": "code",
   "execution_count": 42,
   "metadata": {},
   "outputs": [],
   "source": [
    "from sklearn.cluster import KMeans"
   ]
  },
  {
   "cell_type": "code",
   "execution_count": 43,
   "metadata": {},
   "outputs": [
    {
     "data": {
      "text/html": [
       "<div>\n",
       "<style scoped>\n",
       "    .dataframe tbody tr th:only-of-type {\n",
       "        vertical-align: middle;\n",
       "    }\n",
       "\n",
       "    .dataframe tbody tr th {\n",
       "        vertical-align: top;\n",
       "    }\n",
       "\n",
       "    .dataframe thead th {\n",
       "        text-align: right;\n",
       "    }\n",
       "</style>\n",
       "<table border=\"1\" class=\"dataframe\">\n",
       "  <thead>\n",
       "    <tr style=\"text-align: right;\">\n",
       "      <th></th>\n",
       "      <th>School Name</th>\n",
       "      <th>Graduation Year</th>\n",
       "      <th># Grads</th>\n",
       "      <th># Total Cohort</th>\n",
       "      <th>% Grad</th>\n",
       "    </tr>\n",
       "  </thead>\n",
       "  <tbody>\n",
       "    <tr>\n",
       "      <th>0</th>\n",
       "      <td>47 THE AMERICAN SIGN LANGUAGE AND ENGLISH SECO...</td>\n",
       "      <td>2018</td>\n",
       "      <td>117.0</td>\n",
       "      <td>128</td>\n",
       "      <td>91.406250</td>\n",
       "    </tr>\n",
       "    <tr>\n",
       "      <th>1</th>\n",
       "      <td>A-TECH HIGH SCHOOL</td>\n",
       "      <td>2018</td>\n",
       "      <td>188.0</td>\n",
       "      <td>254</td>\n",
       "      <td>74.015748</td>\n",
       "    </tr>\n",
       "    <tr>\n",
       "      <th>2</th>\n",
       "      <td>A. PHILIP RANDOLPH CAMPUS HIGH SCHOOL</td>\n",
       "      <td>2018</td>\n",
       "      <td>709.0</td>\n",
       "      <td>879</td>\n",
       "      <td>80.659841</td>\n",
       "    </tr>\n",
       "    <tr>\n",
       "      <th>3</th>\n",
       "      <td>ABRAHAM LINCOLN HIGH SCHOOL</td>\n",
       "      <td>2018</td>\n",
       "      <td>1113.0</td>\n",
       "      <td>1445</td>\n",
       "      <td>77.024221</td>\n",
       "    </tr>\n",
       "    <tr>\n",
       "      <th>4</th>\n",
       "      <td>ACADEMY FOR CAREERS IN TELEVISION AND FILM</td>\n",
       "      <td>2018</td>\n",
       "      <td>386.0</td>\n",
       "      <td>390</td>\n",
       "      <td>98.974359</td>\n",
       "    </tr>\n",
       "    <tr>\n",
       "      <th>...</th>\n",
       "      <td>...</td>\n",
       "      <td>...</td>\n",
       "      <td>...</td>\n",
       "      <td>...</td>\n",
       "      <td>...</td>\n",
       "    </tr>\n",
       "    <tr>\n",
       "      <th>484</th>\n",
       "      <td>YORK EARLY COLLEGE ACADEMY</td>\n",
       "      <td>2018</td>\n",
       "      <td>242.0</td>\n",
       "      <td>245</td>\n",
       "      <td>98.775510</td>\n",
       "    </tr>\n",
       "    <tr>\n",
       "      <th>485</th>\n",
       "      <td>YOUNG WOMEN'S LEADERSHIP SCHOOL</td>\n",
       "      <td>2018</td>\n",
       "      <td>239.0</td>\n",
       "      <td>239</td>\n",
       "      <td>100.000000</td>\n",
       "    </tr>\n",
       "    <tr>\n",
       "      <th>486</th>\n",
       "      <td>YOUNG WOMEN'S LEADERSHIP SCHOOL OF BROOKLYN</td>\n",
       "      <td>2018</td>\n",
       "      <td>181.0</td>\n",
       "      <td>183</td>\n",
       "      <td>98.907104</td>\n",
       "    </tr>\n",
       "    <tr>\n",
       "      <th>487</th>\n",
       "      <td>YOUNG WOMEN'S LEADERSHIP SCHOOL, ASTORIA</td>\n",
       "      <td>2018</td>\n",
       "      <td>232.0</td>\n",
       "      <td>235</td>\n",
       "      <td>98.723404</td>\n",
       "    </tr>\n",
       "    <tr>\n",
       "      <th>488</th>\n",
       "      <td>YOUNG WOMEN'S LEADERSHIP SCHOOL, QUEENS</td>\n",
       "      <td>2018</td>\n",
       "      <td>218.0</td>\n",
       "      <td>223</td>\n",
       "      <td>97.757848</td>\n",
       "    </tr>\n",
       "  </tbody>\n",
       "</table>\n",
       "<p>489 rows × 5 columns</p>\n",
       "</div>"
      ],
      "text/plain": [
       "                                           School Name  Graduation Year  \\\n",
       "0    47 THE AMERICAN SIGN LANGUAGE AND ENGLISH SECO...             2018   \n",
       "1                                   A-TECH HIGH SCHOOL             2018   \n",
       "2                A. PHILIP RANDOLPH CAMPUS HIGH SCHOOL             2018   \n",
       "3                          ABRAHAM LINCOLN HIGH SCHOOL             2018   \n",
       "4           ACADEMY FOR CAREERS IN TELEVISION AND FILM             2018   \n",
       "..                                                 ...              ...   \n",
       "484                         YORK EARLY COLLEGE ACADEMY             2018   \n",
       "485                    YOUNG WOMEN'S LEADERSHIP SCHOOL             2018   \n",
       "486        YOUNG WOMEN'S LEADERSHIP SCHOOL OF BROOKLYN             2018   \n",
       "487           YOUNG WOMEN'S LEADERSHIP SCHOOL, ASTORIA             2018   \n",
       "488            YOUNG WOMEN'S LEADERSHIP SCHOOL, QUEENS             2018   \n",
       "\n",
       "     # Grads  # Total Cohort      % Grad  \n",
       "0      117.0             128   91.406250  \n",
       "1      188.0             254   74.015748  \n",
       "2      709.0             879   80.659841  \n",
       "3     1113.0            1445   77.024221  \n",
       "4      386.0             390   98.974359  \n",
       "..       ...             ...         ...  \n",
       "484    242.0             245   98.775510  \n",
       "485    239.0             239  100.000000  \n",
       "486    181.0             183   98.907104  \n",
       "487    232.0             235   98.723404  \n",
       "488    218.0             223   97.757848  \n",
       "\n",
       "[489 rows x 5 columns]"
      ]
     },
     "execution_count": 43,
     "metadata": {},
     "output_type": "execute_result"
    }
   ],
   "source": [
    "classify_data = all_graduates_general[all_graduates_general['Graduation Year'] == 2018]\n",
    "classify_data = classify_data.groupby(['School Name','Graduation Year']).agg({\n",
    "    '# Grads' : 'sum',\n",
    "    '# Total Cohort' : 'sum',\n",
    "}).reset_index()\n",
    "classify_data['% Grad'] = classify_data['# Grads'] / classify_data['# Total Cohort'] * 100\n",
    "classify_data"
   ]
  },
  {
   "cell_type": "code",
   "execution_count": 44,
   "metadata": {},
   "outputs": [
    {
     "data": {
      "text/plain": [
       "array([[ 91.40625   ],\n",
       "       [ 74.01574803],\n",
       "       [ 80.65984073],\n",
       "       [ 77.02422145],\n",
       "       [ 98.97435897],\n",
       "       [ 70.77625571],\n",
       "       [ 83.62831858],\n",
       "       [ 76.69172932],\n",
       "       [ 83.5443038 ],\n",
       "       [ 95.53571429],\n",
       "       [ 74.03508772],\n",
       "       [ 48.27586207],\n",
       "       [ 91.42011834],\n",
       "       [ 92.49011858],\n",
       "       [ 96.15931721],\n",
       "       [ 95.39641944],\n",
       "       [ 72.78481013],\n",
       "       [ 83.45864662],\n",
       "       [ 79.56989247],\n",
       "       [ 77.01149425],\n",
       "       [ 78.57142857],\n",
       "       [ 99.27536232],\n",
       "       [ 60.33519553],\n",
       "       [ 72.24334601],\n",
       "       [ 88.8568684 ],\n",
       "       [ 72.54901961],\n",
       "       [ 31.74061433],\n",
       "       [ 54.32098765],\n",
       "       [ 81.48148148],\n",
       "       [ 77.46478873],\n",
       "       [ 66.07142857],\n",
       "       [ 84.76070529],\n",
       "       [ 99.58506224],\n",
       "       [ 99.47089947],\n",
       "       [ 99.77578475],\n",
       "       [ 99.70149254],\n",
       "       [ 98.52882704],\n",
       "       [ 99.17098446],\n",
       "       [ 99.23664122],\n",
       "       [ 51.32743363],\n",
       "       [ 93.47079038],\n",
       "       [ 96.42857143],\n",
       "       [ 79.20792079],\n",
       "       [ 91.92499043],\n",
       "       [ 70.49689441],\n",
       "       [ 41.37931034],\n",
       "       [ 74.3718593 ],\n",
       "       [ 80.32258065],\n",
       "       [ 71.1026616 ],\n",
       "       [ 30.39647577],\n",
       "       [ 68.37606838],\n",
       "       [ 52.85171103],\n",
       "       [ 93.57798165],\n",
       "       [ 61.11111111],\n",
       "       [ 73.50746269],\n",
       "       [ 35.59322034],\n",
       "       [ 66.1341853 ],\n",
       "       [ 62.4       ],\n",
       "       [ 90.59405941],\n",
       "       [ 75.2851711 ],\n",
       "       [ 71.05263158],\n",
       "       [ 24.49799197],\n",
       "       [ 95.08196721],\n",
       "       [ 86.78571429],\n",
       "       [ 89.1509434 ],\n",
       "       [ 74.00611621],\n",
       "       [ 70.24221453],\n",
       "       [ 64.57142857],\n",
       "       [ 78.88446215],\n",
       "       [ 67.79661017],\n",
       "       [ 93.92523364],\n",
       "       [ 65.23702032],\n",
       "       [ 78.64583333],\n",
       "       [ 26.55737705],\n",
       "       [ 82.23350254],\n",
       "       [ 86.35014837],\n",
       "       [ 76.28865979],\n",
       "       [ 77.46478873],\n",
       "       [ 73.27586207],\n",
       "       [ 83.72093023],\n",
       "       [ 35.09615385],\n",
       "       [ 79.14110429],\n",
       "       [ 40.07092199],\n",
       "       [ 88.51851852],\n",
       "       [ 99.07621247],\n",
       "       [ 80.61674009],\n",
       "       [ 80.15564202],\n",
       "       [ 76.60818713],\n",
       "       [ 31.64556962],\n",
       "       [ 33.14285714],\n",
       "       [ 84.1607565 ],\n",
       "       [ 21.56862745],\n",
       "       [ 92.        ],\n",
       "       [ 97.27626459],\n",
       "       [ 83.26848249],\n",
       "       [ 67.33870968],\n",
       "       [ 98.12108559],\n",
       "       [ 93.23943662],\n",
       "       [ 84.97854077],\n",
       "       [ 86.43006263],\n",
       "       [ 98.67632368],\n",
       "       [ 84.93723849],\n",
       "       [ 44.62365591],\n",
       "       [ 31.67155425],\n",
       "       [ 77.25118483],\n",
       "       [ 75.        ],\n",
       "       [ 85.29411765],\n",
       "       [ 88.76404494],\n",
       "       [ 86.69064748],\n",
       "       [ 70.40572792],\n",
       "       [ 46.28571429],\n",
       "       [ 95.16728625],\n",
       "       [ 96.27507163],\n",
       "       [ 96.13259669],\n",
       "       [ 84.94623656],\n",
       "       [ 80.        ],\n",
       "       [ 99.60159363],\n",
       "       [ 82.24299065],\n",
       "       [ 93.98280802],\n",
       "       [ 80.51801802],\n",
       "       [ 70.        ],\n",
       "       [ 68.82352941],\n",
       "       [ 85.90785908],\n",
       "       [ 88.61003861],\n",
       "       [ 99.61977186],\n",
       "       [ 83.78378378],\n",
       "       [ 71.85929648],\n",
       "       [ 89.32926829],\n",
       "       [ 42.03389831],\n",
       "       [ 25.        ],\n",
       "       [ 61.09090909],\n",
       "       [100.        ],\n",
       "       [ 80.32128514],\n",
       "       [ 76.55367232],\n",
       "       [ 75.49668874],\n",
       "       [ 79.79274611],\n",
       "       [ 62.72141707],\n",
       "       [ 85.        ],\n",
       "       [ 82.97213622],\n",
       "       [ 78.74396135],\n",
       "       [ 62.8959276 ],\n",
       "       [ 80.08658009],\n",
       "       [ 94.84978541],\n",
       "       [ 91.74311927],\n",
       "       [ 82.29166667],\n",
       "       [ 52.86624204],\n",
       "       [ 92.09039548],\n",
       "       [ 94.79553903],\n",
       "       [ 71.5       ],\n",
       "       [ 96.51162791],\n",
       "       [ 82.81690141],\n",
       "       [ 30.17656501],\n",
       "       [ 85.92429254],\n",
       "       [ 75.72254335],\n",
       "       [ 99.76525822],\n",
       "       [ 64.82213439],\n",
       "       [ 91.9047619 ],\n",
       "       [ 29.79351032],\n",
       "       [ 84.76190476],\n",
       "       [ 64.86486486],\n",
       "       [ 73.70689655],\n",
       "       [ 88.66396761],\n",
       "       [ 85.71428571],\n",
       "       [ 87.83783784],\n",
       "       [ 71.7472119 ],\n",
       "       [ 73.74100719],\n",
       "       [ 72.36467236],\n",
       "       [ 76.5       ],\n",
       "       [ 46.57534247],\n",
       "       [ 98.63803038],\n",
       "       [ 67.07040121],\n",
       "       [ 73.17880795],\n",
       "       [ 90.45801527],\n",
       "       [ 96.94656489],\n",
       "       [ 76.27118644],\n",
       "       [ 46.34146341],\n",
       "       [ 92.83228949],\n",
       "       [ 41.81818182],\n",
       "       [ 81.53002133],\n",
       "       [ 44.82758621],\n",
       "       [ 78.26086957],\n",
       "       [ 90.04884005],\n",
       "       [ 96.484375  ],\n",
       "       [ 97.2972973 ],\n",
       "       [ 73.15436242],\n",
       "       [ 89.24137931],\n",
       "       [ 78.10945274],\n",
       "       [ 68.52459016],\n",
       "       [ 77.14285714],\n",
       "       [ 58.33333333],\n",
       "       [ 68.29268293],\n",
       "       [ 94.76923077],\n",
       "       [ 84.69135802],\n",
       "       [ 81.30081301],\n",
       "       [ 67.66666667],\n",
       "       [ 76.59574468],\n",
       "       [ 84.27299703],\n",
       "       [ 81.25      ],\n",
       "       [ 68.93939394],\n",
       "       [ 73.07692308],\n",
       "       [ 31.34796238],\n",
       "       [ 76.73956262],\n",
       "       [ 91.5407855 ],\n",
       "       [ 32.65306122],\n",
       "       [ 62.38095238],\n",
       "       [ 83.52272727],\n",
       "       [ 61.60830091],\n",
       "       [ 78.64583333],\n",
       "       [ 92.92929293],\n",
       "       [ 63.07692308],\n",
       "       [ 90.88050314],\n",
       "       [ 97.08737864],\n",
       "       [ 77.15053763],\n",
       "       [ 99.35483871],\n",
       "       [ 78.13620072],\n",
       "       [ 87.37083812],\n",
       "       [ 55.85106383],\n",
       "       [ 74.19354839],\n",
       "       [ 93.11246731],\n",
       "       [ 72.82051282],\n",
       "       [ 72.34042553],\n",
       "       [ 86.51685393],\n",
       "       [ 81.17283951],\n",
       "       [ 99.14040115],\n",
       "       [ 63.36336336],\n",
       "       [ 91.90031153],\n",
       "       [ 96.4516129 ],\n",
       "       [ 80.26315789],\n",
       "       [ 79.76190476],\n",
       "       [ 70.12448133],\n",
       "       [ 82.59493671],\n",
       "       [ 52.88683603],\n",
       "       [100.        ],\n",
       "       [ 87.90035587],\n",
       "       [ 70.13333333],\n",
       "       [ 77.24719101],\n",
       "       [ 89.73843058],\n",
       "       [ 82.82442748],\n",
       "       [ 77.18631179],\n",
       "       [ 79.5620438 ],\n",
       "       [ 90.72052402],\n",
       "       [ 54.54545455],\n",
       "       [ 77.09359606],\n",
       "       [ 86.93009119],\n",
       "       [ 71.90082645],\n",
       "       [ 90.20408163],\n",
       "       [ 70.        ],\n",
       "       [ 78.57142857],\n",
       "       [ 85.90604027],\n",
       "       [ 87.5       ],\n",
       "       [ 34.        ],\n",
       "       [ 82.75340393],\n",
       "       [ 38.59649123],\n",
       "       [ 96.        ],\n",
       "       [ 91.79487179],\n",
       "       [ 74.64285714],\n",
       "       [ 72.06477733],\n",
       "       [ 76.        ],\n",
       "       [ 73.16176471],\n",
       "       [ 74.05857741],\n",
       "       [ 57.14285714],\n",
       "       [ 78.03278689],\n",
       "       [ 86.04651163],\n",
       "       [ 90.82568807],\n",
       "       [ 71.68949772],\n",
       "       [ 87.65743073],\n",
       "       [ 47.70114943],\n",
       "       [ 85.44824599],\n",
       "       [ 27.3015873 ],\n",
       "       [ 73.63537118],\n",
       "       [ 78.89287137],\n",
       "       [ 83.10954064],\n",
       "       [ 86.02620087],\n",
       "       [ 50.        ],\n",
       "       [ 65.37102473],\n",
       "       [ 75.28735632],\n",
       "       [ 98.38709677],\n",
       "       [ 56.86813187],\n",
       "       [ 92.57142857],\n",
       "       [ 84.38818565],\n",
       "       [ 70.98214286],\n",
       "       [ 82.22222222],\n",
       "       [ 90.68627451],\n",
       "       [ 78.36538462],\n",
       "       [ 48.35164835],\n",
       "       [ 96.12015019],\n",
       "       [ 35.08064516],\n",
       "       [ 41.6893733 ],\n",
       "       [ 93.96984925],\n",
       "       [ 72.9903537 ],\n",
       "       [ 58.82352941],\n",
       "       [ 42.9558011 ],\n",
       "       [ 85.02202643],\n",
       "       [ 72.95081967],\n",
       "       [ 98.79518072],\n",
       "       [ 66.49484536],\n",
       "       [ 95.01385042],\n",
       "       [ 88.39590444],\n",
       "       [ 97.67040552],\n",
       "       [ 32.97985154],\n",
       "       [ 96.42857143],\n",
       "       [ 81.49779736],\n",
       "       [100.        ],\n",
       "       [ 93.89067524],\n",
       "       [ 75.4601227 ],\n",
       "       [ 77.24068479],\n",
       "       [ 98.91598916],\n",
       "       [ 77.02265372],\n",
       "       [ 98.66863905],\n",
       "       [ 44.11764706],\n",
       "       [ 98.45679012],\n",
       "       [ 57.77777778],\n",
       "       [ 75.57840617],\n",
       "       [ 93.64631133],\n",
       "       [ 77.53846154],\n",
       "       [100.        ],\n",
       "       [ 99.58932238],\n",
       "       [ 53.26086957],\n",
       "       [ 74.03508772],\n",
       "       [ 81.73076923],\n",
       "       [ 75.        ],\n",
       "       [ 92.08633094],\n",
       "       [ 40.37267081],\n",
       "       [ 61.95652174],\n",
       "       [ 73.88535032],\n",
       "       [ 77.51196172],\n",
       "       [ 65.20737327],\n",
       "       [ 99.51100244],\n",
       "       [ 99.4269341 ],\n",
       "       [ 79.72972973],\n",
       "       [ 87.25868726],\n",
       "       [ 10.71428571],\n",
       "       [ 83.45463367],\n",
       "       [ 97.8       ],\n",
       "       [ 58.62068966],\n",
       "       [ 80.64253762],\n",
       "       [ 90.66666667],\n",
       "       [ 74.18086501],\n",
       "       [ 25.        ],\n",
       "       [ 98.76160991],\n",
       "       [ 30.31496063],\n",
       "       [ 78.30188679],\n",
       "       [ 86.69950739],\n",
       "       [ 63.92405063],\n",
       "       [ 92.53246753],\n",
       "       [ 87.02290076],\n",
       "       [ 80.08474576],\n",
       "       [ 96.94915254],\n",
       "       [ 81.25      ],\n",
       "       [ 77.43190661],\n",
       "       [ 80.71895425],\n",
       "       [ 32.14285714],\n",
       "       [ 69.8630137 ],\n",
       "       [ 91.2568306 ],\n",
       "       [ 76.89655172],\n",
       "       [ 70.52364865],\n",
       "       [ 90.34482759],\n",
       "       [ 43.35443038],\n",
       "       [ 95.80838323],\n",
       "       [ 78.93217893],\n",
       "       [ 25.37313433],\n",
       "       [ 26.47058824],\n",
       "       [ 88.44884488],\n",
       "       [ 98.4939759 ],\n",
       "       [ 82.35294118],\n",
       "       [ 96.72131148],\n",
       "       [ 99.39759036],\n",
       "       [ 93.81313131],\n",
       "       [ 91.31545338],\n",
       "       [ 76.9005848 ],\n",
       "       [ 23.87543253],\n",
       "       [ 96.83257919],\n",
       "       [ 87.00265252],\n",
       "       [ 84.21052632],\n",
       "       [ 80.33175355],\n",
       "       [ 77.51091703],\n",
       "       [ 74.12140575],\n",
       "       [ 98.27586207],\n",
       "       [ 38.48314607],\n",
       "       [ 75.66765579],\n",
       "       [ 71.81760608],\n",
       "       [ 91.29554656],\n",
       "       [ 85.        ],\n",
       "       [ 95.97701149],\n",
       "       [ 96.08294931],\n",
       "       [ 69.61538462],\n",
       "       [ 74.59016393],\n",
       "       [ 26.72672673],\n",
       "       [100.        ],\n",
       "       [ 73.56828194],\n",
       "       [ 64.95726496],\n",
       "       [ 64.84375   ],\n",
       "       [ 82.77153558],\n",
       "       [ 58.05084746],\n",
       "       [ 97.28813559],\n",
       "       [ 79.39393939],\n",
       "       [ 90.25641026],\n",
       "       [ 96.61016949],\n",
       "       [ 76.59574468],\n",
       "       [ 95.58232932],\n",
       "       [ 20.24793388],\n",
       "       [ 97.91666667],\n",
       "       [  0.        ],\n",
       "       [100.        ],\n",
       "       [ 80.68181818],\n",
       "       [ 99.06389906],\n",
       "       [ 83.0449827 ],\n",
       "       [ 88.52848101],\n",
       "       [ 98.63760218],\n",
       "       [ 73.20574163],\n",
       "       [ 83.76963351],\n",
       "       [ 75.38461538],\n",
       "       [ 99.77568416],\n",
       "       [ 70.90301003],\n",
       "       [ 77.31092437],\n",
       "       [ 90.        ],\n",
       "       [ 75.89576547],\n",
       "       [ 93.86792453],\n",
       "       [ 69.75945017],\n",
       "       [ 81.75895765],\n",
       "       [ 77.15877437],\n",
       "       [ 84.81203008],\n",
       "       [ 71.7791411 ],\n",
       "       [ 86.53846154],\n",
       "       [ 96.54889071],\n",
       "       [ 91.34615385],\n",
       "       [ 72.52747253],\n",
       "       [ 70.54794521],\n",
       "       [ 73.5042735 ],\n",
       "       [ 95.23809524],\n",
       "       [ 82.06278027],\n",
       "       [ 78.78787879],\n",
       "       [ 76.08695652],\n",
       "       [ 67.14285714],\n",
       "       [ 76.8627451 ],\n",
       "       [ 94.11764706],\n",
       "       [ 73.68421053],\n",
       "       [ 82.32758621],\n",
       "       [ 93.59573049],\n",
       "       [ 84.46215139],\n",
       "       [ 91.25248509],\n",
       "       [ 99.75990396],\n",
       "       [ 79.71698113],\n",
       "       [ 90.1459854 ],\n",
       "       [ 85.44600939],\n",
       "       [ 99.12790698],\n",
       "       [ 87.82608696],\n",
       "       [ 62.80991736],\n",
       "       [ 67.67241379],\n",
       "       [ 85.49222798],\n",
       "       [ 93.23076923],\n",
       "       [ 88.26530612],\n",
       "       [ 89.36170213],\n",
       "       [ 88.88888889],\n",
       "       [ 88.93129771],\n",
       "       [ 93.99141631],\n",
       "       [ 78.89273356],\n",
       "       [ 78.32512315],\n",
       "       [ 80.        ],\n",
       "       [ 79.08163265],\n",
       "       [ 74.80314961],\n",
       "       [ 82.38636364],\n",
       "       [ 74.46808511],\n",
       "       [ 79.43925234],\n",
       "       [ 85.9437751 ],\n",
       "       [ 83.2       ],\n",
       "       [ 50.37974684],\n",
       "       [ 31.25      ],\n",
       "       [ 72.4137931 ],\n",
       "       [ 80.        ],\n",
       "       [ 81.78438662],\n",
       "       [ 34.64566929],\n",
       "       [ 87.37864078],\n",
       "       [ 24.66216216],\n",
       "       [ 80.4400978 ],\n",
       "       [ 74.52731092],\n",
       "       [ 70.80924855],\n",
       "       [ 95.71788413],\n",
       "       [ 96.00798403],\n",
       "       [ 62.54071661],\n",
       "       [ 69.0821256 ],\n",
       "       [ 74.73684211],\n",
       "       [ 97.31800766],\n",
       "       [ 82.71604938],\n",
       "       [ 98.7755102 ],\n",
       "       [100.        ],\n",
       "       [ 98.90710383],\n",
       "       [ 98.72340426],\n",
       "       [ 97.75784753]])"
      ]
     },
     "execution_count": 44,
     "metadata": {},
     "output_type": "execute_result"
    }
   ],
   "source": [
    "X = classify_data['% Grad'].values.reshape(-1,1)\n",
    "X "
   ]
  },
  {
   "cell_type": "code",
   "execution_count": 231,
   "metadata": {},
   "outputs": [
    {
     "data": {
      "application/vnd.plotly.v1+json": {
       "config": {
        "plotlyServerURL": "https://plot.ly"
       },
       "data": [
        {
         "type": "scatter",
         "x": [
          1,
          2,
          3,
          4,
          5,
          6,
          7,
          8,
          9,
          10
         ],
         "y": [
          171409.97035769047,
          56467.9360561051,
          22333.090748982162,
          13953.594794117638,
          9147.386270811112,
          6674.662014160175,
          4856.8627764685325,
          3929.810759415963,
          3292.392990317299,
          2499.6147770163234
         ]
        }
       ],
       "layout": {
        "height": 500,
        "template": {
         "layout": {
          "plot_bgcolor": "white",
          "xaxis": {
           "gridcolor": "lightgray"
          },
          "yaxis": {
           "gridcolor": "lightgray"
          }
         }
        },
        "title": {
         "text": "Inertia Based on Number of Clusters"
        },
        "width": 600,
        "xaxis": {
         "ticktext": [
          1,
          2,
          3,
          4,
          5,
          6,
          7,
          8,
          9,
          10
         ],
         "tickvals": [
          1,
          2,
          3,
          4,
          5,
          6,
          7,
          8,
          9,
          10
         ],
         "title": {
          "text": "Number of Clusters"
         }
        },
        "yaxis": {
         "title": {
          "text": "Inertia"
         }
        }
       }
      }
     },
     "metadata": {},
     "output_type": "display_data"
    }
   ],
   "source": [
    "inertias = []\n",
    "ks = []\n",
    "for k in range(1, 11):\n",
    "    ks.append(k)\n",
    "    kmeans = KMeans(n_clusters=k, random_state=42, n_init='auto')\n",
    "    kmeans.fit(X)\n",
    "    inertias.append(kmeans.inertia_)\n",
    "\n",
    "fig = go.Figure()\n",
    "fig.add_trace(go.Scatter(x=ks, y=inertias))\n",
    "fig.update_yaxes(title_text='Inertia')\n",
    "fig.update_xaxes(title_text='Number of Clusters')\n",
    "fig.update_layout(\n",
    "    width=600,\n",
    "    height=500,\n",
    "    xaxis=dict(\n",
    "        tickvals=ks, \n",
    "        ticktext=ks,\n",
    "    ),\n",
    "    title='Inertia Based on Number of Clusters'\n",
    ") "
   ]
  },
  {
   "cell_type": "code",
   "execution_count": 46,
   "metadata": {},
   "outputs": [],
   "source": [
    "kmeans = KMeans(n_clusters=3, random_state=42, n_init='auto')\n",
    "kmeans.fit(X)\n",
    "classify_data['Cluster'] = kmeans.labels_"
   ]
  },
  {
   "cell_type": "code",
   "execution_count": 45,
   "metadata": {},
   "outputs": [
    {
     "data": {
      "text/html": [
       "<div>\n",
       "<style scoped>\n",
       "    .dataframe tbody tr th:only-of-type {\n",
       "        vertical-align: middle;\n",
       "    }\n",
       "\n",
       "    .dataframe tbody tr th {\n",
       "        vertical-align: top;\n",
       "    }\n",
       "\n",
       "    .dataframe thead th {\n",
       "        text-align: right;\n",
       "    }\n",
       "</style>\n",
       "<table border=\"1\" class=\"dataframe\">\n",
       "  <thead>\n",
       "    <tr style=\"text-align: right;\">\n",
       "      <th></th>\n",
       "      <th>School Name</th>\n",
       "      <th>Cluster</th>\n",
       "    </tr>\n",
       "  </thead>\n",
       "  <tbody>\n",
       "    <tr>\n",
       "      <th>0</th>\n",
       "      <td>47 THE AMERICAN SIGN LANGUAGE AND ENGLISH SECO...</td>\n",
       "      <td>2</td>\n",
       "    </tr>\n",
       "    <tr>\n",
       "      <th>1</th>\n",
       "      <td>A-TECH HIGH SCHOOL</td>\n",
       "      <td>1</td>\n",
       "    </tr>\n",
       "    <tr>\n",
       "      <th>2</th>\n",
       "      <td>A. PHILIP RANDOLPH CAMPUS HIGH SCHOOL</td>\n",
       "      <td>1</td>\n",
       "    </tr>\n",
       "    <tr>\n",
       "      <th>3</th>\n",
       "      <td>ABRAHAM LINCOLN HIGH SCHOOL</td>\n",
       "      <td>1</td>\n",
       "    </tr>\n",
       "    <tr>\n",
       "      <th>4</th>\n",
       "      <td>ACADEMY FOR CAREERS IN TELEVISION AND FILM</td>\n",
       "      <td>2</td>\n",
       "    </tr>\n",
       "    <tr>\n",
       "      <th>...</th>\n",
       "      <td>...</td>\n",
       "      <td>...</td>\n",
       "    </tr>\n",
       "    <tr>\n",
       "      <th>484</th>\n",
       "      <td>YORK EARLY COLLEGE ACADEMY</td>\n",
       "      <td>2</td>\n",
       "    </tr>\n",
       "    <tr>\n",
       "      <th>485</th>\n",
       "      <td>YOUNG WOMEN'S LEADERSHIP SCHOOL</td>\n",
       "      <td>2</td>\n",
       "    </tr>\n",
       "    <tr>\n",
       "      <th>486</th>\n",
       "      <td>YOUNG WOMEN'S LEADERSHIP SCHOOL OF BROOKLYN</td>\n",
       "      <td>2</td>\n",
       "    </tr>\n",
       "    <tr>\n",
       "      <th>487</th>\n",
       "      <td>YOUNG WOMEN'S LEADERSHIP SCHOOL, ASTORIA</td>\n",
       "      <td>2</td>\n",
       "    </tr>\n",
       "    <tr>\n",
       "      <th>488</th>\n",
       "      <td>YOUNG WOMEN'S LEADERSHIP SCHOOL, QUEENS</td>\n",
       "      <td>2</td>\n",
       "    </tr>\n",
       "  </tbody>\n",
       "</table>\n",
       "<p>489 rows × 2 columns</p>\n",
       "</div>"
      ],
      "text/plain": [
       "                                           School Name  Cluster\n",
       "0    47 THE AMERICAN SIGN LANGUAGE AND ENGLISH SECO...        2\n",
       "1                                   A-TECH HIGH SCHOOL        1\n",
       "2                A. PHILIP RANDOLPH CAMPUS HIGH SCHOOL        1\n",
       "3                          ABRAHAM LINCOLN HIGH SCHOOL        1\n",
       "4           ACADEMY FOR CAREERS IN TELEVISION AND FILM        2\n",
       "..                                                 ...      ...\n",
       "484                         YORK EARLY COLLEGE ACADEMY        2\n",
       "485                    YOUNG WOMEN'S LEADERSHIP SCHOOL        2\n",
       "486        YOUNG WOMEN'S LEADERSHIP SCHOOL OF BROOKLYN        2\n",
       "487           YOUNG WOMEN'S LEADERSHIP SCHOOL, ASTORIA        2\n",
       "488            YOUNG WOMEN'S LEADERSHIP SCHOOL, QUEENS        2\n",
       "\n",
       "[489 rows x 2 columns]"
      ]
     },
     "execution_count": 45,
     "metadata": {},
     "output_type": "execute_result"
    }
   ],
   "source": [
    "classify_data[['School Name', 'Cluster']]"
   ]
  },
  {
   "cell_type": "code",
   "execution_count": 47,
   "metadata": {},
   "outputs": [],
   "source": [
    "general_graduation = classify_data[['School Name', 'Cluster']].merge(general_graduation, on='School Name')\n",
    "swd_graduation = classify_data[['School Name', 'Cluster']].merge(swd_graduation, on='School Name')\n",
    "poverty_graduation = classify_data[['School Name', 'Cluster']].merge(poverty_graduation, on='School Name')\n",
    "ell_graduation = classify_data[['School Name', 'Cluster']].merge(ell_graduation, on='School Name')\n",
    "ethnicity_graduation = classify_data[['School Name', 'Cluster']].merge(ethnicity_graduation, on='School Name')"
   ]
  },
  {
   "cell_type": "code",
   "execution_count": 48,
   "metadata": {},
   "outputs": [
    {
     "data": {
      "text/html": [
       "<div>\n",
       "<style scoped>\n",
       "    .dataframe tbody tr th:only-of-type {\n",
       "        vertical-align: middle;\n",
       "    }\n",
       "\n",
       "    .dataframe tbody tr th {\n",
       "        vertical-align: top;\n",
       "    }\n",
       "\n",
       "    .dataframe thead th {\n",
       "        text-align: right;\n",
       "    }\n",
       "</style>\n",
       "<table border=\"1\" class=\"dataframe\">\n",
       "  <thead>\n",
       "    <tr style=\"text-align: right;\">\n",
       "      <th></th>\n",
       "      <th>School Name</th>\n",
       "      <th>Year</th>\n",
       "      <th>Category</th>\n",
       "      <th>Regents Exam</th>\n",
       "      <th>Total Tested</th>\n",
       "      <th>Number Scoring 65 or Above</th>\n",
       "      <th>Regents Subject</th>\n",
       "    </tr>\n",
       "  </thead>\n",
       "  <tbody>\n",
       "    <tr>\n",
       "      <th>0</th>\n",
       "      <td>ORCHARD COLLEGIATE ACADEMY</td>\n",
       "      <td>2015</td>\n",
       "      <td>All Students</td>\n",
       "      <td>Algebra2/Trigonometry</td>\n",
       "      <td>5</td>\n",
       "      <td>NaN</td>\n",
       "      <td>Mathematics</td>\n",
       "    </tr>\n",
       "    <tr>\n",
       "      <th>1</th>\n",
       "      <td>ORCHARD COLLEGIATE ACADEMY</td>\n",
       "      <td>2015</td>\n",
       "      <td>All Students</td>\n",
       "      <td>Chinese</td>\n",
       "      <td>1</td>\n",
       "      <td>NaN</td>\n",
       "      <td>Languages Other Than English</td>\n",
       "    </tr>\n",
       "    <tr>\n",
       "      <th>2</th>\n",
       "      <td>ORCHARD COLLEGIATE ACADEMY</td>\n",
       "      <td>2015</td>\n",
       "      <td>All Students</td>\n",
       "      <td>Common Core Algebra</td>\n",
       "      <td>12</td>\n",
       "      <td>1.0</td>\n",
       "      <td>Mathematics</td>\n",
       "    </tr>\n",
       "    <tr>\n",
       "      <th>3</th>\n",
       "      <td>ORCHARD COLLEGIATE ACADEMY</td>\n",
       "      <td>2015</td>\n",
       "      <td>All Students</td>\n",
       "      <td>Common Core English</td>\n",
       "      <td>34</td>\n",
       "      <td>19.0</td>\n",
       "      <td>English</td>\n",
       "    </tr>\n",
       "    <tr>\n",
       "      <th>4</th>\n",
       "      <td>ORCHARD COLLEGIATE ACADEMY</td>\n",
       "      <td>2015</td>\n",
       "      <td>All Students</td>\n",
       "      <td>Common Core Geometry</td>\n",
       "      <td>10</td>\n",
       "      <td>1.0</td>\n",
       "      <td>Mathematics</td>\n",
       "    </tr>\n",
       "    <tr>\n",
       "      <th>...</th>\n",
       "      <td>...</td>\n",
       "      <td>...</td>\n",
       "      <td>...</td>\n",
       "      <td>...</td>\n",
       "      <td>...</td>\n",
       "      <td>...</td>\n",
       "      <td>...</td>\n",
       "    </tr>\n",
       "    <tr>\n",
       "      <th>31069</th>\n",
       "      <td>BUSHWICK COMMUNITY HIGH SCHOOL</td>\n",
       "      <td>2023</td>\n",
       "      <td>All Students</td>\n",
       "      <td>Common Core Algebra</td>\n",
       "      <td>27</td>\n",
       "      <td>12.0</td>\n",
       "      <td>Mathematics</td>\n",
       "    </tr>\n",
       "    <tr>\n",
       "      <th>31070</th>\n",
       "      <td>BUSHWICK COMMUNITY HIGH SCHOOL</td>\n",
       "      <td>2023</td>\n",
       "      <td>All Students</td>\n",
       "      <td>Common Core English</td>\n",
       "      <td>42</td>\n",
       "      <td>21.0</td>\n",
       "      <td>English</td>\n",
       "    </tr>\n",
       "    <tr>\n",
       "      <th>31071</th>\n",
       "      <td>BUSHWICK COMMUNITY HIGH SCHOOL</td>\n",
       "      <td>2023</td>\n",
       "      <td>All Students</td>\n",
       "      <td>Global History and Geography</td>\n",
       "      <td>29</td>\n",
       "      <td>12.0</td>\n",
       "      <td>Social Studies</td>\n",
       "    </tr>\n",
       "    <tr>\n",
       "      <th>31072</th>\n",
       "      <td>BUSHWICK COMMUNITY HIGH SCHOOL</td>\n",
       "      <td>2023</td>\n",
       "      <td>All Students</td>\n",
       "      <td>Living Environment</td>\n",
       "      <td>12</td>\n",
       "      <td>5.0</td>\n",
       "      <td>Science</td>\n",
       "    </tr>\n",
       "    <tr>\n",
       "      <th>31073</th>\n",
       "      <td>BUSHWICK COMMUNITY HIGH SCHOOL</td>\n",
       "      <td>2023</td>\n",
       "      <td>All Students</td>\n",
       "      <td>US History and Government</td>\n",
       "      <td>9</td>\n",
       "      <td>5.0</td>\n",
       "      <td>Social Studies</td>\n",
       "    </tr>\n",
       "  </tbody>\n",
       "</table>\n",
       "<p>27553 rows × 7 columns</p>\n",
       "</div>"
      ],
      "text/plain": [
       "                          School Name  Year      Category  \\\n",
       "0          ORCHARD COLLEGIATE ACADEMY  2015  All Students   \n",
       "1          ORCHARD COLLEGIATE ACADEMY  2015  All Students   \n",
       "2          ORCHARD COLLEGIATE ACADEMY  2015  All Students   \n",
       "3          ORCHARD COLLEGIATE ACADEMY  2015  All Students   \n",
       "4          ORCHARD COLLEGIATE ACADEMY  2015  All Students   \n",
       "...                               ...   ...           ...   \n",
       "31069  BUSHWICK COMMUNITY HIGH SCHOOL  2023  All Students   \n",
       "31070  BUSHWICK COMMUNITY HIGH SCHOOL  2023  All Students   \n",
       "31071  BUSHWICK COMMUNITY HIGH SCHOOL  2023  All Students   \n",
       "31072  BUSHWICK COMMUNITY HIGH SCHOOL  2023  All Students   \n",
       "31073  BUSHWICK COMMUNITY HIGH SCHOOL  2023  All Students   \n",
       "\n",
       "                       Regents Exam  Total Tested  Number Scoring 65 or Above  \\\n",
       "0             Algebra2/Trigonometry             5                         NaN   \n",
       "1                           Chinese             1                         NaN   \n",
       "2               Common Core Algebra            12                         1.0   \n",
       "3               Common Core English            34                        19.0   \n",
       "4              Common Core Geometry            10                         1.0   \n",
       "...                             ...           ...                         ...   \n",
       "31069           Common Core Algebra            27                        12.0   \n",
       "31070           Common Core English            42                        21.0   \n",
       "31071  Global History and Geography            29                        12.0   \n",
       "31072            Living Environment            12                         5.0   \n",
       "31073     US History and Government             9                         5.0   \n",
       "\n",
       "                    Regents Subject  \n",
       "0                       Mathematics  \n",
       "1      Languages Other Than English  \n",
       "2                       Mathematics  \n",
       "3                           English  \n",
       "4                       Mathematics  \n",
       "...                             ...  \n",
       "31069                   Mathematics  \n",
       "31070                       English  \n",
       "31071                Social Studies  \n",
       "31072                       Science  \n",
       "31073                Social Studies  \n",
       "\n",
       "[27553 rows x 7 columns]"
      ]
     },
     "execution_count": 48,
     "metadata": {},
     "output_type": "execute_result"
    }
   ],
   "source": [
    "general_test_results['School Name'] = general_test_results['School Name'].str.upper()\n",
    "swd_test_results['School Name'] = swd_test_results['School Name'].str.upper()\n",
    "ell_test_results['School Name'] = ell_test_results['School Name'].str.upper()\n",
    "ethnicity_test_results['School Name'] = ethnicity_test_results['School Name'].str.upper()\n",
    "general_test_results"
   ]
  },
  {
   "cell_type": "code",
   "execution_count": 49,
   "metadata": {},
   "outputs": [],
   "source": [
    "general_test_results['School Name'] = general_test_results['School Name'].str.upper()\n",
    "swd_test_results['School Name'] = swd_test_results['School Name'].str.upper()\n",
    "ell_test_results['School Name'] = ell_test_results['School Name'].str.upper()\n",
    "ethnicity_test_results['School Name'] = ethnicity_test_results['School Name'].str.upper()\n",
    "\n",
    "general_test_results = classify_data[['School Name', 'Cluster']].merge(general_test_results, on='School Name')\n",
    "swd_test_results = classify_data[['School Name', 'Cluster']].merge(swd_test_results, on='School Name')\n",
    "ell_test_results = classify_data[['School Name', 'Cluster']].merge(ell_test_results, on='School Name')\n",
    "ethnicity_test_results = classify_data[['School Name', 'Cluster']].merge(ethnicity_test_results, on='School Name')"
   ]
  },
  {
   "cell_type": "code",
   "execution_count": 50,
   "metadata": {},
   "outputs": [
    {
     "data": {
      "text/html": [
       "<div>\n",
       "<style scoped>\n",
       "    .dataframe tbody tr th:only-of-type {\n",
       "        vertical-align: middle;\n",
       "    }\n",
       "\n",
       "    .dataframe tbody tr th {\n",
       "        vertical-align: top;\n",
       "    }\n",
       "\n",
       "    .dataframe thead th {\n",
       "        text-align: right;\n",
       "    }\n",
       "</style>\n",
       "<table border=\"1\" class=\"dataframe\">\n",
       "  <thead>\n",
       "    <tr style=\"text-align: right;\">\n",
       "      <th></th>\n",
       "      <th>School Name</th>\n",
       "      <th>Category</th>\n",
       "      <th>Graduation Year</th>\n",
       "      <th>Duration</th>\n",
       "      <th>Cluster</th>\n",
       "      <th># Grads</th>\n",
       "      <th># Advanced Regents</th>\n",
       "      <th># Regents without Advanced</th>\n",
       "      <th># Local</th>\n",
       "      <th># Still Enrolled</th>\n",
       "      <th># Dropout</th>\n",
       "      <th># Total Cohort</th>\n",
       "      <th>Graduation Month</th>\n",
       "    </tr>\n",
       "  </thead>\n",
       "  <tbody>\n",
       "    <tr>\n",
       "      <th>0</th>\n",
       "      <td>47 THE AMERICAN SIGN LANGUAGE AND ENGLISH SECO...</td>\n",
       "      <td>All Students</td>\n",
       "      <td>2018</td>\n",
       "      <td>4</td>\n",
       "      <td>2</td>\n",
       "      <td>30.0</td>\n",
       "      <td>7.0</td>\n",
       "      <td>20.0</td>\n",
       "      <td>3.0</td>\n",
       "      <td>3.0</td>\n",
       "      <td>2.0</td>\n",
       "      <td>35</td>\n",
       "      <td>August</td>\n",
       "    </tr>\n",
       "    <tr>\n",
       "      <th>1</th>\n",
       "      <td>47 THE AMERICAN SIGN LANGUAGE AND ENGLISH SECO...</td>\n",
       "      <td>All Students</td>\n",
       "      <td>2018</td>\n",
       "      <td>5</td>\n",
       "      <td>2</td>\n",
       "      <td>33.0</td>\n",
       "      <td>4.0</td>\n",
       "      <td>25.0</td>\n",
       "      <td>4.0</td>\n",
       "      <td>0.0</td>\n",
       "      <td>1.0</td>\n",
       "      <td>35</td>\n",
       "      <td>August</td>\n",
       "    </tr>\n",
       "    <tr>\n",
       "      <th>2</th>\n",
       "      <td>47 THE AMERICAN SIGN LANGUAGE AND ENGLISH SECO...</td>\n",
       "      <td>All Students</td>\n",
       "      <td>2018</td>\n",
       "      <td>6</td>\n",
       "      <td>2</td>\n",
       "      <td>54.0</td>\n",
       "      <td>8.0</td>\n",
       "      <td>37.0</td>\n",
       "      <td>9.0</td>\n",
       "      <td>0.0</td>\n",
       "      <td>2.0</td>\n",
       "      <td>58</td>\n",
       "      <td>June</td>\n",
       "    </tr>\n",
       "    <tr>\n",
       "      <th>3</th>\n",
       "      <td>47 THE AMERICAN SIGN LANGUAGE AND ENGLISH SECO...</td>\n",
       "      <td>All Students</td>\n",
       "      <td>2019</td>\n",
       "      <td>4</td>\n",
       "      <td>2</td>\n",
       "      <td>37.0</td>\n",
       "      <td>6.0</td>\n",
       "      <td>23.0</td>\n",
       "      <td>8.0</td>\n",
       "      <td>0.0</td>\n",
       "      <td>3.0</td>\n",
       "      <td>40</td>\n",
       "      <td>August</td>\n",
       "    </tr>\n",
       "    <tr>\n",
       "      <th>4</th>\n",
       "      <td>47 THE AMERICAN SIGN LANGUAGE AND ENGLISH SECO...</td>\n",
       "      <td>All Students</td>\n",
       "      <td>2019</td>\n",
       "      <td>5</td>\n",
       "      <td>2</td>\n",
       "      <td>32.0</td>\n",
       "      <td>7.0</td>\n",
       "      <td>21.0</td>\n",
       "      <td>4.0</td>\n",
       "      <td>1.0</td>\n",
       "      <td>2.0</td>\n",
       "      <td>35</td>\n",
       "      <td>August</td>\n",
       "    </tr>\n",
       "    <tr>\n",
       "      <th>...</th>\n",
       "      <td>...</td>\n",
       "      <td>...</td>\n",
       "      <td>...</td>\n",
       "      <td>...</td>\n",
       "      <td>...</td>\n",
       "      <td>...</td>\n",
       "      <td>...</td>\n",
       "      <td>...</td>\n",
       "      <td>...</td>\n",
       "      <td>...</td>\n",
       "      <td>...</td>\n",
       "      <td>...</td>\n",
       "      <td>...</td>\n",
       "    </tr>\n",
       "    <tr>\n",
       "      <th>9860</th>\n",
       "      <td>YOUNG WOMEN'S LEADERSHIP SCHOOL, QUEENS</td>\n",
       "      <td>All Students</td>\n",
       "      <td>2023</td>\n",
       "      <td>5</td>\n",
       "      <td>2</td>\n",
       "      <td>76.0</td>\n",
       "      <td>63.0</td>\n",
       "      <td>13.0</td>\n",
       "      <td>0.0</td>\n",
       "      <td>0.0</td>\n",
       "      <td>1.0</td>\n",
       "      <td>77</td>\n",
       "      <td>August</td>\n",
       "    </tr>\n",
       "    <tr>\n",
       "      <th>9861</th>\n",
       "      <td>YOUNG WOMEN'S LEADERSHIP SCHOOL, QUEENS</td>\n",
       "      <td>All Students</td>\n",
       "      <td>2023</td>\n",
       "      <td>6</td>\n",
       "      <td>2</td>\n",
       "      <td>62.0</td>\n",
       "      <td>53.0</td>\n",
       "      <td>9.0</td>\n",
       "      <td>0.0</td>\n",
       "      <td>2.0</td>\n",
       "      <td>2.0</td>\n",
       "      <td>66</td>\n",
       "      <td>June</td>\n",
       "    </tr>\n",
       "    <tr>\n",
       "      <th>9862</th>\n",
       "      <td>YOUNG WOMEN'S LEADERSHIP SCHOOL, QUEENS</td>\n",
       "      <td>All Students</td>\n",
       "      <td>2024</td>\n",
       "      <td>4</td>\n",
       "      <td>2</td>\n",
       "      <td>71.0</td>\n",
       "      <td>51.0</td>\n",
       "      <td>20.0</td>\n",
       "      <td>0.0</td>\n",
       "      <td>2.0</td>\n",
       "      <td>0.0</td>\n",
       "      <td>73</td>\n",
       "      <td>August</td>\n",
       "    </tr>\n",
       "    <tr>\n",
       "      <th>9863</th>\n",
       "      <td>YOUNG WOMEN'S LEADERSHIP SCHOOL, QUEENS</td>\n",
       "      <td>All Students</td>\n",
       "      <td>2024</td>\n",
       "      <td>5</td>\n",
       "      <td>2</td>\n",
       "      <td>75.0</td>\n",
       "      <td>27.0</td>\n",
       "      <td>48.0</td>\n",
       "      <td>0.0</td>\n",
       "      <td>0.0</td>\n",
       "      <td>0.0</td>\n",
       "      <td>75</td>\n",
       "      <td>August</td>\n",
       "    </tr>\n",
       "    <tr>\n",
       "      <th>9864</th>\n",
       "      <td>YOUNG WOMEN'S LEADERSHIP SCHOOL, QUEENS</td>\n",
       "      <td>All Students</td>\n",
       "      <td>2024</td>\n",
       "      <td>6</td>\n",
       "      <td>2</td>\n",
       "      <td>77.0</td>\n",
       "      <td>64.0</td>\n",
       "      <td>13.0</td>\n",
       "      <td>0.0</td>\n",
       "      <td>0.0</td>\n",
       "      <td>0.0</td>\n",
       "      <td>77</td>\n",
       "      <td>August</td>\n",
       "    </tr>\n",
       "  </tbody>\n",
       "</table>\n",
       "<p>9865 rows × 13 columns</p>\n",
       "</div>"
      ],
      "text/plain": [
       "                                            School Name      Category  \\\n",
       "0     47 THE AMERICAN SIGN LANGUAGE AND ENGLISH SECO...  All Students   \n",
       "1     47 THE AMERICAN SIGN LANGUAGE AND ENGLISH SECO...  All Students   \n",
       "2     47 THE AMERICAN SIGN LANGUAGE AND ENGLISH SECO...  All Students   \n",
       "3     47 THE AMERICAN SIGN LANGUAGE AND ENGLISH SECO...  All Students   \n",
       "4     47 THE AMERICAN SIGN LANGUAGE AND ENGLISH SECO...  All Students   \n",
       "...                                                 ...           ...   \n",
       "9860            YOUNG WOMEN'S LEADERSHIP SCHOOL, QUEENS  All Students   \n",
       "9861            YOUNG WOMEN'S LEADERSHIP SCHOOL, QUEENS  All Students   \n",
       "9862            YOUNG WOMEN'S LEADERSHIP SCHOOL, QUEENS  All Students   \n",
       "9863            YOUNG WOMEN'S LEADERSHIP SCHOOL, QUEENS  All Students   \n",
       "9864            YOUNG WOMEN'S LEADERSHIP SCHOOL, QUEENS  All Students   \n",
       "\n",
       "      Graduation Year  Duration  Cluster  # Grads  # Advanced Regents  \\\n",
       "0                2018         4        2     30.0                 7.0   \n",
       "1                2018         5        2     33.0                 4.0   \n",
       "2                2018         6        2     54.0                 8.0   \n",
       "3                2019         4        2     37.0                 6.0   \n",
       "4                2019         5        2     32.0                 7.0   \n",
       "...               ...       ...      ...      ...                 ...   \n",
       "9860             2023         5        2     76.0                63.0   \n",
       "9861             2023         6        2     62.0                53.0   \n",
       "9862             2024         4        2     71.0                51.0   \n",
       "9863             2024         5        2     75.0                27.0   \n",
       "9864             2024         6        2     77.0                64.0   \n",
       "\n",
       "      # Regents without Advanced  # Local  # Still Enrolled  # Dropout  \\\n",
       "0                           20.0      3.0               3.0        2.0   \n",
       "1                           25.0      4.0               0.0        1.0   \n",
       "2                           37.0      9.0               0.0        2.0   \n",
       "3                           23.0      8.0               0.0        3.0   \n",
       "4                           21.0      4.0               1.0        2.0   \n",
       "...                          ...      ...               ...        ...   \n",
       "9860                        13.0      0.0               0.0        1.0   \n",
       "9861                         9.0      0.0               2.0        2.0   \n",
       "9862                        20.0      0.0               2.0        0.0   \n",
       "9863                        48.0      0.0               0.0        0.0   \n",
       "9864                        13.0      0.0               0.0        0.0   \n",
       "\n",
       "      # Total Cohort Graduation Month  \n",
       "0                 35           August  \n",
       "1                 35           August  \n",
       "2                 58             June  \n",
       "3                 40           August  \n",
       "4                 35           August  \n",
       "...              ...              ...  \n",
       "9860              77           August  \n",
       "9861              66             June  \n",
       "9862              73           August  \n",
       "9863              75           August  \n",
       "9864              77           August  \n",
       "\n",
       "[9865 rows x 13 columns]"
      ]
     },
     "execution_count": 50,
     "metadata": {},
     "output_type": "execute_result"
    }
   ],
   "source": [
    "all_graduates_general_cluster = filter_data(general_graduation, ['# Grads','# Advanced Regents', '# Regents without Advanced', '# Local', '# Still Enrolled', '# Dropout'], cluster=True)\n",
    "all_graduates_general_cluster"
   ]
  },
  {
   "cell_type": "markdown",
   "metadata": {},
   "source": [
    "### Correlation Matrix"
   ]
  },
  {
   "cell_type": "code",
   "execution_count": 51,
   "metadata": {},
   "outputs": [
    {
     "data": {
      "text/html": [
       "<div>\n",
       "<style scoped>\n",
       "    .dataframe tbody tr th:only-of-type {\n",
       "        vertical-align: middle;\n",
       "    }\n",
       "\n",
       "    .dataframe tbody tr th {\n",
       "        vertical-align: top;\n",
       "    }\n",
       "\n",
       "    .dataframe thead th {\n",
       "        text-align: right;\n",
       "    }\n",
       "</style>\n",
       "<table border=\"1\" class=\"dataframe\">\n",
       "  <thead>\n",
       "    <tr style=\"text-align: right;\">\n",
       "      <th></th>\n",
       "      <th>Graduation Year</th>\n",
       "      <th>Duration</th>\n",
       "      <th>Cluster</th>\n",
       "      <th># Total Cohort</th>\n",
       "      <th># Grads</th>\n",
       "      <th># Advanced Regents</th>\n",
       "      <th># Regents without Advanced</th>\n",
       "      <th># Local</th>\n",
       "      <th># Still Enrolled</th>\n",
       "      <th># Dropout</th>\n",
       "    </tr>\n",
       "  </thead>\n",
       "  <tbody>\n",
       "    <tr>\n",
       "      <th>0</th>\n",
       "      <td>2018</td>\n",
       "      <td>4</td>\n",
       "      <td>0</td>\n",
       "      <td>5003</td>\n",
       "      <td>1169.0</td>\n",
       "      <td>56.0</td>\n",
       "      <td>928.0</td>\n",
       "      <td>185.0</td>\n",
       "      <td>2882.0</td>\n",
       "      <td>969.0</td>\n",
       "    </tr>\n",
       "    <tr>\n",
       "      <th>1</th>\n",
       "      <td>2018</td>\n",
       "      <td>4</td>\n",
       "      <td>1</td>\n",
       "      <td>31418</td>\n",
       "      <td>22878.0</td>\n",
       "      <td>2475.0</td>\n",
       "      <td>17593.0</td>\n",
       "      <td>2810.0</td>\n",
       "      <td>6027.0</td>\n",
       "      <td>3362.0</td>\n",
       "    </tr>\n",
       "    <tr>\n",
       "      <th>2</th>\n",
       "      <td>2018</td>\n",
       "      <td>4</td>\n",
       "      <td>2</td>\n",
       "      <td>35675</td>\n",
       "      <td>32741.0</td>\n",
       "      <td>13122.0</td>\n",
       "      <td>17915.0</td>\n",
       "      <td>1705.0</td>\n",
       "      <td>2870.0</td>\n",
       "      <td>788.0</td>\n",
       "    </tr>\n",
       "    <tr>\n",
       "      <th>3</th>\n",
       "      <td>2018</td>\n",
       "      <td>5</td>\n",
       "      <td>0</td>\n",
       "      <td>5557</td>\n",
       "      <td>2130.0</td>\n",
       "      <td>62.0</td>\n",
       "      <td>1613.0</td>\n",
       "      <td>455.0</td>\n",
       "      <td>1698.0</td>\n",
       "      <td>1687.0</td>\n",
       "    </tr>\n",
       "    <tr>\n",
       "      <th>4</th>\n",
       "      <td>2018</td>\n",
       "      <td>5</td>\n",
       "      <td>1</td>\n",
       "      <td>30233</td>\n",
       "      <td>22997.0</td>\n",
       "      <td>2428.0</td>\n",
       "      <td>17599.0</td>\n",
       "      <td>2970.0</td>\n",
       "      <td>2015.0</td>\n",
       "      <td>4870.0</td>\n",
       "    </tr>\n",
       "    <tr>\n",
       "      <th>...</th>\n",
       "      <td>...</td>\n",
       "      <td>...</td>\n",
       "      <td>...</td>\n",
       "      <td>...</td>\n",
       "      <td>...</td>\n",
       "      <td>...</td>\n",
       "      <td>...</td>\n",
       "      <td>...</td>\n",
       "      <td>...</td>\n",
       "      <td>...</td>\n",
       "    </tr>\n",
       "    <tr>\n",
       "      <th>58</th>\n",
       "      <td>2024</td>\n",
       "      <td>5</td>\n",
       "      <td>1</td>\n",
       "      <td>27408</td>\n",
       "      <td>23879.0</td>\n",
       "      <td>4055.0</td>\n",
       "      <td>19665.0</td>\n",
       "      <td>161.0</td>\n",
       "      <td>523.0</td>\n",
       "      <td>2732.0</td>\n",
       "    </tr>\n",
       "    <tr>\n",
       "      <th>59</th>\n",
       "      <td>2024</td>\n",
       "      <td>5</td>\n",
       "      <td>2</td>\n",
       "      <td>35000</td>\n",
       "      <td>33632.0</td>\n",
       "      <td>14518.0</td>\n",
       "      <td>19019.0</td>\n",
       "      <td>95.0</td>\n",
       "      <td>277.0</td>\n",
       "      <td>915.0</td>\n",
       "    </tr>\n",
       "    <tr>\n",
       "      <th>60</th>\n",
       "      <td>2024</td>\n",
       "      <td>6</td>\n",
       "      <td>0</td>\n",
       "      <td>3809</td>\n",
       "      <td>2145.0</td>\n",
       "      <td>50.0</td>\n",
       "      <td>1997.0</td>\n",
       "      <td>98.0</td>\n",
       "      <td>271.0</td>\n",
       "      <td>1246.0</td>\n",
       "    </tr>\n",
       "    <tr>\n",
       "      <th>61</th>\n",
       "      <td>2024</td>\n",
       "      <td>6</td>\n",
       "      <td>1</td>\n",
       "      <td>28123</td>\n",
       "      <td>24626.0</td>\n",
       "      <td>6542.0</td>\n",
       "      <td>17952.0</td>\n",
       "      <td>132.0</td>\n",
       "      <td>210.0</td>\n",
       "      <td>2942.0</td>\n",
       "    </tr>\n",
       "    <tr>\n",
       "      <th>62</th>\n",
       "      <td>2024</td>\n",
       "      <td>6</td>\n",
       "      <td>2</td>\n",
       "      <td>35541</td>\n",
       "      <td>34262.0</td>\n",
       "      <td>18050.0</td>\n",
       "      <td>16076.0</td>\n",
       "      <td>136.0</td>\n",
       "      <td>113.0</td>\n",
       "      <td>941.0</td>\n",
       "    </tr>\n",
       "  </tbody>\n",
       "</table>\n",
       "<p>63 rows × 10 columns</p>\n",
       "</div>"
      ],
      "text/plain": [
       "    Graduation Year  Duration  Cluster  # Total Cohort  # Grads  \\\n",
       "0              2018         4        0            5003   1169.0   \n",
       "1              2018         4        1           31418  22878.0   \n",
       "2              2018         4        2           35675  32741.0   \n",
       "3              2018         5        0            5557   2130.0   \n",
       "4              2018         5        1           30233  22997.0   \n",
       "..              ...       ...      ...             ...      ...   \n",
       "58             2024         5        1           27408  23879.0   \n",
       "59             2024         5        2           35000  33632.0   \n",
       "60             2024         6        0            3809   2145.0   \n",
       "61             2024         6        1           28123  24626.0   \n",
       "62             2024         6        2           35541  34262.0   \n",
       "\n",
       "    # Advanced Regents  # Regents without Advanced  # Local  # Still Enrolled  \\\n",
       "0                 56.0                       928.0    185.0            2882.0   \n",
       "1               2475.0                     17593.0   2810.0            6027.0   \n",
       "2              13122.0                     17915.0   1705.0            2870.0   \n",
       "3                 62.0                      1613.0    455.0            1698.0   \n",
       "4               2428.0                     17599.0   2970.0            2015.0   \n",
       "..                 ...                         ...      ...               ...   \n",
       "58              4055.0                     19665.0    161.0             523.0   \n",
       "59             14518.0                     19019.0     95.0             277.0   \n",
       "60                50.0                      1997.0     98.0             271.0   \n",
       "61              6542.0                     17952.0    132.0             210.0   \n",
       "62             18050.0                     16076.0    136.0             113.0   \n",
       "\n",
       "    # Dropout  \n",
       "0       969.0  \n",
       "1      3362.0  \n",
       "2       788.0  \n",
       "3      1687.0  \n",
       "4      4870.0  \n",
       "..        ...  \n",
       "58     2732.0  \n",
       "59      915.0  \n",
       "60     1246.0  \n",
       "61     2942.0  \n",
       "62      941.0  \n",
       "\n",
       "[63 rows x 10 columns]"
      ]
     },
     "execution_count": 51,
     "metadata": {},
     "output_type": "execute_result"
    }
   ],
   "source": [
    "general_data_cluster = filter_graduation_data(all_graduates_general_cluster,['Graduation Year', 'Duration'], cluster=True)\n",
    "general_data_cluster"
   ]
  },
  {
   "cell_type": "code",
   "execution_count": 139,
   "metadata": {},
   "outputs": [
    {
     "data": {
      "application/vnd.plotly.v1+json": {
       "config": {
        "plotlyServerURL": "https://plot.ly"
       },
       "data": [
        {
         "coloraxis": "coloraxis",
         "hovertemplate": "x: %{x}<br>y: %{y}<br>color: %{z}<extra></extra>",
         "name": "0",
         "textfont": {
          "size": 10
         },
         "texttemplate": "%{z}",
         "type": "heatmap",
         "x": [
          "Graduation Year",
          "Duration",
          "Cluster",
          "# Total Cohort",
          "# Grads",
          "# Advanced Regents",
          "# Regents without Advanced",
          "# Local",
          "# Still Enrolled",
          "# Dropout"
         ],
         "xaxis": "x",
         "y": [
          "Graduation Year",
          "Duration",
          "Cluster",
          "# Total Cohort",
          "# Grads",
          "# Advanced Regents",
          "# Regents without Advanced",
          "# Local",
          "# Still Enrolled",
          "# Dropout"
         ],
         "yaxis": "y",
         "z": [
          [
           1,
           1.2190176617020032e-14,
           4.191452370795484e-15,
           -0.039299965430110995,
           0.01586407250907644,
           0.13359371971726142,
           -0.007600404427307834,
           -0.5798499417911497,
           -0.2736881474498996,
           -0.27690153828427727
          ],
          [
           1.2190176617020032e-14,
           1,
           -3.172065784643304e-17,
           0.011573291874569841,
           0.029356196410017316,
           -0.016293281555199376,
           0.03694058006091496,
           0.1936423095739192,
           -0.7783097858305371,
           0.3283592071290509
          ],
          [
           4.191452370795484e-15,
           -3.172065784643304e-17,
           1,
           0.9388346884273532,
           0.9724208607222047,
           0.9274070943128571,
           0.8271171296793909,
           0.23601445306157218,
           -0.16045434969389172,
           -0.08790876248054909
          ],
          [
           -0.039299965430110995,
           0.011573291874569841,
           0.9388346884273532,
           1,
           0.9908321870577097,
           0.789561172765856,
           0.958529632494422,
           0.3889010282926359,
           -0.06307218425204116,
           0.22572752361998275
          ],
          [
           0.01586407250907644,
           0.029356196410017316,
           0.9724208607222047,
           0.9908321870577097,
           1,
           0.8562426913444895,
           0.9267337323970505,
           0.31080832133276803,
           -0.13462345067118167,
           0.11313330314179156
          ],
          [
           0.13359371971726142,
           -0.016293281555199376,
           0.9274070943128571,
           0.789561172765856,
           0.8562426913444895,
           1,
           0.6062987029525032,
           -0.06909891792513131,
           -0.23453484750065304,
           -0.34210559445685307
          ],
          [
           -0.007600404427307834,
           0.03694058006091496,
           0.8271171296793909,
           0.958529632494422,
           0.9267337323970505,
           0.6062987029525032,
           1,
           0.4543938634951361,
           -0.03683197605723795,
           0.4026322539996162
          ],
          [
           -0.5798499417911497,
           0.1936423095739192,
           0.23601445306157218,
           0.3889010282926359,
           0.31080832133276803,
           -0.06909891792513131,
           0.4543938634951361,
           1,
           0.0809272667535658,
           0.6579042870662761
          ],
          [
           -0.2736881474498996,
           -0.7783097858305371,
           -0.16045434969389172,
           -0.06307218425204116,
           -0.13462345067118167,
           -0.23453484750065304,
           -0.03683197605723795,
           0.0809272667535658,
           1,
           -0.014953606528399672
          ],
          [
           -0.27690153828427727,
           0.3283592071290509,
           -0.08790876248054909,
           0.22572752361998275,
           0.11313330314179156,
           -0.34210559445685307,
           0.4026322539996162,
           0.6579042870662761,
           -0.014953606528399672,
           1
          ]
         ]
        }
       ],
       "layout": {
        "coloraxis": {
         "colorscale": [
          [
           0,
           "rgb(5,48,97)"
          ],
          [
           0.1,
           "rgb(33,102,172)"
          ],
          [
           0.2,
           "rgb(67,147,195)"
          ],
          [
           0.3,
           "rgb(146,197,222)"
          ],
          [
           0.4,
           "rgb(209,229,240)"
          ],
          [
           0.5,
           "rgb(247,247,247)"
          ],
          [
           0.6,
           "rgb(253,219,199)"
          ],
          [
           0.7,
           "rgb(244,165,130)"
          ],
          [
           0.8,
           "rgb(214,96,77)"
          ],
          [
           0.9,
           "rgb(178,24,43)"
          ],
          [
           1,
           "rgb(103,0,31)"
          ]
         ]
        },
        "height": 800,
        "margin": {
         "b": 125,
         "l": 125,
         "t": 60
        },
        "template": {
         "layout": {
          "plot_bgcolor": "white",
          "xaxis": {
           "gridcolor": "lightgray"
          },
          "yaxis": {
           "gridcolor": "lightgray"
          }
         }
        },
        "width": 1000,
        "xaxis": {
         "anchor": "y",
         "constrain": "domain",
         "domain": [
          0,
          1
         ],
         "scaleanchor": "y"
        },
        "yaxis": {
         "anchor": "x",
         "autorange": "reversed",
         "constrain": "domain",
         "domain": [
          0,
          1
         ]
        }
       }
      }
     },
     "metadata": {},
     "output_type": "display_data"
    }
   ],
   "source": [
    "correlation_matrix(general_data_cluster)"
   ]
  },
  {
   "cell_type": "markdown",
   "metadata": {},
   "source": [
    "### Population"
   ]
  },
  {
   "cell_type": "code",
   "execution_count": 53,
   "metadata": {},
   "outputs": [
    {
     "data": {
      "text/html": [
       "<div>\n",
       "<style scoped>\n",
       "    .dataframe tbody tr th:only-of-type {\n",
       "        vertical-align: middle;\n",
       "    }\n",
       "\n",
       "    .dataframe tbody tr th {\n",
       "        vertical-align: top;\n",
       "    }\n",
       "\n",
       "    .dataframe thead th {\n",
       "        text-align: right;\n",
       "    }\n",
       "</style>\n",
       "<table border=\"1\" class=\"dataframe\">\n",
       "  <thead>\n",
       "    <tr style=\"text-align: right;\">\n",
       "      <th></th>\n",
       "      <th>Cluster</th>\n",
       "      <th># Total Cohort</th>\n",
       "      <th># Grads</th>\n",
       "    </tr>\n",
       "  </thead>\n",
       "  <tbody>\n",
       "    <tr>\n",
       "      <th>0</th>\n",
       "      <td>0</td>\n",
       "      <td>102667</td>\n",
       "      <td>43625.0</td>\n",
       "    </tr>\n",
       "    <tr>\n",
       "      <th>1</th>\n",
       "      <td>1</td>\n",
       "      <td>619211</td>\n",
       "      <td>504589.0</td>\n",
       "    </tr>\n",
       "    <tr>\n",
       "      <th>2</th>\n",
       "      <td>2</td>\n",
       "      <td>739952</td>\n",
       "      <td>700591.0</td>\n",
       "    </tr>\n",
       "  </tbody>\n",
       "</table>\n",
       "</div>"
      ],
      "text/plain": [
       "   Cluster  # Total Cohort   # Grads\n",
       "0        0          102667   43625.0\n",
       "1        1          619211  504589.0\n",
       "2        2          739952  700591.0"
      ]
     },
     "execution_count": 53,
     "metadata": {},
     "output_type": "execute_result"
    }
   ],
   "source": [
    "general_data_cluster_population = general_data_cluster.groupby('Cluster')[['# Total Cohort', '# Grads']].sum().reset_index()\n",
    "general_data_cluster_population"
   ]
  },
  {
   "cell_type": "code",
   "execution_count": 54,
   "metadata": {},
   "outputs": [
    {
     "data": {
      "application/vnd.plotly.v1+json": {
       "config": {
        "plotlyServerURL": "https://plot.ly"
       },
       "data": [
        {
         "marker": {
          "color": "#1f77b4"
         },
         "name": "Total Population",
         "showlegend": false,
         "type": "bar",
         "x": [
          0
         ],
         "y": [
          102667
         ]
        },
        {
         "marker": {
          "color": "#1f77b4",
          "line": {
           "color": "black",
           "width": 2
          },
          "pattern": {
           "bgcolor": "#1f77b4",
           "fgcolor": "black",
           "fillmode": "overlay",
           "shape": "/",
           "size": 12
          }
         },
         "name": "Graduate Population",
         "showlegend": false,
         "type": "bar",
         "x": [
          0
         ],
         "y": [
          43625
         ]
        },
        {
         "marker": {
          "color": "#ff7f0e"
         },
         "name": "Total Population",
         "showlegend": false,
         "type": "bar",
         "x": [
          1
         ],
         "y": [
          619211
         ]
        },
        {
         "marker": {
          "color": "#ff7f0e",
          "line": {
           "color": "black",
           "width": 2
          },
          "pattern": {
           "bgcolor": "#ff7f0e",
           "fgcolor": "black",
           "fillmode": "overlay",
           "shape": "/",
           "size": 12
          }
         },
         "name": "Graduate Population",
         "showlegend": false,
         "type": "bar",
         "x": [
          1
         ],
         "y": [
          504589
         ]
        },
        {
         "marker": {
          "color": "#2ca02c"
         },
         "name": "Total Population",
         "type": "bar",
         "x": [
          2
         ],
         "y": [
          739952
         ]
        },
        {
         "marker": {
          "color": "#2ca02c",
          "line": {
           "color": "black",
           "width": 2
          },
          "pattern": {
           "bgcolor": "#2ca02c",
           "fgcolor": "black",
           "fillmode": "overlay",
           "shape": "/",
           "size": 12
          }
         },
         "name": "Graduate Population",
         "type": "bar",
         "x": [
          2
         ],
         "y": [
          700591
         ]
        }
       ],
       "layout": {
        "barmode": "overlay",
        "showlegend": true,
        "template": {
         "layout": {
          "plot_bgcolor": "white",
          "xaxis": {
           "gridcolor": "lightgray"
          },
          "yaxis": {
           "gridcolor": "lightgray"
          }
         }
        },
        "title": {
         "text": "Cluster Population"
        },
        "xaxis": {
         "ticktext": [
          0,
          1,
          2
         ],
         "tickvals": [
          0,
          1,
          2
         ],
         "title": {
          "text": "Cluster"
         }
        },
        "yaxis": {
         "title": {
          "text": "Population"
         }
        }
       }
      }
     },
     "metadata": {},
     "output_type": "display_data"
    }
   ],
   "source": [
    "fig = go.Figure()\n",
    "\n",
    "for cluster in general_data_cluster_population['Cluster'].unique():\n",
    "    cluster_row = general_data_cluster_population[general_data_cluster_population['Cluster'] == cluster]\n",
    "    cluster_index = general_data_cluster_population['Cluster'].unique().tolist().index(cluster)\n",
    "    fig.add_trace(go.Bar(x=cluster_row['Cluster'], y=cluster_row['# Total Cohort'], name='Total Population', marker=dict(color=colors[cluster_index])))\n",
    "    fig.add_trace(go.Bar(x=cluster_row['Cluster'], y=cluster_row['# Grads'], name='Graduate Population', marker=dict(color=colors[cluster_index], pattern=make_pattern(colors[cluster_index]), line=make_border())))\n",
    "\n",
    "fig.update_layout(\n",
    "    barmode='overlay',\n",
    "        xaxis=dict(\n",
    "        tickvals=general_data_cluster_population['Cluster'].unique(), \n",
    "        ticktext=general_data_cluster_population['Cluster'].unique()\n",
    "    ),\n",
    ")\n",
    "\n",
    "for i in range(len(fig.data) - len(['# Total Cohort', '# Grads'])):\n",
    "    fig.data[i].showlegend = False\n",
    "    \n",
    "set_bar_fig_labels(fig=fig, fig_title='Cluster Population', y_title='Population', x_title='Cluster')\n",
    "\n",
    "fig.show()"
   ]
  },
  {
   "cell_type": "markdown",
   "metadata": {},
   "source": [
    "### Graduation Rate"
   ]
  },
  {
   "cell_type": "code",
   "execution_count": 55,
   "metadata": {},
   "outputs": [
    {
     "data": {
      "text/html": [
       "<div>\n",
       "<style scoped>\n",
       "    .dataframe tbody tr th:only-of-type {\n",
       "        vertical-align: middle;\n",
       "    }\n",
       "\n",
       "    .dataframe tbody tr th {\n",
       "        vertical-align: top;\n",
       "    }\n",
       "\n",
       "    .dataframe thead th {\n",
       "        text-align: right;\n",
       "    }\n",
       "</style>\n",
       "<table border=\"1\" class=\"dataframe\">\n",
       "  <thead>\n",
       "    <tr style=\"text-align: right;\">\n",
       "      <th></th>\n",
       "      <th>Cluster</th>\n",
       "      <th>Graduation Year</th>\n",
       "      <th># Total Cohort</th>\n",
       "      <th># Grads</th>\n",
       "      <th>Grad %</th>\n",
       "    </tr>\n",
       "  </thead>\n",
       "  <tbody>\n",
       "    <tr>\n",
       "      <th>0</th>\n",
       "      <td>0</td>\n",
       "      <td>2018</td>\n",
       "      <td>16531</td>\n",
       "      <td>6148.0</td>\n",
       "      <td>37.190733</td>\n",
       "    </tr>\n",
       "    <tr>\n",
       "      <th>1</th>\n",
       "      <td>0</td>\n",
       "      <td>2019</td>\n",
       "      <td>16447</td>\n",
       "      <td>6224.0</td>\n",
       "      <td>37.842768</td>\n",
       "    </tr>\n",
       "    <tr>\n",
       "      <th>2</th>\n",
       "      <td>0</td>\n",
       "      <td>2020</td>\n",
       "      <td>16496</td>\n",
       "      <td>6795.0</td>\n",
       "      <td>41.191804</td>\n",
       "    </tr>\n",
       "    <tr>\n",
       "      <th>3</th>\n",
       "      <td>0</td>\n",
       "      <td>2021</td>\n",
       "      <td>15057</td>\n",
       "      <td>6770.0</td>\n",
       "      <td>44.962476</td>\n",
       "    </tr>\n",
       "    <tr>\n",
       "      <th>4</th>\n",
       "      <td>0</td>\n",
       "      <td>2022</td>\n",
       "      <td>13333</td>\n",
       "      <td>6214.0</td>\n",
       "      <td>46.606165</td>\n",
       "    </tr>\n",
       "    <tr>\n",
       "      <th>5</th>\n",
       "      <td>0</td>\n",
       "      <td>2023</td>\n",
       "      <td>12250</td>\n",
       "      <td>5578.0</td>\n",
       "      <td>45.534694</td>\n",
       "    </tr>\n",
       "    <tr>\n",
       "      <th>6</th>\n",
       "      <td>0</td>\n",
       "      <td>2024</td>\n",
       "      <td>12553</td>\n",
       "      <td>5896.0</td>\n",
       "      <td>46.968852</td>\n",
       "    </tr>\n",
       "    <tr>\n",
       "      <th>7</th>\n",
       "      <td>1</td>\n",
       "      <td>2018</td>\n",
       "      <td>92602</td>\n",
       "      <td>69497.0</td>\n",
       "      <td>75.049135</td>\n",
       "    </tr>\n",
       "    <tr>\n",
       "      <th>8</th>\n",
       "      <td>1</td>\n",
       "      <td>2019</td>\n",
       "      <td>91860</td>\n",
       "      <td>71002.0</td>\n",
       "      <td>77.293708</td>\n",
       "    </tr>\n",
       "    <tr>\n",
       "      <th>9</th>\n",
       "      <td>1</td>\n",
       "      <td>2020</td>\n",
       "      <td>91519</td>\n",
       "      <td>73368.0</td>\n",
       "      <td>80.166960</td>\n",
       "    </tr>\n",
       "    <tr>\n",
       "      <th>10</th>\n",
       "      <td>1</td>\n",
       "      <td>2021</td>\n",
       "      <td>89558</td>\n",
       "      <td>73885.0</td>\n",
       "      <td>82.499609</td>\n",
       "    </tr>\n",
       "    <tr>\n",
       "      <th>11</th>\n",
       "      <td>1</td>\n",
       "      <td>2022</td>\n",
       "      <td>87279</td>\n",
       "      <td>73669.0</td>\n",
       "      <td>84.406329</td>\n",
       "    </tr>\n",
       "    <tr>\n",
       "      <th>12</th>\n",
       "      <td>1</td>\n",
       "      <td>2023</td>\n",
       "      <td>84601</td>\n",
       "      <td>72675.0</td>\n",
       "      <td>85.903240</td>\n",
       "    </tr>\n",
       "    <tr>\n",
       "      <th>13</th>\n",
       "      <td>1</td>\n",
       "      <td>2024</td>\n",
       "      <td>81792</td>\n",
       "      <td>70493.0</td>\n",
       "      <td>86.185691</td>\n",
       "    </tr>\n",
       "    <tr>\n",
       "      <th>14</th>\n",
       "      <td>2</td>\n",
       "      <td>2018</td>\n",
       "      <td>104205</td>\n",
       "      <td>97041.0</td>\n",
       "      <td>93.125090</td>\n",
       "    </tr>\n",
       "    <tr>\n",
       "      <th>15</th>\n",
       "      <td>2</td>\n",
       "      <td>2019</td>\n",
       "      <td>104817</td>\n",
       "      <td>97932.0</td>\n",
       "      <td>93.431409</td>\n",
       "    </tr>\n",
       "    <tr>\n",
       "      <th>16</th>\n",
       "      <td>2</td>\n",
       "      <td>2020</td>\n",
       "      <td>105522</td>\n",
       "      <td>99713.0</td>\n",
       "      <td>94.494987</td>\n",
       "    </tr>\n",
       "    <tr>\n",
       "      <th>17</th>\n",
       "      <td>2</td>\n",
       "      <td>2021</td>\n",
       "      <td>106185</td>\n",
       "      <td>100867.0</td>\n",
       "      <td>94.991760</td>\n",
       "    </tr>\n",
       "    <tr>\n",
       "      <th>18</th>\n",
       "      <td>2</td>\n",
       "      <td>2022</td>\n",
       "      <td>106950</td>\n",
       "      <td>102083.0</td>\n",
       "      <td>95.449275</td>\n",
       "    </tr>\n",
       "    <tr>\n",
       "      <th>19</th>\n",
       "      <td>2</td>\n",
       "      <td>2023</td>\n",
       "      <td>106664</td>\n",
       "      <td>102001.0</td>\n",
       "      <td>95.628328</td>\n",
       "    </tr>\n",
       "    <tr>\n",
       "      <th>20</th>\n",
       "      <td>2</td>\n",
       "      <td>2024</td>\n",
       "      <td>105609</td>\n",
       "      <td>100954.0</td>\n",
       "      <td>95.592232</td>\n",
       "    </tr>\n",
       "  </tbody>\n",
       "</table>\n",
       "</div>"
      ],
      "text/plain": [
       "    Cluster  Graduation Year  # Total Cohort   # Grads     Grad %\n",
       "0         0             2018           16531    6148.0  37.190733\n",
       "1         0             2019           16447    6224.0  37.842768\n",
       "2         0             2020           16496    6795.0  41.191804\n",
       "3         0             2021           15057    6770.0  44.962476\n",
       "4         0             2022           13333    6214.0  46.606165\n",
       "5         0             2023           12250    5578.0  45.534694\n",
       "6         0             2024           12553    5896.0  46.968852\n",
       "7         1             2018           92602   69497.0  75.049135\n",
       "8         1             2019           91860   71002.0  77.293708\n",
       "9         1             2020           91519   73368.0  80.166960\n",
       "10        1             2021           89558   73885.0  82.499609\n",
       "11        1             2022           87279   73669.0  84.406329\n",
       "12        1             2023           84601   72675.0  85.903240\n",
       "13        1             2024           81792   70493.0  86.185691\n",
       "14        2             2018          104205   97041.0  93.125090\n",
       "15        2             2019          104817   97932.0  93.431409\n",
       "16        2             2020          105522   99713.0  94.494987\n",
       "17        2             2021          106185  100867.0  94.991760\n",
       "18        2             2022          106950  102083.0  95.449275\n",
       "19        2             2023          106664  102001.0  95.628328\n",
       "20        2             2024          105609  100954.0  95.592232"
      ]
     },
     "execution_count": 55,
     "metadata": {},
     "output_type": "execute_result"
    }
   ],
   "source": [
    "general_data_cluster_rate = general_data_cluster.groupby(['Cluster', 'Graduation Year'])[['# Total Cohort', '# Grads']].sum().reset_index()\n",
    "general_data_cluster_rate['Grad %'] = general_data_cluster_rate['# Grads'] / general_data_cluster_rate['# Total Cohort'] * 100\n",
    "general_data_cluster_rate"
   ]
  },
  {
   "cell_type": "code",
   "execution_count": 56,
   "metadata": {},
   "outputs": [
    {
     "data": {
      "application/vnd.plotly.v1+json": {
       "config": {
        "plotlyServerURL": "https://plot.ly"
       },
       "data": [
        {
         "name": "Cluster 0",
         "type": "scatter",
         "x": [
          2018,
          2019,
          2020,
          2021,
          2022,
          2023,
          2024
         ],
         "y": [
          37.190732563063335,
          37.84276767799599,
          41.19180407371484,
          44.962475924819024,
          46.60616515412885,
          45.53469387755102,
          46.96885206723492
         ]
        },
        {
         "name": "Cluster 1",
         "type": "scatter",
         "x": [
          2018,
          2019,
          2020,
          2021,
          2022,
          2023,
          2024
         ],
         "y": [
          75.0491350078832,
          77.2937078162421,
          80.16695986625729,
          82.49960919180866,
          84.40632912842723,
          85.90323991442182,
          86.18569053208138
         ]
        },
        {
         "name": "Cluster 2",
         "type": "scatter",
         "x": [
          2018,
          2019,
          2020,
          2021,
          2022,
          2023,
          2024
         ],
         "y": [
          93.12508996689218,
          93.43140902716162,
          94.49498682739144,
          94.99175966473608,
          95.44927536231884,
          95.6283282082052,
          95.59223172267515
         ]
        }
       ],
       "layout": {
        "showlegend": true,
        "template": {
         "layout": {
          "plot_bgcolor": "white",
          "xaxis": {
           "gridcolor": "lightgray"
          },
          "yaxis": {
           "gridcolor": "lightgray"
          }
         }
        },
        "title": {
         "text": "Graduation Rate Per Cluster from 2018 to 2024"
        },
        "xaxis": {
         "ticktext": [
          2018,
          2019,
          2020,
          2021,
          2022,
          2023,
          2024,
          2018,
          2019,
          2020,
          2021,
          2022,
          2023,
          2024,
          2018,
          2019,
          2020,
          2021,
          2022,
          2023,
          2024
         ],
         "tickvals": [
          2018,
          2019,
          2020,
          2021,
          2022,
          2023,
          2024,
          2018,
          2019,
          2020,
          2021,
          2022,
          2023,
          2024,
          2018,
          2019,
          2020,
          2021,
          2022,
          2023,
          2024
         ],
         "title": {
          "text": "Year"
         }
        },
        "yaxis": {
         "title": {
          "text": "Graduation %"
         }
        }
       }
      }
     },
     "metadata": {},
     "output_type": "display_data"
    }
   ],
   "source": [
    "fig = go.Figure()\n",
    "for cluster in general_data_cluster_rate['Cluster'].unique():\n",
    "    cluster_row = general_data_cluster_rate[general_data_cluster_rate['Cluster'] == cluster]\n",
    "    fig.add_trace(go.Scatter(x=cluster_row['Graduation Year'], y=cluster_row['Grad %'], name=f'Cluster {cluster}'))\n",
    "set_line_fig_labels(fig=fig, fig_title=\"Graduation Rate Per Cluster from 2018 to 2024\", x_title='Year', y_title=\"Graduation %\", x_ticks=general_data_cluster_rate['Graduation Year'])\n",
    "fig.show()"
   ]
  },
  {
   "cell_type": "markdown",
   "metadata": {},
   "source": [
    "### Diploma Type"
   ]
  },
  {
   "cell_type": "code",
   "execution_count": 57,
   "metadata": {},
   "outputs": [
    {
     "data": {
      "text/html": [
       "<div>\n",
       "<style scoped>\n",
       "    .dataframe tbody tr th:only-of-type {\n",
       "        vertical-align: middle;\n",
       "    }\n",
       "\n",
       "    .dataframe tbody tr th {\n",
       "        vertical-align: top;\n",
       "    }\n",
       "\n",
       "    .dataframe thead th {\n",
       "        text-align: right;\n",
       "    }\n",
       "</style>\n",
       "<table border=\"1\" class=\"dataframe\">\n",
       "  <thead>\n",
       "    <tr style=\"text-align: right;\">\n",
       "      <th></th>\n",
       "      <th>Cluster</th>\n",
       "      <th># Advanced Regents</th>\n",
       "      <th># Regents without Advanced</th>\n",
       "      <th># Local</th>\n",
       "      <th># Grads</th>\n",
       "      <th>Advanced Regents %</th>\n",
       "      <th>Regents without Advanced %</th>\n",
       "      <th>Local %</th>\n",
       "    </tr>\n",
       "  </thead>\n",
       "  <tbody>\n",
       "    <tr>\n",
       "      <th>0</th>\n",
       "      <td>0</td>\n",
       "      <td>1330.0</td>\n",
       "      <td>37079.0</td>\n",
       "      <td>5223.0</td>\n",
       "      <td>43625.0</td>\n",
       "      <td>3.048711</td>\n",
       "      <td>84.994842</td>\n",
       "      <td>11.972493</td>\n",
       "    </tr>\n",
       "    <tr>\n",
       "      <th>1</th>\n",
       "      <td>1</td>\n",
       "      <td>89342.0</td>\n",
       "      <td>383928.0</td>\n",
       "      <td>31379.0</td>\n",
       "      <td>504589.0</td>\n",
       "      <td>17.705895</td>\n",
       "      <td>76.087271</td>\n",
       "      <td>6.218725</td>\n",
       "    </tr>\n",
       "    <tr>\n",
       "      <th>2</th>\n",
       "      <td>2</td>\n",
       "      <td>321332.0</td>\n",
       "      <td>361002.0</td>\n",
       "      <td>18385.0</td>\n",
       "      <td>700591.0</td>\n",
       "      <td>45.865848</td>\n",
       "      <td>51.528210</td>\n",
       "      <td>2.624213</td>\n",
       "    </tr>\n",
       "  </tbody>\n",
       "</table>\n",
       "</div>"
      ],
      "text/plain": [
       "   Cluster  # Advanced Regents  # Regents without Advanced  # Local   # Grads  \\\n",
       "0        0              1330.0                     37079.0   5223.0   43625.0   \n",
       "1        1             89342.0                    383928.0  31379.0  504589.0   \n",
       "2        2            321332.0                    361002.0  18385.0  700591.0   \n",
       "\n",
       "   Advanced Regents %  Regents without Advanced %    Local %  \n",
       "0            3.048711                   84.994842  11.972493  \n",
       "1           17.705895                   76.087271   6.218725  \n",
       "2           45.865848                   51.528210   2.624213  "
      ]
     },
     "execution_count": 57,
     "metadata": {},
     "output_type": "execute_result"
    }
   ],
   "source": [
    "general_data_cluster_diploma_type = general_data_cluster.groupby(['Cluster'])[['# Advanced Regents', '# Regents without Advanced', '# Local', '# Grads']].sum().reset_index()\n",
    "general_data_cluster_diploma_type['Advanced Regents %'] = general_data_cluster_diploma_type['# Advanced Regents'] / general_data_cluster_diploma_type['# Grads'] * 100\n",
    "general_data_cluster_diploma_type['Regents without Advanced %'] = general_data_cluster_diploma_type['# Regents without Advanced'] / general_data_cluster_diploma_type['# Grads'] * 100\n",
    "general_data_cluster_diploma_type['Local %'] = general_data_cluster_diploma_type['# Local'] / general_data_cluster_diploma_type['# Grads'] * 100\n",
    "general_data_cluster_diploma_type"
   ]
  },
  {
   "cell_type": "code",
   "execution_count": 58,
   "metadata": {},
   "outputs": [
    {
     "data": {
      "application/vnd.plotly.v1+json": {
       "config": {
        "plotlyServerURL": "https://plot.ly"
       },
       "data": [
        {
         "marker": {
          "color": "#1f77b4"
         },
         "name": "Advanced Regents Diploma",
         "showlegend": false,
         "type": "bar",
         "x": [
          0
         ],
         "xaxis": "x",
         "y": [
          3.048710601719198
         ],
         "yaxis": "y"
        },
        {
         "marker": {
          "color": "#ff7f0e"
         },
         "name": "Regular Regents Diploma",
         "showlegend": false,
         "type": "bar",
         "x": [
          0
         ],
         "xaxis": "x",
         "y": [
          84.99484240687678
         ],
         "yaxis": "y"
        },
        {
         "marker": {
          "color": "#2ca02c"
         },
         "name": "Local Diploma",
         "showlegend": false,
         "type": "bar",
         "x": [
          0
         ],
         "xaxis": "x",
         "y": [
          11.972492836676219
         ],
         "yaxis": "y"
        },
        {
         "marker": {
          "color": "#1f77b4"
         },
         "name": "Advanced Regents Diploma",
         "showlegend": false,
         "type": "bar",
         "x": [
          1
         ],
         "xaxis": "x2",
         "y": [
          17.70589529300084
         ],
         "yaxis": "y2"
        },
        {
         "marker": {
          "color": "#ff7f0e"
         },
         "name": "Regular Regents Diploma",
         "showlegend": false,
         "type": "bar",
         "x": [
          1
         ],
         "xaxis": "x2",
         "y": [
          76.08727102651861
         ],
         "yaxis": "y2"
        },
        {
         "marker": {
          "color": "#2ca02c"
         },
         "name": "Local Diploma",
         "showlegend": false,
         "type": "bar",
         "x": [
          1
         ],
         "xaxis": "x2",
         "y": [
          6.21872454611575
         ],
         "yaxis": "y2"
        },
        {
         "marker": {
          "color": "#1f77b4"
         },
         "name": "Advanced Regents Diploma",
         "type": "bar",
         "x": [
          2
         ],
         "xaxis": "x3",
         "y": [
          45.865847548712445
         ],
         "yaxis": "y3"
        },
        {
         "marker": {
          "color": "#ff7f0e"
         },
         "name": "Regular Regents Diploma",
         "type": "bar",
         "x": [
          2
         ],
         "xaxis": "x3",
         "y": [
          51.52820975433598
         ],
         "yaxis": "y3"
        },
        {
         "marker": {
          "color": "#2ca02c"
         },
         "name": "Local Diploma",
         "type": "bar",
         "x": [
          2
         ],
         "xaxis": "x3",
         "y": [
          2.6242129858933385
         ],
         "yaxis": "y3"
        }
       ],
       "layout": {
        "annotations": [
         {
          "font": {
           "size": 16
          },
          "showarrow": false,
          "text": "Cluster 0",
          "x": 0.14444444444444446,
          "xanchor": "center",
          "xref": "paper",
          "y": 1,
          "yanchor": "bottom",
          "yref": "paper"
         },
         {
          "font": {
           "size": 16
          },
          "showarrow": false,
          "text": "Cluster 1",
          "x": 0.5,
          "xanchor": "center",
          "xref": "paper",
          "y": 1,
          "yanchor": "bottom",
          "yref": "paper"
         },
         {
          "font": {
           "size": 16
          },
          "showarrow": false,
          "text": "Cluster 2",
          "x": 0.8555555555555556,
          "xanchor": "center",
          "xref": "paper",
          "y": 1,
          "yanchor": "bottom",
          "yref": "paper"
         }
        ],
        "template": {
         "layout": {
          "plot_bgcolor": "white",
          "xaxis": {
           "gridcolor": "lightgray"
          },
          "yaxis": {
           "gridcolor": "lightgray"
          }
         }
        },
        "title": {
         "text": "Graduate Distribution in Every Cluster based on Diploma Type"
        },
        "xaxis": {
         "anchor": "y",
         "domain": [
          0,
          0.2888888888888889
         ]
        },
        "xaxis2": {
         "anchor": "y2",
         "domain": [
          0.35555555555555557,
          0.6444444444444445
         ]
        },
        "xaxis3": {
         "anchor": "y3",
         "domain": [
          0.7111111111111111,
          1
         ]
        },
        "yaxis": {
         "anchor": "x",
         "domain": [
          0,
          1
         ],
         "range": [
          0,
          84.99484240687678
         ],
         "title": {
          "text": "Distribution %"
         }
        },
        "yaxis2": {
         "anchor": "x2",
         "domain": [
          0,
          1
         ],
         "range": [
          0,
          84.99484240687678
         ],
         "title": {
          "text": "Distribution %"
         }
        },
        "yaxis3": {
         "anchor": "x3",
         "domain": [
          0,
          1
         ],
         "range": [
          0,
          84.99484240687678
         ],
         "title": {
          "text": "Distribution %"
         }
        }
       }
      }
     },
     "metadata": {},
     "output_type": "display_data"
    }
   ],
   "source": [
    "fig = make_subplots(rows=1, cols=len(general_data_cluster_diploma_type['Cluster'].unique()), subplot_titles=('Cluster 0', 'Cluster 1', 'Cluster 2'))\n",
    "\n",
    "for cluster in general_data_cluster_diploma_type['Cluster'].unique():\n",
    "    cluster_row = general_data_cluster_diploma_type[general_data_cluster_diploma_type['Cluster'] == cluster]\n",
    "    cluster_index = general_data_cluster_diploma_type['Cluster'].unique().tolist().index(cluster)\n",
    "    fig.add_trace(go.Bar(x=cluster_row['Cluster'], y=cluster_row['Advanced Regents %'], name=f'Advanced Regents Diploma', marker=dict(color=colors[0])), row=1, col=cluster_index+1)\n",
    "    fig.add_trace(go.Bar(x=cluster_row['Cluster'], y=cluster_row['Regents without Advanced %'], name=f'Regular Regents Diploma', marker=dict(color=colors[1])), row=1, col=cluster_index+1)\n",
    "    fig.add_trace(go.Bar(x=cluster_row['Cluster'], y=cluster_row['Local %'], name=f'Local Diploma', marker=dict(color=colors[2])), row=1, col=cluster_index+1)\n",
    "    fig.update_yaxes(title_text='Distribution %', range=[0,max(general_data_cluster_diploma_type[['Advanced Regents %', 'Regents without Advanced %', 'Local %']].max(axis=1))])\n",
    "\n",
    "for i in range(len(fig.data) - len(colors)):\n",
    "    fig.data[i].showlegend = False\n",
    "\n",
    "fig.update_layout(title_text = \"Graduate Distribution in Every Cluster based on Diploma Type\")\n",
    "fig.show()"
   ]
  },
  {
   "cell_type": "markdown",
   "metadata": {},
   "source": [
    "### Dropout Rate"
   ]
  },
  {
   "cell_type": "code",
   "execution_count": 59,
   "metadata": {},
   "outputs": [
    {
     "data": {
      "text/html": [
       "<div>\n",
       "<style scoped>\n",
       "    .dataframe tbody tr th:only-of-type {\n",
       "        vertical-align: middle;\n",
       "    }\n",
       "\n",
       "    .dataframe tbody tr th {\n",
       "        vertical-align: top;\n",
       "    }\n",
       "\n",
       "    .dataframe thead th {\n",
       "        text-align: right;\n",
       "    }\n",
       "</style>\n",
       "<table border=\"1\" class=\"dataframe\">\n",
       "  <thead>\n",
       "    <tr style=\"text-align: right;\">\n",
       "      <th></th>\n",
       "      <th>Graduation Year</th>\n",
       "      <th>Duration</th>\n",
       "      <th>Cluster</th>\n",
       "      <th># Total Cohort</th>\n",
       "      <th># Grads</th>\n",
       "      <th># Advanced Regents</th>\n",
       "      <th># Regents without Advanced</th>\n",
       "      <th># Local</th>\n",
       "      <th># Still Enrolled</th>\n",
       "      <th># Dropout</th>\n",
       "    </tr>\n",
       "  </thead>\n",
       "  <tbody>\n",
       "    <tr>\n",
       "      <th>0</th>\n",
       "      <td>2018</td>\n",
       "      <td>4</td>\n",
       "      <td>0</td>\n",
       "      <td>5003</td>\n",
       "      <td>1169.0</td>\n",
       "      <td>56.0</td>\n",
       "      <td>928.0</td>\n",
       "      <td>185.0</td>\n",
       "      <td>2882.0</td>\n",
       "      <td>969.0</td>\n",
       "    </tr>\n",
       "    <tr>\n",
       "      <th>1</th>\n",
       "      <td>2018</td>\n",
       "      <td>4</td>\n",
       "      <td>1</td>\n",
       "      <td>31418</td>\n",
       "      <td>22878.0</td>\n",
       "      <td>2475.0</td>\n",
       "      <td>17593.0</td>\n",
       "      <td>2810.0</td>\n",
       "      <td>6027.0</td>\n",
       "      <td>3362.0</td>\n",
       "    </tr>\n",
       "    <tr>\n",
       "      <th>2</th>\n",
       "      <td>2018</td>\n",
       "      <td>4</td>\n",
       "      <td>2</td>\n",
       "      <td>35675</td>\n",
       "      <td>32741.0</td>\n",
       "      <td>13122.0</td>\n",
       "      <td>17915.0</td>\n",
       "      <td>1705.0</td>\n",
       "      <td>2870.0</td>\n",
       "      <td>788.0</td>\n",
       "    </tr>\n",
       "    <tr>\n",
       "      <th>3</th>\n",
       "      <td>2018</td>\n",
       "      <td>5</td>\n",
       "      <td>0</td>\n",
       "      <td>5557</td>\n",
       "      <td>2130.0</td>\n",
       "      <td>62.0</td>\n",
       "      <td>1613.0</td>\n",
       "      <td>455.0</td>\n",
       "      <td>1698.0</td>\n",
       "      <td>1687.0</td>\n",
       "    </tr>\n",
       "    <tr>\n",
       "      <th>4</th>\n",
       "      <td>2018</td>\n",
       "      <td>5</td>\n",
       "      <td>1</td>\n",
       "      <td>30233</td>\n",
       "      <td>22997.0</td>\n",
       "      <td>2428.0</td>\n",
       "      <td>17599.0</td>\n",
       "      <td>2970.0</td>\n",
       "      <td>2015.0</td>\n",
       "      <td>4870.0</td>\n",
       "    </tr>\n",
       "    <tr>\n",
       "      <th>...</th>\n",
       "      <td>...</td>\n",
       "      <td>...</td>\n",
       "      <td>...</td>\n",
       "      <td>...</td>\n",
       "      <td>...</td>\n",
       "      <td>...</td>\n",
       "      <td>...</td>\n",
       "      <td>...</td>\n",
       "      <td>...</td>\n",
       "      <td>...</td>\n",
       "    </tr>\n",
       "    <tr>\n",
       "      <th>58</th>\n",
       "      <td>2024</td>\n",
       "      <td>5</td>\n",
       "      <td>1</td>\n",
       "      <td>27408</td>\n",
       "      <td>23879.0</td>\n",
       "      <td>4055.0</td>\n",
       "      <td>19665.0</td>\n",
       "      <td>161.0</td>\n",
       "      <td>523.0</td>\n",
       "      <td>2732.0</td>\n",
       "    </tr>\n",
       "    <tr>\n",
       "      <th>59</th>\n",
       "      <td>2024</td>\n",
       "      <td>5</td>\n",
       "      <td>2</td>\n",
       "      <td>35000</td>\n",
       "      <td>33632.0</td>\n",
       "      <td>14518.0</td>\n",
       "      <td>19019.0</td>\n",
       "      <td>95.0</td>\n",
       "      <td>277.0</td>\n",
       "      <td>915.0</td>\n",
       "    </tr>\n",
       "    <tr>\n",
       "      <th>60</th>\n",
       "      <td>2024</td>\n",
       "      <td>6</td>\n",
       "      <td>0</td>\n",
       "      <td>3809</td>\n",
       "      <td>2145.0</td>\n",
       "      <td>50.0</td>\n",
       "      <td>1997.0</td>\n",
       "      <td>98.0</td>\n",
       "      <td>271.0</td>\n",
       "      <td>1246.0</td>\n",
       "    </tr>\n",
       "    <tr>\n",
       "      <th>61</th>\n",
       "      <td>2024</td>\n",
       "      <td>6</td>\n",
       "      <td>1</td>\n",
       "      <td>28123</td>\n",
       "      <td>24626.0</td>\n",
       "      <td>6542.0</td>\n",
       "      <td>17952.0</td>\n",
       "      <td>132.0</td>\n",
       "      <td>210.0</td>\n",
       "      <td>2942.0</td>\n",
       "    </tr>\n",
       "    <tr>\n",
       "      <th>62</th>\n",
       "      <td>2024</td>\n",
       "      <td>6</td>\n",
       "      <td>2</td>\n",
       "      <td>35541</td>\n",
       "      <td>34262.0</td>\n",
       "      <td>18050.0</td>\n",
       "      <td>16076.0</td>\n",
       "      <td>136.0</td>\n",
       "      <td>113.0</td>\n",
       "      <td>941.0</td>\n",
       "    </tr>\n",
       "  </tbody>\n",
       "</table>\n",
       "<p>63 rows × 10 columns</p>\n",
       "</div>"
      ],
      "text/plain": [
       "    Graduation Year  Duration  Cluster  # Total Cohort  # Grads  \\\n",
       "0              2018         4        0            5003   1169.0   \n",
       "1              2018         4        1           31418  22878.0   \n",
       "2              2018         4        2           35675  32741.0   \n",
       "3              2018         5        0            5557   2130.0   \n",
       "4              2018         5        1           30233  22997.0   \n",
       "..              ...       ...      ...             ...      ...   \n",
       "58             2024         5        1           27408  23879.0   \n",
       "59             2024         5        2           35000  33632.0   \n",
       "60             2024         6        0            3809   2145.0   \n",
       "61             2024         6        1           28123  24626.0   \n",
       "62             2024         6        2           35541  34262.0   \n",
       "\n",
       "    # Advanced Regents  # Regents without Advanced  # Local  # Still Enrolled  \\\n",
       "0                 56.0                       928.0    185.0            2882.0   \n",
       "1               2475.0                     17593.0   2810.0            6027.0   \n",
       "2              13122.0                     17915.0   1705.0            2870.0   \n",
       "3                 62.0                      1613.0    455.0            1698.0   \n",
       "4               2428.0                     17599.0   2970.0            2015.0   \n",
       "..                 ...                         ...      ...               ...   \n",
       "58              4055.0                     19665.0    161.0             523.0   \n",
       "59             14518.0                     19019.0     95.0             277.0   \n",
       "60                50.0                      1997.0     98.0             271.0   \n",
       "61              6542.0                     17952.0    132.0             210.0   \n",
       "62             18050.0                     16076.0    136.0             113.0   \n",
       "\n",
       "    # Dropout  \n",
       "0       969.0  \n",
       "1      3362.0  \n",
       "2       788.0  \n",
       "3      1687.0  \n",
       "4      4870.0  \n",
       "..        ...  \n",
       "58     2732.0  \n",
       "59      915.0  \n",
       "60     1246.0  \n",
       "61     2942.0  \n",
       "62      941.0  \n",
       "\n",
       "[63 rows x 10 columns]"
      ]
     },
     "execution_count": 59,
     "metadata": {},
     "output_type": "execute_result"
    }
   ],
   "source": [
    "general_data_cluster"
   ]
  },
  {
   "cell_type": "code",
   "execution_count": 206,
   "metadata": {},
   "outputs": [
    {
     "data": {
      "text/html": [
       "<div>\n",
       "<style scoped>\n",
       "    .dataframe tbody tr th:only-of-type {\n",
       "        vertical-align: middle;\n",
       "    }\n",
       "\n",
       "    .dataframe tbody tr th {\n",
       "        vertical-align: top;\n",
       "    }\n",
       "\n",
       "    .dataframe thead th {\n",
       "        text-align: right;\n",
       "    }\n",
       "</style>\n",
       "<table border=\"1\" class=\"dataframe\">\n",
       "  <thead>\n",
       "    <tr style=\"text-align: right;\">\n",
       "      <th></th>\n",
       "      <th>Graduation Year</th>\n",
       "      <th>Duration</th>\n",
       "      <th>Cluster</th>\n",
       "      <th># Dropout</th>\n",
       "      <th># Grads</th>\n",
       "      <th># Total Cohort</th>\n",
       "      <th># No Grads</th>\n",
       "      <th>% Dropout</th>\n",
       "    </tr>\n",
       "  </thead>\n",
       "  <tbody>\n",
       "    <tr>\n",
       "      <th>0</th>\n",
       "      <td>2018</td>\n",
       "      <td>4</td>\n",
       "      <td>0</td>\n",
       "      <td>969.0</td>\n",
       "      <td>1169.0</td>\n",
       "      <td>5003</td>\n",
       "      <td>3834.0</td>\n",
       "      <td>25.273865</td>\n",
       "    </tr>\n",
       "    <tr>\n",
       "      <th>1</th>\n",
       "      <td>2018</td>\n",
       "      <td>4</td>\n",
       "      <td>1</td>\n",
       "      <td>3362.0</td>\n",
       "      <td>22878.0</td>\n",
       "      <td>31418</td>\n",
       "      <td>8540.0</td>\n",
       "      <td>39.367681</td>\n",
       "    </tr>\n",
       "    <tr>\n",
       "      <th>2</th>\n",
       "      <td>2018</td>\n",
       "      <td>4</td>\n",
       "      <td>2</td>\n",
       "      <td>788.0</td>\n",
       "      <td>32741.0</td>\n",
       "      <td>35675</td>\n",
       "      <td>2934.0</td>\n",
       "      <td>26.857532</td>\n",
       "    </tr>\n",
       "    <tr>\n",
       "      <th>3</th>\n",
       "      <td>2018</td>\n",
       "      <td>5</td>\n",
       "      <td>0</td>\n",
       "      <td>1687.0</td>\n",
       "      <td>2130.0</td>\n",
       "      <td>5557</td>\n",
       "      <td>3427.0</td>\n",
       "      <td>49.226729</td>\n",
       "    </tr>\n",
       "    <tr>\n",
       "      <th>4</th>\n",
       "      <td>2018</td>\n",
       "      <td>5</td>\n",
       "      <td>1</td>\n",
       "      <td>4870.0</td>\n",
       "      <td>22997.0</td>\n",
       "      <td>30233</td>\n",
       "      <td>7236.0</td>\n",
       "      <td>67.302377</td>\n",
       "    </tr>\n",
       "    <tr>\n",
       "      <th>...</th>\n",
       "      <td>...</td>\n",
       "      <td>...</td>\n",
       "      <td>...</td>\n",
       "      <td>...</td>\n",
       "      <td>...</td>\n",
       "      <td>...</td>\n",
       "      <td>...</td>\n",
       "      <td>...</td>\n",
       "    </tr>\n",
       "    <tr>\n",
       "      <th>58</th>\n",
       "      <td>2024</td>\n",
       "      <td>5</td>\n",
       "      <td>1</td>\n",
       "      <td>2732.0</td>\n",
       "      <td>23879.0</td>\n",
       "      <td>27408</td>\n",
       "      <td>3529.0</td>\n",
       "      <td>77.415698</td>\n",
       "    </tr>\n",
       "    <tr>\n",
       "      <th>59</th>\n",
       "      <td>2024</td>\n",
       "      <td>5</td>\n",
       "      <td>2</td>\n",
       "      <td>915.0</td>\n",
       "      <td>33632.0</td>\n",
       "      <td>35000</td>\n",
       "      <td>1368.0</td>\n",
       "      <td>66.885965</td>\n",
       "    </tr>\n",
       "    <tr>\n",
       "      <th>60</th>\n",
       "      <td>2024</td>\n",
       "      <td>6</td>\n",
       "      <td>0</td>\n",
       "      <td>1246.0</td>\n",
       "      <td>2145.0</td>\n",
       "      <td>3809</td>\n",
       "      <td>1664.0</td>\n",
       "      <td>74.879808</td>\n",
       "    </tr>\n",
       "    <tr>\n",
       "      <th>61</th>\n",
       "      <td>2024</td>\n",
       "      <td>6</td>\n",
       "      <td>1</td>\n",
       "      <td>2942.0</td>\n",
       "      <td>24626.0</td>\n",
       "      <td>28123</td>\n",
       "      <td>3497.0</td>\n",
       "      <td>84.129254</td>\n",
       "    </tr>\n",
       "    <tr>\n",
       "      <th>62</th>\n",
       "      <td>2024</td>\n",
       "      <td>6</td>\n",
       "      <td>2</td>\n",
       "      <td>941.0</td>\n",
       "      <td>34262.0</td>\n",
       "      <td>35541</td>\n",
       "      <td>1279.0</td>\n",
       "      <td>73.573104</td>\n",
       "    </tr>\n",
       "  </tbody>\n",
       "</table>\n",
       "<p>63 rows × 8 columns</p>\n",
       "</div>"
      ],
      "text/plain": [
       "    Graduation Year  Duration  Cluster  # Dropout  # Grads  # Total Cohort  \\\n",
       "0              2018         4        0      969.0   1169.0            5003   \n",
       "1              2018         4        1     3362.0  22878.0           31418   \n",
       "2              2018         4        2      788.0  32741.0           35675   \n",
       "3              2018         5        0     1687.0   2130.0            5557   \n",
       "4              2018         5        1     4870.0  22997.0           30233   \n",
       "..              ...       ...      ...        ...      ...             ...   \n",
       "58             2024         5        1     2732.0  23879.0           27408   \n",
       "59             2024         5        2      915.0  33632.0           35000   \n",
       "60             2024         6        0     1246.0   2145.0            3809   \n",
       "61             2024         6        1     2942.0  24626.0           28123   \n",
       "62             2024         6        2      941.0  34262.0           35541   \n",
       "\n",
       "    # No Grads  % Dropout  \n",
       "0       3834.0  25.273865  \n",
       "1       8540.0  39.367681  \n",
       "2       2934.0  26.857532  \n",
       "3       3427.0  49.226729  \n",
       "4       7236.0  67.302377  \n",
       "..         ...        ...  \n",
       "58      3529.0  77.415698  \n",
       "59      1368.0  66.885965  \n",
       "60      1664.0  74.879808  \n",
       "61      3497.0  84.129254  \n",
       "62      1279.0  73.573104  \n",
       "\n",
       "[63 rows x 8 columns]"
      ]
     },
     "execution_count": 206,
     "metadata": {},
     "output_type": "execute_result"
    }
   ],
   "source": [
    "general_data_cluster_dropout_rate = general_data_cluster[['Graduation Year', 'Duration', 'Cluster', '# Dropout', '# Grads', '# Total Cohort']].copy()\n",
    "general_data_cluster_dropout_rate['# No Grads'] = general_data_cluster_dropout_rate['# Total Cohort'] - general_data_cluster_dropout_rate['# Grads']\n",
    "general_data_cluster_dropout_rate['% Dropout'] = general_data_cluster_dropout_rate['# Dropout'] / general_data_cluster_dropout_rate['# No Grads'] * 100\n",
    "general_data_cluster_dropout_rate"
   ]
  },
  {
   "cell_type": "code",
   "execution_count": 207,
   "metadata": {},
   "outputs": [
    {
     "data": {
      "application/vnd.plotly.v1+json": {
       "config": {
        "plotlyServerURL": "https://plot.ly"
       },
       "data": [
        {
         "line": {
          "color": "#1f77b4"
         },
         "name": "4 Years",
         "showlegend": false,
         "type": "scatter",
         "x": [
          2018,
          2019,
          2020,
          2021,
          2022,
          2023,
          2024
         ],
         "xaxis": "x",
         "y": [
          25.273865414710485,
          27.157561361836898,
          16.54401744344508,
          17.247844019497563,
          24.95674740484429,
          26.622172784575454,
          28.28030032177333
         ],
         "yaxis": "y"
        },
        {
         "line": {
          "color": "#ff7f0e"
         },
         "name": "5 Years",
         "showlegend": false,
         "type": "scatter",
         "x": [
          2018,
          2019,
          2020,
          2021,
          2022,
          2023,
          2024
         ],
         "xaxis": "x",
         "y": [
          49.22672891742049,
          53.90898483080513,
          44.1233140655106,
          35.42168674698795,
          48.08027923211169,
          55.38140020898642,
          58.42440801457195
         ],
         "yaxis": "y"
        },
        {
         "line": {
          "color": "#2ca02c"
         },
         "name": "6 Years",
         "showlegend": false,
         "type": "scatter",
         "x": [
          2018,
          2019,
          2020,
          2021,
          2022,
          2023,
          2024
         ],
         "xaxis": "x",
         "y": [
          68.2575272261371,
          68.79574184963406,
          66.96367374914325,
          58.96869244935543,
          61.6699801192843,
          68.80155264434741,
          74.8798076923077
         ],
         "yaxis": "y"
        },
        {
         "line": {
          "color": "#1f77b4"
         },
         "name": "4 Years",
         "showlegend": false,
         "type": "scatter",
         "x": [
          2018,
          2019,
          2020,
          2021,
          2022,
          2023,
          2024
         ],
         "xaxis": "x2",
         "y": [
          39.367681498829036,
          44.981559536354055,
          41.520024271844655,
          41.13793748830245,
          48.19829657130378,
          48.709002093510115,
          38.70816756377253
         ],
         "yaxis": "y2"
        },
        {
         "line": {
          "color": "#ff7f0e"
         },
         "name": "5 Years",
         "showlegend": false,
         "type": "scatter",
         "x": [
          2018,
          2019,
          2020,
          2021,
          2022,
          2023,
          2024
         ],
         "xaxis": "x2",
         "y": [
          67.30237700386954,
          78.62016679302502,
          75.46829971181556,
          69.77734753146177,
          76.0308656860381,
          76.91056910569107,
          77.41569849815811
         ],
         "yaxis": "y2"
        },
        {
         "line": {
          "color": "#2ca02c"
         },
         "name": "6 Years",
         "showlegend": false,
         "type": "scatter",
         "x": [
          2018,
          2019,
          2020,
          2021,
          2022,
          2023,
          2024
         ],
         "xaxis": "x2",
         "y": [
          75.61741028789739,
          79.79313446259931,
          83.98535042450474,
          81.16166505324298,
          80.999180999181,
          83.26136652273306,
          84.12925364598227
         ],
         "yaxis": "y2"
        },
        {
         "line": {
          "color": "#1f77b4"
         },
         "name": "4 Years",
         "type": "scatter",
         "x": [
          2018,
          2019,
          2020,
          2021,
          2022,
          2023,
          2024
         ],
         "xaxis": "x3",
         "y": [
          26.857532379004773,
          30.998933522929256,
          28.806036395916557,
          25.8727881396461,
          30.117406840224604,
          30.569948186528496,
          27.39043824701195
         ],
         "yaxis": "y3"
        },
        {
         "line": {
          "color": "#ff7f0e"
         },
         "name": "5 Years",
         "type": "scatter",
         "x": [
          2018,
          2019,
          2020,
          2021,
          2022,
          2023,
          2024
         ],
         "xaxis": "x3",
         "y": [
          51.038444542642516,
          71.73913043478261,
          68.72543514879281,
          62.421972534332085,
          64.72222222222223,
          66.45114942528735,
          66.8859649122807
         ],
         "yaxis": "y3"
        },
        {
         "line": {
          "color": "#2ca02c"
         },
         "name": "6 Years",
         "type": "scatter",
         "x": [
          2018,
          2019,
          2020,
          2021,
          2022,
          2023,
          2024
         ],
         "xaxis": "x3",
         "y": [
          67.97153024911033,
          63.28125,
          75.66197183098592,
          73.41538461538461,
          73.433242506812,
          72.48322147651007,
          73.57310398749023
         ],
         "yaxis": "y3"
        }
       ],
       "layout": {
        "annotations": [
         {
          "font": {
           "size": 16
          },
          "showarrow": false,
          "text": "Cluster 0",
          "x": 0.14444444444444446,
          "xanchor": "center",
          "xref": "paper",
          "y": 1,
          "yanchor": "bottom",
          "yref": "paper"
         },
         {
          "font": {
           "size": 16
          },
          "showarrow": false,
          "text": "Cluster 1",
          "x": 0.5,
          "xanchor": "center",
          "xref": "paper",
          "y": 1,
          "yanchor": "bottom",
          "yref": "paper"
         },
         {
          "font": {
           "size": 16
          },
          "showarrow": false,
          "text": "Cluster 2",
          "x": 0.8555555555555556,
          "xanchor": "center",
          "xref": "paper",
          "y": 1,
          "yanchor": "bottom",
          "yref": "paper"
         }
        ],
        "template": {
         "layout": {
          "plot_bgcolor": "white",
          "xaxis": {
           "gridcolor": "lightgray"
          },
          "yaxis": {
           "gridcolor": "lightgray"
          }
         }
        },
        "title": {
         "text": "Dropout Rate in Every Cluster per Duration"
        },
        "xaxis": {
         "anchor": "y",
         "domain": [
          0,
          0.2888888888888889
         ],
         "title": {
          "text": "Year"
         }
        },
        "xaxis2": {
         "anchor": "y2",
         "domain": [
          0.35555555555555557,
          0.6444444444444445
         ],
         "title": {
          "text": "Year"
         }
        },
        "xaxis3": {
         "anchor": "y3",
         "domain": [
          0.7111111111111111,
          1
         ],
         "title": {
          "text": "Year"
         }
        },
        "yaxis": {
         "anchor": "x",
         "domain": [
          0,
          1
         ],
         "range": [
          16.54401744344508,
          84.12925364598227
         ],
         "title": {
          "text": "Dropout %"
         }
        },
        "yaxis2": {
         "anchor": "x2",
         "domain": [
          0,
          1
         ],
         "range": [
          16.54401744344508,
          84.12925364598227
         ],
         "title": {
          "text": "Dropout %"
         }
        },
        "yaxis3": {
         "anchor": "x3",
         "domain": [
          0,
          1
         ],
         "range": [
          16.54401744344508,
          84.12925364598227
         ],
         "title": {
          "text": "Dropout %"
         }
        }
       }
      }
     },
     "metadata": {},
     "output_type": "display_data"
    }
   ],
   "source": [
    "fig = make_subplots(rows=1, cols=len(general_data_cluster_dropout_rate['Cluster'].unique()), subplot_titles=('Cluster 0', 'Cluster 1', 'Cluster 2'))\n",
    "\n",
    "for cluster in general_data_cluster_dropout_rate['Cluster'].unique():\n",
    "    cluster_row = general_data_cluster_dropout_rate[general_data_cluster_dropout_rate['Cluster'] == cluster]\n",
    "    cluster_index = general_data_cluster_dropout_rate['Cluster'].unique().tolist().index(cluster)\n",
    "    for duration in cluster_row['Duration'].unique():\n",
    "        duration_row = cluster_row[cluster_row['Duration'] == duration]\n",
    "        duration_index = cluster_row['Duration'].unique().tolist().index(duration)\n",
    "        fig.add_trace(go.Scatter(x=duration_row['Graduation Year'], y=duration_row['% Dropout'], name=f'{duration} Years', line=dict(color=colors[duration_index])), row=1, col=cluster_index+1)\n",
    "        fig.update_yaxes(title_text='Dropout %', range=[general_data_cluster_dropout_rate['% Dropout'].min(),general_data_cluster_dropout_rate['% Dropout'].max()])\n",
    "        fig.update_xaxes(title_text='Year')\n",
    "\n",
    "fig.update_layout(title_text = \"Dropout Rate in Every Cluster per Duration\")\n",
    "\n",
    "for i in range(len(fig.data) - len(colors)):\n",
    "    fig.data[i].showlegend = False\n",
    "fig.show()"
   ]
  },
  {
   "cell_type": "markdown",
   "metadata": {},
   "source": [
    "### Test Results"
   ]
  },
  {
   "cell_type": "code",
   "execution_count": 62,
   "metadata": {},
   "outputs": [
    {
     "data": {
      "text/html": [
       "<div>\n",
       "<style scoped>\n",
       "    .dataframe tbody tr th:only-of-type {\n",
       "        vertical-align: middle;\n",
       "    }\n",
       "\n",
       "    .dataframe tbody tr th {\n",
       "        vertical-align: top;\n",
       "    }\n",
       "\n",
       "    .dataframe thead th {\n",
       "        text-align: right;\n",
       "    }\n",
       "</style>\n",
       "<table border=\"1\" class=\"dataframe\">\n",
       "  <thead>\n",
       "    <tr style=\"text-align: right;\">\n",
       "      <th></th>\n",
       "      <th>School Name</th>\n",
       "      <th>Cluster</th>\n",
       "      <th>Year</th>\n",
       "      <th>Category</th>\n",
       "      <th>Regents Exam</th>\n",
       "      <th>Total Tested</th>\n",
       "      <th>Number Scoring 65 or Above</th>\n",
       "      <th>Regents Subject</th>\n",
       "    </tr>\n",
       "  </thead>\n",
       "  <tbody>\n",
       "    <tr>\n",
       "      <th>0</th>\n",
       "      <td>A-TECH HIGH SCHOOL</td>\n",
       "      <td>1</td>\n",
       "      <td>2015</td>\n",
       "      <td>All Students</td>\n",
       "      <td>Algebra2/Trigonometry</td>\n",
       "      <td>7</td>\n",
       "      <td>0.0</td>\n",
       "      <td>Mathematics</td>\n",
       "    </tr>\n",
       "    <tr>\n",
       "      <th>1</th>\n",
       "      <td>A-TECH HIGH SCHOOL</td>\n",
       "      <td>1</td>\n",
       "      <td>2015</td>\n",
       "      <td>All Students</td>\n",
       "      <td>Common Core Algebra</td>\n",
       "      <td>41</td>\n",
       "      <td>5.0</td>\n",
       "      <td>Mathematics</td>\n",
       "    </tr>\n",
       "    <tr>\n",
       "      <th>2</th>\n",
       "      <td>A-TECH HIGH SCHOOL</td>\n",
       "      <td>1</td>\n",
       "      <td>2015</td>\n",
       "      <td>All Students</td>\n",
       "      <td>Common Core English</td>\n",
       "      <td>167</td>\n",
       "      <td>63.0</td>\n",
       "      <td>English</td>\n",
       "    </tr>\n",
       "    <tr>\n",
       "      <th>3</th>\n",
       "      <td>A-TECH HIGH SCHOOL</td>\n",
       "      <td>1</td>\n",
       "      <td>2015</td>\n",
       "      <td>All Students</td>\n",
       "      <td>Common Core Geometry</td>\n",
       "      <td>26</td>\n",
       "      <td>2.0</td>\n",
       "      <td>Mathematics</td>\n",
       "    </tr>\n",
       "    <tr>\n",
       "      <th>4</th>\n",
       "      <td>A-TECH HIGH SCHOOL</td>\n",
       "      <td>1</td>\n",
       "      <td>2015</td>\n",
       "      <td>All Students</td>\n",
       "      <td>English</td>\n",
       "      <td>109</td>\n",
       "      <td>43.0</td>\n",
       "      <td>English</td>\n",
       "    </tr>\n",
       "    <tr>\n",
       "      <th>...</th>\n",
       "      <td>...</td>\n",
       "      <td>...</td>\n",
       "      <td>...</td>\n",
       "      <td>...</td>\n",
       "      <td>...</td>\n",
       "      <td>...</td>\n",
       "      <td>...</td>\n",
       "      <td>...</td>\n",
       "    </tr>\n",
       "    <tr>\n",
       "      <th>27299</th>\n",
       "      <td>YOUNG WOMEN'S LEADERSHIP SCHOOL, QUEENS</td>\n",
       "      <td>2</td>\n",
       "      <td>2023</td>\n",
       "      <td>All Students</td>\n",
       "      <td>Living Environment</td>\n",
       "      <td>107</td>\n",
       "      <td>79.0</td>\n",
       "      <td>Science</td>\n",
       "    </tr>\n",
       "    <tr>\n",
       "      <th>27300</th>\n",
       "      <td>YOUNG WOMEN'S LEADERSHIP SCHOOL, QUEENS</td>\n",
       "      <td>2</td>\n",
       "      <td>2023</td>\n",
       "      <td>All Students</td>\n",
       "      <td>Physical Settings/Chemistry</td>\n",
       "      <td>81</td>\n",
       "      <td>34.0</td>\n",
       "      <td>Science</td>\n",
       "    </tr>\n",
       "    <tr>\n",
       "      <th>27301</th>\n",
       "      <td>YOUNG WOMEN'S LEADERSHIP SCHOOL, QUEENS</td>\n",
       "      <td>2</td>\n",
       "      <td>2023</td>\n",
       "      <td>All Students</td>\n",
       "      <td>Physical Settings/Earth Science</td>\n",
       "      <td>60</td>\n",
       "      <td>47.0</td>\n",
       "      <td>Science</td>\n",
       "    </tr>\n",
       "    <tr>\n",
       "      <th>27302</th>\n",
       "      <td>YOUNG WOMEN'S LEADERSHIP SCHOOL, QUEENS</td>\n",
       "      <td>2</td>\n",
       "      <td>2023</td>\n",
       "      <td>All Students</td>\n",
       "      <td>Spanish</td>\n",
       "      <td>4</td>\n",
       "      <td>NaN</td>\n",
       "      <td>Languages Other Than English</td>\n",
       "    </tr>\n",
       "    <tr>\n",
       "      <th>27303</th>\n",
       "      <td>YOUNG WOMEN'S LEADERSHIP SCHOOL, QUEENS</td>\n",
       "      <td>2</td>\n",
       "      <td>2023</td>\n",
       "      <td>All Students</td>\n",
       "      <td>US History and Government</td>\n",
       "      <td>73</td>\n",
       "      <td>69.0</td>\n",
       "      <td>Social Studies</td>\n",
       "    </tr>\n",
       "  </tbody>\n",
       "</table>\n",
       "<p>27304 rows × 8 columns</p>\n",
       "</div>"
      ],
      "text/plain": [
       "                                   School Name  Cluster  Year      Category  \\\n",
       "0                           A-TECH HIGH SCHOOL        1  2015  All Students   \n",
       "1                           A-TECH HIGH SCHOOL        1  2015  All Students   \n",
       "2                           A-TECH HIGH SCHOOL        1  2015  All Students   \n",
       "3                           A-TECH HIGH SCHOOL        1  2015  All Students   \n",
       "4                           A-TECH HIGH SCHOOL        1  2015  All Students   \n",
       "...                                        ...      ...   ...           ...   \n",
       "27299  YOUNG WOMEN'S LEADERSHIP SCHOOL, QUEENS        2  2023  All Students   \n",
       "27300  YOUNG WOMEN'S LEADERSHIP SCHOOL, QUEENS        2  2023  All Students   \n",
       "27301  YOUNG WOMEN'S LEADERSHIP SCHOOL, QUEENS        2  2023  All Students   \n",
       "27302  YOUNG WOMEN'S LEADERSHIP SCHOOL, QUEENS        2  2023  All Students   \n",
       "27303  YOUNG WOMEN'S LEADERSHIP SCHOOL, QUEENS        2  2023  All Students   \n",
       "\n",
       "                          Regents Exam  Total Tested  \\\n",
       "0                Algebra2/Trigonometry             7   \n",
       "1                  Common Core Algebra            41   \n",
       "2                  Common Core English           167   \n",
       "3                 Common Core Geometry            26   \n",
       "4                              English           109   \n",
       "...                                ...           ...   \n",
       "27299               Living Environment           107   \n",
       "27300      Physical Settings/Chemistry            81   \n",
       "27301  Physical Settings/Earth Science            60   \n",
       "27302                          Spanish             4   \n",
       "27303        US History and Government            73   \n",
       "\n",
       "       Number Scoring 65 or Above               Regents Subject  \n",
       "0                             0.0                   Mathematics  \n",
       "1                             5.0                   Mathematics  \n",
       "2                            63.0                       English  \n",
       "3                             2.0                   Mathematics  \n",
       "4                            43.0                       English  \n",
       "...                           ...                           ...  \n",
       "27299                        79.0                       Science  \n",
       "27300                        34.0                       Science  \n",
       "27301                        47.0                       Science  \n",
       "27302                         NaN  Languages Other Than English  \n",
       "27303                        69.0                Social Studies  \n",
       "\n",
       "[27304 rows x 8 columns]"
      ]
     },
     "execution_count": 62,
     "metadata": {},
     "output_type": "execute_result"
    }
   ],
   "source": [
    "general_test_results"
   ]
  },
  {
   "cell_type": "code",
   "execution_count": 63,
   "metadata": {},
   "outputs": [
    {
     "data": {
      "text/html": [
       "<div>\n",
       "<style scoped>\n",
       "    .dataframe tbody tr th:only-of-type {\n",
       "        vertical-align: middle;\n",
       "    }\n",
       "\n",
       "    .dataframe tbody tr th {\n",
       "        vertical-align: top;\n",
       "    }\n",
       "\n",
       "    .dataframe thead th {\n",
       "        text-align: right;\n",
       "    }\n",
       "</style>\n",
       "<table border=\"1\" class=\"dataframe\">\n",
       "  <thead>\n",
       "    <tr style=\"text-align: right;\">\n",
       "      <th></th>\n",
       "      <th>Cluster</th>\n",
       "      <th>Regents Subject</th>\n",
       "      <th>Total Tested</th>\n",
       "      <th>Number Scoring 65 or Above</th>\n",
       "      <th>% Passed</th>\n",
       "    </tr>\n",
       "  </thead>\n",
       "  <tbody>\n",
       "    <tr>\n",
       "      <th>0</th>\n",
       "      <td>0</td>\n",
       "      <td>English</td>\n",
       "      <td>22311</td>\n",
       "      <td>13531.0</td>\n",
       "      <td>60.647214</td>\n",
       "    </tr>\n",
       "    <tr>\n",
       "      <th>1</th>\n",
       "      <td>0</td>\n",
       "      <td>Languages Other Than English</td>\n",
       "      <td>1813</td>\n",
       "      <td>1633.0</td>\n",
       "      <td>90.071704</td>\n",
       "    </tr>\n",
       "    <tr>\n",
       "      <th>2</th>\n",
       "      <td>0</td>\n",
       "      <td>Mathematics</td>\n",
       "      <td>23496</td>\n",
       "      <td>9915.0</td>\n",
       "      <td>42.198672</td>\n",
       "    </tr>\n",
       "    <tr>\n",
       "      <th>3</th>\n",
       "      <td>0</td>\n",
       "      <td>Science</td>\n",
       "      <td>18986</td>\n",
       "      <td>8916.0</td>\n",
       "      <td>46.960919</td>\n",
       "    </tr>\n",
       "    <tr>\n",
       "      <th>4</th>\n",
       "      <td>0</td>\n",
       "      <td>Social Studies</td>\n",
       "      <td>35413</td>\n",
       "      <td>17031.0</td>\n",
       "      <td>48.092508</td>\n",
       "    </tr>\n",
       "    <tr>\n",
       "      <th>5</th>\n",
       "      <td>1</td>\n",
       "      <td>English</td>\n",
       "      <td>239104</td>\n",
       "      <td>160208.0</td>\n",
       "      <td>67.003480</td>\n",
       "    </tr>\n",
       "    <tr>\n",
       "      <th>6</th>\n",
       "      <td>1</td>\n",
       "      <td>Languages Other Than English</td>\n",
       "      <td>52521</td>\n",
       "      <td>45975.0</td>\n",
       "      <td>87.536414</td>\n",
       "    </tr>\n",
       "    <tr>\n",
       "      <th>7</th>\n",
       "      <td>1</td>\n",
       "      <td>Mathematics</td>\n",
       "      <td>474684</td>\n",
       "      <td>210021.0</td>\n",
       "      <td>44.244382</td>\n",
       "    </tr>\n",
       "    <tr>\n",
       "      <th>8</th>\n",
       "      <td>1</td>\n",
       "      <td>Science</td>\n",
       "      <td>354854</td>\n",
       "      <td>172414.0</td>\n",
       "      <td>48.587306</td>\n",
       "    </tr>\n",
       "    <tr>\n",
       "      <th>9</th>\n",
       "      <td>1</td>\n",
       "      <td>Social Studies</td>\n",
       "      <td>381790</td>\n",
       "      <td>220349.0</td>\n",
       "      <td>57.714712</td>\n",
       "    </tr>\n",
       "    <tr>\n",
       "      <th>10</th>\n",
       "      <td>2</td>\n",
       "      <td>English</td>\n",
       "      <td>245340</td>\n",
       "      <td>212298.0</td>\n",
       "      <td>86.532159</td>\n",
       "    </tr>\n",
       "    <tr>\n",
       "      <th>11</th>\n",
       "      <td>2</td>\n",
       "      <td>Languages Other Than English</td>\n",
       "      <td>101194</td>\n",
       "      <td>93191.0</td>\n",
       "      <td>92.091428</td>\n",
       "    </tr>\n",
       "    <tr>\n",
       "      <th>12</th>\n",
       "      <td>2</td>\n",
       "      <td>Mathematics</td>\n",
       "      <td>593222</td>\n",
       "      <td>389644.0</td>\n",
       "      <td>65.682662</td>\n",
       "    </tr>\n",
       "    <tr>\n",
       "      <th>13</th>\n",
       "      <td>2</td>\n",
       "      <td>Science</td>\n",
       "      <td>490514</td>\n",
       "      <td>340016.0</td>\n",
       "      <td>69.318307</td>\n",
       "    </tr>\n",
       "    <tr>\n",
       "      <th>14</th>\n",
       "      <td>2</td>\n",
       "      <td>Social Studies</td>\n",
       "      <td>410829</td>\n",
       "      <td>331864.0</td>\n",
       "      <td>80.779108</td>\n",
       "    </tr>\n",
       "  </tbody>\n",
       "</table>\n",
       "</div>"
      ],
      "text/plain": [
       "    Cluster               Regents Subject  Total Tested  \\\n",
       "0         0                       English         22311   \n",
       "1         0  Languages Other Than English          1813   \n",
       "2         0                   Mathematics         23496   \n",
       "3         0                       Science         18986   \n",
       "4         0                Social Studies         35413   \n",
       "5         1                       English        239104   \n",
       "6         1  Languages Other Than English         52521   \n",
       "7         1                   Mathematics        474684   \n",
       "8         1                       Science        354854   \n",
       "9         1                Social Studies        381790   \n",
       "10        2                       English        245340   \n",
       "11        2  Languages Other Than English        101194   \n",
       "12        2                   Mathematics        593222   \n",
       "13        2                       Science        490514   \n",
       "14        2                Social Studies        410829   \n",
       "\n",
       "    Number Scoring 65 or Above   % Passed  \n",
       "0                      13531.0  60.647214  \n",
       "1                       1633.0  90.071704  \n",
       "2                       9915.0  42.198672  \n",
       "3                       8916.0  46.960919  \n",
       "4                      17031.0  48.092508  \n",
       "5                     160208.0  67.003480  \n",
       "6                      45975.0  87.536414  \n",
       "7                     210021.0  44.244382  \n",
       "8                     172414.0  48.587306  \n",
       "9                     220349.0  57.714712  \n",
       "10                    212298.0  86.532159  \n",
       "11                     93191.0  92.091428  \n",
       "12                    389644.0  65.682662  \n",
       "13                    340016.0  69.318307  \n",
       "14                    331864.0  80.779108  "
      ]
     },
     "execution_count": 63,
     "metadata": {},
     "output_type": "execute_result"
    }
   ],
   "source": [
    "general_data_cluster_test_results = general_test_results.groupby(['Cluster', 'Regents Subject'])[['Total Tested', 'Number Scoring 65 or Above']].sum().reset_index()\n",
    "general_data_cluster_test_results['% Passed'] = general_data_cluster_test_results['Number Scoring 65 or Above'] / general_data_cluster_test_results['Total Tested'] * 100\n",
    "general_data_cluster_test_results"
   ]
  },
  {
   "cell_type": "code",
   "execution_count": 228,
   "metadata": {},
   "outputs": [
    {
     "data": {
      "application/vnd.plotly.v1+json": {
       "config": {
        "plotlyServerURL": "https://plot.ly"
       },
       "data": [
        {
         "marker": {
          "color": "#636EFA"
         },
         "showlegend": false,
         "type": "bar",
         "x": [
          "English"
         ],
         "xaxis": "x",
         "y": [
          60.647214378557656
         ],
         "yaxis": "y"
        },
        {
         "marker": {
          "color": "#EF553B"
         },
         "showlegend": false,
         "type": "bar",
         "x": [
          "Languages Other Than English"
         ],
         "xaxis": "x",
         "y": [
          90.07170435741865
         ],
         "yaxis": "y"
        },
        {
         "marker": {
          "color": "#00CC96"
         },
         "showlegend": false,
         "type": "bar",
         "x": [
          "Mathematics"
         ],
         "xaxis": "x",
         "y": [
          42.198672114402456
         ],
         "yaxis": "y"
        },
        {
         "marker": {
          "color": "#AB63FA"
         },
         "showlegend": false,
         "type": "bar",
         "x": [
          "Science"
         ],
         "xaxis": "x",
         "y": [
          46.96091857157906
         ],
         "yaxis": "y"
        },
        {
         "marker": {
          "color": "#FFA15A"
         },
         "showlegend": false,
         "type": "bar",
         "x": [
          "Social Studies"
         ],
         "xaxis": "x",
         "y": [
          48.09250840086974
         ],
         "yaxis": "y"
        },
        {
         "marker": {
          "color": "#636EFA"
         },
         "showlegend": false,
         "type": "bar",
         "x": [
          "English"
         ],
         "xaxis": "x2",
         "y": [
          67.00347965738757
         ],
         "yaxis": "y2"
        },
        {
         "marker": {
          "color": "#EF553B"
         },
         "showlegend": false,
         "type": "bar",
         "x": [
          "Languages Other Than English"
         ],
         "xaxis": "x2",
         "y": [
          87.53641400582624
         ],
         "yaxis": "y2"
        },
        {
         "marker": {
          "color": "#00CC96"
         },
         "showlegend": false,
         "type": "bar",
         "x": [
          "Mathematics"
         ],
         "xaxis": "x2",
         "y": [
          44.244381525393734
         ],
         "yaxis": "y2"
        },
        {
         "marker": {
          "color": "#AB63FA"
         },
         "showlegend": false,
         "type": "bar",
         "x": [
          "Science"
         ],
         "xaxis": "x2",
         "y": [
          48.58730632880001
         ],
         "yaxis": "y2"
        },
        {
         "marker": {
          "color": "#FFA15A"
         },
         "showlegend": false,
         "type": "bar",
         "x": [
          "Social Studies"
         ],
         "xaxis": "x2",
         "y": [
          57.71471227638231
         ],
         "yaxis": "y2"
        },
        {
         "marker": {
          "color": "#636EFA"
         },
         "showlegend": false,
         "type": "bar",
         "x": [
          "English"
         ],
         "xaxis": "x3",
         "y": [
          86.5321594521888
         ],
         "yaxis": "y3"
        },
        {
         "marker": {
          "color": "#EF553B"
         },
         "showlegend": false,
         "type": "bar",
         "x": [
          "Languages Other Than English"
         ],
         "xaxis": "x3",
         "y": [
          92.09142834555408
         ],
         "yaxis": "y3"
        },
        {
         "marker": {
          "color": "#00CC96"
         },
         "showlegend": false,
         "type": "bar",
         "x": [
          "Mathematics"
         ],
         "xaxis": "x3",
         "y": [
          65.68266180283267
         ],
         "yaxis": "y3"
        },
        {
         "marker": {
          "color": "#AB63FA"
         },
         "showlegend": false,
         "type": "bar",
         "x": [
          "Science"
         ],
         "xaxis": "x3",
         "y": [
          69.3183069188647
         ],
         "yaxis": "y3"
        },
        {
         "marker": {
          "color": "#FFA15A"
         },
         "showlegend": false,
         "type": "bar",
         "x": [
          "Social Studies"
         ],
         "xaxis": "x3",
         "y": [
          80.77910760924861
         ],
         "yaxis": "y3"
        }
       ],
       "layout": {
        "annotations": [
         {
          "font": {
           "size": 16
          },
          "showarrow": false,
          "text": "Cluster 0",
          "x": 0.14444444444444446,
          "xanchor": "center",
          "xref": "paper",
          "y": 1,
          "yanchor": "bottom",
          "yref": "paper"
         },
         {
          "font": {
           "size": 16
          },
          "showarrow": false,
          "text": "Cluster 1",
          "x": 0.5,
          "xanchor": "center",
          "xref": "paper",
          "y": 1,
          "yanchor": "bottom",
          "yref": "paper"
         },
         {
          "font": {
           "size": 16
          },
          "showarrow": false,
          "text": "Cluster 2",
          "x": 0.8555555555555556,
          "xanchor": "center",
          "xref": "paper",
          "y": 1,
          "yanchor": "bottom",
          "yref": "paper"
         }
        ],
        "margin": {
         "b": 125
        },
        "template": {
         "layout": {
          "plot_bgcolor": "white",
          "xaxis": {
           "gridcolor": "lightgray"
          },
          "yaxis": {
           "gridcolor": "lightgray"
          }
         }
        },
        "title": {
         "text": "Rate of Students Who Approved Each Regents Subject in Every Cluster"
        },
        "xaxis": {
         "anchor": "y",
         "domain": [
          0,
          0.2888888888888889
         ]
        },
        "xaxis2": {
         "anchor": "y2",
         "domain": [
          0.35555555555555557,
          0.6444444444444445
         ]
        },
        "xaxis3": {
         "anchor": "y3",
         "domain": [
          0.7111111111111111,
          1
         ]
        },
        "yaxis": {
         "anchor": "x",
         "domain": [
          0,
          1
         ],
         "range": [
          0,
          92.09142834555408
         ],
         "title": {
          "text": "% of Approved Students"
         }
        },
        "yaxis2": {
         "anchor": "x2",
         "domain": [
          0,
          1
         ],
         "range": [
          0,
          92.09142834555408
         ],
         "title": {
          "text": "% of Approved Students"
         }
        },
        "yaxis3": {
         "anchor": "x3",
         "domain": [
          0,
          1
         ],
         "range": [
          0,
          92.09142834555408
         ],
         "title": {
          "text": "% of Approved Students"
         }
        }
       }
      }
     },
     "metadata": {},
     "output_type": "display_data"
    }
   ],
   "source": [
    "fig = make_subplots(rows=1, cols=len(general_data_cluster_test_results['Cluster'].unique()), subplot_titles=('Cluster 0', 'Cluster 1', 'Cluster 2'))\n",
    "\n",
    "for cluster in general_data_cluster_test_results['Cluster'].unique():\n",
    "    cluster_row = general_data_cluster_test_results[general_data_cluster_test_results['Cluster'] ==  cluster]\n",
    "    cluster_index = general_data_cluster_test_results['Cluster'].unique().tolist().index(cluster)\n",
    "    for subject in cluster_row['Regents Subject'].unique():\n",
    "        subject_row = cluster_row[cluster_row['Regents Subject'] == subject]\n",
    "        subject_index = cluster_row['Regents Subject'].unique().tolist().index(subject)\n",
    "        fig.add_trace(go.Bar(x=subject_row['Regents Subject'], y=subject_row['% Passed'], showlegend=False, marker=dict(color=colors2[subject_index])), row=1, col=cluster_index+1)\n",
    "        fig.update_yaxes(range=[0, general_data_cluster_test_results['% Passed'].max()], title_text='% of Approved Students')\n",
    "\n",
    "fig.update_layout(\n",
    "    margin=dict(b=125),\n",
    "    title_text='Rate of Students Who Approved Each Regents Subject in Every Cluster'\n",
    ")\n",
    "fig.show()"
   ]
  },
  {
   "cell_type": "code",
   "execution_count": 121,
   "metadata": {},
   "outputs": [
    {
     "data": {
      "text/html": [
       "<div>\n",
       "<style scoped>\n",
       "    .dataframe tbody tr th:only-of-type {\n",
       "        vertical-align: middle;\n",
       "    }\n",
       "\n",
       "    .dataframe tbody tr th {\n",
       "        vertical-align: top;\n",
       "    }\n",
       "\n",
       "    .dataframe thead th {\n",
       "        text-align: right;\n",
       "    }\n",
       "</style>\n",
       "<table border=\"1\" class=\"dataframe\">\n",
       "  <thead>\n",
       "    <tr style=\"text-align: right;\">\n",
       "      <th></th>\n",
       "      <th>Cluster</th>\n",
       "      <th>Regents Subject</th>\n",
       "      <th>Year</th>\n",
       "      <th>Total Tested</th>\n",
       "      <th>Number Scoring 65 or Above</th>\n",
       "      <th>% Passed</th>\n",
       "    </tr>\n",
       "  </thead>\n",
       "  <tbody>\n",
       "    <tr>\n",
       "      <th>0</th>\n",
       "      <td>0</td>\n",
       "      <td>English</td>\n",
       "      <td>2015</td>\n",
       "      <td>4127</td>\n",
       "      <td>2728.0</td>\n",
       "      <td>66.101284</td>\n",
       "    </tr>\n",
       "    <tr>\n",
       "      <th>1</th>\n",
       "      <td>0</td>\n",
       "      <td>English</td>\n",
       "      <td>2016</td>\n",
       "      <td>4145</td>\n",
       "      <td>2434.0</td>\n",
       "      <td>58.721351</td>\n",
       "    </tr>\n",
       "    <tr>\n",
       "      <th>2</th>\n",
       "      <td>0</td>\n",
       "      <td>English</td>\n",
       "      <td>2017</td>\n",
       "      <td>3290</td>\n",
       "      <td>2051.0</td>\n",
       "      <td>62.340426</td>\n",
       "    </tr>\n",
       "    <tr>\n",
       "      <th>3</th>\n",
       "      <td>0</td>\n",
       "      <td>English</td>\n",
       "      <td>2018</td>\n",
       "      <td>3559</td>\n",
       "      <td>2027.0</td>\n",
       "      <td>56.954201</td>\n",
       "    </tr>\n",
       "    <tr>\n",
       "      <th>4</th>\n",
       "      <td>0</td>\n",
       "      <td>English</td>\n",
       "      <td>2019</td>\n",
       "      <td>3425</td>\n",
       "      <td>2222.0</td>\n",
       "      <td>64.875912</td>\n",
       "    </tr>\n",
       "    <tr>\n",
       "      <th>...</th>\n",
       "      <td>...</td>\n",
       "      <td>...</td>\n",
       "      <td>...</td>\n",
       "      <td>...</td>\n",
       "      <td>...</td>\n",
       "      <td>...</td>\n",
       "    </tr>\n",
       "    <tr>\n",
       "      <th>100</th>\n",
       "      <td>2</td>\n",
       "      <td>Social Studies</td>\n",
       "      <td>2017</td>\n",
       "      <td>64868</td>\n",
       "      <td>51651.0</td>\n",
       "      <td>79.624776</td>\n",
       "    </tr>\n",
       "    <tr>\n",
       "      <th>101</th>\n",
       "      <td>2</td>\n",
       "      <td>Social Studies</td>\n",
       "      <td>2018</td>\n",
       "      <td>65731</td>\n",
       "      <td>53211.0</td>\n",
       "      <td>80.952671</td>\n",
       "    </tr>\n",
       "    <tr>\n",
       "      <th>102</th>\n",
       "      <td>2</td>\n",
       "      <td>Social Studies</td>\n",
       "      <td>2019</td>\n",
       "      <td>65333</td>\n",
       "      <td>53205.0</td>\n",
       "      <td>81.436640</td>\n",
       "    </tr>\n",
       "    <tr>\n",
       "      <th>103</th>\n",
       "      <td>2</td>\n",
       "      <td>Social Studies</td>\n",
       "      <td>2022</td>\n",
       "      <td>29303</td>\n",
       "      <td>24338.0</td>\n",
       "      <td>83.056342</td>\n",
       "    </tr>\n",
       "    <tr>\n",
       "      <th>104</th>\n",
       "      <td>2</td>\n",
       "      <td>Social Studies</td>\n",
       "      <td>2023</td>\n",
       "      <td>54645</td>\n",
       "      <td>43386.0</td>\n",
       "      <td>79.396102</td>\n",
       "    </tr>\n",
       "  </tbody>\n",
       "</table>\n",
       "<p>105 rows × 6 columns</p>\n",
       "</div>"
      ],
      "text/plain": [
       "     Cluster Regents Subject  Year  Total Tested  Number Scoring 65 or Above  \\\n",
       "0          0         English  2015          4127                      2728.0   \n",
       "1          0         English  2016          4145                      2434.0   \n",
       "2          0         English  2017          3290                      2051.0   \n",
       "3          0         English  2018          3559                      2027.0   \n",
       "4          0         English  2019          3425                      2222.0   \n",
       "..       ...             ...   ...           ...                         ...   \n",
       "100        2  Social Studies  2017         64868                     51651.0   \n",
       "101        2  Social Studies  2018         65731                     53211.0   \n",
       "102        2  Social Studies  2019         65333                     53205.0   \n",
       "103        2  Social Studies  2022         29303                     24338.0   \n",
       "104        2  Social Studies  2023         54645                     43386.0   \n",
       "\n",
       "      % Passed  \n",
       "0    66.101284  \n",
       "1    58.721351  \n",
       "2    62.340426  \n",
       "3    56.954201  \n",
       "4    64.875912  \n",
       "..         ...  \n",
       "100  79.624776  \n",
       "101  80.952671  \n",
       "102  81.436640  \n",
       "103  83.056342  \n",
       "104  79.396102  \n",
       "\n",
       "[105 rows x 6 columns]"
      ]
     },
     "execution_count": 121,
     "metadata": {},
     "output_type": "execute_result"
    }
   ],
   "source": [
    "general_data_cluster_test_results_per_year = general_test_results.groupby(['Cluster', 'Regents Subject', 'Year'])[['Total Tested', 'Number Scoring 65 or Above']].sum().reset_index()\n",
    "general_data_cluster_test_results_per_year['% Passed'] = general_data_cluster_test_results_per_year['Number Scoring 65 or Above'] / general_data_cluster_test_results_per_year['Total Tested'] * 100\n",
    "general_data_cluster_test_results_per_year"
   ]
  },
  {
   "cell_type": "code",
   "execution_count": 229,
   "metadata": {},
   "outputs": [
    {
     "data": {
      "application/vnd.plotly.v1+json": {
       "config": {
        "plotlyServerURL": "https://plot.ly"
       },
       "data": [
        {
         "marker": {
          "color": "#636EFA"
         },
         "name": "English",
         "showlegend": false,
         "type": "scatter",
         "x": [
          2015,
          2016,
          2017,
          2018,
          2019,
          2022,
          2023
         ],
         "xaxis": "x",
         "y": [
          66.1012842258299,
          58.72135102533173,
          62.34042553191489,
          56.95420061815116,
          64.87591240875913,
          49.869678540399654,
          57.1920428462127
         ],
         "yaxis": "y"
        },
        {
         "marker": {
          "color": "#EF553B"
         },
         "name": "Languages Other Than English",
         "showlegend": false,
         "type": "scatter",
         "x": [
          2015,
          2016,
          2017,
          2018,
          2019,
          2022,
          2023
         ],
         "xaxis": "x",
         "y": [
          98.29545454545455,
          83.78378378378379,
          84.7457627118644,
          91.66666666666666,
          91.80952380952381,
          85.64814814814815,
          89.96138996138995
         ],
         "yaxis": "y"
        },
        {
         "marker": {
          "color": "#00CC96"
         },
         "name": "Mathematics",
         "showlegend": false,
         "type": "scatter",
         "x": [
          2015,
          2016,
          2017,
          2018,
          2019,
          2022,
          2023
         ],
         "xaxis": "x",
         "y": [
          44.036309900781085,
          41.89955447549615,
          46.09331084879146,
          39.77146042363434,
          44.53755431409063,
          33.27601031814274,
          38.03493449781659
         ],
         "yaxis": "y"
        },
        {
         "marker": {
          "color": "#AB63FA"
         },
         "name": "Science",
         "showlegend": false,
         "type": "scatter",
         "x": [
          2015,
          2016,
          2017,
          2018,
          2019,
          2022,
          2023
         ],
         "xaxis": "x",
         "y": [
          54.004781829049605,
          51.640058055152394,
          48.262314898760955,
          45.21144278606965,
          43.08286516853933,
          35.856992639327025,
          38.00106894708712
         ],
         "yaxis": "y"
        },
        {
         "marker": {
          "color": "#FFA15A"
         },
         "name": "Social Studies",
         "showlegend": false,
         "type": "scatter",
         "x": [
          2015,
          2016,
          2017,
          2018,
          2019,
          2022,
          2023
         ],
         "xaxis": "x",
         "y": [
          56.146131805157594,
          48.5060486809503,
          46.75646384889301,
          45.74923547400612,
          43.439419318816306,
          51.97472353870458,
          43.2021815348656
         ],
         "yaxis": "y"
        },
        {
         "marker": {
          "color": "#636EFA"
         },
         "name": "English",
         "showlegend": false,
         "type": "scatter",
         "x": [
          2015,
          2016,
          2017,
          2018,
          2019,
          2022,
          2023
         ],
         "xaxis": "x2",
         "y": [
          66.97007888717734,
          66.01170227241802,
          70.44838834522032,
          65.15126283652512,
          72.20494719444211,
          63.28460437538336,
          62.855716425361955
         ],
         "yaxis": "y2"
        },
        {
         "marker": {
          "color": "#EF553B"
         },
         "name": "Languages Other Than English",
         "showlegend": false,
         "type": "scatter",
         "x": [
          2015,
          2016,
          2017,
          2018,
          2019,
          2022,
          2023
         ],
         "xaxis": "x2",
         "y": [
          94.76072003512367,
          90.62641509433962,
          88.54263565891472,
          87.7392584660688,
          87.78625954198473,
          79.43310968095302,
          84.64465280608778
         ],
         "yaxis": "y2"
        },
        {
         "marker": {
          "color": "#00CC96"
         },
         "name": "Mathematics",
         "showlegend": false,
         "type": "scatter",
         "x": [
          2015,
          2016,
          2017,
          2018,
          2019,
          2022,
          2023
         ],
         "xaxis": "x2",
         "y": [
          42.11762863184275,
          45.05933886823206,
          51.216334244927765,
          48.39191997727307,
          49.94258431040735,
          31.26260675507489,
          37.077592078377954
         ],
         "yaxis": "y2"
        },
        {
         "marker": {
          "color": "#AB63FA"
         },
         "name": "Science",
         "showlegend": false,
         "type": "scatter",
         "x": [
          2015,
          2016,
          2017,
          2018,
          2019,
          2022,
          2023
         ],
         "xaxis": "x2",
         "y": [
          52.78246811568169,
          53.07907009609949,
          49.570973718767426,
          51.17584668275913,
          49.1950686171015,
          38.76747072473153,
          40.23606930387997
         ],
         "yaxis": "y2"
        },
        {
         "marker": {
          "color": "#FFA15A"
         },
         "name": "Social Studies",
         "showlegend": false,
         "type": "scatter",
         "x": [
          2015,
          2016,
          2017,
          2018,
          2019,
          2022,
          2023
         ],
         "xaxis": "x2",
         "y": [
          57.04450383453404,
          54.85238998312602,
          55.44333454700882,
          58.3649708934447,
          59.79595980103542,
          64.38245401253285,
          59.809317869078036
         ],
         "yaxis": "y2"
        },
        {
         "marker": {
          "color": "#636EFA"
         },
         "name": "English",
         "type": "scatter",
         "x": [
          2015,
          2016,
          2017,
          2018,
          2019,
          2022,
          2023
         ],
         "xaxis": "x3",
         "y": [
          85.54528734588224,
          87.64214046822742,
          89.24006908462867,
          85.5928360915892,
          89.80447297906773,
          83.6609166165657,
          83.24601524601525
         ],
         "yaxis": "y3"
        },
        {
         "marker": {
          "color": "#EF553B"
         },
         "name": "Languages Other Than English",
         "type": "scatter",
         "x": [
          2015,
          2016,
          2017,
          2018,
          2019,
          2022,
          2023
         ],
         "xaxis": "x3",
         "y": [
          96.84581020712062,
          93.06944348665608,
          91.57923238340216,
          91.10519882073775,
          92.89135849779652,
          86.82726806765761,
          91.82046678635547
         ],
         "yaxis": "y3"
        },
        {
         "marker": {
          "color": "#00CC96"
         },
         "name": "Mathematics",
         "type": "scatter",
         "x": [
          2015,
          2016,
          2017,
          2018,
          2019,
          2022,
          2023
         ],
         "xaxis": "x3",
         "y": [
          64.72292973566498,
          64.53236544477421,
          69.54446751139429,
          70.81922486662931,
          72.45535048007562,
          57.348470454113624,
          58.24474287046817
         ],
         "yaxis": "y3"
        },
        {
         "marker": {
          "color": "#AB63FA"
         },
         "name": "Science",
         "type": "scatter",
         "x": [
          2015,
          2016,
          2017,
          2018,
          2019,
          2022,
          2023
         ],
         "xaxis": "x3",
         "y": [
          73.43957863872072,
          72.9137643748805,
          70.97313851674963,
          71.93736235526191,
          70.05870043753568,
          60.88601395058184,
          62.322747356164165
         ],
         "yaxis": "y3"
        },
        {
         "marker": {
          "color": "#FFA15A"
         },
         "name": "Social Studies",
         "type": "scatter",
         "x": [
          2015,
          2016,
          2017,
          2018,
          2019,
          2022,
          2023
         ],
         "xaxis": "x3",
         "y": [
          81.25984733758585,
          80.74752958399415,
          79.62477646913733,
          80.95267073374815,
          81.43663998285705,
          83.05634235402518,
          79.3961021136426
         ],
         "yaxis": "y3"
        }
       ],
       "layout": {
        "annotations": [
         {
          "font": {
           "size": 16
          },
          "showarrow": false,
          "text": "Cluster 0",
          "x": 0.14444444444444446,
          "xanchor": "center",
          "xref": "paper",
          "y": 1,
          "yanchor": "bottom",
          "yref": "paper"
         },
         {
          "font": {
           "size": 16
          },
          "showarrow": false,
          "text": "Cluster 1",
          "x": 0.5,
          "xanchor": "center",
          "xref": "paper",
          "y": 1,
          "yanchor": "bottom",
          "yref": "paper"
         },
         {
          "font": {
           "size": 16
          },
          "showarrow": false,
          "text": "Cluster 2",
          "x": 0.8555555555555556,
          "xanchor": "center",
          "xref": "paper",
          "y": 1,
          "yanchor": "bottom",
          "yref": "paper"
         }
        ],
        "template": {
         "layout": {
          "plot_bgcolor": "white",
          "xaxis": {
           "gridcolor": "lightgray"
          },
          "yaxis": {
           "gridcolor": "lightgray"
          }
         }
        },
        "title": {
         "text": "Rate of Students who Approved each Regents Subject in Every Cluster from 2015 to 2023"
        },
        "xaxis": {
         "anchor": "y",
         "domain": [
          0,
          0.2888888888888889
         ],
         "title": {
          "text": "Year"
         }
        },
        "xaxis2": {
         "anchor": "y2",
         "domain": [
          0.35555555555555557,
          0.6444444444444445
         ],
         "title": {
          "text": "Year"
         }
        },
        "xaxis3": {
         "anchor": "y3",
         "domain": [
          0.7111111111111111,
          1
         ],
         "title": {
          "text": "Year"
         }
        },
        "yaxis": {
         "anchor": "x",
         "domain": [
          0,
          1
         ],
         "range": [
          31.26260675507489,
          98.29545454545455
         ],
         "title": {
          "text": "% of Approved Students"
         }
        },
        "yaxis2": {
         "anchor": "x2",
         "domain": [
          0,
          1
         ],
         "range": [
          31.26260675507489,
          98.29545454545455
         ],
         "title": {
          "text": "% of Approved Students"
         }
        },
        "yaxis3": {
         "anchor": "x3",
         "domain": [
          0,
          1
         ],
         "range": [
          31.26260675507489,
          98.29545454545455
         ],
         "title": {
          "text": "% of Approved Students"
         }
        }
       }
      }
     },
     "metadata": {},
     "output_type": "display_data"
    }
   ],
   "source": [
    "fig = make_subplots(rows=1, cols=len(general_data_cluster_test_results_per_year['Cluster'].unique()), subplot_titles=('Cluster 0', 'Cluster 1', 'Cluster 2'))\n",
    "\n",
    "for cluster in general_data_cluster_test_results_per_year['Cluster'].unique():\n",
    "    cluster_row = general_data_cluster_test_results_per_year[general_data_cluster_test_results_per_year['Cluster'] ==  cluster]\n",
    "    cluster_index = general_data_cluster_test_results_per_year['Cluster'].unique().tolist().index(cluster)\n",
    "    for subject in cluster_row['Regents Subject'].unique():\n",
    "        subject_row = cluster_row[cluster_row['Regents Subject'] == subject]\n",
    "        subject_index = cluster_row['Regents Subject'].unique().tolist().index(subject)\n",
    "        fig.add_trace(go.Scatter(x=subject_row['Year'], y=subject_row['% Passed'], name=subject, marker=dict(color=colors2[subject_index])), row=1, col=cluster_index+1)\n",
    "        fig.update_yaxes(range=[general_data_cluster_test_results_per_year['% Passed'].min(), general_data_cluster_test_results_per_year['% Passed'].max()], title_text='% of Approved Students')\n",
    "        fig.update_xaxes(title_text='Year')\n",
    "\n",
    "for i in range(len(fig.data) - len(general_data_cluster_test_results_per_year['Regents Subject'].unique())):\n",
    "    fig.data[i].showlegend=False\n",
    "\n",
    "fig.update_layout(title_text='Rate of Students who Approved each Regents Subject in Every Cluster from 2015 to 2023')\n",
    "\n",
    "fig.show()"
   ]
  },
  {
   "cell_type": "markdown",
   "metadata": {},
   "source": [
    "## Impact of Ethnicity"
   ]
  },
  {
   "cell_type": "code",
   "execution_count": 67,
   "metadata": {},
   "outputs": [
    {
     "data": {
      "text/html": [
       "<div>\n",
       "<style scoped>\n",
       "    .dataframe tbody tr th:only-of-type {\n",
       "        vertical-align: middle;\n",
       "    }\n",
       "\n",
       "    .dataframe tbody tr th {\n",
       "        vertical-align: top;\n",
       "    }\n",
       "\n",
       "    .dataframe thead th {\n",
       "        text-align: right;\n",
       "    }\n",
       "</style>\n",
       "<table border=\"1\" class=\"dataframe\">\n",
       "  <thead>\n",
       "    <tr style=\"text-align: right;\">\n",
       "      <th></th>\n",
       "      <th>School Name</th>\n",
       "      <th>Category</th>\n",
       "      <th>Graduation Year</th>\n",
       "      <th>Duration</th>\n",
       "      <th>Cluster</th>\n",
       "      <th># Grads</th>\n",
       "      <th># Advanced Regents</th>\n",
       "      <th># Regents without Advanced</th>\n",
       "      <th># Local</th>\n",
       "      <th># Still Enrolled</th>\n",
       "      <th># Dropout</th>\n",
       "      <th># Total Cohort</th>\n",
       "      <th>Graduation Month</th>\n",
       "    </tr>\n",
       "  </thead>\n",
       "  <tbody>\n",
       "    <tr>\n",
       "      <th>0</th>\n",
       "      <td>47 THE AMERICAN SIGN LANGUAGE AND ENGLISH SECO...</td>\n",
       "      <td>Asian</td>\n",
       "      <td>2018</td>\n",
       "      <td>6</td>\n",
       "      <td>2</td>\n",
       "      <td>NaN</td>\n",
       "      <td>NaN</td>\n",
       "      <td>NaN</td>\n",
       "      <td>NaN</td>\n",
       "      <td>NaN</td>\n",
       "      <td>NaN</td>\n",
       "      <td>1</td>\n",
       "      <td>June</td>\n",
       "    </tr>\n",
       "    <tr>\n",
       "      <th>1</th>\n",
       "      <td>47 THE AMERICAN SIGN LANGUAGE AND ENGLISH SECO...</td>\n",
       "      <td>Asian</td>\n",
       "      <td>2020</td>\n",
       "      <td>4</td>\n",
       "      <td>2</td>\n",
       "      <td>NaN</td>\n",
       "      <td>NaN</td>\n",
       "      <td>NaN</td>\n",
       "      <td>NaN</td>\n",
       "      <td>NaN</td>\n",
       "      <td>NaN</td>\n",
       "      <td>2</td>\n",
       "      <td>August</td>\n",
       "    </tr>\n",
       "    <tr>\n",
       "      <th>2</th>\n",
       "      <td>47 THE AMERICAN SIGN LANGUAGE AND ENGLISH SECO...</td>\n",
       "      <td>Asian</td>\n",
       "      <td>2021</td>\n",
       "      <td>5</td>\n",
       "      <td>2</td>\n",
       "      <td>NaN</td>\n",
       "      <td>NaN</td>\n",
       "      <td>NaN</td>\n",
       "      <td>NaN</td>\n",
       "      <td>NaN</td>\n",
       "      <td>NaN</td>\n",
       "      <td>2</td>\n",
       "      <td>August</td>\n",
       "    </tr>\n",
       "    <tr>\n",
       "      <th>3</th>\n",
       "      <td>47 THE AMERICAN SIGN LANGUAGE AND ENGLISH SECO...</td>\n",
       "      <td>Asian</td>\n",
       "      <td>2022</td>\n",
       "      <td>4</td>\n",
       "      <td>2</td>\n",
       "      <td>NaN</td>\n",
       "      <td>NaN</td>\n",
       "      <td>NaN</td>\n",
       "      <td>NaN</td>\n",
       "      <td>NaN</td>\n",
       "      <td>NaN</td>\n",
       "      <td>3</td>\n",
       "      <td>August</td>\n",
       "    </tr>\n",
       "    <tr>\n",
       "      <th>4</th>\n",
       "      <td>47 THE AMERICAN SIGN LANGUAGE AND ENGLISH SECO...</td>\n",
       "      <td>Asian</td>\n",
       "      <td>2022</td>\n",
       "      <td>6</td>\n",
       "      <td>2</td>\n",
       "      <td>NaN</td>\n",
       "      <td>NaN</td>\n",
       "      <td>NaN</td>\n",
       "      <td>NaN</td>\n",
       "      <td>NaN</td>\n",
       "      <td>NaN</td>\n",
       "      <td>2</td>\n",
       "      <td>June</td>\n",
       "    </tr>\n",
       "    <tr>\n",
       "      <th>...</th>\n",
       "      <td>...</td>\n",
       "      <td>...</td>\n",
       "      <td>...</td>\n",
       "      <td>...</td>\n",
       "      <td>...</td>\n",
       "      <td>...</td>\n",
       "      <td>...</td>\n",
       "      <td>...</td>\n",
       "      <td>...</td>\n",
       "      <td>...</td>\n",
       "      <td>...</td>\n",
       "      <td>...</td>\n",
       "      <td>...</td>\n",
       "    </tr>\n",
       "    <tr>\n",
       "      <th>46301</th>\n",
       "      <td>YOUNG WOMEN'S LEADERSHIP SCHOOL, QUEENS</td>\n",
       "      <td>White</td>\n",
       "      <td>2023</td>\n",
       "      <td>5</td>\n",
       "      <td>2</td>\n",
       "      <td>NaN</td>\n",
       "      <td>NaN</td>\n",
       "      <td>NaN</td>\n",
       "      <td>NaN</td>\n",
       "      <td>NaN</td>\n",
       "      <td>NaN</td>\n",
       "      <td>1</td>\n",
       "      <td>August</td>\n",
       "    </tr>\n",
       "    <tr>\n",
       "      <th>46302</th>\n",
       "      <td>YOUNG WOMEN'S LEADERSHIP SCHOOL, QUEENS</td>\n",
       "      <td>White</td>\n",
       "      <td>2023</td>\n",
       "      <td>6</td>\n",
       "      <td>2</td>\n",
       "      <td>6.0</td>\n",
       "      <td>6.0</td>\n",
       "      <td>0.0</td>\n",
       "      <td>0.0</td>\n",
       "      <td>0.0</td>\n",
       "      <td>0.0</td>\n",
       "      <td>6</td>\n",
       "      <td>June</td>\n",
       "    </tr>\n",
       "    <tr>\n",
       "      <th>46303</th>\n",
       "      <td>YOUNG WOMEN'S LEADERSHIP SCHOOL, QUEENS</td>\n",
       "      <td>White</td>\n",
       "      <td>2024</td>\n",
       "      <td>4</td>\n",
       "      <td>2</td>\n",
       "      <td>NaN</td>\n",
       "      <td>NaN</td>\n",
       "      <td>NaN</td>\n",
       "      <td>NaN</td>\n",
       "      <td>NaN</td>\n",
       "      <td>NaN</td>\n",
       "      <td>1</td>\n",
       "      <td>August</td>\n",
       "    </tr>\n",
       "    <tr>\n",
       "      <th>46304</th>\n",
       "      <td>YOUNG WOMEN'S LEADERSHIP SCHOOL, QUEENS</td>\n",
       "      <td>White</td>\n",
       "      <td>2024</td>\n",
       "      <td>5</td>\n",
       "      <td>2</td>\n",
       "      <td>NaN</td>\n",
       "      <td>NaN</td>\n",
       "      <td>NaN</td>\n",
       "      <td>NaN</td>\n",
       "      <td>NaN</td>\n",
       "      <td>NaN</td>\n",
       "      <td>3</td>\n",
       "      <td>August</td>\n",
       "    </tr>\n",
       "    <tr>\n",
       "      <th>46305</th>\n",
       "      <td>YOUNG WOMEN'S LEADERSHIP SCHOOL, QUEENS</td>\n",
       "      <td>White</td>\n",
       "      <td>2024</td>\n",
       "      <td>6</td>\n",
       "      <td>2</td>\n",
       "      <td>NaN</td>\n",
       "      <td>NaN</td>\n",
       "      <td>NaN</td>\n",
       "      <td>NaN</td>\n",
       "      <td>NaN</td>\n",
       "      <td>NaN</td>\n",
       "      <td>1</td>\n",
       "      <td>August</td>\n",
       "    </tr>\n",
       "  </tbody>\n",
       "</table>\n",
       "<p>46306 rows × 13 columns</p>\n",
       "</div>"
      ],
      "text/plain": [
       "                                             School Name Category  \\\n",
       "0      47 THE AMERICAN SIGN LANGUAGE AND ENGLISH SECO...    Asian   \n",
       "1      47 THE AMERICAN SIGN LANGUAGE AND ENGLISH SECO...    Asian   \n",
       "2      47 THE AMERICAN SIGN LANGUAGE AND ENGLISH SECO...    Asian   \n",
       "3      47 THE AMERICAN SIGN LANGUAGE AND ENGLISH SECO...    Asian   \n",
       "4      47 THE AMERICAN SIGN LANGUAGE AND ENGLISH SECO...    Asian   \n",
       "...                                                  ...      ...   \n",
       "46301            YOUNG WOMEN'S LEADERSHIP SCHOOL, QUEENS    White   \n",
       "46302            YOUNG WOMEN'S LEADERSHIP SCHOOL, QUEENS    White   \n",
       "46303            YOUNG WOMEN'S LEADERSHIP SCHOOL, QUEENS    White   \n",
       "46304            YOUNG WOMEN'S LEADERSHIP SCHOOL, QUEENS    White   \n",
       "46305            YOUNG WOMEN'S LEADERSHIP SCHOOL, QUEENS    White   \n",
       "\n",
       "       Graduation Year  Duration  Cluster  # Grads  # Advanced Regents  \\\n",
       "0                 2018         6        2      NaN                 NaN   \n",
       "1                 2020         4        2      NaN                 NaN   \n",
       "2                 2021         5        2      NaN                 NaN   \n",
       "3                 2022         4        2      NaN                 NaN   \n",
       "4                 2022         6        2      NaN                 NaN   \n",
       "...                ...       ...      ...      ...                 ...   \n",
       "46301             2023         5        2      NaN                 NaN   \n",
       "46302             2023         6        2      6.0                 6.0   \n",
       "46303             2024         4        2      NaN                 NaN   \n",
       "46304             2024         5        2      NaN                 NaN   \n",
       "46305             2024         6        2      NaN                 NaN   \n",
       "\n",
       "       # Regents without Advanced  # Local  # Still Enrolled  # Dropout  \\\n",
       "0                             NaN      NaN               NaN        NaN   \n",
       "1                             NaN      NaN               NaN        NaN   \n",
       "2                             NaN      NaN               NaN        NaN   \n",
       "3                             NaN      NaN               NaN        NaN   \n",
       "4                             NaN      NaN               NaN        NaN   \n",
       "...                           ...      ...               ...        ...   \n",
       "46301                         NaN      NaN               NaN        NaN   \n",
       "46302                         0.0      0.0               0.0        0.0   \n",
       "46303                         NaN      NaN               NaN        NaN   \n",
       "46304                         NaN      NaN               NaN        NaN   \n",
       "46305                         NaN      NaN               NaN        NaN   \n",
       "\n",
       "       # Total Cohort Graduation Month  \n",
       "0                   1             June  \n",
       "1                   2           August  \n",
       "2                   2           August  \n",
       "3                   3           August  \n",
       "4                   2             June  \n",
       "...               ...              ...  \n",
       "46301               1           August  \n",
       "46302               6             June  \n",
       "46303               1           August  \n",
       "46304               3           August  \n",
       "46305               1           August  \n",
       "\n",
       "[46306 rows x 13 columns]"
      ]
     },
     "execution_count": 67,
     "metadata": {},
     "output_type": "execute_result"
    }
   ],
   "source": [
    "all_ethnicity_graduates = filter_data(ethnicity_graduation, columns=['# Grads','# Advanced Regents', '# Regents without Advanced', '# Local', '# Still Enrolled', '# Dropout'], cluster=True)\n",
    "all_ethnicity_graduates"
   ]
  },
  {
   "cell_type": "code",
   "execution_count": 68,
   "metadata": {},
   "outputs": [
    {
     "data": {
      "text/html": [
       "<div>\n",
       "<style scoped>\n",
       "    .dataframe tbody tr th:only-of-type {\n",
       "        vertical-align: middle;\n",
       "    }\n",
       "\n",
       "    .dataframe tbody tr th {\n",
       "        vertical-align: top;\n",
       "    }\n",
       "\n",
       "    .dataframe thead th {\n",
       "        text-align: right;\n",
       "    }\n",
       "</style>\n",
       "<table border=\"1\" class=\"dataframe\">\n",
       "  <thead>\n",
       "    <tr style=\"text-align: right;\">\n",
       "      <th></th>\n",
       "      <th>Graduation Year</th>\n",
       "      <th>Category</th>\n",
       "      <th>Duration</th>\n",
       "      <th>Cluster</th>\n",
       "      <th># Total Cohort</th>\n",
       "      <th># Grads</th>\n",
       "      <th># Advanced Regents</th>\n",
       "      <th># Regents without Advanced</th>\n",
       "      <th># Local</th>\n",
       "      <th># Still Enrolled</th>\n",
       "      <th># Dropout</th>\n",
       "    </tr>\n",
       "  </thead>\n",
       "  <tbody>\n",
       "    <tr>\n",
       "      <th>0</th>\n",
       "      <td>2018</td>\n",
       "      <td>Asian</td>\n",
       "      <td>4</td>\n",
       "      <td>0</td>\n",
       "      <td>331</td>\n",
       "      <td>97.0</td>\n",
       "      <td>40.0</td>\n",
       "      <td>57.0</td>\n",
       "      <td>0.0</td>\n",
       "      <td>118.0</td>\n",
       "      <td>60.0</td>\n",
       "    </tr>\n",
       "    <tr>\n",
       "      <th>1</th>\n",
       "      <td>2018</td>\n",
       "      <td>Asian</td>\n",
       "      <td>4</td>\n",
       "      <td>1</td>\n",
       "      <td>4021</td>\n",
       "      <td>2910.0</td>\n",
       "      <td>910.0</td>\n",
       "      <td>1873.0</td>\n",
       "      <td>127.0</td>\n",
       "      <td>564.0</td>\n",
       "      <td>299.0</td>\n",
       "    </tr>\n",
       "    <tr>\n",
       "      <th>2</th>\n",
       "      <td>2018</td>\n",
       "      <td>Asian</td>\n",
       "      <td>4</td>\n",
       "      <td>2</td>\n",
       "      <td>8618</td>\n",
       "      <td>7930.0</td>\n",
       "      <td>5523.0</td>\n",
       "      <td>2294.0</td>\n",
       "      <td>113.0</td>\n",
       "      <td>456.0</td>\n",
       "      <td>79.0</td>\n",
       "    </tr>\n",
       "    <tr>\n",
       "      <th>3</th>\n",
       "      <td>2018</td>\n",
       "      <td>Asian</td>\n",
       "      <td>5</td>\n",
       "      <td>0</td>\n",
       "      <td>365</td>\n",
       "      <td>123.0</td>\n",
       "      <td>53.0</td>\n",
       "      <td>68.0</td>\n",
       "      <td>2.0</td>\n",
       "      <td>87.0</td>\n",
       "      <td>88.0</td>\n",
       "    </tr>\n",
       "    <tr>\n",
       "      <th>4</th>\n",
       "      <td>2018</td>\n",
       "      <td>Asian</td>\n",
       "      <td>5</td>\n",
       "      <td>1</td>\n",
       "      <td>3886</td>\n",
       "      <td>2959.0</td>\n",
       "      <td>936.0</td>\n",
       "      <td>1919.0</td>\n",
       "      <td>104.0</td>\n",
       "      <td>198.0</td>\n",
       "      <td>398.0</td>\n",
       "    </tr>\n",
       "    <tr>\n",
       "      <th>...</th>\n",
       "      <td>...</td>\n",
       "      <td>...</td>\n",
       "      <td>...</td>\n",
       "      <td>...</td>\n",
       "      <td>...</td>\n",
       "      <td>...</td>\n",
       "      <td>...</td>\n",
       "      <td>...</td>\n",
       "      <td>...</td>\n",
       "      <td>...</td>\n",
       "      <td>...</td>\n",
       "    </tr>\n",
       "    <tr>\n",
       "      <th>373</th>\n",
       "      <td>2024</td>\n",
       "      <td>White</td>\n",
       "      <td>5</td>\n",
       "      <td>1</td>\n",
       "      <td>2420</td>\n",
       "      <td>1852.0</td>\n",
       "      <td>580.0</td>\n",
       "      <td>1266.0</td>\n",
       "      <td>6.0</td>\n",
       "      <td>20.0</td>\n",
       "      <td>144.0</td>\n",
       "    </tr>\n",
       "    <tr>\n",
       "      <th>374</th>\n",
       "      <td>2024</td>\n",
       "      <td>White</td>\n",
       "      <td>5</td>\n",
       "      <td>2</td>\n",
       "      <td>6867</td>\n",
       "      <td>6422.0</td>\n",
       "      <td>3426.0</td>\n",
       "      <td>2979.0</td>\n",
       "      <td>17.0</td>\n",
       "      <td>37.0</td>\n",
       "      <td>102.0</td>\n",
       "    </tr>\n",
       "    <tr>\n",
       "      <th>375</th>\n",
       "      <td>2024</td>\n",
       "      <td>White</td>\n",
       "      <td>6</td>\n",
       "      <td>0</td>\n",
       "      <td>185</td>\n",
       "      <td>76.0</td>\n",
       "      <td>0.0</td>\n",
       "      <td>76.0</td>\n",
       "      <td>0.0</td>\n",
       "      <td>4.0</td>\n",
       "      <td>34.0</td>\n",
       "    </tr>\n",
       "    <tr>\n",
       "      <th>376</th>\n",
       "      <td>2024</td>\n",
       "      <td>White</td>\n",
       "      <td>6</td>\n",
       "      <td>1</td>\n",
       "      <td>2446</td>\n",
       "      <td>1897.0</td>\n",
       "      <td>763.0</td>\n",
       "      <td>1125.0</td>\n",
       "      <td>9.0</td>\n",
       "      <td>7.0</td>\n",
       "      <td>138.0</td>\n",
       "    </tr>\n",
       "    <tr>\n",
       "      <th>377</th>\n",
       "      <td>2024</td>\n",
       "      <td>White</td>\n",
       "      <td>6</td>\n",
       "      <td>2</td>\n",
       "      <td>6978</td>\n",
       "      <td>6558.0</td>\n",
       "      <td>4339.0</td>\n",
       "      <td>2185.0</td>\n",
       "      <td>34.0</td>\n",
       "      <td>19.0</td>\n",
       "      <td>123.0</td>\n",
       "    </tr>\n",
       "  </tbody>\n",
       "</table>\n",
       "<p>378 rows × 11 columns</p>\n",
       "</div>"
      ],
      "text/plain": [
       "     Graduation Year Category  Duration  Cluster  # Total Cohort  # Grads  \\\n",
       "0               2018    Asian         4        0             331     97.0   \n",
       "1               2018    Asian         4        1            4021   2910.0   \n",
       "2               2018    Asian         4        2            8618   7930.0   \n",
       "3               2018    Asian         5        0             365    123.0   \n",
       "4               2018    Asian         5        1            3886   2959.0   \n",
       "..               ...      ...       ...      ...             ...      ...   \n",
       "373             2024    White         5        1            2420   1852.0   \n",
       "374             2024    White         5        2            6867   6422.0   \n",
       "375             2024    White         6        0             185     76.0   \n",
       "376             2024    White         6        1            2446   1897.0   \n",
       "377             2024    White         6        2            6978   6558.0   \n",
       "\n",
       "     # Advanced Regents  # Regents without Advanced  # Local  \\\n",
       "0                  40.0                        57.0      0.0   \n",
       "1                 910.0                      1873.0    127.0   \n",
       "2                5523.0                      2294.0    113.0   \n",
       "3                  53.0                        68.0      2.0   \n",
       "4                 936.0                      1919.0    104.0   \n",
       "..                  ...                         ...      ...   \n",
       "373               580.0                      1266.0      6.0   \n",
       "374              3426.0                      2979.0     17.0   \n",
       "375                 0.0                        76.0      0.0   \n",
       "376               763.0                      1125.0      9.0   \n",
       "377              4339.0                      2185.0     34.0   \n",
       "\n",
       "     # Still Enrolled  # Dropout  \n",
       "0               118.0       60.0  \n",
       "1               564.0      299.0  \n",
       "2               456.0       79.0  \n",
       "3                87.0       88.0  \n",
       "4               198.0      398.0  \n",
       "..                ...        ...  \n",
       "373              20.0      144.0  \n",
       "374              37.0      102.0  \n",
       "375               4.0       34.0  \n",
       "376               7.0      138.0  \n",
       "377              19.0      123.0  \n",
       "\n",
       "[378 rows x 11 columns]"
      ]
     },
     "execution_count": 68,
     "metadata": {},
     "output_type": "execute_result"
    }
   ],
   "source": [
    "ethnicity_data = filter_graduation_data(all_ethnicity_graduates, ['Graduation Year','Category','Duration'], cluster=True)\n",
    "ethnicity_data"
   ]
  },
  {
   "cell_type": "code",
   "execution_count": 69,
   "metadata": {},
   "outputs": [
    {
     "data": {
      "text/html": [
       "<div>\n",
       "<style scoped>\n",
       "    .dataframe tbody tr th:only-of-type {\n",
       "        vertical-align: middle;\n",
       "    }\n",
       "\n",
       "    .dataframe tbody tr th {\n",
       "        vertical-align: top;\n",
       "    }\n",
       "\n",
       "    .dataframe thead th {\n",
       "        text-align: right;\n",
       "    }\n",
       "</style>\n",
       "<table border=\"1\" class=\"dataframe\">\n",
       "  <thead>\n",
       "    <tr style=\"text-align: right;\">\n",
       "      <th></th>\n",
       "      <th>Graduation Year</th>\n",
       "      <th>Category</th>\n",
       "      <th>Duration</th>\n",
       "      <th>Cluster</th>\n",
       "      <th># Total Cohort</th>\n",
       "      <th># Grads</th>\n",
       "      <th># Advanced Regents</th>\n",
       "      <th># Regents without Advanced</th>\n",
       "      <th># Local</th>\n",
       "      <th># Still Enrolled</th>\n",
       "      <th># Dropout</th>\n",
       "      <th>Category Code</th>\n",
       "    </tr>\n",
       "  </thead>\n",
       "  <tbody>\n",
       "    <tr>\n",
       "      <th>0</th>\n",
       "      <td>2018</td>\n",
       "      <td>Asian</td>\n",
       "      <td>4</td>\n",
       "      <td>0</td>\n",
       "      <td>331</td>\n",
       "      <td>97.0</td>\n",
       "      <td>40.0</td>\n",
       "      <td>57.0</td>\n",
       "      <td>0.0</td>\n",
       "      <td>118.0</td>\n",
       "      <td>60.0</td>\n",
       "      <td>0</td>\n",
       "    </tr>\n",
       "    <tr>\n",
       "      <th>1</th>\n",
       "      <td>2018</td>\n",
       "      <td>Asian</td>\n",
       "      <td>4</td>\n",
       "      <td>1</td>\n",
       "      <td>4021</td>\n",
       "      <td>2910.0</td>\n",
       "      <td>910.0</td>\n",
       "      <td>1873.0</td>\n",
       "      <td>127.0</td>\n",
       "      <td>564.0</td>\n",
       "      <td>299.0</td>\n",
       "      <td>0</td>\n",
       "    </tr>\n",
       "    <tr>\n",
       "      <th>2</th>\n",
       "      <td>2018</td>\n",
       "      <td>Asian</td>\n",
       "      <td>4</td>\n",
       "      <td>2</td>\n",
       "      <td>8618</td>\n",
       "      <td>7930.0</td>\n",
       "      <td>5523.0</td>\n",
       "      <td>2294.0</td>\n",
       "      <td>113.0</td>\n",
       "      <td>456.0</td>\n",
       "      <td>79.0</td>\n",
       "      <td>0</td>\n",
       "    </tr>\n",
       "    <tr>\n",
       "      <th>3</th>\n",
       "      <td>2018</td>\n",
       "      <td>Asian</td>\n",
       "      <td>5</td>\n",
       "      <td>0</td>\n",
       "      <td>365</td>\n",
       "      <td>123.0</td>\n",
       "      <td>53.0</td>\n",
       "      <td>68.0</td>\n",
       "      <td>2.0</td>\n",
       "      <td>87.0</td>\n",
       "      <td>88.0</td>\n",
       "      <td>0</td>\n",
       "    </tr>\n",
       "    <tr>\n",
       "      <th>4</th>\n",
       "      <td>2018</td>\n",
       "      <td>Asian</td>\n",
       "      <td>5</td>\n",
       "      <td>1</td>\n",
       "      <td>3886</td>\n",
       "      <td>2959.0</td>\n",
       "      <td>936.0</td>\n",
       "      <td>1919.0</td>\n",
       "      <td>104.0</td>\n",
       "      <td>198.0</td>\n",
       "      <td>398.0</td>\n",
       "      <td>0</td>\n",
       "    </tr>\n",
       "    <tr>\n",
       "      <th>...</th>\n",
       "      <td>...</td>\n",
       "      <td>...</td>\n",
       "      <td>...</td>\n",
       "      <td>...</td>\n",
       "      <td>...</td>\n",
       "      <td>...</td>\n",
       "      <td>...</td>\n",
       "      <td>...</td>\n",
       "      <td>...</td>\n",
       "      <td>...</td>\n",
       "      <td>...</td>\n",
       "      <td>...</td>\n",
       "    </tr>\n",
       "    <tr>\n",
       "      <th>373</th>\n",
       "      <td>2024</td>\n",
       "      <td>White</td>\n",
       "      <td>5</td>\n",
       "      <td>1</td>\n",
       "      <td>2420</td>\n",
       "      <td>1852.0</td>\n",
       "      <td>580.0</td>\n",
       "      <td>1266.0</td>\n",
       "      <td>6.0</td>\n",
       "      <td>20.0</td>\n",
       "      <td>144.0</td>\n",
       "      <td>5</td>\n",
       "    </tr>\n",
       "    <tr>\n",
       "      <th>374</th>\n",
       "      <td>2024</td>\n",
       "      <td>White</td>\n",
       "      <td>5</td>\n",
       "      <td>2</td>\n",
       "      <td>6867</td>\n",
       "      <td>6422.0</td>\n",
       "      <td>3426.0</td>\n",
       "      <td>2979.0</td>\n",
       "      <td>17.0</td>\n",
       "      <td>37.0</td>\n",
       "      <td>102.0</td>\n",
       "      <td>5</td>\n",
       "    </tr>\n",
       "    <tr>\n",
       "      <th>375</th>\n",
       "      <td>2024</td>\n",
       "      <td>White</td>\n",
       "      <td>6</td>\n",
       "      <td>0</td>\n",
       "      <td>185</td>\n",
       "      <td>76.0</td>\n",
       "      <td>0.0</td>\n",
       "      <td>76.0</td>\n",
       "      <td>0.0</td>\n",
       "      <td>4.0</td>\n",
       "      <td>34.0</td>\n",
       "      <td>5</td>\n",
       "    </tr>\n",
       "    <tr>\n",
       "      <th>376</th>\n",
       "      <td>2024</td>\n",
       "      <td>White</td>\n",
       "      <td>6</td>\n",
       "      <td>1</td>\n",
       "      <td>2446</td>\n",
       "      <td>1897.0</td>\n",
       "      <td>763.0</td>\n",
       "      <td>1125.0</td>\n",
       "      <td>9.0</td>\n",
       "      <td>7.0</td>\n",
       "      <td>138.0</td>\n",
       "      <td>5</td>\n",
       "    </tr>\n",
       "    <tr>\n",
       "      <th>377</th>\n",
       "      <td>2024</td>\n",
       "      <td>White</td>\n",
       "      <td>6</td>\n",
       "      <td>2</td>\n",
       "      <td>6978</td>\n",
       "      <td>6558.0</td>\n",
       "      <td>4339.0</td>\n",
       "      <td>2185.0</td>\n",
       "      <td>34.0</td>\n",
       "      <td>19.0</td>\n",
       "      <td>123.0</td>\n",
       "      <td>5</td>\n",
       "    </tr>\n",
       "  </tbody>\n",
       "</table>\n",
       "<p>378 rows × 12 columns</p>\n",
       "</div>"
      ],
      "text/plain": [
       "     Graduation Year Category  Duration  Cluster  # Total Cohort  # Grads  \\\n",
       "0               2018    Asian         4        0             331     97.0   \n",
       "1               2018    Asian         4        1            4021   2910.0   \n",
       "2               2018    Asian         4        2            8618   7930.0   \n",
       "3               2018    Asian         5        0             365    123.0   \n",
       "4               2018    Asian         5        1            3886   2959.0   \n",
       "..               ...      ...       ...      ...             ...      ...   \n",
       "373             2024    White         5        1            2420   1852.0   \n",
       "374             2024    White         5        2            6867   6422.0   \n",
       "375             2024    White         6        0             185     76.0   \n",
       "376             2024    White         6        1            2446   1897.0   \n",
       "377             2024    White         6        2            6978   6558.0   \n",
       "\n",
       "     # Advanced Regents  # Regents without Advanced  # Local  \\\n",
       "0                  40.0                        57.0      0.0   \n",
       "1                 910.0                      1873.0    127.0   \n",
       "2                5523.0                      2294.0    113.0   \n",
       "3                  53.0                        68.0      2.0   \n",
       "4                 936.0                      1919.0    104.0   \n",
       "..                  ...                         ...      ...   \n",
       "373               580.0                      1266.0      6.0   \n",
       "374              3426.0                      2979.0     17.0   \n",
       "375                 0.0                        76.0      0.0   \n",
       "376               763.0                      1125.0      9.0   \n",
       "377              4339.0                      2185.0     34.0   \n",
       "\n",
       "     # Still Enrolled  # Dropout  Category Code  \n",
       "0               118.0       60.0              0  \n",
       "1               564.0      299.0              0  \n",
       "2               456.0       79.0              0  \n",
       "3                87.0       88.0              0  \n",
       "4               198.0      398.0              0  \n",
       "..                ...        ...            ...  \n",
       "373              20.0      144.0              5  \n",
       "374              37.0      102.0              5  \n",
       "375               4.0       34.0              5  \n",
       "376               7.0      138.0              5  \n",
       "377              19.0      123.0              5  \n",
       "\n",
       "[378 rows x 12 columns]"
      ]
     },
     "execution_count": 69,
     "metadata": {},
     "output_type": "execute_result"
    }
   ],
   "source": [
    "ethnicity_data['Category Code'] = ethnicity_data['Category'].astype('category').cat.codes\n",
    "ethnicity_data"
   ]
  },
  {
   "cell_type": "markdown",
   "metadata": {},
   "source": [
    "### Correlation Matrix"
   ]
  },
  {
   "cell_type": "code",
   "execution_count": 140,
   "metadata": {},
   "outputs": [
    {
     "data": {
      "application/vnd.plotly.v1+json": {
       "config": {
        "plotlyServerURL": "https://plot.ly"
       },
       "data": [
        {
         "coloraxis": "coloraxis",
         "hovertemplate": "x: %{x}<br>y: %{y}<br>color: %{z}<extra></extra>",
         "name": "0",
         "textfont": {
          "size": 10
         },
         "texttemplate": "%{z}",
         "type": "heatmap",
         "x": [
          "Graduation Year",
          "Duration",
          "Cluster",
          "# Total Cohort",
          "# Grads",
          "# Advanced Regents",
          "# Regents without Advanced",
          "# Local",
          "# Still Enrolled",
          "# Dropout",
          "Category Code"
         ],
         "xaxis": "x",
         "y": [
          "Graduation Year",
          "Duration",
          "Cluster",
          "# Total Cohort",
          "# Grads",
          "# Advanced Regents",
          "# Regents without Advanced",
          "# Local",
          "# Still Enrolled",
          "# Dropout",
          "Category Code"
         ],
         "yaxis": "y",
         "z": [
          [
           1,
           -1.0352729079255757e-15,
           7.575694037843165e-16,
           -0.019952192831069013,
           0.00924357033934578,
           0.08788451676313346,
           -0.004364221081086817,
           -0.315583074077367,
           -0.13679046922637433,
           -0.11700151056876201,
           2.564754928346578e-14
          ],
          [
           -1.0352729079255757e-15,
           1,
           -1.5860328923216527e-17,
           0.005875642602845187,
           0.015501602802083252,
           -0.010879066435708386,
           0.016990077812235466,
           0.10448053647085892,
           -0.3885579157737563,
           0.13897006951959878,
           -3.454335440807858e-17
          ],
          [
           7.575694037843165e-16,
           -1.5860328923216527e-17,
           1,
           0.4766368248668787,
           0.5373169877819521,
           0.6059208762416356,
           0.38870187443527576,
           0.13183292298439472,
           -0.07373203099950786,
           -0.03301335370642444,
           2.2748062658978575e-17
          ],
          [
           -0.019952192831069013,
           0.005875642602845187,
           0.4766368248668787,
           1,
           0.9894083171513545,
           0.682435169472048,
           0.9536670616372964,
           0.5919763971680212,
           0.46025658859710517,
           0.6879336156435377,
           -0.34554472078549714
          ],
          [
           0.00924357033934578,
           0.015501602802083252,
           0.5373169877819521,
           0.9894083171513545,
           1,
           0.7553094815783941,
           0.9303281851641861,
           0.5255884331187634,
           0.3704953046789577,
           0.5903953353327095,
           -0.33088307502192005
          ],
          [
           0.08788451676313346,
           -0.010879066435708386,
           0.6059208762416356,
           0.682435169472048,
           0.7553094815783941,
           1,
           0.4682185549328976,
           0.04037420174698059,
           0.06919375415115012,
           0.06912780775426355,
           -0.24770309174508542
          ],
          [
           -0.004364221081086817,
           0.016990077812235466,
           0.38870187443527576,
           0.9536670616372964,
           0.9303281851641861,
           0.4682185549328976,
           1,
           0.6309474067685683,
           0.45880495083908,
           0.7391852807886407,
           -0.3080538494635381
          ],
          [
           -0.315583074077367,
           0.10448053647085892,
           0.13183292298439472,
           0.5919763971680212,
           0.5255884331187634,
           0.04037420174698059,
           0.6309474067685683,
           1,
           0.37821368945255857,
           0.7510250170358441,
           -0.18425791620733686
          ],
          [
           -0.13679046922637433,
           -0.3885579157737563,
           -0.07373203099950786,
           0.46025658859710517,
           0.3704953046789577,
           0.06919375415115012,
           0.45880495083908,
           0.37821368945255857,
           1,
           0.4675814359449208,
           -0.2604223554971614
          ],
          [
           -0.11700151056876201,
           0.13897006951959878,
           -0.03301335370642444,
           0.6879336156435377,
           0.5903953353327095,
           0.06912780775426355,
           0.7391852807886407,
           0.7510250170358441,
           0.4675814359449208,
           1,
           -0.26513869709031673
          ],
          [
           2.564754928346578e-14,
           -3.454335440807858e-17,
           2.2748062658978575e-17,
           -0.34554472078549714,
           -0.33088307502192005,
           -0.24770309174508542,
           -0.3080538494635381,
           -0.18425791620733686,
           -0.2604223554971614,
           -0.26513869709031673,
           1
          ]
         ]
        }
       ],
       "layout": {
        "coloraxis": {
         "colorscale": [
          [
           0,
           "rgb(5,48,97)"
          ],
          [
           0.1,
           "rgb(33,102,172)"
          ],
          [
           0.2,
           "rgb(67,147,195)"
          ],
          [
           0.3,
           "rgb(146,197,222)"
          ],
          [
           0.4,
           "rgb(209,229,240)"
          ],
          [
           0.5,
           "rgb(247,247,247)"
          ],
          [
           0.6,
           "rgb(253,219,199)"
          ],
          [
           0.7,
           "rgb(244,165,130)"
          ],
          [
           0.8,
           "rgb(214,96,77)"
          ],
          [
           0.9,
           "rgb(178,24,43)"
          ],
          [
           1,
           "rgb(103,0,31)"
          ]
         ]
        },
        "height": 800,
        "margin": {
         "b": 125,
         "l": 125,
         "t": 60
        },
        "template": {
         "layout": {
          "plot_bgcolor": "white",
          "xaxis": {
           "gridcolor": "lightgray"
          },
          "yaxis": {
           "gridcolor": "lightgray"
          }
         }
        },
        "width": 1000,
        "xaxis": {
         "anchor": "y",
         "constrain": "domain",
         "domain": [
          0,
          1
         ],
         "scaleanchor": "y"
        },
        "yaxis": {
         "anchor": "x",
         "autorange": "reversed",
         "constrain": "domain",
         "domain": [
          0,
          1
         ]
        }
       }
      }
     },
     "metadata": {},
     "output_type": "display_data"
    }
   ],
   "source": [
    "correlation_matrix(ethnicity_data.drop('Category', axis=1))"
   ]
  },
  {
   "cell_type": "markdown",
   "metadata": {},
   "source": [
    "### Population"
   ]
  },
  {
   "cell_type": "code",
   "execution_count": 71,
   "metadata": {},
   "outputs": [],
   "source": [
    "def filter_population(df):\n",
    "    df_population = df.groupby(['Category', 'Cluster'])[['# Total Cohort', '# Grads']].sum().reset_index()\n",
    "    df_population['General Cohort %'] = df_population['# Total Cohort'] / df_population['Cluster'].map(general_data_cluster_population.set_index('Cluster')['# Total Cohort']) * 100\n",
    "    return df_population"
   ]
  },
  {
   "cell_type": "code",
   "execution_count": 72,
   "metadata": {},
   "outputs": [
    {
     "data": {
      "text/html": [
       "<div>\n",
       "<style scoped>\n",
       "    .dataframe tbody tr th:only-of-type {\n",
       "        vertical-align: middle;\n",
       "    }\n",
       "\n",
       "    .dataframe tbody tr th {\n",
       "        vertical-align: top;\n",
       "    }\n",
       "\n",
       "    .dataframe thead th {\n",
       "        text-align: right;\n",
       "    }\n",
       "</style>\n",
       "<table border=\"1\" class=\"dataframe\">\n",
       "  <thead>\n",
       "    <tr style=\"text-align: right;\">\n",
       "      <th></th>\n",
       "      <th>Category</th>\n",
       "      <th>Cluster</th>\n",
       "      <th># Total Cohort</th>\n",
       "      <th># Grads</th>\n",
       "      <th>General Cohort %</th>\n",
       "    </tr>\n",
       "  </thead>\n",
       "  <tbody>\n",
       "    <tr>\n",
       "      <th>0</th>\n",
       "      <td>Asian</td>\n",
       "      <td>0</td>\n",
       "      <td>6569</td>\n",
       "      <td>2559.0</td>\n",
       "      <td>6.398356</td>\n",
       "    </tr>\n",
       "    <tr>\n",
       "      <th>1</th>\n",
       "      <td>Asian</td>\n",
       "      <td>1</td>\n",
       "      <td>81475</td>\n",
       "      <td>63906.0</td>\n",
       "      <td>13.157873</td>\n",
       "    </tr>\n",
       "    <tr>\n",
       "      <th>2</th>\n",
       "      <td>Asian</td>\n",
       "      <td>2</td>\n",
       "      <td>178022</td>\n",
       "      <td>166972.0</td>\n",
       "      <td>24.058588</td>\n",
       "    </tr>\n",
       "    <tr>\n",
       "      <th>3</th>\n",
       "      <td>Black</td>\n",
       "      <td>0</td>\n",
       "      <td>39987</td>\n",
       "      <td>17032.0</td>\n",
       "      <td>38.948250</td>\n",
       "    </tr>\n",
       "    <tr>\n",
       "      <th>4</th>\n",
       "      <td>Black</td>\n",
       "      <td>1</td>\n",
       "      <td>174201</td>\n",
       "      <td>138607.0</td>\n",
       "      <td>28.132737</td>\n",
       "    </tr>\n",
       "    <tr>\n",
       "      <th>5</th>\n",
       "      <td>Black</td>\n",
       "      <td>2</td>\n",
       "      <td>157631</td>\n",
       "      <td>141146.0</td>\n",
       "      <td>21.302868</td>\n",
       "    </tr>\n",
       "    <tr>\n",
       "      <th>6</th>\n",
       "      <td>Hispanic</td>\n",
       "      <td>0</td>\n",
       "      <td>48737</td>\n",
       "      <td>18336.0</td>\n",
       "      <td>47.470950</td>\n",
       "    </tr>\n",
       "    <tr>\n",
       "      <th>7</th>\n",
       "      <td>Hispanic</td>\n",
       "      <td>1</td>\n",
       "      <td>297972</td>\n",
       "      <td>229270.0</td>\n",
       "      <td>48.121238</td>\n",
       "    </tr>\n",
       "    <tr>\n",
       "      <th>8</th>\n",
       "      <td>Hispanic</td>\n",
       "      <td>2</td>\n",
       "      <td>236243</td>\n",
       "      <td>215641.0</td>\n",
       "      <td>31.926801</td>\n",
       "    </tr>\n",
       "    <tr>\n",
       "      <th>9</th>\n",
       "      <td>Multi-Racial</td>\n",
       "      <td>0</td>\n",
       "      <td>582</td>\n",
       "      <td>65.0</td>\n",
       "      <td>0.566881</td>\n",
       "    </tr>\n",
       "    <tr>\n",
       "      <th>10</th>\n",
       "      <td>Multi-Racial</td>\n",
       "      <td>1</td>\n",
       "      <td>4701</td>\n",
       "      <td>668.0</td>\n",
       "      <td>0.759192</td>\n",
       "    </tr>\n",
       "    <tr>\n",
       "      <th>11</th>\n",
       "      <td>Multi-Racial</td>\n",
       "      <td>2</td>\n",
       "      <td>14609</td>\n",
       "      <td>6601.0</td>\n",
       "      <td>1.974317</td>\n",
       "    </tr>\n",
       "    <tr>\n",
       "      <th>12</th>\n",
       "      <td>Native American</td>\n",
       "      <td>0</td>\n",
       "      <td>1681</td>\n",
       "      <td>223.0</td>\n",
       "      <td>1.637332</td>\n",
       "    </tr>\n",
       "    <tr>\n",
       "      <th>13</th>\n",
       "      <td>Native American</td>\n",
       "      <td>1</td>\n",
       "      <td>6337</td>\n",
       "      <td>1427.0</td>\n",
       "      <td>1.023399</td>\n",
       "    </tr>\n",
       "    <tr>\n",
       "      <th>14</th>\n",
       "      <td>Native American</td>\n",
       "      <td>2</td>\n",
       "      <td>6672</td>\n",
       "      <td>1954.0</td>\n",
       "      <td>0.901680</td>\n",
       "    </tr>\n",
       "    <tr>\n",
       "      <th>15</th>\n",
       "      <td>White</td>\n",
       "      <td>0</td>\n",
       "      <td>5111</td>\n",
       "      <td>1715.0</td>\n",
       "      <td>4.978231</td>\n",
       "    </tr>\n",
       "    <tr>\n",
       "      <th>16</th>\n",
       "      <td>White</td>\n",
       "      <td>1</td>\n",
       "      <td>54525</td>\n",
       "      <td>40154.0</td>\n",
       "      <td>8.805561</td>\n",
       "    </tr>\n",
       "    <tr>\n",
       "      <th>17</th>\n",
       "      <td>White</td>\n",
       "      <td>2</td>\n",
       "      <td>146775</td>\n",
       "      <td>135276.0</td>\n",
       "      <td>19.835746</td>\n",
       "    </tr>\n",
       "  </tbody>\n",
       "</table>\n",
       "</div>"
      ],
      "text/plain": [
       "           Category  Cluster  # Total Cohort   # Grads  General Cohort %\n",
       "0             Asian        0            6569    2559.0          6.398356\n",
       "1             Asian        1           81475   63906.0         13.157873\n",
       "2             Asian        2          178022  166972.0         24.058588\n",
       "3             Black        0           39987   17032.0         38.948250\n",
       "4             Black        1          174201  138607.0         28.132737\n",
       "5             Black        2          157631  141146.0         21.302868\n",
       "6          Hispanic        0           48737   18336.0         47.470950\n",
       "7          Hispanic        1          297972  229270.0         48.121238\n",
       "8          Hispanic        2          236243  215641.0         31.926801\n",
       "9      Multi-Racial        0             582      65.0          0.566881\n",
       "10     Multi-Racial        1            4701     668.0          0.759192\n",
       "11     Multi-Racial        2           14609    6601.0          1.974317\n",
       "12  Native American        0            1681     223.0          1.637332\n",
       "13  Native American        1            6337    1427.0          1.023399\n",
       "14  Native American        2            6672    1954.0          0.901680\n",
       "15            White        0            5111    1715.0          4.978231\n",
       "16            White        1           54525   40154.0          8.805561\n",
       "17            White        2          146775  135276.0         19.835746"
      ]
     },
     "execution_count": 72,
     "metadata": {},
     "output_type": "execute_result"
    }
   ],
   "source": [
    "ethnicity_data_population = filter_population(ethnicity_data)\n",
    "ethnicity_data_population"
   ]
  },
  {
   "cell_type": "code",
   "execution_count": 209,
   "metadata": {},
   "outputs": [
    {
     "data": {
      "application/vnd.plotly.v1+json": {
       "config": {
        "plotlyServerURL": "https://plot.ly"
       },
       "data": [
        {
         "marker": {
          "color": "#636EFA"
         },
         "showlegend": false,
         "type": "bar",
         "x": [
          "Asian"
         ],
         "xaxis": "x",
         "y": [
          6.398355849493995
         ],
         "yaxis": "y"
        },
        {
         "marker": {
          "color": "#EF553B"
         },
         "showlegend": false,
         "type": "bar",
         "x": [
          "Black"
         ],
         "xaxis": "x",
         "y": [
          38.94825016801893
         ],
         "yaxis": "y"
        },
        {
         "marker": {
          "color": "#00CC96"
         },
         "showlegend": false,
         "type": "bar",
         "x": [
          "Hispanic"
         ],
         "xaxis": "x",
         "y": [
          47.4709497696436
         ],
         "yaxis": "y"
        },
        {
         "marker": {
          "color": "#AB63FA"
         },
         "showlegend": false,
         "type": "bar",
         "x": [
          "Multi-Racial"
         ],
         "xaxis": "x",
         "y": [
          0.5668812763594923
         ],
         "yaxis": "y"
        },
        {
         "marker": {
          "color": "#FFA15A"
         },
         "showlegend": false,
         "type": "bar",
         "x": [
          "Native American"
         ],
         "xaxis": "x",
         "y": [
          1.6373323463235507
         ],
         "yaxis": "y"
        },
        {
         "marker": {
          "color": "#19D3F3"
         },
         "showlegend": false,
         "type": "bar",
         "x": [
          "White"
         ],
         "xaxis": "x",
         "y": [
          4.978230590160422
         ],
         "yaxis": "y"
        },
        {
         "marker": {
          "color": "#636EFA"
         },
         "showlegend": false,
         "type": "bar",
         "x": [
          "Asian"
         ],
         "xaxis": "x2",
         "y": [
          13.1578734873896
         ],
         "yaxis": "y2"
        },
        {
         "marker": {
          "color": "#EF553B"
         },
         "showlegend": false,
         "type": "bar",
         "x": [
          "Black"
         ],
         "xaxis": "x2",
         "y": [
          28.132736660039953
         ],
         "yaxis": "y2"
        },
        {
         "marker": {
          "color": "#00CC96"
         },
         "showlegend": false,
         "type": "bar",
         "x": [
          "Hispanic"
         ],
         "xaxis": "x2",
         "y": [
          48.1212381562989
         ],
         "yaxis": "y2"
        },
        {
         "marker": {
          "color": "#AB63FA"
         },
         "showlegend": false,
         "type": "bar",
         "x": [
          "Multi-Racial"
         ],
         "xaxis": "x2",
         "y": [
          0.7591919394196809
         ],
         "yaxis": "y2"
        },
        {
         "marker": {
          "color": "#FFA15A"
         },
         "showlegend": false,
         "type": "bar",
         "x": [
          "Native American"
         ],
         "xaxis": "x2",
         "y": [
          1.023399132121361
         ],
         "yaxis": "y2"
        },
        {
         "marker": {
          "color": "#19D3F3"
         },
         "showlegend": false,
         "type": "bar",
         "x": [
          "White"
         ],
         "xaxis": "x2",
         "y": [
          8.805560624730504
         ],
         "yaxis": "y2"
        },
        {
         "marker": {
          "color": "#636EFA"
         },
         "showlegend": false,
         "type": "bar",
         "x": [
          "Asian"
         ],
         "xaxis": "x3",
         "y": [
          24.058587584059506
         ],
         "yaxis": "y3"
        },
        {
         "marker": {
          "color": "#EF553B"
         },
         "showlegend": false,
         "type": "bar",
         "x": [
          "Black"
         ],
         "xaxis": "x3",
         "y": [
          21.302868294159623
         ],
         "yaxis": "y3"
        },
        {
         "marker": {
          "color": "#00CC96"
         },
         "showlegend": false,
         "type": "bar",
         "x": [
          "Hispanic"
         ],
         "xaxis": "x3",
         "y": [
          31.92680065733994
         ],
         "yaxis": "y3"
        },
        {
         "marker": {
          "color": "#AB63FA"
         },
         "showlegend": false,
         "type": "bar",
         "x": [
          "Multi-Racial"
         ],
         "xaxis": "x3",
         "y": [
          1.974317253011006
         ],
         "yaxis": "y3"
        },
        {
         "marker": {
          "color": "#FFA15A"
         },
         "showlegend": false,
         "type": "bar",
         "x": [
          "Native American"
         ],
         "xaxis": "x3",
         "y": [
          0.901680108980042
         ],
         "yaxis": "y3"
        },
        {
         "marker": {
          "color": "#19D3F3"
         },
         "showlegend": false,
         "type": "bar",
         "x": [
          "White"
         ],
         "xaxis": "x3",
         "y": [
          19.83574610244989
         ],
         "yaxis": "y3"
        }
       ],
       "layout": {
        "annotations": [
         {
          "font": {
           "size": 16
          },
          "showarrow": false,
          "text": "Cluster 0",
          "x": 0.5,
          "xanchor": "center",
          "xref": "paper",
          "y": 1,
          "yanchor": "bottom",
          "yref": "paper"
         },
         {
          "font": {
           "size": 16
          },
          "showarrow": false,
          "text": "Cluster 1",
          "x": 0.5,
          "xanchor": "center",
          "xref": "paper",
          "y": 0.6111111111111112,
          "yanchor": "bottom",
          "yref": "paper"
         },
         {
          "font": {
           "size": 16
          },
          "showarrow": false,
          "text": "Cluster 2",
          "x": 0.5,
          "xanchor": "center",
          "xref": "paper",
          "y": 0.22222222222222224,
          "yanchor": "bottom",
          "yref": "paper"
         }
        ],
        "height": 900,
        "template": {
         "layout": {
          "plot_bgcolor": "white",
          "xaxis": {
           "gridcolor": "lightgray"
          },
          "yaxis": {
           "gridcolor": "lightgray"
          }
         }
        },
        "title": {
         "text": "Population Distribution in Every Cluster per Ethnicity"
        },
        "width": 1200,
        "xaxis": {
         "anchor": "y",
         "domain": [
          0,
          1
         ]
        },
        "xaxis2": {
         "anchor": "y2",
         "domain": [
          0,
          1
         ]
        },
        "xaxis3": {
         "anchor": "y3",
         "domain": [
          0,
          1
         ]
        },
        "yaxis": {
         "anchor": "x",
         "domain": [
          0.7777777777777778,
          1
         ],
         "range": [
          0,
          48.1212381562989
         ],
         "title": {
          "text": "Distribution %"
         }
        },
        "yaxis2": {
         "anchor": "x2",
         "domain": [
          0.3888888888888889,
          0.6111111111111112
         ],
         "range": [
          0,
          48.1212381562989
         ],
         "title": {
          "text": "Distribution %"
         }
        },
        "yaxis3": {
         "anchor": "x3",
         "domain": [
          0,
          0.22222222222222224
         ],
         "range": [
          0,
          48.1212381562989
         ],
         "title": {
          "text": "Distribution %"
         }
        }
       }
      }
     },
     "metadata": {},
     "output_type": "display_data"
    }
   ],
   "source": [
    "fig = make_subplots(rows=len(ethnicity_data_population['Cluster'].unique()), cols=1, subplot_titles=('Cluster 0', 'Cluster 1', 'Cluster 2'))\n",
    "\n",
    "for cluster in ethnicity_data_population['Cluster'].unique():\n",
    "    cluster_row = ethnicity_data_population[ethnicity_data_population['Cluster'] == cluster]\n",
    "    cluster_index = ethnicity_data_population['Cluster'].unique().tolist().index(cluster)\n",
    "    for ethnicity in cluster_row['Category'].unique():\n",
    "        ethnicity_row = cluster_row[cluster_row['Category'] == ethnicity]\n",
    "        ethnicity_index = cluster_row['Category'].unique().tolist().index(ethnicity)\n",
    "        fig.add_trace(go.Bar(x=ethnicity_row['Category'], y=ethnicity_row['General Cohort %'], marker=dict(color=colors2[ethnicity_index]), showlegend=False), row=cluster_index+1, col=1)\n",
    "        fig.update_yaxes(range=[0,ethnicity_data_population['General Cohort %'].max()], title_text='Distribution %')\n",
    "\n",
    "fig.update_layout(\n",
    "    width=1200,\n",
    "    height=900,\n",
    "    title_text = \"Population Distribution in Every Cluster per Ethnicity\",\n",
    ")\n",
    "fig.show()"
   ]
  },
  {
   "cell_type": "markdown",
   "metadata": {},
   "source": [
    "### Graduation Rate"
   ]
  },
  {
   "cell_type": "code",
   "execution_count": 74,
   "metadata": {},
   "outputs": [],
   "source": [
    "def filter_graduation_rate(df):\n",
    "    df_graduation_rate = df.groupby(['Category', 'Graduation Year', 'Cluster'])[['# Total Cohort', '# Grads']].sum().reset_index()\n",
    "    df_graduation_rate['Grad %'] = df_graduation_rate['# Grads'] / df_graduation_rate['# Total Cohort'] * 100\n",
    "    return df_graduation_rate"
   ]
  },
  {
   "cell_type": "code",
   "execution_count": 75,
   "metadata": {},
   "outputs": [
    {
     "data": {
      "text/html": [
       "<div>\n",
       "<style scoped>\n",
       "    .dataframe tbody tr th:only-of-type {\n",
       "        vertical-align: middle;\n",
       "    }\n",
       "\n",
       "    .dataframe tbody tr th {\n",
       "        vertical-align: top;\n",
       "    }\n",
       "\n",
       "    .dataframe thead th {\n",
       "        text-align: right;\n",
       "    }\n",
       "</style>\n",
       "<table border=\"1\" class=\"dataframe\">\n",
       "  <thead>\n",
       "    <tr style=\"text-align: right;\">\n",
       "      <th></th>\n",
       "      <th>Category</th>\n",
       "      <th>Graduation Year</th>\n",
       "      <th>Cluster</th>\n",
       "      <th># Total Cohort</th>\n",
       "      <th># Grads</th>\n",
       "      <th>Grad %</th>\n",
       "    </tr>\n",
       "  </thead>\n",
       "  <tbody>\n",
       "    <tr>\n",
       "      <th>0</th>\n",
       "      <td>Asian</td>\n",
       "      <td>2018</td>\n",
       "      <td>0</td>\n",
       "      <td>1127</td>\n",
       "      <td>395.0</td>\n",
       "      <td>35.048802</td>\n",
       "    </tr>\n",
       "    <tr>\n",
       "      <th>1</th>\n",
       "      <td>Asian</td>\n",
       "      <td>2018</td>\n",
       "      <td>1</td>\n",
       "      <td>11934</td>\n",
       "      <td>8875.0</td>\n",
       "      <td>74.367354</td>\n",
       "    </tr>\n",
       "    <tr>\n",
       "      <th>2</th>\n",
       "      <td>Asian</td>\n",
       "      <td>2018</td>\n",
       "      <td>2</td>\n",
       "      <td>24496</td>\n",
       "      <td>22656.0</td>\n",
       "      <td>92.488570</td>\n",
       "    </tr>\n",
       "    <tr>\n",
       "      <th>3</th>\n",
       "      <td>Asian</td>\n",
       "      <td>2019</td>\n",
       "      <td>0</td>\n",
       "      <td>1097</td>\n",
       "      <td>414.0</td>\n",
       "      <td>37.739289</td>\n",
       "    </tr>\n",
       "    <tr>\n",
       "      <th>4</th>\n",
       "      <td>Asian</td>\n",
       "      <td>2019</td>\n",
       "      <td>1</td>\n",
       "      <td>11911</td>\n",
       "      <td>8982.0</td>\n",
       "      <td>75.409286</td>\n",
       "    </tr>\n",
       "    <tr>\n",
       "      <th>...</th>\n",
       "      <td>...</td>\n",
       "      <td>...</td>\n",
       "      <td>...</td>\n",
       "      <td>...</td>\n",
       "      <td>...</td>\n",
       "      <td>...</td>\n",
       "    </tr>\n",
       "    <tr>\n",
       "      <th>121</th>\n",
       "      <td>White</td>\n",
       "      <td>2023</td>\n",
       "      <td>1</td>\n",
       "      <td>7469</td>\n",
       "      <td>5680.0</td>\n",
       "      <td>76.047664</td>\n",
       "    </tr>\n",
       "    <tr>\n",
       "      <th>122</th>\n",
       "      <td>White</td>\n",
       "      <td>2023</td>\n",
       "      <td>2</td>\n",
       "      <td>21191</td>\n",
       "      <td>19757.0</td>\n",
       "      <td>93.232976</td>\n",
       "    </tr>\n",
       "    <tr>\n",
       "      <th>123</th>\n",
       "      <td>White</td>\n",
       "      <td>2024</td>\n",
       "      <td>0</td>\n",
       "      <td>564</td>\n",
       "      <td>203.0</td>\n",
       "      <td>35.992908</td>\n",
       "    </tr>\n",
       "    <tr>\n",
       "      <th>124</th>\n",
       "      <td>White</td>\n",
       "      <td>2024</td>\n",
       "      <td>1</td>\n",
       "      <td>7252</td>\n",
       "      <td>5510.0</td>\n",
       "      <td>75.979040</td>\n",
       "    </tr>\n",
       "    <tr>\n",
       "      <th>125</th>\n",
       "      <td>White</td>\n",
       "      <td>2024</td>\n",
       "      <td>2</td>\n",
       "      <td>20470</td>\n",
       "      <td>19096.0</td>\n",
       "      <td>93.287738</td>\n",
       "    </tr>\n",
       "  </tbody>\n",
       "</table>\n",
       "<p>126 rows × 6 columns</p>\n",
       "</div>"
      ],
      "text/plain": [
       "    Category  Graduation Year  Cluster  # Total Cohort  # Grads     Grad %\n",
       "0      Asian             2018        0            1127    395.0  35.048802\n",
       "1      Asian             2018        1           11934   8875.0  74.367354\n",
       "2      Asian             2018        2           24496  22656.0  92.488570\n",
       "3      Asian             2019        0            1097    414.0  37.739289\n",
       "4      Asian             2019        1           11911   8982.0  75.409286\n",
       "..       ...              ...      ...             ...      ...        ...\n",
       "121    White             2023        1            7469   5680.0  76.047664\n",
       "122    White             2023        2           21191  19757.0  93.232976\n",
       "123    White             2024        0             564    203.0  35.992908\n",
       "124    White             2024        1            7252   5510.0  75.979040\n",
       "125    White             2024        2           20470  19096.0  93.287738\n",
       "\n",
       "[126 rows x 6 columns]"
      ]
     },
     "execution_count": 75,
     "metadata": {},
     "output_type": "execute_result"
    }
   ],
   "source": [
    "ethnicity_data_graduation_rate = filter_graduation_rate(ethnicity_data)\n",
    "ethnicity_data_graduation_rate"
   ]
  },
  {
   "cell_type": "code",
   "execution_count": 210,
   "metadata": {},
   "outputs": [
    {
     "data": {
      "application/vnd.plotly.v1+json": {
       "config": {
        "plotlyServerURL": "https://plot.ly"
       },
       "data": [
        {
         "line": {
          "color": "#636EFA"
         },
         "name": "Asian",
         "showlegend": false,
         "type": "scatter",
         "x": [
          2018,
          2019,
          2020,
          2021,
          2022,
          2023,
          2024
         ],
         "xaxis": "x",
         "y": [
          35.048802129547475,
          37.73928896991796,
          42.49341527655838,
          44.62571976967371,
          43.139534883720934,
          35.620437956204384,
          30.048465266558967
         ],
         "yaxis": "y"
        },
        {
         "line": {
          "color": "#EF553B"
         },
         "name": "Black",
         "showlegend": false,
         "type": "scatter",
         "x": [
          2018,
          2019,
          2020,
          2021,
          2022,
          2023,
          2024
         ],
         "xaxis": "x",
         "y": [
          38.235741444866925,
          37.47714808043875,
          40.258541089566016,
          44.948453608247426,
          46.58018867924528,
          46.75797132463086,
          47.62004613126442
         ],
         "yaxis": "y"
        },
        {
         "line": {
          "color": "#00CC96"
         },
         "name": "Hispanic",
         "showlegend": false,
         "type": "scatter",
         "x": [
          2018,
          2019,
          2020,
          2021,
          2022,
          2023,
          2024
         ],
         "xaxis": "x",
         "y": [
          32.11946554886036,
          32.877252993027234,
          36.407388137356925,
          40.74490513000703,
          42.32754575316753,
          39.906417112299465,
          41.01550142360013
         ],
         "yaxis": "y"
        },
        {
         "line": {
          "color": "#AB63FA"
         },
         "name": "Multi-Racial",
         "showlegend": false,
         "type": "scatter",
         "x": [
          2018,
          2019,
          2020,
          2021,
          2022,
          2023,
          2024
         ],
         "xaxis": "x",
         "y": [
          0,
          0,
          0,
          0,
          11.627906976744185,
          26.96629213483146,
          31.313131313131315
         ],
         "yaxis": "y"
        },
        {
         "line": {
          "color": "#FFA15A"
         },
         "name": "Native American",
         "showlegend": false,
         "type": "scatter",
         "x": [
          2018,
          2019,
          2020,
          2021,
          2022,
          2023,
          2024
         ],
         "xaxis": "x",
         "y": [
          11.904761904761903,
          12.080536912751679,
          17.100371747211895,
          16.666666666666664,
          12.903225806451612,
          10.945273631840797,
          10.555555555555555
         ],
         "yaxis": "y"
        },
        {
         "line": {
          "color": "#19D3F3"
         },
         "name": "White",
         "showlegend": false,
         "type": "scatter",
         "x": [
          2018,
          2019,
          2020,
          2021,
          2022,
          2023,
          2024
         ],
         "xaxis": "x",
         "y": [
          27.657004830917874,
          28.65928659286593,
          31.02189781021898,
          34.74903474903475,
          41.36429608127721,
          38.83495145631068,
          35.99290780141844
         ],
         "yaxis": "y"
        },
        {
         "line": {
          "color": "#636EFA"
         },
         "name": "Asian",
         "showlegend": false,
         "type": "scatter",
         "x": [
          2018,
          2019,
          2020,
          2021,
          2022,
          2023,
          2024
         ],
         "xaxis": "x2",
         "y": [
          74.36735377911849,
          75.40928553437999,
          77.66480540045004,
          78.93774416091763,
          80.50718512256974,
          81.34255564423162,
          81.3494710759554
         ],
         "yaxis": "y2"
        },
        {
         "line": {
          "color": "#EF553B"
         },
         "name": "Black",
         "showlegend": false,
         "type": "scatter",
         "x": [
          2018,
          2019,
          2020,
          2021,
          2022,
          2023,
          2024
         ],
         "xaxis": "x2",
         "y": [
          72.80058908096358,
          76.04936446940586,
          79.11397226877952,
          81.07675052074988,
          82.88432396026268,
          83.76304755107503,
          83.78556623327681
         ],
         "yaxis": "y2"
        },
        {
         "line": {
          "color": "#00CC96"
         },
         "name": "Hispanic",
         "showlegend": false,
         "type": "scatter",
         "x": [
          2018,
          2019,
          2020,
          2021,
          2022,
          2023,
          2024
         ],
         "xaxis": "x2",
         "y": [
          69.73659673659674,
          72.27140683358694,
          75.25796888286258,
          78.01990351224742,
          79.70561787117232,
          81.68892718655752,
          82.37476359051452
         ],
         "yaxis": "y2"
        },
        {
         "line": {
          "color": "#AB63FA"
         },
         "name": "Multi-Racial",
         "showlegend": false,
         "type": "scatter",
         "x": [
          2018,
          2019,
          2020,
          2021,
          2022,
          2023,
          2024
         ],
         "xaxis": "x2",
         "y": [
          12.804878048780488,
          15.316642120765833,
          16.15168539325843,
          12.808641975308642,
          13.73134328358209,
          14.243759177679882,
          14.198473282442748
         ],
         "yaxis": "y2"
        },
        {
         "line": {
          "color": "#FFA15A"
         },
         "name": "Native American",
         "showlegend": false,
         "type": "scatter",
         "x": [
          2018,
          2019,
          2020,
          2021,
          2022,
          2023,
          2024
         ],
         "xaxis": "x2",
         "y": [
          18.926174496644297,
          21.575342465753426,
          22.702104097452935,
          20,
          20.876826722338205,
          27.198364008179958,
          25.488069414316705
         ],
         "yaxis": "y2"
        },
        {
         "line": {
          "color": "#19D3F3"
         },
         "name": "White",
         "showlegend": false,
         "type": "scatter",
         "x": [
          2018,
          2019,
          2020,
          2021,
          2022,
          2023,
          2024
         ],
         "xaxis": "x2",
         "y": [
          70.01783893985728,
          72.07139265962795,
          73.00982800982801,
          73.94759716875699,
          74.76623542974254,
          76.04766367652965,
          75.97904026475454
         ],
         "yaxis": "y2"
        },
        {
         "line": {
          "color": "#636EFA"
         },
         "name": "Asian",
         "type": "scatter",
         "x": [
          2018,
          2019,
          2020,
          2021,
          2022,
          2023,
          2024
         ],
         "xaxis": "x3",
         "y": [
          92.48856956237753,
          92.744,
          93.63344815298728,
          94.0427557212549,
          94.40412081479748,
          94.40984236831987,
          94.70855412566237
         ],
         "yaxis": "y3"
        },
        {
         "line": {
          "color": "#EF553B"
         },
         "name": "Black",
         "type": "scatter",
         "x": [
          2018,
          2019,
          2020,
          2021,
          2022,
          2023,
          2024
         ],
         "xaxis": "x3",
         "y": [
          87.83980078854535,
          88.62100996453302,
          89.34334763948499,
          89.67807195003958,
          90.20398912058023,
          90.39913191168145,
          91.07889872555695
         ],
         "yaxis": "y3"
        },
        {
         "line": {
          "color": "#00CC96"
         },
         "name": "Hispanic",
         "type": "scatter",
         "x": [
          2018,
          2019,
          2020,
          2021,
          2022,
          2023,
          2024
         ],
         "xaxis": "x3",
         "y": [
          88.72550518174315,
          89.1823400097704,
          90.86838124054462,
          91.73340452037729,
          92.29359932532644,
          93.00793833410033,
          92.87169042769857
         ],
         "yaxis": "y3"
        },
        {
         "line": {
          "color": "#AB63FA"
         },
         "name": "Multi-Racial",
         "type": "scatter",
         "x": [
          2018,
          2019,
          2020,
          2021,
          2022,
          2023,
          2024
         ],
         "xaxis": "x3",
         "y": [
          41.84195565662308,
          37.58750673128702,
          39.86993496748374,
          44.24612494128699,
          52.13074058750517,
          50.84452143785189,
          46.47031323048154
         ],
         "yaxis": "y3"
        },
        {
         "line": {
          "color": "#FFA15A"
         },
         "name": "Native American",
         "type": "scatter",
         "x": [
          2018,
          2019,
          2020,
          2021,
          2022,
          2023,
          2024
         ],
         "xaxis": "x3",
         "y": [
          18.823529411764707,
          17.551020408163264,
          23.7125748502994,
          29.351184346035016,
          35.27272727272727,
          35.63025210084034,
          34.62532299741602
         ],
         "yaxis": "y3"
        },
        {
         "line": {
          "color": "#19D3F3"
         },
         "name": "White",
         "type": "scatter",
         "x": [
          2018,
          2019,
          2020,
          2021,
          2022,
          2023,
          2024
         ],
         "xaxis": "x3",
         "y": [
          90.78381548084441,
          91.00485833854442,
          91.61330107679902,
          92.3155929038282,
          92.87921348314607,
          93.23297626350809,
          93.28773815339521
         ],
         "yaxis": "y3"
        }
       ],
       "layout": {
        "annotations": [
         {
          "font": {
           "size": 16
          },
          "showarrow": false,
          "text": "Cluster 0",
          "x": 0.14444444444444446,
          "xanchor": "center",
          "xref": "paper",
          "y": 1,
          "yanchor": "bottom",
          "yref": "paper"
         },
         {
          "font": {
           "size": 16
          },
          "showarrow": false,
          "text": "Cluster 1",
          "x": 0.5,
          "xanchor": "center",
          "xref": "paper",
          "y": 1,
          "yanchor": "bottom",
          "yref": "paper"
         },
         {
          "font": {
           "size": 16
          },
          "showarrow": false,
          "text": "Cluster 2",
          "x": 0.8555555555555556,
          "xanchor": "center",
          "xref": "paper",
          "y": 1,
          "yanchor": "bottom",
          "yref": "paper"
         }
        ],
        "template": {
         "layout": {
          "plot_bgcolor": "white",
          "xaxis": {
           "gridcolor": "lightgray"
          },
          "yaxis": {
           "gridcolor": "lightgray"
          }
         }
        },
        "title": {
         "text": "Graduation Rate from 2018 to 2024 in Every Cluster per Ethnicity"
        },
        "xaxis": {
         "anchor": "y",
         "domain": [
          0,
          0.2888888888888889
         ],
         "title": {
          "text": "Year"
         }
        },
        "xaxis2": {
         "anchor": "y2",
         "domain": [
          0.35555555555555557,
          0.6444444444444445
         ],
         "title": {
          "text": "Year"
         }
        },
        "xaxis3": {
         "anchor": "y3",
         "domain": [
          0.7111111111111111,
          1
         ],
         "title": {
          "text": "Year"
         }
        },
        "yaxis": {
         "anchor": "x",
         "domain": [
          0,
          1
         ],
         "range": [
          0,
          94.70855412566237
         ],
         "title": {
          "text": "Graduation %"
         }
        },
        "yaxis2": {
         "anchor": "x2",
         "domain": [
          0,
          1
         ],
         "range": [
          0,
          94.70855412566237
         ],
         "title": {
          "text": "Graduation %"
         }
        },
        "yaxis3": {
         "anchor": "x3",
         "domain": [
          0,
          1
         ],
         "range": [
          0,
          94.70855412566237
         ],
         "title": {
          "text": "Graduation %"
         }
        }
       }
      }
     },
     "metadata": {},
     "output_type": "display_data"
    }
   ],
   "source": [
    "fig = make_subplots(rows=1, cols=len(ethnicity_data_graduation_rate['Cluster'].unique()), subplot_titles=('Cluster 0', 'Cluster 1', 'Cluster 2'))\n",
    "\n",
    "for cluster in ethnicity_data_graduation_rate['Cluster'].unique():\n",
    "    cluster_row = ethnicity_data_graduation_rate[ethnicity_data_graduation_rate['Cluster'] == cluster]\n",
    "    cluster_index = ethnicity_data_graduation_rate['Cluster'].unique().tolist().index(cluster)\n",
    "    for ethnicity in cluster_row['Category'].unique():\n",
    "        ethnicity_row = cluster_row[cluster_row['Category'] == ethnicity]\n",
    "        ethnicity_index = cluster_row['Category'].unique().tolist().index(ethnicity)\n",
    "        fig.add_trace(go.Scatter(x=ethnicity_row['Graduation Year'], y=ethnicity_row['Grad %'], name=ethnicity, line=dict(color=colors2[ethnicity_index])), row=1, col=cluster_index+1)\n",
    "        fig.update_yaxes(range=[0,ethnicity_data_graduation_rate['Grad %'].max()], title_text='Graduation %')\n",
    "        fig.update_xaxes(title_text='Year')\n",
    "\n",
    "fig.update_layout(title_text='Graduation Rate from 2018 to 2024 in Every Cluster per Ethnicity')\n",
    "\n",
    "for i in range(len(fig.data) - len(ethnicity_data_graduation_rate['Category'].unique())):\n",
    "    fig.data[i].showlegend = False\n",
    "fig.show()"
   ]
  },
  {
   "cell_type": "markdown",
   "metadata": {},
   "source": [
    "### Diploma Type"
   ]
  },
  {
   "cell_type": "code",
   "execution_count": 77,
   "metadata": {},
   "outputs": [],
   "source": [
    "def filter_diploma_type(df):\n",
    "    df_diploma_type = df.groupby(['Category','Cluster'])[['# Advanced Regents', '# Regents without Advanced', '# Local', '# Grads']].sum().reset_index()\n",
    "    df_diploma_type['Advanced Regents %'] = df_diploma_type['# Advanced Regents'] / df_diploma_type['# Grads'] * 100\n",
    "    df_diploma_type['Regents without Advanced %'] = df_diploma_type['# Regents without Advanced'] / df_diploma_type['# Grads'] * 100\n",
    "    df_diploma_type['Local %'] = df_diploma_type['# Local'] / df_diploma_type['# Grads'] * 100\n",
    "    return df_diploma_type"
   ]
  },
  {
   "cell_type": "code",
   "execution_count": 78,
   "metadata": {},
   "outputs": [
    {
     "data": {
      "text/html": [
       "<div>\n",
       "<style scoped>\n",
       "    .dataframe tbody tr th:only-of-type {\n",
       "        vertical-align: middle;\n",
       "    }\n",
       "\n",
       "    .dataframe tbody tr th {\n",
       "        vertical-align: top;\n",
       "    }\n",
       "\n",
       "    .dataframe thead th {\n",
       "        text-align: right;\n",
       "    }\n",
       "</style>\n",
       "<table border=\"1\" class=\"dataframe\">\n",
       "  <thead>\n",
       "    <tr style=\"text-align: right;\">\n",
       "      <th></th>\n",
       "      <th>Category</th>\n",
       "      <th>Cluster</th>\n",
       "      <th># Advanced Regents</th>\n",
       "      <th># Regents without Advanced</th>\n",
       "      <th># Local</th>\n",
       "      <th># Grads</th>\n",
       "      <th>Advanced Regents %</th>\n",
       "      <th>Regents without Advanced %</th>\n",
       "      <th>Local %</th>\n",
       "    </tr>\n",
       "  </thead>\n",
       "  <tbody>\n",
       "    <tr>\n",
       "      <th>0</th>\n",
       "      <td>Asian</td>\n",
       "      <td>0</td>\n",
       "      <td>803.0</td>\n",
       "      <td>1727.0</td>\n",
       "      <td>29.0</td>\n",
       "      <td>2559.0</td>\n",
       "      <td>31.379445</td>\n",
       "      <td>67.487300</td>\n",
       "      <td>1.133255</td>\n",
       "    </tr>\n",
       "    <tr>\n",
       "      <th>1</th>\n",
       "      <td>Asian</td>\n",
       "      <td>1</td>\n",
       "      <td>24660.0</td>\n",
       "      <td>37896.0</td>\n",
       "      <td>1352.0</td>\n",
       "      <td>63906.0</td>\n",
       "      <td>38.587926</td>\n",
       "      <td>59.299596</td>\n",
       "      <td>2.115607</td>\n",
       "    </tr>\n",
       "    <tr>\n",
       "      <th>2</th>\n",
       "      <td>Asian</td>\n",
       "      <td>2</td>\n",
       "      <td>119629.0</td>\n",
       "      <td>46187.0</td>\n",
       "      <td>1207.0</td>\n",
       "      <td>166972.0</td>\n",
       "      <td>71.646144</td>\n",
       "      <td>27.661524</td>\n",
       "      <td>0.722876</td>\n",
       "    </tr>\n",
       "    <tr>\n",
       "      <th>3</th>\n",
       "      <td>Black</td>\n",
       "      <td>0</td>\n",
       "      <td>134.0</td>\n",
       "      <td>14540.0</td>\n",
       "      <td>2364.0</td>\n",
       "      <td>17032.0</td>\n",
       "      <td>0.786754</td>\n",
       "      <td>85.368718</td>\n",
       "      <td>13.879756</td>\n",
       "    </tr>\n",
       "    <tr>\n",
       "      <th>4</th>\n",
       "      <td>Black</td>\n",
       "      <td>1</td>\n",
       "      <td>14295.0</td>\n",
       "      <td>113722.0</td>\n",
       "      <td>10617.0</td>\n",
       "      <td>138607.0</td>\n",
       "      <td>10.313332</td>\n",
       "      <td>82.046361</td>\n",
       "      <td>7.659786</td>\n",
       "    </tr>\n",
       "    <tr>\n",
       "      <th>5</th>\n",
       "      <td>Black</td>\n",
       "      <td>2</td>\n",
       "      <td>33696.0</td>\n",
       "      <td>101313.0</td>\n",
       "      <td>6153.0</td>\n",
       "      <td>141146.0</td>\n",
       "      <td>23.873153</td>\n",
       "      <td>71.778867</td>\n",
       "      <td>4.359316</td>\n",
       "    </tr>\n",
       "    <tr>\n",
       "      <th>6</th>\n",
       "      <td>Hispanic</td>\n",
       "      <td>0</td>\n",
       "      <td>299.0</td>\n",
       "      <td>15786.0</td>\n",
       "      <td>2252.0</td>\n",
       "      <td>18336.0</td>\n",
       "      <td>1.630672</td>\n",
       "      <td>86.092932</td>\n",
       "      <td>12.281850</td>\n",
       "    </tr>\n",
       "    <tr>\n",
       "      <th>7</th>\n",
       "      <td>Hispanic</td>\n",
       "      <td>1</td>\n",
       "      <td>33557.0</td>\n",
       "      <td>179668.0</td>\n",
       "      <td>16071.0</td>\n",
       "      <td>229270.0</td>\n",
       "      <td>14.636455</td>\n",
       "      <td>78.365246</td>\n",
       "      <td>7.009639</td>\n",
       "    </tr>\n",
       "    <tr>\n",
       "      <th>8</th>\n",
       "      <td>Hispanic</td>\n",
       "      <td>2</td>\n",
       "      <td>76235.0</td>\n",
       "      <td>132036.0</td>\n",
       "      <td>7423.0</td>\n",
       "      <td>215641.0</td>\n",
       "      <td>35.352739</td>\n",
       "      <td>61.229544</td>\n",
       "      <td>3.442295</td>\n",
       "    </tr>\n",
       "    <tr>\n",
       "      <th>9</th>\n",
       "      <td>Multi-Racial</td>\n",
       "      <td>0</td>\n",
       "      <td>0.0</td>\n",
       "      <td>65.0</td>\n",
       "      <td>0.0</td>\n",
       "      <td>65.0</td>\n",
       "      <td>0.000000</td>\n",
       "      <td>100.000000</td>\n",
       "      <td>0.000000</td>\n",
       "    </tr>\n",
       "    <tr>\n",
       "      <th>10</th>\n",
       "      <td>Multi-Racial</td>\n",
       "      <td>1</td>\n",
       "      <td>211.0</td>\n",
       "      <td>448.0</td>\n",
       "      <td>9.0</td>\n",
       "      <td>668.0</td>\n",
       "      <td>31.586826</td>\n",
       "      <td>67.065868</td>\n",
       "      <td>1.347305</td>\n",
       "    </tr>\n",
       "    <tr>\n",
       "      <th>11</th>\n",
       "      <td>Multi-Racial</td>\n",
       "      <td>2</td>\n",
       "      <td>3942.0</td>\n",
       "      <td>2604.0</td>\n",
       "      <td>56.0</td>\n",
       "      <td>6601.0</td>\n",
       "      <td>59.718225</td>\n",
       "      <td>39.448568</td>\n",
       "      <td>0.848356</td>\n",
       "    </tr>\n",
       "    <tr>\n",
       "      <th>12</th>\n",
       "      <td>Native American</td>\n",
       "      <td>0</td>\n",
       "      <td>0.0</td>\n",
       "      <td>199.0</td>\n",
       "      <td>24.0</td>\n",
       "      <td>223.0</td>\n",
       "      <td>0.000000</td>\n",
       "      <td>89.237668</td>\n",
       "      <td>10.762332</td>\n",
       "    </tr>\n",
       "    <tr>\n",
       "      <th>13</th>\n",
       "      <td>Native American</td>\n",
       "      <td>1</td>\n",
       "      <td>334.0</td>\n",
       "      <td>1039.0</td>\n",
       "      <td>54.0</td>\n",
       "      <td>1427.0</td>\n",
       "      <td>23.405746</td>\n",
       "      <td>72.810091</td>\n",
       "      <td>3.784163</td>\n",
       "    </tr>\n",
       "    <tr>\n",
       "      <th>14</th>\n",
       "      <td>Native American</td>\n",
       "      <td>2</td>\n",
       "      <td>1042.0</td>\n",
       "      <td>892.0</td>\n",
       "      <td>20.0</td>\n",
       "      <td>1954.0</td>\n",
       "      <td>53.326510</td>\n",
       "      <td>45.649949</td>\n",
       "      <td>1.023541</td>\n",
       "    </tr>\n",
       "    <tr>\n",
       "      <th>15</th>\n",
       "      <td>White</td>\n",
       "      <td>0</td>\n",
       "      <td>35.0</td>\n",
       "      <td>1597.0</td>\n",
       "      <td>83.0</td>\n",
       "      <td>1715.0</td>\n",
       "      <td>2.040816</td>\n",
       "      <td>93.119534</td>\n",
       "      <td>4.839650</td>\n",
       "    </tr>\n",
       "    <tr>\n",
       "      <th>16</th>\n",
       "      <td>White</td>\n",
       "      <td>1</td>\n",
       "      <td>12728.0</td>\n",
       "      <td>25933.0</td>\n",
       "      <td>1493.0</td>\n",
       "      <td>40154.0</td>\n",
       "      <td>31.697963</td>\n",
       "      <td>64.583852</td>\n",
       "      <td>3.718185</td>\n",
       "    </tr>\n",
       "    <tr>\n",
       "      <th>17</th>\n",
       "      <td>White</td>\n",
       "      <td>2</td>\n",
       "      <td>75840.0</td>\n",
       "      <td>56786.0</td>\n",
       "      <td>2651.0</td>\n",
       "      <td>135276.0</td>\n",
       "      <td>56.063160</td>\n",
       "      <td>41.977882</td>\n",
       "      <td>1.959697</td>\n",
       "    </tr>\n",
       "  </tbody>\n",
       "</table>\n",
       "</div>"
      ],
      "text/plain": [
       "           Category  Cluster  # Advanced Regents  # Regents without Advanced  \\\n",
       "0             Asian        0               803.0                      1727.0   \n",
       "1             Asian        1             24660.0                     37896.0   \n",
       "2             Asian        2            119629.0                     46187.0   \n",
       "3             Black        0               134.0                     14540.0   \n",
       "4             Black        1             14295.0                    113722.0   \n",
       "5             Black        2             33696.0                    101313.0   \n",
       "6          Hispanic        0               299.0                     15786.0   \n",
       "7          Hispanic        1             33557.0                    179668.0   \n",
       "8          Hispanic        2             76235.0                    132036.0   \n",
       "9      Multi-Racial        0                 0.0                        65.0   \n",
       "10     Multi-Racial        1               211.0                       448.0   \n",
       "11     Multi-Racial        2              3942.0                      2604.0   \n",
       "12  Native American        0                 0.0                       199.0   \n",
       "13  Native American        1               334.0                      1039.0   \n",
       "14  Native American        2              1042.0                       892.0   \n",
       "15            White        0                35.0                      1597.0   \n",
       "16            White        1             12728.0                     25933.0   \n",
       "17            White        2             75840.0                     56786.0   \n",
       "\n",
       "    # Local   # Grads  Advanced Regents %  Regents without Advanced %  \\\n",
       "0      29.0    2559.0           31.379445                   67.487300   \n",
       "1    1352.0   63906.0           38.587926                   59.299596   \n",
       "2    1207.0  166972.0           71.646144                   27.661524   \n",
       "3    2364.0   17032.0            0.786754                   85.368718   \n",
       "4   10617.0  138607.0           10.313332                   82.046361   \n",
       "5    6153.0  141146.0           23.873153                   71.778867   \n",
       "6    2252.0   18336.0            1.630672                   86.092932   \n",
       "7   16071.0  229270.0           14.636455                   78.365246   \n",
       "8    7423.0  215641.0           35.352739                   61.229544   \n",
       "9       0.0      65.0            0.000000                  100.000000   \n",
       "10      9.0     668.0           31.586826                   67.065868   \n",
       "11     56.0    6601.0           59.718225                   39.448568   \n",
       "12     24.0     223.0            0.000000                   89.237668   \n",
       "13     54.0    1427.0           23.405746                   72.810091   \n",
       "14     20.0    1954.0           53.326510                   45.649949   \n",
       "15     83.0    1715.0            2.040816                   93.119534   \n",
       "16   1493.0   40154.0           31.697963                   64.583852   \n",
       "17   2651.0  135276.0           56.063160                   41.977882   \n",
       "\n",
       "      Local %  \n",
       "0    1.133255  \n",
       "1    2.115607  \n",
       "2    0.722876  \n",
       "3   13.879756  \n",
       "4    7.659786  \n",
       "5    4.359316  \n",
       "6   12.281850  \n",
       "7    7.009639  \n",
       "8    3.442295  \n",
       "9    0.000000  \n",
       "10   1.347305  \n",
       "11   0.848356  \n",
       "12  10.762332  \n",
       "13   3.784163  \n",
       "14   1.023541  \n",
       "15   4.839650  \n",
       "16   3.718185  \n",
       "17   1.959697  "
      ]
     },
     "execution_count": 78,
     "metadata": {},
     "output_type": "execute_result"
    }
   ],
   "source": [
    "ethnicity_data_diploma_type = filter_diploma_type(ethnicity_data)\n",
    "ethnicity_data_diploma_type"
   ]
  },
  {
   "cell_type": "code",
   "execution_count": 211,
   "metadata": {},
   "outputs": [
    {
     "data": {
      "application/vnd.plotly.v1+json": {
       "config": {
        "plotlyServerURL": "https://plot.ly"
       },
       "data": [
        {
         "marker": {
          "color": "#1f77b4"
         },
         "name": "Advanced Regents Diploma",
         "showlegend": false,
         "type": "bar",
         "x": [
          "Asian",
          "Black",
          "Hispanic",
          "Multi-Racial",
          "Native American",
          "White"
         ],
         "xaxis": "x",
         "y": [
          31.37944509574052,
          0.7867543447627995,
          1.630671902268761,
          0,
          0,
          2.0408163265306123
         ],
         "yaxis": "y"
        },
        {
         "marker": {
          "color": "#ff7f0e"
         },
         "name": "Regular Diploma",
         "showlegend": false,
         "type": "bar",
         "x": [
          "Asian",
          "Black",
          "Hispanic",
          "Multi-Racial",
          "Native American",
          "White"
         ],
         "xaxis": "x",
         "y": [
          67.48729972645565,
          85.36871770784406,
          86.09293193717278,
          100,
          89.23766816143498,
          93.1195335276968
         ],
         "yaxis": "y"
        },
        {
         "marker": {
          "color": "#2ca02c"
         },
         "name": "Local Diploma",
         "showlegend": false,
         "type": "bar",
         "x": [
          "Asian",
          "Black",
          "Hispanic",
          "Multi-Racial",
          "Native American",
          "White"
         ],
         "xaxis": "x",
         "y": [
          1.1332551778038296,
          13.87975575387506,
          12.281849912739965,
          0,
          10.762331838565023,
          4.839650145772595
         ],
         "yaxis": "y"
        },
        {
         "marker": {
          "color": "#1f77b4"
         },
         "name": "Advanced Regents Diploma",
         "showlegend": false,
         "type": "bar",
         "x": [
          "Asian",
          "Black",
          "Hispanic",
          "Multi-Racial",
          "Native American",
          "White"
         ],
         "xaxis": "x2",
         "y": [
          38.587926016336496,
          10.313331938502385,
          14.636454834910802,
          31.58682634730539,
          23.405746320953046,
          31.69796284305424
         ],
         "yaxis": "y2"
        },
        {
         "marker": {
          "color": "#ff7f0e"
         },
         "name": "Regular Diploma",
         "showlegend": false,
         "type": "bar",
         "x": [
          "Asian",
          "Black",
          "Hispanic",
          "Multi-Racial",
          "Native American",
          "White"
         ],
         "xaxis": "x2",
         "y": [
          59.299596282039246,
          82.0463612948841,
          78.36524621625158,
          67.06586826347305,
          72.81009110021023,
          64.58385216914878
         ],
         "yaxis": "y2"
        },
        {
         "marker": {
          "color": "#2ca02c"
         },
         "name": "Local Diploma",
         "showlegend": false,
         "type": "bar",
         "x": [
          "Asian",
          "Black",
          "Hispanic",
          "Multi-Racial",
          "Native American",
          "White"
         ],
         "xaxis": "x2",
         "y": [
          2.1156072982192597,
          7.659786302279106,
          7.009639289920182,
          1.347305389221557,
          3.78416257883672,
          3.718184987796982
         ],
         "yaxis": "y2"
        },
        {
         "marker": {
          "color": "#1f77b4"
         },
         "name": "Advanced Regents Diploma",
         "type": "bar",
         "x": [
          "Asian",
          "Black",
          "Hispanic",
          "Multi-Racial",
          "Native American",
          "White"
         ],
         "xaxis": "x3",
         "y": [
          71.64614426370889,
          23.873152622107604,
          35.35273904313187,
          59.718224511437654,
          53.32650972364381,
          56.063159762263815
         ],
         "yaxis": "y3"
        },
        {
         "marker": {
          "color": "#ff7f0e"
         },
         "name": "Regular Diploma",
         "type": "bar",
         "x": [
          "Asian",
          "Black",
          "Hispanic",
          "Multi-Racial",
          "Native American",
          "White"
         ],
         "xaxis": "x3",
         "y": [
          27.66152408787102,
          71.77886727218625,
          61.229543546913625,
          39.44856839872747,
          45.64994882292733,
          41.977882255536834
         ],
         "yaxis": "y3"
        },
        {
         "marker": {
          "color": "#2ca02c"
         },
         "name": "Local Diploma",
         "type": "bar",
         "x": [
          "Asian",
          "Black",
          "Hispanic",
          "Multi-Racial",
          "Native American",
          "White"
         ],
         "xaxis": "x3",
         "y": [
          0.7228756917327457,
          4.359315885678659,
          3.4422952963490245,
          0.8483563096500532,
          1.023541453428864,
          1.9596972116266005
         ],
         "yaxis": "y3"
        }
       ],
       "layout": {
        "annotations": [
         {
          "font": {
           "size": 16
          },
          "showarrow": false,
          "text": "Cluster 0",
          "x": 0.5,
          "xanchor": "center",
          "xref": "paper",
          "y": 1,
          "yanchor": "bottom",
          "yref": "paper"
         },
         {
          "font": {
           "size": 16
          },
          "showarrow": false,
          "text": "Cluster 1",
          "x": 0.5,
          "xanchor": "center",
          "xref": "paper",
          "y": 0.6111111111111112,
          "yanchor": "bottom",
          "yref": "paper"
         },
         {
          "font": {
           "size": 16
          },
          "showarrow": false,
          "text": "Cluster 2",
          "x": 0.5,
          "xanchor": "center",
          "xref": "paper",
          "y": 0.22222222222222224,
          "yanchor": "bottom",
          "yref": "paper"
         }
        ],
        "height": 900,
        "template": {
         "layout": {
          "plot_bgcolor": "white",
          "xaxis": {
           "gridcolor": "lightgray"
          },
          "yaxis": {
           "gridcolor": "lightgray"
          }
         }
        },
        "title": {
         "text": "Distribution of Graduates in Every Cluster per Ethnicity by Type of Diploma"
        },
        "width": 1200,
        "xaxis": {
         "anchor": "y",
         "domain": [
          0,
          1
         ]
        },
        "xaxis2": {
         "anchor": "y2",
         "domain": [
          0,
          1
         ]
        },
        "xaxis3": {
         "anchor": "y3",
         "domain": [
          0,
          1
         ]
        },
        "yaxis": {
         "anchor": "x",
         "domain": [
          0.7777777777777778,
          1
         ],
         "range": [
          0,
          100
         ]
        },
        "yaxis2": {
         "anchor": "x2",
         "domain": [
          0.3888888888888889,
          0.6111111111111112
         ],
         "range": [
          0,
          100
         ]
        },
        "yaxis3": {
         "anchor": "x3",
         "domain": [
          0,
          0.22222222222222224
         ],
         "range": [
          0,
          100
         ]
        }
       }
      }
     },
     "metadata": {},
     "output_type": "display_data"
    }
   ],
   "source": [
    "fig = make_subplots(rows=len(ethnicity_data_diploma_type['Cluster'].unique()), cols=1, subplot_titles=('Cluster 0', 'Cluster 1', 'Cluster 2'))\n",
    "\n",
    "for cluster in ethnicity_data_diploma_type['Cluster'].unique():\n",
    "    cluster_row = ethnicity_data_diploma_type[ethnicity_data_diploma_type['Cluster'] == cluster]\n",
    "    cluster_index = ethnicity_data_diploma_type['Cluster'].unique().tolist().index(cluster)\n",
    "    fig.add_trace(go.Bar(x=cluster_row['Category'], y=cluster_row['Advanced Regents %'], name='Advanced Regents Diploma', marker=dict(color=colors[0])), row=cluster_index+1, col=1)\n",
    "    fig.add_trace(go.Bar(x=cluster_row['Category'], y=cluster_row['Regents without Advanced %'], name='Regular Diploma', marker=dict(color=colors[1])), row=cluster_index+1, col=1)\n",
    "    fig.add_trace(go.Bar(x=cluster_row['Category'], y=cluster_row['Local %'], name='Local Diploma', marker=dict(color=colors[2])), row=cluster_index+1, col=1)\n",
    "    fig.update_yaxes(range=[0, max(ethnicity_data_diploma_type[['Advanced Regents %', 'Regents without Advanced %', 'Local %']].max(axis=1))])\n",
    "\n",
    "fig.update_layout(\n",
    "    width=1200,\n",
    "    height=900,\n",
    "    title_text = \"Distribution of Graduates in Every Cluster per Ethnicity by Type of Diploma\",\n",
    ")\n",
    "\n",
    "for i in range(len(fig.data) - 3):\n",
    "    fig.data[i].showlegend = False\n",
    "fig.show()"
   ]
  },
  {
   "cell_type": "markdown",
   "metadata": {},
   "source": [
    "### Dropouts"
   ]
  },
  {
   "cell_type": "code",
   "execution_count": 80,
   "metadata": {},
   "outputs": [],
   "source": [
    "def filter_dropout(df):\n",
    "    df_dropout = df.groupby(['Category', 'Cluster'])[['# Dropout', '# Total Cohort', '# Grads']].sum().reset_index()\n",
    "    df_dropout['# No Grads'] = df_dropout['# Total Cohort'] - df_dropout['# Grads']\n",
    "    df_dropout['Dropout %'] = df_dropout['# Dropout'] / df_dropout['# No Grads'] * 100\n",
    "    return df_dropout"
   ]
  },
  {
   "cell_type": "code",
   "execution_count": 81,
   "metadata": {},
   "outputs": [
    {
     "data": {
      "text/html": [
       "<div>\n",
       "<style scoped>\n",
       "    .dataframe tbody tr th:only-of-type {\n",
       "        vertical-align: middle;\n",
       "    }\n",
       "\n",
       "    .dataframe tbody tr th {\n",
       "        vertical-align: top;\n",
       "    }\n",
       "\n",
       "    .dataframe thead th {\n",
       "        text-align: right;\n",
       "    }\n",
       "</style>\n",
       "<table border=\"1\" class=\"dataframe\">\n",
       "  <thead>\n",
       "    <tr style=\"text-align: right;\">\n",
       "      <th></th>\n",
       "      <th>Category</th>\n",
       "      <th>Cluster</th>\n",
       "      <th># Dropout</th>\n",
       "      <th># Total Cohort</th>\n",
       "      <th># Grads</th>\n",
       "      <th># No Grads</th>\n",
       "      <th>Dropout %</th>\n",
       "    </tr>\n",
       "  </thead>\n",
       "  <tbody>\n",
       "    <tr>\n",
       "      <th>0</th>\n",
       "      <td>Asian</td>\n",
       "      <td>0</td>\n",
       "      <td>1180.0</td>\n",
       "      <td>6569</td>\n",
       "      <td>2559.0</td>\n",
       "      <td>4010.0</td>\n",
       "      <td>29.426434</td>\n",
       "    </tr>\n",
       "    <tr>\n",
       "      <th>1</th>\n",
       "      <td>Asian</td>\n",
       "      <td>1</td>\n",
       "      <td>6991.0</td>\n",
       "      <td>81475</td>\n",
       "      <td>63906.0</td>\n",
       "      <td>17569.0</td>\n",
       "      <td>39.791679</td>\n",
       "    </tr>\n",
       "    <tr>\n",
       "      <th>2</th>\n",
       "      <td>Asian</td>\n",
       "      <td>2</td>\n",
       "      <td>2126.0</td>\n",
       "      <td>178022</td>\n",
       "      <td>166972.0</td>\n",
       "      <td>11050.0</td>\n",
       "      <td>19.239819</td>\n",
       "    </tr>\n",
       "    <tr>\n",
       "      <th>3</th>\n",
       "      <td>Black</td>\n",
       "      <td>0</td>\n",
       "      <td>8179.0</td>\n",
       "      <td>39987</td>\n",
       "      <td>17032.0</td>\n",
       "      <td>22955.0</td>\n",
       "      <td>35.630582</td>\n",
       "    </tr>\n",
       "    <tr>\n",
       "      <th>4</th>\n",
       "      <td>Black</td>\n",
       "      <td>1</td>\n",
       "      <td>17781.0</td>\n",
       "      <td>174201</td>\n",
       "      <td>138607.0</td>\n",
       "      <td>35594.0</td>\n",
       "      <td>49.955049</td>\n",
       "    </tr>\n",
       "    <tr>\n",
       "      <th>5</th>\n",
       "      <td>Black</td>\n",
       "      <td>2</td>\n",
       "      <td>5181.0</td>\n",
       "      <td>157631</td>\n",
       "      <td>141146.0</td>\n",
       "      <td>16485.0</td>\n",
       "      <td>31.428571</td>\n",
       "    </tr>\n",
       "    <tr>\n",
       "      <th>6</th>\n",
       "      <td>Hispanic</td>\n",
       "      <td>0</td>\n",
       "      <td>14081.0</td>\n",
       "      <td>48737</td>\n",
       "      <td>18336.0</td>\n",
       "      <td>30401.0</td>\n",
       "      <td>46.317555</td>\n",
       "    </tr>\n",
       "    <tr>\n",
       "      <th>7</th>\n",
       "      <td>Hispanic</td>\n",
       "      <td>1</td>\n",
       "      <td>41354.0</td>\n",
       "      <td>297972</td>\n",
       "      <td>229270.0</td>\n",
       "      <td>68702.0</td>\n",
       "      <td>60.193299</td>\n",
       "    </tr>\n",
       "    <tr>\n",
       "      <th>8</th>\n",
       "      <td>Hispanic</td>\n",
       "      <td>2</td>\n",
       "      <td>9029.0</td>\n",
       "      <td>236243</td>\n",
       "      <td>215641.0</td>\n",
       "      <td>20602.0</td>\n",
       "      <td>43.825842</td>\n",
       "    </tr>\n",
       "    <tr>\n",
       "      <th>9</th>\n",
       "      <td>Multi-Racial</td>\n",
       "      <td>0</td>\n",
       "      <td>4.0</td>\n",
       "      <td>582</td>\n",
       "      <td>65.0</td>\n",
       "      <td>517.0</td>\n",
       "      <td>0.773694</td>\n",
       "    </tr>\n",
       "    <tr>\n",
       "      <th>10</th>\n",
       "      <td>Multi-Racial</td>\n",
       "      <td>1</td>\n",
       "      <td>47.0</td>\n",
       "      <td>4701</td>\n",
       "      <td>668.0</td>\n",
       "      <td>4033.0</td>\n",
       "      <td>1.165386</td>\n",
       "    </tr>\n",
       "    <tr>\n",
       "      <th>11</th>\n",
       "      <td>Multi-Racial</td>\n",
       "      <td>2</td>\n",
       "      <td>55.0</td>\n",
       "      <td>14609</td>\n",
       "      <td>6601.0</td>\n",
       "      <td>8008.0</td>\n",
       "      <td>0.686813</td>\n",
       "    </tr>\n",
       "    <tr>\n",
       "      <th>12</th>\n",
       "      <td>Native American</td>\n",
       "      <td>0</td>\n",
       "      <td>245.0</td>\n",
       "      <td>1681</td>\n",
       "      <td>223.0</td>\n",
       "      <td>1458.0</td>\n",
       "      <td>16.803841</td>\n",
       "    </tr>\n",
       "    <tr>\n",
       "      <th>13</th>\n",
       "      <td>Native American</td>\n",
       "      <td>1</td>\n",
       "      <td>301.0</td>\n",
       "      <td>6337</td>\n",
       "      <td>1427.0</td>\n",
       "      <td>4910.0</td>\n",
       "      <td>6.130346</td>\n",
       "    </tr>\n",
       "    <tr>\n",
       "      <th>14</th>\n",
       "      <td>Native American</td>\n",
       "      <td>2</td>\n",
       "      <td>32.0</td>\n",
       "      <td>6672</td>\n",
       "      <td>1954.0</td>\n",
       "      <td>4718.0</td>\n",
       "      <td>0.678253</td>\n",
       "    </tr>\n",
       "    <tr>\n",
       "      <th>15</th>\n",
       "      <td>White</td>\n",
       "      <td>0</td>\n",
       "      <td>656.0</td>\n",
       "      <td>5111</td>\n",
       "      <td>1715.0</td>\n",
       "      <td>3396.0</td>\n",
       "      <td>19.316843</td>\n",
       "    </tr>\n",
       "    <tr>\n",
       "      <th>16</th>\n",
       "      <td>White</td>\n",
       "      <td>1</td>\n",
       "      <td>3582.0</td>\n",
       "      <td>54525</td>\n",
       "      <td>40154.0</td>\n",
       "      <td>14371.0</td>\n",
       "      <td>24.925197</td>\n",
       "    </tr>\n",
       "    <tr>\n",
       "      <th>17</th>\n",
       "      <td>White</td>\n",
       "      <td>2</td>\n",
       "      <td>2791.0</td>\n",
       "      <td>146775</td>\n",
       "      <td>135276.0</td>\n",
       "      <td>11499.0</td>\n",
       "      <td>24.271676</td>\n",
       "    </tr>\n",
       "  </tbody>\n",
       "</table>\n",
       "</div>"
      ],
      "text/plain": [
       "           Category  Cluster  # Dropout  # Total Cohort   # Grads  # No Grads  \\\n",
       "0             Asian        0     1180.0            6569    2559.0      4010.0   \n",
       "1             Asian        1     6991.0           81475   63906.0     17569.0   \n",
       "2             Asian        2     2126.0          178022  166972.0     11050.0   \n",
       "3             Black        0     8179.0           39987   17032.0     22955.0   \n",
       "4             Black        1    17781.0          174201  138607.0     35594.0   \n",
       "5             Black        2     5181.0          157631  141146.0     16485.0   \n",
       "6          Hispanic        0    14081.0           48737   18336.0     30401.0   \n",
       "7          Hispanic        1    41354.0          297972  229270.0     68702.0   \n",
       "8          Hispanic        2     9029.0          236243  215641.0     20602.0   \n",
       "9      Multi-Racial        0        4.0             582      65.0       517.0   \n",
       "10     Multi-Racial        1       47.0            4701     668.0      4033.0   \n",
       "11     Multi-Racial        2       55.0           14609    6601.0      8008.0   \n",
       "12  Native American        0      245.0            1681     223.0      1458.0   \n",
       "13  Native American        1      301.0            6337    1427.0      4910.0   \n",
       "14  Native American        2       32.0            6672    1954.0      4718.0   \n",
       "15            White        0      656.0            5111    1715.0      3396.0   \n",
       "16            White        1     3582.0           54525   40154.0     14371.0   \n",
       "17            White        2     2791.0          146775  135276.0     11499.0   \n",
       "\n",
       "    Dropout %  \n",
       "0   29.426434  \n",
       "1   39.791679  \n",
       "2   19.239819  \n",
       "3   35.630582  \n",
       "4   49.955049  \n",
       "5   31.428571  \n",
       "6   46.317555  \n",
       "7   60.193299  \n",
       "8   43.825842  \n",
       "9    0.773694  \n",
       "10   1.165386  \n",
       "11   0.686813  \n",
       "12  16.803841  \n",
       "13   6.130346  \n",
       "14   0.678253  \n",
       "15  19.316843  \n",
       "16  24.925197  \n",
       "17  24.271676  "
      ]
     },
     "execution_count": 81,
     "metadata": {},
     "output_type": "execute_result"
    }
   ],
   "source": [
    "ethnicity_data_dropout = filter_dropout(ethnicity_data)\n",
    "ethnicity_data_dropout"
   ]
  },
  {
   "cell_type": "code",
   "execution_count": 212,
   "metadata": {},
   "outputs": [
    {
     "data": {
      "application/vnd.plotly.v1+json": {
       "config": {
        "plotlyServerURL": "https://plot.ly"
       },
       "data": [
        {
         "marker": {
          "color": "#636EFA"
         },
         "name": "Asian",
         "showlegend": false,
         "type": "bar",
         "x": [
          "Asian"
         ],
         "xaxis": "x",
         "y": [
          29.42643391521197
         ],
         "yaxis": "y"
        },
        {
         "marker": {
          "color": "#EF553B"
         },
         "name": "Black",
         "showlegend": false,
         "type": "bar",
         "x": [
          "Black"
         ],
         "xaxis": "x",
         "y": [
          35.63058157264213
         ],
         "yaxis": "y"
        },
        {
         "marker": {
          "color": "#00CC96"
         },
         "name": "Hispanic",
         "showlegend": false,
         "type": "bar",
         "x": [
          "Hispanic"
         ],
         "xaxis": "x",
         "y": [
          46.31755534357423
         ],
         "yaxis": "y"
        },
        {
         "marker": {
          "color": "#AB63FA"
         },
         "name": "Multi-Racial",
         "showlegend": false,
         "type": "bar",
         "x": [
          "Multi-Racial"
         ],
         "xaxis": "x",
         "y": [
          0.7736943907156674
         ],
         "yaxis": "y"
        },
        {
         "marker": {
          "color": "#FFA15A"
         },
         "name": "Native American",
         "showlegend": false,
         "type": "bar",
         "x": [
          "Native American"
         ],
         "xaxis": "x",
         "y": [
          16.80384087791495
         ],
         "yaxis": "y"
        },
        {
         "marker": {
          "color": "#19D3F3"
         },
         "name": "White",
         "showlegend": false,
         "type": "bar",
         "x": [
          "White"
         ],
         "xaxis": "x",
         "y": [
          19.3168433451119
         ],
         "yaxis": "y"
        },
        {
         "marker": {
          "color": "#636EFA"
         },
         "name": "Asian",
         "showlegend": false,
         "type": "bar",
         "x": [
          "Asian"
         ],
         "xaxis": "x2",
         "y": [
          39.79167852467414
         ],
         "yaxis": "y2"
        },
        {
         "marker": {
          "color": "#EF553B"
         },
         "name": "Black",
         "showlegend": false,
         "type": "bar",
         "x": [
          "Black"
         ],
         "xaxis": "x2",
         "y": [
          49.95504860369725
         ],
         "yaxis": "y2"
        },
        {
         "marker": {
          "color": "#00CC96"
         },
         "name": "Hispanic",
         "showlegend": false,
         "type": "bar",
         "x": [
          "Hispanic"
         ],
         "xaxis": "x2",
         "y": [
          60.193298593927395
         ],
         "yaxis": "y2"
        },
        {
         "marker": {
          "color": "#AB63FA"
         },
         "name": "Multi-Racial",
         "showlegend": false,
         "type": "bar",
         "x": [
          "Multi-Racial"
         ],
         "xaxis": "x2",
         "y": [
          1.165385569055294
         ],
         "yaxis": "y2"
        },
        {
         "marker": {
          "color": "#FFA15A"
         },
         "name": "Native American",
         "showlegend": false,
         "type": "bar",
         "x": [
          "Native American"
         ],
         "xaxis": "x2",
         "y": [
          6.130346232179226
         ],
         "yaxis": "y2"
        },
        {
         "marker": {
          "color": "#19D3F3"
         },
         "name": "White",
         "showlegend": false,
         "type": "bar",
         "x": [
          "White"
         ],
         "xaxis": "x2",
         "y": [
          24.925196576438662
         ],
         "yaxis": "y2"
        },
        {
         "marker": {
          "color": "#636EFA"
         },
         "name": "Asian",
         "showlegend": false,
         "type": "bar",
         "x": [
          "Asian"
         ],
         "xaxis": "x3",
         "y": [
          19.239819004524886
         ],
         "yaxis": "y3"
        },
        {
         "marker": {
          "color": "#EF553B"
         },
         "name": "Black",
         "showlegend": false,
         "type": "bar",
         "x": [
          "Black"
         ],
         "xaxis": "x3",
         "y": [
          31.428571428571427
         ],
         "yaxis": "y3"
        },
        {
         "marker": {
          "color": "#00CC96"
         },
         "name": "Hispanic",
         "showlegend": false,
         "type": "bar",
         "x": [
          "Hispanic"
         ],
         "xaxis": "x3",
         "y": [
          43.82584215124745
         ],
         "yaxis": "y3"
        },
        {
         "marker": {
          "color": "#AB63FA"
         },
         "name": "Multi-Racial",
         "showlegend": false,
         "type": "bar",
         "x": [
          "Multi-Racial"
         ],
         "xaxis": "x3",
         "y": [
          0.6868131868131868
         ],
         "yaxis": "y3"
        },
        {
         "marker": {
          "color": "#FFA15A"
         },
         "name": "Native American",
         "showlegend": false,
         "type": "bar",
         "x": [
          "Native American"
         ],
         "xaxis": "x3",
         "y": [
          0.6782534972445952
         ],
         "yaxis": "y3"
        },
        {
         "marker": {
          "color": "#19D3F3"
         },
         "name": "White",
         "showlegend": false,
         "type": "bar",
         "x": [
          "White"
         ],
         "xaxis": "x3",
         "y": [
          24.27167579789547
         ],
         "yaxis": "y3"
        }
       ],
       "layout": {
        "annotations": [
         {
          "font": {
           "size": 16
          },
          "showarrow": false,
          "text": "Cluster 0",
          "x": 0.5,
          "xanchor": "center",
          "xref": "paper",
          "y": 1,
          "yanchor": "bottom",
          "yref": "paper"
         },
         {
          "font": {
           "size": 16
          },
          "showarrow": false,
          "text": "Cluster 1",
          "x": 0.5,
          "xanchor": "center",
          "xref": "paper",
          "y": 0.6111111111111112,
          "yanchor": "bottom",
          "yref": "paper"
         },
         {
          "font": {
           "size": 16
          },
          "showarrow": false,
          "text": "Cluster 2",
          "x": 0.5,
          "xanchor": "center",
          "xref": "paper",
          "y": 0.22222222222222224,
          "yanchor": "bottom",
          "yref": "paper"
         }
        ],
        "height": 900,
        "template": {
         "layout": {
          "plot_bgcolor": "white",
          "xaxis": {
           "gridcolor": "lightgray"
          },
          "yaxis": {
           "gridcolor": "lightgray"
          }
         }
        },
        "title": {
         "text": "Dropout Rate in Every Cluster per Ethnicity"
        },
        "width": 1200,
        "xaxis": {
         "anchor": "y",
         "domain": [
          0,
          1
         ],
         "title": {
          "text": "Ethnicity"
         }
        },
        "xaxis2": {
         "anchor": "y2",
         "domain": [
          0,
          1
         ],
         "title": {
          "text": "Ethnicity"
         }
        },
        "xaxis3": {
         "anchor": "y3",
         "domain": [
          0,
          1
         ],
         "title": {
          "text": "Ethnicity"
         }
        },
        "yaxis": {
         "anchor": "x",
         "domain": [
          0.7777777777777778,
          1
         ],
         "range": [
          0,
          60.193298593927395
         ],
         "title": {
          "text": "Dropout %"
         }
        },
        "yaxis2": {
         "anchor": "x2",
         "domain": [
          0.3888888888888889,
          0.6111111111111112
         ],
         "range": [
          0,
          60.193298593927395
         ],
         "title": {
          "text": "Dropout %"
         }
        },
        "yaxis3": {
         "anchor": "x3",
         "domain": [
          0,
          0.22222222222222224
         ],
         "range": [
          0,
          60.193298593927395
         ],
         "title": {
          "text": "Dropout %"
         }
        }
       }
      }
     },
     "metadata": {},
     "output_type": "display_data"
    }
   ],
   "source": [
    "fig = make_subplots(rows=len(ethnicity_data_dropout['Cluster'].unique()), cols=1, subplot_titles=('Cluster 0', 'Cluster 1', 'Cluster 2'))\n",
    "\n",
    "for cluster in ethnicity_data_dropout['Cluster'].unique():\n",
    "    cluster_row = ethnicity_data_dropout[ethnicity_data_dropout['Cluster'] == cluster]\n",
    "    cluster_index = ethnicity_data_dropout['Cluster'].unique().tolist().index(cluster)\n",
    "    for ethnicity in cluster_row['Category'].unique():\n",
    "        ethnicity_row = cluster_row[cluster_row['Category'] == ethnicity]\n",
    "        ethnicity_index = cluster_row['Category'].unique().tolist().index(ethnicity)\n",
    "        fig.add_trace(go.Bar(x=ethnicity_row['Category'], y=ethnicity_row['Dropout %'], name=ethnicity, marker=dict(color=colors2[ethnicity_index]), showlegend=False), row=cluster_index + 1, col=1)\n",
    "        fig.update_yaxes(range=[0, ethnicity_data_dropout['Dropout %'].max()], title_text='Dropout %')\n",
    "        fig.update_xaxes(title_text='Ethnicity')\n",
    "\n",
    "fig.update_layout(\n",
    "    width=1200,\n",
    "    height=900,\n",
    "    title_text = \"Dropout Rate in Every Cluster per Ethnicity\",\n",
    ")\n",
    "\n",
    "fig.show()"
   ]
  },
  {
   "cell_type": "code",
   "execution_count": 83,
   "metadata": {},
   "outputs": [],
   "source": [
    "def filter_dropout_per_year(df):\n",
    "    df_dropout_per_year = df.groupby(['Category', 'Graduation Year', 'Cluster'])[['# Dropout', '# Total Cohort', '# Grads']].sum().reset_index()\n",
    "    df_dropout_per_year['# No Grads'] = df_dropout_per_year['# Total Cohort'] - df_dropout_per_year['# Grads']\n",
    "    df_dropout_per_year['Dropout %'] = df_dropout_per_year['# Dropout'] / df_dropout_per_year['# No Grads'] * 100\n",
    "    return df_dropout_per_year"
   ]
  },
  {
   "cell_type": "code",
   "execution_count": 84,
   "metadata": {},
   "outputs": [
    {
     "data": {
      "text/html": [
       "<div>\n",
       "<style scoped>\n",
       "    .dataframe tbody tr th:only-of-type {\n",
       "        vertical-align: middle;\n",
       "    }\n",
       "\n",
       "    .dataframe tbody tr th {\n",
       "        vertical-align: top;\n",
       "    }\n",
       "\n",
       "    .dataframe thead th {\n",
       "        text-align: right;\n",
       "    }\n",
       "</style>\n",
       "<table border=\"1\" class=\"dataframe\">\n",
       "  <thead>\n",
       "    <tr style=\"text-align: right;\">\n",
       "      <th></th>\n",
       "      <th>Category</th>\n",
       "      <th>Graduation Year</th>\n",
       "      <th>Cluster</th>\n",
       "      <th># Dropout</th>\n",
       "      <th># Total Cohort</th>\n",
       "      <th># Grads</th>\n",
       "      <th># No Grads</th>\n",
       "      <th>Dropout %</th>\n",
       "    </tr>\n",
       "  </thead>\n",
       "  <tbody>\n",
       "    <tr>\n",
       "      <th>0</th>\n",
       "      <td>Asian</td>\n",
       "      <td>2018</td>\n",
       "      <td>0</td>\n",
       "      <td>264.0</td>\n",
       "      <td>1127</td>\n",
       "      <td>395.0</td>\n",
       "      <td>732.0</td>\n",
       "      <td>36.065574</td>\n",
       "    </tr>\n",
       "    <tr>\n",
       "      <th>1</th>\n",
       "      <td>Asian</td>\n",
       "      <td>2018</td>\n",
       "      <td>1</td>\n",
       "      <td>1178.0</td>\n",
       "      <td>11934</td>\n",
       "      <td>8875.0</td>\n",
       "      <td>3059.0</td>\n",
       "      <td>38.509317</td>\n",
       "    </tr>\n",
       "    <tr>\n",
       "      <th>2</th>\n",
       "      <td>Asian</td>\n",
       "      <td>2018</td>\n",
       "      <td>2</td>\n",
       "      <td>371.0</td>\n",
       "      <td>24496</td>\n",
       "      <td>22656.0</td>\n",
       "      <td>1840.0</td>\n",
       "      <td>20.163043</td>\n",
       "    </tr>\n",
       "    <tr>\n",
       "      <th>3</th>\n",
       "      <td>Asian</td>\n",
       "      <td>2019</td>\n",
       "      <td>0</td>\n",
       "      <td>232.0</td>\n",
       "      <td>1097</td>\n",
       "      <td>414.0</td>\n",
       "      <td>683.0</td>\n",
       "      <td>33.967789</td>\n",
       "    </tr>\n",
       "    <tr>\n",
       "      <th>4</th>\n",
       "      <td>Asian</td>\n",
       "      <td>2019</td>\n",
       "      <td>1</td>\n",
       "      <td>1247.0</td>\n",
       "      <td>11911</td>\n",
       "      <td>8982.0</td>\n",
       "      <td>2929.0</td>\n",
       "      <td>42.574257</td>\n",
       "    </tr>\n",
       "    <tr>\n",
       "      <th>...</th>\n",
       "      <td>...</td>\n",
       "      <td>...</td>\n",
       "      <td>...</td>\n",
       "      <td>...</td>\n",
       "      <td>...</td>\n",
       "      <td>...</td>\n",
       "      <td>...</td>\n",
       "      <td>...</td>\n",
       "    </tr>\n",
       "    <tr>\n",
       "      <th>121</th>\n",
       "      <td>White</td>\n",
       "      <td>2023</td>\n",
       "      <td>1</td>\n",
       "      <td>405.0</td>\n",
       "      <td>7469</td>\n",
       "      <td>5680.0</td>\n",
       "      <td>1789.0</td>\n",
       "      <td>22.638345</td>\n",
       "    </tr>\n",
       "    <tr>\n",
       "      <th>122</th>\n",
       "      <td>White</td>\n",
       "      <td>2023</td>\n",
       "      <td>2</td>\n",
       "      <td>304.0</td>\n",
       "      <td>21191</td>\n",
       "      <td>19757.0</td>\n",
       "      <td>1434.0</td>\n",
       "      <td>21.199442</td>\n",
       "    </tr>\n",
       "    <tr>\n",
       "      <th>123</th>\n",
       "      <td>White</td>\n",
       "      <td>2024</td>\n",
       "      <td>0</td>\n",
       "      <td>62.0</td>\n",
       "      <td>564</td>\n",
       "      <td>203.0</td>\n",
       "      <td>361.0</td>\n",
       "      <td>17.174515</td>\n",
       "    </tr>\n",
       "    <tr>\n",
       "      <th>124</th>\n",
       "      <td>White</td>\n",
       "      <td>2024</td>\n",
       "      <td>1</td>\n",
       "      <td>358.0</td>\n",
       "      <td>7252</td>\n",
       "      <td>5510.0</td>\n",
       "      <td>1742.0</td>\n",
       "      <td>20.551091</td>\n",
       "    </tr>\n",
       "    <tr>\n",
       "      <th>125</th>\n",
       "      <td>White</td>\n",
       "      <td>2024</td>\n",
       "      <td>2</td>\n",
       "      <td>303.0</td>\n",
       "      <td>20470</td>\n",
       "      <td>19096.0</td>\n",
       "      <td>1374.0</td>\n",
       "      <td>22.052402</td>\n",
       "    </tr>\n",
       "  </tbody>\n",
       "</table>\n",
       "<p>126 rows × 8 columns</p>\n",
       "</div>"
      ],
      "text/plain": [
       "    Category  Graduation Year  Cluster  # Dropout  # Total Cohort  # Grads  \\\n",
       "0      Asian             2018        0      264.0            1127    395.0   \n",
       "1      Asian             2018        1     1178.0           11934   8875.0   \n",
       "2      Asian             2018        2      371.0           24496  22656.0   \n",
       "3      Asian             2019        0      232.0            1097    414.0   \n",
       "4      Asian             2019        1     1247.0           11911   8982.0   \n",
       "..       ...              ...      ...        ...             ...      ...   \n",
       "121    White             2023        1      405.0            7469   5680.0   \n",
       "122    White             2023        2      304.0           21191  19757.0   \n",
       "123    White             2024        0       62.0             564    203.0   \n",
       "124    White             2024        1      358.0            7252   5510.0   \n",
       "125    White             2024        2      303.0           20470  19096.0   \n",
       "\n",
       "     # No Grads  Dropout %  \n",
       "0         732.0  36.065574  \n",
       "1        3059.0  38.509317  \n",
       "2        1840.0  20.163043  \n",
       "3         683.0  33.967789  \n",
       "4        2929.0  42.574257  \n",
       "..          ...        ...  \n",
       "121      1789.0  22.638345  \n",
       "122      1434.0  21.199442  \n",
       "123       361.0  17.174515  \n",
       "124      1742.0  20.551091  \n",
       "125      1374.0  22.052402  \n",
       "\n",
       "[126 rows x 8 columns]"
      ]
     },
     "execution_count": 84,
     "metadata": {},
     "output_type": "execute_result"
    }
   ],
   "source": [
    "ethnicity_data_dropout_per_year = filter_dropout_per_year(ethnicity_data)\n",
    "ethnicity_data_dropout_per_year"
   ]
  },
  {
   "cell_type": "code",
   "execution_count": 213,
   "metadata": {},
   "outputs": [
    {
     "data": {
      "application/vnd.plotly.v1+json": {
       "config": {
        "plotlyServerURL": "https://plot.ly"
       },
       "data": [
        {
         "line": {
          "color": "#636EFA"
         },
         "name": "Asian",
         "showlegend": false,
         "type": "scatter",
         "x": [
          2018,
          2019,
          2020,
          2021,
          2022,
          2023,
          2024
         ],
         "xaxis": "x",
         "y": [
          36.0655737704918,
          33.96778916544656,
          30.076335877862597,
          29.289428076256502,
          28.016359918200408,
          21.99546485260771,
          19.399538106235568
         ],
         "yaxis": "y"
        },
        {
         "line": {
          "color": "#EF553B"
         },
         "name": "Black",
         "showlegend": false,
         "type": "scatter",
         "x": [
          2018,
          2019,
          2020,
          2021,
          2022,
          2023,
          2024
         ],
         "xaxis": "x",
         "y": [
          36.71509480423541,
          37.719298245614034,
          31.246780010303965,
          30.930087390761546,
          37.159676232523914,
          37.138263665594856,
          40.11208967173739
         ],
         "yaxis": "y"
        },
        {
         "line": {
          "color": "#00CC96"
         },
         "name": "Hispanic",
         "showlegend": false,
         "type": "scatter",
         "x": [
          2018,
          2019,
          2020,
          2021,
          2022,
          2023,
          2024
         ],
         "xaxis": "x",
         "y": [
          47.433423388653026,
          49.54919639357115,
          41.62405399877275,
          37.66603415559772,
          48.006509357200976,
          50.723025583982206,
          50.362027353177794
         ],
         "yaxis": "y"
        },
        {
         "line": {
          "color": "#AB63FA"
         },
         "name": "Multi-Racial",
         "showlegend": false,
         "type": "scatter",
         "x": [
          2018,
          2019,
          2020,
          2021,
          2022,
          2023,
          2024
         ],
         "xaxis": "x",
         "y": [
          0,
          0,
          0,
          0,
          0,
          3.076923076923077,
          2.941176470588235
         ],
         "yaxis": "y"
        },
        {
         "line": {
          "color": "#FFA15A"
         },
         "name": "Native American",
         "showlegend": false,
         "type": "scatter",
         "x": [
          2018,
          2019,
          2020,
          2021,
          2022,
          2023,
          2024
         ],
         "xaxis": "x",
         "y": [
          20.077220077220076,
          26.717557251908396,
          21.076233183856502,
          17.83783783783784,
          12.698412698412698,
          7.82122905027933,
          3.1055900621118013
         ],
         "yaxis": "y"
        },
        {
         "line": {
          "color": "#19D3F3"
         },
         "name": "White",
         "showlegend": false,
         "type": "scatter",
         "x": [
          2018,
          2019,
          2020,
          2021,
          2022,
          2023,
          2024
         ],
         "xaxis": "x",
         "y": [
          25.375626043405674,
          20,
          15.873015873015872,
          15.384615384615385,
          18.06930693069307,
          22.486772486772484,
          17.174515235457065
         ],
         "yaxis": "y"
        },
        {
         "line": {
          "color": "#636EFA"
         },
         "name": "Asian",
         "showlegend": false,
         "type": "scatter",
         "x": [
          2018,
          2019,
          2020,
          2021,
          2022,
          2023,
          2024
         ],
         "xaxis": "x2",
         "y": [
          38.50931677018634,
          42.57425742574257,
          41.90298507462686,
          39.660615627466456,
          40.503035559410236,
          38.92585551330798,
          35.00255493101686
         ],
         "yaxis": "y2"
        },
        {
         "line": {
          "color": "#EF553B"
         },
         "name": "Black",
         "showlegend": false,
         "type": "scatter",
         "x": [
          2018,
          2019,
          2020,
          2021,
          2022,
          2023,
          2024
         ],
         "xaxis": "x2",
         "y": [
          46.5128271238881,
          54.4893551373033,
          52.94546780959328,
          50.10584250635055,
          52.01672405312346,
          47.85714285714286,
          43.98605461940732
         ],
         "yaxis": "y2"
        },
        {
         "line": {
          "color": "#00CC96"
         },
         "name": "Hispanic",
         "showlegend": false,
         "type": "scatter",
         "x": [
          2018,
          2019,
          2020,
          2021,
          2022,
          2023,
          2024
         ],
         "xaxis": "x2",
         "y": [
          57.30570746360626,
          63.7648623929492,
          61.359836522385294,
          58.35012193828862,
          60.447761194029844,
          61.09803921568627,
          58.85266198926951
         ],
         "yaxis": "y2"
        },
        {
         "line": {
          "color": "#AB63FA"
         },
         "name": "Multi-Racial",
         "showlegend": false,
         "type": "scatter",
         "x": [
          2018,
          2019,
          2020,
          2021,
          2022,
          2023,
          2024
         ],
         "xaxis": "x2",
         "y": [
          0.8741258741258742,
          1.391304347826087,
          1.1725293132328307,
          1.238938053097345,
          0.6920415224913495,
          1.5410958904109588,
          1.2455516014234875
         ],
         "yaxis": "y2"
        },
        {
         "line": {
          "color": "#FFA15A"
         },
         "name": "Native American",
         "showlegend": false,
         "type": "scatter",
         "x": [
          2018,
          2019,
          2020,
          2021,
          2022,
          2023,
          2024
         ],
         "xaxis": "x2",
         "y": [
          5.298013245033113,
          6.550218340611353,
          8.166189111747851,
          6.544502617801047,
          6.33245382585752,
          5.617977528089887,
          4.2212518195050945
         ],
         "yaxis": "y2"
        },
        {
         "line": {
          "color": "#19D3F3"
         },
         "name": "White",
         "showlegend": false,
         "type": "scatter",
         "x": [
          2018,
          2019,
          2020,
          2021,
          2022,
          2023,
          2024
         ],
         "xaxis": "x2",
         "y": [
          28.814279643008923,
          29.927992799279927,
          26.49066909421939,
          21.401334604385127,
          22.588832487309645,
          22.638345444382338,
          20.55109070034443
         ],
         "yaxis": "y2"
        },
        {
         "line": {
          "color": "#636EFA"
         },
         "name": "Asian",
         "type": "scatter",
         "x": [
          2018,
          2019,
          2020,
          2021,
          2022,
          2023,
          2024
         ],
         "xaxis": "x3",
         "y": [
          20.16304347826087,
          21.334068357221607,
          21.20646766169154,
          16.577896138482025,
          17.364016736401673,
          18.15680880330124,
          18.955650929899857
         ],
         "yaxis": "y3"
        },
        {
         "line": {
          "color": "#EF553B"
         },
         "name": "Black",
         "type": "scatter",
         "x": [
          2018,
          2019,
          2020,
          2021,
          2022,
          2023,
          2024
         ],
         "xaxis": "x3",
         "y": [
          28.80546075085324,
          35.176252319109466,
          33.18566250503423,
          29.74009373668513,
          31.513188338732068,
          30.41769041769042,
          30.916030534351147
         ],
         "yaxis": "y3"
        },
        {
         "line": {
          "color": "#00CC96"
         },
         "name": "Hispanic",
         "type": "scatter",
         "x": [
          2018,
          2019,
          2020,
          2021,
          2022,
          2023,
          2024
         ],
         "xaxis": "x3",
         "y": [
          37.093275488069416,
          43.43776460626588,
          45.92445328031809,
          44.7075708647291,
          45.132075471698116,
          47.55244755244755,
          45.79476861167002
         ],
         "yaxis": "y3"
        },
        {
         "line": {
          "color": "#AB63FA"
         },
         "name": "Multi-Racial",
         "type": "scatter",
         "x": [
          2018,
          2019,
          2020,
          2021,
          2022,
          2023,
          2024
         ],
         "xaxis": "x3",
         "y": [
          0.2932551319648094,
          0.4314063848144953,
          0.5823627287853578,
          0.5054759898904801,
          1.0371650821089022,
          1.2334801762114538,
          0.6986899563318777
         ],
         "yaxis": "y3"
        },
        {
         "line": {
          "color": "#FFA15A"
         },
         "name": "Native American",
         "type": "scatter",
         "x": [
          2018,
          2019,
          2020,
          2021,
          2022,
          2023,
          2024
         ],
         "xaxis": "x3",
         "y": [
          0.7246376811594203,
          0.49504950495049505,
          0.6279434850863422,
          0.5830903790087464,
          0.9831460674157303,
          0.6527415143603132,
          0.6587615283267457
         ],
         "yaxis": "y3"
        },
        {
         "line": {
          "color": "#19D3F3"
         },
         "name": "White",
         "type": "scatter",
         "x": [
          2018,
          2019,
          2020,
          2021,
          2022,
          2023,
          2024
         ],
         "xaxis": "x3",
         "y": [
          24.920466595970307,
          28.93048128342246,
          27.092760180995473,
          22.4179829890644,
          21.367521367521366,
          21.199442119944212,
          22.05240174672489
         ],
         "yaxis": "y3"
        }
       ],
       "layout": {
        "annotations": [
         {
          "font": {
           "size": 16
          },
          "showarrow": false,
          "text": "Cluster 0",
          "x": 0.14444444444444446,
          "xanchor": "center",
          "xref": "paper",
          "y": 1,
          "yanchor": "bottom",
          "yref": "paper"
         },
         {
          "font": {
           "size": 16
          },
          "showarrow": false,
          "text": "Cluster 1",
          "x": 0.5,
          "xanchor": "center",
          "xref": "paper",
          "y": 1,
          "yanchor": "bottom",
          "yref": "paper"
         },
         {
          "font": {
           "size": 16
          },
          "showarrow": false,
          "text": "Cluster 2",
          "x": 0.8555555555555556,
          "xanchor": "center",
          "xref": "paper",
          "y": 1,
          "yanchor": "bottom",
          "yref": "paper"
         }
        ],
        "template": {
         "layout": {
          "plot_bgcolor": "white",
          "xaxis": {
           "gridcolor": "lightgray"
          },
          "yaxis": {
           "gridcolor": "lightgray"
          }
         }
        },
        "title": {
         "text": "Dropout Rates from 2018 to 2024 in Every Cluster per Ethnicity"
        },
        "xaxis": {
         "anchor": "y",
         "domain": [
          0,
          0.2888888888888889
         ],
         "title": {
          "text": "Year"
         }
        },
        "xaxis2": {
         "anchor": "y2",
         "domain": [
          0.35555555555555557,
          0.6444444444444445
         ],
         "title": {
          "text": "Year"
         }
        },
        "xaxis3": {
         "anchor": "y3",
         "domain": [
          0.7111111111111111,
          1
         ],
         "title": {
          "text": "Year"
         }
        },
        "yaxis": {
         "anchor": "x",
         "domain": [
          0,
          1
         ],
         "range": [
          0,
          63.7648623929492
         ],
         "title": {
          "text": "Dropout %"
         }
        },
        "yaxis2": {
         "anchor": "x2",
         "domain": [
          0,
          1
         ],
         "range": [
          0,
          63.7648623929492
         ],
         "title": {
          "text": "Dropout %"
         }
        },
        "yaxis3": {
         "anchor": "x3",
         "domain": [
          0,
          1
         ],
         "range": [
          0,
          63.7648623929492
         ],
         "title": {
          "text": "Dropout %"
         }
        }
       }
      }
     },
     "metadata": {},
     "output_type": "display_data"
    }
   ],
   "source": [
    "fig = make_subplots(rows=1, cols=len(ethnicity_data_dropout_per_year['Cluster'].unique()), subplot_titles=('Cluster 0', 'Cluster 1', 'Cluster 2'))\n",
    "\n",
    "for cluster in ethnicity_data_dropout_per_year['Cluster'].unique():\n",
    "    cluster_row = ethnicity_data_dropout_per_year[ethnicity_data_dropout_per_year['Cluster'] == cluster]\n",
    "    cluster_index = ethnicity_data_dropout_per_year['Cluster'].unique().tolist().index(cluster)\n",
    "    for ethnicity in cluster_row['Category'].unique():\n",
    "        ethnicity_row = cluster_row[cluster_row['Category'] == ethnicity]\n",
    "        ethnicity_index = cluster_row['Category'].unique().tolist().index(ethnicity)\n",
    "        fig.add_trace(go.Scatter(x=ethnicity_row['Graduation Year'], y=ethnicity_row['Dropout %'], name=ethnicity, line=dict(color=colors2[ethnicity_index])), row=1, col=cluster_index+1)\n",
    "        fig.update_yaxes(range=[0, ethnicity_data_dropout_per_year['Dropout %'].max()], title_text = 'Dropout %')\n",
    "        fig.update_xaxes(title_text='Year')\n",
    "\n",
    "fig.update_layout(title_text='Dropout Rates from 2018 to 2024 in Every Cluster per Ethnicity')\n",
    "\n",
    "for i in range(len(fig.data) - len(ethnicity_data_dropout_per_year['Category'].unique())):\n",
    "    fig.data[i].showlegend = False\n",
    "\n",
    "fig.show()"
   ]
  },
  {
   "cell_type": "code",
   "execution_count": 86,
   "metadata": {},
   "outputs": [],
   "source": [
    "def filter_dropout_per_duration(df):\n",
    "    df_dropout = filter_dropout(df)\n",
    "    df_dropout_per_duration = df.groupby(['Category', 'Duration', 'Cluster'])['# Dropout'].sum().reset_index()\n",
    "    df_dropout_per_duration = pd.merge(df_dropout_per_duration, df_dropout.drop(columns=['# Total Cohort', '# Grads', '# No Grads', 'Dropout %']), on=['Category','Cluster'], how='outer')\n",
    "    df_dropout_per_duration['Dropout %'] = df_dropout_per_duration['# Dropout_x'] / df_dropout_per_duration['# Dropout_y'] * 100\n",
    "    return df_dropout_per_duration"
   ]
  },
  {
   "cell_type": "code",
   "execution_count": 87,
   "metadata": {},
   "outputs": [
    {
     "data": {
      "text/html": [
       "<div>\n",
       "<style scoped>\n",
       "    .dataframe tbody tr th:only-of-type {\n",
       "        vertical-align: middle;\n",
       "    }\n",
       "\n",
       "    .dataframe tbody tr th {\n",
       "        vertical-align: top;\n",
       "    }\n",
       "\n",
       "    .dataframe thead th {\n",
       "        text-align: right;\n",
       "    }\n",
       "</style>\n",
       "<table border=\"1\" class=\"dataframe\">\n",
       "  <thead>\n",
       "    <tr style=\"text-align: right;\">\n",
       "      <th></th>\n",
       "      <th>Category</th>\n",
       "      <th>Duration</th>\n",
       "      <th>Cluster</th>\n",
       "      <th># Dropout_x</th>\n",
       "      <th># Dropout_y</th>\n",
       "      <th>Dropout %</th>\n",
       "    </tr>\n",
       "  </thead>\n",
       "  <tbody>\n",
       "    <tr>\n",
       "      <th>0</th>\n",
       "      <td>Asian</td>\n",
       "      <td>4</td>\n",
       "      <td>0</td>\n",
       "      <td>269.0</td>\n",
       "      <td>1180.0</td>\n",
       "      <td>22.796610</td>\n",
       "    </tr>\n",
       "    <tr>\n",
       "      <th>1</th>\n",
       "      <td>Asian</td>\n",
       "      <td>5</td>\n",
       "      <td>0</td>\n",
       "      <td>392.0</td>\n",
       "      <td>1180.0</td>\n",
       "      <td>33.220339</td>\n",
       "    </tr>\n",
       "    <tr>\n",
       "      <th>2</th>\n",
       "      <td>Asian</td>\n",
       "      <td>6</td>\n",
       "      <td>0</td>\n",
       "      <td>519.0</td>\n",
       "      <td>1180.0</td>\n",
       "      <td>43.983051</td>\n",
       "    </tr>\n",
       "    <tr>\n",
       "      <th>3</th>\n",
       "      <td>Asian</td>\n",
       "      <td>4</td>\n",
       "      <td>1</td>\n",
       "      <td>1764.0</td>\n",
       "      <td>6991.0</td>\n",
       "      <td>25.232442</td>\n",
       "    </tr>\n",
       "    <tr>\n",
       "      <th>4</th>\n",
       "      <td>Asian</td>\n",
       "      <td>5</td>\n",
       "      <td>1</td>\n",
       "      <td>2453.0</td>\n",
       "      <td>6991.0</td>\n",
       "      <td>35.087970</td>\n",
       "    </tr>\n",
       "    <tr>\n",
       "      <th>5</th>\n",
       "      <td>Asian</td>\n",
       "      <td>6</td>\n",
       "      <td>1</td>\n",
       "      <td>2774.0</td>\n",
       "      <td>6991.0</td>\n",
       "      <td>39.679588</td>\n",
       "    </tr>\n",
       "    <tr>\n",
       "      <th>6</th>\n",
       "      <td>Asian</td>\n",
       "      <td>4</td>\n",
       "      <td>2</td>\n",
       "      <td>425.0</td>\n",
       "      <td>2126.0</td>\n",
       "      <td>19.990593</td>\n",
       "    </tr>\n",
       "    <tr>\n",
       "      <th>7</th>\n",
       "      <td>Asian</td>\n",
       "      <td>5</td>\n",
       "      <td>2</td>\n",
       "      <td>841.0</td>\n",
       "      <td>2126.0</td>\n",
       "      <td>39.557855</td>\n",
       "    </tr>\n",
       "    <tr>\n",
       "      <th>8</th>\n",
       "      <td>Asian</td>\n",
       "      <td>6</td>\n",
       "      <td>2</td>\n",
       "      <td>860.0</td>\n",
       "      <td>2126.0</td>\n",
       "      <td>40.451552</td>\n",
       "    </tr>\n",
       "    <tr>\n",
       "      <th>9</th>\n",
       "      <td>Black</td>\n",
       "      <td>4</td>\n",
       "      <td>0</td>\n",
       "      <td>1445.0</td>\n",
       "      <td>8179.0</td>\n",
       "      <td>17.667196</td>\n",
       "    </tr>\n",
       "    <tr>\n",
       "      <th>10</th>\n",
       "      <td>Black</td>\n",
       "      <td>5</td>\n",
       "      <td>0</td>\n",
       "      <td>2871.0</td>\n",
       "      <td>8179.0</td>\n",
       "      <td>35.102091</td>\n",
       "    </tr>\n",
       "    <tr>\n",
       "      <th>11</th>\n",
       "      <td>Black</td>\n",
       "      <td>6</td>\n",
       "      <td>0</td>\n",
       "      <td>3863.0</td>\n",
       "      <td>8179.0</td>\n",
       "      <td>47.230713</td>\n",
       "    </tr>\n",
       "    <tr>\n",
       "      <th>12</th>\n",
       "      <td>Black</td>\n",
       "      <td>4</td>\n",
       "      <td>1</td>\n",
       "      <td>3921.0</td>\n",
       "      <td>17781.0</td>\n",
       "      <td>22.051628</td>\n",
       "    </tr>\n",
       "    <tr>\n",
       "      <th>13</th>\n",
       "      <td>Black</td>\n",
       "      <td>5</td>\n",
       "      <td>1</td>\n",
       "      <td>6344.0</td>\n",
       "      <td>17781.0</td>\n",
       "      <td>35.678533</td>\n",
       "    </tr>\n",
       "    <tr>\n",
       "      <th>14</th>\n",
       "      <td>Black</td>\n",
       "      <td>6</td>\n",
       "      <td>1</td>\n",
       "      <td>7516.0</td>\n",
       "      <td>17781.0</td>\n",
       "      <td>42.269839</td>\n",
       "    </tr>\n",
       "    <tr>\n",
       "      <th>15</th>\n",
       "      <td>Black</td>\n",
       "      <td>4</td>\n",
       "      <td>2</td>\n",
       "      <td>1217.0</td>\n",
       "      <td>5181.0</td>\n",
       "      <td>23.489674</td>\n",
       "    </tr>\n",
       "    <tr>\n",
       "      <th>16</th>\n",
       "      <td>Black</td>\n",
       "      <td>5</td>\n",
       "      <td>2</td>\n",
       "      <td>1919.0</td>\n",
       "      <td>5181.0</td>\n",
       "      <td>37.039182</td>\n",
       "    </tr>\n",
       "    <tr>\n",
       "      <th>17</th>\n",
       "      <td>Black</td>\n",
       "      <td>6</td>\n",
       "      <td>2</td>\n",
       "      <td>2045.0</td>\n",
       "      <td>5181.0</td>\n",
       "      <td>39.471145</td>\n",
       "    </tr>\n",
       "    <tr>\n",
       "      <th>18</th>\n",
       "      <td>Hispanic</td>\n",
       "      <td>4</td>\n",
       "      <td>0</td>\n",
       "      <td>2829.0</td>\n",
       "      <td>14081.0</td>\n",
       "      <td>20.090903</td>\n",
       "    </tr>\n",
       "    <tr>\n",
       "      <th>19</th>\n",
       "      <td>Hispanic</td>\n",
       "      <td>5</td>\n",
       "      <td>0</td>\n",
       "      <td>5024.0</td>\n",
       "      <td>14081.0</td>\n",
       "      <td>35.679284</td>\n",
       "    </tr>\n",
       "    <tr>\n",
       "      <th>20</th>\n",
       "      <td>Hispanic</td>\n",
       "      <td>6</td>\n",
       "      <td>0</td>\n",
       "      <td>6228.0</td>\n",
       "      <td>14081.0</td>\n",
       "      <td>44.229813</td>\n",
       "    </tr>\n",
       "    <tr>\n",
       "      <th>21</th>\n",
       "      <td>Hispanic</td>\n",
       "      <td>4</td>\n",
       "      <td>1</td>\n",
       "      <td>9975.0</td>\n",
       "      <td>41354.0</td>\n",
       "      <td>24.121004</td>\n",
       "    </tr>\n",
       "    <tr>\n",
       "      <th>22</th>\n",
       "      <td>Hispanic</td>\n",
       "      <td>5</td>\n",
       "      <td>1</td>\n",
       "      <td>14799.0</td>\n",
       "      <td>41354.0</td>\n",
       "      <td>35.786139</td>\n",
       "    </tr>\n",
       "    <tr>\n",
       "      <th>23</th>\n",
       "      <td>Hispanic</td>\n",
       "      <td>6</td>\n",
       "      <td>1</td>\n",
       "      <td>16580.0</td>\n",
       "      <td>41354.0</td>\n",
       "      <td>40.092857</td>\n",
       "    </tr>\n",
       "    <tr>\n",
       "      <th>24</th>\n",
       "      <td>Hispanic</td>\n",
       "      <td>4</td>\n",
       "      <td>2</td>\n",
       "      <td>2066.0</td>\n",
       "      <td>9029.0</td>\n",
       "      <td>22.881825</td>\n",
       "    </tr>\n",
       "    <tr>\n",
       "      <th>25</th>\n",
       "      <td>Hispanic</td>\n",
       "      <td>5</td>\n",
       "      <td>2</td>\n",
       "      <td>3361.0</td>\n",
       "      <td>9029.0</td>\n",
       "      <td>37.224499</td>\n",
       "    </tr>\n",
       "    <tr>\n",
       "      <th>26</th>\n",
       "      <td>Hispanic</td>\n",
       "      <td>6</td>\n",
       "      <td>2</td>\n",
       "      <td>3602.0</td>\n",
       "      <td>9029.0</td>\n",
       "      <td>39.893676</td>\n",
       "    </tr>\n",
       "    <tr>\n",
       "      <th>27</th>\n",
       "      <td>Multi-Racial</td>\n",
       "      <td>4</td>\n",
       "      <td>0</td>\n",
       "      <td>1.0</td>\n",
       "      <td>4.0</td>\n",
       "      <td>25.000000</td>\n",
       "    </tr>\n",
       "    <tr>\n",
       "      <th>28</th>\n",
       "      <td>Multi-Racial</td>\n",
       "      <td>5</td>\n",
       "      <td>0</td>\n",
       "      <td>2.0</td>\n",
       "      <td>4.0</td>\n",
       "      <td>50.000000</td>\n",
       "    </tr>\n",
       "    <tr>\n",
       "      <th>29</th>\n",
       "      <td>Multi-Racial</td>\n",
       "      <td>6</td>\n",
       "      <td>0</td>\n",
       "      <td>1.0</td>\n",
       "      <td>4.0</td>\n",
       "      <td>25.000000</td>\n",
       "    </tr>\n",
       "    <tr>\n",
       "      <th>30</th>\n",
       "      <td>Multi-Racial</td>\n",
       "      <td>4</td>\n",
       "      <td>1</td>\n",
       "      <td>12.0</td>\n",
       "      <td>47.0</td>\n",
       "      <td>25.531915</td>\n",
       "    </tr>\n",
       "    <tr>\n",
       "      <th>31</th>\n",
       "      <td>Multi-Racial</td>\n",
       "      <td>5</td>\n",
       "      <td>1</td>\n",
       "      <td>18.0</td>\n",
       "      <td>47.0</td>\n",
       "      <td>38.297872</td>\n",
       "    </tr>\n",
       "    <tr>\n",
       "      <th>32</th>\n",
       "      <td>Multi-Racial</td>\n",
       "      <td>6</td>\n",
       "      <td>1</td>\n",
       "      <td>17.0</td>\n",
       "      <td>47.0</td>\n",
       "      <td>36.170213</td>\n",
       "    </tr>\n",
       "    <tr>\n",
       "      <th>33</th>\n",
       "      <td>Multi-Racial</td>\n",
       "      <td>4</td>\n",
       "      <td>2</td>\n",
       "      <td>12.0</td>\n",
       "      <td>55.0</td>\n",
       "      <td>21.818182</td>\n",
       "    </tr>\n",
       "    <tr>\n",
       "      <th>34</th>\n",
       "      <td>Multi-Racial</td>\n",
       "      <td>5</td>\n",
       "      <td>2</td>\n",
       "      <td>23.0</td>\n",
       "      <td>55.0</td>\n",
       "      <td>41.818182</td>\n",
       "    </tr>\n",
       "    <tr>\n",
       "      <th>35</th>\n",
       "      <td>Multi-Racial</td>\n",
       "      <td>6</td>\n",
       "      <td>2</td>\n",
       "      <td>20.0</td>\n",
       "      <td>55.0</td>\n",
       "      <td>36.363636</td>\n",
       "    </tr>\n",
       "    <tr>\n",
       "      <th>36</th>\n",
       "      <td>Native American</td>\n",
       "      <td>4</td>\n",
       "      <td>0</td>\n",
       "      <td>40.0</td>\n",
       "      <td>245.0</td>\n",
       "      <td>16.326531</td>\n",
       "    </tr>\n",
       "    <tr>\n",
       "      <th>37</th>\n",
       "      <td>Native American</td>\n",
       "      <td>5</td>\n",
       "      <td>0</td>\n",
       "      <td>92.0</td>\n",
       "      <td>245.0</td>\n",
       "      <td>37.551020</td>\n",
       "    </tr>\n",
       "    <tr>\n",
       "      <th>38</th>\n",
       "      <td>Native American</td>\n",
       "      <td>6</td>\n",
       "      <td>0</td>\n",
       "      <td>113.0</td>\n",
       "      <td>245.0</td>\n",
       "      <td>46.122449</td>\n",
       "    </tr>\n",
       "    <tr>\n",
       "      <th>39</th>\n",
       "      <td>Native American</td>\n",
       "      <td>4</td>\n",
       "      <td>1</td>\n",
       "      <td>90.0</td>\n",
       "      <td>301.0</td>\n",
       "      <td>29.900332</td>\n",
       "    </tr>\n",
       "    <tr>\n",
       "      <th>40</th>\n",
       "      <td>Native American</td>\n",
       "      <td>5</td>\n",
       "      <td>1</td>\n",
       "      <td>105.0</td>\n",
       "      <td>301.0</td>\n",
       "      <td>34.883721</td>\n",
       "    </tr>\n",
       "    <tr>\n",
       "      <th>41</th>\n",
       "      <td>Native American</td>\n",
       "      <td>6</td>\n",
       "      <td>1</td>\n",
       "      <td>106.0</td>\n",
       "      <td>301.0</td>\n",
       "      <td>35.215947</td>\n",
       "    </tr>\n",
       "    <tr>\n",
       "      <th>42</th>\n",
       "      <td>Native American</td>\n",
       "      <td>4</td>\n",
       "      <td>2</td>\n",
       "      <td>7.0</td>\n",
       "      <td>32.0</td>\n",
       "      <td>21.875000</td>\n",
       "    </tr>\n",
       "    <tr>\n",
       "      <th>43</th>\n",
       "      <td>Native American</td>\n",
       "      <td>5</td>\n",
       "      <td>2</td>\n",
       "      <td>12.0</td>\n",
       "      <td>32.0</td>\n",
       "      <td>37.500000</td>\n",
       "    </tr>\n",
       "    <tr>\n",
       "      <th>44</th>\n",
       "      <td>Native American</td>\n",
       "      <td>6</td>\n",
       "      <td>2</td>\n",
       "      <td>13.0</td>\n",
       "      <td>32.0</td>\n",
       "      <td>40.625000</td>\n",
       "    </tr>\n",
       "    <tr>\n",
       "      <th>45</th>\n",
       "      <td>White</td>\n",
       "      <td>4</td>\n",
       "      <td>0</td>\n",
       "      <td>103.0</td>\n",
       "      <td>656.0</td>\n",
       "      <td>15.701220</td>\n",
       "    </tr>\n",
       "    <tr>\n",
       "      <th>46</th>\n",
       "      <td>White</td>\n",
       "      <td>5</td>\n",
       "      <td>0</td>\n",
       "      <td>218.0</td>\n",
       "      <td>656.0</td>\n",
       "      <td>33.231707</td>\n",
       "    </tr>\n",
       "    <tr>\n",
       "      <th>47</th>\n",
       "      <td>White</td>\n",
       "      <td>6</td>\n",
       "      <td>0</td>\n",
       "      <td>335.0</td>\n",
       "      <td>656.0</td>\n",
       "      <td>51.067073</td>\n",
       "    </tr>\n",
       "    <tr>\n",
       "      <th>48</th>\n",
       "      <td>White</td>\n",
       "      <td>4</td>\n",
       "      <td>1</td>\n",
       "      <td>806.0</td>\n",
       "      <td>3582.0</td>\n",
       "      <td>22.501396</td>\n",
       "    </tr>\n",
       "    <tr>\n",
       "      <th>49</th>\n",
       "      <td>White</td>\n",
       "      <td>5</td>\n",
       "      <td>1</td>\n",
       "      <td>1307.0</td>\n",
       "      <td>3582.0</td>\n",
       "      <td>36.487996</td>\n",
       "    </tr>\n",
       "    <tr>\n",
       "      <th>50</th>\n",
       "      <td>White</td>\n",
       "      <td>6</td>\n",
       "      <td>1</td>\n",
       "      <td>1469.0</td>\n",
       "      <td>3582.0</td>\n",
       "      <td>41.010609</td>\n",
       "    </tr>\n",
       "    <tr>\n",
       "      <th>51</th>\n",
       "      <td>White</td>\n",
       "      <td>4</td>\n",
       "      <td>2</td>\n",
       "      <td>613.0</td>\n",
       "      <td>2791.0</td>\n",
       "      <td>21.963454</td>\n",
       "    </tr>\n",
       "    <tr>\n",
       "      <th>52</th>\n",
       "      <td>White</td>\n",
       "      <td>5</td>\n",
       "      <td>2</td>\n",
       "      <td>1045.0</td>\n",
       "      <td>2791.0</td>\n",
       "      <td>37.441777</td>\n",
       "    </tr>\n",
       "    <tr>\n",
       "      <th>53</th>\n",
       "      <td>White</td>\n",
       "      <td>6</td>\n",
       "      <td>2</td>\n",
       "      <td>1133.0</td>\n",
       "      <td>2791.0</td>\n",
       "      <td>40.594769</td>\n",
       "    </tr>\n",
       "  </tbody>\n",
       "</table>\n",
       "</div>"
      ],
      "text/plain": [
       "           Category  Duration  Cluster  # Dropout_x  # Dropout_y  Dropout %\n",
       "0             Asian         4        0        269.0       1180.0  22.796610\n",
       "1             Asian         5        0        392.0       1180.0  33.220339\n",
       "2             Asian         6        0        519.0       1180.0  43.983051\n",
       "3             Asian         4        1       1764.0       6991.0  25.232442\n",
       "4             Asian         5        1       2453.0       6991.0  35.087970\n",
       "5             Asian         6        1       2774.0       6991.0  39.679588\n",
       "6             Asian         4        2        425.0       2126.0  19.990593\n",
       "7             Asian         5        2        841.0       2126.0  39.557855\n",
       "8             Asian         6        2        860.0       2126.0  40.451552\n",
       "9             Black         4        0       1445.0       8179.0  17.667196\n",
       "10            Black         5        0       2871.0       8179.0  35.102091\n",
       "11            Black         6        0       3863.0       8179.0  47.230713\n",
       "12            Black         4        1       3921.0      17781.0  22.051628\n",
       "13            Black         5        1       6344.0      17781.0  35.678533\n",
       "14            Black         6        1       7516.0      17781.0  42.269839\n",
       "15            Black         4        2       1217.0       5181.0  23.489674\n",
       "16            Black         5        2       1919.0       5181.0  37.039182\n",
       "17            Black         6        2       2045.0       5181.0  39.471145\n",
       "18         Hispanic         4        0       2829.0      14081.0  20.090903\n",
       "19         Hispanic         5        0       5024.0      14081.0  35.679284\n",
       "20         Hispanic         6        0       6228.0      14081.0  44.229813\n",
       "21         Hispanic         4        1       9975.0      41354.0  24.121004\n",
       "22         Hispanic         5        1      14799.0      41354.0  35.786139\n",
       "23         Hispanic         6        1      16580.0      41354.0  40.092857\n",
       "24         Hispanic         4        2       2066.0       9029.0  22.881825\n",
       "25         Hispanic         5        2       3361.0       9029.0  37.224499\n",
       "26         Hispanic         6        2       3602.0       9029.0  39.893676\n",
       "27     Multi-Racial         4        0          1.0          4.0  25.000000\n",
       "28     Multi-Racial         5        0          2.0          4.0  50.000000\n",
       "29     Multi-Racial         6        0          1.0          4.0  25.000000\n",
       "30     Multi-Racial         4        1         12.0         47.0  25.531915\n",
       "31     Multi-Racial         5        1         18.0         47.0  38.297872\n",
       "32     Multi-Racial         6        1         17.0         47.0  36.170213\n",
       "33     Multi-Racial         4        2         12.0         55.0  21.818182\n",
       "34     Multi-Racial         5        2         23.0         55.0  41.818182\n",
       "35     Multi-Racial         6        2         20.0         55.0  36.363636\n",
       "36  Native American         4        0         40.0        245.0  16.326531\n",
       "37  Native American         5        0         92.0        245.0  37.551020\n",
       "38  Native American         6        0        113.0        245.0  46.122449\n",
       "39  Native American         4        1         90.0        301.0  29.900332\n",
       "40  Native American         5        1        105.0        301.0  34.883721\n",
       "41  Native American         6        1        106.0        301.0  35.215947\n",
       "42  Native American         4        2          7.0         32.0  21.875000\n",
       "43  Native American         5        2         12.0         32.0  37.500000\n",
       "44  Native American         6        2         13.0         32.0  40.625000\n",
       "45            White         4        0        103.0        656.0  15.701220\n",
       "46            White         5        0        218.0        656.0  33.231707\n",
       "47            White         6        0        335.0        656.0  51.067073\n",
       "48            White         4        1        806.0       3582.0  22.501396\n",
       "49            White         5        1       1307.0       3582.0  36.487996\n",
       "50            White         6        1       1469.0       3582.0  41.010609\n",
       "51            White         4        2        613.0       2791.0  21.963454\n",
       "52            White         5        2       1045.0       2791.0  37.441777\n",
       "53            White         6        2       1133.0       2791.0  40.594769"
      ]
     },
     "execution_count": 87,
     "metadata": {},
     "output_type": "execute_result"
    }
   ],
   "source": [
    "ethnicity_data_dropout_per_duration = filter_dropout_per_duration(ethnicity_data)\n",
    "ethnicity_data_dropout_per_duration"
   ]
  },
  {
   "cell_type": "code",
   "execution_count": 214,
   "metadata": {},
   "outputs": [
    {
     "data": {
      "application/vnd.plotly.v1+json": {
       "config": {
        "plotlyServerURL": "https://plot.ly"
       },
       "data": [
        {
         "marker": {
          "color": "#1f77b4"
         },
         "name": "4 Years",
         "showlegend": false,
         "type": "bar",
         "x": [
          "Asian",
          "Black",
          "Hispanic",
          "Multi-Racial",
          "Native American",
          "White"
         ],
         "xaxis": "x",
         "y": [
          22.796610169491522,
          17.667196478787137,
          20.090902634756056,
          25,
          16.3265306122449,
          15.701219512195122
         ],
         "yaxis": "y"
        },
        {
         "marker": {
          "color": "#ff7f0e"
         },
         "name": "5 Years",
         "showlegend": false,
         "type": "bar",
         "x": [
          "Asian",
          "Black",
          "Hispanic",
          "Multi-Racial",
          "Native American",
          "White"
         ],
         "xaxis": "x",
         "y": [
          33.220338983050844,
          35.102090720136935,
          35.679284141751296,
          50,
          37.55102040816327,
          33.23170731707317
         ],
         "yaxis": "y"
        },
        {
         "marker": {
          "color": "#2ca02c"
         },
         "name": "6 Years",
         "showlegend": false,
         "type": "bar",
         "x": [
          "Asian",
          "Black",
          "Hispanic",
          "Multi-Racial",
          "Native American",
          "White"
         ],
         "xaxis": "x",
         "y": [
          43.983050847457626,
          47.230712801075924,
          44.22981322349265,
          25,
          46.12244897959184,
          51.0670731707317
         ],
         "yaxis": "y"
        },
        {
         "marker": {
          "color": "#1f77b4"
         },
         "name": "4 Years",
         "showlegend": false,
         "type": "bar",
         "x": [
          "Asian",
          "Black",
          "Hispanic",
          "Multi-Racial",
          "Native American",
          "White"
         ],
         "xaxis": "x2",
         "y": [
          25.232441710770992,
          22.051628142399192,
          24.121004014121972,
          25.53191489361702,
          29.900332225913623,
          22.50139586823004
         ],
         "yaxis": "y2"
        },
        {
         "marker": {
          "color": "#ff7f0e"
         },
         "name": "5 Years",
         "showlegend": false,
         "type": "bar",
         "x": [
          "Asian",
          "Black",
          "Hispanic",
          "Multi-Racial",
          "Native American",
          "White"
         ],
         "xaxis": "x2",
         "y": [
          35.08797024746102,
          35.678533265845566,
          35.78613918847028,
          38.297872340425535,
          34.883720930232556,
          36.487995533221664
         ],
         "yaxis": "y2"
        },
        {
         "marker": {
          "color": "#2ca02c"
         },
         "name": "6 Years",
         "showlegend": false,
         "type": "bar",
         "x": [
          "Asian",
          "Black",
          "Hispanic",
          "Multi-Racial",
          "Native American",
          "White"
         ],
         "xaxis": "x2",
         "y": [
          39.679588041767985,
          42.269838591755246,
          40.09285679740775,
          36.17021276595745,
          35.21594684385382,
          41.010608598548295
         ],
         "yaxis": "y2"
        },
        {
         "marker": {
          "color": "#1f77b4"
         },
         "name": "4 Years",
         "type": "bar",
         "x": [
          "Asian",
          "Black",
          "Hispanic",
          "Multi-Racial",
          "Native American",
          "White"
         ],
         "xaxis": "x3",
         "y": [
          19.990592662276576,
          23.489673808145145,
          22.88182522981504,
          21.818181818181817,
          21.875,
          21.963453959154425
         ],
         "yaxis": "y3"
        },
        {
         "marker": {
          "color": "#ff7f0e"
         },
         "name": "5 Years",
         "type": "bar",
         "x": [
          "Asian",
          "Black",
          "Hispanic",
          "Multi-Racial",
          "Native American",
          "White"
         ],
         "xaxis": "x3",
         "y": [
          39.55785512699906,
          37.03918162516889,
          37.22449883708052,
          41.81818181818181,
          37.5,
          37.44177714080975
         ],
         "yaxis": "y3"
        },
        {
         "marker": {
          "color": "#2ca02c"
         },
         "name": "6 Years",
         "type": "bar",
         "x": [
          "Asian",
          "Black",
          "Hispanic",
          "Multi-Racial",
          "Native American",
          "White"
         ],
         "xaxis": "x3",
         "y": [
          40.451552210724365,
          39.471144566685965,
          39.89367593310444,
          36.36363636363637,
          40.625,
          40.594768900035824
         ],
         "yaxis": "y3"
        }
       ],
       "layout": {
        "annotations": [
         {
          "font": {
           "size": 16
          },
          "showarrow": false,
          "text": "Cluster 0",
          "x": 0.5,
          "xanchor": "center",
          "xref": "paper",
          "y": 1,
          "yanchor": "bottom",
          "yref": "paper"
         },
         {
          "font": {
           "size": 16
          },
          "showarrow": false,
          "text": "Cluster 1",
          "x": 0.5,
          "xanchor": "center",
          "xref": "paper",
          "y": 0.6111111111111112,
          "yanchor": "bottom",
          "yref": "paper"
         },
         {
          "font": {
           "size": 16
          },
          "showarrow": false,
          "text": "Cluster 2",
          "x": 0.5,
          "xanchor": "center",
          "xref": "paper",
          "y": 0.22222222222222224,
          "yanchor": "bottom",
          "yref": "paper"
         }
        ],
        "height": 900,
        "template": {
         "layout": {
          "plot_bgcolor": "white",
          "xaxis": {
           "gridcolor": "lightgray"
          },
          "yaxis": {
           "gridcolor": "lightgray"
          }
         }
        },
        "title": {
         "text": "Distribution of Dropouts in Every Cluster per Ethnicity Based on Duration in School"
        },
        "width": 1200,
        "xaxis": {
         "anchor": "y",
         "domain": [
          0,
          1
         ],
         "title": {
          "text": "Ethnicity"
         }
        },
        "xaxis2": {
         "anchor": "y2",
         "domain": [
          0,
          1
         ],
         "title": {
          "text": "Ethnicity"
         }
        },
        "xaxis3": {
         "anchor": "y3",
         "domain": [
          0,
          1
         ],
         "title": {
          "text": "Ethnicity"
         }
        },
        "yaxis": {
         "anchor": "x",
         "domain": [
          0.7777777777777778,
          1
         ],
         "range": [
          0,
          51.0670731707317
         ],
         "title": {
          "text": "Distribution %"
         }
        },
        "yaxis2": {
         "anchor": "x2",
         "domain": [
          0.3888888888888889,
          0.6111111111111112
         ],
         "range": [
          0,
          51.0670731707317
         ],
         "title": {
          "text": "Distribution %"
         }
        },
        "yaxis3": {
         "anchor": "x3",
         "domain": [
          0,
          0.22222222222222224
         ],
         "range": [
          0,
          51.0670731707317
         ],
         "title": {
          "text": "Distribution %"
         }
        }
       }
      }
     },
     "metadata": {},
     "output_type": "display_data"
    }
   ],
   "source": [
    "fig = make_subplots(rows=len(ethnicity_data_dropout_per_duration['Cluster'].unique()), cols=1, subplot_titles=('Cluster 0', 'Cluster 1', 'Cluster 2'))\n",
    "\n",
    "for cluster in ethnicity_data_dropout_per_duration['Cluster'].unique():\n",
    "    cluster_row = ethnicity_data_dropout_per_duration[ethnicity_data_dropout_per_duration['Cluster'] == cluster]\n",
    "    cluster_index = ethnicity_data_dropout_per_duration['Cluster'].unique().tolist().index(cluster)\n",
    "    for duration in cluster_row['Duration'].unique():\n",
    "        duration_row = cluster_row[cluster_row['Duration'] == duration]\n",
    "        duration_index = cluster_row['Duration'].unique().tolist().index(duration)\n",
    "        fig.add_trace(go.Bar(x=duration_row['Category'], y=duration_row['Dropout %'], marker=dict(color=colors[duration_index]), name=f'{duration} Years'), row=cluster_index+1, col=1)\n",
    "        fig.update_yaxes(range=[0, ethnicity_data_dropout_per_duration['Dropout %'].max()], title_text='Distribution %')\n",
    "        fig.update_xaxes(title_text='Ethnicity')\n",
    "\n",
    "for i in range(len(fig.data) - len(ethnicity_data_dropout_per_duration['Duration'].unique())):\n",
    "    fig.data[i].showlegend = False\n",
    "\n",
    "fig.update_layout(\n",
    "    width=1200,\n",
    "    height=900,\n",
    "    title_text = \"Distribution of Dropouts in Every Cluster per Ethnicity Based on Duration in School\",\n",
    ")\n",
    "\n",
    "fig.show()"
   ]
  },
  {
   "cell_type": "markdown",
   "metadata": {},
   "source": [
    "### Test Results"
   ]
  },
  {
   "cell_type": "code",
   "execution_count": 190,
   "metadata": {},
   "outputs": [
    {
     "data": {
      "text/html": [
       "<div>\n",
       "<style scoped>\n",
       "    .dataframe tbody tr th:only-of-type {\n",
       "        vertical-align: middle;\n",
       "    }\n",
       "\n",
       "    .dataframe tbody tr th {\n",
       "        vertical-align: top;\n",
       "    }\n",
       "\n",
       "    .dataframe thead th {\n",
       "        text-align: right;\n",
       "    }\n",
       "</style>\n",
       "<table border=\"1\" class=\"dataframe\">\n",
       "  <thead>\n",
       "    <tr style=\"text-align: right;\">\n",
       "      <th></th>\n",
       "      <th>School Name</th>\n",
       "      <th>Cluster</th>\n",
       "      <th>Year</th>\n",
       "      <th>Category</th>\n",
       "      <th>Regents Exam</th>\n",
       "      <th>Total Tested</th>\n",
       "      <th>Number Scoring 65 or Above</th>\n",
       "      <th>Regents Subject</th>\n",
       "    </tr>\n",
       "  </thead>\n",
       "  <tbody>\n",
       "    <tr>\n",
       "      <th>0</th>\n",
       "      <td>A-TECH HIGH SCHOOL</td>\n",
       "      <td>1</td>\n",
       "      <td>2015</td>\n",
       "      <td>Black</td>\n",
       "      <td>Algebra2/Trigonometry</td>\n",
       "      <td>1</td>\n",
       "      <td>NaN</td>\n",
       "      <td>Mathematics</td>\n",
       "    </tr>\n",
       "    <tr>\n",
       "      <th>1</th>\n",
       "      <td>A-TECH HIGH SCHOOL</td>\n",
       "      <td>1</td>\n",
       "      <td>2015</td>\n",
       "      <td>Hispanic</td>\n",
       "      <td>Algebra2/Trigonometry</td>\n",
       "      <td>6</td>\n",
       "      <td>NaN</td>\n",
       "      <td>Mathematics</td>\n",
       "    </tr>\n",
       "    <tr>\n",
       "      <th>2</th>\n",
       "      <td>A-TECH HIGH SCHOOL</td>\n",
       "      <td>1</td>\n",
       "      <td>2015</td>\n",
       "      <td>Multiple Race Categories Not Represented</td>\n",
       "      <td>Common Core Algebra</td>\n",
       "      <td>1</td>\n",
       "      <td>NaN</td>\n",
       "      <td>Mathematics</td>\n",
       "    </tr>\n",
       "    <tr>\n",
       "      <th>3</th>\n",
       "      <td>A-TECH HIGH SCHOOL</td>\n",
       "      <td>1</td>\n",
       "      <td>2015</td>\n",
       "      <td>White</td>\n",
       "      <td>Common Core Algebra</td>\n",
       "      <td>1</td>\n",
       "      <td>NaN</td>\n",
       "      <td>Mathematics</td>\n",
       "    </tr>\n",
       "    <tr>\n",
       "      <th>4</th>\n",
       "      <td>A-TECH HIGH SCHOOL</td>\n",
       "      <td>1</td>\n",
       "      <td>2015</td>\n",
       "      <td>Hispanic</td>\n",
       "      <td>Common Core Algebra</td>\n",
       "      <td>15</td>\n",
       "      <td>2.0</td>\n",
       "      <td>Mathematics</td>\n",
       "    </tr>\n",
       "    <tr>\n",
       "      <th>...</th>\n",
       "      <td>...</td>\n",
       "      <td>...</td>\n",
       "      <td>...</td>\n",
       "      <td>...</td>\n",
       "      <td>...</td>\n",
       "      <td>...</td>\n",
       "      <td>...</td>\n",
       "      <td>...</td>\n",
       "    </tr>\n",
       "    <tr>\n",
       "      <th>108069</th>\n",
       "      <td>YOUNG WOMEN'S LEADERSHIP SCHOOL, QUEENS</td>\n",
       "      <td>2</td>\n",
       "      <td>2023</td>\n",
       "      <td>White</td>\n",
       "      <td>US History and Government</td>\n",
       "      <td>2</td>\n",
       "      <td>NaN</td>\n",
       "      <td>Social Studies</td>\n",
       "    </tr>\n",
       "    <tr>\n",
       "      <th>108070</th>\n",
       "      <td>YOUNG WOMEN'S LEADERSHIP SCHOOL, QUEENS</td>\n",
       "      <td>2</td>\n",
       "      <td>2023</td>\n",
       "      <td>Multiple Race Categories Not Represented</td>\n",
       "      <td>US History and Government</td>\n",
       "      <td>6</td>\n",
       "      <td>NaN</td>\n",
       "      <td>Social Studies</td>\n",
       "    </tr>\n",
       "    <tr>\n",
       "      <th>108071</th>\n",
       "      <td>YOUNG WOMEN'S LEADERSHIP SCHOOL, QUEENS</td>\n",
       "      <td>2</td>\n",
       "      <td>2023</td>\n",
       "      <td>Hispanic</td>\n",
       "      <td>US History and Government</td>\n",
       "      <td>12</td>\n",
       "      <td>9.0</td>\n",
       "      <td>Social Studies</td>\n",
       "    </tr>\n",
       "    <tr>\n",
       "      <th>108072</th>\n",
       "      <td>YOUNG WOMEN'S LEADERSHIP SCHOOL, QUEENS</td>\n",
       "      <td>2</td>\n",
       "      <td>2023</td>\n",
       "      <td>Black</td>\n",
       "      <td>US History and Government</td>\n",
       "      <td>21</td>\n",
       "      <td>21.0</td>\n",
       "      <td>Social Studies</td>\n",
       "    </tr>\n",
       "    <tr>\n",
       "      <th>108073</th>\n",
       "      <td>YOUNG WOMEN'S LEADERSHIP SCHOOL, QUEENS</td>\n",
       "      <td>2</td>\n",
       "      <td>2023</td>\n",
       "      <td>Asian</td>\n",
       "      <td>US History and Government</td>\n",
       "      <td>32</td>\n",
       "      <td>31.0</td>\n",
       "      <td>Social Studies</td>\n",
       "    </tr>\n",
       "  </tbody>\n",
       "</table>\n",
       "<p>108074 rows × 8 columns</p>\n",
       "</div>"
      ],
      "text/plain": [
       "                                    School Name  Cluster  Year  \\\n",
       "0                            A-TECH HIGH SCHOOL        1  2015   \n",
       "1                            A-TECH HIGH SCHOOL        1  2015   \n",
       "2                            A-TECH HIGH SCHOOL        1  2015   \n",
       "3                            A-TECH HIGH SCHOOL        1  2015   \n",
       "4                            A-TECH HIGH SCHOOL        1  2015   \n",
       "...                                         ...      ...   ...   \n",
       "108069  YOUNG WOMEN'S LEADERSHIP SCHOOL, QUEENS        2  2023   \n",
       "108070  YOUNG WOMEN'S LEADERSHIP SCHOOL, QUEENS        2  2023   \n",
       "108071  YOUNG WOMEN'S LEADERSHIP SCHOOL, QUEENS        2  2023   \n",
       "108072  YOUNG WOMEN'S LEADERSHIP SCHOOL, QUEENS        2  2023   \n",
       "108073  YOUNG WOMEN'S LEADERSHIP SCHOOL, QUEENS        2  2023   \n",
       "\n",
       "                                        Category               Regents Exam  \\\n",
       "0                                          Black      Algebra2/Trigonometry   \n",
       "1                                       Hispanic      Algebra2/Trigonometry   \n",
       "2       Multiple Race Categories Not Represented        Common Core Algebra   \n",
       "3                                          White        Common Core Algebra   \n",
       "4                                       Hispanic        Common Core Algebra   \n",
       "...                                          ...                        ...   \n",
       "108069                                     White  US History and Government   \n",
       "108070  Multiple Race Categories Not Represented  US History and Government   \n",
       "108071                                  Hispanic  US History and Government   \n",
       "108072                                     Black  US History and Government   \n",
       "108073                                     Asian  US History and Government   \n",
       "\n",
       "        Total Tested  Number Scoring 65 or Above Regents Subject  \n",
       "0                  1                         NaN     Mathematics  \n",
       "1                  6                         NaN     Mathematics  \n",
       "2                  1                         NaN     Mathematics  \n",
       "3                  1                         NaN     Mathematics  \n",
       "4                 15                         2.0     Mathematics  \n",
       "...              ...                         ...             ...  \n",
       "108069             2                         NaN  Social Studies  \n",
       "108070             6                         NaN  Social Studies  \n",
       "108071            12                         9.0  Social Studies  \n",
       "108072            21                        21.0  Social Studies  \n",
       "108073            32                        31.0  Social Studies  \n",
       "\n",
       "[108074 rows x 8 columns]"
      ]
     },
     "execution_count": 190,
     "metadata": {},
     "output_type": "execute_result"
    }
   ],
   "source": [
    "ethnicity_test_results"
   ]
  },
  {
   "cell_type": "code",
   "execution_count": 164,
   "metadata": {},
   "outputs": [
    {
     "data": {
      "text/html": [
       "<div>\n",
       "<style scoped>\n",
       "    .dataframe tbody tr th:only-of-type {\n",
       "        vertical-align: middle;\n",
       "    }\n",
       "\n",
       "    .dataframe tbody tr th {\n",
       "        vertical-align: top;\n",
       "    }\n",
       "\n",
       "    .dataframe thead th {\n",
       "        text-align: right;\n",
       "    }\n",
       "</style>\n",
       "<table border=\"1\" class=\"dataframe\">\n",
       "  <thead>\n",
       "    <tr style=\"text-align: right;\">\n",
       "      <th></th>\n",
       "      <th>Category</th>\n",
       "      <th>Cluster</th>\n",
       "      <th>Regents Subject</th>\n",
       "      <th>Total Tested</th>\n",
       "      <th>Number Scoring 65 or Above</th>\n",
       "      <th>% Passed</th>\n",
       "    </tr>\n",
       "  </thead>\n",
       "  <tbody>\n",
       "    <tr>\n",
       "      <th>0</th>\n",
       "      <td>Asian</td>\n",
       "      <td>0</td>\n",
       "      <td>English</td>\n",
       "      <td>1671</td>\n",
       "      <td>947.0</td>\n",
       "      <td>56.672651</td>\n",
       "    </tr>\n",
       "    <tr>\n",
       "      <th>1</th>\n",
       "      <td>Asian</td>\n",
       "      <td>0</td>\n",
       "      <td>Languages Other Than English</td>\n",
       "      <td>477</td>\n",
       "      <td>277.0</td>\n",
       "      <td>58.071279</td>\n",
       "    </tr>\n",
       "    <tr>\n",
       "      <th>2</th>\n",
       "      <td>Asian</td>\n",
       "      <td>0</td>\n",
       "      <td>Mathematics</td>\n",
       "      <td>2744</td>\n",
       "      <td>1773.0</td>\n",
       "      <td>64.613703</td>\n",
       "    </tr>\n",
       "    <tr>\n",
       "      <th>3</th>\n",
       "      <td>Asian</td>\n",
       "      <td>0</td>\n",
       "      <td>Science</td>\n",
       "      <td>1927</td>\n",
       "      <td>1231.0</td>\n",
       "      <td>63.881681</td>\n",
       "    </tr>\n",
       "    <tr>\n",
       "      <th>4</th>\n",
       "      <td>Asian</td>\n",
       "      <td>0</td>\n",
       "      <td>Social Studies</td>\n",
       "      <td>2421</td>\n",
       "      <td>1490.0</td>\n",
       "      <td>61.544816</td>\n",
       "    </tr>\n",
       "    <tr>\n",
       "      <th>...</th>\n",
       "      <td>...</td>\n",
       "      <td>...</td>\n",
       "      <td>...</td>\n",
       "      <td>...</td>\n",
       "      <td>...</td>\n",
       "      <td>...</td>\n",
       "    </tr>\n",
       "    <tr>\n",
       "      <th>70</th>\n",
       "      <td>White</td>\n",
       "      <td>2</td>\n",
       "      <td>English</td>\n",
       "      <td>44481</td>\n",
       "      <td>39091.0</td>\n",
       "      <td>87.882467</td>\n",
       "    </tr>\n",
       "    <tr>\n",
       "      <th>71</th>\n",
       "      <td>White</td>\n",
       "      <td>2</td>\n",
       "      <td>Languages Other Than English</td>\n",
       "      <td>21585</td>\n",
       "      <td>18601.0</td>\n",
       "      <td>86.175585</td>\n",
       "    </tr>\n",
       "    <tr>\n",
       "      <th>72</th>\n",
       "      <td>White</td>\n",
       "      <td>2</td>\n",
       "      <td>Mathematics</td>\n",
       "      <td>110443</td>\n",
       "      <td>77941.0</td>\n",
       "      <td>70.571245</td>\n",
       "    </tr>\n",
       "    <tr>\n",
       "      <th>73</th>\n",
       "      <td>White</td>\n",
       "      <td>2</td>\n",
       "      <td>Science</td>\n",
       "      <td>95404</td>\n",
       "      <td>69163.0</td>\n",
       "      <td>72.494864</td>\n",
       "    </tr>\n",
       "    <tr>\n",
       "      <th>74</th>\n",
       "      <td>White</td>\n",
       "      <td>2</td>\n",
       "      <td>Social Studies</td>\n",
       "      <td>76963</td>\n",
       "      <td>64864.0</td>\n",
       "      <td>84.279459</td>\n",
       "    </tr>\n",
       "  </tbody>\n",
       "</table>\n",
       "<p>75 rows × 6 columns</p>\n",
       "</div>"
      ],
      "text/plain": [
       "   Category  Cluster               Regents Subject  Total Tested  \\\n",
       "0     Asian        0                       English          1671   \n",
       "1     Asian        0  Languages Other Than English           477   \n",
       "2     Asian        0                   Mathematics          2744   \n",
       "3     Asian        0                       Science          1927   \n",
       "4     Asian        0                Social Studies          2421   \n",
       "..      ...      ...                           ...           ...   \n",
       "70    White        2                       English         44481   \n",
       "71    White        2  Languages Other Than English         21585   \n",
       "72    White        2                   Mathematics        110443   \n",
       "73    White        2                       Science         95404   \n",
       "74    White        2                Social Studies         76963   \n",
       "\n",
       "    Number Scoring 65 or Above   % Passed  \n",
       "0                        947.0  56.672651  \n",
       "1                        277.0  58.071279  \n",
       "2                       1773.0  64.613703  \n",
       "3                       1231.0  63.881681  \n",
       "4                       1490.0  61.544816  \n",
       "..                         ...        ...  \n",
       "70                     39091.0  87.882467  \n",
       "71                     18601.0  86.175585  \n",
       "72                     77941.0  70.571245  \n",
       "73                     69163.0  72.494864  \n",
       "74                     64864.0  84.279459  \n",
       "\n",
       "[75 rows x 6 columns]"
      ]
     },
     "execution_count": 164,
     "metadata": {},
     "output_type": "execute_result"
    }
   ],
   "source": [
    "ethnicity_data_test_results = ethnicity_test_results.groupby(['Category', 'Cluster', 'Regents Subject'])[['Total Tested', 'Number Scoring 65 or Above']].sum().reset_index()\n",
    "ethnicity_data_test_results['% Passed'] = ethnicity_data_test_results['Number Scoring 65 or Above'] / ethnicity_data_test_results['Total Tested'] * 100\n",
    "ethnicity_data_test_results"
   ]
  },
  {
   "cell_type": "code",
   "execution_count": 216,
   "metadata": {},
   "outputs": [
    {
     "data": {
      "application/vnd.plotly.v1+json": {
       "config": {
        "plotlyServerURL": "https://plot.ly"
       },
       "data": [
        {
         "marker": {
          "color": "#1f77b4"
         },
         "name": "Cluster 0",
         "showlegend": false,
         "type": "bar",
         "x": [
          "English",
          "Languages Other Than English",
          "Mathematics",
          "Science",
          "Social Studies"
         ],
         "xaxis": "x",
         "y": [
          56.67265110712149,
          58.07127882599581,
          64.6137026239067,
          63.8816813700052,
          61.54481619165634
         ],
         "yaxis": "y"
        },
        {
         "marker": {
          "color": "#ff7f0e"
         },
         "name": "Cluster 1",
         "showlegend": false,
         "type": "bar",
         "x": [
          "English",
          "Languages Other Than English",
          "Mathematics",
          "Science",
          "Social Studies"
         ],
         "xaxis": "x",
         "y": [
          67.77921569807687,
          70.78939588055583,
          61.03293978112028,
          60.15814975593061,
          69.61766467684299
         ],
         "yaxis": "y"
        },
        {
         "marker": {
          "color": "#2ca02c"
         },
         "name": "Cluster 2",
         "showlegend": false,
         "type": "bar",
         "x": [
          "English",
          "Languages Other Than English",
          "Mathematics",
          "Science",
          "Social Studies"
         ],
         "xaxis": "x",
         "y": [
          87.85424389901084,
          87.72775052557814,
          81.96130422173427,
          81.05071180411633,
          89.33600141741968
         ],
         "yaxis": "y"
        },
        {
         "marker": {
          "color": "#1f77b4"
         },
         "name": "Cluster 0",
         "showlegend": false,
         "type": "bar",
         "x": [
          "English",
          "Languages Other Than English",
          "Mathematics",
          "Science",
          "Social Studies"
         ],
         "xaxis": "x2",
         "y": [
          51.51482824834649,
          57.22543352601156,
          31.888579387186628,
          34.763491005996,
          40.01280819724624
         ],
         "yaxis": "y2"
        },
        {
         "marker": {
          "color": "#ff7f0e"
         },
         "name": "Cluster 1",
         "showlegend": false,
         "type": "bar",
         "x": [
          "English",
          "Languages Other Than English",
          "Mathematics",
          "Science",
          "Social Studies"
         ],
         "xaxis": "x2",
         "y": [
          64.30113696416977,
          48.91830804003875,
          34.74447590275691,
          40.193047281502146,
          50.713708591435505
         ],
         "yaxis": "y2"
        },
        {
         "marker": {
          "color": "#2ca02c"
         },
         "name": "Cluster 2",
         "showlegend": false,
         "type": "bar",
         "x": [
          "English",
          "Languages Other Than English",
          "Mathematics",
          "Science",
          "Social Studies"
         ],
         "xaxis": "x2",
         "y": [
          77.41805433829974,
          63.2633357470432,
          48.321062025881304,
          52.35824337071586,
          67.31466889483538
         ],
         "yaxis": "y2"
        },
        {
         "marker": {
          "color": "#1f77b4"
         },
         "name": "Cluster 0",
         "showlegend": false,
         "type": "bar",
         "x": [
          "English",
          "Languages Other Than English",
          "Mathematics",
          "Science",
          "Social Studies"
         ],
         "xaxis": "x3",
         "y": [
          55.04661532225374,
          62.06597222222222,
          33.36827060505002,
          39.87104337631887,
          42.533324747247086
         ],
         "yaxis": "y3"
        },
        {
         "marker": {
          "color": "#ff7f0e"
         },
         "name": "Cluster 1",
         "showlegend": false,
         "type": "bar",
         "x": [
          "English",
          "Languages Other Than English",
          "Mathematics",
          "Science",
          "Social Studies"
         ],
         "xaxis": "x3",
         "y": [
          62.38819515345079,
          78.91850316021804,
          37.72920605996786,
          42.82646624614146,
          52.44777494953041
         ],
         "yaxis": "y3"
        },
        {
         "marker": {
          "color": "#2ca02c"
         },
         "name": "Cluster 2",
         "showlegend": false,
         "type": "bar",
         "x": [
          "English",
          "Languages Other Than English",
          "Mathematics",
          "Science",
          "Social Studies"
         ],
         "xaxis": "x3",
         "y": [
          80.68579947819605,
          86.10992336282604,
          53.19288023224691,
          57.7679296748585,
          73.29114883297969
         ],
         "yaxis": "y3"
        },
        {
         "marker": {
          "color": "#1f77b4"
         },
         "name": "Cluster 0",
         "showlegend": false,
         "type": "bar",
         "x": [
          "English",
          "Languages Other Than English",
          "Mathematics",
          "Science",
          "Social Studies"
         ],
         "xaxis": "x4",
         "y": [
          2.967359050445104,
          0,
          3.1161473087818696,
          1.8181818181818181,
          0.40404040404040403
         ],
         "yaxis": "y4"
        },
        {
         "marker": {
          "color": "#ff7f0e"
         },
         "name": "Cluster 1",
         "showlegend": false,
         "type": "bar",
         "x": [
          "English",
          "Languages Other Than English",
          "Mathematics",
          "Science",
          "Social Studies"
         ],
         "xaxis": "x4",
         "y": [
          41.30808950086058,
          21.895006402048654,
          28.73727087576375,
          31.487032451453146,
          39.440809042236765
         ],
         "yaxis": "y4"
        },
        {
         "marker": {
          "color": "#2ca02c"
         },
         "name": "Cluster 2",
         "showlegend": false,
         "type": "bar",
         "x": [
          "English",
          "Languages Other Than English",
          "Mathematics",
          "Science",
          "Social Studies"
         ],
         "xaxis": "x4",
         "y": [
          59.05966885348328,
          45.94701463028865,
          50.50316194665933,
          51.404026157199645,
          59.465381244522355
         ],
         "yaxis": "y4"
        },
        {
         "marker": {
          "color": "#1f77b4"
         },
         "name": "Cluster 0",
         "type": "bar",
         "x": [
          "English",
          "Languages Other Than English",
          "Mathematics",
          "Science",
          "Social Studies"
         ],
         "xaxis": "x5",
         "y": [
          35.1555136663525,
          0,
          13.778256189451021,
          18.424566088117487,
          18.8470066518847
         ],
         "yaxis": "y5"
        },
        {
         "marker": {
          "color": "#ff7f0e"
         },
         "name": "Cluster 1",
         "type": "bar",
         "x": [
          "English",
          "Languages Other Than English",
          "Mathematics",
          "Science",
          "Social Studies"
         ],
         "xaxis": "x5",
         "y": [
          65.9454822722074,
          72.48908296943232,
          51.58825455736273,
          53.7877702992983,
          64.66110689916603
         ],
         "yaxis": "y5"
        },
        {
         "marker": {
          "color": "#2ca02c"
         },
         "name": "Cluster 2",
         "type": "bar",
         "x": [
          "English",
          "Languages Other Than English",
          "Mathematics",
          "Science",
          "Social Studies"
         ],
         "xaxis": "x5",
         "y": [
          87.88246667116297,
          86.17558489691916,
          70.57124489555699,
          72.49486394700432,
          84.27945896079935
         ],
         "yaxis": "y5"
        }
       ],
       "layout": {
        "annotations": [
         {
          "font": {
           "size": 16
          },
          "showarrow": false,
          "text": "Asian",
          "x": 0.14444444444444446,
          "xanchor": "center",
          "xref": "paper",
          "y": 1,
          "yanchor": "bottom",
          "yref": "paper"
         },
         {
          "font": {
           "size": 16
          },
          "showarrow": false,
          "text": "Black",
          "x": 0.5,
          "xanchor": "center",
          "xref": "paper",
          "y": 1,
          "yanchor": "bottom",
          "yref": "paper"
         },
         {
          "font": {
           "size": 16
          },
          "showarrow": false,
          "text": "Hispanic",
          "x": 0.8555555555555556,
          "xanchor": "center",
          "xref": "paper",
          "y": 1,
          "yanchor": "bottom",
          "yref": "paper"
         },
         {
          "font": {
           "size": 16
          },
          "showarrow": false,
          "text": "Multiple Race Categories Not Represented",
          "x": 0.14444444444444446,
          "xanchor": "center",
          "xref": "paper",
          "y": 0.375,
          "yanchor": "bottom",
          "yref": "paper"
         },
         {
          "font": {
           "size": 16
          },
          "showarrow": false,
          "text": "White",
          "x": 0.5,
          "xanchor": "center",
          "xref": "paper",
          "y": 0.375,
          "yanchor": "bottom",
          "yref": "paper"
         }
        ],
        "height": 800,
        "margin": {
         "b": 125
        },
        "template": {
         "layout": {
          "plot_bgcolor": "white",
          "xaxis": {
           "gridcolor": "lightgray"
          },
          "yaxis": {
           "gridcolor": "lightgray"
          }
         }
        },
        "title": {
         "text": "Rate of Students Who Aproved each Regents Subject in Every Cluster per Ethnicity"
        },
        "width": 1200,
        "xaxis": {
         "anchor": "y",
         "domain": [
          0,
          0.2888888888888889
         ]
        },
        "xaxis2": {
         "anchor": "y2",
         "domain": [
          0.35555555555555557,
          0.6444444444444445
         ]
        },
        "xaxis3": {
         "anchor": "y3",
         "domain": [
          0.7111111111111111,
          1
         ]
        },
        "xaxis4": {
         "anchor": "y4",
         "domain": [
          0,
          0.2888888888888889
         ]
        },
        "xaxis5": {
         "anchor": "y5",
         "domain": [
          0.35555555555555557,
          0.6444444444444445
         ]
        },
        "xaxis6": {
         "anchor": "y6",
         "domain": [
          0.7111111111111111,
          1
         ]
        },
        "yaxis": {
         "anchor": "x",
         "domain": [
          0.625,
          1
         ],
         "range": [
          0,
          89.33600141741968
         ],
         "title": {
          "text": "Approved %"
         }
        },
        "yaxis2": {
         "anchor": "x2",
         "domain": [
          0.625,
          1
         ],
         "range": [
          0,
          89.33600141741968
         ],
         "title": {
          "text": "Approved %"
         }
        },
        "yaxis3": {
         "anchor": "x3",
         "domain": [
          0.625,
          1
         ],
         "range": [
          0,
          89.33600141741968
         ],
         "title": {
          "text": "Approved %"
         }
        },
        "yaxis4": {
         "anchor": "x4",
         "domain": [
          0,
          0.375
         ],
         "range": [
          0,
          89.33600141741968
         ],
         "title": {
          "text": "Approved %"
         }
        },
        "yaxis5": {
         "anchor": "x5",
         "domain": [
          0,
          0.375
         ],
         "range": [
          0,
          89.33600141741968
         ],
         "title": {
          "text": "Approved %"
         }
        },
        "yaxis6": {
         "anchor": "x6",
         "domain": [
          0,
          0.375
         ],
         "range": [
          0,
          89.33600141741968
         ],
         "title": {
          "text": "Approved %"
         }
        }
       }
      }
     },
     "metadata": {},
     "output_type": "display_data"
    }
   ],
   "source": [
    "fig = make_subplots(rows=2, cols=len(ethnicity_data_test_results['Category'].unique())//2+1, subplot_titles=(ethnicity_data_test_results['Category'].unique()))\n",
    "\n",
    "for ethnicity in ethnicity_data_test_results['Category'].unique():\n",
    "    ethnicity_row = ethnicity_data_test_results[ethnicity_data_test_results['Category'] == ethnicity]\n",
    "    ethnicity_index = ethnicity_data_test_results['Category'].unique().tolist().index(ethnicity)\n",
    "    if (ethnicity_index+1) % 3 == 0:\n",
    "        col = 3\n",
    "    else:\n",
    "        col = (ethnicity_index+1) % 3\n",
    "    for cluster in ethnicity_row['Cluster'].unique():\n",
    "        cluster_row = ethnicity_row[ethnicity_row['Cluster'] == cluster]\n",
    "        cluster_index = ethnicity_data_test_results['Cluster'].unique().tolist().index(cluster)\n",
    "        fig.add_trace(go.Bar(x=cluster_row['Regents Subject'], y=cluster_row['% Passed'], name=f'Cluster {cluster}', marker=dict(color=colors[cluster_index])), row=math.ceil((ethnicity_index+1)/3), col=col)\n",
    "        fig.update_yaxes(range=[0,ethnicity_data_test_results['% Passed'].max()], title_text='Approved %')\n",
    "\n",
    "fig.update_layout(\n",
    "    height=800,\n",
    "    width=1200,\n",
    "    title_text='Rate of Students Who Aproved each Regents Subject in Every Cluster per Ethnicity',\n",
    "    margin=dict(b=125)\n",
    ")\n",
    "\n",
    "for i in range(len(fig.data) - len(ethnicity_data_test_results['Cluster'].unique())):\n",
    "    fig.data[i].showlegend=False\n",
    "fig.show()"
   ]
  },
  {
   "cell_type": "markdown",
   "metadata": {},
   "source": [
    "## Impact of English Language Learning"
   ]
  },
  {
   "cell_type": "code",
   "execution_count": 89,
   "metadata": {},
   "outputs": [
    {
     "data": {
      "text/html": [
       "<div>\n",
       "<style scoped>\n",
       "    .dataframe tbody tr th:only-of-type {\n",
       "        vertical-align: middle;\n",
       "    }\n",
       "\n",
       "    .dataframe tbody tr th {\n",
       "        vertical-align: top;\n",
       "    }\n",
       "\n",
       "    .dataframe thead th {\n",
       "        text-align: right;\n",
       "    }\n",
       "</style>\n",
       "<table border=\"1\" class=\"dataframe\">\n",
       "  <thead>\n",
       "    <tr style=\"text-align: right;\">\n",
       "      <th></th>\n",
       "      <th>School Name</th>\n",
       "      <th>Category</th>\n",
       "      <th>Graduation Year</th>\n",
       "      <th>Duration</th>\n",
       "      <th>Cluster</th>\n",
       "      <th># Grads</th>\n",
       "      <th># Advanced Regents</th>\n",
       "      <th># Regents without Advanced</th>\n",
       "      <th># Local</th>\n",
       "      <th># Still Enrolled</th>\n",
       "      <th># Dropout</th>\n",
       "      <th># Total Cohort</th>\n",
       "      <th>Graduation Month</th>\n",
       "    </tr>\n",
       "  </thead>\n",
       "  <tbody>\n",
       "    <tr>\n",
       "      <th>0</th>\n",
       "      <td>47 THE AMERICAN SIGN LANGUAGE AND ENGLISH SECO...</td>\n",
       "      <td>Ever ELL</td>\n",
       "      <td>2018</td>\n",
       "      <td>4</td>\n",
       "      <td>2</td>\n",
       "      <td>NaN</td>\n",
       "      <td>NaN</td>\n",
       "      <td>NaN</td>\n",
       "      <td>NaN</td>\n",
       "      <td>NaN</td>\n",
       "      <td>NaN</td>\n",
       "      <td>1</td>\n",
       "      <td>August</td>\n",
       "    </tr>\n",
       "    <tr>\n",
       "      <th>1</th>\n",
       "      <td>47 THE AMERICAN SIGN LANGUAGE AND ENGLISH SECO...</td>\n",
       "      <td>Ever ELL</td>\n",
       "      <td>2018</td>\n",
       "      <td>5</td>\n",
       "      <td>2</td>\n",
       "      <td>NaN</td>\n",
       "      <td>NaN</td>\n",
       "      <td>NaN</td>\n",
       "      <td>NaN</td>\n",
       "      <td>NaN</td>\n",
       "      <td>NaN</td>\n",
       "      <td>1</td>\n",
       "      <td>August</td>\n",
       "    </tr>\n",
       "    <tr>\n",
       "      <th>2</th>\n",
       "      <td>47 THE AMERICAN SIGN LANGUAGE AND ENGLISH SECO...</td>\n",
       "      <td>Ever ELL</td>\n",
       "      <td>2018</td>\n",
       "      <td>6</td>\n",
       "      <td>2</td>\n",
       "      <td>NaN</td>\n",
       "      <td>NaN</td>\n",
       "      <td>NaN</td>\n",
       "      <td>NaN</td>\n",
       "      <td>NaN</td>\n",
       "      <td>NaN</td>\n",
       "      <td>2</td>\n",
       "      <td>June</td>\n",
       "    </tr>\n",
       "    <tr>\n",
       "      <th>3</th>\n",
       "      <td>47 THE AMERICAN SIGN LANGUAGE AND ENGLISH SECO...</td>\n",
       "      <td>Ever ELL</td>\n",
       "      <td>2019</td>\n",
       "      <td>5</td>\n",
       "      <td>2</td>\n",
       "      <td>NaN</td>\n",
       "      <td>NaN</td>\n",
       "      <td>NaN</td>\n",
       "      <td>NaN</td>\n",
       "      <td>NaN</td>\n",
       "      <td>NaN</td>\n",
       "      <td>1</td>\n",
       "      <td>August</td>\n",
       "    </tr>\n",
       "    <tr>\n",
       "      <th>4</th>\n",
       "      <td>47 THE AMERICAN SIGN LANGUAGE AND ENGLISH SECO...</td>\n",
       "      <td>Ever ELL</td>\n",
       "      <td>2019</td>\n",
       "      <td>6</td>\n",
       "      <td>2</td>\n",
       "      <td>NaN</td>\n",
       "      <td>NaN</td>\n",
       "      <td>NaN</td>\n",
       "      <td>NaN</td>\n",
       "      <td>NaN</td>\n",
       "      <td>NaN</td>\n",
       "      <td>1</td>\n",
       "      <td>June</td>\n",
       "    </tr>\n",
       "    <tr>\n",
       "      <th>...</th>\n",
       "      <td>...</td>\n",
       "      <td>...</td>\n",
       "      <td>...</td>\n",
       "      <td>...</td>\n",
       "      <td>...</td>\n",
       "      <td>...</td>\n",
       "      <td>...</td>\n",
       "      <td>...</td>\n",
       "      <td>...</td>\n",
       "      <td>...</td>\n",
       "      <td>...</td>\n",
       "      <td>...</td>\n",
       "      <td>...</td>\n",
       "    </tr>\n",
       "    <tr>\n",
       "      <th>27376</th>\n",
       "      <td>YOUNG WOMEN'S LEADERSHIP SCHOOL, QUEENS</td>\n",
       "      <td>Never ELL</td>\n",
       "      <td>2023</td>\n",
       "      <td>5</td>\n",
       "      <td>2</td>\n",
       "      <td>59.0</td>\n",
       "      <td>48.0</td>\n",
       "      <td>11.0</td>\n",
       "      <td>0.0</td>\n",
       "      <td>0.0</td>\n",
       "      <td>1.0</td>\n",
       "      <td>60</td>\n",
       "      <td>August</td>\n",
       "    </tr>\n",
       "    <tr>\n",
       "      <th>27377</th>\n",
       "      <td>YOUNG WOMEN'S LEADERSHIP SCHOOL, QUEENS</td>\n",
       "      <td>Never ELL</td>\n",
       "      <td>2023</td>\n",
       "      <td>6</td>\n",
       "      <td>2</td>\n",
       "      <td>52.0</td>\n",
       "      <td>43.0</td>\n",
       "      <td>9.0</td>\n",
       "      <td>0.0</td>\n",
       "      <td>2.0</td>\n",
       "      <td>2.0</td>\n",
       "      <td>56</td>\n",
       "      <td>June</td>\n",
       "    </tr>\n",
       "    <tr>\n",
       "      <th>27378</th>\n",
       "      <td>YOUNG WOMEN'S LEADERSHIP SCHOOL, QUEENS</td>\n",
       "      <td>Never ELL</td>\n",
       "      <td>2024</td>\n",
       "      <td>4</td>\n",
       "      <td>2</td>\n",
       "      <td>54.0</td>\n",
       "      <td>40.0</td>\n",
       "      <td>14.0</td>\n",
       "      <td>0.0</td>\n",
       "      <td>0.0</td>\n",
       "      <td>0.0</td>\n",
       "      <td>54</td>\n",
       "      <td>August</td>\n",
       "    </tr>\n",
       "    <tr>\n",
       "      <th>27379</th>\n",
       "      <td>YOUNG WOMEN'S LEADERSHIP SCHOOL, QUEENS</td>\n",
       "      <td>Never ELL</td>\n",
       "      <td>2024</td>\n",
       "      <td>5</td>\n",
       "      <td>2</td>\n",
       "      <td>NaN</td>\n",
       "      <td>NaN</td>\n",
       "      <td>NaN</td>\n",
       "      <td>NaN</td>\n",
       "      <td>NaN</td>\n",
       "      <td>NaN</td>\n",
       "      <td>73</td>\n",
       "      <td>August</td>\n",
       "    </tr>\n",
       "    <tr>\n",
       "      <th>27380</th>\n",
       "      <td>YOUNG WOMEN'S LEADERSHIP SCHOOL, QUEENS</td>\n",
       "      <td>Never ELL</td>\n",
       "      <td>2024</td>\n",
       "      <td>6</td>\n",
       "      <td>2</td>\n",
       "      <td>75.0</td>\n",
       "      <td>62.0</td>\n",
       "      <td>13.0</td>\n",
       "      <td>0.0</td>\n",
       "      <td>0.0</td>\n",
       "      <td>0.0</td>\n",
       "      <td>75</td>\n",
       "      <td>August</td>\n",
       "    </tr>\n",
       "  </tbody>\n",
       "</table>\n",
       "<p>27381 rows × 13 columns</p>\n",
       "</div>"
      ],
      "text/plain": [
       "                                             School Name   Category  \\\n",
       "0      47 THE AMERICAN SIGN LANGUAGE AND ENGLISH SECO...   Ever ELL   \n",
       "1      47 THE AMERICAN SIGN LANGUAGE AND ENGLISH SECO...   Ever ELL   \n",
       "2      47 THE AMERICAN SIGN LANGUAGE AND ENGLISH SECO...   Ever ELL   \n",
       "3      47 THE AMERICAN SIGN LANGUAGE AND ENGLISH SECO...   Ever ELL   \n",
       "4      47 THE AMERICAN SIGN LANGUAGE AND ENGLISH SECO...   Ever ELL   \n",
       "...                                                  ...        ...   \n",
       "27376            YOUNG WOMEN'S LEADERSHIP SCHOOL, QUEENS  Never ELL   \n",
       "27377            YOUNG WOMEN'S LEADERSHIP SCHOOL, QUEENS  Never ELL   \n",
       "27378            YOUNG WOMEN'S LEADERSHIP SCHOOL, QUEENS  Never ELL   \n",
       "27379            YOUNG WOMEN'S LEADERSHIP SCHOOL, QUEENS  Never ELL   \n",
       "27380            YOUNG WOMEN'S LEADERSHIP SCHOOL, QUEENS  Never ELL   \n",
       "\n",
       "       Graduation Year  Duration  Cluster  # Grads  # Advanced Regents  \\\n",
       "0                 2018         4        2      NaN                 NaN   \n",
       "1                 2018         5        2      NaN                 NaN   \n",
       "2                 2018         6        2      NaN                 NaN   \n",
       "3                 2019         5        2      NaN                 NaN   \n",
       "4                 2019         6        2      NaN                 NaN   \n",
       "...                ...       ...      ...      ...                 ...   \n",
       "27376             2023         5        2     59.0                48.0   \n",
       "27377             2023         6        2     52.0                43.0   \n",
       "27378             2024         4        2     54.0                40.0   \n",
       "27379             2024         5        2      NaN                 NaN   \n",
       "27380             2024         6        2     75.0                62.0   \n",
       "\n",
       "       # Regents without Advanced  # Local  # Still Enrolled  # Dropout  \\\n",
       "0                             NaN      NaN               NaN        NaN   \n",
       "1                             NaN      NaN               NaN        NaN   \n",
       "2                             NaN      NaN               NaN        NaN   \n",
       "3                             NaN      NaN               NaN        NaN   \n",
       "4                             NaN      NaN               NaN        NaN   \n",
       "...                           ...      ...               ...        ...   \n",
       "27376                        11.0      0.0               0.0        1.0   \n",
       "27377                         9.0      0.0               2.0        2.0   \n",
       "27378                        14.0      0.0               0.0        0.0   \n",
       "27379                         NaN      NaN               NaN        NaN   \n",
       "27380                        13.0      0.0               0.0        0.0   \n",
       "\n",
       "       # Total Cohort Graduation Month  \n",
       "0                   1           August  \n",
       "1                   1           August  \n",
       "2                   2             June  \n",
       "3                   1           August  \n",
       "4                   1             June  \n",
       "...               ...              ...  \n",
       "27376              60           August  \n",
       "27377              56             June  \n",
       "27378              54           August  \n",
       "27379              73           August  \n",
       "27380              75           August  \n",
       "\n",
       "[27381 rows x 13 columns]"
      ]
     },
     "execution_count": 89,
     "metadata": {},
     "output_type": "execute_result"
    }
   ],
   "source": [
    "all_ell_graduates = filter_data(ell_graduation, columns=['# Grads','# Advanced Regents', '# Regents without Advanced', '# Local', '# Still Enrolled', '# Dropout'], cluster=True)\n",
    "all_ell_graduates.loc[all_ell_graduates['Category'] == 'Current ELL', 'Category'] = 'Ever ELL'\n",
    "all_ell_graduates"
   ]
  },
  {
   "cell_type": "code",
   "execution_count": 91,
   "metadata": {},
   "outputs": [
    {
     "data": {
      "text/html": [
       "<div>\n",
       "<style scoped>\n",
       "    .dataframe tbody tr th:only-of-type {\n",
       "        vertical-align: middle;\n",
       "    }\n",
       "\n",
       "    .dataframe tbody tr th {\n",
       "        vertical-align: top;\n",
       "    }\n",
       "\n",
       "    .dataframe thead th {\n",
       "        text-align: right;\n",
       "    }\n",
       "</style>\n",
       "<table border=\"1\" class=\"dataframe\">\n",
       "  <thead>\n",
       "    <tr style=\"text-align: right;\">\n",
       "      <th></th>\n",
       "      <th>Graduation Year</th>\n",
       "      <th>Category</th>\n",
       "      <th>Duration</th>\n",
       "      <th>Cluster</th>\n",
       "      <th># Total Cohort</th>\n",
       "      <th># Grads</th>\n",
       "      <th># Advanced Regents</th>\n",
       "      <th># Regents without Advanced</th>\n",
       "      <th># Local</th>\n",
       "      <th># Still Enrolled</th>\n",
       "      <th># Dropout</th>\n",
       "      <th>Category Code</th>\n",
       "    </tr>\n",
       "  </thead>\n",
       "  <tbody>\n",
       "    <tr>\n",
       "      <th>0</th>\n",
       "      <td>2018</td>\n",
       "      <td>Ever ELL</td>\n",
       "      <td>4</td>\n",
       "      <td>0</td>\n",
       "      <td>1590</td>\n",
       "      <td>320.0</td>\n",
       "      <td>40.0</td>\n",
       "      <td>244.0</td>\n",
       "      <td>36.0</td>\n",
       "      <td>613.0</td>\n",
       "      <td>345.0</td>\n",
       "      <td>0</td>\n",
       "    </tr>\n",
       "    <tr>\n",
       "      <th>1</th>\n",
       "      <td>2018</td>\n",
       "      <td>Ever ELL</td>\n",
       "      <td>4</td>\n",
       "      <td>1</td>\n",
       "      <td>12047</td>\n",
       "      <td>7075.0</td>\n",
       "      <td>893.0</td>\n",
       "      <td>5200.0</td>\n",
       "      <td>982.0</td>\n",
       "      <td>2429.0</td>\n",
       "      <td>1396.0</td>\n",
       "      <td>0</td>\n",
       "    </tr>\n",
       "    <tr>\n",
       "      <th>2</th>\n",
       "      <td>2018</td>\n",
       "      <td>Ever ELL</td>\n",
       "      <td>4</td>\n",
       "      <td>2</td>\n",
       "      <td>7453</td>\n",
       "      <td>4039.0</td>\n",
       "      <td>1678.0</td>\n",
       "      <td>2108.0</td>\n",
       "      <td>253.0</td>\n",
       "      <td>569.0</td>\n",
       "      <td>160.0</td>\n",
       "      <td>0</td>\n",
       "    </tr>\n",
       "    <tr>\n",
       "      <th>3</th>\n",
       "      <td>2018</td>\n",
       "      <td>Ever ELL</td>\n",
       "      <td>5</td>\n",
       "      <td>0</td>\n",
       "      <td>1567</td>\n",
       "      <td>430.0</td>\n",
       "      <td>48.0</td>\n",
       "      <td>283.0</td>\n",
       "      <td>99.0</td>\n",
       "      <td>351.0</td>\n",
       "      <td>478.0</td>\n",
       "      <td>0</td>\n",
       "    </tr>\n",
       "    <tr>\n",
       "      <th>4</th>\n",
       "      <td>2018</td>\n",
       "      <td>Ever ELL</td>\n",
       "      <td>5</td>\n",
       "      <td>1</td>\n",
       "      <td>10483</td>\n",
       "      <td>6141.0</td>\n",
       "      <td>758.0</td>\n",
       "      <td>4460.0</td>\n",
       "      <td>923.0</td>\n",
       "      <td>802.0</td>\n",
       "      <td>1830.0</td>\n",
       "      <td>0</td>\n",
       "    </tr>\n",
       "    <tr>\n",
       "      <th>...</th>\n",
       "      <td>...</td>\n",
       "      <td>...</td>\n",
       "      <td>...</td>\n",
       "      <td>...</td>\n",
       "      <td>...</td>\n",
       "      <td>...</td>\n",
       "      <td>...</td>\n",
       "      <td>...</td>\n",
       "      <td>...</td>\n",
       "      <td>...</td>\n",
       "      <td>...</td>\n",
       "      <td>...</td>\n",
       "    </tr>\n",
       "    <tr>\n",
       "      <th>121</th>\n",
       "      <td>2024</td>\n",
       "      <td>Never ELL</td>\n",
       "      <td>5</td>\n",
       "      <td>1</td>\n",
       "      <td>21834</td>\n",
       "      <td>17478.0</td>\n",
       "      <td>3630.0</td>\n",
       "      <td>13777.0</td>\n",
       "      <td>73.0</td>\n",
       "      <td>197.0</td>\n",
       "      <td>1341.0</td>\n",
       "      <td>1</td>\n",
       "    </tr>\n",
       "    <tr>\n",
       "      <th>122</th>\n",
       "      <td>2024</td>\n",
       "      <td>Never ELL</td>\n",
       "      <td>5</td>\n",
       "      <td>2</td>\n",
       "      <td>33038</td>\n",
       "      <td>25256.0</td>\n",
       "      <td>11808.0</td>\n",
       "      <td>13393.0</td>\n",
       "      <td>55.0</td>\n",
       "      <td>141.0</td>\n",
       "      <td>508.0</td>\n",
       "      <td>1</td>\n",
       "    </tr>\n",
       "    <tr>\n",
       "      <th>123</th>\n",
       "      <td>2024</td>\n",
       "      <td>Never ELL</td>\n",
       "      <td>6</td>\n",
       "      <td>0</td>\n",
       "      <td>2781</td>\n",
       "      <td>1429.0</td>\n",
       "      <td>20.0</td>\n",
       "      <td>1344.0</td>\n",
       "      <td>65.0</td>\n",
       "      <td>127.0</td>\n",
       "      <td>753.0</td>\n",
       "      <td>1</td>\n",
       "    </tr>\n",
       "    <tr>\n",
       "      <th>124</th>\n",
       "      <td>2024</td>\n",
       "      <td>Never ELL</td>\n",
       "      <td>6</td>\n",
       "      <td>1</td>\n",
       "      <td>21870</td>\n",
       "      <td>17839.0</td>\n",
       "      <td>5486.0</td>\n",
       "      <td>12279.0</td>\n",
       "      <td>74.0</td>\n",
       "      <td>66.0</td>\n",
       "      <td>1520.0</td>\n",
       "      <td>1</td>\n",
       "    </tr>\n",
       "    <tr>\n",
       "      <th>125</th>\n",
       "      <td>2024</td>\n",
       "      <td>Never ELL</td>\n",
       "      <td>6</td>\n",
       "      <td>2</td>\n",
       "      <td>33444</td>\n",
       "      <td>24136.0</td>\n",
       "      <td>13873.0</td>\n",
       "      <td>10154.0</td>\n",
       "      <td>109.0</td>\n",
       "      <td>70.0</td>\n",
       "      <td>566.0</td>\n",
       "      <td>1</td>\n",
       "    </tr>\n",
       "  </tbody>\n",
       "</table>\n",
       "<p>126 rows × 12 columns</p>\n",
       "</div>"
      ],
      "text/plain": [
       "     Graduation Year   Category  Duration  Cluster  # Total Cohort  # Grads  \\\n",
       "0               2018   Ever ELL         4        0            1590    320.0   \n",
       "1               2018   Ever ELL         4        1           12047   7075.0   \n",
       "2               2018   Ever ELL         4        2            7453   4039.0   \n",
       "3               2018   Ever ELL         5        0            1567    430.0   \n",
       "4               2018   Ever ELL         5        1           10483   6141.0   \n",
       "..               ...        ...       ...      ...             ...      ...   \n",
       "121             2024  Never ELL         5        1           21834  17478.0   \n",
       "122             2024  Never ELL         5        2           33038  25256.0   \n",
       "123             2024  Never ELL         6        0            2781   1429.0   \n",
       "124             2024  Never ELL         6        1           21870  17839.0   \n",
       "125             2024  Never ELL         6        2           33444  24136.0   \n",
       "\n",
       "     # Advanced Regents  # Regents without Advanced  # Local  \\\n",
       "0                  40.0                       244.0     36.0   \n",
       "1                 893.0                      5200.0    982.0   \n",
       "2                1678.0                      2108.0    253.0   \n",
       "3                  48.0                       283.0     99.0   \n",
       "4                 758.0                      4460.0    923.0   \n",
       "..                  ...                         ...      ...   \n",
       "121              3630.0                     13777.0     73.0   \n",
       "122             11808.0                     13393.0     55.0   \n",
       "123                20.0                      1344.0     65.0   \n",
       "124              5486.0                     12279.0     74.0   \n",
       "125             13873.0                     10154.0    109.0   \n",
       "\n",
       "     # Still Enrolled  # Dropout  Category Code  \n",
       "0               613.0      345.0              0  \n",
       "1              2429.0     1396.0              0  \n",
       "2               569.0      160.0              0  \n",
       "3               351.0      478.0              0  \n",
       "4               802.0     1830.0              0  \n",
       "..                ...        ...            ...  \n",
       "121             197.0     1341.0              1  \n",
       "122             141.0      508.0              1  \n",
       "123             127.0      753.0              1  \n",
       "124              66.0     1520.0              1  \n",
       "125              70.0      566.0              1  \n",
       "\n",
       "[126 rows x 12 columns]"
      ]
     },
     "execution_count": 91,
     "metadata": {},
     "output_type": "execute_result"
    }
   ],
   "source": [
    "ell_data = filter_graduation_data(all_ell_graduates, ['Graduation Year','Category','Duration'], cluster=True)\n",
    "ell_data['Category Code'] = ell_data['Category'].astype('category').cat.codes\n",
    "ell_data"
   ]
  },
  {
   "cell_type": "markdown",
   "metadata": {},
   "source": [
    "### Correlation Matrix"
   ]
  },
  {
   "cell_type": "code",
   "execution_count": 141,
   "metadata": {},
   "outputs": [
    {
     "data": {
      "application/vnd.plotly.v1+json": {
       "config": {
        "plotlyServerURL": "https://plot.ly"
       },
       "data": [
        {
         "coloraxis": "coloraxis",
         "hovertemplate": "x: %{x}<br>y: %{y}<br>color: %{z}<extra></extra>",
         "name": "0",
         "textfont": {
          "size": 10
         },
         "texttemplate": "%{z}",
         "type": "heatmap",
         "x": [
          "Graduation Year",
          "Duration",
          "Cluster",
          "# Total Cohort",
          "# Grads",
          "# Advanced Regents",
          "# Regents without Advanced",
          "# Local",
          "# Still Enrolled",
          "# Dropout",
          "Category Code"
         ],
         "xaxis": "x",
         "y": [
          "Graduation Year",
          "Duration",
          "Cluster",
          "# Total Cohort",
          "# Grads",
          "# Advanced Regents",
          "# Regents without Advanced",
          "# Local",
          "# Still Enrolled",
          "# Dropout",
          "Category Code"
         ],
         "yaxis": "y",
         "z": [
          [
           1,
           2.4885399503231135e-15,
           1.7093873726417224e-15,
           -0.029093462358888704,
           0.00045790314015549274,
           0.09662156551410105,
           -0.02105292344954469,
           -0.5200558477701668,
           -0.24271692740620324,
           -0.26939531777542414,
           1.0194666980089302e-14
          ],
          [
           2.4885399503231135e-15,
           1,
           -3.700743415417188e-17,
           0.008567619025519772,
           0.008050985590309546,
           -0.023272468863693958,
           0.013714288299354718,
           0.17164042624508624,
           -0.7101878104131523,
           0.2893179441823742,
           4.31663477939847e-18
          ],
          [
           1.7093873726417224e-15,
           -3.700743415417188e-17,
           1,
           0.6950121042105797,
           0.6835669590654327,
           0.7060453181599731,
           0.5758362091011388,
           0.19303594952483988,
           -0.1457361106932152,
           -0.08854400045010656,
           1.2949904338195411e-17
          ],
          [
           -0.029093462358888704,
           0.008567619025519772,
           0.6950121042105797,
           1,
           0.9899805906088752,
           0.8631207388020306,
           0.9529871388132786,
           0.42409313878054344,
           0.07021506340613262,
           0.30493195451270405,
           0.5022053856284252
          ],
          [
           0.00045790314015549274,
           0.008050985590309546,
           0.6835669590654327,
           0.9899805906088752,
           1,
           0.8939306730516111,
           0.9485238201878082,
           0.38806035574134556,
           0.0436772132588384,
           0.24725151243529864,
           0.5291587771833519
          ],
          [
           0.09662156551410105,
           -0.023272468863693958,
           0.7060453181599731,
           0.8631207388020306,
           0.8939306730516111,
           1,
           0.7102139543853525,
           0.058777683809321975,
           -0.06744828133787684,
           -0.1330250228596476,
           0.4022757092373545
          ],
          [
           -0.02105292344954469,
           0.013714288299354718,
           0.5758362091011388,
           0.9529871388132786,
           0.9485238201878082,
           0.7102139543853525,
           1,
           0.5147969392521766,
           0.11721939708349774,
           0.46692686534449,
           0.5543933720394947
          ],
          [
           -0.5200558477701668,
           0.17164042624508624,
           0.19303594952483988,
           0.42409313878054344,
           0.38806035574134556,
           0.058777683809321975,
           0.5147969392521766,
           1,
           0.14799267990047743,
           0.6917721016638858,
           0.27294272931529745
          ],
          [
           -0.24271692740620324,
           -0.7101878104131523,
           -0.1457361106932152,
           0.07021506340613262,
           0.0436772132588384,
           -0.06744828133787684,
           0.11721939708349774,
           0.14799267990047743,
           1,
           0.0786780682474006,
           0.2600798445023014
          ],
          [
           -0.26939531777542414,
           0.2893179441823742,
           -0.08854400045010656,
           0.30493195451270405,
           0.24725151243529864,
           -0.1330250228596476,
           0.46692686534449,
           0.6917721016638858,
           0.0786780682474006,
           1,
           0.2671749002689898
          ],
          [
           1.0194666980089302e-14,
           4.31663477939847e-18,
           1.2949904338195411e-17,
           0.5022053856284252,
           0.5291587771833519,
           0.4022757092373545,
           0.5543933720394947,
           0.27294272931529745,
           0.2600798445023014,
           0.2671749002689898,
           1
          ]
         ]
        }
       ],
       "layout": {
        "coloraxis": {
         "colorscale": [
          [
           0,
           "rgb(5,48,97)"
          ],
          [
           0.1,
           "rgb(33,102,172)"
          ],
          [
           0.2,
           "rgb(67,147,195)"
          ],
          [
           0.3,
           "rgb(146,197,222)"
          ],
          [
           0.4,
           "rgb(209,229,240)"
          ],
          [
           0.5,
           "rgb(247,247,247)"
          ],
          [
           0.6,
           "rgb(253,219,199)"
          ],
          [
           0.7,
           "rgb(244,165,130)"
          ],
          [
           0.8,
           "rgb(214,96,77)"
          ],
          [
           0.9,
           "rgb(178,24,43)"
          ],
          [
           1,
           "rgb(103,0,31)"
          ]
         ]
        },
        "height": 800,
        "margin": {
         "b": 125,
         "l": 125,
         "t": 60
        },
        "template": {
         "layout": {
          "plot_bgcolor": "white",
          "xaxis": {
           "gridcolor": "lightgray"
          },
          "yaxis": {
           "gridcolor": "lightgray"
          }
         }
        },
        "width": 1000,
        "xaxis": {
         "anchor": "y",
         "constrain": "domain",
         "domain": [
          0,
          1
         ],
         "scaleanchor": "y"
        },
        "yaxis": {
         "anchor": "x",
         "autorange": "reversed",
         "constrain": "domain",
         "domain": [
          0,
          1
         ]
        }
       }
      }
     },
     "metadata": {},
     "output_type": "display_data"
    }
   ],
   "source": [
    "correlation_matrix(ell_data.drop('Category', axis=1))"
   ]
  },
  {
   "cell_type": "markdown",
   "metadata": {},
   "source": [
    "### Population"
   ]
  },
  {
   "cell_type": "code",
   "execution_count": 93,
   "metadata": {},
   "outputs": [
    {
     "data": {
      "text/html": [
       "<div>\n",
       "<style scoped>\n",
       "    .dataframe tbody tr th:only-of-type {\n",
       "        vertical-align: middle;\n",
       "    }\n",
       "\n",
       "    .dataframe tbody tr th {\n",
       "        vertical-align: top;\n",
       "    }\n",
       "\n",
       "    .dataframe thead th {\n",
       "        text-align: right;\n",
       "    }\n",
       "</style>\n",
       "<table border=\"1\" class=\"dataframe\">\n",
       "  <thead>\n",
       "    <tr style=\"text-align: right;\">\n",
       "      <th></th>\n",
       "      <th>Category</th>\n",
       "      <th>Cluster</th>\n",
       "      <th># Total Cohort</th>\n",
       "      <th># Grads</th>\n",
       "      <th>General Cohort %</th>\n",
       "    </tr>\n",
       "  </thead>\n",
       "  <tbody>\n",
       "    <tr>\n",
       "      <th>0</th>\n",
       "      <td>Ever ELL</td>\n",
       "      <td>0</td>\n",
       "      <td>33724</td>\n",
       "      <td>11197.0</td>\n",
       "      <td>32.847945</td>\n",
       "    </tr>\n",
       "    <tr>\n",
       "      <th>1</th>\n",
       "      <td>Ever ELL</td>\n",
       "      <td>1</td>\n",
       "      <td>240617</td>\n",
       "      <td>160225.0</td>\n",
       "      <td>38.858644</td>\n",
       "    </tr>\n",
       "    <tr>\n",
       "      <th>2</th>\n",
       "      <td>Ever ELL</td>\n",
       "      <td>2</td>\n",
       "      <td>174581</td>\n",
       "      <td>117858.0</td>\n",
       "      <td>23.593557</td>\n",
       "    </tr>\n",
       "    <tr>\n",
       "      <th>3</th>\n",
       "      <td>Never ELL</td>\n",
       "      <td>0</td>\n",
       "      <td>68943</td>\n",
       "      <td>28338.0</td>\n",
       "      <td>67.152055</td>\n",
       "    </tr>\n",
       "    <tr>\n",
       "      <th>4</th>\n",
       "      <td>Never ELL</td>\n",
       "      <td>1</td>\n",
       "      <td>378594</td>\n",
       "      <td>308864.0</td>\n",
       "      <td>61.141356</td>\n",
       "    </tr>\n",
       "    <tr>\n",
       "      <th>5</th>\n",
       "      <td>Never ELL</td>\n",
       "      <td>2</td>\n",
       "      <td>565371</td>\n",
       "      <td>507350.0</td>\n",
       "      <td>76.406443</td>\n",
       "    </tr>\n",
       "  </tbody>\n",
       "</table>\n",
       "</div>"
      ],
      "text/plain": [
       "    Category  Cluster  # Total Cohort   # Grads  General Cohort %\n",
       "0   Ever ELL        0           33724   11197.0         32.847945\n",
       "1   Ever ELL        1          240617  160225.0         38.858644\n",
       "2   Ever ELL        2          174581  117858.0         23.593557\n",
       "3  Never ELL        0           68943   28338.0         67.152055\n",
       "4  Never ELL        1          378594  308864.0         61.141356\n",
       "5  Never ELL        2          565371  507350.0         76.406443"
      ]
     },
     "execution_count": 93,
     "metadata": {},
     "output_type": "execute_result"
    }
   ],
   "source": [
    "ell_data_population = filter_population(ell_data)\n",
    "ell_data_population"
   ]
  },
  {
   "cell_type": "code",
   "execution_count": 217,
   "metadata": {},
   "outputs": [
    {
     "data": {
      "application/vnd.plotly.v1+json": {
       "config": {
        "plotlyServerURL": "https://plot.ly"
       },
       "data": [
        {
         "marker": {
          "color": "#1f77b4"
         },
         "name": "Ever ELL",
         "showlegend": false,
         "type": "bar",
         "x": [
          "Ever ELL"
         ],
         "xaxis": "x",
         "y": [
          32.8479452988789
         ],
         "yaxis": "y"
        },
        {
         "marker": {
          "color": "#ff7f0e"
         },
         "name": "Never ELL",
         "showlegend": false,
         "type": "bar",
         "x": [
          "Never ELL"
         ],
         "xaxis": "x",
         "y": [
          67.1520547011211
         ],
         "yaxis": "y"
        },
        {
         "marker": {
          "color": "#1f77b4"
         },
         "name": "Ever ELL",
         "showlegend": false,
         "type": "bar",
         "x": [
          "Ever ELL"
         ],
         "xaxis": "x2",
         "y": [
          38.85864430702943
         ],
         "yaxis": "y2"
        },
        {
         "marker": {
          "color": "#ff7f0e"
         },
         "name": "Never ELL",
         "showlegend": false,
         "type": "bar",
         "x": [
          "Never ELL"
         ],
         "xaxis": "x2",
         "y": [
          61.14135569297056
         ],
         "yaxis": "y2"
        },
        {
         "marker": {
          "color": "#1f77b4"
         },
         "name": "Ever ELL",
         "showlegend": false,
         "type": "bar",
         "x": [
          "Ever ELL"
         ],
         "xaxis": "x3",
         "y": [
          23.59355741994075
         ],
         "yaxis": "y3"
        },
        {
         "marker": {
          "color": "#ff7f0e"
         },
         "name": "Never ELL",
         "showlegend": false,
         "type": "bar",
         "x": [
          "Never ELL"
         ],
         "xaxis": "x3",
         "y": [
          76.40644258005923
         ],
         "yaxis": "y3"
        }
       ],
       "layout": {
        "annotations": [
         {
          "font": {
           "size": 16
          },
          "showarrow": false,
          "text": "Cluster 0",
          "x": 0.14444444444444446,
          "xanchor": "center",
          "xref": "paper",
          "y": 1,
          "yanchor": "bottom",
          "yref": "paper"
         },
         {
          "font": {
           "size": 16
          },
          "showarrow": false,
          "text": "Cluster 1",
          "x": 0.5,
          "xanchor": "center",
          "xref": "paper",
          "y": 1,
          "yanchor": "bottom",
          "yref": "paper"
         },
         {
          "font": {
           "size": 16
          },
          "showarrow": false,
          "text": "Cluster 2",
          "x": 0.8555555555555556,
          "xanchor": "center",
          "xref": "paper",
          "y": 1,
          "yanchor": "bottom",
          "yref": "paper"
         }
        ],
        "template": {
         "layout": {
          "plot_bgcolor": "white",
          "xaxis": {
           "gridcolor": "lightgray"
          },
          "yaxis": {
           "gridcolor": "lightgray"
          }
         }
        },
        "title": {
         "text": "Distribution of Population in Every Cluster per English Language Learning (ELL) Status"
        },
        "xaxis": {
         "anchor": "y",
         "domain": [
          0,
          0.2888888888888889
         ],
         "title": {
          "text": "Category"
         }
        },
        "xaxis2": {
         "anchor": "y2",
         "domain": [
          0.35555555555555557,
          0.6444444444444445
         ],
         "title": {
          "text": "Category"
         }
        },
        "xaxis3": {
         "anchor": "y3",
         "domain": [
          0.7111111111111111,
          1
         ],
         "title": {
          "text": "Category"
         }
        },
        "yaxis": {
         "anchor": "x",
         "domain": [
          0,
          1
         ],
         "range": [
          0,
          76.40644258005923
         ],
         "title": {
          "text": "Distribution %"
         }
        },
        "yaxis2": {
         "anchor": "x2",
         "domain": [
          0,
          1
         ],
         "range": [
          0,
          76.40644258005923
         ],
         "title": {
          "text": "Distribution %"
         }
        },
        "yaxis3": {
         "anchor": "x3",
         "domain": [
          0,
          1
         ],
         "range": [
          0,
          76.40644258005923
         ],
         "title": {
          "text": "Distribution %"
         }
        }
       }
      }
     },
     "metadata": {},
     "output_type": "display_data"
    }
   ],
   "source": [
    "fig = make_subplots(rows=1, cols=len(ell_data_population['Cluster'].unique()), subplot_titles=('Cluster 0', 'Cluster 1', 'Cluster 2'))\n",
    "\n",
    "for cluster in ell_data_population['Cluster'].unique():\n",
    "    cluster_row = ell_data_population[ell_data_population['Cluster'] == cluster]\n",
    "    cluster_index = ell_data_population['Cluster'].unique().tolist().index(cluster)\n",
    "    for category in cluster_row['Category'].unique():\n",
    "        category_row = cluster_row[cluster_row['Category'] == category]\n",
    "        category_index = cluster_row['Category'].unique().tolist().index(category)\n",
    "        fig.add_trace(go.Bar(x=category_row['Category'], y=category_row['General Cohort %'], name=category, marker=dict(color=colors[category_index]), showlegend=False), row=1, col=cluster_index+1)\n",
    "        fig.update_yaxes(range=[0, ell_data_population['General Cohort %'].max()], title_text='Distribution %')\n",
    "        fig.update_xaxes(title_text='Category')\n",
    "\n",
    "fig.update_layout(title_text='Distribution of Population in Every Cluster per English Language Learning (ELL) Status')\n",
    "fig.show()"
   ]
  },
  {
   "cell_type": "markdown",
   "metadata": {},
   "source": [
    "### Graduation Rate"
   ]
  },
  {
   "cell_type": "code",
   "execution_count": 95,
   "metadata": {},
   "outputs": [
    {
     "data": {
      "text/html": [
       "<div>\n",
       "<style scoped>\n",
       "    .dataframe tbody tr th:only-of-type {\n",
       "        vertical-align: middle;\n",
       "    }\n",
       "\n",
       "    .dataframe tbody tr th {\n",
       "        vertical-align: top;\n",
       "    }\n",
       "\n",
       "    .dataframe thead th {\n",
       "        text-align: right;\n",
       "    }\n",
       "</style>\n",
       "<table border=\"1\" class=\"dataframe\">\n",
       "  <thead>\n",
       "    <tr style=\"text-align: right;\">\n",
       "      <th></th>\n",
       "      <th>Category</th>\n",
       "      <th>Graduation Year</th>\n",
       "      <th>Cluster</th>\n",
       "      <th># Total Cohort</th>\n",
       "      <th># Grads</th>\n",
       "      <th>Grad %</th>\n",
       "    </tr>\n",
       "  </thead>\n",
       "  <tbody>\n",
       "    <tr>\n",
       "      <th>0</th>\n",
       "      <td>Ever ELL</td>\n",
       "      <td>2018</td>\n",
       "      <td>0</td>\n",
       "      <td>4663</td>\n",
       "      <td>1199.0</td>\n",
       "      <td>25.713060</td>\n",
       "    </tr>\n",
       "    <tr>\n",
       "      <th>1</th>\n",
       "      <td>Ever ELL</td>\n",
       "      <td>2018</td>\n",
       "      <td>1</td>\n",
       "      <td>32152</td>\n",
       "      <td>18683.0</td>\n",
       "      <td>58.108360</td>\n",
       "    </tr>\n",
       "    <tr>\n",
       "      <th>2</th>\n",
       "      <td>Ever ELL</td>\n",
       "      <td>2018</td>\n",
       "      <td>2</td>\n",
       "      <td>18460</td>\n",
       "      <td>10732.0</td>\n",
       "      <td>58.136511</td>\n",
       "    </tr>\n",
       "    <tr>\n",
       "      <th>3</th>\n",
       "      <td>Ever ELL</td>\n",
       "      <td>2019</td>\n",
       "      <td>0</td>\n",
       "      <td>5430</td>\n",
       "      <td>1473.0</td>\n",
       "      <td>27.127072</td>\n",
       "    </tr>\n",
       "    <tr>\n",
       "      <th>4</th>\n",
       "      <td>Ever ELL</td>\n",
       "      <td>2019</td>\n",
       "      <td>1</td>\n",
       "      <td>37957</td>\n",
       "      <td>24182.0</td>\n",
       "      <td>63.708934</td>\n",
       "    </tr>\n",
       "    <tr>\n",
       "      <th>5</th>\n",
       "      <td>Ever ELL</td>\n",
       "      <td>2019</td>\n",
       "      <td>2</td>\n",
       "      <td>28330</td>\n",
       "      <td>18339.0</td>\n",
       "      <td>64.733498</td>\n",
       "    </tr>\n",
       "    <tr>\n",
       "      <th>6</th>\n",
       "      <td>Ever ELL</td>\n",
       "      <td>2020</td>\n",
       "      <td>0</td>\n",
       "      <td>5762</td>\n",
       "      <td>1873.0</td>\n",
       "      <td>32.506074</td>\n",
       "    </tr>\n",
       "    <tr>\n",
       "      <th>7</th>\n",
       "      <td>Ever ELL</td>\n",
       "      <td>2020</td>\n",
       "      <td>1</td>\n",
       "      <td>39501</td>\n",
       "      <td>26591.0</td>\n",
       "      <td>67.317283</td>\n",
       "    </tr>\n",
       "    <tr>\n",
       "      <th>8</th>\n",
       "      <td>Ever ELL</td>\n",
       "      <td>2020</td>\n",
       "      <td>2</td>\n",
       "      <td>30642</td>\n",
       "      <td>20702.0</td>\n",
       "      <td>67.560864</td>\n",
       "    </tr>\n",
       "    <tr>\n",
       "      <th>9</th>\n",
       "      <td>Ever ELL</td>\n",
       "      <td>2021</td>\n",
       "      <td>0</td>\n",
       "      <td>5422</td>\n",
       "      <td>2097.0</td>\n",
       "      <td>38.675765</td>\n",
       "    </tr>\n",
       "    <tr>\n",
       "      <th>10</th>\n",
       "      <td>Ever ELL</td>\n",
       "      <td>2021</td>\n",
       "      <td>1</td>\n",
       "      <td>39045</td>\n",
       "      <td>27318.0</td>\n",
       "      <td>69.965425</td>\n",
       "    </tr>\n",
       "    <tr>\n",
       "      <th>11</th>\n",
       "      <td>Ever ELL</td>\n",
       "      <td>2021</td>\n",
       "      <td>2</td>\n",
       "      <td>31323</td>\n",
       "      <td>22263.0</td>\n",
       "      <td>71.075567</td>\n",
       "    </tr>\n",
       "    <tr>\n",
       "      <th>12</th>\n",
       "      <td>Ever ELL</td>\n",
       "      <td>2022</td>\n",
       "      <td>0</td>\n",
       "      <td>4526</td>\n",
       "      <td>1858.0</td>\n",
       "      <td>41.051701</td>\n",
       "    </tr>\n",
       "    <tr>\n",
       "      <th>13</th>\n",
       "      <td>Ever ELL</td>\n",
       "      <td>2022</td>\n",
       "      <td>1</td>\n",
       "      <td>34856</td>\n",
       "      <td>24711.0</td>\n",
       "      <td>70.894538</td>\n",
       "    </tr>\n",
       "    <tr>\n",
       "      <th>14</th>\n",
       "      <td>Ever ELL</td>\n",
       "      <td>2022</td>\n",
       "      <td>2</td>\n",
       "      <td>24732</td>\n",
       "      <td>17576.0</td>\n",
       "      <td>71.065826</td>\n",
       "    </tr>\n",
       "    <tr>\n",
       "      <th>15</th>\n",
       "      <td>Ever ELL</td>\n",
       "      <td>2023</td>\n",
       "      <td>0</td>\n",
       "      <td>4242</td>\n",
       "      <td>1577.0</td>\n",
       "      <td>37.175860</td>\n",
       "    </tr>\n",
       "    <tr>\n",
       "      <th>16</th>\n",
       "      <td>Ever ELL</td>\n",
       "      <td>2023</td>\n",
       "      <td>1</td>\n",
       "      <td>34499</td>\n",
       "      <td>24990.0</td>\n",
       "      <td>72.436882</td>\n",
       "    </tr>\n",
       "    <tr>\n",
       "      <th>17</th>\n",
       "      <td>Ever ELL</td>\n",
       "      <td>2023</td>\n",
       "      <td>2</td>\n",
       "      <td>27212</td>\n",
       "      <td>19644.0</td>\n",
       "      <td>72.188740</td>\n",
       "    </tr>\n",
       "    <tr>\n",
       "      <th>18</th>\n",
       "      <td>Ever ELL</td>\n",
       "      <td>2024</td>\n",
       "      <td>0</td>\n",
       "      <td>3679</td>\n",
       "      <td>1120.0</td>\n",
       "      <td>30.443055</td>\n",
       "    </tr>\n",
       "    <tr>\n",
       "      <th>19</th>\n",
       "      <td>Ever ELL</td>\n",
       "      <td>2024</td>\n",
       "      <td>1</td>\n",
       "      <td>22607</td>\n",
       "      <td>13750.0</td>\n",
       "      <td>60.821869</td>\n",
       "    </tr>\n",
       "    <tr>\n",
       "      <th>20</th>\n",
       "      <td>Ever ELL</td>\n",
       "      <td>2024</td>\n",
       "      <td>2</td>\n",
       "      <td>13882</td>\n",
       "      <td>8602.0</td>\n",
       "      <td>61.965135</td>\n",
       "    </tr>\n",
       "    <tr>\n",
       "      <th>21</th>\n",
       "      <td>Never ELL</td>\n",
       "      <td>2018</td>\n",
       "      <td>0</td>\n",
       "      <td>11868</td>\n",
       "      <td>4153.0</td>\n",
       "      <td>34.993259</td>\n",
       "    </tr>\n",
       "    <tr>\n",
       "      <th>22</th>\n",
       "      <td>Never ELL</td>\n",
       "      <td>2018</td>\n",
       "      <td>1</td>\n",
       "      <td>60450</td>\n",
       "      <td>46291.0</td>\n",
       "      <td>76.577337</td>\n",
       "    </tr>\n",
       "    <tr>\n",
       "      <th>23</th>\n",
       "      <td>Never ELL</td>\n",
       "      <td>2018</td>\n",
       "      <td>2</td>\n",
       "      <td>85745</td>\n",
       "      <td>74383.0</td>\n",
       "      <td>86.749082</td>\n",
       "    </tr>\n",
       "    <tr>\n",
       "      <th>24</th>\n",
       "      <td>Never ELL</td>\n",
       "      <td>2019</td>\n",
       "      <td>0</td>\n",
       "      <td>11017</td>\n",
       "      <td>4209.0</td>\n",
       "      <td>38.204593</td>\n",
       "    </tr>\n",
       "    <tr>\n",
       "      <th>25</th>\n",
       "      <td>Never ELL</td>\n",
       "      <td>2019</td>\n",
       "      <td>1</td>\n",
       "      <td>53903</td>\n",
       "      <td>42208.0</td>\n",
       "      <td>78.303619</td>\n",
       "    </tr>\n",
       "    <tr>\n",
       "      <th>26</th>\n",
       "      <td>Never ELL</td>\n",
       "      <td>2019</td>\n",
       "      <td>2</td>\n",
       "      <td>76487</td>\n",
       "      <td>69890.0</td>\n",
       "      <td>91.375005</td>\n",
       "    </tr>\n",
       "    <tr>\n",
       "      <th>27</th>\n",
       "      <td>Never ELL</td>\n",
       "      <td>2020</td>\n",
       "      <td>0</td>\n",
       "      <td>10734</td>\n",
       "      <td>4332.0</td>\n",
       "      <td>40.357742</td>\n",
       "    </tr>\n",
       "    <tr>\n",
       "      <th>28</th>\n",
       "      <td>Never ELL</td>\n",
       "      <td>2020</td>\n",
       "      <td>1</td>\n",
       "      <td>52018</td>\n",
       "      <td>41939.0</td>\n",
       "      <td>80.624015</td>\n",
       "    </tr>\n",
       "    <tr>\n",
       "      <th>29</th>\n",
       "      <td>Never ELL</td>\n",
       "      <td>2020</td>\n",
       "      <td>2</td>\n",
       "      <td>74880</td>\n",
       "      <td>68626.0</td>\n",
       "      <td>91.647970</td>\n",
       "    </tr>\n",
       "    <tr>\n",
       "      <th>30</th>\n",
       "      <td>Never ELL</td>\n",
       "      <td>2021</td>\n",
       "      <td>0</td>\n",
       "      <td>9635</td>\n",
       "      <td>4186.0</td>\n",
       "      <td>43.445771</td>\n",
       "    </tr>\n",
       "    <tr>\n",
       "      <th>31</th>\n",
       "      <td>Never ELL</td>\n",
       "      <td>2021</td>\n",
       "      <td>1</td>\n",
       "      <td>50513</td>\n",
       "      <td>41815.0</td>\n",
       "      <td>82.780670</td>\n",
       "    </tr>\n",
       "    <tr>\n",
       "      <th>32</th>\n",
       "      <td>Never ELL</td>\n",
       "      <td>2021</td>\n",
       "      <td>2</td>\n",
       "      <td>74862</td>\n",
       "      <td>69852.0</td>\n",
       "      <td>93.307686</td>\n",
       "    </tr>\n",
       "    <tr>\n",
       "      <th>33</th>\n",
       "      <td>Never ELL</td>\n",
       "      <td>2022</td>\n",
       "      <td>0</td>\n",
       "      <td>8807</td>\n",
       "      <td>3894.0</td>\n",
       "      <td>44.214829</td>\n",
       "    </tr>\n",
       "    <tr>\n",
       "      <th>34</th>\n",
       "      <td>Never ELL</td>\n",
       "      <td>2022</td>\n",
       "      <td>1</td>\n",
       "      <td>52423</td>\n",
       "      <td>44810.0</td>\n",
       "      <td>85.477748</td>\n",
       "    </tr>\n",
       "    <tr>\n",
       "      <th>35</th>\n",
       "      <td>Never ELL</td>\n",
       "      <td>2022</td>\n",
       "      <td>2</td>\n",
       "      <td>82218</td>\n",
       "      <td>76821.0</td>\n",
       "      <td>93.435744</td>\n",
       "    </tr>\n",
       "    <tr>\n",
       "      <th>36</th>\n",
       "      <td>Never ELL</td>\n",
       "      <td>2023</td>\n",
       "      <td>0</td>\n",
       "      <td>8008</td>\n",
       "      <td>3512.0</td>\n",
       "      <td>43.856144</td>\n",
       "    </tr>\n",
       "    <tr>\n",
       "      <th>37</th>\n",
       "      <td>Never ELL</td>\n",
       "      <td>2023</td>\n",
       "      <td>1</td>\n",
       "      <td>50102</td>\n",
       "      <td>43499.0</td>\n",
       "      <td>86.820885</td>\n",
       "    </tr>\n",
       "    <tr>\n",
       "      <th>38</th>\n",
       "      <td>Never ELL</td>\n",
       "      <td>2023</td>\n",
       "      <td>2</td>\n",
       "      <td>79452</td>\n",
       "      <td>74977.0</td>\n",
       "      <td>94.367669</td>\n",
       "    </tr>\n",
       "    <tr>\n",
       "      <th>39</th>\n",
       "      <td>Never ELL</td>\n",
       "      <td>2024</td>\n",
       "      <td>0</td>\n",
       "      <td>8874</td>\n",
       "      <td>4052.0</td>\n",
       "      <td>45.661483</td>\n",
       "    </tr>\n",
       "    <tr>\n",
       "      <th>40</th>\n",
       "      <td>Never ELL</td>\n",
       "      <td>2024</td>\n",
       "      <td>1</td>\n",
       "      <td>59185</td>\n",
       "      <td>48302.0</td>\n",
       "      <td>81.611895</td>\n",
       "    </tr>\n",
       "    <tr>\n",
       "      <th>41</th>\n",
       "      <td>Never ELL</td>\n",
       "      <td>2024</td>\n",
       "      <td>2</td>\n",
       "      <td>91727</td>\n",
       "      <td>72801.0</td>\n",
       "      <td>79.367035</td>\n",
       "    </tr>\n",
       "  </tbody>\n",
       "</table>\n",
       "</div>"
      ],
      "text/plain": [
       "     Category  Graduation Year  Cluster  # Total Cohort  # Grads     Grad %\n",
       "0    Ever ELL             2018        0            4663   1199.0  25.713060\n",
       "1    Ever ELL             2018        1           32152  18683.0  58.108360\n",
       "2    Ever ELL             2018        2           18460  10732.0  58.136511\n",
       "3    Ever ELL             2019        0            5430   1473.0  27.127072\n",
       "4    Ever ELL             2019        1           37957  24182.0  63.708934\n",
       "5    Ever ELL             2019        2           28330  18339.0  64.733498\n",
       "6    Ever ELL             2020        0            5762   1873.0  32.506074\n",
       "7    Ever ELL             2020        1           39501  26591.0  67.317283\n",
       "8    Ever ELL             2020        2           30642  20702.0  67.560864\n",
       "9    Ever ELL             2021        0            5422   2097.0  38.675765\n",
       "10   Ever ELL             2021        1           39045  27318.0  69.965425\n",
       "11   Ever ELL             2021        2           31323  22263.0  71.075567\n",
       "12   Ever ELL             2022        0            4526   1858.0  41.051701\n",
       "13   Ever ELL             2022        1           34856  24711.0  70.894538\n",
       "14   Ever ELL             2022        2           24732  17576.0  71.065826\n",
       "15   Ever ELL             2023        0            4242   1577.0  37.175860\n",
       "16   Ever ELL             2023        1           34499  24990.0  72.436882\n",
       "17   Ever ELL             2023        2           27212  19644.0  72.188740\n",
       "18   Ever ELL             2024        0            3679   1120.0  30.443055\n",
       "19   Ever ELL             2024        1           22607  13750.0  60.821869\n",
       "20   Ever ELL             2024        2           13882   8602.0  61.965135\n",
       "21  Never ELL             2018        0           11868   4153.0  34.993259\n",
       "22  Never ELL             2018        1           60450  46291.0  76.577337\n",
       "23  Never ELL             2018        2           85745  74383.0  86.749082\n",
       "24  Never ELL             2019        0           11017   4209.0  38.204593\n",
       "25  Never ELL             2019        1           53903  42208.0  78.303619\n",
       "26  Never ELL             2019        2           76487  69890.0  91.375005\n",
       "27  Never ELL             2020        0           10734   4332.0  40.357742\n",
       "28  Never ELL             2020        1           52018  41939.0  80.624015\n",
       "29  Never ELL             2020        2           74880  68626.0  91.647970\n",
       "30  Never ELL             2021        0            9635   4186.0  43.445771\n",
       "31  Never ELL             2021        1           50513  41815.0  82.780670\n",
       "32  Never ELL             2021        2           74862  69852.0  93.307686\n",
       "33  Never ELL             2022        0            8807   3894.0  44.214829\n",
       "34  Never ELL             2022        1           52423  44810.0  85.477748\n",
       "35  Never ELL             2022        2           82218  76821.0  93.435744\n",
       "36  Never ELL             2023        0            8008   3512.0  43.856144\n",
       "37  Never ELL             2023        1           50102  43499.0  86.820885\n",
       "38  Never ELL             2023        2           79452  74977.0  94.367669\n",
       "39  Never ELL             2024        0            8874   4052.0  45.661483\n",
       "40  Never ELL             2024        1           59185  48302.0  81.611895\n",
       "41  Never ELL             2024        2           91727  72801.0  79.367035"
      ]
     },
     "execution_count": 95,
     "metadata": {},
     "output_type": "execute_result"
    }
   ],
   "source": [
    "ell_data_graduation_rate = filter_graduation_rate(ell_data)\n",
    "ell_data_graduation_rate"
   ]
  },
  {
   "cell_type": "code",
   "execution_count": 218,
   "metadata": {},
   "outputs": [
    {
     "data": {
      "application/vnd.plotly.v1+json": {
       "config": {
        "plotlyServerURL": "https://plot.ly"
       },
       "data": [
        {
         "marker": {
          "color": "#1f77b4"
         },
         "name": "Ever ELL",
         "showlegend": false,
         "type": "scatter",
         "x": [
          2018,
          2019,
          2020,
          2021,
          2022,
          2023,
          2024
         ],
         "xaxis": "x",
         "y": [
          25.71306026163414,
          27.127071823204417,
          32.50607427976397,
          38.675765400221316,
          41.05170128148475,
          37.175860443187176,
          30.443055178037508
         ],
         "yaxis": "y"
        },
        {
         "marker": {
          "color": "#ff7f0e"
         },
         "name": "Never ELL",
         "showlegend": false,
         "type": "scatter",
         "x": [
          2018,
          2019,
          2020,
          2021,
          2022,
          2023,
          2024
         ],
         "xaxis": "x",
         "y": [
          34.99325918436131,
          38.20459290187891,
          40.35774175517049,
          43.445770627919046,
          44.214829113205404,
          43.85614385614386,
          45.6614829839982
         ],
         "yaxis": "y"
        },
        {
         "marker": {
          "color": "#1f77b4"
         },
         "name": "Ever ELL",
         "showlegend": false,
         "type": "scatter",
         "x": [
          2018,
          2019,
          2020,
          2021,
          2022,
          2023,
          2024
         ],
         "xaxis": "x2",
         "y": [
          58.108360288629015,
          63.70893379350318,
          67.31728310675679,
          69.96542451018057,
          70.89453752582052,
          72.4368822284704,
          60.821869332507625
         ],
         "yaxis": "y2"
        },
        {
         "marker": {
          "color": "#ff7f0e"
         },
         "name": "Never ELL",
         "showlegend": false,
         "type": "scatter",
         "x": [
          2018,
          2019,
          2020,
          2021,
          2022,
          2023,
          2024
         ],
         "xaxis": "x2",
         "y": [
          76.57733664185277,
          78.30361946459381,
          80.6240147641201,
          82.78067032249123,
          85.47774831657861,
          86.82088539379666,
          81.61189490580384
         ],
         "yaxis": "y2"
        },
        {
         "marker": {
          "color": "#1f77b4"
         },
         "name": "Ever ELL",
         "type": "scatter",
         "x": [
          2018,
          2019,
          2020,
          2021,
          2022,
          2023,
          2024
         ],
         "xaxis": "x3",
         "y": [
          58.136511375948,
          64.73349805859513,
          67.56086417335683,
          71.07556747437985,
          71.06582565097848,
          72.18874026164927,
          61.96513470681458
         ],
         "yaxis": "y3"
        },
        {
         "marker": {
          "color": "#ff7f0e"
         },
         "name": "Never ELL",
         "type": "scatter",
         "x": [
          2018,
          2019,
          2020,
          2021,
          2022,
          2023,
          2024
         ],
         "xaxis": "x3",
         "y": [
          86.74908157910082,
          91.37500490279395,
          91.64797008547009,
          93.3076861425022,
          93.43574399766474,
          94.36766852942657,
          79.36703478801226
         ],
         "yaxis": "y3"
        }
       ],
       "layout": {
        "annotations": [
         {
          "font": {
           "size": 16
          },
          "showarrow": false,
          "text": "Cluster 0",
          "x": 0.14444444444444446,
          "xanchor": "center",
          "xref": "paper",
          "y": 1,
          "yanchor": "bottom",
          "yref": "paper"
         },
         {
          "font": {
           "size": 16
          },
          "showarrow": false,
          "text": "Cluster 1",
          "x": 0.5,
          "xanchor": "center",
          "xref": "paper",
          "y": 1,
          "yanchor": "bottom",
          "yref": "paper"
         },
         {
          "font": {
           "size": 16
          },
          "showarrow": false,
          "text": "Cluster 2",
          "x": 0.8555555555555556,
          "xanchor": "center",
          "xref": "paper",
          "y": 1,
          "yanchor": "bottom",
          "yref": "paper"
         }
        ],
        "template": {
         "layout": {
          "plot_bgcolor": "white",
          "xaxis": {
           "gridcolor": "lightgray"
          },
          "yaxis": {
           "gridcolor": "lightgray"
          }
         }
        },
        "title": {
         "text": "Graduation Rate from 2018 to 2024 in Every Cluster per English Language Learning (ELL) Status"
        },
        "xaxis": {
         "anchor": "y",
         "domain": [
          0,
          0.2888888888888889
         ],
         "title": {
          "text": "Year"
         }
        },
        "xaxis2": {
         "anchor": "y2",
         "domain": [
          0.35555555555555557,
          0.6444444444444445
         ],
         "title": {
          "text": "Year"
         }
        },
        "xaxis3": {
         "anchor": "y3",
         "domain": [
          0.7111111111111111,
          1
         ],
         "title": {
          "text": "Year"
         }
        },
        "yaxis": {
         "anchor": "x",
         "domain": [
          0,
          1
         ],
         "range": [
          25.71306026163414,
          94.36766852942657
         ],
         "title": {
          "text": "Graduation %"
         }
        },
        "yaxis2": {
         "anchor": "x2",
         "domain": [
          0,
          1
         ],
         "range": [
          25.71306026163414,
          94.36766852942657
         ],
         "title": {
          "text": "Graduation %"
         }
        },
        "yaxis3": {
         "anchor": "x3",
         "domain": [
          0,
          1
         ],
         "range": [
          25.71306026163414,
          94.36766852942657
         ],
         "title": {
          "text": "Graduation %"
         }
        }
       }
      }
     },
     "metadata": {},
     "output_type": "display_data"
    }
   ],
   "source": [
    "fig = make_subplots(rows=1, cols=len(ell_data_graduation_rate['Cluster'].unique()), subplot_titles=('Cluster 0', 'Cluster 1', 'Cluster 2'))\n",
    "\n",
    "for cluster in ell_data_graduation_rate['Cluster'].unique():\n",
    "    cluster_row = ell_data_graduation_rate[ell_data_graduation_rate['Cluster'] == cluster]\n",
    "    cluster_index = ell_data_graduation_rate['Cluster'].unique().tolist().index(cluster)\n",
    "    for category in cluster_row['Category'].unique():\n",
    "        category_row = cluster_row[cluster_row['Category'] == category]\n",
    "        category_index = cluster_row['Category'].unique().tolist().index(category)\n",
    "        fig.add_trace(go.Scatter(x=category_row['Graduation Year'], y=category_row['Grad %'], name=category, marker=dict(color=colors[category_index])), row=1, col=cluster_index+1)\n",
    "        fig.update_yaxes(range=[ell_data_graduation_rate['Grad %'].min(), ell_data_graduation_rate['Grad %'].max()], title_text='Graduation %')\n",
    "        fig.update_xaxes(title_text='Year')\n",
    "\n",
    "fig.update_layout(title_text='Graduation Rate from 2018 to 2024 in Every Cluster per English Language Learning (ELL) Status')\n",
    "\n",
    "for i in range(len(fig.data) - len(ell_data_graduation_rate['Category'].unique())):\n",
    "    fig.data[i].showlegend = False\n",
    "\n",
    "fig.show()"
   ]
  },
  {
   "cell_type": "markdown",
   "metadata": {},
   "source": [
    "### Diploma Type"
   ]
  },
  {
   "cell_type": "code",
   "execution_count": 97,
   "metadata": {},
   "outputs": [
    {
     "data": {
      "text/html": [
       "<div>\n",
       "<style scoped>\n",
       "    .dataframe tbody tr th:only-of-type {\n",
       "        vertical-align: middle;\n",
       "    }\n",
       "\n",
       "    .dataframe tbody tr th {\n",
       "        vertical-align: top;\n",
       "    }\n",
       "\n",
       "    .dataframe thead th {\n",
       "        text-align: right;\n",
       "    }\n",
       "</style>\n",
       "<table border=\"1\" class=\"dataframe\">\n",
       "  <thead>\n",
       "    <tr style=\"text-align: right;\">\n",
       "      <th></th>\n",
       "      <th>Category</th>\n",
       "      <th>Cluster</th>\n",
       "      <th># Advanced Regents</th>\n",
       "      <th># Regents without Advanced</th>\n",
       "      <th># Local</th>\n",
       "      <th># Grads</th>\n",
       "      <th>Advanced Regents %</th>\n",
       "      <th>Regents without Advanced %</th>\n",
       "      <th>Local %</th>\n",
       "    </tr>\n",
       "  </thead>\n",
       "  <tbody>\n",
       "    <tr>\n",
       "      <th>0</th>\n",
       "      <td>Ever ELL</td>\n",
       "      <td>0</td>\n",
       "      <td>994.0</td>\n",
       "      <td>9198.0</td>\n",
       "      <td>1005.0</td>\n",
       "      <td>11197.0</td>\n",
       "      <td>8.877378</td>\n",
       "      <td>82.147004</td>\n",
       "      <td>8.975618</td>\n",
       "    </tr>\n",
       "    <tr>\n",
       "      <th>1</th>\n",
       "      <td>Ever ELL</td>\n",
       "      <td>1</td>\n",
       "      <td>30075.0</td>\n",
       "      <td>119155.0</td>\n",
       "      <td>11001.0</td>\n",
       "      <td>160225.0</td>\n",
       "      <td>18.770479</td>\n",
       "      <td>74.367296</td>\n",
       "      <td>6.865970</td>\n",
       "    </tr>\n",
       "    <tr>\n",
       "      <th>2</th>\n",
       "      <td>Ever ELL</td>\n",
       "      <td>2</td>\n",
       "      <td>57529.0</td>\n",
       "      <td>56967.0</td>\n",
       "      <td>3391.0</td>\n",
       "      <td>117858.0</td>\n",
       "      <td>48.812130</td>\n",
       "      <td>48.335285</td>\n",
       "      <td>2.877191</td>\n",
       "    </tr>\n",
       "    <tr>\n",
       "      <th>3</th>\n",
       "      <td>Never ELL</td>\n",
       "      <td>0</td>\n",
       "      <td>273.0</td>\n",
       "      <td>24315.0</td>\n",
       "      <td>3751.0</td>\n",
       "      <td>28338.0</td>\n",
       "      <td>0.963371</td>\n",
       "      <td>85.803515</td>\n",
       "      <td>13.236643</td>\n",
       "    </tr>\n",
       "    <tr>\n",
       "      <th>4</th>\n",
       "      <td>Never ELL</td>\n",
       "      <td>1</td>\n",
       "      <td>55814.0</td>\n",
       "      <td>234809.0</td>\n",
       "      <td>18289.0</td>\n",
       "      <td>308864.0</td>\n",
       "      <td>18.070737</td>\n",
       "      <td>76.023428</td>\n",
       "      <td>5.921376</td>\n",
       "    </tr>\n",
       "    <tr>\n",
       "      <th>5</th>\n",
       "      <td>Never ELL</td>\n",
       "      <td>2</td>\n",
       "      <td>237503.0</td>\n",
       "      <td>257614.0</td>\n",
       "      <td>12309.0</td>\n",
       "      <td>507350.0</td>\n",
       "      <td>46.812457</td>\n",
       "      <td>50.776387</td>\n",
       "      <td>2.426136</td>\n",
       "    </tr>\n",
       "  </tbody>\n",
       "</table>\n",
       "</div>"
      ],
      "text/plain": [
       "    Category  Cluster  # Advanced Regents  # Regents without Advanced  \\\n",
       "0   Ever ELL        0               994.0                      9198.0   \n",
       "1   Ever ELL        1             30075.0                    119155.0   \n",
       "2   Ever ELL        2             57529.0                     56967.0   \n",
       "3  Never ELL        0               273.0                     24315.0   \n",
       "4  Never ELL        1             55814.0                    234809.0   \n",
       "5  Never ELL        2            237503.0                    257614.0   \n",
       "\n",
       "   # Local   # Grads  Advanced Regents %  Regents without Advanced %  \\\n",
       "0   1005.0   11197.0            8.877378                   82.147004   \n",
       "1  11001.0  160225.0           18.770479                   74.367296   \n",
       "2   3391.0  117858.0           48.812130                   48.335285   \n",
       "3   3751.0   28338.0            0.963371                   85.803515   \n",
       "4  18289.0  308864.0           18.070737                   76.023428   \n",
       "5  12309.0  507350.0           46.812457                   50.776387   \n",
       "\n",
       "     Local %  \n",
       "0   8.975618  \n",
       "1   6.865970  \n",
       "2   2.877191  \n",
       "3  13.236643  \n",
       "4   5.921376  \n",
       "5   2.426136  "
      ]
     },
     "execution_count": 97,
     "metadata": {},
     "output_type": "execute_result"
    }
   ],
   "source": [
    "ell_data_diploma_type = filter_diploma_type(ell_data)\n",
    "ell_data_diploma_type"
   ]
  },
  {
   "cell_type": "code",
   "execution_count": 220,
   "metadata": {},
   "outputs": [
    {
     "data": {
      "application/vnd.plotly.v1+json": {
       "config": {
        "plotlyServerURL": "https://plot.ly"
       },
       "data": [
        {
         "marker": {
          "color": "#1f77b4"
         },
         "name": "Advanced Regents Diploma",
         "showlegend": false,
         "type": "bar",
         "x": [
          "Ever ELL",
          "Never ELL"
         ],
         "xaxis": "x",
         "y": [
          8.877377869072072,
          0.9633707389371162
         ],
         "yaxis": "y"
        },
        {
         "marker": {
          "color": "#ff7f0e"
         },
         "name": "Regular Regents Diploma",
         "showlegend": false,
         "type": "bar",
         "x": [
          "Ever ELL",
          "Never ELL"
         ],
         "xaxis": "x",
         "y": [
          82.1470036616951,
          85.80351471522337
         ],
         "yaxis": "y"
        },
        {
         "marker": {
          "color": "#2ca02c"
         },
         "name": "Local Diploma",
         "showlegend": false,
         "type": "bar",
         "x": [
          "Ever ELL",
          "Never ELL"
         ],
         "xaxis": "x",
         "y": [
          8.975618469232831,
          13.236643376385066
         ],
         "yaxis": "y"
        },
        {
         "marker": {
          "color": "#1f77b4"
         },
         "name": "Advanced Regents Diploma",
         "showlegend": false,
         "type": "bar",
         "x": [
          "Ever ELL",
          "Never ELL"
         ],
         "xaxis": "x2",
         "y": [
          18.77047901388672,
          18.07073663489432
         ],
         "yaxis": "y2"
        },
        {
         "marker": {
          "color": "#ff7f0e"
         },
         "name": "Regular Regents Diploma",
         "showlegend": false,
         "type": "bar",
         "x": [
          "Ever ELL",
          "Never ELL"
         ],
         "xaxis": "x2",
         "y": [
          74.36729599001404,
          76.02342778698716
         ],
         "yaxis": "y2"
        },
        {
         "marker": {
          "color": "#2ca02c"
         },
         "name": "Local Diploma",
         "showlegend": false,
         "type": "bar",
         "x": [
          "Ever ELL",
          "Never ELL"
         ],
         "xaxis": "x2",
         "y": [
          6.865969730067094,
          5.92137639867385
         ],
         "yaxis": "y2"
        },
        {
         "marker": {
          "color": "#1f77b4"
         },
         "name": "Advanced Regents Diploma",
         "type": "bar",
         "x": [
          "Ever ELL",
          "Never ELL"
         ],
         "xaxis": "x3",
         "y": [
          48.81212985117684,
          46.812456883808025
         ],
         "yaxis": "y3"
        },
        {
         "marker": {
          "color": "#ff7f0e"
         },
         "name": "Regular Regents Diploma",
         "type": "bar",
         "x": [
          "Ever ELL",
          "Never ELL"
         ],
         "xaxis": "x3",
         "y": [
          48.33528483429211,
          50.77638710949049
         ],
         "yaxis": "y3"
        },
        {
         "marker": {
          "color": "#2ca02c"
         },
         "name": "Local Diploma",
         "type": "bar",
         "x": [
          "Ever ELL",
          "Never ELL"
         ],
         "xaxis": "x3",
         "y": [
          2.87719119618524,
          2.4261358036858183
         ],
         "yaxis": "y3"
        }
       ],
       "layout": {
        "annotations": [
         {
          "font": {
           "size": 16
          },
          "showarrow": false,
          "text": "Cluster 0",
          "x": 0.14444444444444446,
          "xanchor": "center",
          "xref": "paper",
          "y": 1,
          "yanchor": "bottom",
          "yref": "paper"
         },
         {
          "font": {
           "size": 16
          },
          "showarrow": false,
          "text": "Cluster 1",
          "x": 0.5,
          "xanchor": "center",
          "xref": "paper",
          "y": 1,
          "yanchor": "bottom",
          "yref": "paper"
         },
         {
          "font": {
           "size": 16
          },
          "showarrow": false,
          "text": "Cluster 2",
          "x": 0.8555555555555556,
          "xanchor": "center",
          "xref": "paper",
          "y": 1,
          "yanchor": "bottom",
          "yref": "paper"
         }
        ],
        "template": {
         "layout": {
          "plot_bgcolor": "white",
          "xaxis": {
           "gridcolor": "lightgray"
          },
          "yaxis": {
           "gridcolor": "lightgray"
          }
         }
        },
        "title": {
         "text": "Distribution of Graduates in Every Cluster per English Language Learning (ELL) Status by Diploma Type"
        },
        "xaxis": {
         "anchor": "y",
         "domain": [
          0,
          0.2888888888888889
         ]
        },
        "xaxis2": {
         "anchor": "y2",
         "domain": [
          0.35555555555555557,
          0.6444444444444445
         ]
        },
        "xaxis3": {
         "anchor": "y3",
         "domain": [
          0.7111111111111111,
          1
         ]
        },
        "yaxis": {
         "anchor": "x",
         "domain": [
          0,
          1
         ],
         "range": [
          0,
          85.80351471522337
         ],
         "title": {
          "text": "Distribution %"
         }
        },
        "yaxis2": {
         "anchor": "x2",
         "domain": [
          0,
          1
         ],
         "range": [
          0,
          85.80351471522337
         ],
         "title": {
          "text": "Distribution %"
         }
        },
        "yaxis3": {
         "anchor": "x3",
         "domain": [
          0,
          1
         ],
         "range": [
          0,
          85.80351471522337
         ],
         "title": {
          "text": "Distribution %"
         }
        }
       }
      }
     },
     "metadata": {},
     "output_type": "display_data"
    }
   ],
   "source": [
    "fig = make_subplots(rows=1, cols=len(ell_data_diploma_type['Cluster'].unique()), subplot_titles=('Cluster 0', 'Cluster 1', 'Cluster 2'))\n",
    "\n",
    "for cluster in ell_data_diploma_type['Cluster'].unique():\n",
    "    cluster_row = ell_data_diploma_type[ell_data_diploma_type['Cluster'] == cluster]\n",
    "    cluster_index = ell_data_population['Cluster'].unique().tolist().index(cluster)\n",
    "    fig.add_trace(go.Bar(x=cluster_row['Category'], y=cluster_row['Advanced Regents %'], name='Advanced Regents Diploma', marker=dict(color=colors[0])), row=1, col=cluster_index+1)\n",
    "    fig.add_trace(go.Bar(x=cluster_row['Category'], y=cluster_row['Regents without Advanced %'], name='Regular Regents Diploma', marker=dict(color=colors[1])), row=1, col=cluster_index+1)\n",
    "    fig.add_trace(go.Bar(x=cluster_row['Category'], y=cluster_row['Local %'], name='Local Diploma', marker=dict(color=colors[2])), row=1, col=cluster_index+1)\n",
    "    fig.update_yaxes(range=[0, max(ell_data_diploma_type[['Advanced Regents %', 'Regents without Advanced %', 'Local %']].max(axis=1))], title_text='Distribution %')\n",
    "\n",
    "for i in range(len(fig.data) - 3):\n",
    "    fig.data[i].showlegend = False\n",
    "\n",
    "fig.update_layout(title_text='Distribution of Graduates in Every Cluster per English Language Learning (ELL) Status by Diploma Type')\n",
    "fig.show()"
   ]
  },
  {
   "cell_type": "markdown",
   "metadata": {},
   "source": [
    "### Dropouts"
   ]
  },
  {
   "cell_type": "code",
   "execution_count": 99,
   "metadata": {},
   "outputs": [
    {
     "data": {
      "text/html": [
       "<div>\n",
       "<style scoped>\n",
       "    .dataframe tbody tr th:only-of-type {\n",
       "        vertical-align: middle;\n",
       "    }\n",
       "\n",
       "    .dataframe tbody tr th {\n",
       "        vertical-align: top;\n",
       "    }\n",
       "\n",
       "    .dataframe thead th {\n",
       "        text-align: right;\n",
       "    }\n",
       "</style>\n",
       "<table border=\"1\" class=\"dataframe\">\n",
       "  <thead>\n",
       "    <tr style=\"text-align: right;\">\n",
       "      <th></th>\n",
       "      <th>Category</th>\n",
       "      <th>Cluster</th>\n",
       "      <th># Dropout</th>\n",
       "      <th># Total Cohort</th>\n",
       "      <th># Grads</th>\n",
       "      <th># No Grads</th>\n",
       "      <th>Dropout %</th>\n",
       "    </tr>\n",
       "  </thead>\n",
       "  <tbody>\n",
       "    <tr>\n",
       "      <th>0</th>\n",
       "      <td>Ever ELL</td>\n",
       "      <td>0</td>\n",
       "      <td>8154.0</td>\n",
       "      <td>33724</td>\n",
       "      <td>11197.0</td>\n",
       "      <td>22527.0</td>\n",
       "      <td>36.196564</td>\n",
       "    </tr>\n",
       "    <tr>\n",
       "      <th>1</th>\n",
       "      <td>Ever ELL</td>\n",
       "      <td>1</td>\n",
       "      <td>31409.0</td>\n",
       "      <td>240617</td>\n",
       "      <td>160225.0</td>\n",
       "      <td>80392.0</td>\n",
       "      <td>39.069808</td>\n",
       "    </tr>\n",
       "    <tr>\n",
       "      <th>2</th>\n",
       "      <td>Ever ELL</td>\n",
       "      <td>2</td>\n",
       "      <td>5051.0</td>\n",
       "      <td>174581</td>\n",
       "      <td>117858.0</td>\n",
       "      <td>56723.0</td>\n",
       "      <td>8.904677</td>\n",
       "    </tr>\n",
       "    <tr>\n",
       "      <th>3</th>\n",
       "      <td>Never ELL</td>\n",
       "      <td>0</td>\n",
       "      <td>16166.0</td>\n",
       "      <td>68943</td>\n",
       "      <td>28338.0</td>\n",
       "      <td>40605.0</td>\n",
       "      <td>39.812831</td>\n",
       "    </tr>\n",
       "    <tr>\n",
       "      <th>4</th>\n",
       "      <td>Never ELL</td>\n",
       "      <td>1</td>\n",
       "      <td>38686.0</td>\n",
       "      <td>378594</td>\n",
       "      <td>308864.0</td>\n",
       "      <td>69730.0</td>\n",
       "      <td>55.479707</td>\n",
       "    </tr>\n",
       "    <tr>\n",
       "      <th>5</th>\n",
       "      <td>Never ELL</td>\n",
       "      <td>2</td>\n",
       "      <td>12985.0</td>\n",
       "      <td>565371</td>\n",
       "      <td>507350.0</td>\n",
       "      <td>58021.0</td>\n",
       "      <td>22.379828</td>\n",
       "    </tr>\n",
       "  </tbody>\n",
       "</table>\n",
       "</div>"
      ],
      "text/plain": [
       "    Category  Cluster  # Dropout  # Total Cohort   # Grads  # No Grads  \\\n",
       "0   Ever ELL        0     8154.0           33724   11197.0     22527.0   \n",
       "1   Ever ELL        1    31409.0          240617  160225.0     80392.0   \n",
       "2   Ever ELL        2     5051.0          174581  117858.0     56723.0   \n",
       "3  Never ELL        0    16166.0           68943   28338.0     40605.0   \n",
       "4  Never ELL        1    38686.0          378594  308864.0     69730.0   \n",
       "5  Never ELL        2    12985.0          565371  507350.0     58021.0   \n",
       "\n",
       "   Dropout %  \n",
       "0  36.196564  \n",
       "1  39.069808  \n",
       "2   8.904677  \n",
       "3  39.812831  \n",
       "4  55.479707  \n",
       "5  22.379828  "
      ]
     },
     "execution_count": 99,
     "metadata": {},
     "output_type": "execute_result"
    }
   ],
   "source": [
    "ell_data_dropout = filter_dropout(ell_data)\n",
    "ell_data_dropout"
   ]
  },
  {
   "cell_type": "code",
   "execution_count": 100,
   "metadata": {},
   "outputs": [
    {
     "data": {
      "application/vnd.plotly.v1+json": {
       "config": {
        "plotlyServerURL": "https://plot.ly"
       },
       "data": [
        {
         "marker": {
          "color": "#1f77b4"
         },
         "showlegend": false,
         "type": "bar",
         "x": [
          "Ever ELL"
         ],
         "xaxis": "x",
         "y": [
          36.19656412305234
         ],
         "yaxis": "y"
        },
        {
         "marker": {
          "color": "#ff7f0e"
         },
         "showlegend": false,
         "type": "bar",
         "x": [
          "Never ELL"
         ],
         "xaxis": "x",
         "y": [
          39.81283093215121
         ],
         "yaxis": "y"
        },
        {
         "marker": {
          "color": "#1f77b4"
         },
         "showlegend": false,
         "type": "bar",
         "x": [
          "Ever ELL"
         ],
         "xaxis": "x2",
         "y": [
          39.06980794108866
         ],
         "yaxis": "y2"
        },
        {
         "marker": {
          "color": "#ff7f0e"
         },
         "showlegend": false,
         "type": "bar",
         "x": [
          "Never ELL"
         ],
         "xaxis": "x2",
         "y": [
          55.47970744299441
         ],
         "yaxis": "y2"
        },
        {
         "marker": {
          "color": "#1f77b4"
         },
         "showlegend": false,
         "type": "bar",
         "x": [
          "Ever ELL"
         ],
         "xaxis": "x3",
         "y": [
          8.90467711510322
         ],
         "yaxis": "y3"
        },
        {
         "marker": {
          "color": "#ff7f0e"
         },
         "showlegend": false,
         "type": "bar",
         "x": [
          "Never ELL"
         ],
         "xaxis": "x3",
         "y": [
          22.379827993312766
         ],
         "yaxis": "y3"
        }
       ],
       "layout": {
        "annotations": [
         {
          "font": {
           "size": 16
          },
          "showarrow": false,
          "text": "Cluster 0",
          "x": 0.14444444444444446,
          "xanchor": "center",
          "xref": "paper",
          "y": 1,
          "yanchor": "bottom",
          "yref": "paper"
         },
         {
          "font": {
           "size": 16
          },
          "showarrow": false,
          "text": "Cluster 1",
          "x": 0.5,
          "xanchor": "center",
          "xref": "paper",
          "y": 1,
          "yanchor": "bottom",
          "yref": "paper"
         },
         {
          "font": {
           "size": 16
          },
          "showarrow": false,
          "text": "Cluster 2",
          "x": 0.8555555555555556,
          "xanchor": "center",
          "xref": "paper",
          "y": 1,
          "yanchor": "bottom",
          "yref": "paper"
         }
        ],
        "template": {
         "layout": {
          "plot_bgcolor": "white",
          "xaxis": {
           "gridcolor": "lightgray"
          },
          "yaxis": {
           "gridcolor": "lightgray"
          }
         }
        },
        "title": {
         "text": "Dropout Rate per ELL Level in Every Cluster"
        },
        "xaxis": {
         "anchor": "y",
         "domain": [
          0,
          0.2888888888888889
         ]
        },
        "xaxis2": {
         "anchor": "y2",
         "domain": [
          0.35555555555555557,
          0.6444444444444445
         ]
        },
        "xaxis3": {
         "anchor": "y3",
         "domain": [
          0.7111111111111111,
          1
         ]
        },
        "yaxis": {
         "anchor": "x",
         "domain": [
          0,
          1
         ],
         "range": [
          0,
          55.47970744299441
         ],
         "title": {
          "text": "Dropoout %"
         }
        },
        "yaxis2": {
         "anchor": "x2",
         "domain": [
          0,
          1
         ],
         "range": [
          0,
          55.47970744299441
         ],
         "title": {
          "text": "Dropoout %"
         }
        },
        "yaxis3": {
         "anchor": "x3",
         "domain": [
          0,
          1
         ],
         "range": [
          0,
          55.47970744299441
         ],
         "title": {
          "text": "Dropoout %"
         }
        }
       }
      }
     },
     "metadata": {},
     "output_type": "display_data"
    }
   ],
   "source": [
    "fig = make_subplots(rows=1, cols=len(ell_data_dropout['Cluster'].unique()), subplot_titles=('Cluster 0', 'Cluster 1', 'Cluster 2'))\n",
    "\n",
    "for cluster in ell_data_dropout['Cluster'].unique():\n",
    "    cluster_row = ell_data_dropout[ell_data_dropout['Cluster'] == cluster]\n",
    "    cluster_index = ell_data_dropout['Cluster'].unique().tolist().index(cluster)\n",
    "    for category in cluster_row['Category'].unique():\n",
    "        category_row = cluster_row[cluster_row['Category'] == category]\n",
    "        category_index = cluster_row['Category'].unique().tolist().index(category)\n",
    "        fig.add_trace(go.Bar(x=category_row['Category'], y=category_row['Dropout %'], marker=dict(color=colors[category_index]), showlegend=False), row=1, col=cluster_index+1)\n",
    "        fig.update_yaxes(range=[0,ell_data_dropout['Dropout %'].max()], title_text='Dropoout %')\n",
    "\n",
    "fig.update_layout(title_text='Dropout Rate per ELL Level in Every Cluster')\n",
    "fig.show()"
   ]
  },
  {
   "cell_type": "code",
   "execution_count": 101,
   "metadata": {},
   "outputs": [
    {
     "data": {
      "text/html": [
       "<div>\n",
       "<style scoped>\n",
       "    .dataframe tbody tr th:only-of-type {\n",
       "        vertical-align: middle;\n",
       "    }\n",
       "\n",
       "    .dataframe tbody tr th {\n",
       "        vertical-align: top;\n",
       "    }\n",
       "\n",
       "    .dataframe thead th {\n",
       "        text-align: right;\n",
       "    }\n",
       "</style>\n",
       "<table border=\"1\" class=\"dataframe\">\n",
       "  <thead>\n",
       "    <tr style=\"text-align: right;\">\n",
       "      <th></th>\n",
       "      <th>Category</th>\n",
       "      <th>Graduation Year</th>\n",
       "      <th>Cluster</th>\n",
       "      <th># Dropout</th>\n",
       "      <th># Total Cohort</th>\n",
       "      <th># Grads</th>\n",
       "      <th># No Grads</th>\n",
       "      <th>Dropout %</th>\n",
       "    </tr>\n",
       "  </thead>\n",
       "  <tbody>\n",
       "    <tr>\n",
       "      <th>0</th>\n",
       "      <td>Ever ELL</td>\n",
       "      <td>2018</td>\n",
       "      <td>0</td>\n",
       "      <td>1271.0</td>\n",
       "      <td>4663</td>\n",
       "      <td>1199.0</td>\n",
       "      <td>3464.0</td>\n",
       "      <td>36.691686</td>\n",
       "    </tr>\n",
       "    <tr>\n",
       "      <th>1</th>\n",
       "      <td>Ever ELL</td>\n",
       "      <td>2018</td>\n",
       "      <td>1</td>\n",
       "      <td>5103.0</td>\n",
       "      <td>32152</td>\n",
       "      <td>18683.0</td>\n",
       "      <td>13469.0</td>\n",
       "      <td>37.887000</td>\n",
       "    </tr>\n",
       "    <tr>\n",
       "      <th>2</th>\n",
       "      <td>Ever ELL</td>\n",
       "      <td>2018</td>\n",
       "      <td>2</td>\n",
       "      <td>655.0</td>\n",
       "      <td>18460</td>\n",
       "      <td>10732.0</td>\n",
       "      <td>7728.0</td>\n",
       "      <td>8.475673</td>\n",
       "    </tr>\n",
       "    <tr>\n",
       "      <th>3</th>\n",
       "      <td>Ever ELL</td>\n",
       "      <td>2019</td>\n",
       "      <td>0</td>\n",
       "      <td>1496.0</td>\n",
       "      <td>5430</td>\n",
       "      <td>1473.0</td>\n",
       "      <td>3957.0</td>\n",
       "      <td>37.806419</td>\n",
       "    </tr>\n",
       "    <tr>\n",
       "      <th>4</th>\n",
       "      <td>Ever ELL</td>\n",
       "      <td>2019</td>\n",
       "      <td>1</td>\n",
       "      <td>5892.0</td>\n",
       "      <td>37957</td>\n",
       "      <td>24182.0</td>\n",
       "      <td>13775.0</td>\n",
       "      <td>42.773140</td>\n",
       "    </tr>\n",
       "    <tr>\n",
       "      <th>5</th>\n",
       "      <td>Ever ELL</td>\n",
       "      <td>2019</td>\n",
       "      <td>2</td>\n",
       "      <td>878.0</td>\n",
       "      <td>28330</td>\n",
       "      <td>18339.0</td>\n",
       "      <td>9991.0</td>\n",
       "      <td>8.787909</td>\n",
       "    </tr>\n",
       "    <tr>\n",
       "      <th>6</th>\n",
       "      <td>Ever ELL</td>\n",
       "      <td>2020</td>\n",
       "      <td>0</td>\n",
       "      <td>1295.0</td>\n",
       "      <td>5762</td>\n",
       "      <td>1873.0</td>\n",
       "      <td>3889.0</td>\n",
       "      <td>33.299049</td>\n",
       "    </tr>\n",
       "    <tr>\n",
       "      <th>7</th>\n",
       "      <td>Ever ELL</td>\n",
       "      <td>2020</td>\n",
       "      <td>1</td>\n",
       "      <td>5377.0</td>\n",
       "      <td>39501</td>\n",
       "      <td>26591.0</td>\n",
       "      <td>12910.0</td>\n",
       "      <td>41.649884</td>\n",
       "    </tr>\n",
       "    <tr>\n",
       "      <th>8</th>\n",
       "      <td>Ever ELL</td>\n",
       "      <td>2020</td>\n",
       "      <td>2</td>\n",
       "      <td>858.0</td>\n",
       "      <td>30642</td>\n",
       "      <td>20702.0</td>\n",
       "      <td>9940.0</td>\n",
       "      <td>8.631791</td>\n",
       "    </tr>\n",
       "    <tr>\n",
       "      <th>9</th>\n",
       "      <td>Ever ELL</td>\n",
       "      <td>2021</td>\n",
       "      <td>0</td>\n",
       "      <td>1037.0</td>\n",
       "      <td>5422</td>\n",
       "      <td>2097.0</td>\n",
       "      <td>3325.0</td>\n",
       "      <td>31.187970</td>\n",
       "    </tr>\n",
       "    <tr>\n",
       "      <th>10</th>\n",
       "      <td>Ever ELL</td>\n",
       "      <td>2021</td>\n",
       "      <td>1</td>\n",
       "      <td>4626.0</td>\n",
       "      <td>39045</td>\n",
       "      <td>27318.0</td>\n",
       "      <td>11727.0</td>\n",
       "      <td>39.447429</td>\n",
       "    </tr>\n",
       "    <tr>\n",
       "      <th>11</th>\n",
       "      <td>Ever ELL</td>\n",
       "      <td>2021</td>\n",
       "      <td>2</td>\n",
       "      <td>799.0</td>\n",
       "      <td>31323</td>\n",
       "      <td>22263.0</td>\n",
       "      <td>9060.0</td>\n",
       "      <td>8.818985</td>\n",
       "    </tr>\n",
       "    <tr>\n",
       "      <th>12</th>\n",
       "      <td>Ever ELL</td>\n",
       "      <td>2022</td>\n",
       "      <td>0</td>\n",
       "      <td>1078.0</td>\n",
       "      <td>4526</td>\n",
       "      <td>1858.0</td>\n",
       "      <td>2668.0</td>\n",
       "      <td>40.404798</td>\n",
       "    </tr>\n",
       "    <tr>\n",
       "      <th>13</th>\n",
       "      <td>Ever ELL</td>\n",
       "      <td>2022</td>\n",
       "      <td>1</td>\n",
       "      <td>4220.0</td>\n",
       "      <td>34856</td>\n",
       "      <td>24711.0</td>\n",
       "      <td>10145.0</td>\n",
       "      <td>41.596846</td>\n",
       "    </tr>\n",
       "    <tr>\n",
       "      <th>14</th>\n",
       "      <td>Ever ELL</td>\n",
       "      <td>2022</td>\n",
       "      <td>2</td>\n",
       "      <td>701.0</td>\n",
       "      <td>24732</td>\n",
       "      <td>17576.0</td>\n",
       "      <td>7156.0</td>\n",
       "      <td>9.795975</td>\n",
       "    </tr>\n",
       "    <tr>\n",
       "      <th>15</th>\n",
       "      <td>Ever ELL</td>\n",
       "      <td>2023</td>\n",
       "      <td>0</td>\n",
       "      <td>1089.0</td>\n",
       "      <td>4242</td>\n",
       "      <td>1577.0</td>\n",
       "      <td>2665.0</td>\n",
       "      <td>40.863039</td>\n",
       "    </tr>\n",
       "    <tr>\n",
       "      <th>16</th>\n",
       "      <td>Ever ELL</td>\n",
       "      <td>2023</td>\n",
       "      <td>1</td>\n",
       "      <td>3738.0</td>\n",
       "      <td>34499</td>\n",
       "      <td>24990.0</td>\n",
       "      <td>9509.0</td>\n",
       "      <td>39.310127</td>\n",
       "    </tr>\n",
       "    <tr>\n",
       "      <th>17</th>\n",
       "      <td>Ever ELL</td>\n",
       "      <td>2023</td>\n",
       "      <td>2</td>\n",
       "      <td>729.0</td>\n",
       "      <td>27212</td>\n",
       "      <td>19644.0</td>\n",
       "      <td>7568.0</td>\n",
       "      <td>9.632664</td>\n",
       "    </tr>\n",
       "    <tr>\n",
       "      <th>18</th>\n",
       "      <td>Ever ELL</td>\n",
       "      <td>2024</td>\n",
       "      <td>0</td>\n",
       "      <td>888.0</td>\n",
       "      <td>3679</td>\n",
       "      <td>1120.0</td>\n",
       "      <td>2559.0</td>\n",
       "      <td>34.701055</td>\n",
       "    </tr>\n",
       "    <tr>\n",
       "      <th>19</th>\n",
       "      <td>Ever ELL</td>\n",
       "      <td>2024</td>\n",
       "      <td>1</td>\n",
       "      <td>2453.0</td>\n",
       "      <td>22607</td>\n",
       "      <td>13750.0</td>\n",
       "      <td>8857.0</td>\n",
       "      <td>27.695608</td>\n",
       "    </tr>\n",
       "    <tr>\n",
       "      <th>20</th>\n",
       "      <td>Ever ELL</td>\n",
       "      <td>2024</td>\n",
       "      <td>2</td>\n",
       "      <td>431.0</td>\n",
       "      <td>13882</td>\n",
       "      <td>8602.0</td>\n",
       "      <td>5280.0</td>\n",
       "      <td>8.162879</td>\n",
       "    </tr>\n",
       "    <tr>\n",
       "      <th>21</th>\n",
       "      <td>Never ELL</td>\n",
       "      <td>2018</td>\n",
       "      <td>0</td>\n",
       "      <td>2998.0</td>\n",
       "      <td>11868</td>\n",
       "      <td>4153.0</td>\n",
       "      <td>7715.0</td>\n",
       "      <td>38.859365</td>\n",
       "    </tr>\n",
       "    <tr>\n",
       "      <th>22</th>\n",
       "      <td>Never ELL</td>\n",
       "      <td>2018</td>\n",
       "      <td>1</td>\n",
       "      <td>7960.0</td>\n",
       "      <td>60450</td>\n",
       "      <td>46291.0</td>\n",
       "      <td>14159.0</td>\n",
       "      <td>56.218660</td>\n",
       "    </tr>\n",
       "    <tr>\n",
       "      <th>23</th>\n",
       "      <td>Never ELL</td>\n",
       "      <td>2018</td>\n",
       "      <td>2</td>\n",
       "      <td>2238.0</td>\n",
       "      <td>85745</td>\n",
       "      <td>74383.0</td>\n",
       "      <td>11362.0</td>\n",
       "      <td>19.697236</td>\n",
       "    </tr>\n",
       "    <tr>\n",
       "      <th>24</th>\n",
       "      <td>Never ELL</td>\n",
       "      <td>2019</td>\n",
       "      <td>0</td>\n",
       "      <td>3092.0</td>\n",
       "      <td>11017</td>\n",
       "      <td>4209.0</td>\n",
       "      <td>6808.0</td>\n",
       "      <td>45.417156</td>\n",
       "    </tr>\n",
       "    <tr>\n",
       "      <th>25</th>\n",
       "      <td>Never ELL</td>\n",
       "      <td>2019</td>\n",
       "      <td>1</td>\n",
       "      <td>7320.0</td>\n",
       "      <td>53903</td>\n",
       "      <td>42208.0</td>\n",
       "      <td>11695.0</td>\n",
       "      <td>62.590851</td>\n",
       "    </tr>\n",
       "    <tr>\n",
       "      <th>26</th>\n",
       "      <td>Never ELL</td>\n",
       "      <td>2019</td>\n",
       "      <td>2</td>\n",
       "      <td>2330.0</td>\n",
       "      <td>76487</td>\n",
       "      <td>69890.0</td>\n",
       "      <td>6597.0</td>\n",
       "      <td>35.319084</td>\n",
       "    </tr>\n",
       "    <tr>\n",
       "      <th>27</th>\n",
       "      <td>Never ELL</td>\n",
       "      <td>2020</td>\n",
       "      <td>0</td>\n",
       "      <td>2365.0</td>\n",
       "      <td>10734</td>\n",
       "      <td>4332.0</td>\n",
       "      <td>6402.0</td>\n",
       "      <td>36.941581</td>\n",
       "    </tr>\n",
       "    <tr>\n",
       "      <th>28</th>\n",
       "      <td>Never ELL</td>\n",
       "      <td>2020</td>\n",
       "      <td>1</td>\n",
       "      <td>6007.0</td>\n",
       "      <td>52018</td>\n",
       "      <td>41939.0</td>\n",
       "      <td>10079.0</td>\n",
       "      <td>59.599167</td>\n",
       "    </tr>\n",
       "    <tr>\n",
       "      <th>29</th>\n",
       "      <td>Never ELL</td>\n",
       "      <td>2020</td>\n",
       "      <td>2</td>\n",
       "      <td>1991.0</td>\n",
       "      <td>74880</td>\n",
       "      <td>68626.0</td>\n",
       "      <td>6254.0</td>\n",
       "      <td>31.835625</td>\n",
       "    </tr>\n",
       "    <tr>\n",
       "      <th>30</th>\n",
       "      <td>Never ELL</td>\n",
       "      <td>2021</td>\n",
       "      <td>0</td>\n",
       "      <td>1844.0</td>\n",
       "      <td>9635</td>\n",
       "      <td>4186.0</td>\n",
       "      <td>5449.0</td>\n",
       "      <td>33.841072</td>\n",
       "    </tr>\n",
       "    <tr>\n",
       "      <th>31</th>\n",
       "      <td>Never ELL</td>\n",
       "      <td>2021</td>\n",
       "      <td>1</td>\n",
       "      <td>4865.0</td>\n",
       "      <td>50513</td>\n",
       "      <td>41815.0</td>\n",
       "      <td>8698.0</td>\n",
       "      <td>55.932398</td>\n",
       "    </tr>\n",
       "    <tr>\n",
       "      <th>32</th>\n",
       "      <td>Never ELL</td>\n",
       "      <td>2021</td>\n",
       "      <td>2</td>\n",
       "      <td>1674.0</td>\n",
       "      <td>74862</td>\n",
       "      <td>69852.0</td>\n",
       "      <td>5010.0</td>\n",
       "      <td>33.413174</td>\n",
       "    </tr>\n",
       "    <tr>\n",
       "      <th>33</th>\n",
       "      <td>Never ELL</td>\n",
       "      <td>2022</td>\n",
       "      <td>0</td>\n",
       "      <td>1926.0</td>\n",
       "      <td>8807</td>\n",
       "      <td>3894.0</td>\n",
       "      <td>4913.0</td>\n",
       "      <td>39.202117</td>\n",
       "    </tr>\n",
       "    <tr>\n",
       "      <th>34</th>\n",
       "      <td>Never ELL</td>\n",
       "      <td>2022</td>\n",
       "      <td>1</td>\n",
       "      <td>4670.0</td>\n",
       "      <td>52423</td>\n",
       "      <td>44810.0</td>\n",
       "      <td>7613.0</td>\n",
       "      <td>61.342441</td>\n",
       "    </tr>\n",
       "    <tr>\n",
       "      <th>35</th>\n",
       "      <td>Never ELL</td>\n",
       "      <td>2022</td>\n",
       "      <td>2</td>\n",
       "      <td>1702.0</td>\n",
       "      <td>82218</td>\n",
       "      <td>76821.0</td>\n",
       "      <td>5397.0</td>\n",
       "      <td>31.536039</td>\n",
       "    </tr>\n",
       "    <tr>\n",
       "      <th>36</th>\n",
       "      <td>Never ELL</td>\n",
       "      <td>2023</td>\n",
       "      <td>0</td>\n",
       "      <td>1860.0</td>\n",
       "      <td>8008</td>\n",
       "      <td>3512.0</td>\n",
       "      <td>4496.0</td>\n",
       "      <td>41.370107</td>\n",
       "    </tr>\n",
       "    <tr>\n",
       "      <th>37</th>\n",
       "      <td>Never ELL</td>\n",
       "      <td>2023</td>\n",
       "      <td>1</td>\n",
       "      <td>4067.0</td>\n",
       "      <td>50102</td>\n",
       "      <td>43499.0</td>\n",
       "      <td>6603.0</td>\n",
       "      <td>61.593215</td>\n",
       "    </tr>\n",
       "    <tr>\n",
       "      <th>38</th>\n",
       "      <td>Never ELL</td>\n",
       "      <td>2023</td>\n",
       "      <td>2</td>\n",
       "      <td>1611.0</td>\n",
       "      <td>79452</td>\n",
       "      <td>74977.0</td>\n",
       "      <td>4475.0</td>\n",
       "      <td>36.000000</td>\n",
       "    </tr>\n",
       "    <tr>\n",
       "      <th>39</th>\n",
       "      <td>Never ELL</td>\n",
       "      <td>2024</td>\n",
       "      <td>0</td>\n",
       "      <td>2081.0</td>\n",
       "      <td>8874</td>\n",
       "      <td>4052.0</td>\n",
       "      <td>4822.0</td>\n",
       "      <td>43.156367</td>\n",
       "    </tr>\n",
       "    <tr>\n",
       "      <th>40</th>\n",
       "      <td>Never ELL</td>\n",
       "      <td>2024</td>\n",
       "      <td>1</td>\n",
       "      <td>3797.0</td>\n",
       "      <td>59185</td>\n",
       "      <td>48302.0</td>\n",
       "      <td>10883.0</td>\n",
       "      <td>34.889277</td>\n",
       "    </tr>\n",
       "    <tr>\n",
       "      <th>41</th>\n",
       "      <td>Never ELL</td>\n",
       "      <td>2024</td>\n",
       "      <td>2</td>\n",
       "      <td>1439.0</td>\n",
       "      <td>91727</td>\n",
       "      <td>72801.0</td>\n",
       "      <td>18926.0</td>\n",
       "      <td>7.603297</td>\n",
       "    </tr>\n",
       "  </tbody>\n",
       "</table>\n",
       "</div>"
      ],
      "text/plain": [
       "     Category  Graduation Year  Cluster  # Dropout  # Total Cohort  # Grads  \\\n",
       "0    Ever ELL             2018        0     1271.0            4663   1199.0   \n",
       "1    Ever ELL             2018        1     5103.0           32152  18683.0   \n",
       "2    Ever ELL             2018        2      655.0           18460  10732.0   \n",
       "3    Ever ELL             2019        0     1496.0            5430   1473.0   \n",
       "4    Ever ELL             2019        1     5892.0           37957  24182.0   \n",
       "5    Ever ELL             2019        2      878.0           28330  18339.0   \n",
       "6    Ever ELL             2020        0     1295.0            5762   1873.0   \n",
       "7    Ever ELL             2020        1     5377.0           39501  26591.0   \n",
       "8    Ever ELL             2020        2      858.0           30642  20702.0   \n",
       "9    Ever ELL             2021        0     1037.0            5422   2097.0   \n",
       "10   Ever ELL             2021        1     4626.0           39045  27318.0   \n",
       "11   Ever ELL             2021        2      799.0           31323  22263.0   \n",
       "12   Ever ELL             2022        0     1078.0            4526   1858.0   \n",
       "13   Ever ELL             2022        1     4220.0           34856  24711.0   \n",
       "14   Ever ELL             2022        2      701.0           24732  17576.0   \n",
       "15   Ever ELL             2023        0     1089.0            4242   1577.0   \n",
       "16   Ever ELL             2023        1     3738.0           34499  24990.0   \n",
       "17   Ever ELL             2023        2      729.0           27212  19644.0   \n",
       "18   Ever ELL             2024        0      888.0            3679   1120.0   \n",
       "19   Ever ELL             2024        1     2453.0           22607  13750.0   \n",
       "20   Ever ELL             2024        2      431.0           13882   8602.0   \n",
       "21  Never ELL             2018        0     2998.0           11868   4153.0   \n",
       "22  Never ELL             2018        1     7960.0           60450  46291.0   \n",
       "23  Never ELL             2018        2     2238.0           85745  74383.0   \n",
       "24  Never ELL             2019        0     3092.0           11017   4209.0   \n",
       "25  Never ELL             2019        1     7320.0           53903  42208.0   \n",
       "26  Never ELL             2019        2     2330.0           76487  69890.0   \n",
       "27  Never ELL             2020        0     2365.0           10734   4332.0   \n",
       "28  Never ELL             2020        1     6007.0           52018  41939.0   \n",
       "29  Never ELL             2020        2     1991.0           74880  68626.0   \n",
       "30  Never ELL             2021        0     1844.0            9635   4186.0   \n",
       "31  Never ELL             2021        1     4865.0           50513  41815.0   \n",
       "32  Never ELL             2021        2     1674.0           74862  69852.0   \n",
       "33  Never ELL             2022        0     1926.0            8807   3894.0   \n",
       "34  Never ELL             2022        1     4670.0           52423  44810.0   \n",
       "35  Never ELL             2022        2     1702.0           82218  76821.0   \n",
       "36  Never ELL             2023        0     1860.0            8008   3512.0   \n",
       "37  Never ELL             2023        1     4067.0           50102  43499.0   \n",
       "38  Never ELL             2023        2     1611.0           79452  74977.0   \n",
       "39  Never ELL             2024        0     2081.0            8874   4052.0   \n",
       "40  Never ELL             2024        1     3797.0           59185  48302.0   \n",
       "41  Never ELL             2024        2     1439.0           91727  72801.0   \n",
       "\n",
       "    # No Grads  Dropout %  \n",
       "0       3464.0  36.691686  \n",
       "1      13469.0  37.887000  \n",
       "2       7728.0   8.475673  \n",
       "3       3957.0  37.806419  \n",
       "4      13775.0  42.773140  \n",
       "5       9991.0   8.787909  \n",
       "6       3889.0  33.299049  \n",
       "7      12910.0  41.649884  \n",
       "8       9940.0   8.631791  \n",
       "9       3325.0  31.187970  \n",
       "10     11727.0  39.447429  \n",
       "11      9060.0   8.818985  \n",
       "12      2668.0  40.404798  \n",
       "13     10145.0  41.596846  \n",
       "14      7156.0   9.795975  \n",
       "15      2665.0  40.863039  \n",
       "16      9509.0  39.310127  \n",
       "17      7568.0   9.632664  \n",
       "18      2559.0  34.701055  \n",
       "19      8857.0  27.695608  \n",
       "20      5280.0   8.162879  \n",
       "21      7715.0  38.859365  \n",
       "22     14159.0  56.218660  \n",
       "23     11362.0  19.697236  \n",
       "24      6808.0  45.417156  \n",
       "25     11695.0  62.590851  \n",
       "26      6597.0  35.319084  \n",
       "27      6402.0  36.941581  \n",
       "28     10079.0  59.599167  \n",
       "29      6254.0  31.835625  \n",
       "30      5449.0  33.841072  \n",
       "31      8698.0  55.932398  \n",
       "32      5010.0  33.413174  \n",
       "33      4913.0  39.202117  \n",
       "34      7613.0  61.342441  \n",
       "35      5397.0  31.536039  \n",
       "36      4496.0  41.370107  \n",
       "37      6603.0  61.593215  \n",
       "38      4475.0  36.000000  \n",
       "39      4822.0  43.156367  \n",
       "40     10883.0  34.889277  \n",
       "41     18926.0   7.603297  "
      ]
     },
     "execution_count": 101,
     "metadata": {},
     "output_type": "execute_result"
    }
   ],
   "source": [
    "ell_data_dropout_per_year = filter_dropout_per_year(ell_data)\n",
    "ell_data_dropout_per_year"
   ]
  },
  {
   "cell_type": "code",
   "execution_count": 119,
   "metadata": {},
   "outputs": [
    {
     "data": {
      "application/vnd.plotly.v1+json": {
       "config": {
        "plotlyServerURL": "https://plot.ly"
       },
       "data": [
        {
         "line": {
          "color": "#1f77b4"
         },
         "name": "Ever ELL",
         "showlegend": false,
         "type": "scatter",
         "x": [
          2018,
          2019,
          2020,
          2021,
          2022,
          2023,
          2024
         ],
         "xaxis": "x",
         "y": [
          36.69168591224018,
          37.80641900429618,
          33.29904859861147,
          31.18796992481203,
          40.4047976011994,
          40.86303939962477,
          34.7010550996483
         ],
         "yaxis": "y"
        },
        {
         "line": {
          "color": "#ff7f0e"
         },
         "name": "Never ELL",
         "showlegend": false,
         "type": "scatter",
         "x": [
          2018,
          2019,
          2020,
          2021,
          2022,
          2023,
          2024
         ],
         "xaxis": "x",
         "y": [
          38.859364873622816,
          45.41715628672151,
          36.94158075601375,
          33.84107175628556,
          39.20211683289232,
          41.370106761565836,
          43.15636665284114
         ],
         "yaxis": "y"
        },
        {
         "line": {
          "color": "#1f77b4"
         },
         "name": "Ever ELL",
         "showlegend": false,
         "type": "scatter",
         "x": [
          2018,
          2019,
          2020,
          2021,
          2022,
          2023,
          2024
         ],
         "xaxis": "x2",
         "y": [
          37.88699977726632,
          42.77313974591652,
          41.64988381099923,
          39.44742900997697,
          41.59684573681617,
          39.31012724787044,
          27.695607993677317
         ],
         "yaxis": "y2"
        },
        {
         "line": {
          "color": "#ff7f0e"
         },
         "name": "Never ELL",
         "showlegend": false,
         "type": "scatter",
         "x": [
          2018,
          2019,
          2020,
          2021,
          2022,
          2023,
          2024
         ],
         "xaxis": "x2",
         "y": [
          56.21865950985239,
          62.590850790936294,
          59.59916658398651,
          55.932398252471835,
          61.342440562196245,
          61.59321520520975,
          34.889276853808695
         ],
         "yaxis": "y2"
        },
        {
         "line": {
          "color": "#1f77b4"
         },
         "name": "Ever ELL",
         "type": "scatter",
         "x": [
          2018,
          2019,
          2020,
          2021,
          2022,
          2023,
          2024
         ],
         "xaxis": "x3",
         "y": [
          8.47567287784679,
          8.787909118206386,
          8.631790744466802,
          8.818984547461369,
          9.795975405254334,
          9.632663847780126,
          8.162878787878789
         ],
         "yaxis": "y3"
        },
        {
         "line": {
          "color": "#ff7f0e"
         },
         "name": "Never ELL",
         "type": "scatter",
         "x": [
          2018,
          2019,
          2020,
          2021,
          2022,
          2023,
          2024
         ],
         "xaxis": "x3",
         "y": [
          19.69723640204189,
          35.31908443231772,
          31.83562519987208,
          33.41317365269461,
          31.53603853992959,
          36,
          7.603297051674944
         ],
         "yaxis": "y3"
        }
       ],
       "layout": {
        "annotations": [
         {
          "font": {
           "size": 16
          },
          "showarrow": false,
          "text": "Cluster 0",
          "x": 0.14444444444444446,
          "xanchor": "center",
          "xref": "paper",
          "y": 1,
          "yanchor": "bottom",
          "yref": "paper"
         },
         {
          "font": {
           "size": 16
          },
          "showarrow": false,
          "text": "Cluster 1",
          "x": 0.5,
          "xanchor": "center",
          "xref": "paper",
          "y": 1,
          "yanchor": "bottom",
          "yref": "paper"
         },
         {
          "font": {
           "size": 16
          },
          "showarrow": false,
          "text": "Cluster 2",
          "x": 0.8555555555555556,
          "xanchor": "center",
          "xref": "paper",
          "y": 1,
          "yanchor": "bottom",
          "yref": "paper"
         }
        ],
        "template": {
         "layout": {
          "plot_bgcolor": "white",
          "xaxis": {
           "gridcolor": "lightgray"
          },
          "yaxis": {
           "gridcolor": "lightgray"
          }
         }
        },
        "title": {
         "text": "Dropout Rate from 2018 to 2024 per ELL Level in Every Cluster"
        },
        "xaxis": {
         "anchor": "y",
         "domain": [
          0,
          0.2888888888888889
         ],
         "title": {
          "text": "Year"
         }
        },
        "xaxis2": {
         "anchor": "y2",
         "domain": [
          0.35555555555555557,
          0.6444444444444445
         ],
         "title": {
          "text": "Year"
         }
        },
        "xaxis3": {
         "anchor": "y3",
         "domain": [
          0.7111111111111111,
          1
         ],
         "title": {
          "text": "Year"
         }
        },
        "yaxis": {
         "anchor": "x",
         "domain": [
          0,
          1
         ],
         "range": [
          7.603297051674944,
          62.590850790936294
         ],
         "title": {
          "text": "Dropoout %"
         }
        },
        "yaxis2": {
         "anchor": "x2",
         "domain": [
          0,
          1
         ],
         "range": [
          7.603297051674944,
          62.590850790936294
         ],
         "title": {
          "text": "Dropoout %"
         }
        },
        "yaxis3": {
         "anchor": "x3",
         "domain": [
          0,
          1
         ],
         "range": [
          7.603297051674944,
          62.590850790936294
         ],
         "title": {
          "text": "Dropoout %"
         }
        }
       }
      }
     },
     "metadata": {},
     "output_type": "display_data"
    }
   ],
   "source": [
    "fig = make_subplots(rows=1, cols=len(ell_data_dropout_per_year['Cluster'].unique()), subplot_titles=('Cluster 0', 'Cluster 1', 'Cluster 2'))\n",
    "\n",
    "for cluster in ell_data_dropout_per_year['Cluster'].unique():\n",
    "    cluster_row = ell_data_dropout_per_year[ell_data_dropout_per_year['Cluster'] == cluster]\n",
    "    cluster_index = ell_data_dropout_per_year['Cluster'].unique().tolist().index(cluster)\n",
    "    for category in cluster_row['Category'].unique():\n",
    "        category_row = cluster_row[cluster_row['Category'] == category]\n",
    "        category_index = cluster_row['Category'].unique().tolist().index(category)\n",
    "        fig.add_trace(go.Scatter(x=category_row['Graduation Year'], y=category_row['Dropout %'], line=dict(color=colors[category_index]), name=category), row=1, col=cluster_index+1)\n",
    "        fig.update_yaxes(range=[ell_data_dropout_per_year['Dropout %'].min(),ell_data_dropout_per_year['Dropout %'].max()], title_text='Dropoout %')\n",
    "        fig.update_xaxes(title_text='Year')\n",
    "\n",
    "for i in range(len(fig.data) - len(ell_data_dropout_per_year['Category'].unique())):\n",
    "    fig.data[i].showlegend=False\n",
    "\n",
    "fig.update_layout(title_text='Dropout Rate from 2018 to 2024 per ELL Level in Every Cluster')\n",
    "fig.show()"
   ]
  },
  {
   "cell_type": "code",
   "execution_count": 103,
   "metadata": {},
   "outputs": [
    {
     "data": {
      "text/html": [
       "<div>\n",
       "<style scoped>\n",
       "    .dataframe tbody tr th:only-of-type {\n",
       "        vertical-align: middle;\n",
       "    }\n",
       "\n",
       "    .dataframe tbody tr th {\n",
       "        vertical-align: top;\n",
       "    }\n",
       "\n",
       "    .dataframe thead th {\n",
       "        text-align: right;\n",
       "    }\n",
       "</style>\n",
       "<table border=\"1\" class=\"dataframe\">\n",
       "  <thead>\n",
       "    <tr style=\"text-align: right;\">\n",
       "      <th></th>\n",
       "      <th>Category</th>\n",
       "      <th>Duration</th>\n",
       "      <th>Cluster</th>\n",
       "      <th># Dropout_x</th>\n",
       "      <th># Dropout_y</th>\n",
       "      <th>Dropout %</th>\n",
       "    </tr>\n",
       "  </thead>\n",
       "  <tbody>\n",
       "    <tr>\n",
       "      <th>0</th>\n",
       "      <td>Ever ELL</td>\n",
       "      <td>4</td>\n",
       "      <td>0</td>\n",
       "      <td>1912.0</td>\n",
       "      <td>8154.0</td>\n",
       "      <td>23.448614</td>\n",
       "    </tr>\n",
       "    <tr>\n",
       "      <th>1</th>\n",
       "      <td>Ever ELL</td>\n",
       "      <td>5</td>\n",
       "      <td>0</td>\n",
       "      <td>2930.0</td>\n",
       "      <td>8154.0</td>\n",
       "      <td>35.933284</td>\n",
       "    </tr>\n",
       "    <tr>\n",
       "      <th>2</th>\n",
       "      <td>Ever ELL</td>\n",
       "      <td>6</td>\n",
       "      <td>0</td>\n",
       "      <td>3312.0</td>\n",
       "      <td>8154.0</td>\n",
       "      <td>40.618102</td>\n",
       "    </tr>\n",
       "    <tr>\n",
       "      <th>3</th>\n",
       "      <td>Ever ELL</td>\n",
       "      <td>4</td>\n",
       "      <td>1</td>\n",
       "      <td>7986.0</td>\n",
       "      <td>31409.0</td>\n",
       "      <td>25.425833</td>\n",
       "    </tr>\n",
       "    <tr>\n",
       "      <th>4</th>\n",
       "      <td>Ever ELL</td>\n",
       "      <td>5</td>\n",
       "      <td>1</td>\n",
       "      <td>11269.0</td>\n",
       "      <td>31409.0</td>\n",
       "      <td>35.878251</td>\n",
       "    </tr>\n",
       "    <tr>\n",
       "      <th>5</th>\n",
       "      <td>Ever ELL</td>\n",
       "      <td>6</td>\n",
       "      <td>1</td>\n",
       "      <td>12154.0</td>\n",
       "      <td>31409.0</td>\n",
       "      <td>38.695915</td>\n",
       "    </tr>\n",
       "    <tr>\n",
       "      <th>6</th>\n",
       "      <td>Ever ELL</td>\n",
       "      <td>4</td>\n",
       "      <td>2</td>\n",
       "      <td>1231.0</td>\n",
       "      <td>5051.0</td>\n",
       "      <td>24.371412</td>\n",
       "    </tr>\n",
       "    <tr>\n",
       "      <th>7</th>\n",
       "      <td>Ever ELL</td>\n",
       "      <td>5</td>\n",
       "      <td>2</td>\n",
       "      <td>1918.0</td>\n",
       "      <td>5051.0</td>\n",
       "      <td>37.972679</td>\n",
       "    </tr>\n",
       "    <tr>\n",
       "      <th>8</th>\n",
       "      <td>Ever ELL</td>\n",
       "      <td>6</td>\n",
       "      <td>2</td>\n",
       "      <td>1902.0</td>\n",
       "      <td>5051.0</td>\n",
       "      <td>37.655910</td>\n",
       "    </tr>\n",
       "    <tr>\n",
       "      <th>9</th>\n",
       "      <td>Never ELL</td>\n",
       "      <td>4</td>\n",
       "      <td>0</td>\n",
       "      <td>2855.0</td>\n",
       "      <td>16166.0</td>\n",
       "      <td>17.660522</td>\n",
       "    </tr>\n",
       "    <tr>\n",
       "      <th>10</th>\n",
       "      <td>Never ELL</td>\n",
       "      <td>5</td>\n",
       "      <td>0</td>\n",
       "      <td>5681.0</td>\n",
       "      <td>16166.0</td>\n",
       "      <td>35.141655</td>\n",
       "    </tr>\n",
       "    <tr>\n",
       "      <th>11</th>\n",
       "      <td>Never ELL</td>\n",
       "      <td>6</td>\n",
       "      <td>0</td>\n",
       "      <td>7630.0</td>\n",
       "      <td>16166.0</td>\n",
       "      <td>47.197823</td>\n",
       "    </tr>\n",
       "    <tr>\n",
       "      <th>12</th>\n",
       "      <td>Never ELL</td>\n",
       "      <td>4</td>\n",
       "      <td>1</td>\n",
       "      <td>8907.0</td>\n",
       "      <td>38686.0</td>\n",
       "      <td>23.023833</td>\n",
       "    </tr>\n",
       "    <tr>\n",
       "      <th>13</th>\n",
       "      <td>Never ELL</td>\n",
       "      <td>5</td>\n",
       "      <td>1</td>\n",
       "      <td>13640.0</td>\n",
       "      <td>38686.0</td>\n",
       "      <td>35.258233</td>\n",
       "    </tr>\n",
       "    <tr>\n",
       "      <th>14</th>\n",
       "      <td>Never ELL</td>\n",
       "      <td>6</td>\n",
       "      <td>1</td>\n",
       "      <td>16139.0</td>\n",
       "      <td>38686.0</td>\n",
       "      <td>41.717934</td>\n",
       "    </tr>\n",
       "    <tr>\n",
       "      <th>15</th>\n",
       "      <td>Never ELL</td>\n",
       "      <td>4</td>\n",
       "      <td>2</td>\n",
       "      <td>2956.0</td>\n",
       "      <td>12985.0</td>\n",
       "      <td>22.764729</td>\n",
       "    </tr>\n",
       "    <tr>\n",
       "      <th>16</th>\n",
       "      <td>Never ELL</td>\n",
       "      <td>5</td>\n",
       "      <td>2</td>\n",
       "      <td>4786.0</td>\n",
       "      <td>12985.0</td>\n",
       "      <td>36.857913</td>\n",
       "    </tr>\n",
       "    <tr>\n",
       "      <th>17</th>\n",
       "      <td>Never ELL</td>\n",
       "      <td>6</td>\n",
       "      <td>2</td>\n",
       "      <td>5243.0</td>\n",
       "      <td>12985.0</td>\n",
       "      <td>40.377358</td>\n",
       "    </tr>\n",
       "  </tbody>\n",
       "</table>\n",
       "</div>"
      ],
      "text/plain": [
       "     Category  Duration  Cluster  # Dropout_x  # Dropout_y  Dropout %\n",
       "0    Ever ELL         4        0       1912.0       8154.0  23.448614\n",
       "1    Ever ELL         5        0       2930.0       8154.0  35.933284\n",
       "2    Ever ELL         6        0       3312.0       8154.0  40.618102\n",
       "3    Ever ELL         4        1       7986.0      31409.0  25.425833\n",
       "4    Ever ELL         5        1      11269.0      31409.0  35.878251\n",
       "5    Ever ELL         6        1      12154.0      31409.0  38.695915\n",
       "6    Ever ELL         4        2       1231.0       5051.0  24.371412\n",
       "7    Ever ELL         5        2       1918.0       5051.0  37.972679\n",
       "8    Ever ELL         6        2       1902.0       5051.0  37.655910\n",
       "9   Never ELL         4        0       2855.0      16166.0  17.660522\n",
       "10  Never ELL         5        0       5681.0      16166.0  35.141655\n",
       "11  Never ELL         6        0       7630.0      16166.0  47.197823\n",
       "12  Never ELL         4        1       8907.0      38686.0  23.023833\n",
       "13  Never ELL         5        1      13640.0      38686.0  35.258233\n",
       "14  Never ELL         6        1      16139.0      38686.0  41.717934\n",
       "15  Never ELL         4        2       2956.0      12985.0  22.764729\n",
       "16  Never ELL         5        2       4786.0      12985.0  36.857913\n",
       "17  Never ELL         6        2       5243.0      12985.0  40.377358"
      ]
     },
     "execution_count": 103,
     "metadata": {},
     "output_type": "execute_result"
    }
   ],
   "source": [
    "ell_data_dropout_per_duration = filter_dropout_per_duration(ell_data)\n",
    "ell_data_dropout_per_duration"
   ]
  },
  {
   "cell_type": "code",
   "execution_count": 104,
   "metadata": {},
   "outputs": [
    {
     "data": {
      "application/vnd.plotly.v1+json": {
       "config": {
        "plotlyServerURL": "https://plot.ly"
       },
       "data": [
        {
         "marker": {
          "color": "#1f77b4"
         },
         "name": "4 Years",
         "showlegend": false,
         "type": "bar",
         "x": [
          "Ever ELL",
          "Never ELL"
         ],
         "xaxis": "x",
         "y": [
          23.448614177091,
          17.660522083384883
         ],
         "yaxis": "y"
        },
        {
         "marker": {
          "color": "#ff7f0e"
         },
         "name": "5 Years",
         "showlegend": false,
         "type": "bar",
         "x": [
          "Ever ELL",
          "Never ELL"
         ],
         "xaxis": "x",
         "y": [
          35.93328427765513,
          35.14165532599283
         ],
         "yaxis": "y"
        },
        {
         "marker": {
          "color": "#2ca02c"
         },
         "name": "6 Years",
         "showlegend": false,
         "type": "bar",
         "x": [
          "Ever ELL",
          "Never ELL"
         ],
         "xaxis": "x",
         "y": [
          40.618101545253865,
          47.197822590622295
         ],
         "yaxis": "y"
        },
        {
         "marker": {
          "color": "#1f77b4"
         },
         "name": "4 Years",
         "showlegend": false,
         "type": "bar",
         "x": [
          "Ever ELL",
          "Never ELL"
         ],
         "xaxis": "x2",
         "y": [
          25.425833359865006,
          23.023832911130643
         ],
         "yaxis": "y2"
        },
        {
         "marker": {
          "color": "#ff7f0e"
         },
         "name": "5 Years",
         "showlegend": false,
         "type": "bar",
         "x": [
          "Ever ELL",
          "Never ELL"
         ],
         "xaxis": "x2",
         "y": [
          35.87825145658888,
          35.25823295248927
         ],
         "yaxis": "y2"
        },
        {
         "marker": {
          "color": "#2ca02c"
         },
         "name": "6 Years",
         "showlegend": false,
         "type": "bar",
         "x": [
          "Ever ELL",
          "Never ELL"
         ],
         "xaxis": "x2",
         "y": [
          38.69591518354611,
          41.71793413638009
         ],
         "yaxis": "y2"
        },
        {
         "marker": {
          "color": "#1f77b4"
         },
         "name": "4 Years",
         "type": "bar",
         "x": [
          "Ever ELL",
          "Never ELL"
         ],
         "xaxis": "x3",
         "y": [
          24.371411601663038,
          22.764728532922604
         ],
         "yaxis": "y3"
        },
        {
         "marker": {
          "color": "#ff7f0e"
         },
         "name": "5 Years",
         "type": "bar",
         "x": [
          "Ever ELL",
          "Never ELL"
         ],
         "xaxis": "x3",
         "y": [
          37.972678677489604,
          36.85791297651136
         ],
         "yaxis": "y3"
        },
        {
         "marker": {
          "color": "#2ca02c"
         },
         "name": "6 Years",
         "type": "bar",
         "x": [
          "Ever ELL",
          "Never ELL"
         ],
         "xaxis": "x3",
         "y": [
          37.65590972084736,
          40.37735849056604
         ],
         "yaxis": "y3"
        }
       ],
       "layout": {
        "annotations": [
         {
          "font": {
           "size": 16
          },
          "showarrow": false,
          "text": "Cluster 0",
          "x": 0.14444444444444446,
          "xanchor": "center",
          "xref": "paper",
          "y": 1,
          "yanchor": "bottom",
          "yref": "paper"
         },
         {
          "font": {
           "size": 16
          },
          "showarrow": false,
          "text": "Cluster 1",
          "x": 0.5,
          "xanchor": "center",
          "xref": "paper",
          "y": 1,
          "yanchor": "bottom",
          "yref": "paper"
         },
         {
          "font": {
           "size": 16
          },
          "showarrow": false,
          "text": "Cluster 2",
          "x": 0.8555555555555556,
          "xanchor": "center",
          "xref": "paper",
          "y": 1,
          "yanchor": "bottom",
          "yref": "paper"
         }
        ],
        "template": {
         "layout": {
          "plot_bgcolor": "white",
          "xaxis": {
           "gridcolor": "lightgray"
          },
          "yaxis": {
           "gridcolor": "lightgray"
          }
         }
        },
        "title": {
         "text": "Distribution of Dropouts per English Language Learning (ELL) Status Based on Duration in School"
        },
        "xaxis": {
         "anchor": "y",
         "domain": [
          0,
          0.2888888888888889
         ]
        },
        "xaxis2": {
         "anchor": "y2",
         "domain": [
          0.35555555555555557,
          0.6444444444444445
         ]
        },
        "xaxis3": {
         "anchor": "y3",
         "domain": [
          0.7111111111111111,
          1
         ]
        },
        "yaxis": {
         "anchor": "x",
         "domain": [
          0,
          1
         ],
         "range": [
          0,
          47.197822590622295
         ],
         "title": {
          "text": "Distribution %"
         }
        },
        "yaxis2": {
         "anchor": "x2",
         "domain": [
          0,
          1
         ],
         "range": [
          0,
          47.197822590622295
         ],
         "title": {
          "text": "Distribution %"
         }
        },
        "yaxis3": {
         "anchor": "x3",
         "domain": [
          0,
          1
         ],
         "range": [
          0,
          47.197822590622295
         ],
         "title": {
          "text": "Distribution %"
         }
        }
       }
      }
     },
     "metadata": {},
     "output_type": "display_data"
    }
   ],
   "source": [
    "fig = make_subplots(rows=1, cols=len(ell_data_dropout_per_duration['Cluster'].unique()), subplot_titles=('Cluster 0', 'Cluster 1', 'Cluster 2'))\n",
    "\n",
    "for cluster in ell_data_dropout_per_duration['Cluster'].unique():\n",
    "    cluster_row = ell_data_dropout_per_duration[ell_data_dropout_per_duration['Cluster'] == cluster]\n",
    "    cluster_index = ell_data_dropout_per_duration['Cluster'].unique().tolist().index(cluster)\n",
    "    for duration in cluster_row['Duration'].unique():\n",
    "        duration_row = cluster_row[cluster_row['Duration'] == duration]\n",
    "        duration_index = cluster_row['Duration'].unique().tolist().index(duration)\n",
    "        fig.add_trace(go.Bar(x=duration_row['Category'], y=duration_row['Dropout %'], name=f'{duration} Years', marker=dict(color=colors[duration_index])), row=1, col=cluster_index+1)\n",
    "        fig.update_yaxes(range=[0, ell_data_dropout_per_duration['Dropout %'].max()], title_text='Distribution %')\n",
    "\n",
    "for i in range(len(fig.data) - len(ell_data_dropout_per_duration['Duration'].unique())):\n",
    "    fig.data[i].showlegend=False\n",
    "\n",
    "fig.update_layout(title_text='Distribution of Dropouts per English Language Learning (ELL) Status Based on Duration in School')\n",
    "fig.show()"
   ]
  },
  {
   "cell_type": "markdown",
   "metadata": {},
   "source": [
    "### Test Results"
   ]
  },
  {
   "cell_type": "code",
   "execution_count": 105,
   "metadata": {},
   "outputs": [],
   "source": [
    "ell_test_results.loc[ell_test_results['Category'] == 'Former ELL', 'Category'] = 'English Proficient'"
   ]
  },
  {
   "cell_type": "code",
   "execution_count": 106,
   "metadata": {},
   "outputs": [
    {
     "data": {
      "text/html": [
       "<div>\n",
       "<style scoped>\n",
       "    .dataframe tbody tr th:only-of-type {\n",
       "        vertical-align: middle;\n",
       "    }\n",
       "\n",
       "    .dataframe tbody tr th {\n",
       "        vertical-align: top;\n",
       "    }\n",
       "\n",
       "    .dataframe thead th {\n",
       "        text-align: right;\n",
       "    }\n",
       "</style>\n",
       "<table border=\"1\" class=\"dataframe\">\n",
       "  <thead>\n",
       "    <tr style=\"text-align: right;\">\n",
       "      <th></th>\n",
       "      <th>School Name</th>\n",
       "      <th>Cluster</th>\n",
       "      <th>Year</th>\n",
       "      <th>Category</th>\n",
       "      <th>Regents Exam</th>\n",
       "      <th>Total Tested</th>\n",
       "      <th>Number Scoring 65 or Above</th>\n",
       "      <th>Regents Subject</th>\n",
       "    </tr>\n",
       "  </thead>\n",
       "  <tbody>\n",
       "    <tr>\n",
       "      <th>0</th>\n",
       "      <td>A-TECH HIGH SCHOOL</td>\n",
       "      <td>1</td>\n",
       "      <td>2015</td>\n",
       "      <td>English Proficient</td>\n",
       "      <td>Algebra2/Trigonometry</td>\n",
       "      <td>1</td>\n",
       "      <td>NaN</td>\n",
       "      <td>Mathematics</td>\n",
       "    </tr>\n",
       "    <tr>\n",
       "      <th>1</th>\n",
       "      <td>A-TECH HIGH SCHOOL</td>\n",
       "      <td>1</td>\n",
       "      <td>2015</td>\n",
       "      <td>English Proficient</td>\n",
       "      <td>Algebra2/Trigonometry</td>\n",
       "      <td>6</td>\n",
       "      <td>NaN</td>\n",
       "      <td>Mathematics</td>\n",
       "    </tr>\n",
       "    <tr>\n",
       "      <th>2</th>\n",
       "      <td>A-TECH HIGH SCHOOL</td>\n",
       "      <td>1</td>\n",
       "      <td>2015</td>\n",
       "      <td>ELL</td>\n",
       "      <td>Common Core Algebra</td>\n",
       "      <td>4</td>\n",
       "      <td>NaN</td>\n",
       "      <td>Mathematics</td>\n",
       "    </tr>\n",
       "    <tr>\n",
       "      <th>3</th>\n",
       "      <td>A-TECH HIGH SCHOOL</td>\n",
       "      <td>1</td>\n",
       "      <td>2015</td>\n",
       "      <td>English Proficient</td>\n",
       "      <td>Common Core Algebra</td>\n",
       "      <td>5</td>\n",
       "      <td>NaN</td>\n",
       "      <td>Mathematics</td>\n",
       "    </tr>\n",
       "    <tr>\n",
       "      <th>4</th>\n",
       "      <td>A-TECH HIGH SCHOOL</td>\n",
       "      <td>1</td>\n",
       "      <td>2015</td>\n",
       "      <td>English Proficient</td>\n",
       "      <td>Common Core Algebra</td>\n",
       "      <td>32</td>\n",
       "      <td>5.0</td>\n",
       "      <td>Mathematics</td>\n",
       "    </tr>\n",
       "    <tr>\n",
       "      <th>...</th>\n",
       "      <td>...</td>\n",
       "      <td>...</td>\n",
       "      <td>...</td>\n",
       "      <td>...</td>\n",
       "      <td>...</td>\n",
       "      <td>...</td>\n",
       "      <td>...</td>\n",
       "      <td>...</td>\n",
       "    </tr>\n",
       "    <tr>\n",
       "      <th>71686</th>\n",
       "      <td>YOUNG WOMEN'S LEADERSHIP SCHOOL, QUEENS</td>\n",
       "      <td>2</td>\n",
       "      <td>2023</td>\n",
       "      <td>English Proficient</td>\n",
       "      <td>Spanish</td>\n",
       "      <td>1</td>\n",
       "      <td>NaN</td>\n",
       "      <td>Languages Other Than English</td>\n",
       "    </tr>\n",
       "    <tr>\n",
       "      <th>71687</th>\n",
       "      <td>YOUNG WOMEN'S LEADERSHIP SCHOOL, QUEENS</td>\n",
       "      <td>2</td>\n",
       "      <td>2023</td>\n",
       "      <td>English Proficient</td>\n",
       "      <td>Spanish</td>\n",
       "      <td>3</td>\n",
       "      <td>NaN</td>\n",
       "      <td>Languages Other Than English</td>\n",
       "    </tr>\n",
       "    <tr>\n",
       "      <th>71688</th>\n",
       "      <td>YOUNG WOMEN'S LEADERSHIP SCHOOL, QUEENS</td>\n",
       "      <td>2</td>\n",
       "      <td>2023</td>\n",
       "      <td>ELL</td>\n",
       "      <td>US History and Government</td>\n",
       "      <td>2</td>\n",
       "      <td>NaN</td>\n",
       "      <td>Social Studies</td>\n",
       "    </tr>\n",
       "    <tr>\n",
       "      <th>71689</th>\n",
       "      <td>YOUNG WOMEN'S LEADERSHIP SCHOOL, QUEENS</td>\n",
       "      <td>2</td>\n",
       "      <td>2023</td>\n",
       "      <td>English Proficient</td>\n",
       "      <td>US History and Government</td>\n",
       "      <td>17</td>\n",
       "      <td>NaN</td>\n",
       "      <td>Social Studies</td>\n",
       "    </tr>\n",
       "    <tr>\n",
       "      <th>71690</th>\n",
       "      <td>YOUNG WOMEN'S LEADERSHIP SCHOOL, QUEENS</td>\n",
       "      <td>2</td>\n",
       "      <td>2023</td>\n",
       "      <td>English Proficient</td>\n",
       "      <td>US History and Government</td>\n",
       "      <td>54</td>\n",
       "      <td>51.0</td>\n",
       "      <td>Social Studies</td>\n",
       "    </tr>\n",
       "  </tbody>\n",
       "</table>\n",
       "<p>71691 rows × 8 columns</p>\n",
       "</div>"
      ],
      "text/plain": [
       "                                   School Name  Cluster  Year  \\\n",
       "0                           A-TECH HIGH SCHOOL        1  2015   \n",
       "1                           A-TECH HIGH SCHOOL        1  2015   \n",
       "2                           A-TECH HIGH SCHOOL        1  2015   \n",
       "3                           A-TECH HIGH SCHOOL        1  2015   \n",
       "4                           A-TECH HIGH SCHOOL        1  2015   \n",
       "...                                        ...      ...   ...   \n",
       "71686  YOUNG WOMEN'S LEADERSHIP SCHOOL, QUEENS        2  2023   \n",
       "71687  YOUNG WOMEN'S LEADERSHIP SCHOOL, QUEENS        2  2023   \n",
       "71688  YOUNG WOMEN'S LEADERSHIP SCHOOL, QUEENS        2  2023   \n",
       "71689  YOUNG WOMEN'S LEADERSHIP SCHOOL, QUEENS        2  2023   \n",
       "71690  YOUNG WOMEN'S LEADERSHIP SCHOOL, QUEENS        2  2023   \n",
       "\n",
       "                 Category               Regents Exam  Total Tested  \\\n",
       "0      English Proficient      Algebra2/Trigonometry             1   \n",
       "1      English Proficient      Algebra2/Trigonometry             6   \n",
       "2                     ELL        Common Core Algebra             4   \n",
       "3      English Proficient        Common Core Algebra             5   \n",
       "4      English Proficient        Common Core Algebra            32   \n",
       "...                   ...                        ...           ...   \n",
       "71686  English Proficient                    Spanish             1   \n",
       "71687  English Proficient                    Spanish             3   \n",
       "71688                 ELL  US History and Government             2   \n",
       "71689  English Proficient  US History and Government            17   \n",
       "71690  English Proficient  US History and Government            54   \n",
       "\n",
       "       Number Scoring 65 or Above               Regents Subject  \n",
       "0                             NaN                   Mathematics  \n",
       "1                             NaN                   Mathematics  \n",
       "2                             NaN                   Mathematics  \n",
       "3                             NaN                   Mathematics  \n",
       "4                             5.0                   Mathematics  \n",
       "...                           ...                           ...  \n",
       "71686                         NaN  Languages Other Than English  \n",
       "71687                         NaN  Languages Other Than English  \n",
       "71688                         NaN                Social Studies  \n",
       "71689                         NaN                Social Studies  \n",
       "71690                        51.0                Social Studies  \n",
       "\n",
       "[71691 rows x 8 columns]"
      ]
     },
     "execution_count": 106,
     "metadata": {},
     "output_type": "execute_result"
    }
   ],
   "source": [
    "ell_test_results"
   ]
  },
  {
   "cell_type": "code",
   "execution_count": 107,
   "metadata": {},
   "outputs": [
    {
     "data": {
      "text/html": [
       "<div>\n",
       "<style scoped>\n",
       "    .dataframe tbody tr th:only-of-type {\n",
       "        vertical-align: middle;\n",
       "    }\n",
       "\n",
       "    .dataframe tbody tr th {\n",
       "        vertical-align: top;\n",
       "    }\n",
       "\n",
       "    .dataframe thead th {\n",
       "        text-align: right;\n",
       "    }\n",
       "</style>\n",
       "<table border=\"1\" class=\"dataframe\">\n",
       "  <thead>\n",
       "    <tr style=\"text-align: right;\">\n",
       "      <th></th>\n",
       "      <th>Category</th>\n",
       "      <th>Cluster</th>\n",
       "      <th>Regents Subject</th>\n",
       "      <th>Number Scoring 65 or Above</th>\n",
       "      <th>Total Tested</th>\n",
       "      <th>% Passed</th>\n",
       "    </tr>\n",
       "  </thead>\n",
       "  <tbody>\n",
       "    <tr>\n",
       "      <th>0</th>\n",
       "      <td>ELL</td>\n",
       "      <td>0</td>\n",
       "      <td>English</td>\n",
       "      <td>2126.0</td>\n",
       "      <td>4735</td>\n",
       "      <td>44.899683</td>\n",
       "    </tr>\n",
       "    <tr>\n",
       "      <th>1</th>\n",
       "      <td>ELL</td>\n",
       "      <td>0</td>\n",
       "      <td>Languages Other Than English</td>\n",
       "      <td>895.0</td>\n",
       "      <td>1305</td>\n",
       "      <td>68.582375</td>\n",
       "    </tr>\n",
       "    <tr>\n",
       "      <th>2</th>\n",
       "      <td>ELL</td>\n",
       "      <td>0</td>\n",
       "      <td>Mathematics</td>\n",
       "      <td>3614.0</td>\n",
       "      <td>7999</td>\n",
       "      <td>45.180648</td>\n",
       "    </tr>\n",
       "    <tr>\n",
       "      <th>3</th>\n",
       "      <td>ELL</td>\n",
       "      <td>0</td>\n",
       "      <td>Science</td>\n",
       "      <td>2609.0</td>\n",
       "      <td>6063</td>\n",
       "      <td>43.031503</td>\n",
       "    </tr>\n",
       "    <tr>\n",
       "      <th>4</th>\n",
       "      <td>ELL</td>\n",
       "      <td>0</td>\n",
       "      <td>Social Studies</td>\n",
       "      <td>3131.0</td>\n",
       "      <td>6676</td>\n",
       "      <td>46.899341</td>\n",
       "    </tr>\n",
       "    <tr>\n",
       "      <th>5</th>\n",
       "      <td>ELL</td>\n",
       "      <td>1</td>\n",
       "      <td>English</td>\n",
       "      <td>19258.0</td>\n",
       "      <td>53147</td>\n",
       "      <td>36.235347</td>\n",
       "    </tr>\n",
       "    <tr>\n",
       "      <th>6</th>\n",
       "      <td>ELL</td>\n",
       "      <td>1</td>\n",
       "      <td>Languages Other Than English</td>\n",
       "      <td>8970.0</td>\n",
       "      <td>11449</td>\n",
       "      <td>78.347454</td>\n",
       "    </tr>\n",
       "    <tr>\n",
       "      <th>7</th>\n",
       "      <td>ELL</td>\n",
       "      <td>1</td>\n",
       "      <td>Mathematics</td>\n",
       "      <td>32324.0</td>\n",
       "      <td>91777</td>\n",
       "      <td>35.220153</td>\n",
       "    </tr>\n",
       "    <tr>\n",
       "      <th>8</th>\n",
       "      <td>ELL</td>\n",
       "      <td>1</td>\n",
       "      <td>Science</td>\n",
       "      <td>20090.0</td>\n",
       "      <td>67004</td>\n",
       "      <td>29.983285</td>\n",
       "    </tr>\n",
       "    <tr>\n",
       "      <th>9</th>\n",
       "      <td>ELL</td>\n",
       "      <td>1</td>\n",
       "      <td>Social Studies</td>\n",
       "      <td>26366.0</td>\n",
       "      <td>70237</td>\n",
       "      <td>37.538619</td>\n",
       "    </tr>\n",
       "    <tr>\n",
       "      <th>10</th>\n",
       "      <td>ELL</td>\n",
       "      <td>2</td>\n",
       "      <td>English</td>\n",
       "      <td>7085.0</td>\n",
       "      <td>16994</td>\n",
       "      <td>41.691185</td>\n",
       "    </tr>\n",
       "    <tr>\n",
       "      <th>11</th>\n",
       "      <td>ELL</td>\n",
       "      <td>2</td>\n",
       "      <td>Languages Other Than English</td>\n",
       "      <td>3987.0</td>\n",
       "      <td>5080</td>\n",
       "      <td>78.484252</td>\n",
       "    </tr>\n",
       "    <tr>\n",
       "      <th>12</th>\n",
       "      <td>ELL</td>\n",
       "      <td>2</td>\n",
       "      <td>Mathematics</td>\n",
       "      <td>16970.0</td>\n",
       "      <td>37994</td>\n",
       "      <td>44.664947</td>\n",
       "    </tr>\n",
       "    <tr>\n",
       "      <th>13</th>\n",
       "      <td>ELL</td>\n",
       "      <td>2</td>\n",
       "      <td>Science</td>\n",
       "      <td>10805.0</td>\n",
       "      <td>30365</td>\n",
       "      <td>35.583731</td>\n",
       "    </tr>\n",
       "    <tr>\n",
       "      <th>14</th>\n",
       "      <td>ELL</td>\n",
       "      <td>2</td>\n",
       "      <td>Social Studies</td>\n",
       "      <td>11622.0</td>\n",
       "      <td>26002</td>\n",
       "      <td>44.696562</td>\n",
       "    </tr>\n",
       "    <tr>\n",
       "      <th>15</th>\n",
       "      <td>English Proficient</td>\n",
       "      <td>0</td>\n",
       "      <td>English</td>\n",
       "      <td>9127.0</td>\n",
       "      <td>17576</td>\n",
       "      <td>51.928766</td>\n",
       "    </tr>\n",
       "    <tr>\n",
       "      <th>16</th>\n",
       "      <td>English Proficient</td>\n",
       "      <td>0</td>\n",
       "      <td>Languages Other Than English</td>\n",
       "      <td>184.0</td>\n",
       "      <td>508</td>\n",
       "      <td>36.220472</td>\n",
       "    </tr>\n",
       "    <tr>\n",
       "      <th>17</th>\n",
       "      <td>English Proficient</td>\n",
       "      <td>0</td>\n",
       "      <td>Mathematics</td>\n",
       "      <td>4523.0</td>\n",
       "      <td>15497</td>\n",
       "      <td>29.186294</td>\n",
       "    </tr>\n",
       "    <tr>\n",
       "      <th>18</th>\n",
       "      <td>English Proficient</td>\n",
       "      <td>0</td>\n",
       "      <td>Science</td>\n",
       "      <td>4703.0</td>\n",
       "      <td>12923</td>\n",
       "      <td>36.392479</td>\n",
       "    </tr>\n",
       "    <tr>\n",
       "      <th>19</th>\n",
       "      <td>English Proficient</td>\n",
       "      <td>0</td>\n",
       "      <td>Social Studies</td>\n",
       "      <td>10830.0</td>\n",
       "      <td>28737</td>\n",
       "      <td>37.686606</td>\n",
       "    </tr>\n",
       "    <tr>\n",
       "      <th>20</th>\n",
       "      <td>English Proficient</td>\n",
       "      <td>1</td>\n",
       "      <td>English</td>\n",
       "      <td>135477.0</td>\n",
       "      <td>185957</td>\n",
       "      <td>72.853939</td>\n",
       "    </tr>\n",
       "    <tr>\n",
       "      <th>21</th>\n",
       "      <td>English Proficient</td>\n",
       "      <td>1</td>\n",
       "      <td>Languages Other Than English</td>\n",
       "      <td>30200.0</td>\n",
       "      <td>41072</td>\n",
       "      <td>73.529412</td>\n",
       "    </tr>\n",
       "    <tr>\n",
       "      <th>22</th>\n",
       "      <td>English Proficient</td>\n",
       "      <td>1</td>\n",
       "      <td>Mathematics</td>\n",
       "      <td>168762.0</td>\n",
       "      <td>382907</td>\n",
       "      <td>44.073887</td>\n",
       "    </tr>\n",
       "    <tr>\n",
       "      <th>23</th>\n",
       "      <td>English Proficient</td>\n",
       "      <td>1</td>\n",
       "      <td>Science</td>\n",
       "      <td>145249.0</td>\n",
       "      <td>287850</td>\n",
       "      <td>50.459962</td>\n",
       "    </tr>\n",
       "    <tr>\n",
       "      <th>24</th>\n",
       "      <td>English Proficient</td>\n",
       "      <td>1</td>\n",
       "      <td>Social Studies</td>\n",
       "      <td>189088.0</td>\n",
       "      <td>311553</td>\n",
       "      <td>60.692081</td>\n",
       "    </tr>\n",
       "    <tr>\n",
       "      <th>25</th>\n",
       "      <td>English Proficient</td>\n",
       "      <td>2</td>\n",
       "      <td>English</td>\n",
       "      <td>190881.0</td>\n",
       "      <td>228346</td>\n",
       "      <td>83.592881</td>\n",
       "    </tr>\n",
       "    <tr>\n",
       "      <th>26</th>\n",
       "      <td>English Proficient</td>\n",
       "      <td>2</td>\n",
       "      <td>Languages Other Than English</td>\n",
       "      <td>77570.0</td>\n",
       "      <td>96114</td>\n",
       "      <td>80.706245</td>\n",
       "    </tr>\n",
       "    <tr>\n",
       "      <th>27</th>\n",
       "      <td>English Proficient</td>\n",
       "      <td>2</td>\n",
       "      <td>Mathematics</td>\n",
       "      <td>340197.0</td>\n",
       "      <td>555228</td>\n",
       "      <td>61.271586</td>\n",
       "    </tr>\n",
       "    <tr>\n",
       "      <th>28</th>\n",
       "      <td>English Proficient</td>\n",
       "      <td>2</td>\n",
       "      <td>Science</td>\n",
       "      <td>300400.0</td>\n",
       "      <td>460149</td>\n",
       "      <td>65.283202</td>\n",
       "    </tr>\n",
       "    <tr>\n",
       "      <th>29</th>\n",
       "      <td>English Proficient</td>\n",
       "      <td>2</td>\n",
       "      <td>Social Studies</td>\n",
       "      <td>298718.0</td>\n",
       "      <td>384827</td>\n",
       "      <td>77.623971</td>\n",
       "    </tr>\n",
       "  </tbody>\n",
       "</table>\n",
       "</div>"
      ],
      "text/plain": [
       "              Category  Cluster               Regents Subject  \\\n",
       "0                  ELL        0                       English   \n",
       "1                  ELL        0  Languages Other Than English   \n",
       "2                  ELL        0                   Mathematics   \n",
       "3                  ELL        0                       Science   \n",
       "4                  ELL        0                Social Studies   \n",
       "5                  ELL        1                       English   \n",
       "6                  ELL        1  Languages Other Than English   \n",
       "7                  ELL        1                   Mathematics   \n",
       "8                  ELL        1                       Science   \n",
       "9                  ELL        1                Social Studies   \n",
       "10                 ELL        2                       English   \n",
       "11                 ELL        2  Languages Other Than English   \n",
       "12                 ELL        2                   Mathematics   \n",
       "13                 ELL        2                       Science   \n",
       "14                 ELL        2                Social Studies   \n",
       "15  English Proficient        0                       English   \n",
       "16  English Proficient        0  Languages Other Than English   \n",
       "17  English Proficient        0                   Mathematics   \n",
       "18  English Proficient        0                       Science   \n",
       "19  English Proficient        0                Social Studies   \n",
       "20  English Proficient        1                       English   \n",
       "21  English Proficient        1  Languages Other Than English   \n",
       "22  English Proficient        1                   Mathematics   \n",
       "23  English Proficient        1                       Science   \n",
       "24  English Proficient        1                Social Studies   \n",
       "25  English Proficient        2                       English   \n",
       "26  English Proficient        2  Languages Other Than English   \n",
       "27  English Proficient        2                   Mathematics   \n",
       "28  English Proficient        2                       Science   \n",
       "29  English Proficient        2                Social Studies   \n",
       "\n",
       "    Number Scoring 65 or Above  Total Tested   % Passed  \n",
       "0                       2126.0          4735  44.899683  \n",
       "1                        895.0          1305  68.582375  \n",
       "2                       3614.0          7999  45.180648  \n",
       "3                       2609.0          6063  43.031503  \n",
       "4                       3131.0          6676  46.899341  \n",
       "5                      19258.0         53147  36.235347  \n",
       "6                       8970.0         11449  78.347454  \n",
       "7                      32324.0         91777  35.220153  \n",
       "8                      20090.0         67004  29.983285  \n",
       "9                      26366.0         70237  37.538619  \n",
       "10                      7085.0         16994  41.691185  \n",
       "11                      3987.0          5080  78.484252  \n",
       "12                     16970.0         37994  44.664947  \n",
       "13                     10805.0         30365  35.583731  \n",
       "14                     11622.0         26002  44.696562  \n",
       "15                      9127.0         17576  51.928766  \n",
       "16                       184.0           508  36.220472  \n",
       "17                      4523.0         15497  29.186294  \n",
       "18                      4703.0         12923  36.392479  \n",
       "19                     10830.0         28737  37.686606  \n",
       "20                    135477.0        185957  72.853939  \n",
       "21                     30200.0         41072  73.529412  \n",
       "22                    168762.0        382907  44.073887  \n",
       "23                    145249.0        287850  50.459962  \n",
       "24                    189088.0        311553  60.692081  \n",
       "25                    190881.0        228346  83.592881  \n",
       "26                     77570.0         96114  80.706245  \n",
       "27                    340197.0        555228  61.271586  \n",
       "28                    300400.0        460149  65.283202  \n",
       "29                    298718.0        384827  77.623971  "
      ]
     },
     "execution_count": 107,
     "metadata": {},
     "output_type": "execute_result"
    }
   ],
   "source": [
    "ell_data_test_results = ell_test_results.groupby(['Category', 'Cluster', 'Regents Subject'])[['Number Scoring 65 or Above', 'Total Tested']].sum().reset_index()\n",
    "ell_data_test_results['% Passed'] = ell_data_test_results['Number Scoring 65 or Above'] / ell_data_test_results['Total Tested'] * 100\n",
    "ell_data_test_results"
   ]
  },
  {
   "cell_type": "code",
   "execution_count": 113,
   "metadata": {},
   "outputs": [
    {
     "data": {
      "application/vnd.plotly.v1+json": {
       "config": {
        "plotlyServerURL": "https://plot.ly"
       },
       "data": [
        {
         "marker": {
          "color": "#1f77b4"
         },
         "name": "ELL",
         "showlegend": false,
         "type": "bar",
         "x": [
          "English",
          "Languages Other Than English",
          "Mathematics",
          "Science",
          "Social Studies"
         ],
         "xaxis": "x",
         "y": [
          44.899683210137276,
          68.5823754789272,
          45.18064758094762,
          43.03150255649019,
          46.89934092270821
         ],
         "yaxis": "y"
        },
        {
         "marker": {
          "color": "#ff7f0e"
         },
         "name": "English Proficient",
         "showlegend": false,
         "type": "bar",
         "x": [
          "English",
          "Languages Other Than English",
          "Mathematics",
          "Science",
          "Social Studies"
         ],
         "xaxis": "x",
         "y": [
          51.928766499772415,
          36.22047244094488,
          29.186294121442856,
          36.3924785266579,
          37.686606117548806
         ],
         "yaxis": "y"
        },
        {
         "marker": {
          "color": "#1f77b4"
         },
         "name": "ELL",
         "showlegend": false,
         "type": "bar",
         "x": [
          "English",
          "Languages Other Than English",
          "Mathematics",
          "Science",
          "Social Studies"
         ],
         "xaxis": "x2",
         "y": [
          36.235347244435246,
          78.34745392610708,
          35.22015319742419,
          29.98328458002507,
          37.538619246266215
         ],
         "yaxis": "y2"
        },
        {
         "marker": {
          "color": "#ff7f0e"
         },
         "name": "English Proficient",
         "showlegend": false,
         "type": "bar",
         "x": [
          "English",
          "Languages Other Than English",
          "Mathematics",
          "Science",
          "Social Studies"
         ],
         "xaxis": "x2",
         "y": [
          72.85393935157053,
          73.52941176470588,
          44.073887393022325,
          50.459961785652254,
          60.692081283120366
         ],
         "yaxis": "y2"
        },
        {
         "marker": {
          "color": "#1f77b4"
         },
         "name": "ELL",
         "type": "bar",
         "x": [
          "English",
          "Languages Other Than English",
          "Mathematics",
          "Science",
          "Social Studies"
         ],
         "xaxis": "x3",
         "y": [
          41.691185124161464,
          78.48425196850394,
          44.66494709691004,
          35.583731269553766,
          44.696561802938234
         ],
         "yaxis": "y3"
        },
        {
         "marker": {
          "color": "#ff7f0e"
         },
         "name": "English Proficient",
         "type": "bar",
         "x": [
          "English",
          "Languages Other Than English",
          "Mathematics",
          "Science",
          "Social Studies"
         ],
         "xaxis": "x3",
         "y": [
          83.59288097886541,
          80.70624466779033,
          61.27158572694461,
          65.28320174552155,
          77.6239712909957
         ],
         "yaxis": "y3"
        }
       ],
       "layout": {
        "annotations": [
         {
          "font": {
           "size": 16
          },
          "showarrow": false,
          "text": "Cluster 0",
          "x": 0.14444444444444446,
          "xanchor": "center",
          "xref": "paper",
          "y": 1,
          "yanchor": "bottom",
          "yref": "paper"
         },
         {
          "font": {
           "size": 16
          },
          "showarrow": false,
          "text": "Cluster 1",
          "x": 0.5,
          "xanchor": "center",
          "xref": "paper",
          "y": 1,
          "yanchor": "bottom",
          "yref": "paper"
         },
         {
          "font": {
           "size": 16
          },
          "showarrow": false,
          "text": "Cluster 2",
          "x": 0.8555555555555556,
          "xanchor": "center",
          "xref": "paper",
          "y": 1,
          "yanchor": "bottom",
          "yref": "paper"
         }
        ],
        "margin": {
         "b": 125
        },
        "template": {
         "layout": {
          "plot_bgcolor": "white",
          "xaxis": {
           "gridcolor": "lightgray"
          },
          "yaxis": {
           "gridcolor": "lightgray"
          }
         }
        },
        "title": {
         "text": "Rate of Students who Aproved Every Regents Subject in Every Cluster by English Language Learning (ELL) Status"
        },
        "xaxis": {
         "anchor": "y",
         "domain": [
          0,
          0.2888888888888889
         ]
        },
        "xaxis2": {
         "anchor": "y2",
         "domain": [
          0.35555555555555557,
          0.6444444444444445
         ]
        },
        "xaxis3": {
         "anchor": "y3",
         "domain": [
          0.7111111111111111,
          1
         ]
        },
        "yaxis": {
         "anchor": "x",
         "domain": [
          0,
          1
         ],
         "range": [
          0,
          83.59288097886541
         ],
         "title": {
          "text": "% Approved"
         }
        },
        "yaxis2": {
         "anchor": "x2",
         "domain": [
          0,
          1
         ],
         "range": [
          0,
          83.59288097886541
         ],
         "title": {
          "text": "% Approved"
         }
        },
        "yaxis3": {
         "anchor": "x3",
         "domain": [
          0,
          1
         ],
         "range": [
          0,
          83.59288097886541
         ],
         "title": {
          "text": "% Approved"
         }
        }
       }
      }
     },
     "metadata": {},
     "output_type": "display_data"
    }
   ],
   "source": [
    "fig = make_subplots(rows=1, cols=len(ell_data_test_results['Cluster'].unique()), subplot_titles=('Cluster 0', 'Cluster 1', 'Cluster 2'))\n",
    "\n",
    "for cluster in ell_data_test_results['Cluster'].unique():\n",
    "    cluster_row = ell_data_test_results[ell_data_test_results['Cluster'] == cluster]\n",
    "    cluster_index = ell_data_test_results['Cluster'].unique().tolist().index(cluster)\n",
    "    for category in cluster_row['Category'].unique():\n",
    "        category_row = cluster_row[cluster_row['Category'] == category]\n",
    "        category_index = cluster_row['Category'].unique().tolist().index(category)\n",
    "        fig.add_trace(go.Bar(x=category_row['Regents Subject'], y=category_row['% Passed'], marker=dict(color=colors[category_index]), name=category), row=1, col=cluster_index+1)\n",
    "        fig.update_yaxes(range=[0, ell_data_test_results['% Passed'].max()], title_text='% Approved')\n",
    "\n",
    "fig.update_layout(\n",
    "    margin=dict(b=125),\n",
    "    title_text='Rate of Students who Aproved Every Regents Subject in Every Cluster by English Language Learning (ELL) Status'\n",
    ")\n",
    "\n",
    "for i in range(len(fig.data) - len(ell_data_test_results['Category'].unique())):\n",
    "    fig.data[i].showlegend=False\n",
    "fig.show()"
   ]
  },
  {
   "cell_type": "markdown",
   "metadata": {},
   "source": [
    "## Impact of Students With Disadvantages (SWD)"
   ]
  },
  {
   "cell_type": "code",
   "execution_count": 143,
   "metadata": {},
   "outputs": [
    {
     "data": {
      "text/html": [
       "<div>\n",
       "<style scoped>\n",
       "    .dataframe tbody tr th:only-of-type {\n",
       "        vertical-align: middle;\n",
       "    }\n",
       "\n",
       "    .dataframe tbody tr th {\n",
       "        vertical-align: top;\n",
       "    }\n",
       "\n",
       "    .dataframe thead th {\n",
       "        text-align: right;\n",
       "    }\n",
       "</style>\n",
       "<table border=\"1\" class=\"dataframe\">\n",
       "  <thead>\n",
       "    <tr style=\"text-align: right;\">\n",
       "      <th></th>\n",
       "      <th>School Name</th>\n",
       "      <th>Category</th>\n",
       "      <th>Graduation Year</th>\n",
       "      <th>Duration</th>\n",
       "      <th>Cluster</th>\n",
       "      <th># Grads</th>\n",
       "      <th># Advanced Regents</th>\n",
       "      <th># Regents without Advanced</th>\n",
       "      <th># Local</th>\n",
       "      <th># Still Enrolled</th>\n",
       "      <th># Dropout</th>\n",
       "      <th># Total Cohort</th>\n",
       "      <th>Graduation Month</th>\n",
       "    </tr>\n",
       "  </thead>\n",
       "  <tbody>\n",
       "    <tr>\n",
       "      <th>0</th>\n",
       "      <td>47 THE AMERICAN SIGN LANGUAGE AND ENGLISH SECO...</td>\n",
       "      <td>Not SWD</td>\n",
       "      <td>2018</td>\n",
       "      <td>4</td>\n",
       "      <td>2</td>\n",
       "      <td>23.0</td>\n",
       "      <td>7.0</td>\n",
       "      <td>16.0</td>\n",
       "      <td>0.0</td>\n",
       "      <td>1.0</td>\n",
       "      <td>2.0</td>\n",
       "      <td>26</td>\n",
       "      <td>August</td>\n",
       "    </tr>\n",
       "    <tr>\n",
       "      <th>1</th>\n",
       "      <td>47 THE AMERICAN SIGN LANGUAGE AND ENGLISH SECO...</td>\n",
       "      <td>Not SWD</td>\n",
       "      <td>2018</td>\n",
       "      <td>5</td>\n",
       "      <td>2</td>\n",
       "      <td>28.0</td>\n",
       "      <td>4.0</td>\n",
       "      <td>24.0</td>\n",
       "      <td>0.0</td>\n",
       "      <td>0.0</td>\n",
       "      <td>1.0</td>\n",
       "      <td>29</td>\n",
       "      <td>August</td>\n",
       "    </tr>\n",
       "    <tr>\n",
       "      <th>2</th>\n",
       "      <td>47 THE AMERICAN SIGN LANGUAGE AND ENGLISH SECO...</td>\n",
       "      <td>Not SWD</td>\n",
       "      <td>2018</td>\n",
       "      <td>6</td>\n",
       "      <td>2</td>\n",
       "      <td>42.0</td>\n",
       "      <td>8.0</td>\n",
       "      <td>33.0</td>\n",
       "      <td>1.0</td>\n",
       "      <td>0.0</td>\n",
       "      <td>2.0</td>\n",
       "      <td>44</td>\n",
       "      <td>June</td>\n",
       "    </tr>\n",
       "    <tr>\n",
       "      <th>3</th>\n",
       "      <td>47 THE AMERICAN SIGN LANGUAGE AND ENGLISH SECO...</td>\n",
       "      <td>Not SWD</td>\n",
       "      <td>2019</td>\n",
       "      <td>4</td>\n",
       "      <td>2</td>\n",
       "      <td>29.0</td>\n",
       "      <td>6.0</td>\n",
       "      <td>21.0</td>\n",
       "      <td>2.0</td>\n",
       "      <td>0.0</td>\n",
       "      <td>1.0</td>\n",
       "      <td>30</td>\n",
       "      <td>August</td>\n",
       "    </tr>\n",
       "    <tr>\n",
       "      <th>4</th>\n",
       "      <td>47 THE AMERICAN SIGN LANGUAGE AND ENGLISH SECO...</td>\n",
       "      <td>Not SWD</td>\n",
       "      <td>2019</td>\n",
       "      <td>5</td>\n",
       "      <td>2</td>\n",
       "      <td>24.0</td>\n",
       "      <td>7.0</td>\n",
       "      <td>17.0</td>\n",
       "      <td>0.0</td>\n",
       "      <td>0.0</td>\n",
       "      <td>2.0</td>\n",
       "      <td>26</td>\n",
       "      <td>August</td>\n",
       "    </tr>\n",
       "    <tr>\n",
       "      <th>...</th>\n",
       "      <td>...</td>\n",
       "      <td>...</td>\n",
       "      <td>...</td>\n",
       "      <td>...</td>\n",
       "      <td>...</td>\n",
       "      <td>...</td>\n",
       "      <td>...</td>\n",
       "      <td>...</td>\n",
       "      <td>...</td>\n",
       "      <td>...</td>\n",
       "      <td>...</td>\n",
       "      <td>...</td>\n",
       "      <td>...</td>\n",
       "    </tr>\n",
       "    <tr>\n",
       "      <th>19538</th>\n",
       "      <td>YOUNG WOMEN'S LEADERSHIP SCHOOL, QUEENS</td>\n",
       "      <td>SWD</td>\n",
       "      <td>2023</td>\n",
       "      <td>5</td>\n",
       "      <td>2</td>\n",
       "      <td>9.0</td>\n",
       "      <td>6.0</td>\n",
       "      <td>3.0</td>\n",
       "      <td>0.0</td>\n",
       "      <td>0.0</td>\n",
       "      <td>0.0</td>\n",
       "      <td>9</td>\n",
       "      <td>August</td>\n",
       "    </tr>\n",
       "    <tr>\n",
       "      <th>19539</th>\n",
       "      <td>YOUNG WOMEN'S LEADERSHIP SCHOOL, QUEENS</td>\n",
       "      <td>SWD</td>\n",
       "      <td>2023</td>\n",
       "      <td>6</td>\n",
       "      <td>2</td>\n",
       "      <td>7.0</td>\n",
       "      <td>4.0</td>\n",
       "      <td>3.0</td>\n",
       "      <td>0.0</td>\n",
       "      <td>1.0</td>\n",
       "      <td>1.0</td>\n",
       "      <td>9</td>\n",
       "      <td>June</td>\n",
       "    </tr>\n",
       "    <tr>\n",
       "      <th>19540</th>\n",
       "      <td>YOUNG WOMEN'S LEADERSHIP SCHOOL, QUEENS</td>\n",
       "      <td>SWD</td>\n",
       "      <td>2024</td>\n",
       "      <td>4</td>\n",
       "      <td>2</td>\n",
       "      <td>NaN</td>\n",
       "      <td>NaN</td>\n",
       "      <td>NaN</td>\n",
       "      <td>NaN</td>\n",
       "      <td>NaN</td>\n",
       "      <td>NaN</td>\n",
       "      <td>5</td>\n",
       "      <td>August</td>\n",
       "    </tr>\n",
       "    <tr>\n",
       "      <th>19541</th>\n",
       "      <td>YOUNG WOMEN'S LEADERSHIP SCHOOL, QUEENS</td>\n",
       "      <td>SWD</td>\n",
       "      <td>2024</td>\n",
       "      <td>5</td>\n",
       "      <td>2</td>\n",
       "      <td>9.0</td>\n",
       "      <td>0.0</td>\n",
       "      <td>9.0</td>\n",
       "      <td>0.0</td>\n",
       "      <td>0.0</td>\n",
       "      <td>0.0</td>\n",
       "      <td>9</td>\n",
       "      <td>August</td>\n",
       "    </tr>\n",
       "    <tr>\n",
       "      <th>19542</th>\n",
       "      <td>YOUNG WOMEN'S LEADERSHIP SCHOOL, QUEENS</td>\n",
       "      <td>SWD</td>\n",
       "      <td>2024</td>\n",
       "      <td>6</td>\n",
       "      <td>2</td>\n",
       "      <td>9.0</td>\n",
       "      <td>6.0</td>\n",
       "      <td>3.0</td>\n",
       "      <td>0.0</td>\n",
       "      <td>0.0</td>\n",
       "      <td>0.0</td>\n",
       "      <td>9</td>\n",
       "      <td>August</td>\n",
       "    </tr>\n",
       "  </tbody>\n",
       "</table>\n",
       "<p>19543 rows × 13 columns</p>\n",
       "</div>"
      ],
      "text/plain": [
       "                                             School Name Category  \\\n",
       "0      47 THE AMERICAN SIGN LANGUAGE AND ENGLISH SECO...  Not SWD   \n",
       "1      47 THE AMERICAN SIGN LANGUAGE AND ENGLISH SECO...  Not SWD   \n",
       "2      47 THE AMERICAN SIGN LANGUAGE AND ENGLISH SECO...  Not SWD   \n",
       "3      47 THE AMERICAN SIGN LANGUAGE AND ENGLISH SECO...  Not SWD   \n",
       "4      47 THE AMERICAN SIGN LANGUAGE AND ENGLISH SECO...  Not SWD   \n",
       "...                                                  ...      ...   \n",
       "19538            YOUNG WOMEN'S LEADERSHIP SCHOOL, QUEENS      SWD   \n",
       "19539            YOUNG WOMEN'S LEADERSHIP SCHOOL, QUEENS      SWD   \n",
       "19540            YOUNG WOMEN'S LEADERSHIP SCHOOL, QUEENS      SWD   \n",
       "19541            YOUNG WOMEN'S LEADERSHIP SCHOOL, QUEENS      SWD   \n",
       "19542            YOUNG WOMEN'S LEADERSHIP SCHOOL, QUEENS      SWD   \n",
       "\n",
       "       Graduation Year  Duration  Cluster  # Grads  # Advanced Regents  \\\n",
       "0                 2018         4        2     23.0                 7.0   \n",
       "1                 2018         5        2     28.0                 4.0   \n",
       "2                 2018         6        2     42.0                 8.0   \n",
       "3                 2019         4        2     29.0                 6.0   \n",
       "4                 2019         5        2     24.0                 7.0   \n",
       "...                ...       ...      ...      ...                 ...   \n",
       "19538             2023         5        2      9.0                 6.0   \n",
       "19539             2023         6        2      7.0                 4.0   \n",
       "19540             2024         4        2      NaN                 NaN   \n",
       "19541             2024         5        2      9.0                 0.0   \n",
       "19542             2024         6        2      9.0                 6.0   \n",
       "\n",
       "       # Regents without Advanced  # Local  # Still Enrolled  # Dropout  \\\n",
       "0                            16.0      0.0               1.0        2.0   \n",
       "1                            24.0      0.0               0.0        1.0   \n",
       "2                            33.0      1.0               0.0        2.0   \n",
       "3                            21.0      2.0               0.0        1.0   \n",
       "4                            17.0      0.0               0.0        2.0   \n",
       "...                           ...      ...               ...        ...   \n",
       "19538                         3.0      0.0               0.0        0.0   \n",
       "19539                         3.0      0.0               1.0        1.0   \n",
       "19540                         NaN      NaN               NaN        NaN   \n",
       "19541                         9.0      0.0               0.0        0.0   \n",
       "19542                         3.0      0.0               0.0        0.0   \n",
       "\n",
       "       # Total Cohort Graduation Month  \n",
       "0                  26           August  \n",
       "1                  29           August  \n",
       "2                  44             June  \n",
       "3                  30           August  \n",
       "4                  26           August  \n",
       "...               ...              ...  \n",
       "19538               9           August  \n",
       "19539               9             June  \n",
       "19540               5           August  \n",
       "19541               9           August  \n",
       "19542               9           August  \n",
       "\n",
       "[19543 rows x 13 columns]"
      ]
     },
     "execution_count": 143,
     "metadata": {},
     "output_type": "execute_result"
    }
   ],
   "source": [
    "all_swd_graduates = filter_data(swd_graduation, columns=['# Grads','# Advanced Regents', '# Regents without Advanced', '# Local', '# Still Enrolled', '# Dropout'], cluster=True)\n",
    "all_swd_graduates"
   ]
  },
  {
   "cell_type": "code",
   "execution_count": 144,
   "metadata": {},
   "outputs": [
    {
     "data": {
      "text/html": [
       "<div>\n",
       "<style scoped>\n",
       "    .dataframe tbody tr th:only-of-type {\n",
       "        vertical-align: middle;\n",
       "    }\n",
       "\n",
       "    .dataframe tbody tr th {\n",
       "        vertical-align: top;\n",
       "    }\n",
       "\n",
       "    .dataframe thead th {\n",
       "        text-align: right;\n",
       "    }\n",
       "</style>\n",
       "<table border=\"1\" class=\"dataframe\">\n",
       "  <thead>\n",
       "    <tr style=\"text-align: right;\">\n",
       "      <th></th>\n",
       "      <th>Graduation Year</th>\n",
       "      <th>Category</th>\n",
       "      <th>Duration</th>\n",
       "      <th>Cluster</th>\n",
       "      <th># Total Cohort</th>\n",
       "      <th># Grads</th>\n",
       "      <th># Advanced Regents</th>\n",
       "      <th># Regents without Advanced</th>\n",
       "      <th># Local</th>\n",
       "      <th># Still Enrolled</th>\n",
       "      <th># Dropout</th>\n",
       "      <th>Category Code</th>\n",
       "    </tr>\n",
       "  </thead>\n",
       "  <tbody>\n",
       "    <tr>\n",
       "      <th>0</th>\n",
       "      <td>2018</td>\n",
       "      <td>Not SWD</td>\n",
       "      <td>4</td>\n",
       "      <td>0</td>\n",
       "      <td>4021</td>\n",
       "      <td>947.0</td>\n",
       "      <td>56.0</td>\n",
       "      <td>828.0</td>\n",
       "      <td>63.0</td>\n",
       "      <td>2110.0</td>\n",
       "      <td>763.0</td>\n",
       "      <td>0</td>\n",
       "    </tr>\n",
       "    <tr>\n",
       "      <th>1</th>\n",
       "      <td>2018</td>\n",
       "      <td>Not SWD</td>\n",
       "      <td>4</td>\n",
       "      <td>1</td>\n",
       "      <td>25719</td>\n",
       "      <td>18453.0</td>\n",
       "      <td>2333.0</td>\n",
       "      <td>15153.0</td>\n",
       "      <td>967.0</td>\n",
       "      <td>4197.0</td>\n",
       "      <td>2156.0</td>\n",
       "      <td>0</td>\n",
       "    </tr>\n",
       "    <tr>\n",
       "      <th>2</th>\n",
       "      <td>2018</td>\n",
       "      <td>Not SWD</td>\n",
       "      <td>4</td>\n",
       "      <td>2</td>\n",
       "      <td>31167</td>\n",
       "      <td>26215.0</td>\n",
       "      <td>10616.0</td>\n",
       "      <td>15275.0</td>\n",
       "      <td>325.0</td>\n",
       "      <td>1939.0</td>\n",
       "      <td>483.0</td>\n",
       "      <td>0</td>\n",
       "    </tr>\n",
       "    <tr>\n",
       "      <th>3</th>\n",
       "      <td>2018</td>\n",
       "      <td>Not SWD</td>\n",
       "      <td>5</td>\n",
       "      <td>0</td>\n",
       "      <td>4437</td>\n",
       "      <td>1627.0</td>\n",
       "      <td>58.0</td>\n",
       "      <td>1421.0</td>\n",
       "      <td>148.0</td>\n",
       "      <td>1236.0</td>\n",
       "      <td>1257.0</td>\n",
       "      <td>0</td>\n",
       "    </tr>\n",
       "    <tr>\n",
       "      <th>4</th>\n",
       "      <td>2018</td>\n",
       "      <td>Not SWD</td>\n",
       "      <td>5</td>\n",
       "      <td>1</td>\n",
       "      <td>24753</td>\n",
       "      <td>18640.0</td>\n",
       "      <td>2289.0</td>\n",
       "      <td>15424.0</td>\n",
       "      <td>927.0</td>\n",
       "      <td>1310.0</td>\n",
       "      <td>3202.0</td>\n",
       "      <td>0</td>\n",
       "    </tr>\n",
       "    <tr>\n",
       "      <th>...</th>\n",
       "      <td>...</td>\n",
       "      <td>...</td>\n",
       "      <td>...</td>\n",
       "      <td>...</td>\n",
       "      <td>...</td>\n",
       "      <td>...</td>\n",
       "      <td>...</td>\n",
       "      <td>...</td>\n",
       "      <td>...</td>\n",
       "      <td>...</td>\n",
       "      <td>...</td>\n",
       "      <td>...</td>\n",
       "    </tr>\n",
       "    <tr>\n",
       "      <th>121</th>\n",
       "      <td>2024</td>\n",
       "      <td>SWD</td>\n",
       "      <td>5</td>\n",
       "      <td>1</td>\n",
       "      <td>5109</td>\n",
       "      <td>4078.0</td>\n",
       "      <td>186.0</td>\n",
       "      <td>3768.0</td>\n",
       "      <td>124.0</td>\n",
       "      <td>160.0</td>\n",
       "      <td>690.0</td>\n",
       "      <td>1</td>\n",
       "    </tr>\n",
       "    <tr>\n",
       "      <th>122</th>\n",
       "      <td>2024</td>\n",
       "      <td>SWD</td>\n",
       "      <td>5</td>\n",
       "      <td>2</td>\n",
       "      <td>5211</td>\n",
       "      <td>4728.0</td>\n",
       "      <td>497.0</td>\n",
       "      <td>4150.0</td>\n",
       "      <td>81.0</td>\n",
       "      <td>103.0</td>\n",
       "      <td>303.0</td>\n",
       "      <td>1</td>\n",
       "    </tr>\n",
       "    <tr>\n",
       "      <th>123</th>\n",
       "      <td>2024</td>\n",
       "      <td>SWD</td>\n",
       "      <td>6</td>\n",
       "      <td>0</td>\n",
       "      <td>968</td>\n",
       "      <td>559.0</td>\n",
       "      <td>2.0</td>\n",
       "      <td>470.0</td>\n",
       "      <td>87.0</td>\n",
       "      <td>78.0</td>\n",
       "      <td>304.0</td>\n",
       "      <td>1</td>\n",
       "    </tr>\n",
       "    <tr>\n",
       "      <th>124</th>\n",
       "      <td>2024</td>\n",
       "      <td>SWD</td>\n",
       "      <td>6</td>\n",
       "      <td>1</td>\n",
       "      <td>5112</td>\n",
       "      <td>4059.0</td>\n",
       "      <td>382.0</td>\n",
       "      <td>3608.0</td>\n",
       "      <td>69.0</td>\n",
       "      <td>60.0</td>\n",
       "      <td>769.0</td>\n",
       "      <td>1</td>\n",
       "    </tr>\n",
       "    <tr>\n",
       "      <th>125</th>\n",
       "      <td>2024</td>\n",
       "      <td>SWD</td>\n",
       "      <td>6</td>\n",
       "      <td>2</td>\n",
       "      <td>5180</td>\n",
       "      <td>4722.0</td>\n",
       "      <td>909.0</td>\n",
       "      <td>3742.0</td>\n",
       "      <td>71.0</td>\n",
       "      <td>44.0</td>\n",
       "      <td>308.0</td>\n",
       "      <td>1</td>\n",
       "    </tr>\n",
       "  </tbody>\n",
       "</table>\n",
       "<p>126 rows × 12 columns</p>\n",
       "</div>"
      ],
      "text/plain": [
       "     Graduation Year Category  Duration  Cluster  # Total Cohort  # Grads  \\\n",
       "0               2018  Not SWD         4        0            4021    947.0   \n",
       "1               2018  Not SWD         4        1           25719  18453.0   \n",
       "2               2018  Not SWD         4        2           31167  26215.0   \n",
       "3               2018  Not SWD         5        0            4437   1627.0   \n",
       "4               2018  Not SWD         5        1           24753  18640.0   \n",
       "..               ...      ...       ...      ...             ...      ...   \n",
       "121             2024      SWD         5        1            5109   4078.0   \n",
       "122             2024      SWD         5        2            5211   4728.0   \n",
       "123             2024      SWD         6        0             968    559.0   \n",
       "124             2024      SWD         6        1            5112   4059.0   \n",
       "125             2024      SWD         6        2            5180   4722.0   \n",
       "\n",
       "     # Advanced Regents  # Regents without Advanced  # Local  \\\n",
       "0                  56.0                       828.0     63.0   \n",
       "1                2333.0                     15153.0    967.0   \n",
       "2               10616.0                     15275.0    325.0   \n",
       "3                  58.0                      1421.0    148.0   \n",
       "4                2289.0                     15424.0    927.0   \n",
       "..                  ...                         ...      ...   \n",
       "121               186.0                      3768.0    124.0   \n",
       "122               497.0                      4150.0     81.0   \n",
       "123                 2.0                       470.0     87.0   \n",
       "124               382.0                      3608.0     69.0   \n",
       "125               909.0                      3742.0     71.0   \n",
       "\n",
       "     # Still Enrolled  # Dropout  Category Code  \n",
       "0              2110.0      763.0              0  \n",
       "1              4197.0     2156.0              0  \n",
       "2              1939.0      483.0              0  \n",
       "3              1236.0     1257.0              0  \n",
       "4              1310.0     3202.0              0  \n",
       "..                ...        ...            ...  \n",
       "121             160.0      690.0              1  \n",
       "122             103.0      303.0              1  \n",
       "123              78.0      304.0              1  \n",
       "124              60.0      769.0              1  \n",
       "125              44.0      308.0              1  \n",
       "\n",
       "[126 rows x 12 columns]"
      ]
     },
     "execution_count": 144,
     "metadata": {},
     "output_type": "execute_result"
    }
   ],
   "source": [
    "swd_data = filter_graduation_data(all_swd_graduates, ['Graduation Year','Category','Duration'], cluster=True)\n",
    "swd_data['Category Code'] = swd_data['Category'].astype('category').cat.codes\n",
    "swd_data"
   ]
  },
  {
   "cell_type": "code",
   "execution_count": 145,
   "metadata": {},
   "outputs": [
    {
     "data": {
      "application/vnd.plotly.v1+json": {
       "config": {
        "plotlyServerURL": "https://plot.ly"
       },
       "data": [
        {
         "coloraxis": "coloraxis",
         "hovertemplate": "x: %{x}<br>y: %{y}<br>color: %{z}<extra></extra>",
         "name": "0",
         "textfont": {
          "size": 10
         },
         "texttemplate": "%{z}",
         "type": "heatmap",
         "x": [
          "Graduation Year",
          "Duration",
          "Cluster",
          "# Total Cohort",
          "# Grads",
          "# Advanced Regents",
          "# Regents without Advanced",
          "# Local",
          "# Still Enrolled",
          "# Dropout",
          "Category Code"
         ],
         "xaxis": "x",
         "y": [
          "Graduation Year",
          "Duration",
          "Cluster",
          "# Total Cohort",
          "# Grads",
          "# Advanced Regents",
          "# Regents without Advanced",
          "# Local",
          "# Still Enrolled",
          "# Dropout",
          "Category Code"
         ],
         "yaxis": "y",
         "z": [
          [
           1,
           2.4885399503231135e-15,
           1.7093873726417224e-15,
           -0.0228335904684051,
           0.016716412977389964,
           0.09586389205166924,
           0.0003037014042628676,
           -0.5208689682025289,
           -0.23058018601610328,
           -0.22303830164562835,
           1.0194666980089302e-14
          ],
          [
           2.4885399503231135e-15,
           1,
           -3.700743415417188e-17,
           0.0067241740328020366,
           0.01511581335002794,
           -0.013944504084167225,
           0.01950634724756945,
           0.17484093860747468,
           -0.66583692534158,
           0.27108935005498014,
           4.31663477939847e-18
          ],
          [
           1.7093873726417224e-15,
           -3.700743415417188e-17,
           1,
           0.5454703727716745,
           0.5894688342754028,
           0.5650802335749536,
           0.5063775451925301,
           0.21537875577684318,
           -0.13636063173897603,
           -0.060415391125428014,
           1.2949904338195411e-17
          ],
          [
           -0.0228335904684051,
           0.0067241740328020366,
           0.5454703727716745,
           1,
           0.9947269439304756,
           0.8724585637402695,
           0.9638763913125454,
           -0.07031750739603776,
           0.19047543213279639,
           0.4340152968382309,
           -0.692753208983895
          ],
          [
           0.016716412977389964,
           0.01511581335002794,
           0.5894688342754028,
           0.9947269439304756,
           1,
           0.9075824849723264,
           0.9460358192572883,
           -0.09292406784339176,
           0.1327647894839984,
           0.3568185163845911,
           -0.6530098564553136
          ],
          [
           0.09586389205166924,
           -0.013944504084167225,
           0.5650802335749536,
           0.8724585637402695,
           0.9075824849723264,
           1,
           0.7280401239384807,
           -0.23389138943550458,
           0.02559415550280627,
           0.0181441903140723,
           -0.5587416892914103
          ],
          [
           0.0003037014042628676,
           0.01950634724756945,
           0.5063775451925301,
           0.9638763913125454,
           0.9460358192572883,
           0.7280401239384807,
           1,
           -0.06193300365182382,
           0.20778119269017872,
           0.5564688559257421,
           -0.6686345454494059
          ],
          [
           -0.5208689682025289,
           0.17484093860747468,
           0.21537875577684318,
           -0.07031750739603776,
           -0.09292406784339176,
           -0.23389138943550458,
           -0.06193300365182382,
           1,
           -0.050214242509677987,
           0.3026640320047009,
           0.2944103343794643
          ],
          [
           -0.23058018601610328,
           -0.66583692534158,
           -0.13636063173897603,
           0.19047543213279639,
           0.1327647894839984,
           0.02559415550280627,
           0.20778119269017872,
           -0.050214242509677987,
           1,
           0.15257720444768225,
           -0.36824697726152167
          ],
          [
           -0.22303830164562835,
           0.27108935005498014,
           -0.060415391125428014,
           0.4340152968382309,
           0.3568185163845911,
           0.0181441903140723,
           0.5564688559257421,
           0.3026640320047009,
           0.15257720444768225,
           1,
           -0.48295047744938324
          ],
          [
           1.0194666980089302e-14,
           4.31663477939847e-18,
           1.2949904338195411e-17,
           -0.692753208983895,
           -0.6530098564553136,
           -0.5587416892914103,
           -0.6686345454494059,
           0.2944103343794643,
           -0.36824697726152167,
           -0.48295047744938324,
           1
          ]
         ]
        }
       ],
       "layout": {
        "coloraxis": {
         "colorscale": [
          [
           0,
           "rgb(5,48,97)"
          ],
          [
           0.1,
           "rgb(33,102,172)"
          ],
          [
           0.2,
           "rgb(67,147,195)"
          ],
          [
           0.3,
           "rgb(146,197,222)"
          ],
          [
           0.4,
           "rgb(209,229,240)"
          ],
          [
           0.5,
           "rgb(247,247,247)"
          ],
          [
           0.6,
           "rgb(253,219,199)"
          ],
          [
           0.7,
           "rgb(244,165,130)"
          ],
          [
           0.8,
           "rgb(214,96,77)"
          ],
          [
           0.9,
           "rgb(178,24,43)"
          ],
          [
           1,
           "rgb(103,0,31)"
          ]
         ]
        },
        "height": 800,
        "margin": {
         "b": 125,
         "l": 125,
         "t": 60
        },
        "template": {
         "layout": {
          "plot_bgcolor": "white",
          "xaxis": {
           "gridcolor": "lightgray"
          },
          "yaxis": {
           "gridcolor": "lightgray"
          }
         }
        },
        "width": 1000,
        "xaxis": {
         "anchor": "y",
         "constrain": "domain",
         "domain": [
          0,
          1
         ],
         "scaleanchor": "y"
        },
        "yaxis": {
         "anchor": "x",
         "autorange": "reversed",
         "constrain": "domain",
         "domain": [
          0,
          1
         ]
        }
       }
      }
     },
     "metadata": {},
     "output_type": "display_data"
    }
   ],
   "source": [
    "correlation_matrix(swd_data.drop('Category', axis=1))"
   ]
  },
  {
   "cell_type": "markdown",
   "metadata": {},
   "source": [
    "### Population"
   ]
  },
  {
   "cell_type": "code",
   "execution_count": 330,
   "metadata": {},
   "outputs": [
    {
     "data": {
      "text/html": [
       "<div>\n",
       "<style scoped>\n",
       "    .dataframe tbody tr th:only-of-type {\n",
       "        vertical-align: middle;\n",
       "    }\n",
       "\n",
       "    .dataframe tbody tr th {\n",
       "        vertical-align: top;\n",
       "    }\n",
       "\n",
       "    .dataframe thead th {\n",
       "        text-align: right;\n",
       "    }\n",
       "</style>\n",
       "<table border=\"1\" class=\"dataframe\">\n",
       "  <thead>\n",
       "    <tr style=\"text-align: right;\">\n",
       "      <th></th>\n",
       "      <th>Category</th>\n",
       "      <th>Cluster</th>\n",
       "      <th># Total Cohort</th>\n",
       "      <th># Grads</th>\n",
       "      <th>General Cohort %</th>\n",
       "    </tr>\n",
       "  </thead>\n",
       "  <tbody>\n",
       "    <tr>\n",
       "      <th>0</th>\n",
       "      <td>Not SWD</td>\n",
       "      <td>0</td>\n",
       "      <td>79065</td>\n",
       "      <td>32028.0</td>\n",
       "      <td>77.011114</td>\n",
       "    </tr>\n",
       "    <tr>\n",
       "      <th>1</th>\n",
       "      <td>Not SWD</td>\n",
       "      <td>1</td>\n",
       "      <td>507699</td>\n",
       "      <td>400833.0</td>\n",
       "      <td>81.991276</td>\n",
       "    </tr>\n",
       "    <tr>\n",
       "      <th>2</th>\n",
       "      <td>Not SWD</td>\n",
       "      <td>2</td>\n",
       "      <td>639780</td>\n",
       "      <td>571944.0</td>\n",
       "      <td>86.462365</td>\n",
       "    </tr>\n",
       "    <tr>\n",
       "      <th>3</th>\n",
       "      <td>SWD</td>\n",
       "      <td>0</td>\n",
       "      <td>23602</td>\n",
       "      <td>9187.0</td>\n",
       "      <td>22.988886</td>\n",
       "    </tr>\n",
       "    <tr>\n",
       "      <th>4</th>\n",
       "      <td>SWD</td>\n",
       "      <td>1</td>\n",
       "      <td>111512</td>\n",
       "      <td>75789.0</td>\n",
       "      <td>18.008724</td>\n",
       "    </tr>\n",
       "    <tr>\n",
       "      <th>5</th>\n",
       "      <td>SWD</td>\n",
       "      <td>2</td>\n",
       "      <td>100172</td>\n",
       "      <td>84758.0</td>\n",
       "      <td>13.537635</td>\n",
       "    </tr>\n",
       "  </tbody>\n",
       "</table>\n",
       "</div>"
      ],
      "text/plain": [
       "  Category  Cluster  # Total Cohort   # Grads  General Cohort %\n",
       "0  Not SWD        0           79065   32028.0         77.011114\n",
       "1  Not SWD        1          507699  400833.0         81.991276\n",
       "2  Not SWD        2          639780  571944.0         86.462365\n",
       "3      SWD        0           23602    9187.0         22.988886\n",
       "4      SWD        1          111512   75789.0         18.008724\n",
       "5      SWD        2          100172   84758.0         13.537635"
      ]
     },
     "execution_count": 330,
     "metadata": {},
     "output_type": "execute_result"
    }
   ],
   "source": [
    "swd_data_population = filter_population(swd_data)\n",
    "swd_data_population"
   ]
  },
  {
   "cell_type": "code",
   "execution_count": 340,
   "metadata": {},
   "outputs": [
    {
     "data": {
      "application/vnd.plotly.v1+json": {
       "config": {
        "plotlyServerURL": "https://plot.ly"
       },
       "data": [
        {
         "marker": {
          "color": "#1f77b4"
         },
         "showlegend": false,
         "type": "bar",
         "x": [
          "Not SWD"
         ],
         "xaxis": "x",
         "y": [
          77.01111360028052
         ],
         "yaxis": "y"
        },
        {
         "marker": {
          "color": "#ff7f0e"
         },
         "showlegend": false,
         "type": "bar",
         "x": [
          "SWD"
         ],
         "xaxis": "x",
         "y": [
          22.988886399719483
         ],
         "yaxis": "y"
        },
        {
         "marker": {
          "color": "#1f77b4"
         },
         "showlegend": false,
         "type": "bar",
         "x": [
          "Not SWD"
         ],
         "xaxis": "x2",
         "y": [
          81.991275994774
         ],
         "yaxis": "y2"
        },
        {
         "marker": {
          "color": "#ff7f0e"
         },
         "showlegend": false,
         "type": "bar",
         "x": [
          "SWD"
         ],
         "xaxis": "x2",
         "y": [
          18.008724005226007
         ],
         "yaxis": "y2"
        },
        {
         "marker": {
          "color": "#1f77b4"
         },
         "showlegend": false,
         "type": "bar",
         "x": [
          "Not SWD"
         ],
         "xaxis": "x3",
         "y": [
          86.46236512638657
         ],
         "yaxis": "y3"
        },
        {
         "marker": {
          "color": "#ff7f0e"
         },
         "showlegend": false,
         "type": "bar",
         "x": [
          "SWD"
         ],
         "xaxis": "x3",
         "y": [
          13.537634873613424
         ],
         "yaxis": "y3"
        }
       ],
       "layout": {
        "annotations": [
         {
          "font": {
           "size": 16
          },
          "showarrow": false,
          "text": "Cluster 0",
          "x": 0.14444444444444446,
          "xanchor": "center",
          "xref": "paper",
          "y": 1,
          "yanchor": "bottom",
          "yref": "paper"
         },
         {
          "font": {
           "size": 16
          },
          "showarrow": false,
          "text": "Cluster 1",
          "x": 0.5,
          "xanchor": "center",
          "xref": "paper",
          "y": 1,
          "yanchor": "bottom",
          "yref": "paper"
         },
         {
          "font": {
           "size": 16
          },
          "showarrow": false,
          "text": "Cluster 2",
          "x": 0.8555555555555556,
          "xanchor": "center",
          "xref": "paper",
          "y": 1,
          "yanchor": "bottom",
          "yref": "paper"
         }
        ],
        "template": {
         "layout": {
          "plot_bgcolor": "white",
          "xaxis": {
           "gridcolor": "lightgray"
          },
          "yaxis": {
           "gridcolor": "lightgray"
          }
         }
        },
        "title": {
         "text": "Distribution of Population Per Cohort Based on Disability Status"
        },
        "xaxis": {
         "anchor": "y",
         "domain": [
          0,
          0.2888888888888889
         ]
        },
        "xaxis2": {
         "anchor": "y2",
         "domain": [
          0.35555555555555557,
          0.6444444444444445
         ]
        },
        "xaxis3": {
         "anchor": "y3",
         "domain": [
          0.7111111111111111,
          1
         ]
        },
        "yaxis": {
         "anchor": "x",
         "domain": [
          0,
          1
         ],
         "range": [
          0,
          86.46236512638657
         ],
         "title": {
          "text": "Distibution %"
         }
        },
        "yaxis2": {
         "anchor": "x2",
         "domain": [
          0,
          1
         ],
         "range": [
          0,
          86.46236512638657
         ],
         "title": {
          "text": "Distibution %"
         }
        },
        "yaxis3": {
         "anchor": "x3",
         "domain": [
          0,
          1
         ],
         "range": [
          0,
          86.46236512638657
         ],
         "title": {
          "text": "Distibution %"
         }
        }
       }
      }
     },
     "metadata": {},
     "output_type": "display_data"
    }
   ],
   "source": [
    "fig = make_subplots(rows=1, cols=len(swd_data_population['Cluster'].unique()), subplot_titles=('Cluster 0', 'Cluster 1', 'Cluster 2'))\n",
    "\n",
    "for cluster in swd_data_population['Cluster'].unique():\n",
    "    cluster_row = swd_data_population[swd_data_population['Cluster'] == cluster]\n",
    "    cluster_index = swd_data_population['Cluster'].unique().tolist().index(cluster)\n",
    "    for category in cluster_row['Category'].unique():\n",
    "        category_row = cluster_row[cluster_row['Category'] == category]\n",
    "        category_index = cluster_row['Category'].unique().tolist().index(category)\n",
    "        fig.add_trace(go.Bar(x=category_row['Category'], y=category_row['General Cohort %'], marker=dict(color=colors[category_index]), showlegend=False), row=1, col=cluster_index+1)\n",
    "        fig.update_yaxes(range=[0,swd_data_population['General Cohort %'].max()], title_text='Distibution %')\n",
    "\n",
    "\n",
    "fig.update_layout(title_text='Distribution of Population Per Cohort Based on Disability Status')\n",
    "fig.show()"
   ]
  },
  {
   "cell_type": "markdown",
   "metadata": {},
   "source": [
    "### Graduation Rate"
   ]
  },
  {
   "cell_type": "code",
   "execution_count": 335,
   "metadata": {},
   "outputs": [
    {
     "data": {
      "text/html": [
       "<div>\n",
       "<style scoped>\n",
       "    .dataframe tbody tr th:only-of-type {\n",
       "        vertical-align: middle;\n",
       "    }\n",
       "\n",
       "    .dataframe tbody tr th {\n",
       "        vertical-align: top;\n",
       "    }\n",
       "\n",
       "    .dataframe thead th {\n",
       "        text-align: right;\n",
       "    }\n",
       "</style>\n",
       "<table border=\"1\" class=\"dataframe\">\n",
       "  <thead>\n",
       "    <tr style=\"text-align: right;\">\n",
       "      <th></th>\n",
       "      <th>Category</th>\n",
       "      <th>Graduation Year</th>\n",
       "      <th>Cluster</th>\n",
       "      <th># Total Cohort</th>\n",
       "      <th># Grads</th>\n",
       "      <th>Grad %</th>\n",
       "    </tr>\n",
       "  </thead>\n",
       "  <tbody>\n",
       "    <tr>\n",
       "      <th>0</th>\n",
       "      <td>Not SWD</td>\n",
       "      <td>2018</td>\n",
       "      <td>0</td>\n",
       "      <td>13293</td>\n",
       "      <td>4775.0</td>\n",
       "      <td>35.921162</td>\n",
       "    </tr>\n",
       "    <tr>\n",
       "      <th>1</th>\n",
       "      <td>Not SWD</td>\n",
       "      <td>2018</td>\n",
       "      <td>1</td>\n",
       "      <td>75877</td>\n",
       "      <td>56388.0</td>\n",
       "      <td>74.315010</td>\n",
       "    </tr>\n",
       "    <tr>\n",
       "      <th>2</th>\n",
       "      <td>Not SWD</td>\n",
       "      <td>2018</td>\n",
       "      <td>2</td>\n",
       "      <td>91847</td>\n",
       "      <td>78837.0</td>\n",
       "      <td>85.835139</td>\n",
       "    </tr>\n",
       "    <tr>\n",
       "      <th>3</th>\n",
       "      <td>Not SWD</td>\n",
       "      <td>2019</td>\n",
       "      <td>0</td>\n",
       "      <td>12981</td>\n",
       "      <td>4643.0</td>\n",
       "      <td>35.767660</td>\n",
       "    </tr>\n",
       "    <tr>\n",
       "      <th>4</th>\n",
       "      <td>Not SWD</td>\n",
       "      <td>2019</td>\n",
       "      <td>1</td>\n",
       "      <td>75386</td>\n",
       "      <td>57049.0</td>\n",
       "      <td>75.675855</td>\n",
       "    </tr>\n",
       "    <tr>\n",
       "      <th>5</th>\n",
       "      <td>Not SWD</td>\n",
       "      <td>2019</td>\n",
       "      <td>2</td>\n",
       "      <td>91711</td>\n",
       "      <td>80435.0</td>\n",
       "      <td>87.704855</td>\n",
       "    </tr>\n",
       "    <tr>\n",
       "      <th>6</th>\n",
       "      <td>Not SWD</td>\n",
       "      <td>2020</td>\n",
       "      <td>0</td>\n",
       "      <td>12766</td>\n",
       "      <td>4898.0</td>\n",
       "      <td>38.367539</td>\n",
       "    </tr>\n",
       "    <tr>\n",
       "      <th>7</th>\n",
       "      <td>Not SWD</td>\n",
       "      <td>2020</td>\n",
       "      <td>1</td>\n",
       "      <td>75365</td>\n",
       "      <td>58782.0</td>\n",
       "      <td>77.996417</td>\n",
       "    </tr>\n",
       "    <tr>\n",
       "      <th>8</th>\n",
       "      <td>Not SWD</td>\n",
       "      <td>2020</td>\n",
       "      <td>2</td>\n",
       "      <td>91763</td>\n",
       "      <td>81278.0</td>\n",
       "      <td>88.573826</td>\n",
       "    </tr>\n",
       "    <tr>\n",
       "      <th>9</th>\n",
       "      <td>Not SWD</td>\n",
       "      <td>2021</td>\n",
       "      <td>0</td>\n",
       "      <td>11507</td>\n",
       "      <td>4875.0</td>\n",
       "      <td>42.365517</td>\n",
       "    </tr>\n",
       "    <tr>\n",
       "      <th>10</th>\n",
       "      <td>Not SWD</td>\n",
       "      <td>2021</td>\n",
       "      <td>1</td>\n",
       "      <td>73757</td>\n",
       "      <td>59118.0</td>\n",
       "      <td>80.152392</td>\n",
       "    </tr>\n",
       "    <tr>\n",
       "      <th>11</th>\n",
       "      <td>Not SWD</td>\n",
       "      <td>2021</td>\n",
       "      <td>2</td>\n",
       "      <td>91622</td>\n",
       "      <td>82939.0</td>\n",
       "      <td>90.523018</td>\n",
       "    </tr>\n",
       "    <tr>\n",
       "      <th>12</th>\n",
       "      <td>Not SWD</td>\n",
       "      <td>2022</td>\n",
       "      <td>0</td>\n",
       "      <td>10038</td>\n",
       "      <td>4509.0</td>\n",
       "      <td>44.919307</td>\n",
       "    </tr>\n",
       "    <tr>\n",
       "      <th>13</th>\n",
       "      <td>Not SWD</td>\n",
       "      <td>2022</td>\n",
       "      <td>1</td>\n",
       "      <td>71750</td>\n",
       "      <td>58325.0</td>\n",
       "      <td>81.289199</td>\n",
       "    </tr>\n",
       "    <tr>\n",
       "      <th>14</th>\n",
       "      <td>Not SWD</td>\n",
       "      <td>2022</td>\n",
       "      <td>2</td>\n",
       "      <td>91760</td>\n",
       "      <td>82940.0</td>\n",
       "      <td>90.387969</td>\n",
       "    </tr>\n",
       "    <tr>\n",
       "      <th>15</th>\n",
       "      <td>Not SWD</td>\n",
       "      <td>2023</td>\n",
       "      <td>0</td>\n",
       "      <td>9138</td>\n",
       "      <td>4068.0</td>\n",
       "      <td>44.517400</td>\n",
       "    </tr>\n",
       "    <tr>\n",
       "      <th>16</th>\n",
       "      <td>Not SWD</td>\n",
       "      <td>2023</td>\n",
       "      <td>1</td>\n",
       "      <td>69147</td>\n",
       "      <td>56584.0</td>\n",
       "      <td>81.831461</td>\n",
       "    </tr>\n",
       "    <tr>\n",
       "      <th>17</th>\n",
       "      <td>Not SWD</td>\n",
       "      <td>2023</td>\n",
       "      <td>2</td>\n",
       "      <td>91112</td>\n",
       "      <td>82949.0</td>\n",
       "      <td>91.040697</td>\n",
       "    </tr>\n",
       "    <tr>\n",
       "      <th>18</th>\n",
       "      <td>Not SWD</td>\n",
       "      <td>2024</td>\n",
       "      <td>0</td>\n",
       "      <td>9342</td>\n",
       "      <td>4260.0</td>\n",
       "      <td>45.600514</td>\n",
       "    </tr>\n",
       "    <tr>\n",
       "      <th>19</th>\n",
       "      <td>Not SWD</td>\n",
       "      <td>2024</td>\n",
       "      <td>1</td>\n",
       "      <td>66417</td>\n",
       "      <td>54587.0</td>\n",
       "      <td>82.188295</td>\n",
       "    </tr>\n",
       "    <tr>\n",
       "      <th>20</th>\n",
       "      <td>Not SWD</td>\n",
       "      <td>2024</td>\n",
       "      <td>2</td>\n",
       "      <td>89965</td>\n",
       "      <td>82566.0</td>\n",
       "      <td>91.775691</td>\n",
       "    </tr>\n",
       "    <tr>\n",
       "      <th>21</th>\n",
       "      <td>SWD</td>\n",
       "      <td>2018</td>\n",
       "      <td>0</td>\n",
       "      <td>3238</td>\n",
       "      <td>1098.0</td>\n",
       "      <td>33.909821</td>\n",
       "    </tr>\n",
       "    <tr>\n",
       "      <th>22</th>\n",
       "      <td>SWD</td>\n",
       "      <td>2018</td>\n",
       "      <td>1</td>\n",
       "      <td>16725</td>\n",
       "      <td>9576.0</td>\n",
       "      <td>57.255605</td>\n",
       "    </tr>\n",
       "    <tr>\n",
       "      <th>23</th>\n",
       "      <td>SWD</td>\n",
       "      <td>2018</td>\n",
       "      <td>2</td>\n",
       "      <td>12358</td>\n",
       "      <td>9606.0</td>\n",
       "      <td>77.731024</td>\n",
       "    </tr>\n",
       "    <tr>\n",
       "      <th>24</th>\n",
       "      <td>SWD</td>\n",
       "      <td>2019</td>\n",
       "      <td>0</td>\n",
       "      <td>3466</td>\n",
       "      <td>1185.0</td>\n",
       "      <td>34.189267</td>\n",
       "    </tr>\n",
       "    <tr>\n",
       "      <th>25</th>\n",
       "      <td>SWD</td>\n",
       "      <td>2019</td>\n",
       "      <td>1</td>\n",
       "      <td>16474</td>\n",
       "      <td>9979.0</td>\n",
       "      <td>60.574238</td>\n",
       "    </tr>\n",
       "    <tr>\n",
       "      <th>26</th>\n",
       "      <td>SWD</td>\n",
       "      <td>2019</td>\n",
       "      <td>2</td>\n",
       "      <td>13106</td>\n",
       "      <td>10449.0</td>\n",
       "      <td>79.726843</td>\n",
       "    </tr>\n",
       "    <tr>\n",
       "      <th>27</th>\n",
       "      <td>SWD</td>\n",
       "      <td>2020</td>\n",
       "      <td>0</td>\n",
       "      <td>3730</td>\n",
       "      <td>1349.0</td>\n",
       "      <td>36.166220</td>\n",
       "    </tr>\n",
       "    <tr>\n",
       "      <th>28</th>\n",
       "      <td>SWD</td>\n",
       "      <td>2020</td>\n",
       "      <td>1</td>\n",
       "      <td>16154</td>\n",
       "      <td>10450.0</td>\n",
       "      <td>64.689860</td>\n",
       "    </tr>\n",
       "    <tr>\n",
       "      <th>29</th>\n",
       "      <td>SWD</td>\n",
       "      <td>2020</td>\n",
       "      <td>2</td>\n",
       "      <td>13759</td>\n",
       "      <td>11298.0</td>\n",
       "      <td>82.113526</td>\n",
       "    </tr>\n",
       "    <tr>\n",
       "      <th>30</th>\n",
       "      <td>SWD</td>\n",
       "      <td>2021</td>\n",
       "      <td>0</td>\n",
       "      <td>3550</td>\n",
       "      <td>1451.0</td>\n",
       "      <td>40.873239</td>\n",
       "    </tr>\n",
       "    <tr>\n",
       "      <th>31</th>\n",
       "      <td>SWD</td>\n",
       "      <td>2021</td>\n",
       "      <td>1</td>\n",
       "      <td>15801</td>\n",
       "      <td>10782.0</td>\n",
       "      <td>68.236188</td>\n",
       "    </tr>\n",
       "    <tr>\n",
       "      <th>32</th>\n",
       "      <td>SWD</td>\n",
       "      <td>2021</td>\n",
       "      <td>2</td>\n",
       "      <td>14563</td>\n",
       "      <td>12320.0</td>\n",
       "      <td>84.597954</td>\n",
       "    </tr>\n",
       "    <tr>\n",
       "      <th>33</th>\n",
       "      <td>SWD</td>\n",
       "      <td>2022</td>\n",
       "      <td>0</td>\n",
       "      <td>3295</td>\n",
       "      <td>1399.0</td>\n",
       "      <td>42.458270</td>\n",
       "    </tr>\n",
       "    <tr>\n",
       "      <th>34</th>\n",
       "      <td>SWD</td>\n",
       "      <td>2022</td>\n",
       "      <td>1</td>\n",
       "      <td>15529</td>\n",
       "      <td>11235.0</td>\n",
       "      <td>72.348509</td>\n",
       "    </tr>\n",
       "    <tr>\n",
       "      <th>35</th>\n",
       "      <td>SWD</td>\n",
       "      <td>2022</td>\n",
       "      <td>2</td>\n",
       "      <td>15190</td>\n",
       "      <td>13243.0</td>\n",
       "      <td>87.182357</td>\n",
       "    </tr>\n",
       "    <tr>\n",
       "      <th>36</th>\n",
       "      <td>SWD</td>\n",
       "      <td>2023</td>\n",
       "      <td>0</td>\n",
       "      <td>3112</td>\n",
       "      <td>1294.0</td>\n",
       "      <td>41.580977</td>\n",
       "    </tr>\n",
       "    <tr>\n",
       "      <th>37</th>\n",
       "      <td>SWD</td>\n",
       "      <td>2023</td>\n",
       "      <td>1</td>\n",
       "      <td>15454</td>\n",
       "      <td>11784.0</td>\n",
       "      <td>76.252103</td>\n",
       "    </tr>\n",
       "    <tr>\n",
       "      <th>38</th>\n",
       "      <td>SWD</td>\n",
       "      <td>2023</td>\n",
       "      <td>2</td>\n",
       "      <td>15552</td>\n",
       "      <td>13827.0</td>\n",
       "      <td>88.908179</td>\n",
       "    </tr>\n",
       "    <tr>\n",
       "      <th>39</th>\n",
       "      <td>SWD</td>\n",
       "      <td>2024</td>\n",
       "      <td>0</td>\n",
       "      <td>3211</td>\n",
       "      <td>1411.0</td>\n",
       "      <td>43.942697</td>\n",
       "    </tr>\n",
       "    <tr>\n",
       "      <th>40</th>\n",
       "      <td>SWD</td>\n",
       "      <td>2024</td>\n",
       "      <td>1</td>\n",
       "      <td>15375</td>\n",
       "      <td>11983.0</td>\n",
       "      <td>77.938211</td>\n",
       "    </tr>\n",
       "    <tr>\n",
       "      <th>41</th>\n",
       "      <td>SWD</td>\n",
       "      <td>2024</td>\n",
       "      <td>2</td>\n",
       "      <td>15644</td>\n",
       "      <td>14015.0</td>\n",
       "      <td>89.587062</td>\n",
       "    </tr>\n",
       "  </tbody>\n",
       "</table>\n",
       "</div>"
      ],
      "text/plain": [
       "   Category  Graduation Year  Cluster  # Total Cohort  # Grads     Grad %\n",
       "0   Not SWD             2018        0           13293   4775.0  35.921162\n",
       "1   Not SWD             2018        1           75877  56388.0  74.315010\n",
       "2   Not SWD             2018        2           91847  78837.0  85.835139\n",
       "3   Not SWD             2019        0           12981   4643.0  35.767660\n",
       "4   Not SWD             2019        1           75386  57049.0  75.675855\n",
       "5   Not SWD             2019        2           91711  80435.0  87.704855\n",
       "6   Not SWD             2020        0           12766   4898.0  38.367539\n",
       "7   Not SWD             2020        1           75365  58782.0  77.996417\n",
       "8   Not SWD             2020        2           91763  81278.0  88.573826\n",
       "9   Not SWD             2021        0           11507   4875.0  42.365517\n",
       "10  Not SWD             2021        1           73757  59118.0  80.152392\n",
       "11  Not SWD             2021        2           91622  82939.0  90.523018\n",
       "12  Not SWD             2022        0           10038   4509.0  44.919307\n",
       "13  Not SWD             2022        1           71750  58325.0  81.289199\n",
       "14  Not SWD             2022        2           91760  82940.0  90.387969\n",
       "15  Not SWD             2023        0            9138   4068.0  44.517400\n",
       "16  Not SWD             2023        1           69147  56584.0  81.831461\n",
       "17  Not SWD             2023        2           91112  82949.0  91.040697\n",
       "18  Not SWD             2024        0            9342   4260.0  45.600514\n",
       "19  Not SWD             2024        1           66417  54587.0  82.188295\n",
       "20  Not SWD             2024        2           89965  82566.0  91.775691\n",
       "21      SWD             2018        0            3238   1098.0  33.909821\n",
       "22      SWD             2018        1           16725   9576.0  57.255605\n",
       "23      SWD             2018        2           12358   9606.0  77.731024\n",
       "24      SWD             2019        0            3466   1185.0  34.189267\n",
       "25      SWD             2019        1           16474   9979.0  60.574238\n",
       "26      SWD             2019        2           13106  10449.0  79.726843\n",
       "27      SWD             2020        0            3730   1349.0  36.166220\n",
       "28      SWD             2020        1           16154  10450.0  64.689860\n",
       "29      SWD             2020        2           13759  11298.0  82.113526\n",
       "30      SWD             2021        0            3550   1451.0  40.873239\n",
       "31      SWD             2021        1           15801  10782.0  68.236188\n",
       "32      SWD             2021        2           14563  12320.0  84.597954\n",
       "33      SWD             2022        0            3295   1399.0  42.458270\n",
       "34      SWD             2022        1           15529  11235.0  72.348509\n",
       "35      SWD             2022        2           15190  13243.0  87.182357\n",
       "36      SWD             2023        0            3112   1294.0  41.580977\n",
       "37      SWD             2023        1           15454  11784.0  76.252103\n",
       "38      SWD             2023        2           15552  13827.0  88.908179\n",
       "39      SWD             2024        0            3211   1411.0  43.942697\n",
       "40      SWD             2024        1           15375  11983.0  77.938211\n",
       "41      SWD             2024        2           15644  14015.0  89.587062"
      ]
     },
     "execution_count": 335,
     "metadata": {},
     "output_type": "execute_result"
    }
   ],
   "source": [
    "swd_data_graduation_rate = filter_graduation_rate(swd_data)\n",
    "swd_data_graduation_rate"
   ]
  },
  {
   "cell_type": "code",
   "execution_count": 339,
   "metadata": {},
   "outputs": [
    {
     "data": {
      "application/vnd.plotly.v1+json": {
       "config": {
        "plotlyServerURL": "https://plot.ly"
       },
       "data": [
        {
         "line": {
          "color": "#1f77b4"
         },
         "name": "Not SWD",
         "showlegend": false,
         "type": "scatter",
         "x": [
          2018,
          2019,
          2020,
          2021,
          2022,
          2023,
          2024
         ],
         "xaxis": "x",
         "y": [
          35.921161513578575,
          35.767660426777596,
          38.36753877487075,
          42.36551664204397,
          44.91930663478781,
          44.517399868680236,
          45.600513808606294
         ],
         "yaxis": "y"
        },
        {
         "line": {
          "color": "#ff7f0e"
         },
         "name": "SWD",
         "showlegend": false,
         "type": "scatter",
         "x": [
          2018,
          2019,
          2020,
          2021,
          2022,
          2023,
          2024
         ],
         "xaxis": "x",
         "y": [
          33.90982087708462,
          34.18926716676284,
          36.16621983914209,
          40.87323943661972,
          42.45827010622155,
          41.58097686375321,
          43.942696979134226
         ],
         "yaxis": "y"
        },
        {
         "line": {
          "color": "#1f77b4"
         },
         "name": "Not SWD",
         "showlegend": false,
         "type": "scatter",
         "x": [
          2018,
          2019,
          2020,
          2021,
          2022,
          2023,
          2024
         ],
         "xaxis": "x2",
         "y": [
          74.31500981852209,
          75.67585493327672,
          77.99641743514894,
          80.15239231530566,
          81.28919860627177,
          81.83146051166355,
          82.1882951653944
         ],
         "yaxis": "y2"
        },
        {
         "line": {
          "color": "#ff7f0e"
         },
         "name": "SWD",
         "showlegend": false,
         "type": "scatter",
         "x": [
          2018,
          2019,
          2020,
          2021,
          2022,
          2023,
          2024
         ],
         "xaxis": "x2",
         "y": [
          57.25560538116592,
          60.57423819351706,
          64.68986009657051,
          68.23618758306436,
          72.34850924077533,
          76.25210301540054,
          77.93821138211382
         ],
         "yaxis": "y2"
        },
        {
         "line": {
          "color": "#1f77b4"
         },
         "name": "Not SWD",
         "type": "scatter",
         "x": [
          2018,
          2019,
          2020,
          2021,
          2022,
          2023,
          2024
         ],
         "xaxis": "x3",
         "y": [
          85.83513887225494,
          87.70485546990001,
          88.57382605189456,
          90.52301848900919,
          90.38796861377506,
          91.0406971639301,
          91.77569054632357
         ],
         "yaxis": "y3"
        },
        {
         "line": {
          "color": "#ff7f0e"
         },
         "name": "SWD",
         "type": "scatter",
         "x": [
          2018,
          2019,
          2020,
          2021,
          2022,
          2023,
          2024
         ],
         "xaxis": "x3",
         "y": [
          77.73102443761127,
          79.72684266748054,
          82.11352569227415,
          84.59795371832726,
          87.18235681369322,
          88.90817901234568,
          89.58706213244695
         ],
         "yaxis": "y3"
        }
       ],
       "layout": {
        "annotations": [
         {
          "font": {
           "size": 16
          },
          "showarrow": false,
          "text": "Cluster 0",
          "x": 0.14444444444444446,
          "xanchor": "center",
          "xref": "paper",
          "y": 1,
          "yanchor": "bottom",
          "yref": "paper"
         },
         {
          "font": {
           "size": 16
          },
          "showarrow": false,
          "text": "Cluster 1",
          "x": 0.5,
          "xanchor": "center",
          "xref": "paper",
          "y": 1,
          "yanchor": "bottom",
          "yref": "paper"
         },
         {
          "font": {
           "size": 16
          },
          "showarrow": false,
          "text": "Cluster 2",
          "x": 0.8555555555555556,
          "xanchor": "center",
          "xref": "paper",
          "y": 1,
          "yanchor": "bottom",
          "yref": "paper"
         }
        ],
        "template": {
         "layout": {
          "plot_bgcolor": "white",
          "xaxis": {
           "gridcolor": "lightgray"
          },
          "yaxis": {
           "gridcolor": "lightgray"
          }
         }
        },
        "title": {
         "text": "Graduation Rate from 2018 to 2024 in Every Cluster Based on Disability Status"
        },
        "xaxis": {
         "anchor": "y",
         "domain": [
          0,
          0.2888888888888889
         ]
        },
        "xaxis2": {
         "anchor": "y2",
         "domain": [
          0.35555555555555557,
          0.6444444444444445
         ]
        },
        "xaxis3": {
         "anchor": "y3",
         "domain": [
          0.7111111111111111,
          1
         ]
        },
        "yaxis": {
         "anchor": "x",
         "domain": [
          0,
          1
         ],
         "range": [
          33.90982087708462,
          91.77569054632357
         ],
         "title": {
          "text": "Graduation %"
         }
        },
        "yaxis2": {
         "anchor": "x2",
         "domain": [
          0,
          1
         ],
         "range": [
          33.90982087708462,
          91.77569054632357
         ],
         "title": {
          "text": "Graduation %"
         }
        },
        "yaxis3": {
         "anchor": "x3",
         "domain": [
          0,
          1
         ],
         "range": [
          33.90982087708462,
          91.77569054632357
         ],
         "title": {
          "text": "Graduation %"
         }
        }
       }
      }
     },
     "metadata": {},
     "output_type": "display_data"
    }
   ],
   "source": [
    "fig = make_subplots(rows=1, cols=len(swd_data_graduation_rate['Cluster'].unique()), subplot_titles=('Cluster 0', 'Cluster 1', 'Cluster 2'))\n",
    "\n",
    "for cluster in swd_data_graduation_rate['Cluster'].unique():\n",
    "    cluster_row = swd_data_graduation_rate[swd_data_graduation_rate['Cluster'] == cluster]\n",
    "    cluster_index = swd_data_graduation_rate['Cluster'].unique().tolist().index(cluster)\n",
    "    for category in cluster_row['Category'].unique():\n",
    "        category_row = cluster_row[cluster_row['Category'] == category]\n",
    "        category_index = cluster_row['Category'].unique().tolist().index(category)\n",
    "        fig.add_trace(go.Scatter(x=category_row['Graduation Year'], y=category_row['Grad %'], name=category, line=dict(color=colors[category_index])), row=1, col=cluster_index+1)\n",
    "        fig.update_yaxes(range=[swd_data_graduation_rate['Grad %'].min(), swd_data_graduation_rate['Grad %'].max()], title_text='Graduation %')\n",
    "\n",
    "for i in range(len(fig.data) - len(swd_data_graduation_rate['Category'].unique())):\n",
    "    fig.data[i].showlegend=False\n",
    "\n",
    "fig.update_layout(title_text='Graduation Rate from 2018 to 2024 in Every Cluster Based on Disability Status')\n",
    "\n",
    "fig.show()"
   ]
  },
  {
   "cell_type": "markdown",
   "metadata": {},
   "source": [
    "### Diploma Type"
   ]
  },
  {
   "cell_type": "code",
   "execution_count": 341,
   "metadata": {},
   "outputs": [
    {
     "data": {
      "text/html": [
       "<div>\n",
       "<style scoped>\n",
       "    .dataframe tbody tr th:only-of-type {\n",
       "        vertical-align: middle;\n",
       "    }\n",
       "\n",
       "    .dataframe tbody tr th {\n",
       "        vertical-align: top;\n",
       "    }\n",
       "\n",
       "    .dataframe thead th {\n",
       "        text-align: right;\n",
       "    }\n",
       "</style>\n",
       "<table border=\"1\" class=\"dataframe\">\n",
       "  <thead>\n",
       "    <tr style=\"text-align: right;\">\n",
       "      <th></th>\n",
       "      <th>Category</th>\n",
       "      <th>Cluster</th>\n",
       "      <th># Advanced Regents</th>\n",
       "      <th># Regents without Advanced</th>\n",
       "      <th># Local</th>\n",
       "      <th># Grads</th>\n",
       "      <th>Advanced Regents %</th>\n",
       "      <th>Regents without Advanced %</th>\n",
       "      <th>Local %</th>\n",
       "    </tr>\n",
       "  </thead>\n",
       "  <tbody>\n",
       "    <tr>\n",
       "      <th>0</th>\n",
       "      <td>Not SWD</td>\n",
       "      <td>0</td>\n",
       "      <td>1170.0</td>\n",
       "      <td>29370.0</td>\n",
       "      <td>1493.0</td>\n",
       "      <td>32028.0</td>\n",
       "      <td>3.653054</td>\n",
       "      <td>91.701012</td>\n",
       "      <td>4.661546</td>\n",
       "    </tr>\n",
       "    <tr>\n",
       "      <th>1</th>\n",
       "      <td>Not SWD</td>\n",
       "      <td>1</td>\n",
       "      <td>83328.0</td>\n",
       "      <td>306951.0</td>\n",
       "      <td>10601.0</td>\n",
       "      <td>400833.0</td>\n",
       "      <td>20.788708</td>\n",
       "      <td>76.578276</td>\n",
       "      <td>2.644742</td>\n",
       "    </tr>\n",
       "    <tr>\n",
       "      <th>2</th>\n",
       "      <td>Not SWD</td>\n",
       "      <td>2</td>\n",
       "      <td>279345.0</td>\n",
       "      <td>288932.0</td>\n",
       "      <td>3791.0</td>\n",
       "      <td>571944.0</td>\n",
       "      <td>48.841320</td>\n",
       "      <td>50.517533</td>\n",
       "      <td>0.662827</td>\n",
       "    </tr>\n",
       "    <tr>\n",
       "      <th>3</th>\n",
       "      <td>SWD</td>\n",
       "      <td>0</td>\n",
       "      <td>13.0</td>\n",
       "      <td>5571.0</td>\n",
       "      <td>3605.0</td>\n",
       "      <td>9187.0</td>\n",
       "      <td>0.141504</td>\n",
       "      <td>60.640035</td>\n",
       "      <td>39.240231</td>\n",
       "    </tr>\n",
       "    <tr>\n",
       "      <th>4</th>\n",
       "      <td>SWD</td>\n",
       "      <td>1</td>\n",
       "      <td>3608.0</td>\n",
       "      <td>52400.0</td>\n",
       "      <td>19795.0</td>\n",
       "      <td>75789.0</td>\n",
       "      <td>4.760585</td>\n",
       "      <td>69.139321</td>\n",
       "      <td>26.118566</td>\n",
       "    </tr>\n",
       "    <tr>\n",
       "      <th>5</th>\n",
       "      <td>SWD</td>\n",
       "      <td>2</td>\n",
       "      <td>10568.0</td>\n",
       "      <td>59809.0</td>\n",
       "      <td>14393.0</td>\n",
       "      <td>84758.0</td>\n",
       "      <td>12.468440</td>\n",
       "      <td>70.564430</td>\n",
       "      <td>16.981288</td>\n",
       "    </tr>\n",
       "  </tbody>\n",
       "</table>\n",
       "</div>"
      ],
      "text/plain": [
       "  Category  Cluster  # Advanced Regents  # Regents without Advanced  # Local  \\\n",
       "0  Not SWD        0              1170.0                     29370.0   1493.0   \n",
       "1  Not SWD        1             83328.0                    306951.0  10601.0   \n",
       "2  Not SWD        2            279345.0                    288932.0   3791.0   \n",
       "3      SWD        0                13.0                      5571.0   3605.0   \n",
       "4      SWD        1              3608.0                     52400.0  19795.0   \n",
       "5      SWD        2             10568.0                     59809.0  14393.0   \n",
       "\n",
       "    # Grads  Advanced Regents %  Regents without Advanced %    Local %  \n",
       "0   32028.0            3.653054                   91.701012   4.661546  \n",
       "1  400833.0           20.788708                   76.578276   2.644742  \n",
       "2  571944.0           48.841320                   50.517533   0.662827  \n",
       "3    9187.0            0.141504                   60.640035  39.240231  \n",
       "4   75789.0            4.760585                   69.139321  26.118566  \n",
       "5   84758.0           12.468440                   70.564430  16.981288  "
      ]
     },
     "execution_count": 341,
     "metadata": {},
     "output_type": "execute_result"
    }
   ],
   "source": [
    "swd_data_diploma_type = filter_diploma_type(swd_data)\n",
    "swd_data_diploma_type"
   ]
  },
  {
   "cell_type": "code",
   "execution_count": 345,
   "metadata": {},
   "outputs": [
    {
     "data": {
      "application/vnd.plotly.v1+json": {
       "config": {
        "plotlyServerURL": "https://plot.ly"
       },
       "data": [
        {
         "marker": {
          "color": "#1f77b4"
         },
         "name": "Advanced Regents Diploma",
         "showlegend": false,
         "type": "bar",
         "x": [
          "Not SWD",
          "SWD"
         ],
         "xaxis": "x",
         "y": [
          3.6530535781191453,
          0.1415042995537172
         ],
         "yaxis": "y"
        },
        {
         "marker": {
          "color": "#ff7f0e"
         },
         "name": "Regular Regents Diploma",
         "showlegend": false,
         "type": "bar",
         "x": [
          "Not SWD",
          "SWD"
         ],
         "xaxis": "x",
         "y": [
          91.70101161483701,
          60.640034831827585
         ],
         "yaxis": "y"
        },
        {
         "marker": {
          "color": "#2ca02c"
         },
         "name": "Local Diploma",
         "showlegend": false,
         "type": "bar",
         "x": [
          "Not SWD",
          "SWD"
         ],
         "xaxis": "x",
         "y": [
          4.661546147121269,
          39.240230760857735
         ],
         "yaxis": "y"
        },
        {
         "marker": {
          "color": "#1f77b4"
         },
         "name": "Advanced Regents Diploma",
         "showlegend": false,
         "type": "bar",
         "x": [
          "Not SWD",
          "SWD"
         ],
         "xaxis": "x2",
         "y": [
          20.788707516596688,
          4.760585309213738
         ],
         "yaxis": "y2"
        },
        {
         "marker": {
          "color": "#ff7f0e"
         },
         "name": "Regular Regents Diploma",
         "showlegend": false,
         "type": "bar",
         "x": [
          "Not SWD",
          "SWD"
         ],
         "xaxis": "x2",
         "y": [
          76.57827574076985,
          69.13932100964519
         ],
         "yaxis": "y2"
        },
        {
         "marker": {
          "color": "#2ca02c"
         },
         "name": "Local Diploma",
         "showlegend": false,
         "type": "bar",
         "x": [
          "Not SWD",
          "SWD"
         ],
         "xaxis": "x2",
         "y": [
          2.644742324110041,
          26.118566018815397
         ],
         "yaxis": "y2"
        },
        {
         "marker": {
          "color": "#1f77b4"
         },
         "name": "Advanced Regents Diploma",
         "type": "bar",
         "x": [
          "Not SWD",
          "SWD"
         ],
         "xaxis": "x3",
         "y": [
          48.84132012924342,
          12.468439557327923
         ],
         "yaxis": "y3"
        },
        {
         "marker": {
          "color": "#ff7f0e"
         },
         "name": "Regular Regents Diploma",
         "type": "bar",
         "x": [
          "Not SWD",
          "SWD"
         ],
         "xaxis": "x3",
         "y": [
          50.517533185067066,
          70.56443049623634
         ],
         "yaxis": "y3"
        },
        {
         "marker": {
          "color": "#2ca02c"
         },
         "name": "Local Diploma",
         "type": "bar",
         "x": [
          "Not SWD",
          "SWD"
         ],
         "xaxis": "x3",
         "y": [
          0.6628271299288042,
          16.98128790202695
         ],
         "yaxis": "y3"
        }
       ],
       "layout": {
        "annotations": [
         {
          "font": {
           "size": 16
          },
          "showarrow": false,
          "text": "Cluster 0",
          "x": 0.14444444444444446,
          "xanchor": "center",
          "xref": "paper",
          "y": 1,
          "yanchor": "bottom",
          "yref": "paper"
         },
         {
          "font": {
           "size": 16
          },
          "showarrow": false,
          "text": "Cluster 1",
          "x": 0.5,
          "xanchor": "center",
          "xref": "paper",
          "y": 1,
          "yanchor": "bottom",
          "yref": "paper"
         },
         {
          "font": {
           "size": 16
          },
          "showarrow": false,
          "text": "Cluster 2",
          "x": 0.8555555555555556,
          "xanchor": "center",
          "xref": "paper",
          "y": 1,
          "yanchor": "bottom",
          "yref": "paper"
         }
        ],
        "template": {
         "layout": {
          "plot_bgcolor": "white",
          "xaxis": {
           "gridcolor": "lightgray"
          },
          "yaxis": {
           "gridcolor": "lightgray"
          }
         }
        },
        "title": {
         "text": "Distribution of Graduates Per Disability Status in Every Cluster Based on the Type of Diploma"
        },
        "xaxis": {
         "anchor": "y",
         "domain": [
          0,
          0.2888888888888889
         ]
        },
        "xaxis2": {
         "anchor": "y2",
         "domain": [
          0.35555555555555557,
          0.6444444444444445
         ]
        },
        "xaxis3": {
         "anchor": "y3",
         "domain": [
          0.7111111111111111,
          1
         ]
        },
        "yaxis": {
         "anchor": "x",
         "domain": [
          0,
          1
         ],
         "range": [
          0,
          91.70101161483701
         ],
         "title": {
          "text": "Distribution %"
         }
        },
        "yaxis2": {
         "anchor": "x2",
         "domain": [
          0,
          1
         ],
         "range": [
          0,
          91.70101161483701
         ],
         "title": {
          "text": "Distribution %"
         }
        },
        "yaxis3": {
         "anchor": "x3",
         "domain": [
          0,
          1
         ],
         "range": [
          0,
          91.70101161483701
         ],
         "title": {
          "text": "Distribution %"
         }
        }
       }
      }
     },
     "metadata": {},
     "output_type": "display_data"
    }
   ],
   "source": [
    "fig = make_subplots(rows=1, cols=len(swd_data_diploma_type['Cluster'].unique()), subplot_titles=('Cluster 0', 'Cluster 1', 'Cluster 2'))\n",
    "\n",
    "for cluster in swd_data_diploma_type['Cluster'].unique():\n",
    "    cluster_row = swd_data_diploma_type[swd_data_diploma_type['Cluster'] == cluster]\n",
    "    cluster_index = swd_data_diploma_type['Cluster'].unique().tolist().index(cluster)\n",
    "    fig.add_trace(go.Bar(x=cluster_row['Category'], y=cluster_row['Advanced Regents %'], name='Advanced Regents Diploma', marker=dict(color=colors[0])), row=1, col=cluster_index+1)\n",
    "    fig.add_trace(go.Bar(x=cluster_row['Category'], y=cluster_row['Regents without Advanced %'], name='Regular Regents Diploma', marker=dict(color=colors[1])), row=1, col=cluster_index+1)\n",
    "    fig.add_trace(go.Bar(x=cluster_row['Category'], y=cluster_row['Local %'], name='Local Diploma', marker=dict(color=colors[2])), row=1, col=cluster_index+1)\n",
    "    fig.update_yaxes(range=[0, max(swd_data_diploma_type[['Advanced Regents %', 'Regents without Advanced %', 'Local %']].max(axis=1))], title_text='Distribution %')\n",
    "\n",
    "for i in range(len(fig.data) - 3):\n",
    "    fig.data[i].showlegend=False\n",
    "\n",
    "fig.update_layout(title_text='Distribution of Graduates Per Disability Status in Every Cluster Based on the Type of Diploma')\n",
    "fig.show()"
   ]
  },
  {
   "cell_type": "markdown",
   "metadata": {},
   "source": [
    "### Dropouts"
   ]
  },
  {
   "cell_type": "code",
   "execution_count": 346,
   "metadata": {},
   "outputs": [
    {
     "data": {
      "text/html": [
       "<div>\n",
       "<style scoped>\n",
       "    .dataframe tbody tr th:only-of-type {\n",
       "        vertical-align: middle;\n",
       "    }\n",
       "\n",
       "    .dataframe tbody tr th {\n",
       "        vertical-align: top;\n",
       "    }\n",
       "\n",
       "    .dataframe thead th {\n",
       "        text-align: right;\n",
       "    }\n",
       "</style>\n",
       "<table border=\"1\" class=\"dataframe\">\n",
       "  <thead>\n",
       "    <tr style=\"text-align: right;\">\n",
       "      <th></th>\n",
       "      <th>Category</th>\n",
       "      <th>Cluster</th>\n",
       "      <th># Dropout</th>\n",
       "      <th># Total Cohort</th>\n",
       "      <th># Grads</th>\n",
       "      <th># No Grads</th>\n",
       "      <th>Dropout %</th>\n",
       "    </tr>\n",
       "  </thead>\n",
       "  <tbody>\n",
       "    <tr>\n",
       "      <th>0</th>\n",
       "      <td>Not SWD</td>\n",
       "      <td>0</td>\n",
       "      <td>19376.0</td>\n",
       "      <td>79065</td>\n",
       "      <td>32028.0</td>\n",
       "      <td>47037.0</td>\n",
       "      <td>41.193103</td>\n",
       "    </tr>\n",
       "    <tr>\n",
       "      <th>1</th>\n",
       "      <td>Not SWD</td>\n",
       "      <td>1</td>\n",
       "      <td>49474.0</td>\n",
       "      <td>507699</td>\n",
       "      <td>400833.0</td>\n",
       "      <td>106866.0</td>\n",
       "      <td>46.295361</td>\n",
       "    </tr>\n",
       "    <tr>\n",
       "      <th>2</th>\n",
       "      <td>Not SWD</td>\n",
       "      <td>2</td>\n",
       "      <td>12732.0</td>\n",
       "      <td>639780</td>\n",
       "      <td>571944.0</td>\n",
       "      <td>67836.0</td>\n",
       "      <td>18.768795</td>\n",
       "    </tr>\n",
       "    <tr>\n",
       "      <th>3</th>\n",
       "      <td>SWD</td>\n",
       "      <td>0</td>\n",
       "      <td>5487.0</td>\n",
       "      <td>23602</td>\n",
       "      <td>9187.0</td>\n",
       "      <td>14415.0</td>\n",
       "      <td>38.064516</td>\n",
       "    </tr>\n",
       "    <tr>\n",
       "      <th>4</th>\n",
       "      <td>SWD</td>\n",
       "      <td>1</td>\n",
       "      <td>20724.0</td>\n",
       "      <td>111512</td>\n",
       "      <td>75789.0</td>\n",
       "      <td>35723.0</td>\n",
       "      <td>58.013045</td>\n",
       "    </tr>\n",
       "    <tr>\n",
       "      <th>5</th>\n",
       "      <td>SWD</td>\n",
       "      <td>2</td>\n",
       "      <td>7212.0</td>\n",
       "      <td>100172</td>\n",
       "      <td>84758.0</td>\n",
       "      <td>15414.0</td>\n",
       "      <td>46.788634</td>\n",
       "    </tr>\n",
       "  </tbody>\n",
       "</table>\n",
       "</div>"
      ],
      "text/plain": [
       "  Category  Cluster  # Dropout  # Total Cohort   # Grads  # No Grads  \\\n",
       "0  Not SWD        0    19376.0           79065   32028.0     47037.0   \n",
       "1  Not SWD        1    49474.0          507699  400833.0    106866.0   \n",
       "2  Not SWD        2    12732.0          639780  571944.0     67836.0   \n",
       "3      SWD        0     5487.0           23602    9187.0     14415.0   \n",
       "4      SWD        1    20724.0          111512   75789.0     35723.0   \n",
       "5      SWD        2     7212.0          100172   84758.0     15414.0   \n",
       "\n",
       "   Dropout %  \n",
       "0  41.193103  \n",
       "1  46.295361  \n",
       "2  18.768795  \n",
       "3  38.064516  \n",
       "4  58.013045  \n",
       "5  46.788634  "
      ]
     },
     "execution_count": 346,
     "metadata": {},
     "output_type": "execute_result"
    }
   ],
   "source": [
    "swd_data_dropout = filter_dropout(swd_data)\n",
    "swd_data_dropout"
   ]
  },
  {
   "cell_type": "code",
   "execution_count": 353,
   "metadata": {},
   "outputs": [
    {
     "data": {
      "application/vnd.plotly.v1+json": {
       "config": {
        "plotlyServerURL": "https://plot.ly"
       },
       "data": [
        {
         "marker": {
          "color": "#1f77b4"
         },
         "showlegend": false,
         "type": "bar",
         "x": [
          "Not SWD"
         ],
         "xaxis": "x",
         "y": [
          41.193103301656144
         ],
         "yaxis": "y"
        },
        {
         "marker": {
          "color": "#ff7f0e"
         },
         "showlegend": false,
         "type": "bar",
         "x": [
          "SWD"
         ],
         "xaxis": "x",
         "y": [
          38.064516129032256
         ],
         "yaxis": "y"
        },
        {
         "marker": {
          "color": "#1f77b4"
         },
         "showlegend": false,
         "type": "bar",
         "x": [
          "Not SWD"
         ],
         "xaxis": "x2",
         "y": [
          46.29536054498157
         ],
         "yaxis": "y2"
        },
        {
         "marker": {
          "color": "#ff7f0e"
         },
         "showlegend": false,
         "type": "bar",
         "x": [
          "SWD"
         ],
         "xaxis": "x2",
         "y": [
          58.01304481706464
         ],
         "yaxis": "y2"
        },
        {
         "marker": {
          "color": "#1f77b4"
         },
         "showlegend": false,
         "type": "bar",
         "x": [
          "Not SWD"
         ],
         "xaxis": "x3",
         "y": [
          18.76879532991332
         ],
         "yaxis": "y3"
        },
        {
         "marker": {
          "color": "#ff7f0e"
         },
         "showlegend": false,
         "type": "bar",
         "x": [
          "SWD"
         ],
         "xaxis": "x3",
         "y": [
          46.788633709614636
         ],
         "yaxis": "y3"
        }
       ],
       "layout": {
        "annotations": [
         {
          "font": {
           "size": 16
          },
          "showarrow": false,
          "text": "Cluster 0",
          "x": 0.14444444444444446,
          "xanchor": "center",
          "xref": "paper",
          "y": 1,
          "yanchor": "bottom",
          "yref": "paper"
         },
         {
          "font": {
           "size": 16
          },
          "showarrow": false,
          "text": "Cluster 1",
          "x": 0.5,
          "xanchor": "center",
          "xref": "paper",
          "y": 1,
          "yanchor": "bottom",
          "yref": "paper"
         },
         {
          "font": {
           "size": 16
          },
          "showarrow": false,
          "text": "Cluster 2",
          "x": 0.8555555555555556,
          "xanchor": "center",
          "xref": "paper",
          "y": 1,
          "yanchor": "bottom",
          "yref": "paper"
         }
        ],
        "template": {
         "layout": {
          "plot_bgcolor": "white",
          "xaxis": {
           "gridcolor": "lightgray"
          },
          "yaxis": {
           "gridcolor": "lightgray"
          }
         }
        },
        "xaxis": {
         "anchor": "y",
         "domain": [
          0,
          0.2888888888888889
         ]
        },
        "xaxis2": {
         "anchor": "y2",
         "domain": [
          0.35555555555555557,
          0.6444444444444445
         ]
        },
        "xaxis3": {
         "anchor": "y3",
         "domain": [
          0.7111111111111111,
          1
         ]
        },
        "yaxis": {
         "anchor": "x",
         "domain": [
          0,
          1
         ],
         "range": [
          0,
          58.01304481706464
         ],
         "title": {
          "text": "Dropout %"
         }
        },
        "yaxis2": {
         "anchor": "x2",
         "domain": [
          0,
          1
         ],
         "range": [
          0,
          58.01304481706464
         ],
         "title": {
          "text": "Dropout %"
         }
        },
        "yaxis3": {
         "anchor": "x3",
         "domain": [
          0,
          1
         ],
         "range": [
          0,
          58.01304481706464
         ],
         "title": {
          "text": "Dropout %"
         }
        }
       }
      }
     },
     "metadata": {},
     "output_type": "display_data"
    }
   ],
   "source": [
    "fig = make_subplots(rows=1, cols=len(swd_data_dropout['Cluster'].unique()), subplot_titles=('Cluster 0', 'Cluster 1', 'Cluster 2'))\n",
    "\n",
    "for cluster in swd_data_dropout['Cluster'].unique():\n",
    "    cluster_row =  swd_data_dropout[swd_data_dropout['Cluster'] == cluster]\n",
    "    cluster_index = swd_data_dropout['Cluster'].unique().tolist().index(cluster)\n",
    "    for category in cluster_row['Category'].unique():\n",
    "        category_row = cluster_row[cluster_row['Category'] == category]\n",
    "        category_index = cluster_row['Category'].unique().tolist().index(category)\n",
    "        fig.add_trace(go.Bar(x=category_row['Category'], y=category_row['Dropout %'], marker=dict(color=colors[category_index]), showlegend=False), row=1, col=cluster_index+1)\n",
    "        fig.update_yaxes(range=[0, swd_data_dropout['Dropout %'].max()], title_text='Dropout %')\n",
    "\n",
    "fig.show()"
   ]
  },
  {
   "cell_type": "code",
   "execution_count": 355,
   "metadata": {},
   "outputs": [
    {
     "data": {
      "text/html": [
       "<div>\n",
       "<style scoped>\n",
       "    .dataframe tbody tr th:only-of-type {\n",
       "        vertical-align: middle;\n",
       "    }\n",
       "\n",
       "    .dataframe tbody tr th {\n",
       "        vertical-align: top;\n",
       "    }\n",
       "\n",
       "    .dataframe thead th {\n",
       "        text-align: right;\n",
       "    }\n",
       "</style>\n",
       "<table border=\"1\" class=\"dataframe\">\n",
       "  <thead>\n",
       "    <tr style=\"text-align: right;\">\n",
       "      <th></th>\n",
       "      <th>Category</th>\n",
       "      <th>Graduation Year</th>\n",
       "      <th>Cluster</th>\n",
       "      <th># Dropout</th>\n",
       "      <th># Total Cohort</th>\n",
       "      <th># Grads</th>\n",
       "      <th># No Grads</th>\n",
       "      <th>Dropout %</th>\n",
       "    </tr>\n",
       "  </thead>\n",
       "  <tbody>\n",
       "    <tr>\n",
       "      <th>0</th>\n",
       "      <td>Not SWD</td>\n",
       "      <td>2018</td>\n",
       "      <td>0</td>\n",
       "      <td>3677.0</td>\n",
       "      <td>13293</td>\n",
       "      <td>4775.0</td>\n",
       "      <td>8518.0</td>\n",
       "      <td>43.167410</td>\n",
       "    </tr>\n",
       "    <tr>\n",
       "      <th>1</th>\n",
       "      <td>Not SWD</td>\n",
       "      <td>2018</td>\n",
       "      <td>1</td>\n",
       "      <td>9059.0</td>\n",
       "      <td>75877</td>\n",
       "      <td>56388.0</td>\n",
       "      <td>19489.0</td>\n",
       "      <td>46.482631</td>\n",
       "    </tr>\n",
       "    <tr>\n",
       "      <th>2</th>\n",
       "      <td>Not SWD</td>\n",
       "      <td>2018</td>\n",
       "      <td>2</td>\n",
       "      <td>2056.0</td>\n",
       "      <td>91847</td>\n",
       "      <td>78837.0</td>\n",
       "      <td>13010.0</td>\n",
       "      <td>15.803228</td>\n",
       "    </tr>\n",
       "    <tr>\n",
       "      <th>3</th>\n",
       "      <td>Not SWD</td>\n",
       "      <td>2019</td>\n",
       "      <td>0</td>\n",
       "      <td>3638.0</td>\n",
       "      <td>12981</td>\n",
       "      <td>4643.0</td>\n",
       "      <td>8338.0</td>\n",
       "      <td>43.631566</td>\n",
       "    </tr>\n",
       "    <tr>\n",
       "      <th>4</th>\n",
       "      <td>Not SWD</td>\n",
       "      <td>2019</td>\n",
       "      <td>1</td>\n",
       "      <td>9058.0</td>\n",
       "      <td>75386</td>\n",
       "      <td>57049.0</td>\n",
       "      <td>18337.0</td>\n",
       "      <td>49.397393</td>\n",
       "    </tr>\n",
       "    <tr>\n",
       "      <th>5</th>\n",
       "      <td>Not SWD</td>\n",
       "      <td>2019</td>\n",
       "      <td>2</td>\n",
       "      <td>2265.0</td>\n",
       "      <td>91711</td>\n",
       "      <td>80435.0</td>\n",
       "      <td>11276.0</td>\n",
       "      <td>20.086910</td>\n",
       "    </tr>\n",
       "    <tr>\n",
       "      <th>6</th>\n",
       "      <td>Not SWD</td>\n",
       "      <td>2020</td>\n",
       "      <td>0</td>\n",
       "      <td>2859.0</td>\n",
       "      <td>12766</td>\n",
       "      <td>4898.0</td>\n",
       "      <td>7868.0</td>\n",
       "      <td>36.337062</td>\n",
       "    </tr>\n",
       "    <tr>\n",
       "      <th>7</th>\n",
       "      <td>Not SWD</td>\n",
       "      <td>2020</td>\n",
       "      <td>1</td>\n",
       "      <td>7941.0</td>\n",
       "      <td>75365</td>\n",
       "      <td>58782.0</td>\n",
       "      <td>16583.0</td>\n",
       "      <td>47.886390</td>\n",
       "    </tr>\n",
       "    <tr>\n",
       "      <th>8</th>\n",
       "      <td>Not SWD</td>\n",
       "      <td>2020</td>\n",
       "      <td>2</td>\n",
       "      <td>1962.0</td>\n",
       "      <td>91763</td>\n",
       "      <td>81278.0</td>\n",
       "      <td>10485.0</td>\n",
       "      <td>18.712446</td>\n",
       "    </tr>\n",
       "    <tr>\n",
       "      <th>9</th>\n",
       "      <td>Not SWD</td>\n",
       "      <td>2021</td>\n",
       "      <td>0</td>\n",
       "      <td>2167.0</td>\n",
       "      <td>11507</td>\n",
       "      <td>4875.0</td>\n",
       "      <td>6632.0</td>\n",
       "      <td>32.674910</td>\n",
       "    </tr>\n",
       "    <tr>\n",
       "      <th>10</th>\n",
       "      <td>Not SWD</td>\n",
       "      <td>2021</td>\n",
       "      <td>1</td>\n",
       "      <td>6738.0</td>\n",
       "      <td>73757</td>\n",
       "      <td>59118.0</td>\n",
       "      <td>14639.0</td>\n",
       "      <td>46.027734</td>\n",
       "    </tr>\n",
       "    <tr>\n",
       "      <th>11</th>\n",
       "      <td>Not SWD</td>\n",
       "      <td>2021</td>\n",
       "      <td>2</td>\n",
       "      <td>1640.0</td>\n",
       "      <td>91622</td>\n",
       "      <td>82939.0</td>\n",
       "      <td>8683.0</td>\n",
       "      <td>18.887481</td>\n",
       "    </tr>\n",
       "    <tr>\n",
       "      <th>12</th>\n",
       "      <td>Not SWD</td>\n",
       "      <td>2022</td>\n",
       "      <td>0</td>\n",
       "      <td>2411.0</td>\n",
       "      <td>10038</td>\n",
       "      <td>4509.0</td>\n",
       "      <td>5529.0</td>\n",
       "      <td>43.606439</td>\n",
       "    </tr>\n",
       "    <tr>\n",
       "      <th>13</th>\n",
       "      <td>Not SWD</td>\n",
       "      <td>2022</td>\n",
       "      <td>1</td>\n",
       "      <td>6302.0</td>\n",
       "      <td>71750</td>\n",
       "      <td>58325.0</td>\n",
       "      <td>13425.0</td>\n",
       "      <td>46.942272</td>\n",
       "    </tr>\n",
       "    <tr>\n",
       "      <th>14</th>\n",
       "      <td>Not SWD</td>\n",
       "      <td>2022</td>\n",
       "      <td>2</td>\n",
       "      <td>1621.0</td>\n",
       "      <td>91760</td>\n",
       "      <td>82940.0</td>\n",
       "      <td>8820.0</td>\n",
       "      <td>18.378685</td>\n",
       "    </tr>\n",
       "    <tr>\n",
       "      <th>15</th>\n",
       "      <td>Not SWD</td>\n",
       "      <td>2023</td>\n",
       "      <td>0</td>\n",
       "      <td>2265.0</td>\n",
       "      <td>9138</td>\n",
       "      <td>4068.0</td>\n",
       "      <td>5070.0</td>\n",
       "      <td>44.674556</td>\n",
       "    </tr>\n",
       "    <tr>\n",
       "      <th>16</th>\n",
       "      <td>Not SWD</td>\n",
       "      <td>2023</td>\n",
       "      <td>1</td>\n",
       "      <td>5453.0</td>\n",
       "      <td>69147</td>\n",
       "      <td>56584.0</td>\n",
       "      <td>12563.0</td>\n",
       "      <td>43.405238</td>\n",
       "    </tr>\n",
       "    <tr>\n",
       "      <th>17</th>\n",
       "      <td>Not SWD</td>\n",
       "      <td>2023</td>\n",
       "      <td>2</td>\n",
       "      <td>1605.0</td>\n",
       "      <td>91112</td>\n",
       "      <td>82949.0</td>\n",
       "      <td>8163.0</td>\n",
       "      <td>19.661889</td>\n",
       "    </tr>\n",
       "    <tr>\n",
       "      <th>18</th>\n",
       "      <td>Not SWD</td>\n",
       "      <td>2024</td>\n",
       "      <td>0</td>\n",
       "      <td>2359.0</td>\n",
       "      <td>9342</td>\n",
       "      <td>4260.0</td>\n",
       "      <td>5082.0</td>\n",
       "      <td>46.418733</td>\n",
       "    </tr>\n",
       "    <tr>\n",
       "      <th>19</th>\n",
       "      <td>Not SWD</td>\n",
       "      <td>2024</td>\n",
       "      <td>1</td>\n",
       "      <td>4923.0</td>\n",
       "      <td>66417</td>\n",
       "      <td>54587.0</td>\n",
       "      <td>11830.0</td>\n",
       "      <td>41.614539</td>\n",
       "    </tr>\n",
       "    <tr>\n",
       "      <th>20</th>\n",
       "      <td>Not SWD</td>\n",
       "      <td>2024</td>\n",
       "      <td>2</td>\n",
       "      <td>1583.0</td>\n",
       "      <td>89965</td>\n",
       "      <td>82566.0</td>\n",
       "      <td>7399.0</td>\n",
       "      <td>21.394783</td>\n",
       "    </tr>\n",
       "    <tr>\n",
       "      <th>21</th>\n",
       "      <td>SWD</td>\n",
       "      <td>2018</td>\n",
       "      <td>0</td>\n",
       "      <td>833.0</td>\n",
       "      <td>3238</td>\n",
       "      <td>1098.0</td>\n",
       "      <td>2140.0</td>\n",
       "      <td>38.925234</td>\n",
       "    </tr>\n",
       "    <tr>\n",
       "      <th>22</th>\n",
       "      <td>SWD</td>\n",
       "      <td>2018</td>\n",
       "      <td>1</td>\n",
       "      <td>3962.0</td>\n",
       "      <td>16725</td>\n",
       "      <td>9576.0</td>\n",
       "      <td>7149.0</td>\n",
       "      <td>55.420339</td>\n",
       "    </tr>\n",
       "    <tr>\n",
       "      <th>23</th>\n",
       "      <td>SWD</td>\n",
       "      <td>2018</td>\n",
       "      <td>2</td>\n",
       "      <td>1140.0</td>\n",
       "      <td>12358</td>\n",
       "      <td>9606.0</td>\n",
       "      <td>2752.0</td>\n",
       "      <td>41.424419</td>\n",
       "    </tr>\n",
       "    <tr>\n",
       "      <th>24</th>\n",
       "      <td>SWD</td>\n",
       "      <td>2019</td>\n",
       "      <td>0</td>\n",
       "      <td>932.0</td>\n",
       "      <td>3466</td>\n",
       "      <td>1185.0</td>\n",
       "      <td>2281.0</td>\n",
       "      <td>40.859272</td>\n",
       "    </tr>\n",
       "    <tr>\n",
       "      <th>25</th>\n",
       "      <td>SWD</td>\n",
       "      <td>2019</td>\n",
       "      <td>1</td>\n",
       "      <td>4011.0</td>\n",
       "      <td>16474</td>\n",
       "      <td>9979.0</td>\n",
       "      <td>6495.0</td>\n",
       "      <td>61.755196</td>\n",
       "    </tr>\n",
       "    <tr>\n",
       "      <th>26</th>\n",
       "      <td>SWD</td>\n",
       "      <td>2019</td>\n",
       "      <td>2</td>\n",
       "      <td>1283.0</td>\n",
       "      <td>13106</td>\n",
       "      <td>10449.0</td>\n",
       "      <td>2657.0</td>\n",
       "      <td>48.287542</td>\n",
       "    </tr>\n",
       "    <tr>\n",
       "      <th>27</th>\n",
       "      <td>SWD</td>\n",
       "      <td>2020</td>\n",
       "      <td>0</td>\n",
       "      <td>765.0</td>\n",
       "      <td>3730</td>\n",
       "      <td>1349.0</td>\n",
       "      <td>2381.0</td>\n",
       "      <td>32.129357</td>\n",
       "    </tr>\n",
       "    <tr>\n",
       "      <th>28</th>\n",
       "      <td>SWD</td>\n",
       "      <td>2020</td>\n",
       "      <td>1</td>\n",
       "      <td>3297.0</td>\n",
       "      <td>16154</td>\n",
       "      <td>10450.0</td>\n",
       "      <td>5704.0</td>\n",
       "      <td>57.801543</td>\n",
       "    </tr>\n",
       "    <tr>\n",
       "      <th>29</th>\n",
       "      <td>SWD</td>\n",
       "      <td>2020</td>\n",
       "      <td>2</td>\n",
       "      <td>1189.0</td>\n",
       "      <td>13759</td>\n",
       "      <td>11298.0</td>\n",
       "      <td>2461.0</td>\n",
       "      <td>48.313694</td>\n",
       "    </tr>\n",
       "    <tr>\n",
       "      <th>30</th>\n",
       "      <td>SWD</td>\n",
       "      <td>2021</td>\n",
       "      <td>0</td>\n",
       "      <td>679.0</td>\n",
       "      <td>3550</td>\n",
       "      <td>1451.0</td>\n",
       "      <td>2099.0</td>\n",
       "      <td>32.348737</td>\n",
       "    </tr>\n",
       "    <tr>\n",
       "      <th>31</th>\n",
       "      <td>SWD</td>\n",
       "      <td>2021</td>\n",
       "      <td>1</td>\n",
       "      <td>2762.0</td>\n",
       "      <td>15801</td>\n",
       "      <td>10782.0</td>\n",
       "      <td>5019.0</td>\n",
       "      <td>55.030883</td>\n",
       "    </tr>\n",
       "    <tr>\n",
       "      <th>32</th>\n",
       "      <td>SWD</td>\n",
       "      <td>2021</td>\n",
       "      <td>2</td>\n",
       "      <td>1028.0</td>\n",
       "      <td>14563</td>\n",
       "      <td>12320.0</td>\n",
       "      <td>2243.0</td>\n",
       "      <td>45.831476</td>\n",
       "    </tr>\n",
       "    <tr>\n",
       "      <th>33</th>\n",
       "      <td>SWD</td>\n",
       "      <td>2022</td>\n",
       "      <td>0</td>\n",
       "      <td>680.0</td>\n",
       "      <td>3295</td>\n",
       "      <td>1399.0</td>\n",
       "      <td>1896.0</td>\n",
       "      <td>35.864979</td>\n",
       "    </tr>\n",
       "    <tr>\n",
       "      <th>34</th>\n",
       "      <td>SWD</td>\n",
       "      <td>2022</td>\n",
       "      <td>1</td>\n",
       "      <td>2534.0</td>\n",
       "      <td>15529</td>\n",
       "      <td>11235.0</td>\n",
       "      <td>4294.0</td>\n",
       "      <td>59.012576</td>\n",
       "    </tr>\n",
       "    <tr>\n",
       "      <th>35</th>\n",
       "      <td>SWD</td>\n",
       "      <td>2022</td>\n",
       "      <td>2</td>\n",
       "      <td>930.0</td>\n",
       "      <td>15190</td>\n",
       "      <td>13243.0</td>\n",
       "      <td>1947.0</td>\n",
       "      <td>47.765794</td>\n",
       "    </tr>\n",
       "    <tr>\n",
       "      <th>36</th>\n",
       "      <td>SWD</td>\n",
       "      <td>2023</td>\n",
       "      <td>0</td>\n",
       "      <td>763.0</td>\n",
       "      <td>3112</td>\n",
       "      <td>1294.0</td>\n",
       "      <td>1818.0</td>\n",
       "      <td>41.969197</td>\n",
       "    </tr>\n",
       "    <tr>\n",
       "      <th>37</th>\n",
       "      <td>SWD</td>\n",
       "      <td>2023</td>\n",
       "      <td>1</td>\n",
       "      <td>2221.0</td>\n",
       "      <td>15454</td>\n",
       "      <td>11784.0</td>\n",
       "      <td>3670.0</td>\n",
       "      <td>60.517711</td>\n",
       "    </tr>\n",
       "    <tr>\n",
       "      <th>38</th>\n",
       "      <td>SWD</td>\n",
       "      <td>2023</td>\n",
       "      <td>2</td>\n",
       "      <td>843.0</td>\n",
       "      <td>15552</td>\n",
       "      <td>13827.0</td>\n",
       "      <td>1725.0</td>\n",
       "      <td>48.869565</td>\n",
       "    </tr>\n",
       "    <tr>\n",
       "      <th>39</th>\n",
       "      <td>SWD</td>\n",
       "      <td>2024</td>\n",
       "      <td>0</td>\n",
       "      <td>835.0</td>\n",
       "      <td>3211</td>\n",
       "      <td>1411.0</td>\n",
       "      <td>1800.0</td>\n",
       "      <td>46.388889</td>\n",
       "    </tr>\n",
       "    <tr>\n",
       "      <th>40</th>\n",
       "      <td>SWD</td>\n",
       "      <td>2024</td>\n",
       "      <td>1</td>\n",
       "      <td>1937.0</td>\n",
       "      <td>15375</td>\n",
       "      <td>11983.0</td>\n",
       "      <td>3392.0</td>\n",
       "      <td>57.104953</td>\n",
       "    </tr>\n",
       "    <tr>\n",
       "      <th>41</th>\n",
       "      <td>SWD</td>\n",
       "      <td>2024</td>\n",
       "      <td>2</td>\n",
       "      <td>799.0</td>\n",
       "      <td>15644</td>\n",
       "      <td>14015.0</td>\n",
       "      <td>1629.0</td>\n",
       "      <td>49.048496</td>\n",
       "    </tr>\n",
       "  </tbody>\n",
       "</table>\n",
       "</div>"
      ],
      "text/plain": [
       "   Category  Graduation Year  Cluster  # Dropout  # Total Cohort  # Grads  \\\n",
       "0   Not SWD             2018        0     3677.0           13293   4775.0   \n",
       "1   Not SWD             2018        1     9059.0           75877  56388.0   \n",
       "2   Not SWD             2018        2     2056.0           91847  78837.0   \n",
       "3   Not SWD             2019        0     3638.0           12981   4643.0   \n",
       "4   Not SWD             2019        1     9058.0           75386  57049.0   \n",
       "5   Not SWD             2019        2     2265.0           91711  80435.0   \n",
       "6   Not SWD             2020        0     2859.0           12766   4898.0   \n",
       "7   Not SWD             2020        1     7941.0           75365  58782.0   \n",
       "8   Not SWD             2020        2     1962.0           91763  81278.0   \n",
       "9   Not SWD             2021        0     2167.0           11507   4875.0   \n",
       "10  Not SWD             2021        1     6738.0           73757  59118.0   \n",
       "11  Not SWD             2021        2     1640.0           91622  82939.0   \n",
       "12  Not SWD             2022        0     2411.0           10038   4509.0   \n",
       "13  Not SWD             2022        1     6302.0           71750  58325.0   \n",
       "14  Not SWD             2022        2     1621.0           91760  82940.0   \n",
       "15  Not SWD             2023        0     2265.0            9138   4068.0   \n",
       "16  Not SWD             2023        1     5453.0           69147  56584.0   \n",
       "17  Not SWD             2023        2     1605.0           91112  82949.0   \n",
       "18  Not SWD             2024        0     2359.0            9342   4260.0   \n",
       "19  Not SWD             2024        1     4923.0           66417  54587.0   \n",
       "20  Not SWD             2024        2     1583.0           89965  82566.0   \n",
       "21      SWD             2018        0      833.0            3238   1098.0   \n",
       "22      SWD             2018        1     3962.0           16725   9576.0   \n",
       "23      SWD             2018        2     1140.0           12358   9606.0   \n",
       "24      SWD             2019        0      932.0            3466   1185.0   \n",
       "25      SWD             2019        1     4011.0           16474   9979.0   \n",
       "26      SWD             2019        2     1283.0           13106  10449.0   \n",
       "27      SWD             2020        0      765.0            3730   1349.0   \n",
       "28      SWD             2020        1     3297.0           16154  10450.0   \n",
       "29      SWD             2020        2     1189.0           13759  11298.0   \n",
       "30      SWD             2021        0      679.0            3550   1451.0   \n",
       "31      SWD             2021        1     2762.0           15801  10782.0   \n",
       "32      SWD             2021        2     1028.0           14563  12320.0   \n",
       "33      SWD             2022        0      680.0            3295   1399.0   \n",
       "34      SWD             2022        1     2534.0           15529  11235.0   \n",
       "35      SWD             2022        2      930.0           15190  13243.0   \n",
       "36      SWD             2023        0      763.0            3112   1294.0   \n",
       "37      SWD             2023        1     2221.0           15454  11784.0   \n",
       "38      SWD             2023        2      843.0           15552  13827.0   \n",
       "39      SWD             2024        0      835.0            3211   1411.0   \n",
       "40      SWD             2024        1     1937.0           15375  11983.0   \n",
       "41      SWD             2024        2      799.0           15644  14015.0   \n",
       "\n",
       "    # No Grads  Dropout %  \n",
       "0       8518.0  43.167410  \n",
       "1      19489.0  46.482631  \n",
       "2      13010.0  15.803228  \n",
       "3       8338.0  43.631566  \n",
       "4      18337.0  49.397393  \n",
       "5      11276.0  20.086910  \n",
       "6       7868.0  36.337062  \n",
       "7      16583.0  47.886390  \n",
       "8      10485.0  18.712446  \n",
       "9       6632.0  32.674910  \n",
       "10     14639.0  46.027734  \n",
       "11      8683.0  18.887481  \n",
       "12      5529.0  43.606439  \n",
       "13     13425.0  46.942272  \n",
       "14      8820.0  18.378685  \n",
       "15      5070.0  44.674556  \n",
       "16     12563.0  43.405238  \n",
       "17      8163.0  19.661889  \n",
       "18      5082.0  46.418733  \n",
       "19     11830.0  41.614539  \n",
       "20      7399.0  21.394783  \n",
       "21      2140.0  38.925234  \n",
       "22      7149.0  55.420339  \n",
       "23      2752.0  41.424419  \n",
       "24      2281.0  40.859272  \n",
       "25      6495.0  61.755196  \n",
       "26      2657.0  48.287542  \n",
       "27      2381.0  32.129357  \n",
       "28      5704.0  57.801543  \n",
       "29      2461.0  48.313694  \n",
       "30      2099.0  32.348737  \n",
       "31      5019.0  55.030883  \n",
       "32      2243.0  45.831476  \n",
       "33      1896.0  35.864979  \n",
       "34      4294.0  59.012576  \n",
       "35      1947.0  47.765794  \n",
       "36      1818.0  41.969197  \n",
       "37      3670.0  60.517711  \n",
       "38      1725.0  48.869565  \n",
       "39      1800.0  46.388889  \n",
       "40      3392.0  57.104953  \n",
       "41      1629.0  49.048496  "
      ]
     },
     "execution_count": 355,
     "metadata": {},
     "output_type": "execute_result"
    }
   ],
   "source": [
    "swd_data_dropout_per_year = filter_dropout_per_year(swd_data)\n",
    "swd_data_dropout_per_year"
   ]
  },
  {
   "cell_type": "code",
   "execution_count": 363,
   "metadata": {},
   "outputs": [
    {
     "data": {
      "application/vnd.plotly.v1+json": {
       "config": {
        "plotlyServerURL": "https://plot.ly"
       },
       "data": [
        {
         "line": {
          "color": "#1f77b4"
         },
         "name": "Not SWD",
         "showlegend": false,
         "type": "scatter",
         "x": [
          2018,
          2019,
          2020,
          2021,
          2022,
          2023,
          2024
         ],
         "xaxis": "x",
         "y": [
          43.16741019018549,
          43.6315663228592,
          36.33706151499746,
          32.67490952955368,
          43.60643877735576,
          44.67455621301775,
          46.41873278236915
         ],
         "yaxis": "y"
        },
        {
         "line": {
          "color": "#ff7f0e"
         },
         "name": "SWD",
         "showlegend": false,
         "type": "scatter",
         "x": [
          2018,
          2019,
          2020,
          2021,
          2022,
          2023,
          2024
         ],
         "xaxis": "x",
         "y": [
          38.925233644859816,
          40.85927224901359,
          32.129357412851746,
          32.348737494044784,
          35.86497890295359,
          41.96919691969197,
          46.38888888888889
         ],
         "yaxis": "y"
        },
        {
         "line": {
          "color": "#1f77b4"
         },
         "name": "Not SWD",
         "showlegend": false,
         "type": "scatter",
         "x": [
          2018,
          2019,
          2020,
          2021,
          2022,
          2023,
          2024
         ],
         "xaxis": "x2",
         "y": [
          46.48263122787213,
          49.397393248623004,
          47.886389676174396,
          46.027734134845275,
          46.94227188081937,
          43.40523760248348,
          41.614539306847
         ],
         "yaxis": "y2"
        },
        {
         "line": {
          "color": "#ff7f0e"
         },
         "name": "SWD",
         "showlegend": false,
         "type": "scatter",
         "x": [
          2018,
          2019,
          2020,
          2021,
          2022,
          2023,
          2024
         ],
         "xaxis": "x2",
         "y": [
          55.42033850888236,
          61.75519630484988,
          57.801542776998595,
          55.03088264594541,
          59.01257568700512,
          60.51771117166213,
          57.10495283018868
         ],
         "yaxis": "y2"
        },
        {
         "line": {
          "color": "#1f77b4"
         },
         "name": "Not SWD",
         "type": "scatter",
         "x": [
          2018,
          2019,
          2020,
          2021,
          2022,
          2023,
          2024
         ],
         "xaxis": "x3",
         "y": [
          15.803228285933896,
          20.086910251862363,
          18.71244635193133,
          18.88748128527007,
          18.378684807256235,
          19.66188901139287,
          21.394783078794433
         ],
         "yaxis": "y3"
        },
        {
         "line": {
          "color": "#ff7f0e"
         },
         "name": "SWD",
         "type": "scatter",
         "x": [
          2018,
          2019,
          2020,
          2021,
          2022,
          2023,
          2024
         ],
         "xaxis": "x3",
         "y": [
          41.424418604651166,
          48.28754234098607,
          48.313693620479484,
          45.83147570218458,
          47.76579352850539,
          48.869565217391305,
          49.04849600982198
         ],
         "yaxis": "y3"
        }
       ],
       "layout": {
        "annotations": [
         {
          "font": {
           "size": 16
          },
          "showarrow": false,
          "text": "Cluster 0",
          "x": 0.14444444444444446,
          "xanchor": "center",
          "xref": "paper",
          "y": 1,
          "yanchor": "bottom",
          "yref": "paper"
         },
         {
          "font": {
           "size": 16
          },
          "showarrow": false,
          "text": "Cluster 1",
          "x": 0.5,
          "xanchor": "center",
          "xref": "paper",
          "y": 1,
          "yanchor": "bottom",
          "yref": "paper"
         },
         {
          "font": {
           "size": 16
          },
          "showarrow": false,
          "text": "Cluster 2",
          "x": 0.8555555555555556,
          "xanchor": "center",
          "xref": "paper",
          "y": 1,
          "yanchor": "bottom",
          "yref": "paper"
         }
        ],
        "template": {
         "layout": {
          "plot_bgcolor": "white",
          "xaxis": {
           "gridcolor": "lightgray"
          },
          "yaxis": {
           "gridcolor": "lightgray"
          }
         }
        },
        "title": {
         "text": "Dropout Rates per Year for Each Cohort According to Disability Status"
        },
        "xaxis": {
         "anchor": "y",
         "domain": [
          0,
          0.2888888888888889
         ],
         "title": {
          "text": "Year"
         }
        },
        "xaxis2": {
         "anchor": "y2",
         "domain": [
          0.35555555555555557,
          0.6444444444444445
         ],
         "title": {
          "text": "Year"
         }
        },
        "xaxis3": {
         "anchor": "y3",
         "domain": [
          0.7111111111111111,
          1
         ],
         "title": {
          "text": "Year"
         }
        },
        "yaxis": {
         "anchor": "x",
         "domain": [
          0,
          1
         ],
         "range": [
          15.803228285933896,
          61.75519630484988
         ],
         "title": {
          "text": "Dropout %"
         }
        },
        "yaxis2": {
         "anchor": "x2",
         "domain": [
          0,
          1
         ],
         "range": [
          15.803228285933896,
          61.75519630484988
         ],
         "title": {
          "text": "Dropout %"
         }
        },
        "yaxis3": {
         "anchor": "x3",
         "domain": [
          0,
          1
         ],
         "range": [
          15.803228285933896,
          61.75519630484988
         ],
         "title": {
          "text": "Dropout %"
         }
        }
       }
      }
     },
     "metadata": {},
     "output_type": "display_data"
    }
   ],
   "source": [
    "fig = make_subplots(rows=1, cols=len(swd_data_dropout_per_year['Cluster'].unique()), subplot_titles=('Cluster 0', 'Cluster 1', 'Cluster 2'))\n",
    "\n",
    "for cluster in swd_data_dropout_per_year['Cluster'].unique():\n",
    "    cluster_row = swd_data_dropout_per_year[swd_data_dropout_per_year['Cluster'] ==  cluster]\n",
    "    cluster_index = swd_data_dropout_per_year['Cluster'].unique().tolist().index(cluster)\n",
    "    for category in cluster_row['Category'].unique():\n",
    "        category_row = cluster_row[cluster_row['Category'] == category]\n",
    "        category_index = cluster_row['Category'].unique().tolist().index(category)\n",
    "        fig.add_trace(go.Scatter(x=category_row['Graduation Year'], y=category_row['Dropout %'], name=category, line=dict(color=colors[category_index])), row=1, col=cluster_index+1)\n",
    "        fig.update_yaxes(range=[swd_data_dropout_per_year['Dropout %'].min(), swd_data_dropout_per_year['Dropout %'].max()], title_text='Dropout %')\n",
    "        fig.update_xaxes(title_text='Year')\n",
    "\n",
    "fig.update_layout(title_text='Dropout Rates per Year for Each Cohort According to Disability Status')\n",
    "\n",
    "for i in range(len(fig.data) - len(swd_data_dropout_per_year['Category'].unique())):\n",
    "    fig.data[i].showlegend=False\n",
    "\n",
    "fig.show()"
   ]
  },
  {
   "cell_type": "code",
   "execution_count": 364,
   "metadata": {},
   "outputs": [
    {
     "data": {
      "text/html": [
       "<div>\n",
       "<style scoped>\n",
       "    .dataframe tbody tr th:only-of-type {\n",
       "        vertical-align: middle;\n",
       "    }\n",
       "\n",
       "    .dataframe tbody tr th {\n",
       "        vertical-align: top;\n",
       "    }\n",
       "\n",
       "    .dataframe thead th {\n",
       "        text-align: right;\n",
       "    }\n",
       "</style>\n",
       "<table border=\"1\" class=\"dataframe\">\n",
       "  <thead>\n",
       "    <tr style=\"text-align: right;\">\n",
       "      <th></th>\n",
       "      <th>Category</th>\n",
       "      <th>Duration</th>\n",
       "      <th>Cluster</th>\n",
       "      <th># Dropout_x</th>\n",
       "      <th># Dropout_y</th>\n",
       "      <th>Dropout %</th>\n",
       "    </tr>\n",
       "  </thead>\n",
       "  <tbody>\n",
       "    <tr>\n",
       "      <th>0</th>\n",
       "      <td>Not SWD</td>\n",
       "      <td>4</td>\n",
       "      <td>0</td>\n",
       "      <td>3703.0</td>\n",
       "      <td>19376.0</td>\n",
       "      <td>19.111272</td>\n",
       "    </tr>\n",
       "    <tr>\n",
       "      <th>1</th>\n",
       "      <td>Not SWD</td>\n",
       "      <td>5</td>\n",
       "      <td>0</td>\n",
       "      <td>6811.0</td>\n",
       "      <td>19376.0</td>\n",
       "      <td>35.151734</td>\n",
       "    </tr>\n",
       "    <tr>\n",
       "      <th>2</th>\n",
       "      <td>Not SWD</td>\n",
       "      <td>6</td>\n",
       "      <td>0</td>\n",
       "      <td>8862.0</td>\n",
       "      <td>19376.0</td>\n",
       "      <td>45.736994</td>\n",
       "    </tr>\n",
       "    <tr>\n",
       "      <th>3</th>\n",
       "      <td>Not SWD</td>\n",
       "      <td>4</td>\n",
       "      <td>1</td>\n",
       "      <td>11862.0</td>\n",
       "      <td>49474.0</td>\n",
       "      <td>23.976230</td>\n",
       "    </tr>\n",
       "    <tr>\n",
       "      <th>4</th>\n",
       "      <td>Not SWD</td>\n",
       "      <td>5</td>\n",
       "      <td>1</td>\n",
       "      <td>17633.0</td>\n",
       "      <td>49474.0</td>\n",
       "      <td>35.640943</td>\n",
       "    </tr>\n",
       "    <tr>\n",
       "      <th>5</th>\n",
       "      <td>Not SWD</td>\n",
       "      <td>6</td>\n",
       "      <td>1</td>\n",
       "      <td>19979.0</td>\n",
       "      <td>49474.0</td>\n",
       "      <td>40.382827</td>\n",
       "    </tr>\n",
       "    <tr>\n",
       "      <th>6</th>\n",
       "      <td>Not SWD</td>\n",
       "      <td>4</td>\n",
       "      <td>2</td>\n",
       "      <td>2840.0</td>\n",
       "      <td>12732.0</td>\n",
       "      <td>22.306001</td>\n",
       "    </tr>\n",
       "    <tr>\n",
       "      <th>7</th>\n",
       "      <td>Not SWD</td>\n",
       "      <td>5</td>\n",
       "      <td>2</td>\n",
       "      <td>4812.0</td>\n",
       "      <td>12732.0</td>\n",
       "      <td>37.794533</td>\n",
       "    </tr>\n",
       "    <tr>\n",
       "      <th>8</th>\n",
       "      <td>Not SWD</td>\n",
       "      <td>6</td>\n",
       "      <td>2</td>\n",
       "      <td>5080.0</td>\n",
       "      <td>12732.0</td>\n",
       "      <td>39.899466</td>\n",
       "    </tr>\n",
       "    <tr>\n",
       "      <th>9</th>\n",
       "      <td>SWD</td>\n",
       "      <td>4</td>\n",
       "      <td>0</td>\n",
       "      <td>1029.0</td>\n",
       "      <td>5487.0</td>\n",
       "      <td>18.753417</td>\n",
       "    </tr>\n",
       "    <tr>\n",
       "      <th>10</th>\n",
       "      <td>SWD</td>\n",
       "      <td>5</td>\n",
       "      <td>0</td>\n",
       "      <td>1955.0</td>\n",
       "      <td>5487.0</td>\n",
       "      <td>35.629670</td>\n",
       "    </tr>\n",
       "    <tr>\n",
       "      <th>11</th>\n",
       "      <td>SWD</td>\n",
       "      <td>6</td>\n",
       "      <td>0</td>\n",
       "      <td>2503.0</td>\n",
       "      <td>5487.0</td>\n",
       "      <td>45.616913</td>\n",
       "    </tr>\n",
       "    <tr>\n",
       "      <th>12</th>\n",
       "      <td>SWD</td>\n",
       "      <td>4</td>\n",
       "      <td>1</td>\n",
       "      <td>4758.0</td>\n",
       "      <td>20724.0</td>\n",
       "      <td>22.958888</td>\n",
       "    </tr>\n",
       "    <tr>\n",
       "      <th>13</th>\n",
       "      <td>SWD</td>\n",
       "      <td>5</td>\n",
       "      <td>1</td>\n",
       "      <td>7368.0</td>\n",
       "      <td>20724.0</td>\n",
       "      <td>35.552982</td>\n",
       "    </tr>\n",
       "    <tr>\n",
       "      <th>14</th>\n",
       "      <td>SWD</td>\n",
       "      <td>6</td>\n",
       "      <td>1</td>\n",
       "      <td>8598.0</td>\n",
       "      <td>20724.0</td>\n",
       "      <td>41.488130</td>\n",
       "    </tr>\n",
       "    <tr>\n",
       "      <th>15</th>\n",
       "      <td>SWD</td>\n",
       "      <td>4</td>\n",
       "      <td>2</td>\n",
       "      <td>1658.0</td>\n",
       "      <td>7212.0</td>\n",
       "      <td>22.989462</td>\n",
       "    </tr>\n",
       "    <tr>\n",
       "      <th>16</th>\n",
       "      <td>SWD</td>\n",
       "      <td>5</td>\n",
       "      <td>2</td>\n",
       "      <td>2654.0</td>\n",
       "      <td>7212.0</td>\n",
       "      <td>36.799778</td>\n",
       "    </tr>\n",
       "    <tr>\n",
       "      <th>17</th>\n",
       "      <td>SWD</td>\n",
       "      <td>6</td>\n",
       "      <td>2</td>\n",
       "      <td>2900.0</td>\n",
       "      <td>7212.0</td>\n",
       "      <td>40.210760</td>\n",
       "    </tr>\n",
       "  </tbody>\n",
       "</table>\n",
       "</div>"
      ],
      "text/plain": [
       "   Category  Duration  Cluster  # Dropout_x  # Dropout_y  Dropout %\n",
       "0   Not SWD         4        0       3703.0      19376.0  19.111272\n",
       "1   Not SWD         5        0       6811.0      19376.0  35.151734\n",
       "2   Not SWD         6        0       8862.0      19376.0  45.736994\n",
       "3   Not SWD         4        1      11862.0      49474.0  23.976230\n",
       "4   Not SWD         5        1      17633.0      49474.0  35.640943\n",
       "5   Not SWD         6        1      19979.0      49474.0  40.382827\n",
       "6   Not SWD         4        2       2840.0      12732.0  22.306001\n",
       "7   Not SWD         5        2       4812.0      12732.0  37.794533\n",
       "8   Not SWD         6        2       5080.0      12732.0  39.899466\n",
       "9       SWD         4        0       1029.0       5487.0  18.753417\n",
       "10      SWD         5        0       1955.0       5487.0  35.629670\n",
       "11      SWD         6        0       2503.0       5487.0  45.616913\n",
       "12      SWD         4        1       4758.0      20724.0  22.958888\n",
       "13      SWD         5        1       7368.0      20724.0  35.552982\n",
       "14      SWD         6        1       8598.0      20724.0  41.488130\n",
       "15      SWD         4        2       1658.0       7212.0  22.989462\n",
       "16      SWD         5        2       2654.0       7212.0  36.799778\n",
       "17      SWD         6        2       2900.0       7212.0  40.210760"
      ]
     },
     "execution_count": 364,
     "metadata": {},
     "output_type": "execute_result"
    }
   ],
   "source": [
    "swd_data_dropout_per_duration = filter_dropout_per_duration(swd_data)\n",
    "swd_data_dropout_per_duration"
   ]
  },
  {
   "cell_type": "code",
   "execution_count": 371,
   "metadata": {},
   "outputs": [
    {
     "data": {
      "application/vnd.plotly.v1+json": {
       "config": {
        "plotlyServerURL": "https://plot.ly"
       },
       "data": [
        {
         "marker": {
          "color": "#1f77b4"
         },
         "name": "4 Years",
         "showlegend": false,
         "type": "bar",
         "x": [
          "Not SWD",
          "SWD"
         ],
         "xaxis": "x",
         "y": [
          19.11127167630058,
          18.753417167851286
         ],
         "yaxis": "y"
        },
        {
         "marker": {
          "color": "#ff7f0e"
         },
         "name": "5 Years",
         "showlegend": false,
         "type": "bar",
         "x": [
          "Not SWD",
          "SWD"
         ],
         "xaxis": "x",
         "y": [
          35.15173410404625,
          35.62967012939676
         ],
         "yaxis": "y"
        },
        {
         "marker": {
          "color": "#2ca02c"
         },
         "name": "6 Years",
         "showlegend": false,
         "type": "bar",
         "x": [
          "Not SWD",
          "SWD"
         ],
         "xaxis": "x",
         "y": [
          45.73699421965318,
          45.61691270275196
         ],
         "yaxis": "y"
        },
        {
         "marker": {
          "color": "#1f77b4"
         },
         "name": "4 Years",
         "showlegend": false,
         "type": "bar",
         "x": [
          "Not SWD",
          "SWD"
         ],
         "xaxis": "x2",
         "y": [
          23.976229938957836,
          22.958888245512448
         ],
         "yaxis": "y2"
        },
        {
         "marker": {
          "color": "#ff7f0e"
         },
         "name": "5 Years",
         "showlegend": false,
         "type": "bar",
         "x": [
          "Not SWD",
          "SWD"
         ],
         "xaxis": "x2",
         "y": [
          35.640942717386906,
          35.552982049797336
         ],
         "yaxis": "y2"
        },
        {
         "marker": {
          "color": "#2ca02c"
         },
         "name": "6 Years",
         "showlegend": false,
         "type": "bar",
         "x": [
          "Not SWD",
          "SWD"
         ],
         "xaxis": "x2",
         "y": [
          40.38282734365525,
          41.488129704690216
         ],
         "yaxis": "y2"
        },
        {
         "marker": {
          "color": "#1f77b4"
         },
         "name": "4 Years",
         "type": "bar",
         "x": [
          "Not SWD",
          "SWD"
         ],
         "xaxis": "x3",
         "y": [
          22.306000628338047,
          22.989462007764836
         ],
         "yaxis": "y3"
        },
        {
         "marker": {
          "color": "#ff7f0e"
         },
         "name": "5 Years",
         "type": "bar",
         "x": [
          "Not SWD",
          "SWD"
         ],
         "xaxis": "x3",
         "y": [
          37.794533459000945,
          36.79977814753189
         ],
         "yaxis": "y3"
        },
        {
         "marker": {
          "color": "#2ca02c"
         },
         "name": "6 Years",
         "type": "bar",
         "x": [
          "Not SWD",
          "SWD"
         ],
         "xaxis": "x3",
         "y": [
          39.899465912661014,
          40.21075984470327
         ],
         "yaxis": "y3"
        }
       ],
       "layout": {
        "annotations": [
         {
          "font": {
           "size": 16
          },
          "showarrow": false,
          "text": "Cluster 0",
          "x": 0.14444444444444446,
          "xanchor": "center",
          "xref": "paper",
          "y": 1,
          "yanchor": "bottom",
          "yref": "paper"
         },
         {
          "font": {
           "size": 16
          },
          "showarrow": false,
          "text": "Cluster 1",
          "x": 0.5,
          "xanchor": "center",
          "xref": "paper",
          "y": 1,
          "yanchor": "bottom",
          "yref": "paper"
         },
         {
          "font": {
           "size": 16
          },
          "showarrow": false,
          "text": "Cluster 2",
          "x": 0.8555555555555556,
          "xanchor": "center",
          "xref": "paper",
          "y": 1,
          "yanchor": "bottom",
          "yref": "paper"
         }
        ],
        "template": {
         "layout": {
          "plot_bgcolor": "white",
          "xaxis": {
           "gridcolor": "lightgray"
          },
          "yaxis": {
           "gridcolor": "lightgray"
          }
         }
        },
        "title": {
         "text": "Distribution of Dropouts in Every Cluster per Duration and Disability Status"
        },
        "xaxis": {
         "anchor": "y",
         "domain": [
          0,
          0.2888888888888889
         ]
        },
        "xaxis2": {
         "anchor": "y2",
         "domain": [
          0.35555555555555557,
          0.6444444444444445
         ]
        },
        "xaxis3": {
         "anchor": "y3",
         "domain": [
          0.7111111111111111,
          1
         ]
        },
        "yaxis": {
         "anchor": "x",
         "domain": [
          0,
          1
         ],
         "range": [
          0,
          45.73699421965318
         ],
         "title": {
          "text": "Distribution %"
         }
        },
        "yaxis2": {
         "anchor": "x2",
         "domain": [
          0,
          1
         ],
         "range": [
          0,
          45.73699421965318
         ],
         "title": {
          "text": "Distribution %"
         }
        },
        "yaxis3": {
         "anchor": "x3",
         "domain": [
          0,
          1
         ],
         "range": [
          0,
          45.73699421965318
         ],
         "title": {
          "text": "Distribution %"
         }
        }
       }
      }
     },
     "metadata": {},
     "output_type": "display_data"
    }
   ],
   "source": [
    "fig = make_subplots(rows=1, cols=len(swd_data_dropout_per_duration['Cluster'].unique()), subplot_titles=('Cluster 0', 'Cluster 1', 'Cluster 2'))\n",
    "\n",
    "for cluster in swd_data_dropout_per_duration['Cluster'].unique():\n",
    "    cluster_row = swd_data_dropout_per_duration[swd_data_dropout_per_duration['Cluster'] ==  cluster]\n",
    "    cluster_index = swd_data_dropout_per_duration['Cluster'].unique().tolist().index(cluster)\n",
    "    for duration in cluster_row['Duration'].unique():\n",
    "        duration_row = cluster_row[cluster_row['Duration'] == duration]\n",
    "        duration_index = cluster_row['Duration'].unique().tolist().index(duration)\n",
    "        fig.add_trace(go.Bar(x=duration_row['Category'], y=duration_row['Dropout %'], name=f'{duration} Years', marker=dict(color=colors[duration_index])), row=1, col=cluster_index+1)\n",
    "        fig.update_yaxes(range=[0, swd_data_dropout_per_duration['Dropout %'].max()], title_text='Distribution %')\n",
    "\n",
    "fig.update_layout(title_text='Distribution of Dropouts in Every Cluster per Duration and Disability Status')\n",
    "\n",
    "for i in range(len(fig.data) - len(swd_data_dropout_per_duration['Duration'].unique())):\n",
    "    fig.data[i].showlegend=False\n",
    "\n",
    "fig.show()"
   ]
  },
  {
   "cell_type": "markdown",
   "metadata": {},
   "source": [
    "### Test Results"
   ]
  },
  {
   "cell_type": "code",
   "execution_count": 115,
   "metadata": {},
   "outputs": [
    {
     "data": {
      "text/html": [
       "<div>\n",
       "<style scoped>\n",
       "    .dataframe tbody tr th:only-of-type {\n",
       "        vertical-align: middle;\n",
       "    }\n",
       "\n",
       "    .dataframe tbody tr th {\n",
       "        vertical-align: top;\n",
       "    }\n",
       "\n",
       "    .dataframe thead th {\n",
       "        text-align: right;\n",
       "    }\n",
       "</style>\n",
       "<table border=\"1\" class=\"dataframe\">\n",
       "  <thead>\n",
       "    <tr style=\"text-align: right;\">\n",
       "      <th></th>\n",
       "      <th>School Name</th>\n",
       "      <th>Cluster</th>\n",
       "      <th>Year</th>\n",
       "      <th>Category</th>\n",
       "      <th>Regents Exam</th>\n",
       "      <th>Total Tested</th>\n",
       "      <th>Number Scoring 65 or Above</th>\n",
       "      <th>Regents Subject</th>\n",
       "    </tr>\n",
       "  </thead>\n",
       "  <tbody>\n",
       "    <tr>\n",
       "      <th>0</th>\n",
       "      <td>A-TECH HIGH SCHOOL</td>\n",
       "      <td>1</td>\n",
       "      <td>2015</td>\n",
       "      <td>Non-SWD</td>\n",
       "      <td>Algebra2/Trigonometry</td>\n",
       "      <td>7</td>\n",
       "      <td>0.0</td>\n",
       "      <td>Mathematics</td>\n",
       "    </tr>\n",
       "    <tr>\n",
       "      <th>1</th>\n",
       "      <td>A-TECH HIGH SCHOOL</td>\n",
       "      <td>1</td>\n",
       "      <td>2015</td>\n",
       "      <td>SWD</td>\n",
       "      <td>Common Core Algebra</td>\n",
       "      <td>12</td>\n",
       "      <td>0.0</td>\n",
       "      <td>Mathematics</td>\n",
       "    </tr>\n",
       "    <tr>\n",
       "      <th>2</th>\n",
       "      <td>A-TECH HIGH SCHOOL</td>\n",
       "      <td>1</td>\n",
       "      <td>2015</td>\n",
       "      <td>Non-SWD</td>\n",
       "      <td>Common Core Algebra</td>\n",
       "      <td>29</td>\n",
       "      <td>5.0</td>\n",
       "      <td>Mathematics</td>\n",
       "    </tr>\n",
       "    <tr>\n",
       "      <th>3</th>\n",
       "      <td>A-TECH HIGH SCHOOL</td>\n",
       "      <td>1</td>\n",
       "      <td>2015</td>\n",
       "      <td>SWD</td>\n",
       "      <td>Common Core English</td>\n",
       "      <td>44</td>\n",
       "      <td>7.0</td>\n",
       "      <td>English</td>\n",
       "    </tr>\n",
       "    <tr>\n",
       "      <th>4</th>\n",
       "      <td>A-TECH HIGH SCHOOL</td>\n",
       "      <td>1</td>\n",
       "      <td>2015</td>\n",
       "      <td>Non-SWD</td>\n",
       "      <td>Common Core English</td>\n",
       "      <td>123</td>\n",
       "      <td>56.0</td>\n",
       "      <td>English</td>\n",
       "    </tr>\n",
       "    <tr>\n",
       "      <th>...</th>\n",
       "      <td>...</td>\n",
       "      <td>...</td>\n",
       "      <td>...</td>\n",
       "      <td>...</td>\n",
       "      <td>...</td>\n",
       "      <td>...</td>\n",
       "      <td>...</td>\n",
       "      <td>...</td>\n",
       "    </tr>\n",
       "    <tr>\n",
       "      <th>50212</th>\n",
       "      <td>YOUNG WOMEN'S LEADERSHIP SCHOOL, QUEENS</td>\n",
       "      <td>2</td>\n",
       "      <td>2023</td>\n",
       "      <td>SWD</td>\n",
       "      <td>Physical Settings/Earth Science</td>\n",
       "      <td>11</td>\n",
       "      <td>2.0</td>\n",
       "      <td>Science</td>\n",
       "    </tr>\n",
       "    <tr>\n",
       "      <th>50213</th>\n",
       "      <td>YOUNG WOMEN'S LEADERSHIP SCHOOL, QUEENS</td>\n",
       "      <td>2</td>\n",
       "      <td>2023</td>\n",
       "      <td>Non-SWD</td>\n",
       "      <td>Physical Settings/Earth Science</td>\n",
       "      <td>49</td>\n",
       "      <td>45.0</td>\n",
       "      <td>Science</td>\n",
       "    </tr>\n",
       "    <tr>\n",
       "      <th>50214</th>\n",
       "      <td>YOUNG WOMEN'S LEADERSHIP SCHOOL, QUEENS</td>\n",
       "      <td>2</td>\n",
       "      <td>2023</td>\n",
       "      <td>Non-SWD</td>\n",
       "      <td>Spanish</td>\n",
       "      <td>4</td>\n",
       "      <td>NaN</td>\n",
       "      <td>Languages Other Than English</td>\n",
       "    </tr>\n",
       "    <tr>\n",
       "      <th>50215</th>\n",
       "      <td>YOUNG WOMEN'S LEADERSHIP SCHOOL, QUEENS</td>\n",
       "      <td>2</td>\n",
       "      <td>2023</td>\n",
       "      <td>SWD</td>\n",
       "      <td>US History and Government</td>\n",
       "      <td>5</td>\n",
       "      <td>NaN</td>\n",
       "      <td>Social Studies</td>\n",
       "    </tr>\n",
       "    <tr>\n",
       "      <th>50216</th>\n",
       "      <td>YOUNG WOMEN'S LEADERSHIP SCHOOL, QUEENS</td>\n",
       "      <td>2</td>\n",
       "      <td>2023</td>\n",
       "      <td>Non-SWD</td>\n",
       "      <td>US History and Government</td>\n",
       "      <td>68</td>\n",
       "      <td>NaN</td>\n",
       "      <td>Social Studies</td>\n",
       "    </tr>\n",
       "  </tbody>\n",
       "</table>\n",
       "<p>50217 rows × 8 columns</p>\n",
       "</div>"
      ],
      "text/plain": [
       "                                   School Name  Cluster  Year Category  \\\n",
       "0                           A-TECH HIGH SCHOOL        1  2015  Non-SWD   \n",
       "1                           A-TECH HIGH SCHOOL        1  2015      SWD   \n",
       "2                           A-TECH HIGH SCHOOL        1  2015  Non-SWD   \n",
       "3                           A-TECH HIGH SCHOOL        1  2015      SWD   \n",
       "4                           A-TECH HIGH SCHOOL        1  2015  Non-SWD   \n",
       "...                                        ...      ...   ...      ...   \n",
       "50212  YOUNG WOMEN'S LEADERSHIP SCHOOL, QUEENS        2  2023      SWD   \n",
       "50213  YOUNG WOMEN'S LEADERSHIP SCHOOL, QUEENS        2  2023  Non-SWD   \n",
       "50214  YOUNG WOMEN'S LEADERSHIP SCHOOL, QUEENS        2  2023  Non-SWD   \n",
       "50215  YOUNG WOMEN'S LEADERSHIP SCHOOL, QUEENS        2  2023      SWD   \n",
       "50216  YOUNG WOMEN'S LEADERSHIP SCHOOL, QUEENS        2  2023  Non-SWD   \n",
       "\n",
       "                          Regents Exam  Total Tested  \\\n",
       "0                Algebra2/Trigonometry             7   \n",
       "1                  Common Core Algebra            12   \n",
       "2                  Common Core Algebra            29   \n",
       "3                  Common Core English            44   \n",
       "4                  Common Core English           123   \n",
       "...                                ...           ...   \n",
       "50212  Physical Settings/Earth Science            11   \n",
       "50213  Physical Settings/Earth Science            49   \n",
       "50214                          Spanish             4   \n",
       "50215        US History and Government             5   \n",
       "50216        US History and Government            68   \n",
       "\n",
       "       Number Scoring 65 or Above               Regents Subject  \n",
       "0                             0.0                   Mathematics  \n",
       "1                             0.0                   Mathematics  \n",
       "2                             5.0                   Mathematics  \n",
       "3                             7.0                       English  \n",
       "4                            56.0                       English  \n",
       "...                           ...                           ...  \n",
       "50212                         2.0                       Science  \n",
       "50213                        45.0                       Science  \n",
       "50214                         NaN  Languages Other Than English  \n",
       "50215                         NaN                Social Studies  \n",
       "50216                         NaN                Social Studies  \n",
       "\n",
       "[50217 rows x 8 columns]"
      ]
     },
     "execution_count": 115,
     "metadata": {},
     "output_type": "execute_result"
    }
   ],
   "source": [
    "swd_test_results"
   ]
  },
  {
   "cell_type": "code",
   "execution_count": 117,
   "metadata": {},
   "outputs": [
    {
     "data": {
      "text/html": [
       "<div>\n",
       "<style scoped>\n",
       "    .dataframe tbody tr th:only-of-type {\n",
       "        vertical-align: middle;\n",
       "    }\n",
       "\n",
       "    .dataframe tbody tr th {\n",
       "        vertical-align: top;\n",
       "    }\n",
       "\n",
       "    .dataframe thead th {\n",
       "        text-align: right;\n",
       "    }\n",
       "</style>\n",
       "<table border=\"1\" class=\"dataframe\">\n",
       "  <thead>\n",
       "    <tr style=\"text-align: right;\">\n",
       "      <th></th>\n",
       "      <th>Category</th>\n",
       "      <th>Cluster</th>\n",
       "      <th>Regents Subject</th>\n",
       "      <th>Number Scoring 65 or Above</th>\n",
       "      <th>Total Tested</th>\n",
       "      <th>% Passed</th>\n",
       "    </tr>\n",
       "  </thead>\n",
       "  <tbody>\n",
       "    <tr>\n",
       "      <th>0</th>\n",
       "      <td>Non-SWD</td>\n",
       "      <td>0</td>\n",
       "      <td>English</td>\n",
       "      <td>9301.0</td>\n",
       "      <td>17529</td>\n",
       "      <td>53.060642</td>\n",
       "    </tr>\n",
       "    <tr>\n",
       "      <th>1</th>\n",
       "      <td>Non-SWD</td>\n",
       "      <td>0</td>\n",
       "      <td>Languages Other Than English</td>\n",
       "      <td>962.0</td>\n",
       "      <td>1696</td>\n",
       "      <td>56.721698</td>\n",
       "    </tr>\n",
       "    <tr>\n",
       "      <th>2</th>\n",
       "      <td>Non-SWD</td>\n",
       "      <td>0</td>\n",
       "      <td>Mathematics</td>\n",
       "      <td>5594.0</td>\n",
       "      <td>19966</td>\n",
       "      <td>28.017630</td>\n",
       "    </tr>\n",
       "    <tr>\n",
       "      <th>3</th>\n",
       "      <td>Non-SWD</td>\n",
       "      <td>0</td>\n",
       "      <td>Science</td>\n",
       "      <td>4595.0</td>\n",
       "      <td>15774</td>\n",
       "      <td>29.130214</td>\n",
       "    </tr>\n",
       "    <tr>\n",
       "      <th>4</th>\n",
       "      <td>Non-SWD</td>\n",
       "      <td>0</td>\n",
       "      <td>Social Studies</td>\n",
       "      <td>12126.0</td>\n",
       "      <td>28642</td>\n",
       "      <td>42.336429</td>\n",
       "    </tr>\n",
       "    <tr>\n",
       "      <th>5</th>\n",
       "      <td>Non-SWD</td>\n",
       "      <td>1</td>\n",
       "      <td>English</td>\n",
       "      <td>135311.0</td>\n",
       "      <td>195145</td>\n",
       "      <td>69.338697</td>\n",
       "    </tr>\n",
       "    <tr>\n",
       "      <th>6</th>\n",
       "      <td>Non-SWD</td>\n",
       "      <td>1</td>\n",
       "      <td>Languages Other Than English</td>\n",
       "      <td>29111.0</td>\n",
       "      <td>48978</td>\n",
       "      <td>59.436890</td>\n",
       "    </tr>\n",
       "    <tr>\n",
       "      <th>7</th>\n",
       "      <td>Non-SWD</td>\n",
       "      <td>1</td>\n",
       "      <td>Mathematics</td>\n",
       "      <td>174247.0</td>\n",
       "      <td>397375</td>\n",
       "      <td>43.849512</td>\n",
       "    </tr>\n",
       "    <tr>\n",
       "      <th>8</th>\n",
       "      <td>Non-SWD</td>\n",
       "      <td>1</td>\n",
       "      <td>Science</td>\n",
       "      <td>140658.0</td>\n",
       "      <td>293334</td>\n",
       "      <td>47.951482</td>\n",
       "    </tr>\n",
       "    <tr>\n",
       "      <th>9</th>\n",
       "      <td>Non-SWD</td>\n",
       "      <td>1</td>\n",
       "      <td>Social Studies</td>\n",
       "      <td>194849.0</td>\n",
       "      <td>307995</td>\n",
       "      <td>63.263689</td>\n",
       "    </tr>\n",
       "    <tr>\n",
       "      <th>10</th>\n",
       "      <td>Non-SWD</td>\n",
       "      <td>2</td>\n",
       "      <td>English</td>\n",
       "      <td>177689.0</td>\n",
       "      <td>209283</td>\n",
       "      <td>84.903695</td>\n",
       "    </tr>\n",
       "    <tr>\n",
       "      <th>11</th>\n",
       "      <td>Non-SWD</td>\n",
       "      <td>2</td>\n",
       "      <td>Languages Other Than English</td>\n",
       "      <td>56846.0</td>\n",
       "      <td>95955</td>\n",
       "      <td>59.242353</td>\n",
       "    </tr>\n",
       "    <tr>\n",
       "      <th>12</th>\n",
       "      <td>Non-SWD</td>\n",
       "      <td>2</td>\n",
       "      <td>Mathematics</td>\n",
       "      <td>310997.0</td>\n",
       "      <td>515286</td>\n",
       "      <td>60.354250</td>\n",
       "    </tr>\n",
       "    <tr>\n",
       "      <th>13</th>\n",
       "      <td>Non-SWD</td>\n",
       "      <td>2</td>\n",
       "      <td>Science</td>\n",
       "      <td>257407.0</td>\n",
       "      <td>425922</td>\n",
       "      <td>60.435244</td>\n",
       "    </tr>\n",
       "    <tr>\n",
       "      <th>14</th>\n",
       "      <td>Non-SWD</td>\n",
       "      <td>2</td>\n",
       "      <td>Social Studies</td>\n",
       "      <td>282233.0</td>\n",
       "      <td>348234</td>\n",
       "      <td>81.046940</td>\n",
       "    </tr>\n",
       "    <tr>\n",
       "      <th>15</th>\n",
       "      <td>SWD</td>\n",
       "      <td>0</td>\n",
       "      <td>English</td>\n",
       "      <td>1801.0</td>\n",
       "      <td>4782</td>\n",
       "      <td>37.662066</td>\n",
       "    </tr>\n",
       "    <tr>\n",
       "      <th>16</th>\n",
       "      <td>SWD</td>\n",
       "      <td>0</td>\n",
       "      <td>Languages Other Than English</td>\n",
       "      <td>33.0</td>\n",
       "      <td>117</td>\n",
       "      <td>28.205128</td>\n",
       "    </tr>\n",
       "    <tr>\n",
       "      <th>17</th>\n",
       "      <td>SWD</td>\n",
       "      <td>0</td>\n",
       "      <td>Mathematics</td>\n",
       "      <td>573.0</td>\n",
       "      <td>3530</td>\n",
       "      <td>16.232295</td>\n",
       "    </tr>\n",
       "    <tr>\n",
       "      <th>18</th>\n",
       "      <td>SWD</td>\n",
       "      <td>0</td>\n",
       "      <td>Science</td>\n",
       "      <td>654.0</td>\n",
       "      <td>3212</td>\n",
       "      <td>20.361146</td>\n",
       "    </tr>\n",
       "    <tr>\n",
       "      <th>19</th>\n",
       "      <td>SWD</td>\n",
       "      <td>0</td>\n",
       "      <td>Social Studies</td>\n",
       "      <td>1506.0</td>\n",
       "      <td>6771</td>\n",
       "      <td>22.241914</td>\n",
       "    </tr>\n",
       "    <tr>\n",
       "      <th>20</th>\n",
       "      <td>SWD</td>\n",
       "      <td>1</td>\n",
       "      <td>English</td>\n",
       "      <td>18658.0</td>\n",
       "      <td>43959</td>\n",
       "      <td>42.444096</td>\n",
       "    </tr>\n",
       "    <tr>\n",
       "      <th>21</th>\n",
       "      <td>SWD</td>\n",
       "      <td>1</td>\n",
       "      <td>Languages Other Than English</td>\n",
       "      <td>1890.0</td>\n",
       "      <td>3543</td>\n",
       "      <td>53.344623</td>\n",
       "    </tr>\n",
       "    <tr>\n",
       "      <th>22</th>\n",
       "      <td>SWD</td>\n",
       "      <td>1</td>\n",
       "      <td>Mathematics</td>\n",
       "      <td>15423.0</td>\n",
       "      <td>77309</td>\n",
       "      <td>19.949812</td>\n",
       "    </tr>\n",
       "    <tr>\n",
       "      <th>23</th>\n",
       "      <td>SWD</td>\n",
       "      <td>1</td>\n",
       "      <td>Science</td>\n",
       "      <td>14649.0</td>\n",
       "      <td>61520</td>\n",
       "      <td>23.811769</td>\n",
       "    </tr>\n",
       "    <tr>\n",
       "      <th>24</th>\n",
       "      <td>SWD</td>\n",
       "      <td>1</td>\n",
       "      <td>Social Studies</td>\n",
       "      <td>22286.0</td>\n",
       "      <td>73795</td>\n",
       "      <td>30.199878</td>\n",
       "    </tr>\n",
       "    <tr>\n",
       "      <th>25</th>\n",
       "      <td>SWD</td>\n",
       "      <td>2</td>\n",
       "      <td>English</td>\n",
       "      <td>22059.0</td>\n",
       "      <td>36057</td>\n",
       "      <td>61.178135</td>\n",
       "    </tr>\n",
       "    <tr>\n",
       "      <th>26</th>\n",
       "      <td>SWD</td>\n",
       "      <td>2</td>\n",
       "      <td>Languages Other Than English</td>\n",
       "      <td>2801.0</td>\n",
       "      <td>5239</td>\n",
       "      <td>53.464402</td>\n",
       "    </tr>\n",
       "    <tr>\n",
       "      <th>27</th>\n",
       "      <td>SWD</td>\n",
       "      <td>2</td>\n",
       "      <td>Mathematics</td>\n",
       "      <td>26605.0</td>\n",
       "      <td>77936</td>\n",
       "      <td>34.136984</td>\n",
       "    </tr>\n",
       "    <tr>\n",
       "      <th>28</th>\n",
       "      <td>SWD</td>\n",
       "      <td>2</td>\n",
       "      <td>Science</td>\n",
       "      <td>24195.0</td>\n",
       "      <td>64592</td>\n",
       "      <td>37.458199</td>\n",
       "    </tr>\n",
       "    <tr>\n",
       "      <th>29</th>\n",
       "      <td>SWD</td>\n",
       "      <td>2</td>\n",
       "      <td>Social Studies</td>\n",
       "      <td>30556.0</td>\n",
       "      <td>62595</td>\n",
       "      <td>48.815401</td>\n",
       "    </tr>\n",
       "  </tbody>\n",
       "</table>\n",
       "</div>"
      ],
      "text/plain": [
       "   Category  Cluster               Regents Subject  \\\n",
       "0   Non-SWD        0                       English   \n",
       "1   Non-SWD        0  Languages Other Than English   \n",
       "2   Non-SWD        0                   Mathematics   \n",
       "3   Non-SWD        0                       Science   \n",
       "4   Non-SWD        0                Social Studies   \n",
       "5   Non-SWD        1                       English   \n",
       "6   Non-SWD        1  Languages Other Than English   \n",
       "7   Non-SWD        1                   Mathematics   \n",
       "8   Non-SWD        1                       Science   \n",
       "9   Non-SWD        1                Social Studies   \n",
       "10  Non-SWD        2                       English   \n",
       "11  Non-SWD        2  Languages Other Than English   \n",
       "12  Non-SWD        2                   Mathematics   \n",
       "13  Non-SWD        2                       Science   \n",
       "14  Non-SWD        2                Social Studies   \n",
       "15      SWD        0                       English   \n",
       "16      SWD        0  Languages Other Than English   \n",
       "17      SWD        0                   Mathematics   \n",
       "18      SWD        0                       Science   \n",
       "19      SWD        0                Social Studies   \n",
       "20      SWD        1                       English   \n",
       "21      SWD        1  Languages Other Than English   \n",
       "22      SWD        1                   Mathematics   \n",
       "23      SWD        1                       Science   \n",
       "24      SWD        1                Social Studies   \n",
       "25      SWD        2                       English   \n",
       "26      SWD        2  Languages Other Than English   \n",
       "27      SWD        2                   Mathematics   \n",
       "28      SWD        2                       Science   \n",
       "29      SWD        2                Social Studies   \n",
       "\n",
       "    Number Scoring 65 or Above  Total Tested   % Passed  \n",
       "0                       9301.0         17529  53.060642  \n",
       "1                        962.0          1696  56.721698  \n",
       "2                       5594.0         19966  28.017630  \n",
       "3                       4595.0         15774  29.130214  \n",
       "4                      12126.0         28642  42.336429  \n",
       "5                     135311.0        195145  69.338697  \n",
       "6                      29111.0         48978  59.436890  \n",
       "7                     174247.0        397375  43.849512  \n",
       "8                     140658.0        293334  47.951482  \n",
       "9                     194849.0        307995  63.263689  \n",
       "10                    177689.0        209283  84.903695  \n",
       "11                     56846.0         95955  59.242353  \n",
       "12                    310997.0        515286  60.354250  \n",
       "13                    257407.0        425922  60.435244  \n",
       "14                    282233.0        348234  81.046940  \n",
       "15                      1801.0          4782  37.662066  \n",
       "16                        33.0           117  28.205128  \n",
       "17                       573.0          3530  16.232295  \n",
       "18                       654.0          3212  20.361146  \n",
       "19                      1506.0          6771  22.241914  \n",
       "20                     18658.0         43959  42.444096  \n",
       "21                      1890.0          3543  53.344623  \n",
       "22                     15423.0         77309  19.949812  \n",
       "23                     14649.0         61520  23.811769  \n",
       "24                     22286.0         73795  30.199878  \n",
       "25                     22059.0         36057  61.178135  \n",
       "26                      2801.0          5239  53.464402  \n",
       "27                     26605.0         77936  34.136984  \n",
       "28                     24195.0         64592  37.458199  \n",
       "29                     30556.0         62595  48.815401  "
      ]
     },
     "execution_count": 117,
     "metadata": {},
     "output_type": "execute_result"
    }
   ],
   "source": [
    "swd_data_test_results = swd_test_results.groupby(['Category', 'Cluster', 'Regents Subject'])[['Number Scoring 65 or Above', 'Total Tested']].sum().reset_index()\n",
    "swd_data_test_results['% Passed'] = swd_data_test_results['Number Scoring 65 or Above'] / swd_data_test_results['Total Tested'] * 100\n",
    "swd_data_test_results"
   ]
  },
  {
   "cell_type": "code",
   "execution_count": 118,
   "metadata": {},
   "outputs": [
    {
     "data": {
      "application/vnd.plotly.v1+json": {
       "config": {
        "plotlyServerURL": "https://plot.ly"
       },
       "data": [
        {
         "marker": {
          "color": "#1f77b4"
         },
         "name": "Non-SWD",
         "showlegend": false,
         "type": "bar",
         "x": [
          "English",
          "Languages Other Than English",
          "Mathematics",
          "Science",
          "Social Studies"
         ],
         "xaxis": "x",
         "y": [
          53.060642364082376,
          56.72169811320755,
          28.017629970950615,
          29.13021427665779,
          42.33642902031981
         ],
         "yaxis": "y"
        },
        {
         "marker": {
          "color": "#ff7f0e"
         },
         "name": "SWD",
         "showlegend": false,
         "type": "bar",
         "x": [
          "English",
          "Languages Other Than English",
          "Mathematics",
          "Science",
          "Social Studies"
         ],
         "xaxis": "x",
         "y": [
          37.6620660811376,
          28.205128205128204,
          16.23229461756374,
          20.36114570361146,
          22.241914045192736
         ],
         "yaxis": "y"
        },
        {
         "marker": {
          "color": "#1f77b4"
         },
         "name": "Non-SWD",
         "showlegend": false,
         "type": "bar",
         "x": [
          "English",
          "Languages Other Than English",
          "Mathematics",
          "Science",
          "Social Studies"
         ],
         "xaxis": "x2",
         "y": [
          69.33869686643264,
          59.436890032259384,
          43.84951242529097,
          47.951481928450164,
          63.26368934560625
         ],
         "yaxis": "y2"
        },
        {
         "marker": {
          "color": "#ff7f0e"
         },
         "name": "SWD",
         "showlegend": false,
         "type": "bar",
         "x": [
          "English",
          "Languages Other Than English",
          "Mathematics",
          "Science",
          "Social Studies"
         ],
         "xaxis": "x2",
         "y": [
          42.444095634568576,
          53.34462320067739,
          19.949811794228356,
          23.811768530559167,
          30.199878040517653
         ],
         "yaxis": "y2"
        },
        {
         "marker": {
          "color": "#1f77b4"
         },
         "name": "Non-SWD",
         "type": "bar",
         "x": [
          "English",
          "Languages Other Than English",
          "Mathematics",
          "Science",
          "Social Studies"
         ],
         "xaxis": "x3",
         "y": [
          84.90369499672693,
          59.24235318638945,
          60.35424987288612,
          60.43524401181437,
          81.0469397014651
         ],
         "yaxis": "y3"
        },
        {
         "marker": {
          "color": "#ff7f0e"
         },
         "name": "SWD",
         "type": "bar",
         "x": [
          "English",
          "Languages Other Than English",
          "Mathematics",
          "Science",
          "Social Studies"
         ],
         "xaxis": "x3",
         "y": [
          61.17813462018471,
          53.46440160335943,
          34.13698419215766,
          37.45819915779044,
          48.81540059110153
         ],
         "yaxis": "y3"
        }
       ],
       "layout": {
        "annotations": [
         {
          "font": {
           "size": 16
          },
          "showarrow": false,
          "text": "Cluster 0",
          "x": 0.14444444444444446,
          "xanchor": "center",
          "xref": "paper",
          "y": 1,
          "yanchor": "bottom",
          "yref": "paper"
         },
         {
          "font": {
           "size": 16
          },
          "showarrow": false,
          "text": "Cluster 1",
          "x": 0.5,
          "xanchor": "center",
          "xref": "paper",
          "y": 1,
          "yanchor": "bottom",
          "yref": "paper"
         },
         {
          "font": {
           "size": 16
          },
          "showarrow": false,
          "text": "Cluster 2",
          "x": 0.8555555555555556,
          "xanchor": "center",
          "xref": "paper",
          "y": 1,
          "yanchor": "bottom",
          "yref": "paper"
         }
        ],
        "margin": {
         "b": 125
        },
        "template": {
         "layout": {
          "plot_bgcolor": "white",
          "xaxis": {
           "gridcolor": "lightgray"
          },
          "yaxis": {
           "gridcolor": "lightgray"
          }
         }
        },
        "title": {
         "text": "Rate of Students who Aproved Every Regents Subject in Every Cluster by Student Disability Status"
        },
        "xaxis": {
         "anchor": "y",
         "domain": [
          0,
          0.2888888888888889
         ]
        },
        "xaxis2": {
         "anchor": "y2",
         "domain": [
          0.35555555555555557,
          0.6444444444444445
         ]
        },
        "xaxis3": {
         "anchor": "y3",
         "domain": [
          0.7111111111111111,
          1
         ]
        },
        "yaxis": {
         "anchor": "x",
         "domain": [
          0,
          1
         ],
         "range": [
          0,
          84.90369499672693
         ],
         "title": {
          "text": "% Approved"
         }
        },
        "yaxis2": {
         "anchor": "x2",
         "domain": [
          0,
          1
         ],
         "range": [
          0,
          84.90369499672693
         ],
         "title": {
          "text": "% Approved"
         }
        },
        "yaxis3": {
         "anchor": "x3",
         "domain": [
          0,
          1
         ],
         "range": [
          0,
          84.90369499672693
         ],
         "title": {
          "text": "% Approved"
         }
        }
       }
      }
     },
     "metadata": {},
     "output_type": "display_data"
    }
   ],
   "source": [
    "fig = make_subplots(rows=1, cols=len(swd_data_test_results['Cluster'].unique()), subplot_titles=('Cluster 0', 'Cluster 1', 'Cluster 2'))\n",
    "\n",
    "for cluster in swd_data_test_results['Cluster'].unique():\n",
    "    cluster_row = swd_data_test_results[swd_data_test_results['Cluster'] == cluster]\n",
    "    cluster_index = swd_data_test_results['Cluster'].unique().tolist().index(cluster)\n",
    "    for category in cluster_row['Category'].unique():\n",
    "        category_row = cluster_row[cluster_row['Category'] == category]\n",
    "        category_index = cluster_row['Category'].unique().tolist().index(category)\n",
    "        fig.add_trace(go.Bar(x=category_row['Regents Subject'], y=category_row['% Passed'], marker=dict(color=colors[category_index]), name=category), row=1, col=cluster_index+1)\n",
    "        fig.update_yaxes(range=[0, swd_data_test_results['% Passed'].max()], title_text='% Approved')\n",
    "\n",
    "fig.update_layout(\n",
    "    margin=dict(b=125),\n",
    "    title_text='Rate of Students who Aproved Every Regents Subject in Every Cluster by Student Disability Status'\n",
    ")\n",
    "\n",
    "for i in range(len(fig.data) - len(swd_data_test_results['Category'].unique())):\n",
    "    fig.data[i].showlegend=False\n",
    "fig.show()"
   ]
  },
  {
   "cell_type": "markdown",
   "metadata": {},
   "source": [
    "## Impact of Poverty Status"
   ]
  },
  {
   "cell_type": "code",
   "execution_count": 146,
   "metadata": {},
   "outputs": [
    {
     "data": {
      "text/html": [
       "<div>\n",
       "<style scoped>\n",
       "    .dataframe tbody tr th:only-of-type {\n",
       "        vertical-align: middle;\n",
       "    }\n",
       "\n",
       "    .dataframe tbody tr th {\n",
       "        vertical-align: top;\n",
       "    }\n",
       "\n",
       "    .dataframe thead th {\n",
       "        text-align: right;\n",
       "    }\n",
       "</style>\n",
       "<table border=\"1\" class=\"dataframe\">\n",
       "  <thead>\n",
       "    <tr style=\"text-align: right;\">\n",
       "      <th></th>\n",
       "      <th>School Name</th>\n",
       "      <th>Category</th>\n",
       "      <th>Graduation Year</th>\n",
       "      <th>Duration</th>\n",
       "      <th>Cluster</th>\n",
       "      <th># Grads</th>\n",
       "      <th># Advanced Regents</th>\n",
       "      <th># Regents without Advanced</th>\n",
       "      <th># Local</th>\n",
       "      <th># Still Enrolled</th>\n",
       "      <th># Dropout</th>\n",
       "      <th># Total Cohort</th>\n",
       "      <th>Graduation Month</th>\n",
       "    </tr>\n",
       "  </thead>\n",
       "  <tbody>\n",
       "    <tr>\n",
       "      <th>0</th>\n",
       "      <td>47 THE AMERICAN SIGN LANGUAGE AND ENGLISH SECO...</td>\n",
       "      <td>Econ Disadv</td>\n",
       "      <td>2018</td>\n",
       "      <td>4</td>\n",
       "      <td>2</td>\n",
       "      <td>NaN</td>\n",
       "      <td>NaN</td>\n",
       "      <td>NaN</td>\n",
       "      <td>NaN</td>\n",
       "      <td>NaN</td>\n",
       "      <td>NaN</td>\n",
       "      <td>30</td>\n",
       "      <td>August</td>\n",
       "    </tr>\n",
       "    <tr>\n",
       "      <th>1</th>\n",
       "      <td>47 THE AMERICAN SIGN LANGUAGE AND ENGLISH SECO...</td>\n",
       "      <td>Econ Disadv</td>\n",
       "      <td>2018</td>\n",
       "      <td>5</td>\n",
       "      <td>2</td>\n",
       "      <td>NaN</td>\n",
       "      <td>NaN</td>\n",
       "      <td>NaN</td>\n",
       "      <td>NaN</td>\n",
       "      <td>NaN</td>\n",
       "      <td>NaN</td>\n",
       "      <td>30</td>\n",
       "      <td>August</td>\n",
       "    </tr>\n",
       "    <tr>\n",
       "      <th>2</th>\n",
       "      <td>47 THE AMERICAN SIGN LANGUAGE AND ENGLISH SECO...</td>\n",
       "      <td>Econ Disadv</td>\n",
       "      <td>2018</td>\n",
       "      <td>6</td>\n",
       "      <td>2</td>\n",
       "      <td>40.0</td>\n",
       "      <td>6.0</td>\n",
       "      <td>29.0</td>\n",
       "      <td>5.0</td>\n",
       "      <td>0.0</td>\n",
       "      <td>1.0</td>\n",
       "      <td>43</td>\n",
       "      <td>June</td>\n",
       "    </tr>\n",
       "    <tr>\n",
       "      <th>3</th>\n",
       "      <td>47 THE AMERICAN SIGN LANGUAGE AND ENGLISH SECO...</td>\n",
       "      <td>Econ Disadv</td>\n",
       "      <td>2019</td>\n",
       "      <td>4</td>\n",
       "      <td>2</td>\n",
       "      <td>NaN</td>\n",
       "      <td>NaN</td>\n",
       "      <td>NaN</td>\n",
       "      <td>NaN</td>\n",
       "      <td>NaN</td>\n",
       "      <td>NaN</td>\n",
       "      <td>36</td>\n",
       "      <td>August</td>\n",
       "    </tr>\n",
       "    <tr>\n",
       "      <th>4</th>\n",
       "      <td>47 THE AMERICAN SIGN LANGUAGE AND ENGLISH SECO...</td>\n",
       "      <td>Econ Disadv</td>\n",
       "      <td>2019</td>\n",
       "      <td>5</td>\n",
       "      <td>2</td>\n",
       "      <td>NaN</td>\n",
       "      <td>NaN</td>\n",
       "      <td>NaN</td>\n",
       "      <td>NaN</td>\n",
       "      <td>NaN</td>\n",
       "      <td>NaN</td>\n",
       "      <td>30</td>\n",
       "      <td>August</td>\n",
       "    </tr>\n",
       "    <tr>\n",
       "      <th>...</th>\n",
       "      <td>...</td>\n",
       "      <td>...</td>\n",
       "      <td>...</td>\n",
       "      <td>...</td>\n",
       "      <td>...</td>\n",
       "      <td>...</td>\n",
       "      <td>...</td>\n",
       "      <td>...</td>\n",
       "      <td>...</td>\n",
       "      <td>...</td>\n",
       "      <td>...</td>\n",
       "      <td>...</td>\n",
       "      <td>...</td>\n",
       "    </tr>\n",
       "    <tr>\n",
       "      <th>19594</th>\n",
       "      <td>YOUNG WOMEN'S LEADERSHIP SCHOOL, QUEENS</td>\n",
       "      <td>Not Econ Disadv</td>\n",
       "      <td>2023</td>\n",
       "      <td>5</td>\n",
       "      <td>2</td>\n",
       "      <td>12.0</td>\n",
       "      <td>12.0</td>\n",
       "      <td>0.0</td>\n",
       "      <td>0.0</td>\n",
       "      <td>0.0</td>\n",
       "      <td>0.0</td>\n",
       "      <td>12</td>\n",
       "      <td>August</td>\n",
       "    </tr>\n",
       "    <tr>\n",
       "      <th>19595</th>\n",
       "      <td>YOUNG WOMEN'S LEADERSHIP SCHOOL, QUEENS</td>\n",
       "      <td>Not Econ Disadv</td>\n",
       "      <td>2023</td>\n",
       "      <td>6</td>\n",
       "      <td>2</td>\n",
       "      <td>18.0</td>\n",
       "      <td>15.0</td>\n",
       "      <td>3.0</td>\n",
       "      <td>0.0</td>\n",
       "      <td>1.0</td>\n",
       "      <td>0.0</td>\n",
       "      <td>19</td>\n",
       "      <td>June</td>\n",
       "    </tr>\n",
       "    <tr>\n",
       "      <th>19596</th>\n",
       "      <td>YOUNG WOMEN'S LEADERSHIP SCHOOL, QUEENS</td>\n",
       "      <td>Not Econ Disadv</td>\n",
       "      <td>2024</td>\n",
       "      <td>4</td>\n",
       "      <td>2</td>\n",
       "      <td>22.0</td>\n",
       "      <td>17.0</td>\n",
       "      <td>5.0</td>\n",
       "      <td>0.0</td>\n",
       "      <td>0.0</td>\n",
       "      <td>0.0</td>\n",
       "      <td>22</td>\n",
       "      <td>August</td>\n",
       "    </tr>\n",
       "    <tr>\n",
       "      <th>19597</th>\n",
       "      <td>YOUNG WOMEN'S LEADERSHIP SCHOOL, QUEENS</td>\n",
       "      <td>Not Econ Disadv</td>\n",
       "      <td>2024</td>\n",
       "      <td>5</td>\n",
       "      <td>2</td>\n",
       "      <td>24.0</td>\n",
       "      <td>8.0</td>\n",
       "      <td>16.0</td>\n",
       "      <td>0.0</td>\n",
       "      <td>0.0</td>\n",
       "      <td>0.0</td>\n",
       "      <td>24</td>\n",
       "      <td>August</td>\n",
       "    </tr>\n",
       "    <tr>\n",
       "      <th>19598</th>\n",
       "      <td>YOUNG WOMEN'S LEADERSHIP SCHOOL, QUEENS</td>\n",
       "      <td>Not Econ Disadv</td>\n",
       "      <td>2024</td>\n",
       "      <td>6</td>\n",
       "      <td>2</td>\n",
       "      <td>12.0</td>\n",
       "      <td>12.0</td>\n",
       "      <td>0.0</td>\n",
       "      <td>0.0</td>\n",
       "      <td>0.0</td>\n",
       "      <td>0.0</td>\n",
       "      <td>12</td>\n",
       "      <td>August</td>\n",
       "    </tr>\n",
       "  </tbody>\n",
       "</table>\n",
       "<p>19599 rows × 13 columns</p>\n",
       "</div>"
      ],
      "text/plain": [
       "                                             School Name         Category  \\\n",
       "0      47 THE AMERICAN SIGN LANGUAGE AND ENGLISH SECO...      Econ Disadv   \n",
       "1      47 THE AMERICAN SIGN LANGUAGE AND ENGLISH SECO...      Econ Disadv   \n",
       "2      47 THE AMERICAN SIGN LANGUAGE AND ENGLISH SECO...      Econ Disadv   \n",
       "3      47 THE AMERICAN SIGN LANGUAGE AND ENGLISH SECO...      Econ Disadv   \n",
       "4      47 THE AMERICAN SIGN LANGUAGE AND ENGLISH SECO...      Econ Disadv   \n",
       "...                                                  ...              ...   \n",
       "19594            YOUNG WOMEN'S LEADERSHIP SCHOOL, QUEENS  Not Econ Disadv   \n",
       "19595            YOUNG WOMEN'S LEADERSHIP SCHOOL, QUEENS  Not Econ Disadv   \n",
       "19596            YOUNG WOMEN'S LEADERSHIP SCHOOL, QUEENS  Not Econ Disadv   \n",
       "19597            YOUNG WOMEN'S LEADERSHIP SCHOOL, QUEENS  Not Econ Disadv   \n",
       "19598            YOUNG WOMEN'S LEADERSHIP SCHOOL, QUEENS  Not Econ Disadv   \n",
       "\n",
       "       Graduation Year  Duration  Cluster  # Grads  # Advanced Regents  \\\n",
       "0                 2018         4        2      NaN                 NaN   \n",
       "1                 2018         5        2      NaN                 NaN   \n",
       "2                 2018         6        2     40.0                 6.0   \n",
       "3                 2019         4        2      NaN                 NaN   \n",
       "4                 2019         5        2      NaN                 NaN   \n",
       "...                ...       ...      ...      ...                 ...   \n",
       "19594             2023         5        2     12.0                12.0   \n",
       "19595             2023         6        2     18.0                15.0   \n",
       "19596             2024         4        2     22.0                17.0   \n",
       "19597             2024         5        2     24.0                 8.0   \n",
       "19598             2024         6        2     12.0                12.0   \n",
       "\n",
       "       # Regents without Advanced  # Local  # Still Enrolled  # Dropout  \\\n",
       "0                             NaN      NaN               NaN        NaN   \n",
       "1                             NaN      NaN               NaN        NaN   \n",
       "2                            29.0      5.0               0.0        1.0   \n",
       "3                             NaN      NaN               NaN        NaN   \n",
       "4                             NaN      NaN               NaN        NaN   \n",
       "...                           ...      ...               ...        ...   \n",
       "19594                         0.0      0.0               0.0        0.0   \n",
       "19595                         3.0      0.0               1.0        0.0   \n",
       "19596                         5.0      0.0               0.0        0.0   \n",
       "19597                        16.0      0.0               0.0        0.0   \n",
       "19598                         0.0      0.0               0.0        0.0   \n",
       "\n",
       "       # Total Cohort Graduation Month  \n",
       "0                  30           August  \n",
       "1                  30           August  \n",
       "2                  43             June  \n",
       "3                  36           August  \n",
       "4                  30           August  \n",
       "...               ...              ...  \n",
       "19594              12           August  \n",
       "19595              19             June  \n",
       "19596              22           August  \n",
       "19597              24           August  \n",
       "19598              12           August  \n",
       "\n",
       "[19599 rows x 13 columns]"
      ]
     },
     "execution_count": 146,
     "metadata": {},
     "output_type": "execute_result"
    }
   ],
   "source": [
    "all_poverty_graduates = filter_data(poverty_graduation, columns=['# Grads','# Advanced Regents', '# Regents without Advanced', '# Local', '# Still Enrolled', '# Dropout'], cluster=True)\n",
    "all_poverty_graduates"
   ]
  },
  {
   "cell_type": "code",
   "execution_count": 147,
   "metadata": {},
   "outputs": [
    {
     "data": {
      "text/html": [
       "<div>\n",
       "<style scoped>\n",
       "    .dataframe tbody tr th:only-of-type {\n",
       "        vertical-align: middle;\n",
       "    }\n",
       "\n",
       "    .dataframe tbody tr th {\n",
       "        vertical-align: top;\n",
       "    }\n",
       "\n",
       "    .dataframe thead th {\n",
       "        text-align: right;\n",
       "    }\n",
       "</style>\n",
       "<table border=\"1\" class=\"dataframe\">\n",
       "  <thead>\n",
       "    <tr style=\"text-align: right;\">\n",
       "      <th></th>\n",
       "      <th>Graduation Year</th>\n",
       "      <th>Category</th>\n",
       "      <th>Duration</th>\n",
       "      <th>Cluster</th>\n",
       "      <th># Total Cohort</th>\n",
       "      <th># Grads</th>\n",
       "      <th># Advanced Regents</th>\n",
       "      <th># Regents without Advanced</th>\n",
       "      <th># Local</th>\n",
       "      <th># Still Enrolled</th>\n",
       "      <th># Dropout</th>\n",
       "      <th>Category Code</th>\n",
       "    </tr>\n",
       "  </thead>\n",
       "  <tbody>\n",
       "    <tr>\n",
       "      <th>0</th>\n",
       "      <td>2018</td>\n",
       "      <td>Econ Disadv</td>\n",
       "      <td>4</td>\n",
       "      <td>0</td>\n",
       "      <td>4121</td>\n",
       "      <td>803.0</td>\n",
       "      <td>20.0</td>\n",
       "      <td>648.0</td>\n",
       "      <td>135.0</td>\n",
       "      <td>2262.0</td>\n",
       "      <td>636.0</td>\n",
       "      <td>0</td>\n",
       "    </tr>\n",
       "    <tr>\n",
       "      <th>1</th>\n",
       "      <td>2018</td>\n",
       "      <td>Econ Disadv</td>\n",
       "      <td>4</td>\n",
       "      <td>1</td>\n",
       "      <td>25496</td>\n",
       "      <td>17423.0</td>\n",
       "      <td>1903.0</td>\n",
       "      <td>13333.0</td>\n",
       "      <td>2187.0</td>\n",
       "      <td>4787.0</td>\n",
       "      <td>2235.0</td>\n",
       "      <td>0</td>\n",
       "    </tr>\n",
       "    <tr>\n",
       "      <th>2</th>\n",
       "      <td>2018</td>\n",
       "      <td>Econ Disadv</td>\n",
       "      <td>4</td>\n",
       "      <td>2</td>\n",
       "      <td>24256</td>\n",
       "      <td>21071.0</td>\n",
       "      <td>7948.0</td>\n",
       "      <td>11893.0</td>\n",
       "      <td>1231.0</td>\n",
       "      <td>2160.0</td>\n",
       "      <td>499.0</td>\n",
       "      <td>0</td>\n",
       "    </tr>\n",
       "    <tr>\n",
       "      <th>3</th>\n",
       "      <td>2018</td>\n",
       "      <td>Econ Disadv</td>\n",
       "      <td>5</td>\n",
       "      <td>0</td>\n",
       "      <td>4280</td>\n",
       "      <td>1565.0</td>\n",
       "      <td>23.0</td>\n",
       "      <td>1184.0</td>\n",
       "      <td>358.0</td>\n",
       "      <td>1380.0</td>\n",
       "      <td>1192.0</td>\n",
       "      <td>0</td>\n",
       "    </tr>\n",
       "    <tr>\n",
       "      <th>4</th>\n",
       "      <td>2018</td>\n",
       "      <td>Econ Disadv</td>\n",
       "      <td>5</td>\n",
       "      <td>1</td>\n",
       "      <td>22904</td>\n",
       "      <td>17001.0</td>\n",
       "      <td>1910.0</td>\n",
       "      <td>12935.0</td>\n",
       "      <td>2156.0</td>\n",
       "      <td>1595.0</td>\n",
       "      <td>3260.0</td>\n",
       "      <td>0</td>\n",
       "    </tr>\n",
       "    <tr>\n",
       "      <th>...</th>\n",
       "      <td>...</td>\n",
       "      <td>...</td>\n",
       "      <td>...</td>\n",
       "      <td>...</td>\n",
       "      <td>...</td>\n",
       "      <td>...</td>\n",
       "      <td>...</td>\n",
       "      <td>...</td>\n",
       "      <td>...</td>\n",
       "      <td>...</td>\n",
       "      <td>...</td>\n",
       "      <td>...</td>\n",
       "    </tr>\n",
       "    <tr>\n",
       "      <th>121</th>\n",
       "      <td>2024</td>\n",
       "      <td>Not Econ Disadv</td>\n",
       "      <td>5</td>\n",
       "      <td>1</td>\n",
       "      <td>5186</td>\n",
       "      <td>4462.0</td>\n",
       "      <td>965.0</td>\n",
       "      <td>3484.0</td>\n",
       "      <td>14.0</td>\n",
       "      <td>71.0</td>\n",
       "      <td>494.0</td>\n",
       "      <td>1</td>\n",
       "    </tr>\n",
       "    <tr>\n",
       "      <th>122</th>\n",
       "      <td>2024</td>\n",
       "      <td>Not Econ Disadv</td>\n",
       "      <td>5</td>\n",
       "      <td>2</td>\n",
       "      <td>11246</td>\n",
       "      <td>10961.0</td>\n",
       "      <td>5705.0</td>\n",
       "      <td>5231.0</td>\n",
       "      <td>25.0</td>\n",
       "      <td>53.0</td>\n",
       "      <td>162.0</td>\n",
       "      <td>1</td>\n",
       "    </tr>\n",
       "    <tr>\n",
       "      <th>123</th>\n",
       "      <td>2024</td>\n",
       "      <td>Not Econ Disadv</td>\n",
       "      <td>6</td>\n",
       "      <td>0</td>\n",
       "      <td>569</td>\n",
       "      <td>328.0</td>\n",
       "      <td>11.0</td>\n",
       "      <td>311.0</td>\n",
       "      <td>6.0</td>\n",
       "      <td>26.0</td>\n",
       "      <td>162.0</td>\n",
       "      <td>1</td>\n",
       "    </tr>\n",
       "    <tr>\n",
       "      <th>124</th>\n",
       "      <td>2024</td>\n",
       "      <td>Not Econ Disadv</td>\n",
       "      <td>6</td>\n",
       "      <td>1</td>\n",
       "      <td>5487</td>\n",
       "      <td>4718.0</td>\n",
       "      <td>1450.0</td>\n",
       "      <td>3247.0</td>\n",
       "      <td>21.0</td>\n",
       "      <td>21.0</td>\n",
       "      <td>585.0</td>\n",
       "      <td>1</td>\n",
       "    </tr>\n",
       "    <tr>\n",
       "      <th>125</th>\n",
       "      <td>2024</td>\n",
       "      <td>Not Econ Disadv</td>\n",
       "      <td>6</td>\n",
       "      <td>2</td>\n",
       "      <td>12052</td>\n",
       "      <td>11744.0</td>\n",
       "      <td>7159.0</td>\n",
       "      <td>4524.0</td>\n",
       "      <td>61.0</td>\n",
       "      <td>28.0</td>\n",
       "      <td>197.0</td>\n",
       "      <td>1</td>\n",
       "    </tr>\n",
       "  </tbody>\n",
       "</table>\n",
       "<p>126 rows × 12 columns</p>\n",
       "</div>"
      ],
      "text/plain": [
       "     Graduation Year         Category  Duration  Cluster  # Total Cohort  \\\n",
       "0               2018      Econ Disadv         4        0            4121   \n",
       "1               2018      Econ Disadv         4        1           25496   \n",
       "2               2018      Econ Disadv         4        2           24256   \n",
       "3               2018      Econ Disadv         5        0            4280   \n",
       "4               2018      Econ Disadv         5        1           22904   \n",
       "..               ...              ...       ...      ...             ...   \n",
       "121             2024  Not Econ Disadv         5        1            5186   \n",
       "122             2024  Not Econ Disadv         5        2           11246   \n",
       "123             2024  Not Econ Disadv         6        0             569   \n",
       "124             2024  Not Econ Disadv         6        1            5487   \n",
       "125             2024  Not Econ Disadv         6        2           12052   \n",
       "\n",
       "     # Grads  # Advanced Regents  # Regents without Advanced  # Local  \\\n",
       "0      803.0                20.0                       648.0    135.0   \n",
       "1    17423.0              1903.0                     13333.0   2187.0   \n",
       "2    21071.0              7948.0                     11893.0   1231.0   \n",
       "3     1565.0                23.0                      1184.0    358.0   \n",
       "4    17001.0              1910.0                     12935.0   2156.0   \n",
       "..       ...                 ...                         ...      ...   \n",
       "121   4462.0               965.0                      3484.0     14.0   \n",
       "122  10961.0              5705.0                      5231.0     25.0   \n",
       "123    328.0                11.0                       311.0      6.0   \n",
       "124   4718.0              1450.0                      3247.0     21.0   \n",
       "125  11744.0              7159.0                      4524.0     61.0   \n",
       "\n",
       "     # Still Enrolled  # Dropout  Category Code  \n",
       "0              2262.0      636.0              0  \n",
       "1              4787.0     2235.0              0  \n",
       "2              2160.0      499.0              0  \n",
       "3              1380.0     1192.0              0  \n",
       "4              1595.0     3260.0              0  \n",
       "..                ...        ...            ...  \n",
       "121              71.0      494.0              1  \n",
       "122              53.0      162.0              1  \n",
       "123              26.0      162.0              1  \n",
       "124              21.0      585.0              1  \n",
       "125              28.0      197.0              1  \n",
       "\n",
       "[126 rows x 12 columns]"
      ]
     },
     "execution_count": 147,
     "metadata": {},
     "output_type": "execute_result"
    }
   ],
   "source": [
    "poverty_data = filter_graduation_data(all_poverty_graduates, ['Graduation Year','Category','Duration'], cluster=True)\n",
    "poverty_data['Category Code'] = poverty_data['Category'].astype('category').cat.codes\n",
    "poverty_data"
   ]
  },
  {
   "cell_type": "markdown",
   "metadata": {},
   "source": [
    "### Correlation Matrix"
   ]
  },
  {
   "cell_type": "code",
   "execution_count": 148,
   "metadata": {},
   "outputs": [
    {
     "data": {
      "application/vnd.plotly.v1+json": {
       "config": {
        "plotlyServerURL": "https://plot.ly"
       },
       "data": [
        {
         "coloraxis": "coloraxis",
         "hovertemplate": "x: %{x}<br>y: %{y}<br>color: %{z}<extra></extra>",
         "name": "0",
         "textfont": {
          "size": 10
         },
         "texttemplate": "%{z}",
         "type": "heatmap",
         "x": [
          "Graduation Year",
          "Duration",
          "Cluster",
          "# Total Cohort",
          "# Grads",
          "# Advanced Regents",
          "# Regents without Advanced",
          "# Local",
          "# Still Enrolled",
          "# Dropout",
          "Category Code"
         ],
         "xaxis": "x",
         "y": [
          "Graduation Year",
          "Duration",
          "Cluster",
          "# Total Cohort",
          "# Grads",
          "# Advanced Regents",
          "# Regents without Advanced",
          "# Local",
          "# Still Enrolled",
          "# Dropout",
          "Category Code"
         ],
         "yaxis": "y",
         "z": [
          [
           1,
           2.4885399503231135e-15,
           1.7093873726417224e-15,
           -0.02863164452722468,
           0.003098856227873839,
           0.12388827345699471,
           -0.021589185755069625,
           -0.4733310807643479,
           -0.21684342919462293,
           -0.23292240466850067,
           1.0194666980089302e-14
          ],
          [
           2.4885399503231135e-15,
           1,
           -3.700743415417188e-17,
           0.008431620113042944,
           0.030888524729844203,
           -0.014579804531844091,
           0.03798442383838613,
           0.16609765070094643,
           -0.5397122546938035,
           0.2637672065862999,
           4.31663477939847e-18
          ],
          [
           1.7093873726417224e-15,
           -3.700743415417188e-17,
           1,
           0.6839797637144308,
           0.7799971033450303,
           0.8709558035770638,
           0.6092273902667502,
           0.19467212827331545,
           -0.09753709523139353,
           -0.05370462547052417,
           1.2949904338195411e-17
          ],
          [
           -0.02863164452722468,
           0.008431620113042944,
           0.6839797637144308,
           1,
           0.9840757276459134,
           0.7455223957467362,
           0.980803892553984,
           0.5193786886574879,
           0.3143011008825579,
           0.524709519539951,
           -0.5982670742068252
          ],
          [
           0.003098856227873839,
           0.030888524729844203,
           0.7799971033450303,
           0.9840757276459134,
           1,
           0.8388352571718971,
           0.9497133523296335,
           0.45039259291242817,
           0.1968126073675419,
           0.39906112389216686,
           -0.5105042020695243
          ],
          [
           0.12388827345699471,
           -0.014579804531844091,
           0.8709558035770638,
           0.7455223957467362,
           0.8388352571718971,
           1,
           0.632151276243629,
           0.042658688854635404,
           -0.023776919919384017,
           -0.09250246082407453,
           -0.2627743425009578
          ],
          [
           -0.021589185755069625,
           0.03798442383838613,
           0.6092273902667502,
           0.980803892553984,
           0.9497133523296335,
           0.632151276243629,
           1,
           0.5607311553377996,
           0.29622997208952445,
           0.6109991300032572,
           -0.5831781925522396
          ],
          [
           -0.4733310807643479,
           0.16609765070094643,
           0.19467212827331545,
           0.5193786886574879,
           0.45039259291242817,
           0.042658688854635404,
           0.5607311553377996,
           1,
           0.26948264338223005,
           0.7034715124591563,
           -0.36632450002539907
          ],
          [
           -0.21684342919462293,
           -0.5397122546938035,
           -0.09753709523139353,
           0.3143011008825579,
           0.1968126073675419,
           -0.023776919919384017,
           0.29622997208952445,
           0.26948264338223005,
           1,
           0.2665581583336207,
           -0.5188461139859517
          ],
          [
           -0.23292240466850067,
           0.2637672065862999,
           -0.05370462547052417,
           0.524709519539951,
           0.39906112389216686,
           -0.09250246082407453,
           0.6109991300032572,
           0.7034715124591563,
           0.2665581583336207,
           1,
           -0.5388783545370814
          ],
          [
           1.0194666980089302e-14,
           4.31663477939847e-18,
           1.2949904338195411e-17,
           -0.5982670742068252,
           -0.5105042020695243,
           -0.2627743425009578,
           -0.5831781925522396,
           -0.36632450002539907,
           -0.5188461139859517,
           -0.5388783545370814,
           1
          ]
         ]
        }
       ],
       "layout": {
        "coloraxis": {
         "colorscale": [
          [
           0,
           "rgb(5,48,97)"
          ],
          [
           0.1,
           "rgb(33,102,172)"
          ],
          [
           0.2,
           "rgb(67,147,195)"
          ],
          [
           0.3,
           "rgb(146,197,222)"
          ],
          [
           0.4,
           "rgb(209,229,240)"
          ],
          [
           0.5,
           "rgb(247,247,247)"
          ],
          [
           0.6,
           "rgb(253,219,199)"
          ],
          [
           0.7,
           "rgb(244,165,130)"
          ],
          [
           0.8,
           "rgb(214,96,77)"
          ],
          [
           0.9,
           "rgb(178,24,43)"
          ],
          [
           1,
           "rgb(103,0,31)"
          ]
         ]
        },
        "height": 800,
        "margin": {
         "b": 125,
         "l": 125,
         "t": 60
        },
        "template": {
         "layout": {
          "plot_bgcolor": "white",
          "xaxis": {
           "gridcolor": "lightgray"
          },
          "yaxis": {
           "gridcolor": "lightgray"
          }
         }
        },
        "width": 1000,
        "xaxis": {
         "anchor": "y",
         "constrain": "domain",
         "domain": [
          0,
          1
         ],
         "scaleanchor": "y"
        },
        "yaxis": {
         "anchor": "x",
         "autorange": "reversed",
         "constrain": "domain",
         "domain": [
          0,
          1
         ]
        }
       }
      }
     },
     "metadata": {},
     "output_type": "display_data"
    }
   ],
   "source": [
    "correlation_matrix(poverty_data.drop('Category', axis=1))"
   ]
  },
  {
   "cell_type": "code",
   "execution_count": 377,
   "metadata": {},
   "outputs": [
    {
     "data": {
      "text/html": [
       "<div>\n",
       "<style scoped>\n",
       "    .dataframe tbody tr th:only-of-type {\n",
       "        vertical-align: middle;\n",
       "    }\n",
       "\n",
       "    .dataframe tbody tr th {\n",
       "        vertical-align: top;\n",
       "    }\n",
       "\n",
       "    .dataframe thead th {\n",
       "        text-align: right;\n",
       "    }\n",
       "</style>\n",
       "<table border=\"1\" class=\"dataframe\">\n",
       "  <thead>\n",
       "    <tr style=\"text-align: right;\">\n",
       "      <th></th>\n",
       "      <th>Category</th>\n",
       "      <th>Cluster</th>\n",
       "      <th># Total Cohort</th>\n",
       "      <th># Grads</th>\n",
       "      <th>General Cohort %</th>\n",
       "    </tr>\n",
       "  </thead>\n",
       "  <tbody>\n",
       "    <tr>\n",
       "      <th>0</th>\n",
       "      <td>Econ Disadv</td>\n",
       "      <td>0</td>\n",
       "      <td>84068</td>\n",
       "      <td>32272.0</td>\n",
       "      <td>81.884150</td>\n",
       "    </tr>\n",
       "    <tr>\n",
       "      <th>1</th>\n",
       "      <td>Econ Disadv</td>\n",
       "      <td>1</td>\n",
       "      <td>494443</td>\n",
       "      <td>377688.0</td>\n",
       "      <td>79.850487</td>\n",
       "    </tr>\n",
       "    <tr>\n",
       "      <th>2</th>\n",
       "      <td>Econ Disadv</td>\n",
       "      <td>2</td>\n",
       "      <td>493755</td>\n",
       "      <td>453759.0</td>\n",
       "      <td>66.727977</td>\n",
       "    </tr>\n",
       "    <tr>\n",
       "      <th>3</th>\n",
       "      <td>Not Econ Disadv</td>\n",
       "      <td>0</td>\n",
       "      <td>18599</td>\n",
       "      <td>8078.0</td>\n",
       "      <td>18.115850</td>\n",
       "    </tr>\n",
       "    <tr>\n",
       "      <th>4</th>\n",
       "      <td>Not Econ Disadv</td>\n",
       "      <td>1</td>\n",
       "      <td>124768</td>\n",
       "      <td>99042.0</td>\n",
       "      <td>20.149513</td>\n",
       "    </tr>\n",
       "    <tr>\n",
       "      <th>5</th>\n",
       "      <td>Not Econ Disadv</td>\n",
       "      <td>2</td>\n",
       "      <td>246197</td>\n",
       "      <td>236022.0</td>\n",
       "      <td>33.272023</td>\n",
       "    </tr>\n",
       "  </tbody>\n",
       "</table>\n",
       "</div>"
      ],
      "text/plain": [
       "          Category  Cluster  # Total Cohort   # Grads  General Cohort %\n",
       "0      Econ Disadv        0           84068   32272.0         81.884150\n",
       "1      Econ Disadv        1          494443  377688.0         79.850487\n",
       "2      Econ Disadv        2          493755  453759.0         66.727977\n",
       "3  Not Econ Disadv        0           18599    8078.0         18.115850\n",
       "4  Not Econ Disadv        1          124768   99042.0         20.149513\n",
       "5  Not Econ Disadv        2          246197  236022.0         33.272023"
      ]
     },
     "execution_count": 377,
     "metadata": {},
     "output_type": "execute_result"
    }
   ],
   "source": [
    "poverty_data_population = filter_population(poverty_data)\n",
    "poverty_data_population"
   ]
  },
  {
   "cell_type": "code",
   "execution_count": 379,
   "metadata": {},
   "outputs": [
    {
     "data": {
      "application/vnd.plotly.v1+json": {
       "config": {
        "plotlyServerURL": "https://plot.ly"
       },
       "data": [
        {
         "marker": {
          "color": "#1f77b4"
         },
         "showlegend": false,
         "type": "bar",
         "x": [
          "Econ Disadv"
         ],
         "xaxis": "x",
         "y": [
          81.8841497267866
         ],
         "yaxis": "y"
        },
        {
         "marker": {
          "color": "#ff7f0e"
         },
         "showlegend": false,
         "type": "bar",
         "x": [
          "Not Econ Disadv"
         ],
         "xaxis": "x",
         "y": [
          18.1158502732134
         ],
         "yaxis": "y"
        },
        {
         "marker": {
          "color": "#1f77b4"
         },
         "showlegend": false,
         "type": "bar",
         "x": [
          "Econ Disadv"
         ],
         "xaxis": "x2",
         "y": [
          79.85048715219853
         ],
         "yaxis": "y2"
        },
        {
         "marker": {
          "color": "#ff7f0e"
         },
         "showlegend": false,
         "type": "bar",
         "x": [
          "Not Econ Disadv"
         ],
         "xaxis": "x2",
         "y": [
          20.149512847801475
         ],
         "yaxis": "y2"
        },
        {
         "marker": {
          "color": "#1f77b4"
         },
         "showlegend": false,
         "type": "bar",
         "x": [
          "Econ Disadv"
         ],
         "xaxis": "x3",
         "y": [
          66.7279769498562
         ],
         "yaxis": "y3"
        },
        {
         "marker": {
          "color": "#ff7f0e"
         },
         "showlegend": false,
         "type": "bar",
         "x": [
          "Not Econ Disadv"
         ],
         "xaxis": "x3",
         "y": [
          33.272023050143794
         ],
         "yaxis": "y3"
        }
       ],
       "layout": {
        "annotations": [
         {
          "font": {
           "size": 16
          },
          "showarrow": false,
          "text": "Cluster 0",
          "x": 0.14444444444444446,
          "xanchor": "center",
          "xref": "paper",
          "y": 1,
          "yanchor": "bottom",
          "yref": "paper"
         },
         {
          "font": {
           "size": 16
          },
          "showarrow": false,
          "text": "Cluster 1",
          "x": 0.5,
          "xanchor": "center",
          "xref": "paper",
          "y": 1,
          "yanchor": "bottom",
          "yref": "paper"
         },
         {
          "font": {
           "size": 16
          },
          "showarrow": false,
          "text": "Cluster 2",
          "x": 0.8555555555555556,
          "xanchor": "center",
          "xref": "paper",
          "y": 1,
          "yanchor": "bottom",
          "yref": "paper"
         }
        ],
        "template": {
         "layout": {
          "plot_bgcolor": "white",
          "xaxis": {
           "gridcolor": "lightgray"
          },
          "yaxis": {
           "gridcolor": "lightgray"
          }
         }
        },
        "title": {
         "text": "Distribution of Population in Every Cluster Based on Poverty Status"
        },
        "xaxis": {
         "anchor": "y",
         "domain": [
          0,
          0.2888888888888889
         ]
        },
        "xaxis2": {
         "anchor": "y2",
         "domain": [
          0.35555555555555557,
          0.6444444444444445
         ]
        },
        "xaxis3": {
         "anchor": "y3",
         "domain": [
          0.7111111111111111,
          1
         ]
        },
        "yaxis": {
         "anchor": "x",
         "domain": [
          0,
          1
         ],
         "range": [
          0,
          81.8841497267866
         ],
         "title": {
          "text": "Distribution %"
         }
        },
        "yaxis2": {
         "anchor": "x2",
         "domain": [
          0,
          1
         ],
         "range": [
          0,
          81.8841497267866
         ],
         "title": {
          "text": "Distribution %"
         }
        },
        "yaxis3": {
         "anchor": "x3",
         "domain": [
          0,
          1
         ],
         "range": [
          0,
          81.8841497267866
         ],
         "title": {
          "text": "Distribution %"
         }
        }
       }
      }
     },
     "metadata": {},
     "output_type": "display_data"
    }
   ],
   "source": [
    "fig = make_subplots(rows=1, cols=len(poverty_data_population['Cluster'].unique()), subplot_titles=('Cluster 0', 'Cluster 1', 'Cluster 2'))\n",
    "\n",
    "for cluster in poverty_data_population['Cluster'].unique():\n",
    "    cluster_row = poverty_data_population[poverty_data_population['Cluster'] ==  cluster]\n",
    "    cluster_index = poverty_data_population['Cluster'].unique().tolist().index(cluster)\n",
    "    for category in cluster_row['Category'].unique():\n",
    "        category_row = cluster_row[cluster_row['Category'] == category]\n",
    "        category_index = cluster_row['Category'].unique().tolist().index(category)\n",
    "        fig.add_trace(go.Bar(x=category_row['Category'], y=category_row['General Cohort %'], marker=dict(color=colors[category_index]), showlegend=False), row=1, col=cluster_index+1)\n",
    "        fig.update_yaxes(range=[0, poverty_data_population['General Cohort %'].max()], title_text='Distribution %')\n",
    "\n",
    "fig.update_layout(title_text='Distribution of Population in Every Cluster Based on Poverty Status')\n",
    "\n",
    "fig.show()"
   ]
  },
  {
   "cell_type": "markdown",
   "metadata": {},
   "source": [
    "### Graduation Rate"
   ]
  },
  {
   "cell_type": "code",
   "execution_count": 385,
   "metadata": {},
   "outputs": [
    {
     "data": {
      "text/html": [
       "<div>\n",
       "<style scoped>\n",
       "    .dataframe tbody tr th:only-of-type {\n",
       "        vertical-align: middle;\n",
       "    }\n",
       "\n",
       "    .dataframe tbody tr th {\n",
       "        vertical-align: top;\n",
       "    }\n",
       "\n",
       "    .dataframe thead th {\n",
       "        text-align: right;\n",
       "    }\n",
       "</style>\n",
       "<table border=\"1\" class=\"dataframe\">\n",
       "  <thead>\n",
       "    <tr style=\"text-align: right;\">\n",
       "      <th></th>\n",
       "      <th>Category</th>\n",
       "      <th>Graduation Year</th>\n",
       "      <th>Cluster</th>\n",
       "      <th># Total Cohort</th>\n",
       "      <th># Grads</th>\n",
       "      <th>Grad %</th>\n",
       "    </tr>\n",
       "  </thead>\n",
       "  <tbody>\n",
       "    <tr>\n",
       "      <th>0</th>\n",
       "      <td>Econ Disadv</td>\n",
       "      <td>2018</td>\n",
       "      <td>0</td>\n",
       "      <td>12828</td>\n",
       "      <td>4443.0</td>\n",
       "      <td>34.635173</td>\n",
       "    </tr>\n",
       "    <tr>\n",
       "      <th>1</th>\n",
       "      <td>Econ Disadv</td>\n",
       "      <td>2018</td>\n",
       "      <td>1</td>\n",
       "      <td>70692</td>\n",
       "      <td>51434.0</td>\n",
       "      <td>72.757879</td>\n",
       "    </tr>\n",
       "    <tr>\n",
       "      <th>2</th>\n",
       "      <td>Econ Disadv</td>\n",
       "      <td>2018</td>\n",
       "      <td>2</td>\n",
       "      <td>67709</td>\n",
       "      <td>60946.0</td>\n",
       "      <td>90.011668</td>\n",
       "    </tr>\n",
       "    <tr>\n",
       "      <th>3</th>\n",
       "      <td>Econ Disadv</td>\n",
       "      <td>2019</td>\n",
       "      <td>0</td>\n",
       "      <td>12950</td>\n",
       "      <td>4777.0</td>\n",
       "      <td>36.888031</td>\n",
       "    </tr>\n",
       "    <tr>\n",
       "      <th>4</th>\n",
       "      <td>Econ Disadv</td>\n",
       "      <td>2019</td>\n",
       "      <td>1</td>\n",
       "      <td>72184</td>\n",
       "      <td>53753.0</td>\n",
       "      <td>74.466641</td>\n",
       "    </tr>\n",
       "    <tr>\n",
       "      <th>5</th>\n",
       "      <td>Econ Disadv</td>\n",
       "      <td>2019</td>\n",
       "      <td>2</td>\n",
       "      <td>69684</td>\n",
       "      <td>63173.0</td>\n",
       "      <td>90.656392</td>\n",
       "    </tr>\n",
       "    <tr>\n",
       "      <th>6</th>\n",
       "      <td>Econ Disadv</td>\n",
       "      <td>2020</td>\n",
       "      <td>0</td>\n",
       "      <td>13448</td>\n",
       "      <td>5402.0</td>\n",
       "      <td>40.169542</td>\n",
       "    </tr>\n",
       "    <tr>\n",
       "      <th>7</th>\n",
       "      <td>Econ Disadv</td>\n",
       "      <td>2020</td>\n",
       "      <td>1</td>\n",
       "      <td>73554</td>\n",
       "      <td>55636.0</td>\n",
       "      <td>75.639666</td>\n",
       "    </tr>\n",
       "    <tr>\n",
       "      <th>8</th>\n",
       "      <td>Econ Disadv</td>\n",
       "      <td>2020</td>\n",
       "      <td>2</td>\n",
       "      <td>70781</td>\n",
       "      <td>64894.0</td>\n",
       "      <td>91.682796</td>\n",
       "    </tr>\n",
       "    <tr>\n",
       "      <th>9</th>\n",
       "      <td>Econ Disadv</td>\n",
       "      <td>2021</td>\n",
       "      <td>0</td>\n",
       "      <td>12440</td>\n",
       "      <td>5254.0</td>\n",
       "      <td>42.234727</td>\n",
       "    </tr>\n",
       "    <tr>\n",
       "      <th>10</th>\n",
       "      <td>Econ Disadv</td>\n",
       "      <td>2021</td>\n",
       "      <td>1</td>\n",
       "      <td>72465</td>\n",
       "      <td>55646.0</td>\n",
       "      <td>76.790175</td>\n",
       "    </tr>\n",
       "    <tr>\n",
       "      <th>11</th>\n",
       "      <td>Econ Disadv</td>\n",
       "      <td>2021</td>\n",
       "      <td>2</td>\n",
       "      <td>71161</td>\n",
       "      <td>65765.0</td>\n",
       "      <td>92.417195</td>\n",
       "    </tr>\n",
       "    <tr>\n",
       "      <th>12</th>\n",
       "      <td>Econ Disadv</td>\n",
       "      <td>2022</td>\n",
       "      <td>0</td>\n",
       "      <td>11116</td>\n",
       "      <td>4637.0</td>\n",
       "      <td>41.714646</td>\n",
       "    </tr>\n",
       "    <tr>\n",
       "      <th>13</th>\n",
       "      <td>Econ Disadv</td>\n",
       "      <td>2022</td>\n",
       "      <td>1</td>\n",
       "      <td>70463</td>\n",
       "      <td>55393.0</td>\n",
       "      <td>78.612889</td>\n",
       "    </tr>\n",
       "    <tr>\n",
       "      <th>14</th>\n",
       "      <td>Econ Disadv</td>\n",
       "      <td>2022</td>\n",
       "      <td>2</td>\n",
       "      <td>71322</td>\n",
       "      <td>66210.0</td>\n",
       "      <td>92.832506</td>\n",
       "    </tr>\n",
       "    <tr>\n",
       "      <th>15</th>\n",
       "      <td>Econ Disadv</td>\n",
       "      <td>2023</td>\n",
       "      <td>0</td>\n",
       "      <td>10394</td>\n",
       "      <td>3855.0</td>\n",
       "      <td>37.088705</td>\n",
       "    </tr>\n",
       "    <tr>\n",
       "      <th>16</th>\n",
       "      <td>Econ Disadv</td>\n",
       "      <td>2023</td>\n",
       "      <td>1</td>\n",
       "      <td>68365</td>\n",
       "      <td>54259.0</td>\n",
       "      <td>79.366635</td>\n",
       "    </tr>\n",
       "    <tr>\n",
       "      <th>17</th>\n",
       "      <td>Econ Disadv</td>\n",
       "      <td>2023</td>\n",
       "      <td>2</td>\n",
       "      <td>71327</td>\n",
       "      <td>66408.0</td>\n",
       "      <td>93.103593</td>\n",
       "    </tr>\n",
       "    <tr>\n",
       "      <th>18</th>\n",
       "      <td>Econ Disadv</td>\n",
       "      <td>2024</td>\n",
       "      <td>0</td>\n",
       "      <td>10892</td>\n",
       "      <td>3904.0</td>\n",
       "      <td>35.842820</td>\n",
       "    </tr>\n",
       "    <tr>\n",
       "      <th>19</th>\n",
       "      <td>Econ Disadv</td>\n",
       "      <td>2024</td>\n",
       "      <td>1</td>\n",
       "      <td>66720</td>\n",
       "      <td>51567.0</td>\n",
       "      <td>77.288669</td>\n",
       "    </tr>\n",
       "    <tr>\n",
       "      <th>20</th>\n",
       "      <td>Econ Disadv</td>\n",
       "      <td>2024</td>\n",
       "      <td>2</td>\n",
       "      <td>71771</td>\n",
       "      <td>66363.0</td>\n",
       "      <td>92.464923</td>\n",
       "    </tr>\n",
       "    <tr>\n",
       "      <th>21</th>\n",
       "      <td>Not Econ Disadv</td>\n",
       "      <td>2018</td>\n",
       "      <td>0</td>\n",
       "      <td>3703</td>\n",
       "      <td>1460.0</td>\n",
       "      <td>39.427491</td>\n",
       "    </tr>\n",
       "    <tr>\n",
       "      <th>22</th>\n",
       "      <td>Not Econ Disadv</td>\n",
       "      <td>2018</td>\n",
       "      <td>1</td>\n",
       "      <td>21910</td>\n",
       "      <td>15739.0</td>\n",
       "      <td>71.834779</td>\n",
       "    </tr>\n",
       "    <tr>\n",
       "      <th>23</th>\n",
       "      <td>Not Econ Disadv</td>\n",
       "      <td>2018</td>\n",
       "      <td>2</td>\n",
       "      <td>36496</td>\n",
       "      <td>34249.0</td>\n",
       "      <td>93.843161</td>\n",
       "    </tr>\n",
       "    <tr>\n",
       "      <th>24</th>\n",
       "      <td>Not Econ Disadv</td>\n",
       "      <td>2019</td>\n",
       "      <td>0</td>\n",
       "      <td>3497</td>\n",
       "      <td>1376.0</td>\n",
       "      <td>39.348013</td>\n",
       "    </tr>\n",
       "    <tr>\n",
       "      <th>25</th>\n",
       "      <td>Not Econ Disadv</td>\n",
       "      <td>2019</td>\n",
       "      <td>1</td>\n",
       "      <td>19676</td>\n",
       "      <td>14699.0</td>\n",
       "      <td>74.705225</td>\n",
       "    </tr>\n",
       "    <tr>\n",
       "      <th>26</th>\n",
       "      <td>Not Econ Disadv</td>\n",
       "      <td>2019</td>\n",
       "      <td>2</td>\n",
       "      <td>35133</td>\n",
       "      <td>33186.0</td>\n",
       "      <td>94.458202</td>\n",
       "    </tr>\n",
       "    <tr>\n",
       "      <th>27</th>\n",
       "      <td>Not Econ Disadv</td>\n",
       "      <td>2020</td>\n",
       "      <td>0</td>\n",
       "      <td>3048</td>\n",
       "      <td>1296.0</td>\n",
       "      <td>42.519685</td>\n",
       "    </tr>\n",
       "    <tr>\n",
       "      <th>28</th>\n",
       "      <td>Not Econ Disadv</td>\n",
       "      <td>2020</td>\n",
       "      <td>1</td>\n",
       "      <td>17965</td>\n",
       "      <td>14083.0</td>\n",
       "      <td>78.391316</td>\n",
       "    </tr>\n",
       "    <tr>\n",
       "      <th>29</th>\n",
       "      <td>Not Econ Disadv</td>\n",
       "      <td>2020</td>\n",
       "      <td>2</td>\n",
       "      <td>34741</td>\n",
       "      <td>33197.0</td>\n",
       "      <td>95.555683</td>\n",
       "    </tr>\n",
       "    <tr>\n",
       "      <th>30</th>\n",
       "      <td>Not Econ Disadv</td>\n",
       "      <td>2021</td>\n",
       "      <td>0</td>\n",
       "      <td>2617</td>\n",
       "      <td>1201.0</td>\n",
       "      <td>45.892243</td>\n",
       "    </tr>\n",
       "    <tr>\n",
       "      <th>31</th>\n",
       "      <td>Not Econ Disadv</td>\n",
       "      <td>2021</td>\n",
       "      <td>1</td>\n",
       "      <td>17093</td>\n",
       "      <td>13974.0</td>\n",
       "      <td>81.752764</td>\n",
       "    </tr>\n",
       "    <tr>\n",
       "      <th>32</th>\n",
       "      <td>Not Econ Disadv</td>\n",
       "      <td>2021</td>\n",
       "      <td>2</td>\n",
       "      <td>35024</td>\n",
       "      <td>33769.0</td>\n",
       "      <td>96.416743</td>\n",
       "    </tr>\n",
       "    <tr>\n",
       "      <th>33</th>\n",
       "      <td>Not Econ Disadv</td>\n",
       "      <td>2022</td>\n",
       "      <td>0</td>\n",
       "      <td>2217</td>\n",
       "      <td>1063.0</td>\n",
       "      <td>47.947677</td>\n",
       "    </tr>\n",
       "    <tr>\n",
       "      <th>34</th>\n",
       "      <td>Not Econ Disadv</td>\n",
       "      <td>2022</td>\n",
       "      <td>1</td>\n",
       "      <td>16816</td>\n",
       "      <td>13991.0</td>\n",
       "      <td>83.200523</td>\n",
       "    </tr>\n",
       "    <tr>\n",
       "      <th>35</th>\n",
       "      <td>Not Econ Disadv</td>\n",
       "      <td>2022</td>\n",
       "      <td>2</td>\n",
       "      <td>35628</td>\n",
       "      <td>34469.0</td>\n",
       "      <td>96.746941</td>\n",
       "    </tr>\n",
       "    <tr>\n",
       "      <th>36</th>\n",
       "      <td>Not Econ Disadv</td>\n",
       "      <td>2023</td>\n",
       "      <td>0</td>\n",
       "      <td>1856</td>\n",
       "      <td>877.0</td>\n",
       "      <td>47.252155</td>\n",
       "    </tr>\n",
       "    <tr>\n",
       "      <th>37</th>\n",
       "      <td>Not Econ Disadv</td>\n",
       "      <td>2023</td>\n",
       "      <td>1</td>\n",
       "      <td>16236</td>\n",
       "      <td>13752.0</td>\n",
       "      <td>84.700665</td>\n",
       "    </tr>\n",
       "    <tr>\n",
       "      <th>38</th>\n",
       "      <td>Not Econ Disadv</td>\n",
       "      <td>2023</td>\n",
       "      <td>2</td>\n",
       "      <td>35337</td>\n",
       "      <td>34281.0</td>\n",
       "      <td>97.011631</td>\n",
       "    </tr>\n",
       "    <tr>\n",
       "      <th>39</th>\n",
       "      <td>Not Econ Disadv</td>\n",
       "      <td>2024</td>\n",
       "      <td>0</td>\n",
       "      <td>1661</td>\n",
       "      <td>805.0</td>\n",
       "      <td>48.464780</td>\n",
       "    </tr>\n",
       "    <tr>\n",
       "      <th>40</th>\n",
       "      <td>Not Econ Disadv</td>\n",
       "      <td>2024</td>\n",
       "      <td>1</td>\n",
       "      <td>15072</td>\n",
       "      <td>12804.0</td>\n",
       "      <td>84.952229</td>\n",
       "    </tr>\n",
       "    <tr>\n",
       "      <th>41</th>\n",
       "      <td>Not Econ Disadv</td>\n",
       "      <td>2024</td>\n",
       "      <td>2</td>\n",
       "      <td>33838</td>\n",
       "      <td>32871.0</td>\n",
       "      <td>97.142266</td>\n",
       "    </tr>\n",
       "  </tbody>\n",
       "</table>\n",
       "</div>"
      ],
      "text/plain": [
       "           Category  Graduation Year  Cluster  # Total Cohort  # Grads  \\\n",
       "0       Econ Disadv             2018        0           12828   4443.0   \n",
       "1       Econ Disadv             2018        1           70692  51434.0   \n",
       "2       Econ Disadv             2018        2           67709  60946.0   \n",
       "3       Econ Disadv             2019        0           12950   4777.0   \n",
       "4       Econ Disadv             2019        1           72184  53753.0   \n",
       "5       Econ Disadv             2019        2           69684  63173.0   \n",
       "6       Econ Disadv             2020        0           13448   5402.0   \n",
       "7       Econ Disadv             2020        1           73554  55636.0   \n",
       "8       Econ Disadv             2020        2           70781  64894.0   \n",
       "9       Econ Disadv             2021        0           12440   5254.0   \n",
       "10      Econ Disadv             2021        1           72465  55646.0   \n",
       "11      Econ Disadv             2021        2           71161  65765.0   \n",
       "12      Econ Disadv             2022        0           11116   4637.0   \n",
       "13      Econ Disadv             2022        1           70463  55393.0   \n",
       "14      Econ Disadv             2022        2           71322  66210.0   \n",
       "15      Econ Disadv             2023        0           10394   3855.0   \n",
       "16      Econ Disadv             2023        1           68365  54259.0   \n",
       "17      Econ Disadv             2023        2           71327  66408.0   \n",
       "18      Econ Disadv             2024        0           10892   3904.0   \n",
       "19      Econ Disadv             2024        1           66720  51567.0   \n",
       "20      Econ Disadv             2024        2           71771  66363.0   \n",
       "21  Not Econ Disadv             2018        0            3703   1460.0   \n",
       "22  Not Econ Disadv             2018        1           21910  15739.0   \n",
       "23  Not Econ Disadv             2018        2           36496  34249.0   \n",
       "24  Not Econ Disadv             2019        0            3497   1376.0   \n",
       "25  Not Econ Disadv             2019        1           19676  14699.0   \n",
       "26  Not Econ Disadv             2019        2           35133  33186.0   \n",
       "27  Not Econ Disadv             2020        0            3048   1296.0   \n",
       "28  Not Econ Disadv             2020        1           17965  14083.0   \n",
       "29  Not Econ Disadv             2020        2           34741  33197.0   \n",
       "30  Not Econ Disadv             2021        0            2617   1201.0   \n",
       "31  Not Econ Disadv             2021        1           17093  13974.0   \n",
       "32  Not Econ Disadv             2021        2           35024  33769.0   \n",
       "33  Not Econ Disadv             2022        0            2217   1063.0   \n",
       "34  Not Econ Disadv             2022        1           16816  13991.0   \n",
       "35  Not Econ Disadv             2022        2           35628  34469.0   \n",
       "36  Not Econ Disadv             2023        0            1856    877.0   \n",
       "37  Not Econ Disadv             2023        1           16236  13752.0   \n",
       "38  Not Econ Disadv             2023        2           35337  34281.0   \n",
       "39  Not Econ Disadv             2024        0            1661    805.0   \n",
       "40  Not Econ Disadv             2024        1           15072  12804.0   \n",
       "41  Not Econ Disadv             2024        2           33838  32871.0   \n",
       "\n",
       "       Grad %  \n",
       "0   34.635173  \n",
       "1   72.757879  \n",
       "2   90.011668  \n",
       "3   36.888031  \n",
       "4   74.466641  \n",
       "5   90.656392  \n",
       "6   40.169542  \n",
       "7   75.639666  \n",
       "8   91.682796  \n",
       "9   42.234727  \n",
       "10  76.790175  \n",
       "11  92.417195  \n",
       "12  41.714646  \n",
       "13  78.612889  \n",
       "14  92.832506  \n",
       "15  37.088705  \n",
       "16  79.366635  \n",
       "17  93.103593  \n",
       "18  35.842820  \n",
       "19  77.288669  \n",
       "20  92.464923  \n",
       "21  39.427491  \n",
       "22  71.834779  \n",
       "23  93.843161  \n",
       "24  39.348013  \n",
       "25  74.705225  \n",
       "26  94.458202  \n",
       "27  42.519685  \n",
       "28  78.391316  \n",
       "29  95.555683  \n",
       "30  45.892243  \n",
       "31  81.752764  \n",
       "32  96.416743  \n",
       "33  47.947677  \n",
       "34  83.200523  \n",
       "35  96.746941  \n",
       "36  47.252155  \n",
       "37  84.700665  \n",
       "38  97.011631  \n",
       "39  48.464780  \n",
       "40  84.952229  \n",
       "41  97.142266  "
      ]
     },
     "execution_count": 385,
     "metadata": {},
     "output_type": "execute_result"
    }
   ],
   "source": [
    "poverty_data_graduation_rate = filter_graduation_rate(poverty_data)\n",
    "poverty_data_graduation_rate"
   ]
  },
  {
   "cell_type": "code",
   "execution_count": 389,
   "metadata": {},
   "outputs": [
    {
     "data": {
      "application/vnd.plotly.v1+json": {
       "config": {
        "plotlyServerURL": "https://plot.ly"
       },
       "data": [
        {
         "line": {
          "color": "#1f77b4"
         },
         "name": "Econ Disadv",
         "showlegend": false,
         "type": "scatter",
         "x": [
          2018,
          2019,
          2020,
          2021,
          2022,
          2023,
          2024
         ],
         "xaxis": "x",
         "y": [
          34.63517305893358,
          36.88803088803089,
          40.16954193932183,
          42.23472668810289,
          41.71464555595538,
          37.088705022128146,
          35.8428204186559
         ],
         "yaxis": "y"
        },
        {
         "line": {
          "color": "#ff7f0e"
         },
         "name": "Not Econ Disadv",
         "showlegend": false,
         "type": "scatter",
         "x": [
          2018,
          2019,
          2020,
          2021,
          2022,
          2023,
          2024
         ],
         "xaxis": "x",
         "y": [
          39.42749122333243,
          39.34801258221333,
          42.51968503937008,
          45.89224302636607,
          47.94767704104646,
          47.252155172413794,
          48.464780252859725
         ],
         "yaxis": "y"
        },
        {
         "line": {
          "color": "#1f77b4"
         },
         "name": "Econ Disadv",
         "showlegend": false,
         "type": "scatter",
         "x": [
          2018,
          2019,
          2020,
          2021,
          2022,
          2023,
          2024
         ],
         "xaxis": "x2",
         "y": [
          72.7578792508346,
          74.466640806827,
          75.6396660956576,
          76.79017456703237,
          78.61288903396108,
          79.36663497403642,
          77.2886690647482
         ],
         "yaxis": "y2"
        },
        {
         "line": {
          "color": "#ff7f0e"
         },
         "name": "Not Econ Disadv",
         "showlegend": false,
         "type": "scatter",
         "x": [
          2018,
          2019,
          2020,
          2021,
          2022,
          2023,
          2024
         ],
         "xaxis": "x2",
         "y": [
          71.83477863989046,
          74.7052246391543,
          78.39131644865014,
          81.75276428947522,
          83.20052331113226,
          84.70066518847007,
          84.95222929936305
         ],
         "yaxis": "y2"
        },
        {
         "line": {
          "color": "#1f77b4"
         },
         "name": "Econ Disadv",
         "type": "scatter",
         "x": [
          2018,
          2019,
          2020,
          2021,
          2022,
          2023,
          2024
         ],
         "xaxis": "x3",
         "y": [
          90.01166757742693,
          90.6563917111532,
          91.68279623062686,
          92.41719481176487,
          92.83250609909986,
          93.10359330968637,
          92.46492315837872
         ],
         "yaxis": "y3"
        },
        {
         "line": {
          "color": "#ff7f0e"
         },
         "name": "Not Econ Disadv",
         "type": "scatter",
         "x": [
          2018,
          2019,
          2020,
          2021,
          2022,
          2023,
          2024
         ],
         "xaxis": "x3",
         "y": [
          93.84316089434459,
          94.45820169071813,
          95.55568348637057,
          96.41674280493376,
          96.74694060851016,
          97.01163086849478,
          97.14226609137656
         ],
         "yaxis": "y3"
        }
       ],
       "layout": {
        "annotations": [
         {
          "font": {
           "size": 16
          },
          "showarrow": false,
          "text": "Cluster 0",
          "x": 0.14444444444444446,
          "xanchor": "center",
          "xref": "paper",
          "y": 1,
          "yanchor": "bottom",
          "yref": "paper"
         },
         {
          "font": {
           "size": 16
          },
          "showarrow": false,
          "text": "Cluster 1",
          "x": 0.5,
          "xanchor": "center",
          "xref": "paper",
          "y": 1,
          "yanchor": "bottom",
          "yref": "paper"
         },
         {
          "font": {
           "size": 16
          },
          "showarrow": false,
          "text": "Cluster 2",
          "x": 0.8555555555555556,
          "xanchor": "center",
          "xref": "paper",
          "y": 1,
          "yanchor": "bottom",
          "yref": "paper"
         }
        ],
        "template": {
         "layout": {
          "plot_bgcolor": "white",
          "xaxis": {
           "gridcolor": "lightgray"
          },
          "yaxis": {
           "gridcolor": "lightgray"
          }
         }
        },
        "title": {
         "text": "Graduation Rate from 2018 to 2024 in Every Cluster Based on Poverty Status"
        },
        "xaxis": {
         "anchor": "y",
         "domain": [
          0,
          0.2888888888888889
         ],
         "title": {
          "text": "Year"
         }
        },
        "xaxis2": {
         "anchor": "y2",
         "domain": [
          0.35555555555555557,
          0.6444444444444445
         ],
         "title": {
          "text": "Year"
         }
        },
        "xaxis3": {
         "anchor": "y3",
         "domain": [
          0.7111111111111111,
          1
         ],
         "title": {
          "text": "Year"
         }
        },
        "yaxis": {
         "anchor": "x",
         "domain": [
          0,
          1
         ],
         "range": [
          34.63517305893358,
          97.14226609137656
         ],
         "title": {
          "text": "Graduation %"
         }
        },
        "yaxis2": {
         "anchor": "x2",
         "domain": [
          0,
          1
         ],
         "range": [
          34.63517305893358,
          97.14226609137656
         ],
         "title": {
          "text": "Graduation %"
         }
        },
        "yaxis3": {
         "anchor": "x3",
         "domain": [
          0,
          1
         ],
         "range": [
          34.63517305893358,
          97.14226609137656
         ],
         "title": {
          "text": "Graduation %"
         }
        }
       }
      }
     },
     "metadata": {},
     "output_type": "display_data"
    }
   ],
   "source": [
    "fig = make_subplots(rows=1, cols=len(poverty_data_graduation_rate['Cluster'].unique()), subplot_titles=('Cluster 0', 'Cluster 1', 'Cluster 2'))\n",
    "\n",
    "for cluster in poverty_data_graduation_rate['Cluster'].unique():\n",
    "    cluster_row = poverty_data_graduation_rate[poverty_data_graduation_rate['Cluster'] == cluster]\n",
    "    cluster_index = poverty_data_graduation_rate['Cluster'].unique().tolist().index(cluster)\n",
    "    for category in cluster_row['Category'].unique():\n",
    "        category_row = cluster_row[cluster_row['Category'] == category]\n",
    "        category_index = cluster_row['Category'].unique().tolist().index(category)\n",
    "        fig.add_trace(go.Scatter(x=category_row['Graduation Year'], y=category_row['Grad %'], name=category, line=dict(color=colors[category_index])), row=1, col=cluster_index+1)\n",
    "        fig.update_yaxes(range=[poverty_data_graduation_rate['Grad %'].min(), poverty_data_graduation_rate['Grad %'].max()], title_text='Graduation %')\n",
    "        fig.update_xaxes(title_text='Year')\n",
    "\n",
    "fig.update_layout(title_text='Graduation Rate from 2018 to 2024 in Every Cluster Based on Poverty Status')\n",
    "\n",
    "for i in range(len(fig.data) - len(poverty_data_graduation_rate['Category'].unique())):\n",
    "    fig.data[i].showlegend = False\n",
    "\n",
    "fig.show()"
   ]
  },
  {
   "cell_type": "markdown",
   "metadata": {},
   "source": [
    "### Dropouts"
   ]
  },
  {
   "cell_type": "code",
   "execution_count": 390,
   "metadata": {},
   "outputs": [
    {
     "data": {
      "text/html": [
       "<div>\n",
       "<style scoped>\n",
       "    .dataframe tbody tr th:only-of-type {\n",
       "        vertical-align: middle;\n",
       "    }\n",
       "\n",
       "    .dataframe tbody tr th {\n",
       "        vertical-align: top;\n",
       "    }\n",
       "\n",
       "    .dataframe thead th {\n",
       "        text-align: right;\n",
       "    }\n",
       "</style>\n",
       "<table border=\"1\" class=\"dataframe\">\n",
       "  <thead>\n",
       "    <tr style=\"text-align: right;\">\n",
       "      <th></th>\n",
       "      <th>Category</th>\n",
       "      <th>Cluster</th>\n",
       "      <th># Dropout</th>\n",
       "      <th># Total Cohort</th>\n",
       "      <th># Grads</th>\n",
       "      <th># No Grads</th>\n",
       "      <th>Dropout %</th>\n",
       "    </tr>\n",
       "  </thead>\n",
       "  <tbody>\n",
       "    <tr>\n",
       "      <th>0</th>\n",
       "      <td>Econ Disadv</td>\n",
       "      <td>0</td>\n",
       "      <td>19389.0</td>\n",
       "      <td>84068</td>\n",
       "      <td>32272.0</td>\n",
       "      <td>51796.0</td>\n",
       "      <td>37.433393</td>\n",
       "    </tr>\n",
       "    <tr>\n",
       "      <th>1</th>\n",
       "      <td>Econ Disadv</td>\n",
       "      <td>1</td>\n",
       "      <td>52679.0</td>\n",
       "      <td>494443</td>\n",
       "      <td>377688.0</td>\n",
       "      <td>116755.0</td>\n",
       "      <td>45.119267</td>\n",
       "    </tr>\n",
       "    <tr>\n",
       "      <th>2</th>\n",
       "      <td>Econ Disadv</td>\n",
       "      <td>2</td>\n",
       "      <td>14409.0</td>\n",
       "      <td>493755</td>\n",
       "      <td>453759.0</td>\n",
       "      <td>39996.0</td>\n",
       "      <td>36.026103</td>\n",
       "    </tr>\n",
       "    <tr>\n",
       "      <th>3</th>\n",
       "      <td>Not Econ Disadv</td>\n",
       "      <td>0</td>\n",
       "      <td>5209.0</td>\n",
       "      <td>18599</td>\n",
       "      <td>8078.0</td>\n",
       "      <td>10521.0</td>\n",
       "      <td>49.510503</td>\n",
       "    </tr>\n",
       "    <tr>\n",
       "      <th>4</th>\n",
       "      <td>Not Econ Disadv</td>\n",
       "      <td>1</td>\n",
       "      <td>17410.0</td>\n",
       "      <td>124768</td>\n",
       "      <td>99042.0</td>\n",
       "      <td>25726.0</td>\n",
       "      <td>67.674726</td>\n",
       "    </tr>\n",
       "    <tr>\n",
       "      <th>5</th>\n",
       "      <td>Not Econ Disadv</td>\n",
       "      <td>2</td>\n",
       "      <td>5435.0</td>\n",
       "      <td>246197</td>\n",
       "      <td>236022.0</td>\n",
       "      <td>10175.0</td>\n",
       "      <td>53.415233</td>\n",
       "    </tr>\n",
       "  </tbody>\n",
       "</table>\n",
       "</div>"
      ],
      "text/plain": [
       "          Category  Cluster  # Dropout  # Total Cohort   # Grads  # No Grads  \\\n",
       "0      Econ Disadv        0    19389.0           84068   32272.0     51796.0   \n",
       "1      Econ Disadv        1    52679.0          494443  377688.0    116755.0   \n",
       "2      Econ Disadv        2    14409.0          493755  453759.0     39996.0   \n",
       "3  Not Econ Disadv        0     5209.0           18599    8078.0     10521.0   \n",
       "4  Not Econ Disadv        1    17410.0          124768   99042.0     25726.0   \n",
       "5  Not Econ Disadv        2     5435.0          246197  236022.0     10175.0   \n",
       "\n",
       "   Dropout %  \n",
       "0  37.433393  \n",
       "1  45.119267  \n",
       "2  36.026103  \n",
       "3  49.510503  \n",
       "4  67.674726  \n",
       "5  53.415233  "
      ]
     },
     "execution_count": 390,
     "metadata": {},
     "output_type": "execute_result"
    }
   ],
   "source": [
    "poverty_data_dropout =  filter_dropout(poverty_data)\n",
    "poverty_data_dropout"
   ]
  },
  {
   "cell_type": "code",
   "execution_count": 402,
   "metadata": {},
   "outputs": [
    {
     "data": {
      "application/vnd.plotly.v1+json": {
       "config": {
        "plotlyServerURL": "https://plot.ly"
       },
       "data": [
        {
         "marker": {
          "color": "#1f77b4"
         },
         "showlegend": false,
         "type": "bar",
         "x": [
          "Econ Disadv"
         ],
         "xaxis": "x",
         "y": [
          37.43339253996448
         ],
         "yaxis": "y"
        },
        {
         "marker": {
          "color": "#ff7f0e"
         },
         "showlegend": false,
         "type": "bar",
         "x": [
          "Not Econ Disadv"
         ],
         "xaxis": "x",
         "y": [
          49.510502803915976
         ],
         "yaxis": "y"
        },
        {
         "marker": {
          "color": "#1f77b4"
         },
         "showlegend": false,
         "type": "bar",
         "x": [
          "Econ Disadv"
         ],
         "xaxis": "x2",
         "y": [
          45.11926684082052
         ],
         "yaxis": "y2"
        },
        {
         "marker": {
          "color": "#ff7f0e"
         },
         "showlegend": false,
         "type": "bar",
         "x": [
          "Not Econ Disadv"
         ],
         "xaxis": "x2",
         "y": [
          67.6747259581746
         ],
         "yaxis": "y2"
        },
        {
         "marker": {
          "color": "#1f77b4"
         },
         "showlegend": false,
         "type": "bar",
         "x": [
          "Econ Disadv"
         ],
         "xaxis": "x3",
         "y": [
          36.02610261026102
         ],
         "yaxis": "y3"
        },
        {
         "marker": {
          "color": "#ff7f0e"
         },
         "showlegend": false,
         "type": "bar",
         "x": [
          "Not Econ Disadv"
         ],
         "xaxis": "x3",
         "y": [
          53.41523341523342
         ],
         "yaxis": "y3"
        }
       ],
       "layout": {
        "annotations": [
         {
          "font": {
           "size": 16
          },
          "showarrow": false,
          "text": "Cluster 0",
          "x": 0.14444444444444446,
          "xanchor": "center",
          "xref": "paper",
          "y": 1,
          "yanchor": "bottom",
          "yref": "paper"
         },
         {
          "font": {
           "size": 16
          },
          "showarrow": false,
          "text": "Cluster 1",
          "x": 0.5,
          "xanchor": "center",
          "xref": "paper",
          "y": 1,
          "yanchor": "bottom",
          "yref": "paper"
         },
         {
          "font": {
           "size": 16
          },
          "showarrow": false,
          "text": "Cluster 2",
          "x": 0.8555555555555556,
          "xanchor": "center",
          "xref": "paper",
          "y": 1,
          "yanchor": "bottom",
          "yref": "paper"
         }
        ],
        "template": {
         "layout": {
          "plot_bgcolor": "white",
          "xaxis": {
           "gridcolor": "lightgray"
          },
          "yaxis": {
           "gridcolor": "lightgray"
          }
         }
        },
        "title": {
         "text": "Dropout Rate of Non-Graduates in Every Cluster by Poverty Status"
        },
        "xaxis": {
         "anchor": "y",
         "domain": [
          0,
          0.2888888888888889
         ]
        },
        "xaxis2": {
         "anchor": "y2",
         "domain": [
          0.35555555555555557,
          0.6444444444444445
         ]
        },
        "xaxis3": {
         "anchor": "y3",
         "domain": [
          0.7111111111111111,
          1
         ]
        },
        "yaxis": {
         "anchor": "x",
         "domain": [
          0,
          1
         ],
         "range": [
          0,
          67.6747259581746
         ],
         "title": {
          "text": "Dropout %"
         }
        },
        "yaxis2": {
         "anchor": "x2",
         "domain": [
          0,
          1
         ],
         "range": [
          0,
          67.6747259581746
         ],
         "title": {
          "text": "Dropout %"
         }
        },
        "yaxis3": {
         "anchor": "x3",
         "domain": [
          0,
          1
         ],
         "range": [
          0,
          67.6747259581746
         ],
         "title": {
          "text": "Dropout %"
         }
        }
       }
      }
     },
     "metadata": {},
     "output_type": "display_data"
    }
   ],
   "source": [
    "fig = make_subplots(rows=1, cols=len(poverty_data_dropout['Cluster'].unique()), subplot_titles=('Cluster 0', 'Cluster 1', 'Cluster 2'))\n",
    "\n",
    "for cluster in poverty_data_dropout['Cluster'].unique():\n",
    "    cluster_row = poverty_data_dropout[poverty_data_dropout['Cluster'] == cluster]\n",
    "    cluster_index = poverty_data_dropout['Cluster'].unique().tolist().index(cluster)\n",
    "    for category in cluster_row['Category'].unique():\n",
    "        category_row = cluster_row[cluster_row['Category'] == category]\n",
    "        category_index = cluster_row['Category'].unique().tolist().index(category)\n",
    "        fig.add_trace(go.Bar(x=category_row['Category'], y=category_row['Dropout %'], marker=dict(color=colors[category_index]), showlegend=False), row=1, col=cluster_index+1)\n",
    "        fig.update_yaxes(range=[0, poverty_data_dropout['Dropout %'].max()], title_text='Dropout %')\n",
    "\n",
    "fig.update_layout(title_text='Dropout Rate of Non-Graduates in Every Cluster by Poverty Status')\n",
    "\n",
    "fig.show()"
   ]
  },
  {
   "cell_type": "code",
   "execution_count": 397,
   "metadata": {},
   "outputs": [
    {
     "data": {
      "text/html": [
       "<div>\n",
       "<style scoped>\n",
       "    .dataframe tbody tr th:only-of-type {\n",
       "        vertical-align: middle;\n",
       "    }\n",
       "\n",
       "    .dataframe tbody tr th {\n",
       "        vertical-align: top;\n",
       "    }\n",
       "\n",
       "    .dataframe thead th {\n",
       "        text-align: right;\n",
       "    }\n",
       "</style>\n",
       "<table border=\"1\" class=\"dataframe\">\n",
       "  <thead>\n",
       "    <tr style=\"text-align: right;\">\n",
       "      <th></th>\n",
       "      <th>Category</th>\n",
       "      <th>Graduation Year</th>\n",
       "      <th>Cluster</th>\n",
       "      <th># Dropout</th>\n",
       "      <th># Total Cohort</th>\n",
       "      <th># Grads</th>\n",
       "      <th># No Grads</th>\n",
       "      <th>Dropout %</th>\n",
       "    </tr>\n",
       "  </thead>\n",
       "  <tbody>\n",
       "    <tr>\n",
       "      <th>0</th>\n",
       "      <td>Econ Disadv</td>\n",
       "      <td>2018</td>\n",
       "      <td>0</td>\n",
       "      <td>3320.0</td>\n",
       "      <td>12828</td>\n",
       "      <td>4443.0</td>\n",
       "      <td>8385.0</td>\n",
       "      <td>39.594514</td>\n",
       "    </tr>\n",
       "    <tr>\n",
       "      <th>1</th>\n",
       "      <td>Econ Disadv</td>\n",
       "      <td>2018</td>\n",
       "      <td>1</td>\n",
       "      <td>9014.0</td>\n",
       "      <td>70692</td>\n",
       "      <td>51434.0</td>\n",
       "      <td>19258.0</td>\n",
       "      <td>46.806522</td>\n",
       "    </tr>\n",
       "    <tr>\n",
       "      <th>2</th>\n",
       "      <td>Econ Disadv</td>\n",
       "      <td>2018</td>\n",
       "      <td>2</td>\n",
       "      <td>2015.0</td>\n",
       "      <td>67709</td>\n",
       "      <td>60946.0</td>\n",
       "      <td>6763.0</td>\n",
       "      <td>29.794470</td>\n",
       "    </tr>\n",
       "    <tr>\n",
       "      <th>3</th>\n",
       "      <td>Econ Disadv</td>\n",
       "      <td>2019</td>\n",
       "      <td>0</td>\n",
       "      <td>3689.0</td>\n",
       "      <td>12950</td>\n",
       "      <td>4777.0</td>\n",
       "      <td>8173.0</td>\n",
       "      <td>45.136425</td>\n",
       "    </tr>\n",
       "    <tr>\n",
       "      <th>4</th>\n",
       "      <td>Econ Disadv</td>\n",
       "      <td>2019</td>\n",
       "      <td>1</td>\n",
       "      <td>9827.0</td>\n",
       "      <td>72184</td>\n",
       "      <td>53753.0</td>\n",
       "      <td>18431.0</td>\n",
       "      <td>53.317780</td>\n",
       "    </tr>\n",
       "    <tr>\n",
       "      <th>5</th>\n",
       "      <td>Econ Disadv</td>\n",
       "      <td>2019</td>\n",
       "      <td>2</td>\n",
       "      <td>2424.0</td>\n",
       "      <td>69684</td>\n",
       "      <td>63173.0</td>\n",
       "      <td>6511.0</td>\n",
       "      <td>37.229304</td>\n",
       "    </tr>\n",
       "    <tr>\n",
       "      <th>6</th>\n",
       "      <td>Econ Disadv</td>\n",
       "      <td>2020</td>\n",
       "      <td>0</td>\n",
       "      <td>3004.0</td>\n",
       "      <td>13448</td>\n",
       "      <td>5402.0</td>\n",
       "      <td>8046.0</td>\n",
       "      <td>37.335322</td>\n",
       "    </tr>\n",
       "    <tr>\n",
       "      <th>7</th>\n",
       "      <td>Econ Disadv</td>\n",
       "      <td>2020</td>\n",
       "      <td>1</td>\n",
       "      <td>8536.0</td>\n",
       "      <td>73554</td>\n",
       "      <td>55636.0</td>\n",
       "      <td>17918.0</td>\n",
       "      <td>47.639245</td>\n",
       "    </tr>\n",
       "    <tr>\n",
       "      <th>8</th>\n",
       "      <td>Econ Disadv</td>\n",
       "      <td>2020</td>\n",
       "      <td>2</td>\n",
       "      <td>2216.0</td>\n",
       "      <td>70781</td>\n",
       "      <td>64894.0</td>\n",
       "      <td>5887.0</td>\n",
       "      <td>37.642263</td>\n",
       "    </tr>\n",
       "    <tr>\n",
       "      <th>9</th>\n",
       "      <td>Econ Disadv</td>\n",
       "      <td>2021</td>\n",
       "      <td>0</td>\n",
       "      <td>2386.0</td>\n",
       "      <td>12440</td>\n",
       "      <td>5254.0</td>\n",
       "      <td>7186.0</td>\n",
       "      <td>33.203451</td>\n",
       "    </tr>\n",
       "    <tr>\n",
       "      <th>10</th>\n",
       "      <td>Econ Disadv</td>\n",
       "      <td>2021</td>\n",
       "      <td>1</td>\n",
       "      <td>7273.0</td>\n",
       "      <td>72465</td>\n",
       "      <td>55646.0</td>\n",
       "      <td>16819.0</td>\n",
       "      <td>43.242761</td>\n",
       "    </tr>\n",
       "    <tr>\n",
       "      <th>11</th>\n",
       "      <td>Econ Disadv</td>\n",
       "      <td>2021</td>\n",
       "      <td>2</td>\n",
       "      <td>2017.0</td>\n",
       "      <td>71161</td>\n",
       "      <td>65765.0</td>\n",
       "      <td>5396.0</td>\n",
       "      <td>37.379540</td>\n",
       "    </tr>\n",
       "    <tr>\n",
       "      <th>12</th>\n",
       "      <td>Econ Disadv</td>\n",
       "      <td>2022</td>\n",
       "      <td>0</td>\n",
       "      <td>2471.0</td>\n",
       "      <td>11116</td>\n",
       "      <td>4637.0</td>\n",
       "      <td>6479.0</td>\n",
       "      <td>38.138602</td>\n",
       "    </tr>\n",
       "    <tr>\n",
       "      <th>13</th>\n",
       "      <td>Econ Disadv</td>\n",
       "      <td>2022</td>\n",
       "      <td>1</td>\n",
       "      <td>6845.0</td>\n",
       "      <td>70463</td>\n",
       "      <td>55393.0</td>\n",
       "      <td>15070.0</td>\n",
       "      <td>45.421367</td>\n",
       "    </tr>\n",
       "    <tr>\n",
       "      <th>14</th>\n",
       "      <td>Econ Disadv</td>\n",
       "      <td>2022</td>\n",
       "      <td>2</td>\n",
       "      <td>1967.0</td>\n",
       "      <td>71322</td>\n",
       "      <td>66210.0</td>\n",
       "      <td>5112.0</td>\n",
       "      <td>38.478091</td>\n",
       "    </tr>\n",
       "    <tr>\n",
       "      <th>15</th>\n",
       "      <td>Econ Disadv</td>\n",
       "      <td>2023</td>\n",
       "      <td>0</td>\n",
       "      <td>2306.0</td>\n",
       "      <td>10394</td>\n",
       "      <td>3855.0</td>\n",
       "      <td>6539.0</td>\n",
       "      <td>35.265331</td>\n",
       "    </tr>\n",
       "    <tr>\n",
       "      <th>16</th>\n",
       "      <td>Econ Disadv</td>\n",
       "      <td>2023</td>\n",
       "      <td>1</td>\n",
       "      <td>5945.0</td>\n",
       "      <td>68365</td>\n",
       "      <td>54259.0</td>\n",
       "      <td>14106.0</td>\n",
       "      <td>42.145186</td>\n",
       "    </tr>\n",
       "    <tr>\n",
       "      <th>17</th>\n",
       "      <td>Econ Disadv</td>\n",
       "      <td>2023</td>\n",
       "      <td>2</td>\n",
       "      <td>1903.0</td>\n",
       "      <td>71327</td>\n",
       "      <td>66408.0</td>\n",
       "      <td>4919.0</td>\n",
       "      <td>38.686725</td>\n",
       "    </tr>\n",
       "    <tr>\n",
       "      <th>18</th>\n",
       "      <td>Econ Disadv</td>\n",
       "      <td>2024</td>\n",
       "      <td>0</td>\n",
       "      <td>2213.0</td>\n",
       "      <td>10892</td>\n",
       "      <td>3904.0</td>\n",
       "      <td>6988.0</td>\n",
       "      <td>31.668575</td>\n",
       "    </tr>\n",
       "    <tr>\n",
       "      <th>19</th>\n",
       "      <td>Econ Disadv</td>\n",
       "      <td>2024</td>\n",
       "      <td>1</td>\n",
       "      <td>5239.0</td>\n",
       "      <td>66720</td>\n",
       "      <td>51567.0</td>\n",
       "      <td>15153.0</td>\n",
       "      <td>34.574012</td>\n",
       "    </tr>\n",
       "    <tr>\n",
       "      <th>20</th>\n",
       "      <td>Econ Disadv</td>\n",
       "      <td>2024</td>\n",
       "      <td>2</td>\n",
       "      <td>1867.0</td>\n",
       "      <td>71771</td>\n",
       "      <td>66363.0</td>\n",
       "      <td>5408.0</td>\n",
       "      <td>34.522929</td>\n",
       "    </tr>\n",
       "    <tr>\n",
       "      <th>21</th>\n",
       "      <td>Not Econ Disadv</td>\n",
       "      <td>2018</td>\n",
       "      <td>0</td>\n",
       "      <td>1240.0</td>\n",
       "      <td>3703</td>\n",
       "      <td>1460.0</td>\n",
       "      <td>2243.0</td>\n",
       "      <td>55.283103</td>\n",
       "    </tr>\n",
       "    <tr>\n",
       "      <th>22</th>\n",
       "      <td>Not Econ Disadv</td>\n",
       "      <td>2018</td>\n",
       "      <td>1</td>\n",
       "      <td>4283.0</td>\n",
       "      <td>21910</td>\n",
       "      <td>15739.0</td>\n",
       "      <td>6171.0</td>\n",
       "      <td>69.405283</td>\n",
       "    </tr>\n",
       "    <tr>\n",
       "      <th>23</th>\n",
       "      <td>Not Econ Disadv</td>\n",
       "      <td>2018</td>\n",
       "      <td>2</td>\n",
       "      <td>1175.0</td>\n",
       "      <td>36496</td>\n",
       "      <td>34249.0</td>\n",
       "      <td>2247.0</td>\n",
       "      <td>52.291945</td>\n",
       "    </tr>\n",
       "    <tr>\n",
       "      <th>24</th>\n",
       "      <td>Not Econ Disadv</td>\n",
       "      <td>2019</td>\n",
       "      <td>0</td>\n",
       "      <td>1136.0</td>\n",
       "      <td>3497</td>\n",
       "      <td>1376.0</td>\n",
       "      <td>2121.0</td>\n",
       "      <td>53.559642</td>\n",
       "    </tr>\n",
       "    <tr>\n",
       "      <th>25</th>\n",
       "      <td>Not Econ Disadv</td>\n",
       "      <td>2019</td>\n",
       "      <td>1</td>\n",
       "      <td>3583.0</td>\n",
       "      <td>19676</td>\n",
       "      <td>14699.0</td>\n",
       "      <td>4977.0</td>\n",
       "      <td>71.991159</td>\n",
       "    </tr>\n",
       "    <tr>\n",
       "      <th>26</th>\n",
       "      <td>Not Econ Disadv</td>\n",
       "      <td>2019</td>\n",
       "      <td>2</td>\n",
       "      <td>1094.0</td>\n",
       "      <td>35133</td>\n",
       "      <td>33186.0</td>\n",
       "      <td>1947.0</td>\n",
       "      <td>56.189009</td>\n",
       "    </tr>\n",
       "    <tr>\n",
       "      <th>27</th>\n",
       "      <td>Not Econ Disadv</td>\n",
       "      <td>2020</td>\n",
       "      <td>0</td>\n",
       "      <td>814.0</td>\n",
       "      <td>3048</td>\n",
       "      <td>1296.0</td>\n",
       "      <td>1752.0</td>\n",
       "      <td>46.461187</td>\n",
       "    </tr>\n",
       "    <tr>\n",
       "      <th>28</th>\n",
       "      <td>Not Econ Disadv</td>\n",
       "      <td>2020</td>\n",
       "      <td>1</td>\n",
       "      <td>2738.0</td>\n",
       "      <td>17965</td>\n",
       "      <td>14083.0</td>\n",
       "      <td>3882.0</td>\n",
       "      <td>70.530654</td>\n",
       "    </tr>\n",
       "    <tr>\n",
       "      <th>29</th>\n",
       "      <td>Not Econ Disadv</td>\n",
       "      <td>2020</td>\n",
       "      <td>2</td>\n",
       "      <td>925.0</td>\n",
       "      <td>34741</td>\n",
       "      <td>33197.0</td>\n",
       "      <td>1544.0</td>\n",
       "      <td>59.909326</td>\n",
       "    </tr>\n",
       "    <tr>\n",
       "      <th>30</th>\n",
       "      <td>Not Econ Disadv</td>\n",
       "      <td>2021</td>\n",
       "      <td>0</td>\n",
       "      <td>583.0</td>\n",
       "      <td>2617</td>\n",
       "      <td>1201.0</td>\n",
       "      <td>1416.0</td>\n",
       "      <td>41.172316</td>\n",
       "    </tr>\n",
       "    <tr>\n",
       "      <th>31</th>\n",
       "      <td>Not Econ Disadv</td>\n",
       "      <td>2021</td>\n",
       "      <td>1</td>\n",
       "      <td>2045.0</td>\n",
       "      <td>17093</td>\n",
       "      <td>13974.0</td>\n",
       "      <td>3119.0</td>\n",
       "      <td>65.565887</td>\n",
       "    </tr>\n",
       "    <tr>\n",
       "      <th>32</th>\n",
       "      <td>Not Econ Disadv</td>\n",
       "      <td>2021</td>\n",
       "      <td>2</td>\n",
       "      <td>666.0</td>\n",
       "      <td>35024</td>\n",
       "      <td>33769.0</td>\n",
       "      <td>1255.0</td>\n",
       "      <td>53.067729</td>\n",
       "    </tr>\n",
       "    <tr>\n",
       "      <th>33</th>\n",
       "      <td>Not Econ Disadv</td>\n",
       "      <td>2022</td>\n",
       "      <td>0</td>\n",
       "      <td>532.0</td>\n",
       "      <td>2217</td>\n",
       "      <td>1063.0</td>\n",
       "      <td>1154.0</td>\n",
       "      <td>46.100520</td>\n",
       "    </tr>\n",
       "    <tr>\n",
       "      <th>34</th>\n",
       "      <td>Not Econ Disadv</td>\n",
       "      <td>2022</td>\n",
       "      <td>1</td>\n",
       "      <td>1812.0</td>\n",
       "      <td>16816</td>\n",
       "      <td>13991.0</td>\n",
       "      <td>2825.0</td>\n",
       "      <td>64.141593</td>\n",
       "    </tr>\n",
       "    <tr>\n",
       "      <th>35</th>\n",
       "      <td>Not Econ Disadv</td>\n",
       "      <td>2022</td>\n",
       "      <td>2</td>\n",
       "      <td>593.0</td>\n",
       "      <td>35628</td>\n",
       "      <td>34469.0</td>\n",
       "      <td>1159.0</td>\n",
       "      <td>51.164797</td>\n",
       "    </tr>\n",
       "    <tr>\n",
       "      <th>36</th>\n",
       "      <td>Not Econ Disadv</td>\n",
       "      <td>2023</td>\n",
       "      <td>0</td>\n",
       "      <td>484.0</td>\n",
       "      <td>1856</td>\n",
       "      <td>877.0</td>\n",
       "      <td>979.0</td>\n",
       "      <td>49.438202</td>\n",
       "    </tr>\n",
       "    <tr>\n",
       "      <th>37</th>\n",
       "      <td>Not Econ Disadv</td>\n",
       "      <td>2023</td>\n",
       "      <td>1</td>\n",
       "      <td>1610.0</td>\n",
       "      <td>16236</td>\n",
       "      <td>13752.0</td>\n",
       "      <td>2484.0</td>\n",
       "      <td>64.814815</td>\n",
       "    </tr>\n",
       "    <tr>\n",
       "      <th>38</th>\n",
       "      <td>Not Econ Disadv</td>\n",
       "      <td>2023</td>\n",
       "      <td>2</td>\n",
       "      <td>521.0</td>\n",
       "      <td>35337</td>\n",
       "      <td>34281.0</td>\n",
       "      <td>1056.0</td>\n",
       "      <td>49.337121</td>\n",
       "    </tr>\n",
       "    <tr>\n",
       "      <th>39</th>\n",
       "      <td>Not Econ Disadv</td>\n",
       "      <td>2024</td>\n",
       "      <td>0</td>\n",
       "      <td>420.0</td>\n",
       "      <td>1661</td>\n",
       "      <td>805.0</td>\n",
       "      <td>856.0</td>\n",
       "      <td>49.065421</td>\n",
       "    </tr>\n",
       "    <tr>\n",
       "      <th>40</th>\n",
       "      <td>Not Econ Disadv</td>\n",
       "      <td>2024</td>\n",
       "      <td>1</td>\n",
       "      <td>1339.0</td>\n",
       "      <td>15072</td>\n",
       "      <td>12804.0</td>\n",
       "      <td>2268.0</td>\n",
       "      <td>59.038801</td>\n",
       "    </tr>\n",
       "    <tr>\n",
       "      <th>41</th>\n",
       "      <td>Not Econ Disadv</td>\n",
       "      <td>2024</td>\n",
       "      <td>2</td>\n",
       "      <td>461.0</td>\n",
       "      <td>33838</td>\n",
       "      <td>32871.0</td>\n",
       "      <td>967.0</td>\n",
       "      <td>47.673216</td>\n",
       "    </tr>\n",
       "  </tbody>\n",
       "</table>\n",
       "</div>"
      ],
      "text/plain": [
       "           Category  Graduation Year  Cluster  # Dropout  # Total Cohort  \\\n",
       "0       Econ Disadv             2018        0     3320.0           12828   \n",
       "1       Econ Disadv             2018        1     9014.0           70692   \n",
       "2       Econ Disadv             2018        2     2015.0           67709   \n",
       "3       Econ Disadv             2019        0     3689.0           12950   \n",
       "4       Econ Disadv             2019        1     9827.0           72184   \n",
       "5       Econ Disadv             2019        2     2424.0           69684   \n",
       "6       Econ Disadv             2020        0     3004.0           13448   \n",
       "7       Econ Disadv             2020        1     8536.0           73554   \n",
       "8       Econ Disadv             2020        2     2216.0           70781   \n",
       "9       Econ Disadv             2021        0     2386.0           12440   \n",
       "10      Econ Disadv             2021        1     7273.0           72465   \n",
       "11      Econ Disadv             2021        2     2017.0           71161   \n",
       "12      Econ Disadv             2022        0     2471.0           11116   \n",
       "13      Econ Disadv             2022        1     6845.0           70463   \n",
       "14      Econ Disadv             2022        2     1967.0           71322   \n",
       "15      Econ Disadv             2023        0     2306.0           10394   \n",
       "16      Econ Disadv             2023        1     5945.0           68365   \n",
       "17      Econ Disadv             2023        2     1903.0           71327   \n",
       "18      Econ Disadv             2024        0     2213.0           10892   \n",
       "19      Econ Disadv             2024        1     5239.0           66720   \n",
       "20      Econ Disadv             2024        2     1867.0           71771   \n",
       "21  Not Econ Disadv             2018        0     1240.0            3703   \n",
       "22  Not Econ Disadv             2018        1     4283.0           21910   \n",
       "23  Not Econ Disadv             2018        2     1175.0           36496   \n",
       "24  Not Econ Disadv             2019        0     1136.0            3497   \n",
       "25  Not Econ Disadv             2019        1     3583.0           19676   \n",
       "26  Not Econ Disadv             2019        2     1094.0           35133   \n",
       "27  Not Econ Disadv             2020        0      814.0            3048   \n",
       "28  Not Econ Disadv             2020        1     2738.0           17965   \n",
       "29  Not Econ Disadv             2020        2      925.0           34741   \n",
       "30  Not Econ Disadv             2021        0      583.0            2617   \n",
       "31  Not Econ Disadv             2021        1     2045.0           17093   \n",
       "32  Not Econ Disadv             2021        2      666.0           35024   \n",
       "33  Not Econ Disadv             2022        0      532.0            2217   \n",
       "34  Not Econ Disadv             2022        1     1812.0           16816   \n",
       "35  Not Econ Disadv             2022        2      593.0           35628   \n",
       "36  Not Econ Disadv             2023        0      484.0            1856   \n",
       "37  Not Econ Disadv             2023        1     1610.0           16236   \n",
       "38  Not Econ Disadv             2023        2      521.0           35337   \n",
       "39  Not Econ Disadv             2024        0      420.0            1661   \n",
       "40  Not Econ Disadv             2024        1     1339.0           15072   \n",
       "41  Not Econ Disadv             2024        2      461.0           33838   \n",
       "\n",
       "    # Grads  # No Grads  Dropout %  \n",
       "0    4443.0      8385.0  39.594514  \n",
       "1   51434.0     19258.0  46.806522  \n",
       "2   60946.0      6763.0  29.794470  \n",
       "3    4777.0      8173.0  45.136425  \n",
       "4   53753.0     18431.0  53.317780  \n",
       "5   63173.0      6511.0  37.229304  \n",
       "6    5402.0      8046.0  37.335322  \n",
       "7   55636.0     17918.0  47.639245  \n",
       "8   64894.0      5887.0  37.642263  \n",
       "9    5254.0      7186.0  33.203451  \n",
       "10  55646.0     16819.0  43.242761  \n",
       "11  65765.0      5396.0  37.379540  \n",
       "12   4637.0      6479.0  38.138602  \n",
       "13  55393.0     15070.0  45.421367  \n",
       "14  66210.0      5112.0  38.478091  \n",
       "15   3855.0      6539.0  35.265331  \n",
       "16  54259.0     14106.0  42.145186  \n",
       "17  66408.0      4919.0  38.686725  \n",
       "18   3904.0      6988.0  31.668575  \n",
       "19  51567.0     15153.0  34.574012  \n",
       "20  66363.0      5408.0  34.522929  \n",
       "21   1460.0      2243.0  55.283103  \n",
       "22  15739.0      6171.0  69.405283  \n",
       "23  34249.0      2247.0  52.291945  \n",
       "24   1376.0      2121.0  53.559642  \n",
       "25  14699.0      4977.0  71.991159  \n",
       "26  33186.0      1947.0  56.189009  \n",
       "27   1296.0      1752.0  46.461187  \n",
       "28  14083.0      3882.0  70.530654  \n",
       "29  33197.0      1544.0  59.909326  \n",
       "30   1201.0      1416.0  41.172316  \n",
       "31  13974.0      3119.0  65.565887  \n",
       "32  33769.0      1255.0  53.067729  \n",
       "33   1063.0      1154.0  46.100520  \n",
       "34  13991.0      2825.0  64.141593  \n",
       "35  34469.0      1159.0  51.164797  \n",
       "36    877.0       979.0  49.438202  \n",
       "37  13752.0      2484.0  64.814815  \n",
       "38  34281.0      1056.0  49.337121  \n",
       "39    805.0       856.0  49.065421  \n",
       "40  12804.0      2268.0  59.038801  \n",
       "41  32871.0       967.0  47.673216  "
      ]
     },
     "execution_count": 397,
     "metadata": {},
     "output_type": "execute_result"
    }
   ],
   "source": [
    "poverty_data_dropout_per_year = filter_dropout_per_year(poverty_data)\n",
    "poverty_data_dropout_per_year"
   ]
  },
  {
   "cell_type": "code",
   "execution_count": 401,
   "metadata": {},
   "outputs": [
    {
     "data": {
      "application/vnd.plotly.v1+json": {
       "config": {
        "plotlyServerURL": "https://plot.ly"
       },
       "data": [
        {
         "line": {
          "color": "#1f77b4"
         },
         "name": "Econ Disadv",
         "showlegend": false,
         "type": "scatter",
         "x": [
          2018,
          2019,
          2020,
          2021,
          2022,
          2023,
          2024
         ],
         "xaxis": "x",
         "y": [
          39.59451401311866,
          45.13642481341001,
          37.335321899080284,
          33.20345115502366,
          38.13860163605495,
          35.26533109038079,
          31.66857469948483
         ],
         "yaxis": "y"
        },
        {
         "line": {
          "color": "#ff7f0e"
         },
         "name": "Not Econ Disadv",
         "showlegend": false,
         "type": "scatter",
         "x": [
          2018,
          2019,
          2020,
          2021,
          2022,
          2023,
          2024
         ],
         "xaxis": "x",
         "y": [
          55.28310298707089,
          53.55964167845356,
          46.46118721461187,
          41.17231638418079,
          46.10051993067591,
          49.43820224719101,
          49.06542056074766
         ],
         "yaxis": "y"
        },
        {
         "line": {
          "color": "#1f77b4"
         },
         "name": "Econ Disadv",
         "showlegend": false,
         "type": "scatter",
         "x": [
          2018,
          2019,
          2020,
          2021,
          2022,
          2023,
          2024
         ],
         "xaxis": "x2",
         "y": [
          46.806521964897705,
          53.3177798274646,
          47.63924545150128,
          43.24276116297045,
          45.421366954213674,
          42.14518644548419,
          34.57401174684881
         ],
         "yaxis": "y2"
        },
        {
         "line": {
          "color": "#ff7f0e"
         },
         "name": "Not Econ Disadv",
         "showlegend": false,
         "type": "scatter",
         "x": [
          2018,
          2019,
          2020,
          2021,
          2022,
          2023,
          2024
         ],
         "xaxis": "x2",
         "y": [
          69.40528277426672,
          71.99115933293149,
          70.53065430190624,
          65.565886502084,
          64.14159292035399,
          64.81481481481481,
          59.038800705467374
         ],
         "yaxis": "y2"
        },
        {
         "line": {
          "color": "#1f77b4"
         },
         "name": "Econ Disadv",
         "type": "scatter",
         "x": [
          2018,
          2019,
          2020,
          2021,
          2022,
          2023,
          2024
         ],
         "xaxis": "x3",
         "y": [
          29.79446990980334,
          37.229304254338814,
          37.6422626125361,
          37.37954040029652,
          38.47809076682316,
          38.68672494409433,
          34.52292899408284
         ],
         "yaxis": "y3"
        },
        {
         "line": {
          "color": "#ff7f0e"
         },
         "name": "Not Econ Disadv",
         "type": "scatter",
         "x": [
          2018,
          2019,
          2020,
          2021,
          2022,
          2023,
          2024
         ],
         "xaxis": "x3",
         "y": [
          52.2919448153093,
          56.18900873138162,
          59.90932642487047,
          53.06772908366534,
          51.164797238999135,
          49.33712121212121,
          47.673216132368154
         ],
         "yaxis": "y3"
        }
       ],
       "layout": {
        "annotations": [
         {
          "font": {
           "size": 16
          },
          "showarrow": false,
          "text": "Cluster 0",
          "x": 0.14444444444444446,
          "xanchor": "center",
          "xref": "paper",
          "y": 1,
          "yanchor": "bottom",
          "yref": "paper"
         },
         {
          "font": {
           "size": 16
          },
          "showarrow": false,
          "text": "Cluster 1",
          "x": 0.5,
          "xanchor": "center",
          "xref": "paper",
          "y": 1,
          "yanchor": "bottom",
          "yref": "paper"
         },
         {
          "font": {
           "size": 16
          },
          "showarrow": false,
          "text": "Cluster 2",
          "x": 0.8555555555555556,
          "xanchor": "center",
          "xref": "paper",
          "y": 1,
          "yanchor": "bottom",
          "yref": "paper"
         }
        ],
        "template": {
         "layout": {
          "plot_bgcolor": "white",
          "xaxis": {
           "gridcolor": "lightgray"
          },
          "yaxis": {
           "gridcolor": "lightgray"
          }
         }
        },
        "title": {
         "text": "Dropout Rates from 2018 to 2024 in Every Cluster by Poverty Status"
        },
        "xaxis": {
         "anchor": "y",
         "domain": [
          0,
          0.2888888888888889
         ],
         "title": {
          "text": "Year"
         }
        },
        "xaxis2": {
         "anchor": "y2",
         "domain": [
          0.35555555555555557,
          0.6444444444444445
         ],
         "title": {
          "text": "Year"
         }
        },
        "xaxis3": {
         "anchor": "y3",
         "domain": [
          0.7111111111111111,
          1
         ],
         "title": {
          "text": "Year"
         }
        },
        "yaxis": {
         "anchor": "x",
         "domain": [
          0,
          1
         ],
         "range": [
          29.79446990980334,
          71.99115933293149
         ],
         "title": {
          "text": "Dropout %"
         }
        },
        "yaxis2": {
         "anchor": "x2",
         "domain": [
          0,
          1
         ],
         "range": [
          29.79446990980334,
          71.99115933293149
         ],
         "title": {
          "text": "Dropout %"
         }
        },
        "yaxis3": {
         "anchor": "x3",
         "domain": [
          0,
          1
         ],
         "range": [
          29.79446990980334,
          71.99115933293149
         ],
         "title": {
          "text": "Dropout %"
         }
        }
       }
      }
     },
     "metadata": {},
     "output_type": "display_data"
    }
   ],
   "source": [
    "fig = make_subplots(rows=1, cols=len(poverty_data_dropout_per_year['Cluster'].unique()), subplot_titles=('Cluster 0', 'Cluster 1', 'Cluster 2'))\n",
    "\n",
    "for cluster in poverty_data_dropout_per_year['Cluster'].unique():\n",
    "    cluster_row = poverty_data_dropout_per_year[poverty_data_dropout_per_year['Cluster'] == cluster]\n",
    "    cluster_index = poverty_data_dropout_per_year['Cluster'].unique().tolist().index(cluster)\n",
    "    for category in cluster_row['Category'].unique():\n",
    "        category_row = cluster_row[cluster_row['Category'] == category]\n",
    "        category_index = cluster_row['Category'].unique().tolist().index(category)\n",
    "        fig.add_trace(go.Scatter(x=category_row['Graduation Year'], y=category_row['Dropout %'], name=category, line=dict(color=colors[category_index])), row=1, col=cluster_index+1)\n",
    "        fig.update_yaxes(range=[poverty_data_dropout_per_year['Dropout %'].min(), poverty_data_dropout_per_year['Dropout %'].max()], title_text='Dropout %')\n",
    "        fig.update_xaxes(title_text='Year')\n",
    "\n",
    "fig.update_layout(title_text='Dropout Rates from 2018 to 2024 in Every Cluster by Poverty Status')\n",
    "\n",
    "for i in range(len(fig.data) - len(poverty_data_dropout['Category'].unique())):\n",
    "    fig.data[i].showlegend=False\n",
    "\n",
    "fig.show()"
   ]
  },
  {
   "cell_type": "code",
   "execution_count": 403,
   "metadata": {},
   "outputs": [
    {
     "data": {
      "text/html": [
       "<div>\n",
       "<style scoped>\n",
       "    .dataframe tbody tr th:only-of-type {\n",
       "        vertical-align: middle;\n",
       "    }\n",
       "\n",
       "    .dataframe tbody tr th {\n",
       "        vertical-align: top;\n",
       "    }\n",
       "\n",
       "    .dataframe thead th {\n",
       "        text-align: right;\n",
       "    }\n",
       "</style>\n",
       "<table border=\"1\" class=\"dataframe\">\n",
       "  <thead>\n",
       "    <tr style=\"text-align: right;\">\n",
       "      <th></th>\n",
       "      <th>Category</th>\n",
       "      <th>Duration</th>\n",
       "      <th>Cluster</th>\n",
       "      <th># Dropout_x</th>\n",
       "      <th># Dropout_y</th>\n",
       "      <th>Dropout %</th>\n",
       "    </tr>\n",
       "  </thead>\n",
       "  <tbody>\n",
       "    <tr>\n",
       "      <th>0</th>\n",
       "      <td>Econ Disadv</td>\n",
       "      <td>4</td>\n",
       "      <td>0</td>\n",
       "      <td>3463.0</td>\n",
       "      <td>19389.0</td>\n",
       "      <td>17.860643</td>\n",
       "    </tr>\n",
       "    <tr>\n",
       "      <th>1</th>\n",
       "      <td>Econ Disadv</td>\n",
       "      <td>5</td>\n",
       "      <td>0</td>\n",
       "      <td>6936.0</td>\n",
       "      <td>19389.0</td>\n",
       "      <td>35.772861</td>\n",
       "    </tr>\n",
       "    <tr>\n",
       "      <th>2</th>\n",
       "      <td>Econ Disadv</td>\n",
       "      <td>6</td>\n",
       "      <td>0</td>\n",
       "      <td>8990.0</td>\n",
       "      <td>19389.0</td>\n",
       "      <td>46.366496</td>\n",
       "    </tr>\n",
       "    <tr>\n",
       "      <th>3</th>\n",
       "      <td>Econ Disadv</td>\n",
       "      <td>4</td>\n",
       "      <td>1</td>\n",
       "      <td>12301.0</td>\n",
       "      <td>52679.0</td>\n",
       "      <td>23.350861</td>\n",
       "    </tr>\n",
       "    <tr>\n",
       "      <th>4</th>\n",
       "      <td>Econ Disadv</td>\n",
       "      <td>5</td>\n",
       "      <td>1</td>\n",
       "      <td>19044.0</td>\n",
       "      <td>52679.0</td>\n",
       "      <td>36.151028</td>\n",
       "    </tr>\n",
       "    <tr>\n",
       "      <th>5</th>\n",
       "      <td>Econ Disadv</td>\n",
       "      <td>6</td>\n",
       "      <td>1</td>\n",
       "      <td>21334.0</td>\n",
       "      <td>52679.0</td>\n",
       "      <td>40.498111</td>\n",
       "    </tr>\n",
       "    <tr>\n",
       "      <th>6</th>\n",
       "      <td>Econ Disadv</td>\n",
       "      <td>4</td>\n",
       "      <td>2</td>\n",
       "      <td>3315.0</td>\n",
       "      <td>14409.0</td>\n",
       "      <td>23.006454</td>\n",
       "    </tr>\n",
       "    <tr>\n",
       "      <th>7</th>\n",
       "      <td>Econ Disadv</td>\n",
       "      <td>5</td>\n",
       "      <td>2</td>\n",
       "      <td>5448.0</td>\n",
       "      <td>14409.0</td>\n",
       "      <td>37.809702</td>\n",
       "    </tr>\n",
       "    <tr>\n",
       "      <th>8</th>\n",
       "      <td>Econ Disadv</td>\n",
       "      <td>6</td>\n",
       "      <td>2</td>\n",
       "      <td>5646.0</td>\n",
       "      <td>14409.0</td>\n",
       "      <td>39.183843</td>\n",
       "    </tr>\n",
       "    <tr>\n",
       "      <th>9</th>\n",
       "      <td>Not Econ Disadv</td>\n",
       "      <td>4</td>\n",
       "      <td>0</td>\n",
       "      <td>922.0</td>\n",
       "      <td>5209.0</td>\n",
       "      <td>17.700134</td>\n",
       "    </tr>\n",
       "    <tr>\n",
       "      <th>10</th>\n",
       "      <td>Not Econ Disadv</td>\n",
       "      <td>5</td>\n",
       "      <td>0</td>\n",
       "      <td>1796.0</td>\n",
       "      <td>5209.0</td>\n",
       "      <td>34.478787</td>\n",
       "    </tr>\n",
       "    <tr>\n",
       "      <th>11</th>\n",
       "      <td>Not Econ Disadv</td>\n",
       "      <td>6</td>\n",
       "      <td>0</td>\n",
       "      <td>2491.0</td>\n",
       "      <td>5209.0</td>\n",
       "      <td>47.821079</td>\n",
       "    </tr>\n",
       "    <tr>\n",
       "      <th>12</th>\n",
       "      <td>Not Econ Disadv</td>\n",
       "      <td>4</td>\n",
       "      <td>1</td>\n",
       "      <td>3887.0</td>\n",
       "      <td>17410.0</td>\n",
       "      <td>22.326249</td>\n",
       "    </tr>\n",
       "    <tr>\n",
       "      <th>13</th>\n",
       "      <td>Not Econ Disadv</td>\n",
       "      <td>5</td>\n",
       "      <td>1</td>\n",
       "      <td>5996.0</td>\n",
       "      <td>17410.0</td>\n",
       "      <td>34.439977</td>\n",
       "    </tr>\n",
       "    <tr>\n",
       "      <th>14</th>\n",
       "      <td>Not Econ Disadv</td>\n",
       "      <td>6</td>\n",
       "      <td>1</td>\n",
       "      <td>7527.0</td>\n",
       "      <td>17410.0</td>\n",
       "      <td>43.233774</td>\n",
       "    </tr>\n",
       "    <tr>\n",
       "      <th>15</th>\n",
       "      <td>Not Econ Disadv</td>\n",
       "      <td>4</td>\n",
       "      <td>2</td>\n",
       "      <td>1101.0</td>\n",
       "      <td>5435.0</td>\n",
       "      <td>20.257590</td>\n",
       "    </tr>\n",
       "    <tr>\n",
       "      <th>16</th>\n",
       "      <td>Not Econ Disadv</td>\n",
       "      <td>5</td>\n",
       "      <td>2</td>\n",
       "      <td>1984.0</td>\n",
       "      <td>5435.0</td>\n",
       "      <td>36.504140</td>\n",
       "    </tr>\n",
       "    <tr>\n",
       "      <th>17</th>\n",
       "      <td>Not Econ Disadv</td>\n",
       "      <td>6</td>\n",
       "      <td>2</td>\n",
       "      <td>2350.0</td>\n",
       "      <td>5435.0</td>\n",
       "      <td>43.238270</td>\n",
       "    </tr>\n",
       "  </tbody>\n",
       "</table>\n",
       "</div>"
      ],
      "text/plain": [
       "           Category  Duration  Cluster  # Dropout_x  # Dropout_y  Dropout %\n",
       "0       Econ Disadv         4        0       3463.0      19389.0  17.860643\n",
       "1       Econ Disadv         5        0       6936.0      19389.0  35.772861\n",
       "2       Econ Disadv         6        0       8990.0      19389.0  46.366496\n",
       "3       Econ Disadv         4        1      12301.0      52679.0  23.350861\n",
       "4       Econ Disadv         5        1      19044.0      52679.0  36.151028\n",
       "5       Econ Disadv         6        1      21334.0      52679.0  40.498111\n",
       "6       Econ Disadv         4        2       3315.0      14409.0  23.006454\n",
       "7       Econ Disadv         5        2       5448.0      14409.0  37.809702\n",
       "8       Econ Disadv         6        2       5646.0      14409.0  39.183843\n",
       "9   Not Econ Disadv         4        0        922.0       5209.0  17.700134\n",
       "10  Not Econ Disadv         5        0       1796.0       5209.0  34.478787\n",
       "11  Not Econ Disadv         6        0       2491.0       5209.0  47.821079\n",
       "12  Not Econ Disadv         4        1       3887.0      17410.0  22.326249\n",
       "13  Not Econ Disadv         5        1       5996.0      17410.0  34.439977\n",
       "14  Not Econ Disadv         6        1       7527.0      17410.0  43.233774\n",
       "15  Not Econ Disadv         4        2       1101.0       5435.0  20.257590\n",
       "16  Not Econ Disadv         5        2       1984.0       5435.0  36.504140\n",
       "17  Not Econ Disadv         6        2       2350.0       5435.0  43.238270"
      ]
     },
     "execution_count": 403,
     "metadata": {},
     "output_type": "execute_result"
    }
   ],
   "source": [
    "poverty_data_dropout_per_duration = filter_dropout_per_duration(poverty_data)\n",
    "poverty_data_dropout_per_duration"
   ]
  },
  {
   "cell_type": "code",
   "execution_count": 406,
   "metadata": {},
   "outputs": [
    {
     "data": {
      "application/vnd.plotly.v1+json": {
       "config": {
        "plotlyServerURL": "https://plot.ly"
       },
       "data": [
        {
         "marker": {
          "color": "#1f77b4"
         },
         "name": "4 Years",
         "showlegend": false,
         "type": "bar",
         "x": [
          "Econ Disadv",
          "Not Econ Disadv"
         ],
         "xaxis": "x",
         "y": [
          17.860642632420447,
          17.700134382799
         ],
         "yaxis": "y"
        },
        {
         "marker": {
          "color": "#ff7f0e"
         },
         "name": "5 Years",
         "showlegend": false,
         "type": "bar",
         "x": [
          "Econ Disadv",
          "Not Econ Disadv"
         ],
         "xaxis": "x",
         "y": [
          35.7728609005106,
          34.478786715300444
         ],
         "yaxis": "y"
        },
        {
         "marker": {
          "color": "#2ca02c"
         },
         "name": "6 Years",
         "showlegend": false,
         "type": "bar",
         "x": [
          "Econ Disadv",
          "Not Econ Disadv"
         ],
         "xaxis": "x",
         "y": [
          46.366496467068956,
          47.821078901900556
         ],
         "yaxis": "y"
        },
        {
         "marker": {
          "color": "#1f77b4"
         },
         "name": "4 Years",
         "showlegend": false,
         "type": "bar",
         "x": [
          "Econ Disadv",
          "Not Econ Disadv"
         ],
         "xaxis": "x2",
         "y": [
          23.350860874352207,
          22.326249282021827
         ],
         "yaxis": "y2"
        },
        {
         "marker": {
          "color": "#ff7f0e"
         },
         "name": "5 Years",
         "showlegend": false,
         "type": "bar",
         "x": [
          "Econ Disadv",
          "Not Econ Disadv"
         ],
         "xaxis": "x2",
         "y": [
          36.151027923840616,
          34.43997702469845
         ],
         "yaxis": "y2"
        },
        {
         "marker": {
          "color": "#2ca02c"
         },
         "name": "6 Years",
         "showlegend": false,
         "type": "bar",
         "x": [
          "Econ Disadv",
          "Not Econ Disadv"
         ],
         "xaxis": "x2",
         "y": [
          40.49811120180718,
          43.23377369327972
         ],
         "yaxis": "y2"
        },
        {
         "marker": {
          "color": "#1f77b4"
         },
         "name": "4 Years",
         "type": "bar",
         "x": [
          "Econ Disadv",
          "Not Econ Disadv"
         ],
         "xaxis": "x3",
         "y": [
          23.00645429939621,
          20.257589696412143
         ],
         "yaxis": "y3"
        },
        {
         "marker": {
          "color": "#ff7f0e"
         },
         "name": "5 Years",
         "type": "bar",
         "x": [
          "Econ Disadv",
          "Not Econ Disadv"
         ],
         "xaxis": "x3",
         "y": [
          37.80970226941495,
          36.50413983440662
         ],
         "yaxis": "y3"
        },
        {
         "marker": {
          "color": "#2ca02c"
         },
         "name": "6 Years",
         "type": "bar",
         "x": [
          "Econ Disadv",
          "Not Econ Disadv"
         ],
         "xaxis": "x3",
         "y": [
          39.18384343118884,
          43.23827046918123
         ],
         "yaxis": "y3"
        }
       ],
       "layout": {
        "annotations": [
         {
          "font": {
           "size": 16
          },
          "showarrow": false,
          "text": "Cluster 0",
          "x": 0.14444444444444446,
          "xanchor": "center",
          "xref": "paper",
          "y": 1,
          "yanchor": "bottom",
          "yref": "paper"
         },
         {
          "font": {
           "size": 16
          },
          "showarrow": false,
          "text": "Cluster 1",
          "x": 0.5,
          "xanchor": "center",
          "xref": "paper",
          "y": 1,
          "yanchor": "bottom",
          "yref": "paper"
         },
         {
          "font": {
           "size": 16
          },
          "showarrow": false,
          "text": "Cluster 2",
          "x": 0.8555555555555556,
          "xanchor": "center",
          "xref": "paper",
          "y": 1,
          "yanchor": "bottom",
          "yref": "paper"
         }
        ],
        "template": {
         "layout": {
          "plot_bgcolor": "white",
          "xaxis": {
           "gridcolor": "lightgray"
          },
          "yaxis": {
           "gridcolor": "lightgray"
          }
         }
        },
        "title": {
         "text": "Distribution of Dropouts Based on Duration in Every Cluster by Poverty Status"
        },
        "xaxis": {
         "anchor": "y",
         "domain": [
          0,
          0.2888888888888889
         ]
        },
        "xaxis2": {
         "anchor": "y2",
         "domain": [
          0.35555555555555557,
          0.6444444444444445
         ]
        },
        "xaxis3": {
         "anchor": "y3",
         "domain": [
          0.7111111111111111,
          1
         ]
        },
        "yaxis": {
         "anchor": "x",
         "domain": [
          0,
          1
         ],
         "range": [
          0,
          47.821078901900556
         ],
         "title": {
          "text": "Distribution %"
         }
        },
        "yaxis2": {
         "anchor": "x2",
         "domain": [
          0,
          1
         ],
         "range": [
          0,
          47.821078901900556
         ],
         "title": {
          "text": "Distribution %"
         }
        },
        "yaxis3": {
         "anchor": "x3",
         "domain": [
          0,
          1
         ],
         "range": [
          0,
          47.821078901900556
         ],
         "title": {
          "text": "Distribution %"
         }
        }
       }
      }
     },
     "metadata": {},
     "output_type": "display_data"
    }
   ],
   "source": [
    "fig = make_subplots(rows=1, cols=len(poverty_data_dropout_per_duration['Cluster'].unique()), subplot_titles=('Cluster 0', 'Cluster 1', 'Cluster 2'))\n",
    "\n",
    "for cluster in poverty_data_dropout_per_duration['Cluster'].unique():\n",
    "    cluster_row = poverty_data_dropout_per_duration[poverty_data_dropout_per_duration['Cluster'] == cluster]\n",
    "    cluster_index = poverty_data_dropout_per_duration['Cluster'].unique().tolist().index(cluster)\n",
    "    for duration in cluster_row['Duration'].unique():\n",
    "        duration_row = cluster_row[cluster_row['Duration'] == duration]\n",
    "        duration_index = cluster_row['Duration'].unique().tolist().index(duration)\n",
    "        fig.add_trace(go.Bar(x=duration_row['Category'], y=duration_row['Dropout %'], name=f'{duration} Years', marker=dict(color=colors[duration_index])), row=1, col=cluster_index+1)\n",
    "        fig.update_yaxes(range=[0,poverty_data_dropout_per_duration['Dropout %'].max()], title_text='Distribution %')\n",
    "\n",
    "fig.update_layout(title_text='Distribution of Dropouts Based on Duration in Every Cluster by Poverty Status')\n",
    "\n",
    "for i in range(len(fig.data) - len(poverty_data_dropout_per_duration['Duration'].unique())):\n",
    "    fig.data[i].showlegend=False\n",
    "\n",
    "fig.show()"
   ]
  },
  {
   "cell_type": "markdown",
   "metadata": {},
   "source": [
    "## Predictions for the Next 5 Years"
   ]
  },
  {
   "cell_type": "markdown",
   "metadata": {},
   "source": [
    "### General"
   ]
  },
  {
   "cell_type": "code",
   "execution_count": 232,
   "metadata": {},
   "outputs": [],
   "source": [
    "from sklearn.linear_model import LinearRegression\n",
    "from sklearn.metrics import r2_score"
   ]
  },
  {
   "cell_type": "code",
   "execution_count": 234,
   "metadata": {},
   "outputs": [
    {
     "data": {
      "text/html": [
       "<div>\n",
       "<style scoped>\n",
       "    .dataframe tbody tr th:only-of-type {\n",
       "        vertical-align: middle;\n",
       "    }\n",
       "\n",
       "    .dataframe tbody tr th {\n",
       "        vertical-align: top;\n",
       "    }\n",
       "\n",
       "    .dataframe thead th {\n",
       "        text-align: right;\n",
       "    }\n",
       "</style>\n",
       "<table border=\"1\" class=\"dataframe\">\n",
       "  <thead>\n",
       "    <tr style=\"text-align: right;\">\n",
       "      <th></th>\n",
       "      <th>Graduation Year</th>\n",
       "      <th># Total Cohort</th>\n",
       "      <th># Grads</th>\n",
       "      <th>Grad %</th>\n",
       "    </tr>\n",
       "  </thead>\n",
       "  <tbody>\n",
       "    <tr>\n",
       "      <th>0</th>\n",
       "      <td>2018</td>\n",
       "      <td>213338</td>\n",
       "      <td>172686.0</td>\n",
       "      <td>80.944792</td>\n",
       "    </tr>\n",
       "    <tr>\n",
       "      <th>1</th>\n",
       "      <td>2019</td>\n",
       "      <td>213275</td>\n",
       "      <td>175297.0</td>\n",
       "      <td>82.192943</td>\n",
       "    </tr>\n",
       "    <tr>\n",
       "      <th>2</th>\n",
       "      <td>2020</td>\n",
       "      <td>214042</td>\n",
       "      <td>180304.0</td>\n",
       "      <td>84.237673</td>\n",
       "    </tr>\n",
       "    <tr>\n",
       "      <th>3</th>\n",
       "      <td>2021</td>\n",
       "      <td>211698</td>\n",
       "      <td>182263.0</td>\n",
       "      <td>86.095759</td>\n",
       "    </tr>\n",
       "    <tr>\n",
       "      <th>4</th>\n",
       "      <td>2022</td>\n",
       "      <td>208741</td>\n",
       "      <td>182956.0</td>\n",
       "      <td>87.647372</td>\n",
       "    </tr>\n",
       "    <tr>\n",
       "      <th>5</th>\n",
       "      <td>2023</td>\n",
       "      <td>204843</td>\n",
       "      <td>181402.0</td>\n",
       "      <td>88.556602</td>\n",
       "    </tr>\n",
       "    <tr>\n",
       "      <th>6</th>\n",
       "      <td>2024</td>\n",
       "      <td>201475</td>\n",
       "      <td>178675.0</td>\n",
       "      <td>88.683459</td>\n",
       "    </tr>\n",
       "  </tbody>\n",
       "</table>\n",
       "</div>"
      ],
      "text/plain": [
       "   Graduation Year  # Total Cohort   # Grads     Grad %\n",
       "0             2018          213338  172686.0  80.944792\n",
       "1             2019          213275  175297.0  82.192943\n",
       "2             2020          214042  180304.0  84.237673\n",
       "3             2021          211698  182263.0  86.095759\n",
       "4             2022          208741  182956.0  87.647372\n",
       "5             2023          204843  181402.0  88.556602\n",
       "6             2024          201475  178675.0  88.683459"
      ]
     },
     "execution_count": 234,
     "metadata": {},
     "output_type": "execute_result"
    }
   ],
   "source": [
    "general_data_population"
   ]
  },
  {
   "cell_type": "code",
   "execution_count": 235,
   "metadata": {},
   "outputs": [
    {
     "data": {
      "text/plain": [
       "0.9788900474312925"
      ]
     },
     "execution_count": 235,
     "metadata": {},
     "output_type": "execute_result"
    }
   ],
   "source": [
    "x = general_data_population['Graduation Year'].values\n",
    "y = general_data_population['Grad %'].values\n",
    "np.corrcoef(x, y)[0,1]"
   ]
  },
  {
   "cell_type": "code",
   "execution_count": 236,
   "metadata": {},
   "outputs": [
    {
     "data": {
      "text/html": [
       "<style>#sk-container-id-1 {color: black;background-color: white;}#sk-container-id-1 pre{padding: 0;}#sk-container-id-1 div.sk-toggleable {background-color: white;}#sk-container-id-1 label.sk-toggleable__label {cursor: pointer;display: block;width: 100%;margin-bottom: 0;padding: 0.3em;box-sizing: border-box;text-align: center;}#sk-container-id-1 label.sk-toggleable__label-arrow:before {content: \"▸\";float: left;margin-right: 0.25em;color: #696969;}#sk-container-id-1 label.sk-toggleable__label-arrow:hover:before {color: black;}#sk-container-id-1 div.sk-estimator:hover label.sk-toggleable__label-arrow:before {color: black;}#sk-container-id-1 div.sk-toggleable__content {max-height: 0;max-width: 0;overflow: hidden;text-align: left;background-color: #f0f8ff;}#sk-container-id-1 div.sk-toggleable__content pre {margin: 0.2em;color: black;border-radius: 0.25em;background-color: #f0f8ff;}#sk-container-id-1 input.sk-toggleable__control:checked~div.sk-toggleable__content {max-height: 200px;max-width: 100%;overflow: auto;}#sk-container-id-1 input.sk-toggleable__control:checked~label.sk-toggleable__label-arrow:before {content: \"▾\";}#sk-container-id-1 div.sk-estimator input.sk-toggleable__control:checked~label.sk-toggleable__label {background-color: #d4ebff;}#sk-container-id-1 div.sk-label input.sk-toggleable__control:checked~label.sk-toggleable__label {background-color: #d4ebff;}#sk-container-id-1 input.sk-hidden--visually {border: 0;clip: rect(1px 1px 1px 1px);clip: rect(1px, 1px, 1px, 1px);height: 1px;margin: -1px;overflow: hidden;padding: 0;position: absolute;width: 1px;}#sk-container-id-1 div.sk-estimator {font-family: monospace;background-color: #f0f8ff;border: 1px dotted black;border-radius: 0.25em;box-sizing: border-box;margin-bottom: 0.5em;}#sk-container-id-1 div.sk-estimator:hover {background-color: #d4ebff;}#sk-container-id-1 div.sk-parallel-item::after {content: \"\";width: 100%;border-bottom: 1px solid gray;flex-grow: 1;}#sk-container-id-1 div.sk-label:hover label.sk-toggleable__label {background-color: #d4ebff;}#sk-container-id-1 div.sk-serial::before {content: \"\";position: absolute;border-left: 1px solid gray;box-sizing: border-box;top: 0;bottom: 0;left: 50%;z-index: 0;}#sk-container-id-1 div.sk-serial {display: flex;flex-direction: column;align-items: center;background-color: white;padding-right: 0.2em;padding-left: 0.2em;position: relative;}#sk-container-id-1 div.sk-item {position: relative;z-index: 1;}#sk-container-id-1 div.sk-parallel {display: flex;align-items: stretch;justify-content: center;background-color: white;position: relative;}#sk-container-id-1 div.sk-item::before, #sk-container-id-1 div.sk-parallel-item::before {content: \"\";position: absolute;border-left: 1px solid gray;box-sizing: border-box;top: 0;bottom: 0;left: 50%;z-index: -1;}#sk-container-id-1 div.sk-parallel-item {display: flex;flex-direction: column;z-index: 1;position: relative;background-color: white;}#sk-container-id-1 div.sk-parallel-item:first-child::after {align-self: flex-end;width: 50%;}#sk-container-id-1 div.sk-parallel-item:last-child::after {align-self: flex-start;width: 50%;}#sk-container-id-1 div.sk-parallel-item:only-child::after {width: 0;}#sk-container-id-1 div.sk-dashed-wrapped {border: 1px dashed gray;margin: 0 0.4em 0.5em 0.4em;box-sizing: border-box;padding-bottom: 0.4em;background-color: white;}#sk-container-id-1 div.sk-label label {font-family: monospace;font-weight: bold;display: inline-block;line-height: 1.2em;}#sk-container-id-1 div.sk-label-container {text-align: center;}#sk-container-id-1 div.sk-container {/* jupyter's `normalize.less` sets `[hidden] { display: none; }` but bootstrap.min.css set `[hidden] { display: none !important; }` so we also need the `!important` here to be able to override the default hidden behavior on the sphinx rendered scikit-learn.org. See: https://github.com/scikit-learn/scikit-learn/issues/21755 */display: inline-block !important;position: relative;}#sk-container-id-1 div.sk-text-repr-fallback {display: none;}</style><div id=\"sk-container-id-1\" class=\"sk-top-container\"><div class=\"sk-text-repr-fallback\"><pre>LinearRegression()</pre><b>In a Jupyter environment, please rerun this cell to show the HTML representation or trust the notebook. <br />On GitHub, the HTML representation is unable to render, please try loading this page with nbviewer.org.</b></div><div class=\"sk-container\" hidden><div class=\"sk-item\"><div class=\"sk-estimator sk-toggleable\"><input class=\"sk-toggleable__control sk-hidden--visually\" id=\"sk-estimator-id-1\" type=\"checkbox\" checked><label for=\"sk-estimator-id-1\" class=\"sk-toggleable__label sk-toggleable__label-arrow\">LinearRegression</label><div class=\"sk-toggleable__content\"><pre>LinearRegression()</pre></div></div></div></div></div>"
      ],
      "text/plain": [
       "LinearRegression()"
      ]
     },
     "execution_count": 236,
     "metadata": {},
     "output_type": "execute_result"
    }
   ],
   "source": [
    "x = x.reshape(-1,1)\n",
    "model = LinearRegression()\n",
    "model.fit(x,y)"
   ]
  },
  {
   "cell_type": "code",
   "execution_count": 257,
   "metadata": {},
   "outputs": [],
   "source": [
    "def get_future_years(df):\n",
    "    future_years = []\n",
    "    for i in range(1,6):\n",
    "        future_years.append(df['Graduation Year'].max() + i)\n",
    "    \n",
    "    future_years = np.array(future_years)\n",
    "    return future_years"
   ]
  },
  {
   "cell_type": "code",
   "execution_count": 258,
   "metadata": {},
   "outputs": [
    {
     "data": {
      "text/plain": [
       "array([2025, 2026, 2027, 2028, 2029])"
      ]
     },
     "execution_count": 258,
     "metadata": {},
     "output_type": "execute_result"
    }
   ],
   "source": [
    "future_years = get_future_years(general_data_population)\n",
    "future_years"
   ]
  },
  {
   "cell_type": "code",
   "execution_count": 259,
   "metadata": {},
   "outputs": [
    {
     "data": {
      "text/plain": [
       "array([91.10165984, 92.50712479, 93.91258974, 95.31805469, 96.72351964])"
      ]
     },
     "execution_count": 259,
     "metadata": {},
     "output_type": "execute_result"
    }
   ],
   "source": [
    "future_preds = model.predict(future_years.reshape(-1,1))\n",
    "future_preds"
   ]
  },
  {
   "cell_type": "code",
   "execution_count": 260,
   "metadata": {},
   "outputs": [
    {
     "data": {
      "text/plain": [
       "array([81.26340518, 82.66887013, 84.07433508, 85.47980003, 86.88526499,\n",
       "       88.29072994, 89.69619489])"
      ]
     },
     "execution_count": 260,
     "metadata": {},
     "output_type": "execute_result"
    }
   ],
   "source": [
    "current_trend = model.predict(x)\n",
    "current_trend"
   ]
  },
  {
   "cell_type": "code",
   "execution_count": 261,
   "metadata": {},
   "outputs": [
    {
     "data": {
      "text/plain": [
       "0.9582257249600389"
      ]
     },
     "execution_count": 261,
     "metadata": {},
     "output_type": "execute_result"
    }
   ],
   "source": [
    "r2_score(y, current_trend)"
   ]
  },
  {
   "cell_type": "code",
   "execution_count": 267,
   "metadata": {},
   "outputs": [
    {
     "data": {
      "application/vnd.plotly.v1+json": {
       "config": {
        "plotlyServerURL": "https://plot.ly"
       },
       "data": [
        {
         "mode": "markers",
         "name": "Current Data",
         "type": "scatter",
         "x": [
          2018,
          2019,
          2020,
          2021,
          2022,
          2023,
          2024
         ],
         "y": [
          80.94479183267866,
          82.19294338295627,
          84.23767298006933,
          86.09575905299059,
          87.6473716232077,
          88.55660188534634,
          88.68345948628861
         ]
        },
        {
         "mode": "lines",
         "name": "Current Trend",
         "type": "scatter",
         "x": [
          2018,
          2019,
          2020,
          2021,
          2022,
          2023,
          2024
         ],
         "y": [
          81.26340518385359,
          82.6688701341659,
          84.07433508447866,
          85.47980003479097,
          86.88526498510328,
          88.29072993541604,
          89.69619488572835
         ]
        },
        {
         "marker": {
          "size": 10,
          "symbol": "x"
         },
         "mode": "markers",
         "name": "Predictions",
         "type": "scatter",
         "x": [
          2025,
          2026,
          2027,
          2028,
          2029
         ],
         "y": [
          91.10165983604065,
          92.50712478635342,
          93.91258973666572,
          95.31805468697803,
          96.72351963729034
         ]
        }
       ],
       "layout": {
        "template": {
         "layout": {
          "plot_bgcolor": "white",
          "xaxis": {
           "gridcolor": "lightgray"
          },
          "yaxis": {
           "gridcolor": "lightgray"
          }
         }
        },
        "title": {
         "text": "Graduation Rate Predictions for the Next 5 Years"
        },
        "xaxis": {
         "ticktext": [
          2018,
          2019,
          2020,
          2021,
          2022,
          2023,
          2024,
          2025,
          2026,
          2027,
          2028,
          2029
         ],
         "tickvals": [
          2018,
          2019,
          2020,
          2021,
          2022,
          2023,
          2024,
          2025,
          2026,
          2027,
          2028,
          2029
         ],
         "title": {
          "text": "Cohort Year"
         }
        },
        "yaxis": {
         "title": {
          "text": "% Graduates"
         }
        }
       }
      }
     },
     "metadata": {},
     "output_type": "display_data"
    }
   ],
   "source": [
    "fig = go.Figure()\n",
    "\n",
    "fig.add_trace(go.Scatter(x=general_data_population['Graduation Year'], y=general_data_population['Grad %'], mode='markers', name='Current Data'))\n",
    "fig.add_trace(go.Scatter(x=general_data_population['Graduation Year'], y=current_trend, mode='lines', name='Current Trend'))\n",
    "fig.add_trace(go.Scatter(x=future_years, y=future_preds, mode='markers', marker=dict(symbol=\"x\", size=10), name='Predictions'))\n",
    "fig.update_layout(\n",
    "    title=\"Graduation Rate Predictions for the Next 5 Years\",\n",
    "    xaxis_title=\"Cohort Year\",\n",
    "    yaxis_title=\"% Graduates\",\n",
    "    xaxis=dict(\n",
    "        tickvals=np.append(general_data_population['Graduation Year'].values,future_years), \n",
    "        ticktext=np.append(general_data_population['Graduation Year'].values,future_years)\n",
    "    )\n",
    ")"
   ]
  },
  {
   "cell_type": "markdown",
   "metadata": {},
   "source": [
    "### Cluster"
   ]
  },
  {
   "cell_type": "code",
   "execution_count": 268,
   "metadata": {},
   "outputs": [
    {
     "data": {
      "text/html": [
       "<div>\n",
       "<style scoped>\n",
       "    .dataframe tbody tr th:only-of-type {\n",
       "        vertical-align: middle;\n",
       "    }\n",
       "\n",
       "    .dataframe tbody tr th {\n",
       "        vertical-align: top;\n",
       "    }\n",
       "\n",
       "    .dataframe thead th {\n",
       "        text-align: right;\n",
       "    }\n",
       "</style>\n",
       "<table border=\"1\" class=\"dataframe\">\n",
       "  <thead>\n",
       "    <tr style=\"text-align: right;\">\n",
       "      <th></th>\n",
       "      <th>Cluster</th>\n",
       "      <th>Graduation Year</th>\n",
       "      <th># Total Cohort</th>\n",
       "      <th># Grads</th>\n",
       "      <th>Grad %</th>\n",
       "    </tr>\n",
       "  </thead>\n",
       "  <tbody>\n",
       "    <tr>\n",
       "      <th>0</th>\n",
       "      <td>0</td>\n",
       "      <td>2018</td>\n",
       "      <td>16531</td>\n",
       "      <td>6148.0</td>\n",
       "      <td>37.190733</td>\n",
       "    </tr>\n",
       "    <tr>\n",
       "      <th>1</th>\n",
       "      <td>0</td>\n",
       "      <td>2019</td>\n",
       "      <td>16447</td>\n",
       "      <td>6224.0</td>\n",
       "      <td>37.842768</td>\n",
       "    </tr>\n",
       "    <tr>\n",
       "      <th>2</th>\n",
       "      <td>0</td>\n",
       "      <td>2020</td>\n",
       "      <td>16496</td>\n",
       "      <td>6795.0</td>\n",
       "      <td>41.191804</td>\n",
       "    </tr>\n",
       "    <tr>\n",
       "      <th>3</th>\n",
       "      <td>0</td>\n",
       "      <td>2021</td>\n",
       "      <td>15057</td>\n",
       "      <td>6770.0</td>\n",
       "      <td>44.962476</td>\n",
       "    </tr>\n",
       "    <tr>\n",
       "      <th>4</th>\n",
       "      <td>0</td>\n",
       "      <td>2022</td>\n",
       "      <td>13333</td>\n",
       "      <td>6214.0</td>\n",
       "      <td>46.606165</td>\n",
       "    </tr>\n",
       "    <tr>\n",
       "      <th>5</th>\n",
       "      <td>0</td>\n",
       "      <td>2023</td>\n",
       "      <td>12250</td>\n",
       "      <td>5578.0</td>\n",
       "      <td>45.534694</td>\n",
       "    </tr>\n",
       "    <tr>\n",
       "      <th>6</th>\n",
       "      <td>0</td>\n",
       "      <td>2024</td>\n",
       "      <td>12553</td>\n",
       "      <td>5896.0</td>\n",
       "      <td>46.968852</td>\n",
       "    </tr>\n",
       "    <tr>\n",
       "      <th>7</th>\n",
       "      <td>1</td>\n",
       "      <td>2018</td>\n",
       "      <td>92602</td>\n",
       "      <td>69497.0</td>\n",
       "      <td>75.049135</td>\n",
       "    </tr>\n",
       "    <tr>\n",
       "      <th>8</th>\n",
       "      <td>1</td>\n",
       "      <td>2019</td>\n",
       "      <td>91860</td>\n",
       "      <td>71002.0</td>\n",
       "      <td>77.293708</td>\n",
       "    </tr>\n",
       "    <tr>\n",
       "      <th>9</th>\n",
       "      <td>1</td>\n",
       "      <td>2020</td>\n",
       "      <td>91519</td>\n",
       "      <td>73368.0</td>\n",
       "      <td>80.166960</td>\n",
       "    </tr>\n",
       "    <tr>\n",
       "      <th>10</th>\n",
       "      <td>1</td>\n",
       "      <td>2021</td>\n",
       "      <td>89558</td>\n",
       "      <td>73885.0</td>\n",
       "      <td>82.499609</td>\n",
       "    </tr>\n",
       "    <tr>\n",
       "      <th>11</th>\n",
       "      <td>1</td>\n",
       "      <td>2022</td>\n",
       "      <td>87279</td>\n",
       "      <td>73669.0</td>\n",
       "      <td>84.406329</td>\n",
       "    </tr>\n",
       "    <tr>\n",
       "      <th>12</th>\n",
       "      <td>1</td>\n",
       "      <td>2023</td>\n",
       "      <td>84601</td>\n",
       "      <td>72675.0</td>\n",
       "      <td>85.903240</td>\n",
       "    </tr>\n",
       "    <tr>\n",
       "      <th>13</th>\n",
       "      <td>1</td>\n",
       "      <td>2024</td>\n",
       "      <td>81792</td>\n",
       "      <td>70493.0</td>\n",
       "      <td>86.185691</td>\n",
       "    </tr>\n",
       "    <tr>\n",
       "      <th>14</th>\n",
       "      <td>2</td>\n",
       "      <td>2018</td>\n",
       "      <td>104205</td>\n",
       "      <td>97041.0</td>\n",
       "      <td>93.125090</td>\n",
       "    </tr>\n",
       "    <tr>\n",
       "      <th>15</th>\n",
       "      <td>2</td>\n",
       "      <td>2019</td>\n",
       "      <td>104817</td>\n",
       "      <td>97932.0</td>\n",
       "      <td>93.431409</td>\n",
       "    </tr>\n",
       "    <tr>\n",
       "      <th>16</th>\n",
       "      <td>2</td>\n",
       "      <td>2020</td>\n",
       "      <td>105522</td>\n",
       "      <td>99713.0</td>\n",
       "      <td>94.494987</td>\n",
       "    </tr>\n",
       "    <tr>\n",
       "      <th>17</th>\n",
       "      <td>2</td>\n",
       "      <td>2021</td>\n",
       "      <td>106185</td>\n",
       "      <td>100867.0</td>\n",
       "      <td>94.991760</td>\n",
       "    </tr>\n",
       "    <tr>\n",
       "      <th>18</th>\n",
       "      <td>2</td>\n",
       "      <td>2022</td>\n",
       "      <td>106950</td>\n",
       "      <td>102083.0</td>\n",
       "      <td>95.449275</td>\n",
       "    </tr>\n",
       "    <tr>\n",
       "      <th>19</th>\n",
       "      <td>2</td>\n",
       "      <td>2023</td>\n",
       "      <td>106664</td>\n",
       "      <td>102001.0</td>\n",
       "      <td>95.628328</td>\n",
       "    </tr>\n",
       "    <tr>\n",
       "      <th>20</th>\n",
       "      <td>2</td>\n",
       "      <td>2024</td>\n",
       "      <td>105609</td>\n",
       "      <td>100954.0</td>\n",
       "      <td>95.592232</td>\n",
       "    </tr>\n",
       "  </tbody>\n",
       "</table>\n",
       "</div>"
      ],
      "text/plain": [
       "    Cluster  Graduation Year  # Total Cohort   # Grads     Grad %\n",
       "0         0             2018           16531    6148.0  37.190733\n",
       "1         0             2019           16447    6224.0  37.842768\n",
       "2         0             2020           16496    6795.0  41.191804\n",
       "3         0             2021           15057    6770.0  44.962476\n",
       "4         0             2022           13333    6214.0  46.606165\n",
       "5         0             2023           12250    5578.0  45.534694\n",
       "6         0             2024           12553    5896.0  46.968852\n",
       "7         1             2018           92602   69497.0  75.049135\n",
       "8         1             2019           91860   71002.0  77.293708\n",
       "9         1             2020           91519   73368.0  80.166960\n",
       "10        1             2021           89558   73885.0  82.499609\n",
       "11        1             2022           87279   73669.0  84.406329\n",
       "12        1             2023           84601   72675.0  85.903240\n",
       "13        1             2024           81792   70493.0  86.185691\n",
       "14        2             2018          104205   97041.0  93.125090\n",
       "15        2             2019          104817   97932.0  93.431409\n",
       "16        2             2020          105522   99713.0  94.494987\n",
       "17        2             2021          106185  100867.0  94.991760\n",
       "18        2             2022          106950  102083.0  95.449275\n",
       "19        2             2023          106664  102001.0  95.628328\n",
       "20        2             2024          105609  100954.0  95.592232"
      ]
     },
     "execution_count": 268,
     "metadata": {},
     "output_type": "execute_result"
    }
   ],
   "source": [
    "general_data_cluster_rate"
   ]
  },
  {
   "cell_type": "code",
   "execution_count": 281,
   "metadata": {},
   "outputs": [
    {
     "data": {
      "application/vnd.plotly.v1+json": {
       "config": {
        "plotlyServerURL": "https://plot.ly"
       },
       "data": [
        {
         "marker": {
          "color": "#1f77b4"
         },
         "mode": "markers",
         "name": "Current Data",
         "showlegend": false,
         "type": "scatter",
         "x": [
          2018,
          2019,
          2020,
          2021,
          2022,
          2023,
          2024
         ],
         "xaxis": "x",
         "y": [
          37.190732563063335,
          37.84276767799599,
          41.19180407371484,
          44.962475924819024,
          46.60616515412885,
          45.53469387755102,
          46.96885206723492
         ],
         "yaxis": "y"
        },
        {
         "line": {
          "color": "#1f77b4"
         },
         "mode": "lines",
         "name": "Current Trend",
         "showlegend": false,
         "type": "scatter",
         "x": [
          2018,
          2019,
          2020,
          2021,
          2022,
          2023,
          2024
         ],
         "xaxis": "x",
         "y": [
          37.52829462064028,
          39.31874362035569,
          41.10919262007155,
          42.89964161978696,
          44.690090619502826,
          46.480539619218234,
          48.2709886189341
         ],
         "yaxis": "y"
        },
        {
         "marker": {
          "color": "#1f77b4",
          "size": 10,
          "symbol": "x"
         },
         "mode": "markers",
         "name": "Predictions",
         "showlegend": false,
         "type": "scatter",
         "x": [
          2025,
          2026,
          2027,
          2028,
          2029
         ],
         "xaxis": "x",
         "y": [
          50.06143761864996,
          51.85188661836537,
          53.64233561808123,
          55.43278461779664,
          57.223233617512506
         ],
         "yaxis": "y"
        },
        {
         "marker": {
          "color": "#ff7f0e"
         },
         "mode": "markers",
         "name": "Current Data",
         "showlegend": false,
         "type": "scatter",
         "x": [
          2018,
          2019,
          2020,
          2021,
          2022,
          2023,
          2024
         ],
         "xaxis": "x2",
         "y": [
          75.0491350078832,
          77.2937078162421,
          80.16695986625729,
          82.49960919180866,
          84.40632912842723,
          85.90323991442182,
          86.18569053208138
         ],
         "yaxis": "y2"
        },
        {
         "line": {
          "color": "#ff7f0e"
         },
         "mode": "lines",
         "name": "Current Trend",
         "showlegend": false,
         "type": "scatter",
         "x": [
          2018,
          2019,
          2020,
          2021,
          2022,
          2023,
          2024
         ],
         "xaxis": "x2",
         "y": [
          75.76479949053964,
          77.7243744916509,
          79.68394949276262,
          81.64352449387434,
          83.6030994949856,
          85.56267449609732,
          87.52224949720903
         ],
         "yaxis": "y2"
        },
        {
         "marker": {
          "color": "#ff7f0e",
          "size": 10,
          "symbol": "x"
         },
         "mode": "markers",
         "name": "Predictions",
         "showlegend": false,
         "type": "scatter",
         "x": [
          2025,
          2026,
          2027,
          2028,
          2029
         ],
         "xaxis": "x2",
         "y": [
          89.4818244983203,
          91.44139949943201,
          93.40097450054373,
          95.36054950165544,
          97.3201245027667
         ],
         "yaxis": "y2"
        },
        {
         "marker": {
          "color": "#2ca02c"
         },
         "mode": "markers",
         "name": "Current Data",
         "type": "scatter",
         "x": [
          2018,
          2019,
          2020,
          2021,
          2022,
          2023,
          2024
         ],
         "xaxis": "x3",
         "y": [
          93.12508996689218,
          93.43140902716162,
          94.49498682739144,
          94.99175966473608,
          95.44927536231884,
          95.6283282082052,
          95.59223172267515
         ],
         "yaxis": "y3"
        },
        {
         "line": {
          "color": "#2ca02c"
         },
         "mode": "lines",
         "name": "Current Trend",
         "type": "scatter",
         "x": [
          2018,
          2019,
          2020,
          2021,
          2022,
          2023,
          2024
         ],
         "xaxis": "x3",
         "y": [
          93.30727380801545,
          93.76261495674271,
          94.21795610546997,
          94.67329725419722,
          95.1286384029246,
          95.58397955165185,
          96.03932070037911
         ],
         "yaxis": "y3"
        },
        {
         "marker": {
          "color": "#2ca02c",
          "size": 10,
          "symbol": "x"
         },
         "mode": "markers",
         "name": "Predictions",
         "type": "scatter",
         "x": [
          2025,
          2026,
          2027,
          2028,
          2029
         ],
         "xaxis": "x3",
         "y": [
          96.49466184910636,
          96.95000299783362,
          97.40534414656088,
          97.86068529528814,
          98.31602644401539
         ],
         "yaxis": "y3"
        }
       ],
       "layout": {
        "annotations": [
         {
          "font": {
           "size": 16
          },
          "showarrow": false,
          "text": "Cluster 0",
          "x": 0.14444444444444446,
          "xanchor": "center",
          "xref": "paper",
          "y": 1,
          "yanchor": "bottom",
          "yref": "paper"
         },
         {
          "font": {
           "size": 16
          },
          "showarrow": false,
          "text": "Cluster 1",
          "x": 0.5,
          "xanchor": "center",
          "xref": "paper",
          "y": 1,
          "yanchor": "bottom",
          "yref": "paper"
         },
         {
          "font": {
           "size": 16
          },
          "showarrow": false,
          "text": "Cluster 2",
          "x": 0.8555555555555556,
          "xanchor": "center",
          "xref": "paper",
          "y": 1,
          "yanchor": "bottom",
          "yref": "paper"
         }
        ],
        "template": {
         "layout": {
          "plot_bgcolor": "white",
          "xaxis": {
           "gridcolor": "lightgray"
          },
          "yaxis": {
           "gridcolor": "lightgray"
          }
         }
        },
        "title": {
         "text": "Graduation Rate Predictions for the Next 5 Years for Every Cluster"
        },
        "xaxis": {
         "anchor": "y",
         "domain": [
          0,
          0.2888888888888889
         ],
         "dtick": 2,
         "title": {
          "text": "Year"
         }
        },
        "xaxis2": {
         "anchor": "y2",
         "domain": [
          0.35555555555555557,
          0.6444444444444445
         ],
         "dtick": 2,
         "title": {
          "text": "Year"
         }
        },
        "xaxis3": {
         "anchor": "y3",
         "domain": [
          0.7111111111111111,
          1
         ],
         "dtick": 2,
         "title": {
          "text": "Year"
         }
        },
        "yaxis": {
         "anchor": "x",
         "domain": [
          0,
          1
         ],
         "range": [
          37.190732563063335,
          100
         ],
         "title": {
          "text": "Graduation %"
         }
        },
        "yaxis2": {
         "anchor": "x2",
         "domain": [
          0,
          1
         ],
         "range": [
          37.190732563063335,
          100
         ],
         "title": {
          "text": "Graduation %"
         }
        },
        "yaxis3": {
         "anchor": "x3",
         "domain": [
          0,
          1
         ],
         "range": [
          37.190732563063335,
          100
         ],
         "title": {
          "text": "Graduation %"
         }
        }
       }
      }
     },
     "metadata": {},
     "output_type": "display_data"
    }
   ],
   "source": [
    "fig = make_subplots(rows=1, cols=len(general_data_cluster_rate['Cluster'].unique()), subplot_titles=('Cluster 0', 'Cluster 1', 'Cluster 2'))\n",
    "\n",
    "for cluster in general_data_cluster_rate['Cluster'].unique():\n",
    "    cluster_row = general_data_cluster_rate[general_data_cluster_rate['Cluster'] == cluster]\n",
    "    cluster_index = general_data_cluster_rate['Cluster'].unique().tolist().index(cluster)\n",
    "    x = cluster_row['Graduation Year'].values\n",
    "    y = cluster_row['Grad %'].values\n",
    "    \n",
    "    x = x.reshape(-1,1)\n",
    "    model = LinearRegression()\n",
    "    model.fit(x,y)\n",
    "\n",
    "    future_years = get_future_years(general_data_population)\n",
    "    future_preds = model.predict(future_years.reshape(-1,1))\n",
    "    current_trend = model.predict(x)\n",
    "    fig.add_trace(go.Scatter(x=cluster_row['Graduation Year'], y=cluster_row['Grad %'], mode='markers', name='Current Data', marker=dict(color=colors[cluster_index])), row=1, col=cluster_index+1)\n",
    "    fig.add_trace(go.Scatter(x=cluster_row['Graduation Year'], y=current_trend, mode='lines', name='Current Trend', line=dict(color=colors[cluster_index])), row=1, col=cluster_index+1)\n",
    "    fig.add_trace(go.Scatter(x=future_years, y=future_preds, mode='markers', marker=dict(symbol=\"x\", size=10, color=colors[cluster_index]), name='Predictions'), row=1, col=cluster_index+1)\n",
    "    fig.update_yaxes(range=[general_data_cluster_rate['Grad %'].min(), 100], title_text='Graduation %')\n",
    "    fig.update_xaxes(dtick=2, title_text='Year')\n",
    "\n",
    "\n",
    "fig.update_layout(title=\"Graduation Rate Predictions for the Next 5 Years for Every Cluster\")\n",
    "\n",
    "for i in range(len(fig.data) - len(general_data_cluster_rate['Cluster'].unique())):\n",
    "    fig.data[i].showlegend=False\n",
    "fig.show()"
   ]
  }
 ],
 "metadata": {
  "kernelspec": {
   "display_name": "3.10.0",
   "language": "python",
   "name": "python3"
  },
  "language_info": {
   "codemirror_mode": {
    "name": "ipython",
    "version": 3
   },
   "file_extension": ".py",
   "mimetype": "text/x-python",
   "name": "python",
   "nbconvert_exporter": "python",
   "pygments_lexer": "ipython3",
   "version": "3.10.0"
  }
 },
 "nbformat": 4,
 "nbformat_minor": 2
}
